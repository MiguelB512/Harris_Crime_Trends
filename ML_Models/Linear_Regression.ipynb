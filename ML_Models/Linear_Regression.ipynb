{
 "cells": [
  {
   "cell_type": "markdown",
   "id": "d3b337e1",
   "metadata": {},
   "source": [
    "# Crime Statistics Linear Plotting"
   ]
  },
  {
   "cell_type": "markdown",
   "id": "16561be8",
   "metadata": {},
   "source": [
    "### Import Dependencies"
   ]
  },
  {
   "cell_type": "code",
   "execution_count": 1,
   "id": "c115b150",
   "metadata": {},
   "outputs": [],
   "source": [
    "import os\n",
    "import warnings\n",
    "warnings.filterwarnings('ignore')"
   ]
  },
  {
   "cell_type": "code",
   "execution_count": 2,
   "id": "4b701057",
   "metadata": {},
   "outputs": [],
   "source": [
    "import numpy as np\n",
    "import pandas as pd\n",
    "from pathlib import Path\n",
    "from collections import Counter\n",
    "import matplotlib.pyplot as plt\n",
    "from sklearn.linear_model import LinearRegression\n",
    "%matplotlib inline"
   ]
  },
  {
   "cell_type": "markdown",
   "id": "a2601700",
   "metadata": {},
   "source": [
    "### Read the Crime_Data.CSV and Perform Basic Data Cleaning"
   ]
  },
  {
   "cell_type": "code",
   "execution_count": 3,
   "id": "372c464b",
   "metadata": {},
   "outputs": [],
   "source": [
    "# Load the data\n",
    "df = pd.read_csv('../Resources/CSV/crime_data.csv')"
   ]
  },
  {
   "cell_type": "code",
   "execution_count": 4,
   "id": "2688ed59",
   "metadata": {},
   "outputs": [
    {
     "data": {
      "text/html": [
       "<div>\n",
       "<style scoped>\n",
       "    .dataframe tbody tr th:only-of-type {\n",
       "        vertical-align: middle;\n",
       "    }\n",
       "\n",
       "    .dataframe tbody tr th {\n",
       "        vertical-align: top;\n",
       "    }\n",
       "\n",
       "    .dataframe thead th {\n",
       "        text-align: right;\n",
       "    }\n",
       "</style>\n",
       "<table border=\"1\" class=\"dataframe\">\n",
       "  <thead>\n",
       "    <tr style=\"text-align: right;\">\n",
       "      <th></th>\n",
       "      <th>County</th>\n",
       "      <th>Agency_Count</th>\n",
       "      <th>Murder</th>\n",
       "      <th>Rape</th>\n",
       "      <th>Assault</th>\n",
       "      <th>Burglary</th>\n",
       "      <th>Larceny</th>\n",
       "      <th>Auto_Theft</th>\n",
       "      <th>Violent_Offenses</th>\n",
       "      <th>NonViolent_Offenses</th>\n",
       "      <th>Total_Crime</th>\n",
       "      <th>Population</th>\n",
       "    </tr>\n",
       "  </thead>\n",
       "  <tbody>\n",
       "    <tr>\n",
       "      <th>0</th>\n",
       "      <td>Anderson County</td>\n",
       "      <td>3</td>\n",
       "      <td>9</td>\n",
       "      <td>38</td>\n",
       "      <td>195</td>\n",
       "      <td>319</td>\n",
       "      <td>749</td>\n",
       "      <td>75</td>\n",
       "      <td>242</td>\n",
       "      <td>1143</td>\n",
       "      <td>1407</td>\n",
       "      <td>57560</td>\n",
       "    </tr>\n",
       "    <tr>\n",
       "      <th>1</th>\n",
       "      <td>Anderson County</td>\n",
       "      <td>3</td>\n",
       "      <td>2</td>\n",
       "      <td>44</td>\n",
       "      <td>237</td>\n",
       "      <td>259</td>\n",
       "      <td>485</td>\n",
       "      <td>94</td>\n",
       "      <td>283</td>\n",
       "      <td>838</td>\n",
       "      <td>1145</td>\n",
       "      <td>57250</td>\n",
       "    </tr>\n",
       "    <tr>\n",
       "      <th>2</th>\n",
       "      <td>Anderson County</td>\n",
       "      <td>3</td>\n",
       "      <td>2</td>\n",
       "      <td>25</td>\n",
       "      <td>153</td>\n",
       "      <td>278</td>\n",
       "      <td>536</td>\n",
       "      <td>64</td>\n",
       "      <td>180</td>\n",
       "      <td>878</td>\n",
       "      <td>1078</td>\n",
       "      <td>57569</td>\n",
       "    </tr>\n",
       "    <tr>\n",
       "      <th>3</th>\n",
       "      <td>Anderson County</td>\n",
       "      <td>3</td>\n",
       "      <td>1</td>\n",
       "      <td>8</td>\n",
       "      <td>96</td>\n",
       "      <td>198</td>\n",
       "      <td>531</td>\n",
       "      <td>62</td>\n",
       "      <td>105</td>\n",
       "      <td>791</td>\n",
       "      <td>907</td>\n",
       "      <td>57491</td>\n",
       "    </tr>\n",
       "    <tr>\n",
       "      <th>4</th>\n",
       "      <td>Anderson County</td>\n",
       "      <td>3</td>\n",
       "      <td>2</td>\n",
       "      <td>23</td>\n",
       "      <td>100</td>\n",
       "      <td>249</td>\n",
       "      <td>514</td>\n",
       "      <td>82</td>\n",
       "      <td>125</td>\n",
       "      <td>845</td>\n",
       "      <td>984</td>\n",
       "      <td>57657</td>\n",
       "    </tr>\n",
       "  </tbody>\n",
       "</table>\n",
       "</div>"
      ],
      "text/plain": [
       "            County  Agency_Count  Murder  Rape  Assault  Burglary  Larceny  \\\n",
       "0  Anderson County             3       9    38      195       319      749   \n",
       "1  Anderson County             3       2    44      237       259      485   \n",
       "2  Anderson County             3       2    25      153       278      536   \n",
       "3  Anderson County             3       1     8       96       198      531   \n",
       "4  Anderson County             3       2    23      100       249      514   \n",
       "\n",
       "   Auto_Theft  Violent_Offenses  NonViolent_Offenses  Total_Crime  Population  \n",
       "0          75               242                 1143         1407       57560  \n",
       "1          94               283                  838         1145       57250  \n",
       "2          64               180                  878         1078       57569  \n",
       "3          62               105                  791          907       57491  \n",
       "4          82               125                  845          984       57657  "
      ]
     },
     "execution_count": 4,
     "metadata": {},
     "output_type": "execute_result"
    }
   ],
   "source": [
    "# Drop the year column to not skew data with year count and averages\n",
    "df = df.drop(columns =['Year'])\n",
    "df.head()"
   ]
  },
  {
   "cell_type": "markdown",
   "id": "312a1c1f",
   "metadata": {},
   "source": [
    "### Linear Regression crime_data.csv"
   ]
  },
  {
   "cell_type": "code",
   "execution_count": 5,
   "id": "db33b580",
   "metadata": {},
   "outputs": [
    {
     "data": {
      "image/png": "[encoded data removed]",
      "text/plain": [
       "<Figure size 432x288 with 1 Axes>"
      ]
     },
     "metadata": {
      "needs_background": "light"
     },
     "output_type": "display_data"
    }
   ],
   "source": [
    "# Visually inspect Population and Total Crime\n",
    "plt.scatter(df.Population, df.Total_Crime)\n",
    "plt.xlabel('Population')\n",
    "plt.ylabel('Total Crime')\n",
    "plt.show()"
   ]
  },
  {
   "cell_type": "code",
   "execution_count": 6,
   "id": "9c43fea0",
   "metadata": {},
   "outputs": [],
   "source": [
    "# Format code to meet Scikit-leran library\n",
    "X = df.Population.values.reshape(-1, 1)"
   ]
  },
  {
   "cell_type": "code",
   "execution_count": 7,
   "id": "d1cd2b66",
   "metadata": {},
   "outputs": [
    {
     "data": {
      "text/plain": [
       "array([[57560],\n",
       "       [57250],\n",
       "       [57569],\n",
       "       [57491],\n",
       "       [57657]], dtype=int64)"
      ]
     },
     "execution_count": 7,
     "metadata": {},
     "output_type": "execute_result"
    }
   ],
   "source": [
    "# Examine first five entries of X\n",
    "X[:5]"
   ]
  },
  {
   "cell_type": "code",
   "execution_count": 8,
   "id": "27ded9ae",
   "metadata": {},
   "outputs": [
    {
     "data": {
      "text/plain": [
       "(1512, 1)"
      ]
     },
     "execution_count": 8,
     "metadata": {},
     "output_type": "execute_result"
    }
   ],
   "source": [
    "# Examine shape of X\n",
    "X.shape"
   ]
  },
  {
   "cell_type": "code",
   "execution_count": 9,
   "id": "263dcbea",
   "metadata": {},
   "outputs": [],
   "source": [
    "# Assign Target variable\n",
    "y = df.Total_Crime"
   ]
  },
  {
   "cell_type": "code",
   "execution_count": 10,
   "id": "292b7f91",
   "metadata": {},
   "outputs": [],
   "source": [
    "# Create instance of linear regression model\n",
    "model = LinearRegression()"
   ]
  },
  {
   "cell_type": "code",
   "execution_count": 11,
   "id": "eba64d13",
   "metadata": {},
   "outputs": [
    {
     "data": {
      "text/plain": [
       "LinearRegression()"
      ]
     },
     "execution_count": 11,
     "metadata": {},
     "output_type": "execute_result"
    }
   ],
   "source": [
    "# Fitting/Training the model\n",
    "model.fit(X, y)"
   ]
  },
  {
   "cell_type": "code",
   "execution_count": 12,
   "id": "1daea037",
   "metadata": {},
   "outputs": [
    {
     "name": "stdout",
     "output_type": "stream",
     "text": [
      "(1512,)\n"
     ]
    }
   ],
   "source": [
    "# Generate predictions\n",
    "y_pred = model.predict(X)\n",
    "print(y_pred.shape)"
   ]
  },
  {
   "cell_type": "code",
   "execution_count": 13,
   "id": "2dc0c03f",
   "metadata": {},
   "outputs": [
    {
     "data": {
      "image/png": "[encoded data removed]",
      "text/plain": [
       "<Figure size 432x288 with 1 Axes>"
      ]
     },
     "metadata": {
      "needs_background": "light"
     },
     "output_type": "display_data"
    }
   ],
   "source": [
    "# Plot the predictions\n",
    "plt.scatter(X, y)\n",
    "plt.plot(X, y_pred, color='red')\n",
    "plt.xlabel('Population')\n",
    "plt.ylabel('Total Crime')\n",
    "plt.show()"
   ]
  },
  {
   "cell_type": "code",
   "execution_count": 14,
   "id": "cd0e583d",
   "metadata": {},
   "outputs": [
    {
     "name": "stdout",
     "output_type": "stream",
     "text": [
      "[0.03722864]\n",
      "-865.7151151228077\n"
     ]
    }
   ],
   "source": [
    "# Examine the soecific parameters and slope of y-intercept\n",
    "print(model.coef_)\n",
    "print(model.intercept_)"
   ]
  },
  {
   "cell_type": "markdown",
   "id": "28f199f1",
   "metadata": {},
   "source": [
    "### Read the Harris_Crime_Data.CSV and Perform Basic Data Cleaning"
   ]
  },
  {
   "cell_type": "code",
   "execution_count": 15,
   "id": "ce0654cc",
   "metadata": {},
   "outputs": [],
   "source": [
    "# Load the data\n",
    "df2 = pd.read_csv('../Resources/CSV/harris_crime_data.csv')"
   ]
  },
  {
   "cell_type": "code",
   "execution_count": 16,
   "id": "dc0817f4",
   "metadata": {},
   "outputs": [
    {
     "data": {
      "text/html": [
       "<div>\n",
       "<style scoped>\n",
       "    .dataframe tbody tr th:only-of-type {\n",
       "        vertical-align: middle;\n",
       "    }\n",
       "\n",
       "    .dataframe tbody tr th {\n",
       "        vertical-align: top;\n",
       "    }\n",
       "\n",
       "    .dataframe thead th {\n",
       "        text-align: right;\n",
       "    }\n",
       "</style>\n",
       "<table border=\"1\" class=\"dataframe\">\n",
       "  <thead>\n",
       "    <tr style=\"text-align: right;\">\n",
       "      <th></th>\n",
       "      <th>County</th>\n",
       "      <th>Agency_Count</th>\n",
       "      <th>Murder</th>\n",
       "      <th>Rape</th>\n",
       "      <th>Assault</th>\n",
       "      <th>Burglary</th>\n",
       "      <th>Larceny</th>\n",
       "      <th>Auto_Theft</th>\n",
       "      <th>Violent_Offenses</th>\n",
       "      <th>NonViolent_Offenses</th>\n",
       "      <th>Total_Crime</th>\n",
       "      <th>Population</th>\n",
       "    </tr>\n",
       "  </thead>\n",
       "  <tbody>\n",
       "    <tr>\n",
       "      <th>0</th>\n",
       "      <td>Harris County</td>\n",
       "      <td>42</td>\n",
       "      <td>404</td>\n",
       "      <td>1681</td>\n",
       "      <td>16599</td>\n",
       "      <td>32350</td>\n",
       "      <td>108284</td>\n",
       "      <td>21777</td>\n",
       "      <td>18684</td>\n",
       "      <td>162411</td>\n",
       "      <td>195386</td>\n",
       "      <td>4564664</td>\n",
       "    </tr>\n",
       "    <tr>\n",
       "      <th>1</th>\n",
       "      <td>Harris County</td>\n",
       "      <td>44</td>\n",
       "      <td>409</td>\n",
       "      <td>2011</td>\n",
       "      <td>18706</td>\n",
       "      <td>30221</td>\n",
       "      <td>112200</td>\n",
       "      <td>20484</td>\n",
       "      <td>21126</td>\n",
       "      <td>162905</td>\n",
       "      <td>197686</td>\n",
       "      <td>4646508</td>\n",
       "    </tr>\n",
       "    <tr>\n",
       "      <th>2</th>\n",
       "      <td>Harris County</td>\n",
       "      <td>44</td>\n",
       "      <td>376</td>\n",
       "      <td>2186</td>\n",
       "      <td>20660</td>\n",
       "      <td>27348</td>\n",
       "      <td>108968</td>\n",
       "      <td>18496</td>\n",
       "      <td>23222</td>\n",
       "      <td>154812</td>\n",
       "      <td>191319</td>\n",
       "      <td>4702468</td>\n",
       "    </tr>\n",
       "    <tr>\n",
       "      <th>3</th>\n",
       "      <td>Harris County</td>\n",
       "      <td>45</td>\n",
       "      <td>383</td>\n",
       "      <td>2294</td>\n",
       "      <td>21032</td>\n",
       "      <td>25594</td>\n",
       "      <td>105155</td>\n",
       "      <td>19563</td>\n",
       "      <td>23709</td>\n",
       "      <td>150312</td>\n",
       "      <td>185574</td>\n",
       "      <td>4753437</td>\n",
       "    </tr>\n",
       "    <tr>\n",
       "      <th>4</th>\n",
       "      <td>Harris County</td>\n",
       "      <td>45</td>\n",
       "      <td>398</td>\n",
       "      <td>2618</td>\n",
       "      <td>20005</td>\n",
       "      <td>26073</td>\n",
       "      <td>113162</td>\n",
       "      <td>20849</td>\n",
       "      <td>23021</td>\n",
       "      <td>160084</td>\n",
       "      <td>195047</td>\n",
       "      <td>4776485</td>\n",
       "    </tr>\n",
       "  </tbody>\n",
       "</table>\n",
       "</div>"
      ],
      "text/plain": [
       "          County  Agency_Count  Murder  Rape  Assault  Burglary  Larceny  \\\n",
       "0  Harris County            42     404  1681    16599     32350   108284   \n",
       "1  Harris County            44     409  2011    18706     30221   112200   \n",
       "2  Harris County            44     376  2186    20660     27348   108968   \n",
       "3  Harris County            45     383  2294    21032     25594   105155   \n",
       "4  Harris County            45     398  2618    20005     26073   113162   \n",
       "\n",
       "   Auto_Theft  Violent_Offenses  NonViolent_Offenses  Total_Crime  Population  \n",
       "0       21777             18684               162411       195386     4564664  \n",
       "1       20484             21126               162905       197686     4646508  \n",
       "2       18496             23222               154812       191319     4702468  \n",
       "3       19563             23709               150312       185574     4753437  \n",
       "4       20849             23021               160084       195047     4776485  "
      ]
     },
     "execution_count": 16,
     "metadata": {},
     "output_type": "execute_result"
    }
   ],
   "source": [
    "# Drop the year column to not skew data with year count and averages\n",
    "df2 = df2.drop(columns =['Year'])\n",
    "df2.head()"
   ]
  },
  {
   "cell_type": "markdown",
   "id": "d47db39a",
   "metadata": {},
   "source": [
    "### Linear Regression harris_crime_data.csv"
   ]
  },
  {
   "cell_type": "code",
   "execution_count": 17,
   "id": "ce49adce",
   "metadata": {},
   "outputs": [
    {
     "data": {
      "image/png": "[encoded data removed]",
      "text/plain": [
       "<Figure size 432x288 with 1 Axes>"
      ]
     },
     "metadata": {
      "needs_background": "light"
     },
     "output_type": "display_data"
    }
   ],
   "source": [
    "# Visually inspect harris county crime data by population and total crime\n",
    "plt.scatter(df2.Population, df2.Total_Crime)\n",
    "plt.xlabel('Population')\n",
    "plt.ylabel('Total Crime')\n",
    "plt.show()"
   ]
  },
  {
   "cell_type": "code",
   "execution_count": 18,
   "id": "39fd86c7",
   "metadata": {},
   "outputs": [],
   "source": [
    "# Format code to meet Scikit-leran library\n",
    "X = df2.Population.values.reshape(-1, 1)"
   ]
  },
  {
   "cell_type": "code",
   "execution_count": 19,
   "id": "2492310a",
   "metadata": {},
   "outputs": [
    {
     "data": {
      "text/plain": [
       "array([[4564664],\n",
       "       [4646508],\n",
       "       [4702468],\n",
       "       [4753437],\n",
       "       [4776485]], dtype=int64)"
      ]
     },
     "execution_count": 19,
     "metadata": {},
     "output_type": "execute_result"
    }
   ],
   "source": [
    "# Examine first five entries of X\n",
    "X[:5]"
   ]
  },
  {
   "cell_type": "code",
   "execution_count": 20,
   "id": "8cb2df21",
   "metadata": {},
   "outputs": [
    {
     "data": {
      "text/plain": [
       "(6, 1)"
      ]
     },
     "execution_count": 20,
     "metadata": {},
     "output_type": "execute_result"
    }
   ],
   "source": [
    "# Examine shape of X\n",
    "X.shape"
   ]
  },
  {
   "cell_type": "code",
   "execution_count": 21,
   "id": "0d5bca02",
   "metadata": {},
   "outputs": [],
   "source": [
    "# Assign Target variable\n",
    "y = df2.Total_Crime"
   ]
  },
  {
   "cell_type": "code",
   "execution_count": 22,
   "id": "57e4fe95",
   "metadata": {},
   "outputs": [],
   "source": [
    "# Create instance of linear regression model\n",
    "model = LinearRegression()"
   ]
  },
  {
   "cell_type": "code",
   "execution_count": 23,
   "id": "40a32edd",
   "metadata": {},
   "outputs": [
    {
     "data": {
      "text/plain": [
       "LinearRegression()"
      ]
     },
     "execution_count": 23,
     "metadata": {},
     "output_type": "execute_result"
    }
   ],
   "source": [
    "# Fitting/Training the model\n",
    "model.fit(X, y)"
   ]
  },
  {
   "cell_type": "code",
   "execution_count": 24,
   "id": "eb518c4c",
   "metadata": {},
   "outputs": [
    {
     "name": "stdout",
     "output_type": "stream",
     "text": [
      "(6,)\n"
     ]
    }
   ],
   "source": [
    "# Generate predictions\n",
    "y_pred = model.predict(X)\n",
    "print(y_pred.shape)"
   ]
  },
  {
   "cell_type": "code",
   "execution_count": 25,
   "id": "be26790a",
   "metadata": {},
   "outputs": [
    {
     "data": {
      "image/png": "[encoded data removed]",
      "text/plain": [
       "<Figure size 432x288 with 1 Axes>"
      ]
     },
     "metadata": {
      "needs_background": "light"
     },
     "output_type": "display_data"
    }
   ],
   "source": [
    "# Plot the predictions\n",
    "plt.scatter(X, y)\n",
    "plt.plot(X, y_pred, color='red')\n",
    "plt.xlabel('Population')\n",
    "plt.ylabel('Total Crime')\n",
    "plt.show()"
   ]
  },
  {
   "cell_type": "code",
   "execution_count": 26,
   "id": "91e6fb1e",
   "metadata": {},
   "outputs": [
    {
     "name": "stdout",
     "output_type": "stream",
     "text": [
      "[-0.01002283]\n",
      "240945.8150490946\n"
     ]
    }
   ],
   "source": [
    "# Examine the soecific parameters and slope of y-intercept\n",
    "print(model.coef_)\n",
    "print(model.intercept_)"
   ]
  },
  {
   "cell_type": "markdown",
   "id": "ba4c6b21",
   "metadata": {},
   "source": [
    "### Read the Outter_Hou_Counties.CSV and Perform Basic Data Cleaning"
   ]
  },
  {
   "cell_type": "code",
   "execution_count": 27,
   "id": "72145bb7",
   "metadata": {},
   "outputs": [],
   "source": [
    "# Load the data\n",
    "df3 = pd.read_csv('../Resources/CSV/outer_hou_counties.csv')"
   ]
  },
  {
   "cell_type": "code",
   "execution_count": 28,
   "id": "4288e087",
   "metadata": {},
   "outputs": [
    {
     "data": {
      "text/html": [
       "<div>\n",
       "<style scoped>\n",
       "    .dataframe tbody tr th:only-of-type {\n",
       "        vertical-align: middle;\n",
       "    }\n",
       "\n",
       "    .dataframe tbody tr th {\n",
       "        vertical-align: top;\n",
       "    }\n",
       "\n",
       "    .dataframe thead th {\n",
       "        text-align: right;\n",
       "    }\n",
       "</style>\n",
       "<table border=\"1\" class=\"dataframe\">\n",
       "  <thead>\n",
       "    <tr style=\"text-align: right;\">\n",
       "      <th></th>\n",
       "      <th>County</th>\n",
       "      <th>Agency_Count</th>\n",
       "      <th>Murder</th>\n",
       "      <th>Rape</th>\n",
       "      <th>Assault</th>\n",
       "      <th>Burglary</th>\n",
       "      <th>Larceny</th>\n",
       "      <th>Auto_Theft</th>\n",
       "      <th>Violent_Offenses</th>\n",
       "      <th>NonViolent_Offenses</th>\n",
       "      <th>Total_Crime</th>\n",
       "      <th>Population</th>\n",
       "    </tr>\n",
       "  </thead>\n",
       "  <tbody>\n",
       "    <tr>\n",
       "      <th>0</th>\n",
       "      <td>Austin County</td>\n",
       "      <td>5</td>\n",
       "      <td>0</td>\n",
       "      <td>8</td>\n",
       "      <td>53</td>\n",
       "      <td>121</td>\n",
       "      <td>283</td>\n",
       "      <td>13</td>\n",
       "      <td>61</td>\n",
       "      <td>417</td>\n",
       "      <td>482</td>\n",
       "      <td>29354</td>\n",
       "    </tr>\n",
       "    <tr>\n",
       "      <th>1</th>\n",
       "      <td>Austin County</td>\n",
       "      <td>5</td>\n",
       "      <td>0</td>\n",
       "      <td>6</td>\n",
       "      <td>43</td>\n",
       "      <td>136</td>\n",
       "      <td>239</td>\n",
       "      <td>31</td>\n",
       "      <td>49</td>\n",
       "      <td>406</td>\n",
       "      <td>466</td>\n",
       "      <td>29718</td>\n",
       "    </tr>\n",
       "    <tr>\n",
       "      <th>2</th>\n",
       "      <td>Austin County</td>\n",
       "      <td>5</td>\n",
       "      <td>0</td>\n",
       "      <td>11</td>\n",
       "      <td>34</td>\n",
       "      <td>98</td>\n",
       "      <td>183</td>\n",
       "      <td>45</td>\n",
       "      <td>45</td>\n",
       "      <td>326</td>\n",
       "      <td>376</td>\n",
       "      <td>29963</td>\n",
       "    </tr>\n",
       "    <tr>\n",
       "      <th>3</th>\n",
       "      <td>Austin County</td>\n",
       "      <td>5</td>\n",
       "      <td>0</td>\n",
       "      <td>11</td>\n",
       "      <td>32</td>\n",
       "      <td>82</td>\n",
       "      <td>138</td>\n",
       "      <td>29</td>\n",
       "      <td>43</td>\n",
       "      <td>249</td>\n",
       "      <td>295</td>\n",
       "      <td>29912</td>\n",
       "    </tr>\n",
       "    <tr>\n",
       "      <th>4</th>\n",
       "      <td>Austin County</td>\n",
       "      <td>5</td>\n",
       "      <td>0</td>\n",
       "      <td>5</td>\n",
       "      <td>38</td>\n",
       "      <td>80</td>\n",
       "      <td>147</td>\n",
       "      <td>29</td>\n",
       "      <td>43</td>\n",
       "      <td>256</td>\n",
       "      <td>302</td>\n",
       "      <td>30009</td>\n",
       "    </tr>\n",
       "  </tbody>\n",
       "</table>\n",
       "</div>"
      ],
      "text/plain": [
       "          County  Agency_Count  Murder  Rape  Assault  Burglary  Larceny  \\\n",
       "0  Austin County             5       0     8       53       121      283   \n",
       "1  Austin County             5       0     6       43       136      239   \n",
       "2  Austin County             5       0    11       34        98      183   \n",
       "3  Austin County             5       0    11       32        82      138   \n",
       "4  Austin County             5       0     5       38        80      147   \n",
       "\n",
       "   Auto_Theft  Violent_Offenses  NonViolent_Offenses  Total_Crime  Population  \n",
       "0          13                61                  417          482       29354  \n",
       "1          31                49                  406          466       29718  \n",
       "2          45                45                  326          376       29963  \n",
       "3          29                43                  249          295       29912  \n",
       "4          29                43                  256          302       30009  "
      ]
     },
     "execution_count": 28,
     "metadata": {},
     "output_type": "execute_result"
    }
   ],
   "source": [
    "# Drop the year column to not skew data with year count and averages\n",
    "df3 = df3.drop(columns =['Year'])\n",
    "df3.head()"
   ]
  },
  {
   "cell_type": "markdown",
   "id": "34f08031",
   "metadata": {},
   "source": [
    "### Linear Regression outter_hou_counties.csv"
   ]
  },
  {
   "cell_type": "code",
   "execution_count": 29,
   "id": "c97bffbc",
   "metadata": {},
   "outputs": [
    {
     "data": {
      "image/png": "[encoded data removed]",
      "text/plain": [
       "<Figure size 432x288 with 1 Axes>"
      ]
     },
     "metadata": {
      "needs_background": "light"
     },
     "output_type": "display_data"
    }
   ],
   "source": [
    "# Visually inspect counties surrounding houston greater area excluding harris county\n",
    "plt.scatter(df3.Population, df3.Total_Crime)\n",
    "plt.xlabel('Population')\n",
    "plt.ylabel('Total Crime')\n",
    "plt.show()"
   ]
  },
  {
   "cell_type": "code",
   "execution_count": 30,
   "id": "a7bb38d7",
   "metadata": {},
   "outputs": [],
   "source": [
    "# Format code to meet Scikit-leran library\n",
    "X = df3.Population.values.reshape(-1, 1)"
   ]
  },
  {
   "cell_type": "code",
   "execution_count": 31,
   "id": "fc9c4881",
   "metadata": {},
   "outputs": [
    {
     "data": {
      "text/plain": [
       "array([[29354],\n",
       "       [29718],\n",
       "       [29963],\n",
       "       [29912],\n",
       "       [30009]], dtype=int64)"
      ]
     },
     "execution_count": 31,
     "metadata": {},
     "output_type": "execute_result"
    }
   ],
   "source": [
    "# Examine first five entries of X\n",
    "X[:5]"
   ]
  },
  {
   "cell_type": "code",
   "execution_count": 32,
   "id": "2b1f1940",
   "metadata": {},
   "outputs": [
    {
     "data": {
      "text/plain": [
       "(96, 1)"
      ]
     },
     "execution_count": 32,
     "metadata": {},
     "output_type": "execute_result"
    }
   ],
   "source": [
    "# Examine shape of X\n",
    "X.shape"
   ]
  },
  {
   "cell_type": "code",
   "execution_count": 33,
   "id": "12bf5c97",
   "metadata": {},
   "outputs": [],
   "source": [
    "# Assign Target variable\n",
    "y = df3.Total_Crime"
   ]
  },
  {
   "cell_type": "code",
   "execution_count": 34,
   "id": "1b73528c",
   "metadata": {},
   "outputs": [],
   "source": [
    "# Create instance of linear regression model\n",
    "model = LinearRegression()"
   ]
  },
  {
   "cell_type": "code",
   "execution_count": 35,
   "id": "5408f911",
   "metadata": {},
   "outputs": [
    {
     "data": {
      "text/plain": [
       "LinearRegression()"
      ]
     },
     "execution_count": 35,
     "metadata": {},
     "output_type": "execute_result"
    }
   ],
   "source": [
    "# Fitting/Training the model\n",
    "model.fit(X, y)"
   ]
  },
  {
   "cell_type": "code",
   "execution_count": 36,
   "id": "1d2433fa",
   "metadata": {},
   "outputs": [
    {
     "name": "stdout",
     "output_type": "stream",
     "text": [
      "(96,)\n"
     ]
    }
   ],
   "source": [
    "# Generate predictions\n",
    "y_pred = model.predict(X)\n",
    "print(y_pred.shape)"
   ]
  },
  {
   "cell_type": "code",
   "execution_count": 37,
   "id": "92175bd8",
   "metadata": {},
   "outputs": [
    {
     "data": {
      "image/png": "[encoded data removed]",
      "text/plain": [
       "<Figure size 432x288 with 1 Axes>"
      ]
     },
     "metadata": {
      "needs_background": "light"
     },
     "output_type": "display_data"
    }
   ],
   "source": [
    "# Plot the predictions\n",
    "plt.scatter(X, y)\n",
    "plt.plot(X, y_pred, color='red')\n",
    "plt.xlabel('Population')\n",
    "plt.ylabel('Total Crime')\n",
    "plt.show()"
   ]
  },
  {
   "cell_type": "code",
   "execution_count": 38,
   "id": "ad972952",
   "metadata": {},
   "outputs": [
    {
     "name": "stdout",
     "output_type": "stream",
     "text": [
      "[0.01528145]\n",
      "520.8158991263199\n"
     ]
    }
   ],
   "source": [
    "# Examine the soecific parameters and slope of y-intercept\n",
    "print(model.coef_)\n",
    "print(model.intercept_)"
   ]
  }
 ],
 "metadata": {
  "kernelspec": {
   "display_name": "mlenv",
   "language": "python",
   "name": "mlenv"
  },
  "language_info": {
   "codemirror_mode": {
    "name": "ipython",
    "version": 3
   },
   "file_extension": ".py",
   "mimetype": "text/x-python",
   "name": "python",
   "nbconvert_exporter": "python",
   "pygments_lexer": "ipython3",
   "version": "3.7.13"
  }
 },
 "nbformat": 4,
 "nbformat_minor": 5
}
