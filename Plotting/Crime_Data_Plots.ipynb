{
 "cells": [
  {
   "cell_type": "markdown",
   "id": "3ace693d",
   "metadata": {},
   "source": [
    "# Crime Data Plots\n",
    "### Different plotting of crime data for visualization"
   ]
  },
  {
   "cell_type": "markdown",
   "id": "9caa72f5",
   "metadata": {},
   "source": [
    "## Import Dependencies"
   ]
  },
  {
   "cell_type": "code",
   "execution_count": 1,
   "id": "e1cc1688",
   "metadata": {},
   "outputs": [],
   "source": [
    "# Import dependencies\n",
    "import os \n",
    "import pandas as pd\n",
    "%matplotlib inline\n",
    "\n",
    "# Import Numpy\n",
    "import numpy as np\n",
    "\n",
    "# Import plots\n",
    "import matplotlib as plt\n",
    "import plotly.express as px"
   ]
  },
  {
   "cell_type": "code",
   "execution_count": 2,
   "id": "ad00aef6",
   "metadata": {},
   "outputs": [],
   "source": [
    "# Importing crime data CSV\n",
    "crime_df = pd.read_csv('../Resources/CSV/crime_data.csv')\n",
    "harris_df = pd.read_csv('../Resources/CSV/harris_crime_data.csv')\n",
    "outer_hou_df = pd.read_csv('../Resources/CSV/outer_hou_counties.csv')"
   ]
  },
  {
   "cell_type": "markdown",
   "id": "dd6a9baf",
   "metadata": {},
   "source": [
    "### Total Crime Texas from 2015-2020"
   ]
  },
  {
   "cell_type": "code",
   "execution_count": 5,
   "id": "bd6e285c",
   "metadata": {},
   "outputs": [
    {
     "data": {
      "application/vnd.plotly.v1+json": {
       "config": {
        "plotlyServerURL": "https://plot.ly"
       },
       "data": [
        {
         "hovertemplate": "County=Anderson County<br>Year=%{x}<br>Violent_Offenses=%{y}<extra></extra>",
         "legendgroup": "Anderson County",
         "line": {
          "color": "#636efa",
          "dash": "solid"
         },
         "marker": {
          "symbol": "circle"
         },
         "mode": "lines",
         "name": "Anderson County",
         "showlegend": true,
         "type": "scattergl",
         "x": [
          2015,
          2016,
          2017,
          2018,
          2019,
          2020
         ],
         "xaxis": "x",
         "y": [
          242,
          283,
          180,
          105,
          125,
          128
         ],
         "yaxis": "y"
        },
        {
         "hovertemplate": "County=Andrews County<br>Year=%{x}<br>Violent_Offenses=%{y}<extra></extra>",
         "legendgroup": "Andrews County",
         "line": {
          "color": "#EF553B",
          "dash": "solid"
         },
         "marker": {
          "symbol": "circle"
         },
         "mode": "lines",
         "name": "Andrews County",
         "showlegend": true,
         "type": "scattergl",
         "x": [
          2015,
          2016,
          2017,
          2018,
          2019,
          2020
         ],
         "xaxis": "x",
         "y": [
          82,
          83,
          62,
          71,
          82,
          66
         ],
         "yaxis": "y"
        },
        {
         "hovertemplate": "County=Angelina County<br>Year=%{x}<br>Violent_Offenses=%{y}<extra></extra>",
         "legendgroup": "Angelina County",
         "line": {
          "color": "#00cc96",
          "dash": "solid"
         },
         "marker": {
          "symbol": "circle"
         },
         "mode": "lines",
         "name": "Angelina County",
         "showlegend": true,
         "type": "scattergl",
         "x": [
          2015,
          2016,
          2017,
          2018,
          2019,
          2020
         ],
         "xaxis": "x",
         "y": [
          200,
          214,
          211,
          233,
          257,
          351
         ],
         "yaxis": "y"
        },
        {
         "hovertemplate": "County=Aransas County<br>Year=%{x}<br>Violent_Offenses=%{y}<extra></extra>",
         "legendgroup": "Aransas County",
         "line": {
          "color": "#ab63fa",
          "dash": "solid"
         },
         "marker": {
          "symbol": "circle"
         },
         "mode": "lines",
         "name": "Aransas County",
         "showlegend": true,
         "type": "scattergl",
         "x": [
          2015,
          2016,
          2017,
          2018,
          2019,
          2020
         ],
         "xaxis": "x",
         "y": [
          161,
          172,
          136,
          139,
          135,
          133
         ],
         "yaxis": "y"
        },
        {
         "hovertemplate": "County=Archer County<br>Year=%{x}<br>Violent_Offenses=%{y}<extra></extra>",
         "legendgroup": "Archer County",
         "line": {
          "color": "#FFA15A",
          "dash": "solid"
         },
         "marker": {
          "symbol": "circle"
         },
         "mode": "lines",
         "name": "Archer County",
         "showlegend": true,
         "type": "scattergl",
         "x": [
          2015,
          2016,
          2017,
          2018,
          2019,
          2020
         ],
         "xaxis": "x",
         "y": [
          7,
          10,
          10,
          4,
          6,
          1
         ],
         "yaxis": "y"
        },
        {
         "hovertemplate": "County=Armstrong County<br>Year=%{x}<br>Violent_Offenses=%{y}<extra></extra>",
         "legendgroup": "Armstrong County",
         "line": {
          "color": "#19d3f3",
          "dash": "solid"
         },
         "marker": {
          "symbol": "circle"
         },
         "mode": "lines",
         "name": "Armstrong County",
         "showlegend": true,
         "type": "scattergl",
         "x": [
          2015,
          2016,
          2017,
          2018,
          2019,
          2020
         ],
         "xaxis": "x",
         "y": [
          1,
          3,
          4,
          7,
          1,
          0
         ],
         "yaxis": "y"
        },
        {
         "hovertemplate": "County=Atascosa County<br>Year=%{x}<br>Violent_Offenses=%{y}<extra></extra>",
         "legendgroup": "Atascosa County",
         "line": {
          "color": "#FF6692",
          "dash": "solid"
         },
         "marker": {
          "symbol": "circle"
         },
         "mode": "lines",
         "name": "Atascosa County",
         "showlegend": true,
         "type": "scattergl",
         "x": [
          2015,
          2016,
          2017,
          2018,
          2019,
          2020
         ],
         "xaxis": "x",
         "y": [
          114,
          92,
          130,
          118,
          79,
          92
         ],
         "yaxis": "y"
        },
        {
         "hovertemplate": "County=Austin County<br>Year=%{x}<br>Violent_Offenses=%{y}<extra></extra>",
         "legendgroup": "Austin County",
         "line": {
          "color": "#B6E880",
          "dash": "solid"
         },
         "marker": {
          "symbol": "circle"
         },
         "mode": "lines",
         "name": "Austin County",
         "showlegend": true,
         "type": "scattergl",
         "x": [
          2015,
          2016,
          2017,
          2018,
          2019,
          2020
         ],
         "xaxis": "x",
         "y": [
          61,
          49,
          45,
          43,
          43,
          42
         ],
         "yaxis": "y"
        },
        {
         "hovertemplate": "County=Bailey County<br>Year=%{x}<br>Violent_Offenses=%{y}<extra></extra>",
         "legendgroup": "Bailey County",
         "line": {
          "color": "#FF97FF",
          "dash": "solid"
         },
         "marker": {
          "symbol": "circle"
         },
         "mode": "lines",
         "name": "Bailey County",
         "showlegend": true,
         "type": "scattergl",
         "x": [
          2015,
          2016,
          2017,
          2018,
          2019,
          2020
         ],
         "xaxis": "x",
         "y": [
          18,
          11,
          7,
          16,
          7,
          3
         ],
         "yaxis": "y"
        },
        {
         "hovertemplate": "County=Bandera County<br>Year=%{x}<br>Violent_Offenses=%{y}<extra></extra>",
         "legendgroup": "Bandera County",
         "line": {
          "color": "#FECB52",
          "dash": "solid"
         },
         "marker": {
          "symbol": "circle"
         },
         "mode": "lines",
         "name": "Bandera County",
         "showlegend": true,
         "type": "scattergl",
         "x": [
          2015,
          2016,
          2017,
          2018,
          2019,
          2020
         ],
         "xaxis": "x",
         "y": [
          21,
          37,
          30,
          32,
          18,
          17
         ],
         "yaxis": "y"
        },
        {
         "hovertemplate": "County=Bastrop County<br>Year=%{x}<br>Violent_Offenses=%{y}<extra></extra>",
         "legendgroup": "Bastrop County",
         "line": {
          "color": "#636efa",
          "dash": "solid"
         },
         "marker": {
          "symbol": "circle"
         },
         "mode": "lines",
         "name": "Bastrop County",
         "showlegend": true,
         "type": "scattergl",
         "x": [
          2015,
          2016,
          2017,
          2018,
          2019,
          2020
         ],
         "xaxis": "x",
         "y": [
          239,
          323,
          217,
          207,
          242,
          238
         ],
         "yaxis": "y"
        },
        {
         "hovertemplate": "County=Baylor County<br>Year=%{x}<br>Violent_Offenses=%{y}<extra></extra>",
         "legendgroup": "Baylor County",
         "line": {
          "color": "#EF553B",
          "dash": "solid"
         },
         "marker": {
          "symbol": "circle"
         },
         "mode": "lines",
         "name": "Baylor County",
         "showlegend": true,
         "type": "scattergl",
         "x": [
          2015,
          2016,
          2017,
          2018,
          2019,
          2020
         ],
         "xaxis": "x",
         "y": [
          9,
          8,
          12,
          7,
          5,
          9
         ],
         "yaxis": "y"
        },
        {
         "hovertemplate": "County=Bee County<br>Year=%{x}<br>Violent_Offenses=%{y}<extra></extra>",
         "legendgroup": "Bee County",
         "line": {
          "color": "#00cc96",
          "dash": "solid"
         },
         "marker": {
          "symbol": "circle"
         },
         "mode": "lines",
         "name": "Bee County",
         "showlegend": true,
         "type": "scattergl",
         "x": [
          2015,
          2016,
          2017,
          2018,
          2019,
          2020
         ],
         "xaxis": "x",
         "y": [
          64,
          101,
          72,
          63,
          46,
          66
         ],
         "yaxis": "y"
        },
        {
         "hovertemplate": "County=Bell County<br>Year=%{x}<br>Violent_Offenses=%{y}<extra></extra>",
         "legendgroup": "Bell County",
         "line": {
          "color": "#ab63fa",
          "dash": "solid"
         },
         "marker": {
          "symbol": "circle"
         },
         "mode": "lines",
         "name": "Bell County",
         "showlegend": true,
         "type": "scattergl",
         "x": [
          2015,
          2016,
          2017,
          2018,
          2019,
          2020
         ],
         "xaxis": "x",
         "y": [
          1007,
          1093,
          1145,
          797,
          828,
          1325
         ],
         "yaxis": "y"
        },
        {
         "hovertemplate": "County=Bexar County<br>Year=%{x}<br>Violent_Offenses=%{y}<extra></extra>",
         "legendgroup": "Bexar County",
         "line": {
          "color": "#FFA15A",
          "dash": "solid"
         },
         "marker": {
          "symbol": "circle"
         },
         "mode": "lines",
         "name": "Bexar County",
         "showlegend": true,
         "type": "scattergl",
         "x": [
          2015,
          2016,
          2017,
          2018,
          2019,
          2020
         ],
         "xaxis": "x",
         "y": [
          7335,
          9307,
          9366,
          8852,
          10081,
          10616
         ],
         "yaxis": "y"
        },
        {
         "hovertemplate": "County=Blanco County<br>Year=%{x}<br>Violent_Offenses=%{y}<extra></extra>",
         "legendgroup": "Blanco County",
         "line": {
          "color": "#19d3f3",
          "dash": "solid"
         },
         "marker": {
          "symbol": "circle"
         },
         "mode": "lines",
         "name": "Blanco County",
         "showlegend": true,
         "type": "scattergl",
         "x": [
          2015,
          2016,
          2017,
          2018,
          2019,
          2020
         ],
         "xaxis": "x",
         "y": [
          9,
          16,
          14,
          14,
          18,
          29
         ],
         "yaxis": "y"
        },
        {
         "hovertemplate": "County=Borden County<br>Year=%{x}<br>Violent_Offenses=%{y}<extra></extra>",
         "legendgroup": "Borden County",
         "line": {
          "color": "#FF6692",
          "dash": "solid"
         },
         "marker": {
          "symbol": "circle"
         },
         "mode": "lines",
         "name": "Borden County",
         "showlegend": true,
         "type": "scattergl",
         "x": [
          2015,
          2016,
          2017,
          2018,
          2019,
          2020
         ],
         "xaxis": "x",
         "y": [
          2,
          4,
          2,
          0,
          1,
          1
         ],
         "yaxis": "y"
        },
        {
         "hovertemplate": "County=Bosque County<br>Year=%{x}<br>Violent_Offenses=%{y}<extra></extra>",
         "legendgroup": "Bosque County",
         "line": {
          "color": "#B6E880",
          "dash": "solid"
         },
         "marker": {
          "symbol": "circle"
         },
         "mode": "lines",
         "name": "Bosque County",
         "showlegend": true,
         "type": "scattergl",
         "x": [
          2015,
          2016,
          2017,
          2018,
          2019,
          2020
         ],
         "xaxis": "x",
         "y": [
          9,
          6,
          8,
          4,
          27,
          9
         ],
         "yaxis": "y"
        },
        {
         "hovertemplate": "County=Bowie County<br>Year=%{x}<br>Violent_Offenses=%{y}<extra></extra>",
         "legendgroup": "Bowie County",
         "line": {
          "color": "#FF97FF",
          "dash": "solid"
         },
         "marker": {
          "symbol": "circle"
         },
         "mode": "lines",
         "name": "Bowie County",
         "showlegend": true,
         "type": "scattergl",
         "x": [
          2015,
          2016,
          2017,
          2018,
          2019,
          2020
         ],
         "xaxis": "x",
         "y": [
          395,
          392,
          529,
          257,
          364,
          339
         ],
         "yaxis": "y"
        },
        {
         "hovertemplate": "County=Brazoria County<br>Year=%{x}<br>Violent_Offenses=%{y}<extra></extra>",
         "legendgroup": "Brazoria County",
         "line": {
          "color": "#FECB52",
          "dash": "solid"
         },
         "marker": {
          "symbol": "circle"
         },
         "mode": "lines",
         "name": "Brazoria County",
         "showlegend": true,
         "type": "scattergl",
         "x": [
          2015,
          2016,
          2017,
          2018,
          2019,
          2020
         ],
         "xaxis": "x",
         "y": [
          470,
          513,
          560,
          512,
          533,
          587
         ],
         "yaxis": "y"
        },
        {
         "hovertemplate": "County=Brazos County<br>Year=%{x}<br>Violent_Offenses=%{y}<extra></extra>",
         "legendgroup": "Brazos County",
         "line": {
          "color": "#636efa",
          "dash": "solid"
         },
         "marker": {
          "symbol": "circle"
         },
         "mode": "lines",
         "name": "Brazos County",
         "showlegend": true,
         "type": "scattergl",
         "x": [
          2015,
          2016,
          2017,
          2018,
          2019,
          2020
         ],
         "xaxis": "x",
         "y": [
          587,
          608,
          529,
          549,
          555,
          661
         ],
         "yaxis": "y"
        },
        {
         "hovertemplate": "County=Brewster County<br>Year=%{x}<br>Violent_Offenses=%{y}<extra></extra>",
         "legendgroup": "Brewster County",
         "line": {
          "color": "#EF553B",
          "dash": "solid"
         },
         "marker": {
          "symbol": "circle"
         },
         "mode": "lines",
         "name": "Brewster County",
         "showlegend": true,
         "type": "scattergl",
         "x": [
          2015,
          2016,
          2017,
          2018,
          2019,
          2020
         ],
         "xaxis": "x",
         "y": [
          11,
          14,
          23,
          24,
          19,
          10
         ],
         "yaxis": "y"
        },
        {
         "hovertemplate": "County=Briscoe County<br>Year=%{x}<br>Violent_Offenses=%{y}<extra></extra>",
         "legendgroup": "Briscoe County",
         "line": {
          "color": "#00cc96",
          "dash": "solid"
         },
         "marker": {
          "symbol": "circle"
         },
         "mode": "lines",
         "name": "Briscoe County",
         "showlegend": true,
         "type": "scattergl",
         "x": [
          2015,
          2016,
          2017,
          2018,
          2019,
          2020
         ],
         "xaxis": "x",
         "y": [
          2,
          0,
          1,
          1,
          0,
          1
         ],
         "yaxis": "y"
        },
        {
         "hovertemplate": "County=Brooks County<br>Year=%{x}<br>Violent_Offenses=%{y}<extra></extra>",
         "legendgroup": "Brooks County",
         "line": {
          "color": "#ab63fa",
          "dash": "solid"
         },
         "marker": {
          "symbol": "circle"
         },
         "mode": "lines",
         "name": "Brooks County",
         "showlegend": true,
         "type": "scattergl",
         "x": [
          2015,
          2016,
          2017,
          2018,
          2019,
          2020
         ],
         "xaxis": "x",
         "y": [
          13,
          15,
          15,
          12,
          15,
          32
         ],
         "yaxis": "y"
        },
        {
         "hovertemplate": "County=Brown County<br>Year=%{x}<br>Violent_Offenses=%{y}<extra></extra>",
         "legendgroup": "Brown County",
         "line": {
          "color": "#FFA15A",
          "dash": "solid"
         },
         "marker": {
          "symbol": "circle"
         },
         "mode": "lines",
         "name": "Brown County",
         "showlegend": true,
         "type": "scattergl",
         "x": [
          2015,
          2016,
          2017,
          2018,
          2019,
          2020
         ],
         "xaxis": "x",
         "y": [
          120,
          121,
          113,
          144,
          121,
          131
         ],
         "yaxis": "y"
        },
        {
         "hovertemplate": "County=Burleson County<br>Year=%{x}<br>Violent_Offenses=%{y}<extra></extra>",
         "legendgroup": "Burleson County",
         "line": {
          "color": "#19d3f3",
          "dash": "solid"
         },
         "marker": {
          "symbol": "circle"
         },
         "mode": "lines",
         "name": "Burleson County",
         "showlegend": true,
         "type": "scattergl",
         "x": [
          2015,
          2016,
          2017,
          2018,
          2019,
          2020
         ],
         "xaxis": "x",
         "y": [
          36,
          29,
          30,
          33,
          24,
          37
         ],
         "yaxis": "y"
        },
        {
         "hovertemplate": "County=Burnet County<br>Year=%{x}<br>Violent_Offenses=%{y}<extra></extra>",
         "legendgroup": "Burnet County",
         "line": {
          "color": "#FF6692",
          "dash": "solid"
         },
         "marker": {
          "symbol": "circle"
         },
         "mode": "lines",
         "name": "Burnet County",
         "showlegend": true,
         "type": "scattergl",
         "x": [
          2015,
          2016,
          2017,
          2018,
          2019,
          2020
         ],
         "xaxis": "x",
         "y": [
          100,
          110,
          112,
          103,
          115,
          115
         ],
         "yaxis": "y"
        },
        {
         "hovertemplate": "County=Caldwell County<br>Year=%{x}<br>Violent_Offenses=%{y}<extra></extra>",
         "legendgroup": "Caldwell County",
         "line": {
          "color": "#B6E880",
          "dash": "solid"
         },
         "marker": {
          "symbol": "circle"
         },
         "mode": "lines",
         "name": "Caldwell County",
         "showlegend": true,
         "type": "scattergl",
         "x": [
          2015,
          2016,
          2017,
          2018,
          2019,
          2020
         ],
         "xaxis": "x",
         "y": [
          84,
          82,
          85,
          72,
          74,
          77
         ],
         "yaxis": "y"
        },
        {
         "hovertemplate": "County=Calhoun County<br>Year=%{x}<br>Violent_Offenses=%{y}<extra></extra>",
         "legendgroup": "Calhoun County",
         "line": {
          "color": "#FF97FF",
          "dash": "solid"
         },
         "marker": {
          "symbol": "circle"
         },
         "mode": "lines",
         "name": "Calhoun County",
         "showlegend": true,
         "type": "scattergl",
         "x": [
          2015,
          2016,
          2017,
          2018,
          2019,
          2020
         ],
         "xaxis": "x",
         "y": [
          106,
          121,
          106,
          79,
          73,
          47
         ],
         "yaxis": "y"
        },
        {
         "hovertemplate": "County=Callahan County<br>Year=%{x}<br>Violent_Offenses=%{y}<extra></extra>",
         "legendgroup": "Callahan County",
         "line": {
          "color": "#FECB52",
          "dash": "solid"
         },
         "marker": {
          "symbol": "circle"
         },
         "mode": "lines",
         "name": "Callahan County",
         "showlegend": true,
         "type": "scattergl",
         "x": [
          2015,
          2016,
          2017,
          2018,
          2019,
          2020
         ],
         "xaxis": "x",
         "y": [
          16,
          8,
          21,
          8,
          9,
          19
         ],
         "yaxis": "y"
        },
        {
         "hovertemplate": "County=Cameron County<br>Year=%{x}<br>Violent_Offenses=%{y}<extra></extra>",
         "legendgroup": "Cameron County",
         "line": {
          "color": "#636efa",
          "dash": "solid"
         },
         "marker": {
          "symbol": "circle"
         },
         "mode": "lines",
         "name": "Cameron County",
         "showlegend": true,
         "type": "scattergl",
         "x": [
          2015,
          2016,
          2017,
          2018,
          2019,
          2020
         ],
         "xaxis": "x",
         "y": [
          1011,
          1383,
          1131,
          1098,
          1362,
          1271
         ],
         "yaxis": "y"
        },
        {
         "hovertemplate": "County=Camp County<br>Year=%{x}<br>Violent_Offenses=%{y}<extra></extra>",
         "legendgroup": "Camp County",
         "line": {
          "color": "#EF553B",
          "dash": "solid"
         },
         "marker": {
          "symbol": "circle"
         },
         "mode": "lines",
         "name": "Camp County",
         "showlegend": true,
         "type": "scattergl",
         "x": [
          2015,
          2016,
          2017,
          2018,
          2019,
          2020
         ],
         "xaxis": "x",
         "y": [
          39,
          27,
          19,
          25,
          28,
          44
         ],
         "yaxis": "y"
        },
        {
         "hovertemplate": "County=Carson County<br>Year=%{x}<br>Violent_Offenses=%{y}<extra></extra>",
         "legendgroup": "Carson County",
         "line": {
          "color": "#00cc96",
          "dash": "solid"
         },
         "marker": {
          "symbol": "circle"
         },
         "mode": "lines",
         "name": "Carson County",
         "showlegend": true,
         "type": "scattergl",
         "x": [
          2015,
          2016,
          2017,
          2018,
          2019,
          2020
         ],
         "xaxis": "x",
         "y": [
          25,
          29,
          19,
          22,
          26,
          14
         ],
         "yaxis": "y"
        },
        {
         "hovertemplate": "County=Cass County<br>Year=%{x}<br>Violent_Offenses=%{y}<extra></extra>",
         "legendgroup": "Cass County",
         "line": {
          "color": "#ab63fa",
          "dash": "solid"
         },
         "marker": {
          "symbol": "circle"
         },
         "mode": "lines",
         "name": "Cass County",
         "showlegend": true,
         "type": "scattergl",
         "x": [
          2015,
          2016,
          2017,
          2018,
          2019,
          2020
         ],
         "xaxis": "x",
         "y": [
          87,
          105,
          63,
          86,
          90,
          44
         ],
         "yaxis": "y"
        },
        {
         "hovertemplate": "County=Castro County<br>Year=%{x}<br>Violent_Offenses=%{y}<extra></extra>",
         "legendgroup": "Castro County",
         "line": {
          "color": "#FFA15A",
          "dash": "solid"
         },
         "marker": {
          "symbol": "circle"
         },
         "mode": "lines",
         "name": "Castro County",
         "showlegend": true,
         "type": "scattergl",
         "x": [
          2015,
          2016,
          2017,
          2018,
          2019,
          2020
         ],
         "xaxis": "x",
         "y": [
          4,
          6,
          5,
          15,
          29,
          4
         ],
         "yaxis": "y"
        },
        {
         "hovertemplate": "County=Chambers County<br>Year=%{x}<br>Violent_Offenses=%{y}<extra></extra>",
         "legendgroup": "Chambers County",
         "line": {
          "color": "#19d3f3",
          "dash": "solid"
         },
         "marker": {
          "symbol": "circle"
         },
         "mode": "lines",
         "name": "Chambers County",
         "showlegend": true,
         "type": "scattergl",
         "x": [
          2015,
          2016,
          2017,
          2018,
          2019,
          2020
         ],
         "xaxis": "x",
         "y": [
          110,
          131,
          89,
          53,
          81,
          126
         ],
         "yaxis": "y"
        },
        {
         "hovertemplate": "County=Cherokee County<br>Year=%{x}<br>Violent_Offenses=%{y}<extra></extra>",
         "legendgroup": "Cherokee County",
         "line": {
          "color": "#FF6692",
          "dash": "solid"
         },
         "marker": {
          "symbol": "circle"
         },
         "mode": "lines",
         "name": "Cherokee County",
         "showlegend": true,
         "type": "scattergl",
         "x": [
          2015,
          2016,
          2017,
          2018,
          2019,
          2020
         ],
         "xaxis": "x",
         "y": [
          177,
          169,
          192,
          167,
          109,
          105
         ],
         "yaxis": "y"
        },
        {
         "hovertemplate": "County=Childress County<br>Year=%{x}<br>Violent_Offenses=%{y}<extra></extra>",
         "legendgroup": "Childress County",
         "line": {
          "color": "#B6E880",
          "dash": "solid"
         },
         "marker": {
          "symbol": "circle"
         },
         "mode": "lines",
         "name": "Childress County",
         "showlegend": true,
         "type": "scattergl",
         "x": [
          2015,
          2016,
          2017,
          2018,
          2019,
          2020
         ],
         "xaxis": "x",
         "y": [
          2,
          0,
          3,
          0,
          5,
          9
         ],
         "yaxis": "y"
        },
        {
         "hovertemplate": "County=Clay County<br>Year=%{x}<br>Violent_Offenses=%{y}<extra></extra>",
         "legendgroup": "Clay County",
         "line": {
          "color": "#FF97FF",
          "dash": "solid"
         },
         "marker": {
          "symbol": "circle"
         },
         "mode": "lines",
         "name": "Clay County",
         "showlegend": true,
         "type": "scattergl",
         "x": [
          2015,
          2016,
          2017,
          2018,
          2019,
          2020
         ],
         "xaxis": "x",
         "y": [
          16,
          14,
          14,
          20,
          16,
          12
         ],
         "yaxis": "y"
        },
        {
         "hovertemplate": "County=Cochran County<br>Year=%{x}<br>Violent_Offenses=%{y}<extra></extra>",
         "legendgroup": "Cochran County",
         "line": {
          "color": "#FECB52",
          "dash": "solid"
         },
         "marker": {
          "symbol": "circle"
         },
         "mode": "lines",
         "name": "Cochran County",
         "showlegend": true,
         "type": "scattergl",
         "x": [
          2015,
          2016,
          2017,
          2018,
          2019,
          2020
         ],
         "xaxis": "x",
         "y": [
          5,
          7,
          5,
          0,
          3,
          3
         ],
         "yaxis": "y"
        },
        {
         "hovertemplate": "County=Coke County<br>Year=%{x}<br>Violent_Offenses=%{y}<extra></extra>",
         "legendgroup": "Coke County",
         "line": {
          "color": "#636efa",
          "dash": "solid"
         },
         "marker": {
          "symbol": "circle"
         },
         "mode": "lines",
         "name": "Coke County",
         "showlegend": true,
         "type": "scattergl",
         "x": [
          2015,
          2016,
          2017,
          2018,
          2019,
          2020
         ],
         "xaxis": "x",
         "y": [
          1,
          1,
          1,
          1,
          2,
          3
         ],
         "yaxis": "y"
        },
        {
         "hovertemplate": "County=Coleman County<br>Year=%{x}<br>Violent_Offenses=%{y}<extra></extra>",
         "legendgroup": "Coleman County",
         "line": {
          "color": "#EF553B",
          "dash": "solid"
         },
         "marker": {
          "symbol": "circle"
         },
         "mode": "lines",
         "name": "Coleman County",
         "showlegend": true,
         "type": "scattergl",
         "x": [
          2015,
          2016,
          2017,
          2018,
          2019,
          2020
         ],
         "xaxis": "x",
         "y": [
          5,
          12,
          22,
          19,
          27,
          20
         ],
         "yaxis": "y"
        },
        {
         "hovertemplate": "County=Collin County<br>Year=%{x}<br>Violent_Offenses=%{y}<extra></extra>",
         "legendgroup": "Collin County",
         "line": {
          "color": "#00cc96",
          "dash": "solid"
         },
         "marker": {
          "symbol": "circle"
         },
         "mode": "lines",
         "name": "Collin County",
         "showlegend": true,
         "type": "scattergl",
         "x": [
          2015,
          2016,
          2017,
          2018,
          2019,
          2020
         ],
         "xaxis": "x",
         "y": [
          937,
          834,
          956,
          1008,
          936,
          1057
         ],
         "yaxis": "y"
        },
        {
         "hovertemplate": "County=Collingsworth County<br>Year=%{x}<br>Violent_Offenses=%{y}<extra></extra>",
         "legendgroup": "Collingsworth County",
         "line": {
          "color": "#ab63fa",
          "dash": "solid"
         },
         "marker": {
          "symbol": "circle"
         },
         "mode": "lines",
         "name": "Collingsworth County",
         "showlegend": true,
         "type": "scattergl",
         "x": [
          2015,
          2016,
          2018,
          2020
         ],
         "xaxis": "x",
         "y": [
          8,
          9,
          0,
          0
         ],
         "yaxis": "y"
        },
        {
         "hovertemplate": "County=Colorado County<br>Year=%{x}<br>Violent_Offenses=%{y}<extra></extra>",
         "legendgroup": "Colorado County",
         "line": {
          "color": "#FFA15A",
          "dash": "solid"
         },
         "marker": {
          "symbol": "circle"
         },
         "mode": "lines",
         "name": "Colorado County",
         "showlegend": true,
         "type": "scattergl",
         "x": [
          2015,
          2016,
          2017,
          2018,
          2019,
          2020
         ],
         "xaxis": "x",
         "y": [
          43,
          45,
          60,
          22,
          37,
          26
         ],
         "yaxis": "y"
        },
        {
         "hovertemplate": "County=Comal County<br>Year=%{x}<br>Violent_Offenses=%{y}<extra></extra>",
         "legendgroup": "Comal County",
         "line": {
          "color": "#19d3f3",
          "dash": "solid"
         },
         "marker": {
          "symbol": "circle"
         },
         "mode": "lines",
         "name": "Comal County",
         "showlegend": true,
         "type": "scattergl",
         "x": [
          2015,
          2016,
          2017,
          2018,
          2019,
          2020
         ],
         "xaxis": "x",
         "y": [
          317,
          332,
          316,
          364,
          327,
          337
         ],
         "yaxis": "y"
        },
        {
         "hovertemplate": "County=Comanche County<br>Year=%{x}<br>Violent_Offenses=%{y}<extra></extra>",
         "legendgroup": "Comanche County",
         "line": {
          "color": "#FF6692",
          "dash": "solid"
         },
         "marker": {
          "symbol": "circle"
         },
         "mode": "lines",
         "name": "Comanche County",
         "showlegend": true,
         "type": "scattergl",
         "x": [
          2015,
          2016,
          2017,
          2018,
          2019,
          2020
         ],
         "xaxis": "x",
         "y": [
          33,
          22,
          35,
          24,
          17,
          21
         ],
         "yaxis": "y"
        },
        {
         "hovertemplate": "County=Concho County<br>Year=%{x}<br>Violent_Offenses=%{y}<extra></extra>",
         "legendgroup": "Concho County",
         "line": {
          "color": "#B6E880",
          "dash": "solid"
         },
         "marker": {
          "symbol": "circle"
         },
         "mode": "lines",
         "name": "Concho County",
         "showlegend": true,
         "type": "scattergl",
         "x": [
          2015,
          2016,
          2017,
          2018,
          2019,
          2020
         ],
         "xaxis": "x",
         "y": [
          1,
          1,
          7,
          11,
          11,
          1
         ],
         "yaxis": "y"
        },
        {
         "hovertemplate": "County=Cooke County<br>Year=%{x}<br>Violent_Offenses=%{y}<extra></extra>",
         "legendgroup": "Cooke County",
         "line": {
          "color": "#FF97FF",
          "dash": "solid"
         },
         "marker": {
          "symbol": "circle"
         },
         "mode": "lines",
         "name": "Cooke County",
         "showlegend": true,
         "type": "scattergl",
         "x": [
          2015,
          2016,
          2017,
          2018,
          2019,
          2020
         ],
         "xaxis": "x",
         "y": [
          68,
          122,
          120,
          97,
          112,
          96
         ],
         "yaxis": "y"
        },
        {
         "hovertemplate": "County=Coryell County<br>Year=%{x}<br>Violent_Offenses=%{y}<extra></extra>",
         "legendgroup": "Coryell County",
         "line": {
          "color": "#FECB52",
          "dash": "solid"
         },
         "marker": {
          "symbol": "circle"
         },
         "mode": "lines",
         "name": "Coryell County",
         "showlegend": true,
         "type": "scattergl",
         "x": [
          2015,
          2016,
          2017,
          2018,
          2019,
          2020
         ],
         "xaxis": "x",
         "y": [
          133,
          174,
          248,
          165,
          157,
          174
         ],
         "yaxis": "y"
        },
        {
         "hovertemplate": "County=Cottle County<br>Year=%{x}<br>Violent_Offenses=%{y}<extra></extra>",
         "legendgroup": "Cottle County",
         "line": {
          "color": "#636efa",
          "dash": "solid"
         },
         "marker": {
          "symbol": "circle"
         },
         "mode": "lines",
         "name": "Cottle County",
         "showlegend": true,
         "type": "scattergl",
         "x": [
          2015,
          2016,
          2017,
          2018
         ],
         "xaxis": "x",
         "y": [
          5,
          1,
          3,
          2
         ],
         "yaxis": "y"
        },
        {
         "hovertemplate": "County=Crane County<br>Year=%{x}<br>Violent_Offenses=%{y}<extra></extra>",
         "legendgroup": "Crane County",
         "line": {
          "color": "#EF553B",
          "dash": "solid"
         },
         "marker": {
          "symbol": "circle"
         },
         "mode": "lines",
         "name": "Crane County",
         "showlegend": true,
         "type": "scattergl",
         "x": [
          2015,
          2016,
          2017,
          2018,
          2019,
          2020
         ],
         "xaxis": "x",
         "y": [
          7,
          4,
          3,
          1,
          7,
          5
         ],
         "yaxis": "y"
        },
        {
         "hovertemplate": "County=Crockett County<br>Year=%{x}<br>Violent_Offenses=%{y}<extra></extra>",
         "legendgroup": "Crockett County",
         "line": {
          "color": "#00cc96",
          "dash": "solid"
         },
         "marker": {
          "symbol": "circle"
         },
         "mode": "lines",
         "name": "Crockett County",
         "showlegend": true,
         "type": "scattergl",
         "x": [
          2015,
          2016,
          2017,
          2018,
          2019,
          2020
         ],
         "xaxis": "x",
         "y": [
          11,
          3,
          5,
          2,
          1,
          3
         ],
         "yaxis": "y"
        },
        {
         "hovertemplate": "County=Crosby County<br>Year=%{x}<br>Violent_Offenses=%{y}<extra></extra>",
         "legendgroup": "Crosby County",
         "line": {
          "color": "#ab63fa",
          "dash": "solid"
         },
         "marker": {
          "symbol": "circle"
         },
         "mode": "lines",
         "name": "Crosby County",
         "showlegend": true,
         "type": "scattergl",
         "x": [
          2015,
          2016,
          2017,
          2018,
          2019,
          2020
         ],
         "xaxis": "x",
         "y": [
          1,
          3,
          1,
          11,
          4,
          5
         ],
         "yaxis": "y"
        },
        {
         "hovertemplate": "County=Culberson County<br>Year=%{x}<br>Violent_Offenses=%{y}<extra></extra>",
         "legendgroup": "Culberson County",
         "line": {
          "color": "#FFA15A",
          "dash": "solid"
         },
         "marker": {
          "symbol": "circle"
         },
         "mode": "lines",
         "name": "Culberson County",
         "showlegend": true,
         "type": "scattergl",
         "x": [
          2015,
          2016,
          2017,
          2018,
          2019,
          2020
         ],
         "xaxis": "x",
         "y": [
          0,
          0,
          0,
          0,
          0,
          0
         ],
         "yaxis": "y"
        },
        {
         "hovertemplate": "County=Dallam County<br>Year=%{x}<br>Violent_Offenses=%{y}<extra></extra>",
         "legendgroup": "Dallam County",
         "line": {
          "color": "#19d3f3",
          "dash": "solid"
         },
         "marker": {
          "symbol": "circle"
         },
         "mode": "lines",
         "name": "Dallam County",
         "showlegend": true,
         "type": "scattergl",
         "x": [
          2015,
          2016,
          2017,
          2018,
          2019,
          2020
         ],
         "xaxis": "x",
         "y": [
          47,
          70,
          71,
          23,
          33,
          25
         ],
         "yaxis": "y"
        },
        {
         "hovertemplate": "County=Dallas County<br>Year=%{x}<br>Violent_Offenses=%{y}<extra></extra>",
         "legendgroup": "Dallas County",
         "line": {
          "color": "#FF6692",
          "dash": "solid"
         },
         "marker": {
          "symbol": "circle"
         },
         "mode": "lines",
         "name": "Dallas County",
         "showlegend": true,
         "type": "scattergl",
         "x": [
          2015,
          2016,
          2017,
          2018,
          2019,
          2020
         ],
         "xaxis": "x",
         "y": [
          7236,
          8044,
          8723,
          8874,
          9952,
          11840
         ],
         "yaxis": "y"
        },
        {
         "hovertemplate": "County=Dawson County<br>Year=%{x}<br>Violent_Offenses=%{y}<extra></extra>",
         "legendgroup": "Dawson County",
         "line": {
          "color": "#B6E880",
          "dash": "solid"
         },
         "marker": {
          "symbol": "circle"
         },
         "mode": "lines",
         "name": "Dawson County",
         "showlegend": true,
         "type": "scattergl",
         "x": [
          2015,
          2016,
          2017,
          2018,
          2019,
          2020
         ],
         "xaxis": "x",
         "y": [
          43,
          59,
          19,
          43,
          64,
          59
         ],
         "yaxis": "y"
        },
        {
         "hovertemplate": "County=DeWitt County<br>Year=%{x}<br>Violent_Offenses=%{y}<extra></extra>",
         "legendgroup": "DeWitt County",
         "line": {
          "color": "#FF97FF",
          "dash": "solid"
         },
         "marker": {
          "symbol": "circle"
         },
         "mode": "lines",
         "name": "DeWitt County",
         "showlegend": true,
         "type": "scattergl",
         "x": [
          2015,
          2016,
          2017,
          2018,
          2019,
          2020
         ],
         "xaxis": "x",
         "y": [
          89,
          102,
          132,
          95,
          72,
          67
         ],
         "yaxis": "y"
        },
        {
         "hovertemplate": "County=Deaf Smith County<br>Year=%{x}<br>Violent_Offenses=%{y}<extra></extra>",
         "legendgroup": "Deaf Smith County",
         "line": {
          "color": "#FECB52",
          "dash": "solid"
         },
         "marker": {
          "symbol": "circle"
         },
         "mode": "lines",
         "name": "Deaf Smith County",
         "showlegend": true,
         "type": "scattergl",
         "x": [
          2015,
          2016,
          2017,
          2018,
          2019,
          2020
         ],
         "xaxis": "x",
         "y": [
          43,
          53,
          59,
          88,
          84,
          109
         ],
         "yaxis": "y"
        },
        {
         "hovertemplate": "County=Delta County<br>Year=%{x}<br>Violent_Offenses=%{y}<extra></extra>",
         "legendgroup": "Delta County",
         "line": {
          "color": "#636efa",
          "dash": "solid"
         },
         "marker": {
          "symbol": "circle"
         },
         "mode": "lines",
         "name": "Delta County",
         "showlegend": true,
         "type": "scattergl",
         "x": [
          2015,
          2016,
          2017,
          2018,
          2019,
          2020
         ],
         "xaxis": "x",
         "y": [
          4,
          0,
          2,
          3,
          1,
          2
         ],
         "yaxis": "y"
        },
        {
         "hovertemplate": "County=Denton County<br>Year=%{x}<br>Violent_Offenses=%{y}<extra></extra>",
         "legendgroup": "Denton County",
         "line": {
          "color": "#EF553B",
          "dash": "solid"
         },
         "marker": {
          "symbol": "circle"
         },
         "mode": "lines",
         "name": "Denton County",
         "showlegend": true,
         "type": "scattergl",
         "x": [
          2015,
          2016,
          2017,
          2018,
          2019,
          2020
         ],
         "xaxis": "x",
         "y": [
          753,
          769,
          895,
          985,
          900,
          1015
         ],
         "yaxis": "y"
        },
        {
         "hovertemplate": "County=Dickens County<br>Year=%{x}<br>Violent_Offenses=%{y}<extra></extra>",
         "legendgroup": "Dickens County",
         "line": {
          "color": "#00cc96",
          "dash": "solid"
         },
         "marker": {
          "symbol": "circle"
         },
         "mode": "lines",
         "name": "Dickens County",
         "showlegend": true,
         "type": "scattergl",
         "x": [
          2015,
          2016,
          2017,
          2018,
          2019,
          2020
         ],
         "xaxis": "x",
         "y": [
          3,
          11,
          7,
          1,
          1,
          0
         ],
         "yaxis": "y"
        },
        {
         "hovertemplate": "County=Dimmit County<br>Year=%{x}<br>Violent_Offenses=%{y}<extra></extra>",
         "legendgroup": "Dimmit County",
         "line": {
          "color": "#ab63fa",
          "dash": "solid"
         },
         "marker": {
          "symbol": "circle"
         },
         "mode": "lines",
         "name": "Dimmit County",
         "showlegend": true,
         "type": "scattergl",
         "x": [
          2015,
          2016,
          2017,
          2018,
          2019,
          2020
         ],
         "xaxis": "x",
         "y": [
          9,
          3,
          16,
          9,
          11,
          9
         ],
         "yaxis": "y"
        },
        {
         "hovertemplate": "County=Donley County<br>Year=%{x}<br>Violent_Offenses=%{y}<extra></extra>",
         "legendgroup": "Donley County",
         "line": {
          "color": "#FFA15A",
          "dash": "solid"
         },
         "marker": {
          "symbol": "circle"
         },
         "mode": "lines",
         "name": "Donley County",
         "showlegend": true,
         "type": "scattergl",
         "x": [
          2015,
          2016,
          2017,
          2018,
          2019,
          2020
         ],
         "xaxis": "x",
         "y": [
          6,
          2,
          2,
          3,
          4,
          4
         ],
         "yaxis": "y"
        },
        {
         "hovertemplate": "County=Duval County<br>Year=%{x}<br>Violent_Offenses=%{y}<extra></extra>",
         "legendgroup": "Duval County",
         "line": {
          "color": "#19d3f3",
          "dash": "solid"
         },
         "marker": {
          "symbol": "circle"
         },
         "mode": "lines",
         "name": "Duval County",
         "showlegend": true,
         "type": "scattergl",
         "x": [
          2015,
          2016,
          2017,
          2018,
          2019,
          2020
         ],
         "xaxis": "x",
         "y": [
          64,
          65,
          16,
          35,
          23,
          31
         ],
         "yaxis": "y"
        },
        {
         "hovertemplate": "County=Eastland County<br>Year=%{x}<br>Violent_Offenses=%{y}<extra></extra>",
         "legendgroup": "Eastland County",
         "line": {
          "color": "#FF6692",
          "dash": "solid"
         },
         "marker": {
          "symbol": "circle"
         },
         "mode": "lines",
         "name": "Eastland County",
         "showlegend": true,
         "type": "scattergl",
         "x": [
          2015,
          2016,
          2017,
          2018,
          2019,
          2020
         ],
         "xaxis": "x",
         "y": [
          56,
          39,
          45,
          44,
          36,
          34
         ],
         "yaxis": "y"
        },
        {
         "hovertemplate": "County=Ector County<br>Year=%{x}<br>Violent_Offenses=%{y}<extra></extra>",
         "legendgroup": "Ector County",
         "line": {
          "color": "#B6E880",
          "dash": "solid"
         },
         "marker": {
          "symbol": "circle"
         },
         "mode": "lines",
         "name": "Ector County",
         "showlegend": true,
         "type": "scattergl",
         "x": [
          2015,
          2016,
          2017,
          2018,
          2019,
          2020
         ],
         "xaxis": "x",
         "y": [
          1516,
          1013,
          971,
          1106,
          1325,
          1038
         ],
         "yaxis": "y"
        },
        {
         "hovertemplate": "County=Edwards County<br>Year=%{x}<br>Violent_Offenses=%{y}<extra></extra>",
         "legendgroup": "Edwards County",
         "line": {
          "color": "#FF97FF",
          "dash": "solid"
         },
         "marker": {
          "symbol": "circle"
         },
         "mode": "lines",
         "name": "Edwards County",
         "showlegend": true,
         "type": "scattergl",
         "x": [
          2015,
          2016,
          2017,
          2018,
          2019,
          2020
         ],
         "xaxis": "x",
         "y": [
          2,
          4,
          0,
          3,
          2,
          0
         ],
         "yaxis": "y"
        },
        {
         "hovertemplate": "County=El Paso County<br>Year=%{x}<br>Violent_Offenses=%{y}<extra></extra>",
         "legendgroup": "El Paso County",
         "line": {
          "color": "#FECB52",
          "dash": "solid"
         },
         "marker": {
          "symbol": "circle"
         },
         "mode": "lines",
         "name": "El Paso County",
         "showlegend": true,
         "type": "scattergl",
         "x": [
          2015,
          2016,
          2017,
          2018,
          2019,
          2020
         ],
         "xaxis": "x",
         "y": [
          2521,
          2535,
          2584,
          2514,
          2483,
          2340
         ],
         "yaxis": "y"
        },
        {
         "hovertemplate": "County=Ellis County<br>Year=%{x}<br>Violent_Offenses=%{y}<extra></extra>",
         "legendgroup": "Ellis County",
         "line": {
          "color": "#636efa",
          "dash": "solid"
         },
         "marker": {
          "symbol": "circle"
         },
         "mode": "lines",
         "name": "Ellis County",
         "showlegend": true,
         "type": "scattergl",
         "x": [
          2015,
          2016,
          2017,
          2018,
          2019,
          2020
         ],
         "xaxis": "x",
         "y": [
          154,
          212,
          319,
          242,
          173,
          229
         ],
         "yaxis": "y"
        },
        {
         "hovertemplate": "County=Erath County<br>Year=%{x}<br>Violent_Offenses=%{y}<extra></extra>",
         "legendgroup": "Erath County",
         "line": {
          "color": "#EF553B",
          "dash": "solid"
         },
         "marker": {
          "symbol": "circle"
         },
         "mode": "lines",
         "name": "Erath County",
         "showlegend": true,
         "type": "scattergl",
         "x": [
          2015,
          2016,
          2017,
          2018,
          2019,
          2020
         ],
         "xaxis": "x",
         "y": [
          57,
          60,
          90,
          72,
          93,
          73
         ],
         "yaxis": "y"
        },
        {
         "hovertemplate": "County=Falls County<br>Year=%{x}<br>Violent_Offenses=%{y}<extra></extra>",
         "legendgroup": "Falls County",
         "line": {
          "color": "#00cc96",
          "dash": "solid"
         },
         "marker": {
          "symbol": "circle"
         },
         "mode": "lines",
         "name": "Falls County",
         "showlegend": true,
         "type": "scattergl",
         "x": [
          2015,
          2016,
          2017,
          2018,
          2019,
          2020
         ],
         "xaxis": "x",
         "y": [
          27,
          18,
          0,
          20,
          28,
          40
         ],
         "yaxis": "y"
        },
        {
         "hovertemplate": "County=Fannin County<br>Year=%{x}<br>Violent_Offenses=%{y}<extra></extra>",
         "legendgroup": "Fannin County",
         "line": {
          "color": "#ab63fa",
          "dash": "solid"
         },
         "marker": {
          "symbol": "circle"
         },
         "mode": "lines",
         "name": "Fannin County",
         "showlegend": true,
         "type": "scattergl",
         "x": [
          2015,
          2016,
          2017,
          2018,
          2019,
          2020
         ],
         "xaxis": "x",
         "y": [
          35,
          37,
          74,
          49,
          62,
          65
         ],
         "yaxis": "y"
        },
        {
         "hovertemplate": "County=Fayette County<br>Year=%{x}<br>Violent_Offenses=%{y}<extra></extra>",
         "legendgroup": "Fayette County",
         "line": {
          "color": "#FFA15A",
          "dash": "solid"
         },
         "marker": {
          "symbol": "circle"
         },
         "mode": "lines",
         "name": "Fayette County",
         "showlegend": true,
         "type": "scattergl",
         "x": [
          2015,
          2016,
          2017,
          2018,
          2019,
          2020
         ],
         "xaxis": "x",
         "y": [
          55,
          56,
          67,
          55,
          54,
          52
         ],
         "yaxis": "y"
        },
        {
         "hovertemplate": "County=Fisher County<br>Year=%{x}<br>Violent_Offenses=%{y}<extra></extra>",
         "legendgroup": "Fisher County",
         "line": {
          "color": "#19d3f3",
          "dash": "solid"
         },
         "marker": {
          "symbol": "circle"
         },
         "mode": "lines",
         "name": "Fisher County",
         "showlegend": true,
         "type": "scattergl",
         "x": [
          2015,
          2016,
          2017,
          2019,
          2020
         ],
         "xaxis": "x",
         "y": [
          19,
          13,
          1,
          0,
          11
         ],
         "yaxis": "y"
        },
        {
         "hovertemplate": "County=Floyd County<br>Year=%{x}<br>Violent_Offenses=%{y}<extra></extra>",
         "legendgroup": "Floyd County",
         "line": {
          "color": "#FF6692",
          "dash": "solid"
         },
         "marker": {
          "symbol": "circle"
         },
         "mode": "lines",
         "name": "Floyd County",
         "showlegend": true,
         "type": "scattergl",
         "x": [
          2015,
          2016,
          2017,
          2018,
          2019,
          2020
         ],
         "xaxis": "x",
         "y": [
          12,
          27,
          36,
          37,
          28,
          12
         ],
         "yaxis": "y"
        },
        {
         "hovertemplate": "County=Foard County<br>Year=%{x}<br>Violent_Offenses=%{y}<extra></extra>",
         "legendgroup": "Foard County",
         "line": {
          "color": "#B6E880",
          "dash": "solid"
         },
         "marker": {
          "symbol": "circle"
         },
         "mode": "lines",
         "name": "Foard County",
         "showlegend": true,
         "type": "scattergl",
         "x": [
          2015,
          2016,
          2017,
          2018,
          2019,
          2020
         ],
         "xaxis": "x",
         "y": [
          0,
          0,
          0,
          0,
          0,
          0
         ],
         "yaxis": "y"
        },
        {
         "hovertemplate": "County=Fort Bend County<br>Year=%{x}<br>Violent_Offenses=%{y}<extra></extra>",
         "legendgroup": "Fort Bend County",
         "line": {
          "color": "#FF97FF",
          "dash": "solid"
         },
         "marker": {
          "symbol": "circle"
         },
         "mode": "lines",
         "name": "Fort Bend County",
         "showlegend": true,
         "type": "scattergl",
         "x": [
          2015,
          2016,
          2017,
          2018,
          2019,
          2020
         ],
         "xaxis": "x",
         "y": [
          1034,
          935,
          1073,
          1152,
          1246,
          1287
         ],
         "yaxis": "y"
        },
        {
         "hovertemplate": "County=Franklin County<br>Year=%{x}<br>Violent_Offenses=%{y}<extra></extra>",
         "legendgroup": "Franklin County",
         "line": {
          "color": "#FECB52",
          "dash": "solid"
         },
         "marker": {
          "symbol": "circle"
         },
         "mode": "lines",
         "name": "Franklin County",
         "showlegend": true,
         "type": "scattergl",
         "x": [
          2015,
          2016,
          2017,
          2018,
          2019,
          2020
         ],
         "xaxis": "x",
         "y": [
          12,
          27,
          25,
          16,
          6,
          18
         ],
         "yaxis": "y"
        },
        {
         "hovertemplate": "County=Freestone County<br>Year=%{x}<br>Violent_Offenses=%{y}<extra></extra>",
         "legendgroup": "Freestone County",
         "line": {
          "color": "#636efa",
          "dash": "solid"
         },
         "marker": {
          "symbol": "circle"
         },
         "mode": "lines",
         "name": "Freestone County",
         "showlegend": true,
         "type": "scattergl",
         "x": [
          2015,
          2016,
          2017,
          2018,
          2019,
          2020
         ],
         "xaxis": "x",
         "y": [
          22,
          26,
          25,
          23,
          46,
          39
         ],
         "yaxis": "y"
        },
        {
         "hovertemplate": "County=Frio County<br>Year=%{x}<br>Violent_Offenses=%{y}<extra></extra>",
         "legendgroup": "Frio County",
         "line": {
          "color": "#EF553B",
          "dash": "solid"
         },
         "marker": {
          "symbol": "circle"
         },
         "mode": "lines",
         "name": "Frio County",
         "showlegend": true,
         "type": "scattergl",
         "x": [
          2015,
          2016,
          2017,
          2018,
          2019,
          2020
         ],
         "xaxis": "x",
         "y": [
          28,
          27,
          32,
          50,
          24,
          33
         ],
         "yaxis": "y"
        },
        {
         "hovertemplate": "County=Gaines County<br>Year=%{x}<br>Violent_Offenses=%{y}<extra></extra>",
         "legendgroup": "Gaines County",
         "line": {
          "color": "#00cc96",
          "dash": "solid"
         },
         "marker": {
          "symbol": "circle"
         },
         "mode": "lines",
         "name": "Gaines County",
         "showlegend": true,
         "type": "scattergl",
         "x": [
          2015,
          2016,
          2017,
          2018,
          2019,
          2020
         ],
         "xaxis": "x",
         "y": [
          14,
          19,
          51,
          60,
          36,
          30
         ],
         "yaxis": "y"
        },
        {
         "hovertemplate": "County=Galveston County<br>Year=%{x}<br>Violent_Offenses=%{y}<extra></extra>",
         "legendgroup": "Galveston County",
         "line": {
          "color": "#ab63fa",
          "dash": "solid"
         },
         "marker": {
          "symbol": "circle"
         },
         "mode": "lines",
         "name": "Galveston County",
         "showlegend": true,
         "type": "scattergl",
         "x": [
          2015,
          2016,
          2017,
          2018,
          2019,
          2020
         ],
         "xaxis": "x",
         "y": [
          610,
          764,
          732,
          768,
          715,
          927
         ],
         "yaxis": "y"
        },
        {
         "hovertemplate": "County=Garza County<br>Year=%{x}<br>Violent_Offenses=%{y}<extra></extra>",
         "legendgroup": "Garza County",
         "line": {
          "color": "#FFA15A",
          "dash": "solid"
         },
         "marker": {
          "symbol": "circle"
         },
         "mode": "lines",
         "name": "Garza County",
         "showlegend": true,
         "type": "scattergl",
         "x": [
          2015,
          2016,
          2017,
          2018,
          2019,
          2020
         ],
         "xaxis": "x",
         "y": [
          4,
          9,
          13,
          7,
          15,
          22
         ],
         "yaxis": "y"
        },
        {
         "hovertemplate": "County=Gillespie County<br>Year=%{x}<br>Violent_Offenses=%{y}<extra></extra>",
         "legendgroup": "Gillespie County",
         "line": {
          "color": "#19d3f3",
          "dash": "solid"
         },
         "marker": {
          "symbol": "circle"
         },
         "mode": "lines",
         "name": "Gillespie County",
         "showlegend": true,
         "type": "scattergl",
         "x": [
          2015,
          2016,
          2017,
          2018,
          2019,
          2020
         ],
         "xaxis": "x",
         "y": [
          8,
          12,
          11,
          17,
          24,
          16
         ],
         "yaxis": "y"
        },
        {
         "hovertemplate": "County=Glasscock County<br>Year=%{x}<br>Violent_Offenses=%{y}<extra></extra>",
         "legendgroup": "Glasscock County",
         "line": {
          "color": "#FF6692",
          "dash": "solid"
         },
         "marker": {
          "symbol": "circle"
         },
         "mode": "lines",
         "name": "Glasscock County",
         "showlegend": true,
         "type": "scattergl",
         "x": [
          2015,
          2016,
          2017,
          2018,
          2019,
          2020
         ],
         "xaxis": "x",
         "y": [
          0,
          0,
          4,
          0,
          1,
          3
         ],
         "yaxis": "y"
        },
        {
         "hovertemplate": "County=Goliad County<br>Year=%{x}<br>Violent_Offenses=%{y}<extra></extra>",
         "legendgroup": "Goliad County",
         "line": {
          "color": "#B6E880",
          "dash": "solid"
         },
         "marker": {
          "symbol": "circle"
         },
         "mode": "lines",
         "name": "Goliad County",
         "showlegend": true,
         "type": "scattergl",
         "x": [
          2015,
          2016,
          2017,
          2018,
          2019,
          2020
         ],
         "xaxis": "x",
         "y": [
          18,
          14,
          16,
          13,
          20,
          21
         ],
         "yaxis": "y"
        },
        {
         "hovertemplate": "County=Gonzales County<br>Year=%{x}<br>Violent_Offenses=%{y}<extra></extra>",
         "legendgroup": "Gonzales County",
         "line": {
          "color": "#FF97FF",
          "dash": "solid"
         },
         "marker": {
          "symbol": "circle"
         },
         "mode": "lines",
         "name": "Gonzales County",
         "showlegend": true,
         "type": "scattergl",
         "x": [
          2015,
          2016,
          2017,
          2018,
          2019,
          2020
         ],
         "xaxis": "x",
         "y": [
          114,
          109,
          81,
          119,
          111,
          117
         ],
         "yaxis": "y"
        },
        {
         "hovertemplate": "County=Gray County<br>Year=%{x}<br>Violent_Offenses=%{y}<extra></extra>",
         "legendgroup": "Gray County",
         "line": {
          "color": "#FECB52",
          "dash": "solid"
         },
         "marker": {
          "symbol": "circle"
         },
         "mode": "lines",
         "name": "Gray County",
         "showlegend": true,
         "type": "scattergl",
         "x": [
          2015,
          2016,
          2017,
          2018,
          2019,
          2020
         ],
         "xaxis": "x",
         "y": [
          101,
          102,
          120,
          111,
          133,
          82
         ],
         "yaxis": "y"
        },
        {
         "hovertemplate": "County=Grayson County<br>Year=%{x}<br>Violent_Offenses=%{y}<extra></extra>",
         "legendgroup": "Grayson County",
         "line": {
          "color": "#636efa",
          "dash": "solid"
         },
         "marker": {
          "symbol": "circle"
         },
         "mode": "lines",
         "name": "Grayson County",
         "showlegend": true,
         "type": "scattergl",
         "x": [
          2015,
          2016,
          2017,
          2018,
          2019,
          2020
         ],
         "xaxis": "x",
         "y": [
          341,
          297,
          309,
          257,
          298,
          347
         ],
         "yaxis": "y"
        },
        {
         "hovertemplate": "County=Gregg County<br>Year=%{x}<br>Violent_Offenses=%{y}<extra></extra>",
         "legendgroup": "Gregg County",
         "line": {
          "color": "#EF553B",
          "dash": "solid"
         },
         "marker": {
          "symbol": "circle"
         },
         "mode": "lines",
         "name": "Gregg County",
         "showlegend": true,
         "type": "scattergl",
         "x": [
          2015,
          2016,
          2017,
          2018,
          2019,
          2020
         ],
         "xaxis": "x",
         "y": [
          468,
          501,
          449,
          409,
          441,
          380
         ],
         "yaxis": "y"
        },
        {
         "hovertemplate": "County=Grimes County<br>Year=%{x}<br>Violent_Offenses=%{y}<extra></extra>",
         "legendgroup": "Grimes County",
         "line": {
          "color": "#00cc96",
          "dash": "solid"
         },
         "marker": {
          "symbol": "circle"
         },
         "mode": "lines",
         "name": "Grimes County",
         "showlegend": true,
         "type": "scattergl",
         "x": [
          2015,
          2016,
          2017,
          2018,
          2019,
          2020
         ],
         "xaxis": "x",
         "y": [
          85,
          70,
          48,
          39,
          33,
          69
         ],
         "yaxis": "y"
        },
        {
         "hovertemplate": "County=Guadalupe County<br>Year=%{x}<br>Violent_Offenses=%{y}<extra></extra>",
         "legendgroup": "Guadalupe County",
         "line": {
          "color": "#ab63fa",
          "dash": "solid"
         },
         "marker": {
          "symbol": "circle"
         },
         "mode": "lines",
         "name": "Guadalupe County",
         "showlegend": true,
         "type": "scattergl",
         "x": [
          2015,
          2016,
          2017,
          2018,
          2019,
          2020
         ],
         "xaxis": "x",
         "y": [
          194,
          245,
          268,
          254,
          237,
          231
         ],
         "yaxis": "y"
        },
        {
         "hovertemplate": "County=Hale County<br>Year=%{x}<br>Violent_Offenses=%{y}<extra></extra>",
         "legendgroup": "Hale County",
         "line": {
          "color": "#FFA15A",
          "dash": "solid"
         },
         "marker": {
          "symbol": "circle"
         },
         "mode": "lines",
         "name": "Hale County",
         "showlegend": true,
         "type": "scattergl",
         "x": [
          2015,
          2016,
          2017,
          2018,
          2019,
          2020
         ],
         "xaxis": "x",
         "y": [
          49,
          74,
          80,
          85,
          60,
          49
         ],
         "yaxis": "y"
        },
        {
         "hovertemplate": "County=Hall County<br>Year=%{x}<br>Violent_Offenses=%{y}<extra></extra>",
         "legendgroup": "Hall County",
         "line": {
          "color": "#19d3f3",
          "dash": "solid"
         },
         "marker": {
          "symbol": "circle"
         },
         "mode": "lines",
         "name": "Hall County",
         "showlegend": true,
         "type": "scattergl",
         "x": [
          2015,
          2016,
          2017,
          2018,
          2019,
          2020
         ],
         "xaxis": "x",
         "y": [
          7,
          9,
          20,
          8,
          3,
          0
         ],
         "yaxis": "y"
        },
        {
         "hovertemplate": "County=Hamilton County<br>Year=%{x}<br>Violent_Offenses=%{y}<extra></extra>",
         "legendgroup": "Hamilton County",
         "line": {
          "color": "#FF6692",
          "dash": "solid"
         },
         "marker": {
          "symbol": "circle"
         },
         "mode": "lines",
         "name": "Hamilton County",
         "showlegend": true,
         "type": "scattergl",
         "x": [
          2015,
          2016,
          2017,
          2018,
          2019,
          2020
         ],
         "xaxis": "x",
         "y": [
          8,
          18,
          20,
          6,
          14,
          6
         ],
         "yaxis": "y"
        },
        {
         "hovertemplate": "County=Hansford County<br>Year=%{x}<br>Violent_Offenses=%{y}<extra></extra>",
         "legendgroup": "Hansford County",
         "line": {
          "color": "#B6E880",
          "dash": "solid"
         },
         "marker": {
          "symbol": "circle"
         },
         "mode": "lines",
         "name": "Hansford County",
         "showlegend": true,
         "type": "scattergl",
         "x": [
          2015,
          2016,
          2017,
          2018,
          2019,
          2020
         ],
         "xaxis": "x",
         "y": [
          3,
          8,
          2,
          9,
          5,
          10
         ],
         "yaxis": "y"
        },
        {
         "hovertemplate": "County=Hardeman County<br>Year=%{x}<br>Violent_Offenses=%{y}<extra></extra>",
         "legendgroup": "Hardeman County",
         "line": {
          "color": "#FF97FF",
          "dash": "solid"
         },
         "marker": {
          "symbol": "circle"
         },
         "mode": "lines",
         "name": "Hardeman County",
         "showlegend": true,
         "type": "scattergl",
         "x": [
          2015,
          2016,
          2017,
          2018,
          2019,
          2020
         ],
         "xaxis": "x",
         "y": [
          3,
          2,
          0,
          0,
          5,
          2
         ],
         "yaxis": "y"
        },
        {
         "hovertemplate": "County=Hardin County<br>Year=%{x}<br>Violent_Offenses=%{y}<extra></extra>",
         "legendgroup": "Hardin County",
         "line": {
          "color": "#FECB52",
          "dash": "solid"
         },
         "marker": {
          "symbol": "circle"
         },
         "mode": "lines",
         "name": "Hardin County",
         "showlegend": true,
         "type": "scattergl",
         "x": [
          2015,
          2016,
          2017,
          2018,
          2019,
          2020
         ],
         "xaxis": "x",
         "y": [
          97,
          83,
          81,
          78,
          85,
          67
         ],
         "yaxis": "y"
        },
        {
         "hovertemplate": "County=Harris County<br>Year=%{x}<br>Violent_Offenses=%{y}<extra></extra>",
         "legendgroup": "Harris County",
         "line": {
          "color": "#636efa",
          "dash": "solid"
         },
         "marker": {
          "symbol": "circle"
         },
         "mode": "lines",
         "name": "Harris County",
         "showlegend": true,
         "type": "scattergl",
         "x": [
          2015,
          2016,
          2017,
          2018,
          2019,
          2020
         ],
         "xaxis": "x",
         "y": [
          18684,
          21126,
          23222,
          23709,
          23021,
          29232
         ],
         "yaxis": "y"
        },
        {
         "hovertemplate": "County=Harrison County<br>Year=%{x}<br>Violent_Offenses=%{y}<extra></extra>",
         "legendgroup": "Harrison County",
         "line": {
          "color": "#EF553B",
          "dash": "solid"
         },
         "marker": {
          "symbol": "circle"
         },
         "mode": "lines",
         "name": "Harrison County",
         "showlegend": true,
         "type": "scattergl",
         "x": [
          2015,
          2016,
          2017,
          2018,
          2019,
          2020
         ],
         "xaxis": "x",
         "y": [
          176,
          164,
          190,
          180,
          162,
          193
         ],
         "yaxis": "y"
        },
        {
         "hovertemplate": "County=Hartley County<br>Year=%{x}<br>Violent_Offenses=%{y}<extra></extra>",
         "legendgroup": "Hartley County",
         "line": {
          "color": "#00cc96",
          "dash": "solid"
         },
         "marker": {
          "symbol": "circle"
         },
         "mode": "lines",
         "name": "Hartley County",
         "showlegend": true,
         "type": "scattergl",
         "x": [
          2015,
          2016,
          2017,
          2018,
          2019,
          2020
         ],
         "xaxis": "x",
         "y": [
          1,
          1,
          1,
          1,
          0,
          0
         ],
         "yaxis": "y"
        },
        {
         "hovertemplate": "County=Haskell County<br>Year=%{x}<br>Violent_Offenses=%{y}<extra></extra>",
         "legendgroup": "Haskell County",
         "line": {
          "color": "#ab63fa",
          "dash": "solid"
         },
         "marker": {
          "symbol": "circle"
         },
         "mode": "lines",
         "name": "Haskell County",
         "showlegend": true,
         "type": "scattergl",
         "x": [
          2015,
          2016,
          2017,
          2018,
          2019,
          2020
         ],
         "xaxis": "x",
         "y": [
          5,
          7,
          7,
          1,
          9,
          5
         ],
         "yaxis": "y"
        },
        {
         "hovertemplate": "County=Hays County<br>Year=%{x}<br>Violent_Offenses=%{y}<extra></extra>",
         "legendgroup": "Hays County",
         "line": {
          "color": "#FFA15A",
          "dash": "solid"
         },
         "marker": {
          "symbol": "circle"
         },
         "mode": "lines",
         "name": "Hays County",
         "showlegend": true,
         "type": "scattergl",
         "x": [
          2015,
          2016,
          2017,
          2018,
          2019,
          2020
         ],
         "xaxis": "x",
         "y": [
          396,
          385,
          384,
          458,
          400,
          494
         ],
         "yaxis": "y"
        },
        {
         "hovertemplate": "County=Hemphill County<br>Year=%{x}<br>Violent_Offenses=%{y}<extra></extra>",
         "legendgroup": "Hemphill County",
         "line": {
          "color": "#19d3f3",
          "dash": "solid"
         },
         "marker": {
          "symbol": "circle"
         },
         "mode": "lines",
         "name": "Hemphill County",
         "showlegend": true,
         "type": "scattergl",
         "x": [
          2015,
          2016,
          2017,
          2018,
          2019,
          2020
         ],
         "xaxis": "x",
         "y": [
          18,
          11,
          0,
          1,
          5,
          7
         ],
         "yaxis": "y"
        },
        {
         "hovertemplate": "County=Henderson County<br>Year=%{x}<br>Violent_Offenses=%{y}<extra></extra>",
         "legendgroup": "Henderson County",
         "line": {
          "color": "#FF6692",
          "dash": "solid"
         },
         "marker": {
          "symbol": "circle"
         },
         "mode": "lines",
         "name": "Henderson County",
         "showlegend": true,
         "type": "scattergl",
         "x": [
          2015,
          2016,
          2017,
          2018,
          2019,
          2020
         ],
         "xaxis": "x",
         "y": [
          196,
          276,
          253,
          215,
          197,
          174
         ],
         "yaxis": "y"
        },
        {
         "hovertemplate": "County=Hidalgo County<br>Year=%{x}<br>Violent_Offenses=%{y}<extra></extra>",
         "legendgroup": "Hidalgo County",
         "line": {
          "color": "#B6E880",
          "dash": "solid"
         },
         "marker": {
          "symbol": "circle"
         },
         "mode": "lines",
         "name": "Hidalgo County",
         "showlegend": true,
         "type": "scattergl",
         "x": [
          2015,
          2016,
          2017,
          2018,
          2019,
          2020
         ],
         "xaxis": "x",
         "y": [
          2078,
          2080,
          2146,
          1989,
          2005,
          2060
         ],
         "yaxis": "y"
        },
        {
         "hovertemplate": "County=Hill County<br>Year=%{x}<br>Violent_Offenses=%{y}<extra></extra>",
         "legendgroup": "Hill County",
         "line": {
          "color": "#FF97FF",
          "dash": "solid"
         },
         "marker": {
          "symbol": "circle"
         },
         "mode": "lines",
         "name": "Hill County",
         "showlegend": true,
         "type": "scattergl",
         "x": [
          2015,
          2016,
          2017,
          2018,
          2019,
          2020
         ],
         "xaxis": "x",
         "y": [
          69,
          47,
          50,
          71,
          53,
          47
         ],
         "yaxis": "y"
        },
        {
         "hovertemplate": "County=Hockley County<br>Year=%{x}<br>Violent_Offenses=%{y}<extra></extra>",
         "legendgroup": "Hockley County",
         "line": {
          "color": "#FECB52",
          "dash": "solid"
         },
         "marker": {
          "symbol": "circle"
         },
         "mode": "lines",
         "name": "Hockley County",
         "showlegend": true,
         "type": "scattergl",
         "x": [
          2015,
          2016,
          2017,
          2018,
          2019,
          2020
         ],
         "xaxis": "x",
         "y": [
          126,
          106,
          129,
          128,
          151,
          135
         ],
         "yaxis": "y"
        },
        {
         "hovertemplate": "County=Hood County<br>Year=%{x}<br>Violent_Offenses=%{y}<extra></extra>",
         "legendgroup": "Hood County",
         "line": {
          "color": "#636efa",
          "dash": "solid"
         },
         "marker": {
          "symbol": "circle"
         },
         "mode": "lines",
         "name": "Hood County",
         "showlegend": true,
         "type": "scattergl",
         "x": [
          2015,
          2016,
          2017,
          2018,
          2019,
          2020
         ],
         "xaxis": "x",
         "y": [
          87,
          91,
          115,
          88,
          74,
          88
         ],
         "yaxis": "y"
        },
        {
         "hovertemplate": "County=Hopkins County<br>Year=%{x}<br>Violent_Offenses=%{y}<extra></extra>",
         "legendgroup": "Hopkins County",
         "line": {
          "color": "#EF553B",
          "dash": "solid"
         },
         "marker": {
          "symbol": "circle"
         },
         "mode": "lines",
         "name": "Hopkins County",
         "showlegend": true,
         "type": "scattergl",
         "x": [
          2015,
          2016,
          2017,
          2018,
          2019,
          2020
         ],
         "xaxis": "x",
         "y": [
          61,
          46,
          60,
          44,
          53,
          62
         ],
         "yaxis": "y"
        },
        {
         "hovertemplate": "County=Houston County<br>Year=%{x}<br>Violent_Offenses=%{y}<extra></extra>",
         "legendgroup": "Houston County",
         "line": {
          "color": "#00cc96",
          "dash": "solid"
         },
         "marker": {
          "symbol": "circle"
         },
         "mode": "lines",
         "name": "Houston County",
         "showlegend": true,
         "type": "scattergl",
         "x": [
          2015,
          2016,
          2017,
          2018,
          2019,
          2020
         ],
         "xaxis": "x",
         "y": [
          60,
          54,
          47,
          43,
          38,
          30
         ],
         "yaxis": "y"
        },
        {
         "hovertemplate": "County=Howard County<br>Year=%{x}<br>Violent_Offenses=%{y}<extra></extra>",
         "legendgroup": "Howard County",
         "line": {
          "color": "#ab63fa",
          "dash": "solid"
         },
         "marker": {
          "symbol": "circle"
         },
         "mode": "lines",
         "name": "Howard County",
         "showlegend": true,
         "type": "scattergl",
         "x": [
          2015,
          2016,
          2017,
          2018,
          2019,
          2020
         ],
         "xaxis": "x",
         "y": [
          234,
          182,
          174,
          192,
          185,
          160
         ],
         "yaxis": "y"
        },
        {
         "hovertemplate": "County=Hudspeth County<br>Year=%{x}<br>Violent_Offenses=%{y}<extra></extra>",
         "legendgroup": "Hudspeth County",
         "line": {
          "color": "#FFA15A",
          "dash": "solid"
         },
         "marker": {
          "symbol": "circle"
         },
         "mode": "lines",
         "name": "Hudspeth County",
         "showlegend": true,
         "type": "scattergl",
         "x": [
          2015,
          2016,
          2017,
          2018,
          2019,
          2020
         ],
         "xaxis": "x",
         "y": [
          1,
          4,
          1,
          3,
          8,
          2
         ],
         "yaxis": "y"
        },
        {
         "hovertemplate": "County=Hunt County<br>Year=%{x}<br>Violent_Offenses=%{y}<extra></extra>",
         "legendgroup": "Hunt County",
         "line": {
          "color": "#19d3f3",
          "dash": "solid"
         },
         "marker": {
          "symbol": "circle"
         },
         "mode": "lines",
         "name": "Hunt County",
         "showlegend": true,
         "type": "scattergl",
         "x": [
          2015,
          2016,
          2017,
          2018,
          2019,
          2020
         ],
         "xaxis": "x",
         "y": [
          202,
          240,
          275,
          358,
          446,
          407
         ],
         "yaxis": "y"
        },
        {
         "hovertemplate": "County=Hutchinson County<br>Year=%{x}<br>Violent_Offenses=%{y}<extra></extra>",
         "legendgroup": "Hutchinson County",
         "line": {
          "color": "#FF6692",
          "dash": "solid"
         },
         "marker": {
          "symbol": "circle"
         },
         "mode": "lines",
         "name": "Hutchinson County",
         "showlegend": true,
         "type": "scattergl",
         "x": [
          2015,
          2016,
          2017,
          2018,
          2019,
          2020
         ],
         "xaxis": "x",
         "y": [
          99,
          57,
          63,
          47,
          50,
          46
         ],
         "yaxis": "y"
        },
        {
         "hovertemplate": "County=Irion County<br>Year=%{x}<br>Violent_Offenses=%{y}<extra></extra>",
         "legendgroup": "Irion County",
         "line": {
          "color": "#B6E880",
          "dash": "solid"
         },
         "marker": {
          "symbol": "circle"
         },
         "mode": "lines",
         "name": "Irion County",
         "showlegend": true,
         "type": "scattergl",
         "x": [
          2015,
          2016,
          2017,
          2018,
          2019,
          2020
         ],
         "xaxis": "x",
         "y": [
          1,
          1,
          1,
          4,
          6,
          1
         ],
         "yaxis": "y"
        },
        {
         "hovertemplate": "County=Jack County<br>Year=%{x}<br>Violent_Offenses=%{y}<extra></extra>",
         "legendgroup": "Jack County",
         "line": {
          "color": "#FF97FF",
          "dash": "solid"
         },
         "marker": {
          "symbol": "circle"
         },
         "mode": "lines",
         "name": "Jack County",
         "showlegend": true,
         "type": "scattergl",
         "x": [
          2015,
          2016,
          2017,
          2018,
          2019,
          2020
         ],
         "xaxis": "x",
         "y": [
          21,
          23,
          14,
          12,
          13,
          16
         ],
         "yaxis": "y"
        },
        {
         "hovertemplate": "County=Jackson County<br>Year=%{x}<br>Violent_Offenses=%{y}<extra></extra>",
         "legendgroup": "Jackson County",
         "line": {
          "color": "#FECB52",
          "dash": "solid"
         },
         "marker": {
          "symbol": "circle"
         },
         "mode": "lines",
         "name": "Jackson County",
         "showlegend": true,
         "type": "scattergl",
         "x": [
          2015,
          2016,
          2017,
          2018,
          2019,
          2020
         ],
         "xaxis": "x",
         "y": [
          26,
          32,
          14,
          19,
          14,
          27
         ],
         "yaxis": "y"
        },
        {
         "hovertemplate": "County=Jasper County<br>Year=%{x}<br>Violent_Offenses=%{y}<extra></extra>",
         "legendgroup": "Jasper County",
         "line": {
          "color": "#636efa",
          "dash": "solid"
         },
         "marker": {
          "symbol": "circle"
         },
         "mode": "lines",
         "name": "Jasper County",
         "showlegend": true,
         "type": "scattergl",
         "x": [
          2015,
          2016,
          2017,
          2018,
          2019,
          2020
         ],
         "xaxis": "x",
         "y": [
          124,
          116,
          126,
          90,
          105,
          103
         ],
         "yaxis": "y"
        },
        {
         "hovertemplate": "County=Jeff Davis County<br>Year=%{x}<br>Violent_Offenses=%{y}<extra></extra>",
         "legendgroup": "Jeff Davis County",
         "line": {
          "color": "#EF553B",
          "dash": "solid"
         },
         "marker": {
          "symbol": "circle"
         },
         "mode": "lines",
         "name": "Jeff Davis County",
         "showlegend": true,
         "type": "scattergl",
         "x": [
          2015,
          2016,
          2017,
          2018,
          2019,
          2020
         ],
         "xaxis": "x",
         "y": [
          4,
          2,
          4,
          5,
          4,
          2
         ],
         "yaxis": "y"
        },
        {
         "hovertemplate": "County=Jefferson County<br>Year=%{x}<br>Violent_Offenses=%{y}<extra></extra>",
         "legendgroup": "Jefferson County",
         "line": {
          "color": "#00cc96",
          "dash": "solid"
         },
         "marker": {
          "symbol": "circle"
         },
         "mode": "lines",
         "name": "Jefferson County",
         "showlegend": true,
         "type": "scattergl",
         "x": [
          2015,
          2016,
          2017,
          2018,
          2019,
          2020
         ],
         "xaxis": "x",
         "y": [
          1237,
          1422,
          1432,
          1409,
          1377,
          1700
         ],
         "yaxis": "y"
        },
        {
         "hovertemplate": "County=Jim Hogg County<br>Year=%{x}<br>Violent_Offenses=%{y}<extra></extra>",
         "legendgroup": "Jim Hogg County",
         "line": {
          "color": "#ab63fa",
          "dash": "solid"
         },
         "marker": {
          "symbol": "circle"
         },
         "mode": "lines",
         "name": "Jim Hogg County",
         "showlegend": true,
         "type": "scattergl",
         "x": [
          2015,
          2016,
          2017,
          2018,
          2019,
          2020
         ],
         "xaxis": "x",
         "y": [
          2,
          2,
          7,
          4,
          5,
          12
         ],
         "yaxis": "y"
        },
        {
         "hovertemplate": "County=Jim Wells County<br>Year=%{x}<br>Violent_Offenses=%{y}<extra></extra>",
         "legendgroup": "Jim Wells County",
         "line": {
          "color": "#FFA15A",
          "dash": "solid"
         },
         "marker": {
          "symbol": "circle"
         },
         "mode": "lines",
         "name": "Jim Wells County",
         "showlegend": true,
         "type": "scattergl",
         "x": [
          2015,
          2016,
          2017,
          2018,
          2019,
          2020
         ],
         "xaxis": "x",
         "y": [
          201,
          205,
          205,
          206,
          199,
          203
         ],
         "yaxis": "y"
        },
        {
         "hovertemplate": "County=Johnson County<br>Year=%{x}<br>Violent_Offenses=%{y}<extra></extra>",
         "legendgroup": "Johnson County",
         "line": {
          "color": "#19d3f3",
          "dash": "solid"
         },
         "marker": {
          "symbol": "circle"
         },
         "mode": "lines",
         "name": "Johnson County",
         "showlegend": true,
         "type": "scattergl",
         "x": [
          2015,
          2016,
          2017,
          2018,
          2019,
          2020
         ],
         "xaxis": "x",
         "y": [
          351,
          330,
          399,
          438,
          428,
          450
         ],
         "yaxis": "y"
        },
        {
         "hovertemplate": "County=Jones County<br>Year=%{x}<br>Violent_Offenses=%{y}<extra></extra>",
         "legendgroup": "Jones County",
         "line": {
          "color": "#FF6692",
          "dash": "solid"
         },
         "marker": {
          "symbol": "circle"
         },
         "mode": "lines",
         "name": "Jones County",
         "showlegend": true,
         "type": "scattergl",
         "x": [
          2015,
          2016,
          2017,
          2018,
          2019,
          2020
         ],
         "xaxis": "x",
         "y": [
          21,
          18,
          41,
          17,
          11,
          16
         ],
         "yaxis": "y"
        },
        {
         "hovertemplate": "County=Karnes County<br>Year=%{x}<br>Violent_Offenses=%{y}<extra></extra>",
         "legendgroup": "Karnes County",
         "line": {
          "color": "#B6E880",
          "dash": "solid"
         },
         "marker": {
          "symbol": "circle"
         },
         "mode": "lines",
         "name": "Karnes County",
         "showlegend": true,
         "type": "scattergl",
         "x": [
          2015,
          2016,
          2017,
          2018,
          2019,
          2020
         ],
         "xaxis": "x",
         "y": [
          25,
          39,
          38,
          30,
          53,
          22
         ],
         "yaxis": "y"
        },
        {
         "hovertemplate": "County=Kaufman County<br>Year=%{x}<br>Violent_Offenses=%{y}<extra></extra>",
         "legendgroup": "Kaufman County",
         "line": {
          "color": "#FF97FF",
          "dash": "solid"
         },
         "marker": {
          "symbol": "circle"
         },
         "mode": "lines",
         "name": "Kaufman County",
         "showlegend": true,
         "type": "scattergl",
         "x": [
          2015,
          2016,
          2017,
          2018,
          2019,
          2020
         ],
         "xaxis": "x",
         "y": [
          200,
          244,
          239,
          228,
          201,
          209
         ],
         "yaxis": "y"
        },
        {
         "hovertemplate": "County=Kendall County<br>Year=%{x}<br>Violent_Offenses=%{y}<extra></extra>",
         "legendgroup": "Kendall County",
         "line": {
          "color": "#FECB52",
          "dash": "solid"
         },
         "marker": {
          "symbol": "circle"
         },
         "mode": "lines",
         "name": "Kendall County",
         "showlegend": true,
         "type": "scattergl",
         "x": [
          2015,
          2016,
          2017,
          2018,
          2019,
          2020
         ],
         "xaxis": "x",
         "y": [
          34,
          30,
          43,
          42,
          39,
          55
         ],
         "yaxis": "y"
        },
        {
         "hovertemplate": "County=Kenedy County<br>Year=%{x}<br>Violent_Offenses=%{y}<extra></extra>",
         "legendgroup": "Kenedy County",
         "line": {
          "color": "#636efa",
          "dash": "solid"
         },
         "marker": {
          "symbol": "circle"
         },
         "mode": "lines",
         "name": "Kenedy County",
         "showlegend": true,
         "type": "scattergl",
         "x": [
          2015,
          2016,
          2017,
          2018,
          2019,
          2020
         ],
         "xaxis": "x",
         "y": [
          1,
          6,
          3,
          2,
          0,
          2
         ],
         "yaxis": "y"
        },
        {
         "hovertemplate": "County=Kent County<br>Year=%{x}<br>Violent_Offenses=%{y}<extra></extra>",
         "legendgroup": "Kent County",
         "line": {
          "color": "#EF553B",
          "dash": "solid"
         },
         "marker": {
          "symbol": "circle"
         },
         "mode": "lines",
         "name": "Kent County",
         "showlegend": true,
         "type": "scattergl",
         "x": [
          2015,
          2016,
          2017,
          2018,
          2019,
          2020
         ],
         "xaxis": "x",
         "y": [
          2,
          3,
          0,
          2,
          4,
          0
         ],
         "yaxis": "y"
        },
        {
         "hovertemplate": "County=Kerr County<br>Year=%{x}<br>Violent_Offenses=%{y}<extra></extra>",
         "legendgroup": "Kerr County",
         "line": {
          "color": "#00cc96",
          "dash": "solid"
         },
         "marker": {
          "symbol": "circle"
         },
         "mode": "lines",
         "name": "Kerr County",
         "showlegend": true,
         "type": "scattergl",
         "x": [
          2015,
          2016,
          2017,
          2018,
          2019,
          2020
         ],
         "xaxis": "x",
         "y": [
          118,
          117,
          82,
          94,
          103,
          108
         ],
         "yaxis": "y"
        },
        {
         "hovertemplate": "County=Kimble County<br>Year=%{x}<br>Violent_Offenses=%{y}<extra></extra>",
         "legendgroup": "Kimble County",
         "line": {
          "color": "#ab63fa",
          "dash": "solid"
         },
         "marker": {
          "symbol": "circle"
         },
         "mode": "lines",
         "name": "Kimble County",
         "showlegend": true,
         "type": "scattergl",
         "x": [
          2015,
          2016,
          2017,
          2018,
          2019,
          2020
         ],
         "xaxis": "x",
         "y": [
          3,
          4,
          5,
          5,
          10,
          1
         ],
         "yaxis": "y"
        },
        {
         "hovertemplate": "County=King County<br>Year=%{x}<br>Violent_Offenses=%{y}<extra></extra>",
         "legendgroup": "King County",
         "line": {
          "color": "#FFA15A",
          "dash": "solid"
         },
         "marker": {
          "symbol": "circle"
         },
         "mode": "lines",
         "name": "King County",
         "showlegend": true,
         "type": "scattergl",
         "x": [
          2015,
          2016,
          2017,
          2018
         ],
         "xaxis": "x",
         "y": [
          0,
          0,
          0,
          0
         ],
         "yaxis": "y"
        },
        {
         "hovertemplate": "County=Kinney County<br>Year=%{x}<br>Violent_Offenses=%{y}<extra></extra>",
         "legendgroup": "Kinney County",
         "line": {
          "color": "#19d3f3",
          "dash": "solid"
         },
         "marker": {
          "symbol": "circle"
         },
         "mode": "lines",
         "name": "Kinney County",
         "showlegend": true,
         "type": "scattergl",
         "x": [
          2015,
          2016,
          2017,
          2018,
          2019,
          2020
         ],
         "xaxis": "x",
         "y": [
          0,
          1,
          4,
          0,
          0,
          0
         ],
         "yaxis": "y"
        },
        {
         "hovertemplate": "County=Kleberg County<br>Year=%{x}<br>Violent_Offenses=%{y}<extra></extra>",
         "legendgroup": "Kleberg County",
         "line": {
          "color": "#FF6692",
          "dash": "solid"
         },
         "marker": {
          "symbol": "circle"
         },
         "mode": "lines",
         "name": "Kleberg County",
         "showlegend": true,
         "type": "scattergl",
         "x": [
          2015,
          2016,
          2017,
          2018,
          2019,
          2020
         ],
         "xaxis": "x",
         "y": [
          121,
          85,
          139,
          105,
          135,
          126
         ],
         "yaxis": "y"
        },
        {
         "hovertemplate": "County=Knox County<br>Year=%{x}<br>Violent_Offenses=%{y}<extra></extra>",
         "legendgroup": "Knox County",
         "line": {
          "color": "#B6E880",
          "dash": "solid"
         },
         "marker": {
          "symbol": "circle"
         },
         "mode": "lines",
         "name": "Knox County",
         "showlegend": true,
         "type": "scattergl",
         "x": [
          2015,
          2016,
          2017,
          2018,
          2019,
          2020
         ],
         "xaxis": "x",
         "y": [
          10,
          13,
          8,
          1,
          3,
          5
         ],
         "yaxis": "y"
        },
        {
         "hovertemplate": "County=La Salle County<br>Year=%{x}<br>Violent_Offenses=%{y}<extra></extra>",
         "legendgroup": "La Salle County",
         "line": {
          "color": "#FF97FF",
          "dash": "solid"
         },
         "marker": {
          "symbol": "circle"
         },
         "mode": "lines",
         "name": "La Salle County",
         "showlegend": true,
         "type": "scattergl",
         "x": [
          2015,
          2016,
          2017,
          2018,
          2019,
          2020
         ],
         "xaxis": "x",
         "y": [
          6,
          7,
          9,
          3,
          5,
          21
         ],
         "yaxis": "y"
        },
        {
         "hovertemplate": "County=Lamar County<br>Year=%{x}<br>Violent_Offenses=%{y}<extra></extra>",
         "legendgroup": "Lamar County",
         "line": {
          "color": "#FECB52",
          "dash": "solid"
         },
         "marker": {
          "symbol": "circle"
         },
         "mode": "lines",
         "name": "Lamar County",
         "showlegend": true,
         "type": "scattergl",
         "x": [
          2015,
          2016,
          2017,
          2018,
          2019,
          2020
         ],
         "xaxis": "x",
         "y": [
          133,
          170,
          221,
          231,
          270,
          266
         ],
         "yaxis": "y"
        },
        {
         "hovertemplate": "County=Lamb County<br>Year=%{x}<br>Violent_Offenses=%{y}<extra></extra>",
         "legendgroup": "Lamb County",
         "line": {
          "color": "#636efa",
          "dash": "solid"
         },
         "marker": {
          "symbol": "circle"
         },
         "mode": "lines",
         "name": "Lamb County",
         "showlegend": true,
         "type": "scattergl",
         "x": [
          2015,
          2016,
          2017,
          2018,
          2019,
          2020
         ],
         "xaxis": "x",
         "y": [
          49,
          53,
          48,
          45,
          39,
          39
         ],
         "yaxis": "y"
        },
        {
         "hovertemplate": "County=Lampasas County<br>Year=%{x}<br>Violent_Offenses=%{y}<extra></extra>",
         "legendgroup": "Lampasas County",
         "line": {
          "color": "#EF553B",
          "dash": "solid"
         },
         "marker": {
          "symbol": "circle"
         },
         "mode": "lines",
         "name": "Lampasas County",
         "showlegend": true,
         "type": "scattergl",
         "x": [
          2015,
          2016,
          2017,
          2018,
          2019,
          2020
         ],
         "xaxis": "x",
         "y": [
          24,
          25,
          30,
          32,
          25,
          35
         ],
         "yaxis": "y"
        },
        {
         "hovertemplate": "County=Lavaca County<br>Year=%{x}<br>Violent_Offenses=%{y}<extra></extra>",
         "legendgroup": "Lavaca County",
         "line": {
          "color": "#00cc96",
          "dash": "solid"
         },
         "marker": {
          "symbol": "circle"
         },
         "mode": "lines",
         "name": "Lavaca County",
         "showlegend": true,
         "type": "scattergl",
         "x": [
          2015,
          2016,
          2017,
          2018,
          2019,
          2020
         ],
         "xaxis": "x",
         "y": [
          49,
          29,
          39,
          45,
          40,
          29
         ],
         "yaxis": "y"
        },
        {
         "hovertemplate": "County=Lee County<br>Year=%{x}<br>Violent_Offenses=%{y}<extra></extra>",
         "legendgroup": "Lee County",
         "line": {
          "color": "#ab63fa",
          "dash": "solid"
         },
         "marker": {
          "symbol": "circle"
         },
         "mode": "lines",
         "name": "Lee County",
         "showlegend": true,
         "type": "scattergl",
         "x": [
          2015,
          2016,
          2017,
          2018,
          2019,
          2020
         ],
         "xaxis": "x",
         "y": [
          32,
          32,
          38,
          34,
          48,
          37
         ],
         "yaxis": "y"
        },
        {
         "hovertemplate": "County=Leon County<br>Year=%{x}<br>Violent_Offenses=%{y}<extra></extra>",
         "legendgroup": "Leon County",
         "line": {
          "color": "#FFA15A",
          "dash": "solid"
         },
         "marker": {
          "symbol": "circle"
         },
         "mode": "lines",
         "name": "Leon County",
         "showlegend": true,
         "type": "scattergl",
         "x": [
          2015,
          2016,
          2017,
          2018,
          2019,
          2020
         ],
         "xaxis": "x",
         "y": [
          15,
          28,
          18,
          20,
          11,
          6
         ],
         "yaxis": "y"
        },
        {
         "hovertemplate": "County=Liberty County<br>Year=%{x}<br>Violent_Offenses=%{y}<extra></extra>",
         "legendgroup": "Liberty County",
         "line": {
          "color": "#19d3f3",
          "dash": "solid"
         },
         "marker": {
          "symbol": "circle"
         },
         "mode": "lines",
         "name": "Liberty County",
         "showlegend": true,
         "type": "scattergl",
         "x": [
          2015,
          2016,
          2017,
          2018,
          2019,
          2020
         ],
         "xaxis": "x",
         "y": [
          294,
          282,
          113,
          247,
          215,
          315
         ],
         "yaxis": "y"
        },
        {
         "hovertemplate": "County=Limestone County<br>Year=%{x}<br>Violent_Offenses=%{y}<extra></extra>",
         "legendgroup": "Limestone County",
         "line": {
          "color": "#FF6692",
          "dash": "solid"
         },
         "marker": {
          "symbol": "circle"
         },
         "mode": "lines",
         "name": "Limestone County",
         "showlegend": true,
         "type": "scattergl",
         "x": [
          2015,
          2016,
          2017,
          2018,
          2019,
          2020
         ],
         "xaxis": "x",
         "y": [
          69,
          75,
          67,
          65,
          35,
          47
         ],
         "yaxis": "y"
        },
        {
         "hovertemplate": "County=Lipscomb County<br>Year=%{x}<br>Violent_Offenses=%{y}<extra></extra>",
         "legendgroup": "Lipscomb County",
         "line": {
          "color": "#B6E880",
          "dash": "solid"
         },
         "marker": {
          "symbol": "circle"
         },
         "mode": "lines",
         "name": "Lipscomb County",
         "showlegend": true,
         "type": "scattergl",
         "x": [
          2015,
          2016,
          2017,
          2018,
          2019,
          2020
         ],
         "xaxis": "x",
         "y": [
          10,
          4,
          6,
          4,
          0,
          1
         ],
         "yaxis": "y"
        },
        {
         "hovertemplate": "County=Live Oak County<br>Year=%{x}<br>Violent_Offenses=%{y}<extra></extra>",
         "legendgroup": "Live Oak County",
         "line": {
          "color": "#FF97FF",
          "dash": "solid"
         },
         "marker": {
          "symbol": "circle"
         },
         "mode": "lines",
         "name": "Live Oak County",
         "showlegend": true,
         "type": "scattergl",
         "x": [
          2015,
          2016,
          2017,
          2018,
          2019,
          2020
         ],
         "xaxis": "x",
         "y": [
          28,
          33,
          30,
          10,
          4,
          3
         ],
         "yaxis": "y"
        },
        {
         "hovertemplate": "County=Llano County<br>Year=%{x}<br>Violent_Offenses=%{y}<extra></extra>",
         "legendgroup": "Llano County",
         "line": {
          "color": "#FECB52",
          "dash": "solid"
         },
         "marker": {
          "symbol": "circle"
         },
         "mode": "lines",
         "name": "Llano County",
         "showlegend": true,
         "type": "scattergl",
         "x": [
          2015,
          2016,
          2017,
          2018,
          2019,
          2020
         ],
         "xaxis": "x",
         "y": [
          14,
          12,
          8,
          9,
          30,
          31
         ],
         "yaxis": "y"
        },
        {
         "hovertemplate": "County=Loving County<br>Year=%{x}<br>Violent_Offenses=%{y}<extra></extra>",
         "legendgroup": "Loving County",
         "line": {
          "color": "#636efa",
          "dash": "solid"
         },
         "marker": {
          "symbol": "circle"
         },
         "mode": "lines",
         "name": "Loving County",
         "showlegend": true,
         "type": "scattergl",
         "x": [
          2015,
          2016,
          2017,
          2018,
          2019,
          2020
         ],
         "xaxis": "x",
         "y": [
          0,
          0,
          0,
          0,
          1,
          2
         ],
         "yaxis": "y"
        },
        {
         "hovertemplate": "County=Lubbock County<br>Year=%{x}<br>Violent_Offenses=%{y}<extra></extra>",
         "legendgroup": "Lubbock County",
         "line": {
          "color": "#EF553B",
          "dash": "solid"
         },
         "marker": {
          "symbol": "circle"
         },
         "mode": "lines",
         "name": "Lubbock County",
         "showlegend": true,
         "type": "scattergl",
         "x": [
          2015,
          2016,
          2017,
          2018,
          2019,
          2020
         ],
         "xaxis": "x",
         "y": [
          2086,
          2394,
          2354,
          2208,
          2214,
          2536
         ],
         "yaxis": "y"
        },
        {
         "hovertemplate": "County=Lynn County<br>Year=%{x}<br>Violent_Offenses=%{y}<extra></extra>",
         "legendgroup": "Lynn County",
         "line": {
          "color": "#00cc96",
          "dash": "solid"
         },
         "marker": {
          "symbol": "circle"
         },
         "mode": "lines",
         "name": "Lynn County",
         "showlegend": true,
         "type": "scattergl",
         "x": [
          2015,
          2016,
          2017,
          2018,
          2019,
          2020
         ],
         "xaxis": "x",
         "y": [
          6,
          8,
          3,
          1,
          1,
          6
         ],
         "yaxis": "y"
        },
        {
         "hovertemplate": "County=Madison County<br>Year=%{x}<br>Violent_Offenses=%{y}<extra></extra>",
         "legendgroup": "Madison County",
         "line": {
          "color": "#ab63fa",
          "dash": "solid"
         },
         "marker": {
          "symbol": "circle"
         },
         "mode": "lines",
         "name": "Madison County",
         "showlegend": true,
         "type": "scattergl",
         "x": [
          2015,
          2016,
          2017,
          2018,
          2019,
          2020
         ],
         "xaxis": "x",
         "y": [
          34,
          38,
          51,
          21,
          23,
          21
         ],
         "yaxis": "y"
        },
        {
         "hovertemplate": "County=Marion County<br>Year=%{x}<br>Violent_Offenses=%{y}<extra></extra>",
         "legendgroup": "Marion County",
         "line": {
          "color": "#FFA15A",
          "dash": "solid"
         },
         "marker": {
          "symbol": "circle"
         },
         "mode": "lines",
         "name": "Marion County",
         "showlegend": true,
         "type": "scattergl",
         "x": [
          2015,
          2016,
          2017,
          2018,
          2019,
          2020
         ],
         "xaxis": "x",
         "y": [
          53,
          58,
          75,
          38,
          17,
          21
         ],
         "yaxis": "y"
        },
        {
         "hovertemplate": "County=Martin County<br>Year=%{x}<br>Violent_Offenses=%{y}<extra></extra>",
         "legendgroup": "Martin County",
         "line": {
          "color": "#19d3f3",
          "dash": "solid"
         },
         "marker": {
          "symbol": "circle"
         },
         "mode": "lines",
         "name": "Martin County",
         "showlegend": true,
         "type": "scattergl",
         "x": [
          2015,
          2016,
          2017,
          2018,
          2019,
          2020
         ],
         "xaxis": "x",
         "y": [
          12,
          8,
          4,
          11,
          8,
          12
         ],
         "yaxis": "y"
        },
        {
         "hovertemplate": "County=Mason County<br>Year=%{x}<br>Violent_Offenses=%{y}<extra></extra>",
         "legendgroup": "Mason County",
         "line": {
          "color": "#FF6692",
          "dash": "solid"
         },
         "marker": {
          "symbol": "circle"
         },
         "mode": "lines",
         "name": "Mason County",
         "showlegend": true,
         "type": "scattergl",
         "x": [
          2015,
          2016,
          2017,
          2018,
          2019,
          2020
         ],
         "xaxis": "x",
         "y": [
          4,
          2,
          6,
          1,
          8,
          3
         ],
         "yaxis": "y"
        },
        {
         "hovertemplate": "County=Matagorda County<br>Year=%{x}<br>Violent_Offenses=%{y}<extra></extra>",
         "legendgroup": "Matagorda County",
         "line": {
          "color": "#B6E880",
          "dash": "solid"
         },
         "marker": {
          "symbol": "circle"
         },
         "mode": "lines",
         "name": "Matagorda County",
         "showlegend": true,
         "type": "scattergl",
         "x": [
          2015,
          2016,
          2017,
          2018,
          2019,
          2020
         ],
         "xaxis": "x",
         "y": [
          85,
          117,
          143,
          136,
          156,
          169
         ],
         "yaxis": "y"
        },
        {
         "hovertemplate": "County=Maverick County<br>Year=%{x}<br>Violent_Offenses=%{y}<extra></extra>",
         "legendgroup": "Maverick County",
         "line": {
          "color": "#FF97FF",
          "dash": "solid"
         },
         "marker": {
          "symbol": "circle"
         },
         "mode": "lines",
         "name": "Maverick County",
         "showlegend": true,
         "type": "scattergl",
         "x": [
          2015,
          2016,
          2017,
          2018,
          2019,
          2020
         ],
         "xaxis": "x",
         "y": [
          100,
          95,
          74,
          60,
          44,
          83
         ],
         "yaxis": "y"
        },
        {
         "hovertemplate": "County=McCulloch County<br>Year=%{x}<br>Violent_Offenses=%{y}<extra></extra>",
         "legendgroup": "McCulloch County",
         "line": {
          "color": "#FECB52",
          "dash": "solid"
         },
         "marker": {
          "symbol": "circle"
         },
         "mode": "lines",
         "name": "McCulloch County",
         "showlegend": true,
         "type": "scattergl",
         "x": [
          2015,
          2016,
          2017,
          2018,
          2019,
          2020
         ],
         "xaxis": "x",
         "y": [
          6,
          4,
          7,
          4,
          12,
          18
         ],
         "yaxis": "y"
        },
        {
         "hovertemplate": "County=McLennan County<br>Year=%{x}<br>Violent_Offenses=%{y}<extra></extra>",
         "legendgroup": "McLennan County",
         "line": {
          "color": "#636efa",
          "dash": "solid"
         },
         "marker": {
          "symbol": "circle"
         },
         "mode": "lines",
         "name": "McLennan County",
         "showlegend": true,
         "type": "scattergl",
         "x": [
          2015,
          2016,
          2017,
          2018,
          2019,
          2020
         ],
         "xaxis": "x",
         "y": [
          870,
          895,
          950,
          927,
          924,
          1031
         ],
         "yaxis": "y"
        },
        {
         "hovertemplate": "County=McMullen County<br>Year=%{x}<br>Violent_Offenses=%{y}<extra></extra>",
         "legendgroup": "McMullen County",
         "line": {
          "color": "#EF553B",
          "dash": "solid"
         },
         "marker": {
          "symbol": "circle"
         },
         "mode": "lines",
         "name": "McMullen County",
         "showlegend": true,
         "type": "scattergl",
         "x": [
          2015,
          2016,
          2017,
          2018,
          2019,
          2020
         ],
         "xaxis": "x",
         "y": [
          1,
          1,
          0,
          1,
          0,
          0
         ],
         "yaxis": "y"
        },
        {
         "hovertemplate": "County=Medina County<br>Year=%{x}<br>Violent_Offenses=%{y}<extra></extra>",
         "legendgroup": "Medina County",
         "line": {
          "color": "#00cc96",
          "dash": "solid"
         },
         "marker": {
          "symbol": "circle"
         },
         "mode": "lines",
         "name": "Medina County",
         "showlegend": true,
         "type": "scattergl",
         "x": [
          2015,
          2016,
          2017,
          2018,
          2019,
          2020
         ],
         "xaxis": "x",
         "y": [
          93,
          128,
          99,
          111,
          147,
          107
         ],
         "yaxis": "y"
        },
        {
         "hovertemplate": "County=Menard County<br>Year=%{x}<br>Violent_Offenses=%{y}<extra></extra>",
         "legendgroup": "Menard County",
         "line": {
          "color": "#ab63fa",
          "dash": "solid"
         },
         "marker": {
          "symbol": "circle"
         },
         "mode": "lines",
         "name": "Menard County",
         "showlegend": true,
         "type": "scattergl",
         "x": [
          2015,
          2016,
          2017,
          2018,
          2019,
          2020
         ],
         "xaxis": "x",
         "y": [
          0,
          0,
          1,
          1,
          2,
          1
         ],
         "yaxis": "y"
        },
        {
         "hovertemplate": "County=Midland County<br>Year=%{x}<br>Violent_Offenses=%{y}<extra></extra>",
         "legendgroup": "Midland County",
         "line": {
          "color": "#FFA15A",
          "dash": "solid"
         },
         "marker": {
          "symbol": "circle"
         },
         "mode": "lines",
         "name": "Midland County",
         "showlegend": true,
         "type": "scattergl",
         "x": [
          2015,
          2016,
          2017,
          2018,
          2019,
          2020
         ],
         "xaxis": "x",
         "y": [
          429,
          387,
          367,
          453,
          324,
          613
         ],
         "yaxis": "y"
        },
        {
         "hovertemplate": "County=Milam County<br>Year=%{x}<br>Violent_Offenses=%{y}<extra></extra>",
         "legendgroup": "Milam County",
         "line": {
          "color": "#19d3f3",
          "dash": "solid"
         },
         "marker": {
          "symbol": "circle"
         },
         "mode": "lines",
         "name": "Milam County",
         "showlegend": true,
         "type": "scattergl",
         "x": [
          2015,
          2016,
          2017,
          2018,
          2019,
          2020
         ],
         "xaxis": "x",
         "y": [
          45,
          53,
          57,
          53,
          39,
          44
         ],
         "yaxis": "y"
        },
        {
         "hovertemplate": "County=Mills County<br>Year=%{x}<br>Violent_Offenses=%{y}<extra></extra>",
         "legendgroup": "Mills County",
         "line": {
          "color": "#FF6692",
          "dash": "solid"
         },
         "marker": {
          "symbol": "circle"
         },
         "mode": "lines",
         "name": "Mills County",
         "showlegend": true,
         "type": "scattergl",
         "x": [
          2015,
          2016,
          2017,
          2018,
          2019,
          2020
         ],
         "xaxis": "x",
         "y": [
          0,
          2,
          2,
          2,
          15,
          10
         ],
         "yaxis": "y"
        },
        {
         "hovertemplate": "County=Mitchell County<br>Year=%{x}<br>Violent_Offenses=%{y}<extra></extra>",
         "legendgroup": "Mitchell County",
         "line": {
          "color": "#B6E880",
          "dash": "solid"
         },
         "marker": {
          "symbol": "circle"
         },
         "mode": "lines",
         "name": "Mitchell County",
         "showlegend": true,
         "type": "scattergl",
         "x": [
          2015,
          2016,
          2017,
          2018,
          2019,
          2020
         ],
         "xaxis": "x",
         "y": [
          9,
          8,
          10,
          6,
          12,
          11
         ],
         "yaxis": "y"
        },
        {
         "hovertemplate": "County=Montague County<br>Year=%{x}<br>Violent_Offenses=%{y}<extra></extra>",
         "legendgroup": "Montague County",
         "line": {
          "color": "#FF97FF",
          "dash": "solid"
         },
         "marker": {
          "symbol": "circle"
         },
         "mode": "lines",
         "name": "Montague County",
         "showlegend": true,
         "type": "scattergl",
         "x": [
          2015,
          2016,
          2017,
          2018,
          2019,
          2020
         ],
         "xaxis": "x",
         "y": [
          31,
          26,
          58,
          40,
          61,
          25
         ],
         "yaxis": "y"
        },
        {
         "hovertemplate": "County=Montgomery County<br>Year=%{x}<br>Violent_Offenses=%{y}<extra></extra>",
         "legendgroup": "Montgomery County",
         "line": {
          "color": "#FECB52",
          "dash": "solid"
         },
         "marker": {
          "symbol": "circle"
         },
         "mode": "lines",
         "name": "Montgomery County",
         "showlegend": true,
         "type": "scattergl",
         "x": [
          2015,
          2016,
          2017,
          2018,
          2019,
          2020
         ],
         "xaxis": "x",
         "y": [
          976,
          678,
          705,
          969,
          972,
          925
         ],
         "yaxis": "y"
        },
        {
         "hovertemplate": "County=Moore County<br>Year=%{x}<br>Violent_Offenses=%{y}<extra></extra>",
         "legendgroup": "Moore County",
         "line": {
          "color": "#636efa",
          "dash": "solid"
         },
         "marker": {
          "symbol": "circle"
         },
         "mode": "lines",
         "name": "Moore County",
         "showlegend": true,
         "type": "scattergl",
         "x": [
          2015,
          2016,
          2017,
          2018,
          2019,
          2020
         ],
         "xaxis": "x",
         "y": [
          65,
          38,
          46,
          39,
          47,
          43
         ],
         "yaxis": "y"
        },
        {
         "hovertemplate": "County=Morris County<br>Year=%{x}<br>Violent_Offenses=%{y}<extra></extra>",
         "legendgroup": "Morris County",
         "line": {
          "color": "#EF553B",
          "dash": "solid"
         },
         "marker": {
          "symbol": "circle"
         },
         "mode": "lines",
         "name": "Morris County",
         "showlegend": true,
         "type": "scattergl",
         "x": [
          2015,
          2016,
          2017,
          2018,
          2019,
          2020
         ],
         "xaxis": "x",
         "y": [
          41,
          33,
          46,
          50,
          26,
          41
         ],
         "yaxis": "y"
        },
        {
         "hovertemplate": "County=Motley County<br>Year=%{x}<br>Violent_Offenses=%{y}<extra></extra>",
         "legendgroup": "Motley County",
         "line": {
          "color": "#00cc96",
          "dash": "solid"
         },
         "marker": {
          "symbol": "circle"
         },
         "mode": "lines",
         "name": "Motley County",
         "showlegend": true,
         "type": "scattergl",
         "x": [
          2015,
          2016,
          2017,
          2018,
          2019,
          2020
         ],
         "xaxis": "x",
         "y": [
          1,
          0,
          3,
          1,
          1,
          0
         ],
         "yaxis": "y"
        },
        {
         "hovertemplate": "County=Nacogdoches County<br>Year=%{x}<br>Violent_Offenses=%{y}<extra></extra>",
         "legendgroup": "Nacogdoches County",
         "line": {
          "color": "#ab63fa",
          "dash": "solid"
         },
         "marker": {
          "symbol": "circle"
         },
         "mode": "lines",
         "name": "Nacogdoches County",
         "showlegend": true,
         "type": "scattergl",
         "x": [
          2015,
          2016,
          2017,
          2018,
          2019,
          2020
         ],
         "xaxis": "x",
         "y": [
          142,
          164,
          134,
          139,
          149,
          172
         ],
         "yaxis": "y"
        },
        {
         "hovertemplate": "County=Navarro County<br>Year=%{x}<br>Violent_Offenses=%{y}<extra></extra>",
         "legendgroup": "Navarro County",
         "line": {
          "color": "#FFA15A",
          "dash": "solid"
         },
         "marker": {
          "symbol": "circle"
         },
         "mode": "lines",
         "name": "Navarro County",
         "showlegend": true,
         "type": "scattergl",
         "x": [
          2015,
          2016,
          2017,
          2018,
          2019,
          2020
         ],
         "xaxis": "x",
         "y": [
          137,
          142,
          136,
          177,
          220,
          177
         ],
         "yaxis": "y"
        },
        {
         "hovertemplate": "County=Newton County<br>Year=%{x}<br>Violent_Offenses=%{y}<extra></extra>",
         "legendgroup": "Newton County",
         "line": {
          "color": "#19d3f3",
          "dash": "solid"
         },
         "marker": {
          "symbol": "circle"
         },
         "mode": "lines",
         "name": "Newton County",
         "showlegend": true,
         "type": "scattergl",
         "x": [
          2015,
          2016,
          2017,
          2018,
          2019,
          2020
         ],
         "xaxis": "x",
         "y": [
          20,
          2,
          12,
          23,
          27,
          22
         ],
         "yaxis": "y"
        },
        {
         "hovertemplate": "County=Nolan County<br>Year=%{x}<br>Violent_Offenses=%{y}<extra></extra>",
         "legendgroup": "Nolan County",
         "line": {
          "color": "#FF6692",
          "dash": "solid"
         },
         "marker": {
          "symbol": "circle"
         },
         "mode": "lines",
         "name": "Nolan County",
         "showlegend": true,
         "type": "scattergl",
         "x": [
          2015,
          2016,
          2017,
          2018,
          2019,
          2020
         ],
         "xaxis": "x",
         "y": [
          63,
          42,
          51,
          54,
          31,
          25
         ],
         "yaxis": "y"
        },
        {
         "hovertemplate": "County=Nueces County<br>Year=%{x}<br>Violent_Offenses=%{y}<extra></extra>",
         "legendgroup": "Nueces County",
         "line": {
          "color": "#B6E880",
          "dash": "solid"
         },
         "marker": {
          "symbol": "circle"
         },
         "mode": "lines",
         "name": "Nueces County",
         "showlegend": true,
         "type": "scattergl",
         "x": [
          2015,
          2016,
          2017,
          2018,
          2019,
          2020
         ],
         "xaxis": "x",
         "y": [
          2011,
          2185,
          2057,
          2274,
          2463,
          2484
         ],
         "yaxis": "y"
        },
        {
         "hovertemplate": "County=Ochiltree County<br>Year=%{x}<br>Violent_Offenses=%{y}<extra></extra>",
         "legendgroup": "Ochiltree County",
         "line": {
          "color": "#FF97FF",
          "dash": "solid"
         },
         "marker": {
          "symbol": "circle"
         },
         "mode": "lines",
         "name": "Ochiltree County",
         "showlegend": true,
         "type": "scattergl",
         "x": [
          2015,
          2016,
          2017,
          2018,
          2019,
          2020
         ],
         "xaxis": "x",
         "y": [
          24,
          48,
          41,
          33,
          11,
          23
         ],
         "yaxis": "y"
        },
        {
         "hovertemplate": "County=Oldham County<br>Year=%{x}<br>Violent_Offenses=%{y}<extra></extra>",
         "legendgroup": "Oldham County",
         "line": {
          "color": "#FECB52",
          "dash": "solid"
         },
         "marker": {
          "symbol": "circle"
         },
         "mode": "lines",
         "name": "Oldham County",
         "showlegend": true,
         "type": "scattergl",
         "x": [
          2015,
          2016,
          2017,
          2018,
          2019,
          2020
         ],
         "xaxis": "x",
         "y": [
          1,
          3,
          2,
          2,
          0,
          2
         ],
         "yaxis": "y"
        },
        {
         "hovertemplate": "County=Orange County<br>Year=%{x}<br>Violent_Offenses=%{y}<extra></extra>",
         "legendgroup": "Orange County",
         "line": {
          "color": "#636efa",
          "dash": "solid"
         },
         "marker": {
          "symbol": "circle"
         },
         "mode": "lines",
         "name": "Orange County",
         "showlegend": true,
         "type": "scattergl",
         "x": [
          2015,
          2016,
          2017,
          2018,
          2019,
          2020
         ],
         "xaxis": "x",
         "y": [
          274,
          230,
          231,
          201,
          192,
          198
         ],
         "yaxis": "y"
        },
        {
         "hovertemplate": "County=Palo Pinto County<br>Year=%{x}<br>Violent_Offenses=%{y}<extra></extra>",
         "legendgroup": "Palo Pinto County",
         "line": {
          "color": "#EF553B",
          "dash": "solid"
         },
         "marker": {
          "symbol": "circle"
         },
         "mode": "lines",
         "name": "Palo Pinto County",
         "showlegend": true,
         "type": "scattergl",
         "x": [
          2015,
          2016,
          2017,
          2018,
          2019,
          2020
         ],
         "xaxis": "x",
         "y": [
          35,
          54,
          11,
          44,
          35,
          56
         ],
         "yaxis": "y"
        },
        {
         "hovertemplate": "County=Panola County<br>Year=%{x}<br>Violent_Offenses=%{y}<extra></extra>",
         "legendgroup": "Panola County",
         "line": {
          "color": "#00cc96",
          "dash": "solid"
         },
         "marker": {
          "symbol": "circle"
         },
         "mode": "lines",
         "name": "Panola County",
         "showlegend": true,
         "type": "scattergl",
         "x": [
          2015,
          2016,
          2017,
          2018,
          2019,
          2020
         ],
         "xaxis": "x",
         "y": [
          67,
          45,
          66,
          67,
          68,
          66
         ],
         "yaxis": "y"
        },
        {
         "hovertemplate": "County=Parker County<br>Year=%{x}<br>Violent_Offenses=%{y}<extra></extra>",
         "legendgroup": "Parker County",
         "line": {
          "color": "#ab63fa",
          "dash": "solid"
         },
         "marker": {
          "symbol": "circle"
         },
         "mode": "lines",
         "name": "Parker County",
         "showlegend": true,
         "type": "scattergl",
         "x": [
          2015,
          2016,
          2017,
          2018,
          2019,
          2020
         ],
         "xaxis": "x",
         "y": [
          166,
          159,
          151,
          223,
          168,
          217
         ],
         "yaxis": "y"
        },
        {
         "hovertemplate": "County=Parmer County<br>Year=%{x}<br>Violent_Offenses=%{y}<extra></extra>",
         "legendgroup": "Parmer County",
         "line": {
          "color": "#FFA15A",
          "dash": "solid"
         },
         "marker": {
          "symbol": "circle"
         },
         "mode": "lines",
         "name": "Parmer County",
         "showlegend": true,
         "type": "scattergl",
         "x": [
          2015,
          2016,
          2017,
          2018,
          2019,
          2020
         ],
         "xaxis": "x",
         "y": [
          6,
          8,
          20,
          13,
          8,
          13
         ],
         "yaxis": "y"
        },
        {
         "hovertemplate": "County=Pecos County<br>Year=%{x}<br>Violent_Offenses=%{y}<extra></extra>",
         "legendgroup": "Pecos County",
         "line": {
          "color": "#19d3f3",
          "dash": "solid"
         },
         "marker": {
          "symbol": "circle"
         },
         "mode": "lines",
         "name": "Pecos County",
         "showlegend": true,
         "type": "scattergl",
         "x": [
          2015,
          2016,
          2017,
          2018,
          2019,
          2020
         ],
         "xaxis": "x",
         "y": [
          45,
          52,
          41,
          63,
          27,
          16
         ],
         "yaxis": "y"
        },
        {
         "hovertemplate": "County=Polk County<br>Year=%{x}<br>Violent_Offenses=%{y}<extra></extra>",
         "legendgroup": "Polk County",
         "line": {
          "color": "#FF6692",
          "dash": "solid"
         },
         "marker": {
          "symbol": "circle"
         },
         "mode": "lines",
         "name": "Polk County",
         "showlegend": true,
         "type": "scattergl",
         "x": [
          2015,
          2016,
          2017,
          2018,
          2019,
          2020
         ],
         "xaxis": "x",
         "y": [
          129,
          104,
          119,
          107,
          104,
          103
         ],
         "yaxis": "y"
        },
        {
         "hovertemplate": "County=Potter County<br>Year=%{x}<br>Violent_Offenses=%{y}<extra></extra>",
         "legendgroup": "Potter County",
         "line": {
          "color": "#B6E880",
          "dash": "solid"
         },
         "marker": {
          "symbol": "circle"
         },
         "mode": "lines",
         "name": "Potter County",
         "showlegend": true,
         "type": "scattergl",
         "x": [
          2015,
          2016,
          2017,
          2018,
          2019,
          2020
         ],
         "xaxis": "x",
         "y": [
          1092,
          1215,
          1334,
          1360,
          1242,
          1462
         ],
         "yaxis": "y"
        },
        {
         "hovertemplate": "County=Presidio County<br>Year=%{x}<br>Violent_Offenses=%{y}<extra></extra>",
         "legendgroup": "Presidio County",
         "line": {
          "color": "#FF97FF",
          "dash": "solid"
         },
         "marker": {
          "symbol": "circle"
         },
         "mode": "lines",
         "name": "Presidio County",
         "showlegend": true,
         "type": "scattergl",
         "x": [
          2015,
          2016,
          2017,
          2018,
          2019,
          2020
         ],
         "xaxis": "x",
         "y": [
          10,
          4,
          3,
          6,
          6,
          12
         ],
         "yaxis": "y"
        },
        {
         "hovertemplate": "County=Rains County<br>Year=%{x}<br>Violent_Offenses=%{y}<extra></extra>",
         "legendgroup": "Rains County",
         "line": {
          "color": "#FECB52",
          "dash": "solid"
         },
         "marker": {
          "symbol": "circle"
         },
         "mode": "lines",
         "name": "Rains County",
         "showlegend": true,
         "type": "scattergl",
         "x": [
          2015,
          2016,
          2017,
          2018,
          2019,
          2020
         ],
         "xaxis": "x",
         "y": [
          11,
          14,
          19,
          18,
          10,
          19
         ],
         "yaxis": "y"
        },
        {
         "hovertemplate": "County=Randall County<br>Year=%{x}<br>Violent_Offenses=%{y}<extra></extra>",
         "legendgroup": "Randall County",
         "line": {
          "color": "#636efa",
          "dash": "solid"
         },
         "marker": {
          "symbol": "circle"
         },
         "mode": "lines",
         "name": "Randall County",
         "showlegend": true,
         "type": "scattergl",
         "x": [
          2015,
          2016,
          2017,
          2018,
          2019,
          2020
         ],
         "xaxis": "x",
         "y": [
          66,
          68,
          93,
          61,
          71,
          64
         ],
         "yaxis": "y"
        },
        {
         "hovertemplate": "County=Reagan County<br>Year=%{x}<br>Violent_Offenses=%{y}<extra></extra>",
         "legendgroup": "Reagan County",
         "line": {
          "color": "#EF553B",
          "dash": "solid"
         },
         "marker": {
          "symbol": "circle"
         },
         "mode": "lines",
         "name": "Reagan County",
         "showlegend": true,
         "type": "scattergl",
         "x": [
          2015,
          2016,
          2017,
          2018,
          2019,
          2020
         ],
         "xaxis": "x",
         "y": [
          9,
          4,
          6,
          8,
          7,
          8
         ],
         "yaxis": "y"
        },
        {
         "hovertemplate": "County=Real County<br>Year=%{x}<br>Violent_Offenses=%{y}<extra></extra>",
         "legendgroup": "Real County",
         "line": {
          "color": "#00cc96",
          "dash": "solid"
         },
         "marker": {
          "symbol": "circle"
         },
         "mode": "lines",
         "name": "Real County",
         "showlegend": true,
         "type": "scattergl",
         "x": [
          2015,
          2016,
          2017,
          2018,
          2019,
          2020
         ],
         "xaxis": "x",
         "y": [
          5,
          6,
          2,
          6,
          3,
          6
         ],
         "yaxis": "y"
        },
        {
         "hovertemplate": "County=Red River County<br>Year=%{x}<br>Violent_Offenses=%{y}<extra></extra>",
         "legendgroup": "Red River County",
         "line": {
          "color": "#ab63fa",
          "dash": "solid"
         },
         "marker": {
          "symbol": "circle"
         },
         "mode": "lines",
         "name": "Red River County",
         "showlegend": true,
         "type": "scattergl",
         "x": [
          2015,
          2016,
          2017,
          2018,
          2019,
          2020
         ],
         "xaxis": "x",
         "y": [
          37,
          11,
          22,
          23,
          29,
          33
         ],
         "yaxis": "y"
        },
        {
         "hovertemplate": "County=Reeves County<br>Year=%{x}<br>Violent_Offenses=%{y}<extra></extra>",
         "legendgroup": "Reeves County",
         "line": {
          "color": "#FFA15A",
          "dash": "solid"
         },
         "marker": {
          "symbol": "circle"
         },
         "mode": "lines",
         "name": "Reeves County",
         "showlegend": true,
         "type": "scattergl",
         "x": [
          2015,
          2016,
          2017,
          2018,
          2019,
          2020
         ],
         "xaxis": "x",
         "y": [
          72,
          61,
          114,
          122,
          98,
          62
         ],
         "yaxis": "y"
        },
        {
         "hovertemplate": "County=Refugio County<br>Year=%{x}<br>Violent_Offenses=%{y}<extra></extra>",
         "legendgroup": "Refugio County",
         "line": {
          "color": "#19d3f3",
          "dash": "solid"
         },
         "marker": {
          "symbol": "circle"
         },
         "mode": "lines",
         "name": "Refugio County",
         "showlegend": true,
         "type": "scattergl",
         "x": [
          2015,
          2016,
          2017,
          2018,
          2019,
          2020
         ],
         "xaxis": "x",
         "y": [
          5,
          30,
          8,
          11,
          9,
          4
         ],
         "yaxis": "y"
        },
        {
         "hovertemplate": "County=Roberts County<br>Year=%{x}<br>Violent_Offenses=%{y}<extra></extra>",
         "legendgroup": "Roberts County",
         "line": {
          "color": "#FF6692",
          "dash": "solid"
         },
         "marker": {
          "symbol": "circle"
         },
         "mode": "lines",
         "name": "Roberts County",
         "showlegend": true,
         "type": "scattergl",
         "x": [
          2015,
          2016,
          2017,
          2018,
          2019,
          2020
         ],
         "xaxis": "x",
         "y": [
          4,
          0,
          1,
          0,
          0,
          0
         ],
         "yaxis": "y"
        },
        {
         "hovertemplate": "County=Robertson County<br>Year=%{x}<br>Violent_Offenses=%{y}<extra></extra>",
         "legendgroup": "Robertson County",
         "line": {
          "color": "#B6E880",
          "dash": "solid"
         },
         "marker": {
          "symbol": "circle"
         },
         "mode": "lines",
         "name": "Robertson County",
         "showlegend": true,
         "type": "scattergl",
         "x": [
          2015,
          2016,
          2017,
          2018,
          2019,
          2020
         ],
         "xaxis": "x",
         "y": [
          23,
          32,
          46,
          36,
          27,
          36
         ],
         "yaxis": "y"
        },
        {
         "hovertemplate": "County=Rockwall County<br>Year=%{x}<br>Violent_Offenses=%{y}<extra></extra>",
         "legendgroup": "Rockwall County",
         "line": {
          "color": "#FF97FF",
          "dash": "solid"
         },
         "marker": {
          "symbol": "circle"
         },
         "mode": "lines",
         "name": "Rockwall County",
         "showlegend": true,
         "type": "scattergl",
         "x": [
          2015,
          2016,
          2017,
          2018,
          2019,
          2020
         ],
         "xaxis": "x",
         "y": [
          67,
          70,
          101,
          95,
          97,
          98
         ],
         "yaxis": "y"
        },
        {
         "hovertemplate": "County=Runnels County<br>Year=%{x}<br>Violent_Offenses=%{y}<extra></extra>",
         "legendgroup": "Runnels County",
         "line": {
          "color": "#FECB52",
          "dash": "solid"
         },
         "marker": {
          "symbol": "circle"
         },
         "mode": "lines",
         "name": "Runnels County",
         "showlegend": true,
         "type": "scattergl",
         "x": [
          2015,
          2016,
          2017,
          2018,
          2019,
          2020
         ],
         "xaxis": "x",
         "y": [
          23,
          21,
          39,
          26,
          17,
          29
         ],
         "yaxis": "y"
        },
        {
         "hovertemplate": "County=Rusk County<br>Year=%{x}<br>Violent_Offenses=%{y}<extra></extra>",
         "legendgroup": "Rusk County",
         "line": {
          "color": "#636efa",
          "dash": "solid"
         },
         "marker": {
          "symbol": "circle"
         },
         "mode": "lines",
         "name": "Rusk County",
         "showlegend": true,
         "type": "scattergl",
         "x": [
          2015,
          2016,
          2017,
          2018,
          2019,
          2020
         ],
         "xaxis": "x",
         "y": [
          199,
          221,
          194,
          156,
          109,
          139
         ],
         "yaxis": "y"
        },
        {
         "hovertemplate": "County=Sabine County<br>Year=%{x}<br>Violent_Offenses=%{y}<extra></extra>",
         "legendgroup": "Sabine County",
         "line": {
          "color": "#EF553B",
          "dash": "solid"
         },
         "marker": {
          "symbol": "circle"
         },
         "mode": "lines",
         "name": "Sabine County",
         "showlegend": true,
         "type": "scattergl",
         "x": [
          2015,
          2016,
          2017,
          2018,
          2019,
          2020
         ],
         "xaxis": "x",
         "y": [
          31,
          29,
          36,
          37,
          13,
          19
         ],
         "yaxis": "y"
        },
        {
         "hovertemplate": "County=San Augustine County<br>Year=%{x}<br>Violent_Offenses=%{y}<extra></extra>",
         "legendgroup": "San Augustine County",
         "line": {
          "color": "#00cc96",
          "dash": "solid"
         },
         "marker": {
          "symbol": "circle"
         },
         "mode": "lines",
         "name": "San Augustine County",
         "showlegend": true,
         "type": "scattergl",
         "x": [
          2015,
          2016,
          2017,
          2018,
          2019,
          2020
         ],
         "xaxis": "x",
         "y": [
          11,
          38,
          31,
          20,
          13,
          13
         ],
         "yaxis": "y"
        },
        {
         "hovertemplate": "County=San Jacinto County<br>Year=%{x}<br>Violent_Offenses=%{y}<extra></extra>",
         "legendgroup": "San Jacinto County",
         "line": {
          "color": "#ab63fa",
          "dash": "solid"
         },
         "marker": {
          "symbol": "circle"
         },
         "mode": "lines",
         "name": "San Jacinto County",
         "showlegend": true,
         "type": "scattergl",
         "x": [
          2015,
          2016,
          2017,
          2018,
          2019,
          2020
         ],
         "xaxis": "x",
         "y": [
          66,
          43,
          53,
          40,
          43,
          37
         ],
         "yaxis": "y"
        },
        {
         "hovertemplate": "County=San Patricio County<br>Year=%{x}<br>Violent_Offenses=%{y}<extra></extra>",
         "legendgroup": "San Patricio County",
         "line": {
          "color": "#FFA15A",
          "dash": "solid"
         },
         "marker": {
          "symbol": "circle"
         },
         "mode": "lines",
         "name": "San Patricio County",
         "showlegend": true,
         "type": "scattergl",
         "x": [
          2015,
          2016,
          2017,
          2018,
          2019,
          2020
         ],
         "xaxis": "x",
         "y": [
          134,
          167,
          187,
          176,
          144,
          159
         ],
         "yaxis": "y"
        },
        {
         "hovertemplate": "County=San Saba County<br>Year=%{x}<br>Violent_Offenses=%{y}<extra></extra>",
         "legendgroup": "San Saba County",
         "line": {
          "color": "#19d3f3",
          "dash": "solid"
         },
         "marker": {
          "symbol": "circle"
         },
         "mode": "lines",
         "name": "San Saba County",
         "showlegend": true,
         "type": "scattergl",
         "x": [
          2015,
          2016,
          2017,
          2018,
          2019,
          2020
         ],
         "xaxis": "x",
         "y": [
          6,
          4,
          6,
          16,
          13,
          22
         ],
         "yaxis": "y"
        },
        {
         "hovertemplate": "County=Schleicher County<br>Year=%{x}<br>Violent_Offenses=%{y}<extra></extra>",
         "legendgroup": "Schleicher County",
         "line": {
          "color": "#FF6692",
          "dash": "solid"
         },
         "marker": {
          "symbol": "circle"
         },
         "mode": "lines",
         "name": "Schleicher County",
         "showlegend": true,
         "type": "scattergl",
         "x": [
          2015,
          2016,
          2017,
          2018,
          2019,
          2020
         ],
         "xaxis": "x",
         "y": [
          4,
          0,
          2,
          0,
          4,
          2
         ],
         "yaxis": "y"
        },
        {
         "hovertemplate": "County=Scurry County<br>Year=%{x}<br>Violent_Offenses=%{y}<extra></extra>",
         "legendgroup": "Scurry County",
         "line": {
          "color": "#B6E880",
          "dash": "solid"
         },
         "marker": {
          "symbol": "circle"
         },
         "mode": "lines",
         "name": "Scurry County",
         "showlegend": true,
         "type": "scattergl",
         "x": [
          2015,
          2016,
          2017,
          2018,
          2019,
          2020
         ],
         "xaxis": "x",
         "y": [
          58,
          19,
          36,
          39,
          164,
          91
         ],
         "yaxis": "y"
        },
        {
         "hovertemplate": "County=Shackelford County<br>Year=%{x}<br>Violent_Offenses=%{y}<extra></extra>",
         "legendgroup": "Shackelford County",
         "line": {
          "color": "#FF97FF",
          "dash": "solid"
         },
         "marker": {
          "symbol": "circle"
         },
         "mode": "lines",
         "name": "Shackelford County",
         "showlegend": true,
         "type": "scattergl",
         "x": [
          2015,
          2016,
          2017,
          2018,
          2019,
          2020
         ],
         "xaxis": "x",
         "y": [
          0,
          2,
          3,
          0,
          5,
          4
         ],
         "yaxis": "y"
        },
        {
         "hovertemplate": "County=Shelby County<br>Year=%{x}<br>Violent_Offenses=%{y}<extra></extra>",
         "legendgroup": "Shelby County",
         "line": {
          "color": "#FECB52",
          "dash": "solid"
         },
         "marker": {
          "symbol": "circle"
         },
         "mode": "lines",
         "name": "Shelby County",
         "showlegend": true,
         "type": "scattergl",
         "x": [
          2015,
          2016,
          2017,
          2018,
          2019,
          2020
         ],
         "xaxis": "x",
         "y": [
          82,
          56,
          86,
          38,
          71,
          55
         ],
         "yaxis": "y"
        },
        {
         "hovertemplate": "County=Sherman County<br>Year=%{x}<br>Violent_Offenses=%{y}<extra></extra>",
         "legendgroup": "Sherman County",
         "line": {
          "color": "#636efa",
          "dash": "solid"
         },
         "marker": {
          "symbol": "circle"
         },
         "mode": "lines",
         "name": "Sherman County",
         "showlegend": true,
         "type": "scattergl",
         "x": [
          2015,
          2016,
          2017,
          2018,
          2019,
          2020
         ],
         "xaxis": "x",
         "y": [
          4,
          5,
          0,
          1,
          0,
          1
         ],
         "yaxis": "y"
        },
        {
         "hovertemplate": "County=Smith County<br>Year=%{x}<br>Violent_Offenses=%{y}<extra></extra>",
         "legendgroup": "Smith County",
         "line": {
          "color": "#EF553B",
          "dash": "solid"
         },
         "marker": {
          "symbol": "circle"
         },
         "mode": "lines",
         "name": "Smith County",
         "showlegend": true,
         "type": "scattergl",
         "x": [
          2015,
          2016,
          2017,
          2018,
          2019,
          2020
         ],
         "xaxis": "x",
         "y": [
          544,
          580,
          720,
          676,
          696,
          776
         ],
         "yaxis": "y"
        },
        {
         "hovertemplate": "County=Somervell County<br>Year=%{x}<br>Violent_Offenses=%{y}<extra></extra>",
         "legendgroup": "Somervell County",
         "line": {
          "color": "#00cc96",
          "dash": "solid"
         },
         "marker": {
          "symbol": "circle"
         },
         "mode": "lines",
         "name": "Somervell County",
         "showlegend": true,
         "type": "scattergl",
         "x": [
          2015,
          2016,
          2017,
          2018,
          2019,
          2020
         ],
         "xaxis": "x",
         "y": [
          14,
          12,
          7,
          4,
          4,
          14
         ],
         "yaxis": "y"
        },
        {
         "hovertemplate": "County=Starr County<br>Year=%{x}<br>Violent_Offenses=%{y}<extra></extra>",
         "legendgroup": "Starr County",
         "line": {
          "color": "#ab63fa",
          "dash": "solid"
         },
         "marker": {
          "symbol": "circle"
         },
         "mode": "lines",
         "name": "Starr County",
         "showlegend": true,
         "type": "scattergl",
         "x": [
          2015,
          2016,
          2017,
          2018,
          2019,
          2020
         ],
         "xaxis": "x",
         "y": [
          158,
          150,
          141,
          147,
          139,
          125
         ],
         "yaxis": "y"
        },
        {
         "hovertemplate": "County=Stephens County<br>Year=%{x}<br>Violent_Offenses=%{y}<extra></extra>",
         "legendgroup": "Stephens County",
         "line": {
          "color": "#FFA15A",
          "dash": "solid"
         },
         "marker": {
          "symbol": "circle"
         },
         "mode": "lines",
         "name": "Stephens County",
         "showlegend": true,
         "type": "scattergl",
         "x": [
          2015,
          2016,
          2017,
          2018,
          2019,
          2020
         ],
         "xaxis": "x",
         "y": [
          12,
          19,
          19,
          14,
          13,
          20
         ],
         "yaxis": "y"
        },
        {
         "hovertemplate": "County=Sterling County<br>Year=%{x}<br>Violent_Offenses=%{y}<extra></extra>",
         "legendgroup": "Sterling County",
         "line": {
          "color": "#19d3f3",
          "dash": "solid"
         },
         "marker": {
          "symbol": "circle"
         },
         "mode": "lines",
         "name": "Sterling County",
         "showlegend": true,
         "type": "scattergl",
         "x": [
          2015,
          2016,
          2017,
          2018,
          2019,
          2020
         ],
         "xaxis": "x",
         "y": [
          3,
          0,
          0,
          1,
          1,
          4
         ],
         "yaxis": "y"
        },
        {
         "hovertemplate": "County=Stonewall County<br>Year=%{x}<br>Violent_Offenses=%{y}<extra></extra>",
         "legendgroup": "Stonewall County",
         "line": {
          "color": "#FF6692",
          "dash": "solid"
         },
         "marker": {
          "symbol": "circle"
         },
         "mode": "lines",
         "name": "Stonewall County",
         "showlegend": true,
         "type": "scattergl",
         "x": [
          2015,
          2016,
          2017,
          2018,
          2019,
          2020
         ],
         "xaxis": "x",
         "y": [
          3,
          2,
          0,
          4,
          1,
          2
         ],
         "yaxis": "y"
        },
        {
         "hovertemplate": "County=Sutton County<br>Year=%{x}<br>Violent_Offenses=%{y}<extra></extra>",
         "legendgroup": "Sutton County",
         "line": {
          "color": "#B6E880",
          "dash": "solid"
         },
         "marker": {
          "symbol": "circle"
         },
         "mode": "lines",
         "name": "Sutton County",
         "showlegend": true,
         "type": "scattergl",
         "x": [
          2015,
          2016,
          2017,
          2018,
          2019,
          2020
         ],
         "xaxis": "x",
         "y": [
          7,
          2,
          5,
          6,
          1,
          6
         ],
         "yaxis": "y"
        },
        {
         "hovertemplate": "County=Swisher County<br>Year=%{x}<br>Violent_Offenses=%{y}<extra></extra>",
         "legendgroup": "Swisher County",
         "line": {
          "color": "#FF97FF",
          "dash": "solid"
         },
         "marker": {
          "symbol": "circle"
         },
         "mode": "lines",
         "name": "Swisher County",
         "showlegend": true,
         "type": "scattergl",
         "x": [
          2015,
          2016,
          2017,
          2018,
          2019,
          2020
         ],
         "xaxis": "x",
         "y": [
          52,
          47,
          19,
          34,
          29,
          45
         ],
         "yaxis": "y"
        },
        {
         "hovertemplate": "County=Tarrant County<br>Year=%{x}<br>Violent_Offenses=%{y}<extra></extra>",
         "legendgroup": "Tarrant County",
         "line": {
          "color": "#FECB52",
          "dash": "solid"
         },
         "marker": {
          "symbol": "circle"
         },
         "mode": "lines",
         "name": "Tarrant County",
         "showlegend": true,
         "type": "scattergl",
         "x": [
          2015,
          2016,
          2017,
          2018,
          2019,
          2020
         ],
         "xaxis": "x",
         "y": [
          5816,
          5949,
          6128,
          5933,
          5896,
          7310
         ],
         "yaxis": "y"
        },
        {
         "hovertemplate": "County=Taylor County<br>Year=%{x}<br>Violent_Offenses=%{y}<extra></extra>",
         "legendgroup": "Taylor County",
         "line": {
          "color": "#636efa",
          "dash": "solid"
         },
         "marker": {
          "symbol": "circle"
         },
         "mode": "lines",
         "name": "Taylor County",
         "showlegend": true,
         "type": "scattergl",
         "x": [
          2015,
          2016,
          2017,
          2018,
          2019,
          2020
         ],
         "xaxis": "x",
         "y": [
          530,
          451,
          555,
          571,
          466,
          525
         ],
         "yaxis": "y"
        },
        {
         "hovertemplate": "County=Terrell County<br>Year=%{x}<br>Violent_Offenses=%{y}<extra></extra>",
         "legendgroup": "Terrell County",
         "line": {
          "color": "#EF553B",
          "dash": "solid"
         },
         "marker": {
          "symbol": "circle"
         },
         "mode": "lines",
         "name": "Terrell County",
         "showlegend": true,
         "type": "scattergl",
         "x": [
          2015,
          2016,
          2017,
          2018
         ],
         "xaxis": "x",
         "y": [
          0,
          2,
          2,
          0
         ],
         "yaxis": "y"
        },
        {
         "hovertemplate": "County=Terry County<br>Year=%{x}<br>Violent_Offenses=%{y}<extra></extra>",
         "legendgroup": "Terry County",
         "line": {
          "color": "#00cc96",
          "dash": "solid"
         },
         "marker": {
          "symbol": "circle"
         },
         "mode": "lines",
         "name": "Terry County",
         "showlegend": true,
         "type": "scattergl",
         "x": [
          2015,
          2016,
          2017,
          2018,
          2019,
          2020
         ],
         "xaxis": "x",
         "y": [
          47,
          30,
          24,
          43,
          26,
          31
         ],
         "yaxis": "y"
        },
        {
         "hovertemplate": "County=Throckmorton County<br>Year=%{x}<br>Violent_Offenses=%{y}<extra></extra>",
         "legendgroup": "Throckmorton County",
         "line": {
          "color": "#ab63fa",
          "dash": "solid"
         },
         "marker": {
          "symbol": "circle"
         },
         "mode": "lines",
         "name": "Throckmorton County",
         "showlegend": true,
         "type": "scattergl",
         "x": [
          2015,
          2016,
          2017,
          2018,
          2019,
          2020
         ],
         "xaxis": "x",
         "y": [
          0,
          0,
          2,
          4,
          2,
          3
         ],
         "yaxis": "y"
        },
        {
         "hovertemplate": "County=Titus County<br>Year=%{x}<br>Violent_Offenses=%{y}<extra></extra>",
         "legendgroup": "Titus County",
         "line": {
          "color": "#FFA15A",
          "dash": "solid"
         },
         "marker": {
          "symbol": "circle"
         },
         "mode": "lines",
         "name": "Titus County",
         "showlegend": true,
         "type": "scattergl",
         "x": [
          2015,
          2016,
          2017,
          2018,
          2019,
          2020
         ],
         "xaxis": "x",
         "y": [
          99,
          104,
          128,
          105,
          126,
          120
         ],
         "yaxis": "y"
        },
        {
         "hovertemplate": "County=Tom Green County<br>Year=%{x}<br>Violent_Offenses=%{y}<extra></extra>",
         "legendgroup": "Tom Green County",
         "line": {
          "color": "#19d3f3",
          "dash": "solid"
         },
         "marker": {
          "symbol": "circle"
         },
         "mode": "lines",
         "name": "Tom Green County",
         "showlegend": true,
         "type": "scattergl",
         "x": [
          2015,
          2016,
          2017,
          2018,
          2019,
          2020
         ],
         "xaxis": "x",
         "y": [
          361,
          356,
          272,
          346,
          398,
          369
         ],
         "yaxis": "y"
        },
        {
         "hovertemplate": "County=Travis County<br>Year=%{x}<br>Violent_Offenses=%{y}<extra></extra>",
         "legendgroup": "Travis County",
         "line": {
          "color": "#FF6692",
          "dash": "solid"
         },
         "marker": {
          "symbol": "circle"
         },
         "mode": "lines",
         "name": "Travis County",
         "showlegend": true,
         "type": "scattergl",
         "x": [
          2015,
          2016,
          2017,
          2018,
          2019,
          2020
         ],
         "xaxis": "x",
         "y": [
          3281,
          3734,
          3882,
          3712,
          4009,
          4534
         ],
         "yaxis": "y"
        },
        {
         "hovertemplate": "County=Trinity County<br>Year=%{x}<br>Violent_Offenses=%{y}<extra></extra>",
         "legendgroup": "Trinity County",
         "line": {
          "color": "#B6E880",
          "dash": "solid"
         },
         "marker": {
          "symbol": "circle"
         },
         "mode": "lines",
         "name": "Trinity County",
         "showlegend": true,
         "type": "scattergl",
         "x": [
          2015,
          2016,
          2017,
          2018,
          2019,
          2020
         ],
         "xaxis": "x",
         "y": [
          18,
          20,
          22,
          18,
          5,
          10
         ],
         "yaxis": "y"
        },
        {
         "hovertemplate": "County=Tyler County<br>Year=%{x}<br>Violent_Offenses=%{y}<extra></extra>",
         "legendgroup": "Tyler County",
         "line": {
          "color": "#FF97FF",
          "dash": "solid"
         },
         "marker": {
          "symbol": "circle"
         },
         "mode": "lines",
         "name": "Tyler County",
         "showlegend": true,
         "type": "scattergl",
         "x": [
          2015,
          2016,
          2017,
          2018,
          2019,
          2020
         ],
         "xaxis": "x",
         "y": [
          69,
          72,
          89,
          66,
          68,
          33
         ],
         "yaxis": "y"
        },
        {
         "hovertemplate": "County=Upshur County<br>Year=%{x}<br>Violent_Offenses=%{y}<extra></extra>",
         "legendgroup": "Upshur County",
         "line": {
          "color": "#FECB52",
          "dash": "solid"
         },
         "marker": {
          "symbol": "circle"
         },
         "mode": "lines",
         "name": "Upshur County",
         "showlegend": true,
         "type": "scattergl",
         "x": [
          2015,
          2016,
          2017,
          2018,
          2019,
          2020
         ],
         "xaxis": "x",
         "y": [
          116,
          85,
          145,
          109,
          65,
          83
         ],
         "yaxis": "y"
        },
        {
         "hovertemplate": "County=Upton County<br>Year=%{x}<br>Violent_Offenses=%{y}<extra></extra>",
         "legendgroup": "Upton County",
         "line": {
          "color": "#636efa",
          "dash": "solid"
         },
         "marker": {
          "symbol": "circle"
         },
         "mode": "lines",
         "name": "Upton County",
         "showlegend": true,
         "type": "scattergl",
         "x": [
          2015,
          2016,
          2017,
          2018,
          2019,
          2020
         ],
         "xaxis": "x",
         "y": [
          4,
          5,
          8,
          1,
          2,
          4
         ],
         "yaxis": "y"
        },
        {
         "hovertemplate": "County=Uvalde County<br>Year=%{x}<br>Violent_Offenses=%{y}<extra></extra>",
         "legendgroup": "Uvalde County",
         "line": {
          "color": "#EF553B",
          "dash": "solid"
         },
         "marker": {
          "symbol": "circle"
         },
         "mode": "lines",
         "name": "Uvalde County",
         "showlegend": true,
         "type": "scattergl",
         "x": [
          2015,
          2016,
          2017,
          2018,
          2019,
          2020
         ],
         "xaxis": "x",
         "y": [
          65,
          53,
          36,
          49,
          65,
          87
         ],
         "yaxis": "y"
        },
        {
         "hovertemplate": "County=Val Verde County<br>Year=%{x}<br>Violent_Offenses=%{y}<extra></extra>",
         "legendgroup": "Val Verde County",
         "line": {
          "color": "#00cc96",
          "dash": "solid"
         },
         "marker": {
          "symbol": "circle"
         },
         "mode": "lines",
         "name": "Val Verde County",
         "showlegend": true,
         "type": "scattergl",
         "x": [
          2015,
          2016,
          2017,
          2018,
          2019,
          2020
         ],
         "xaxis": "x",
         "y": [
          78,
          57,
          50,
          46,
          57,
          85
         ],
         "yaxis": "y"
        },
        {
         "hovertemplate": "County=Van Zandt County<br>Year=%{x}<br>Violent_Offenses=%{y}<extra></extra>",
         "legendgroup": "Van Zandt County",
         "line": {
          "color": "#ab63fa",
          "dash": "solid"
         },
         "marker": {
          "symbol": "circle"
         },
         "mode": "lines",
         "name": "Van Zandt County",
         "showlegend": true,
         "type": "scattergl",
         "x": [
          2015,
          2016,
          2017,
          2018,
          2019,
          2020
         ],
         "xaxis": "x",
         "y": [
          28,
          25,
          33,
          25,
          50,
          103
         ],
         "yaxis": "y"
        },
        {
         "hovertemplate": "County=Victoria County<br>Year=%{x}<br>Violent_Offenses=%{y}<extra></extra>",
         "legendgroup": "Victoria County",
         "line": {
          "color": "#FFA15A",
          "dash": "solid"
         },
         "marker": {
          "symbol": "circle"
         },
         "mode": "lines",
         "name": "Victoria County",
         "showlegend": true,
         "type": "scattergl",
         "x": [
          2015,
          2016,
          2017,
          2018,
          2019,
          2020
         ],
         "xaxis": "x",
         "y": [
          369,
          300,
          258,
          349,
          394,
          377
         ],
         "yaxis": "y"
        },
        {
         "hovertemplate": "County=Walker County<br>Year=%{x}<br>Violent_Offenses=%{y}<extra></extra>",
         "legendgroup": "Walker County",
         "line": {
          "color": "#19d3f3",
          "dash": "solid"
         },
         "marker": {
          "symbol": "circle"
         },
         "mode": "lines",
         "name": "Walker County",
         "showlegend": true,
         "type": "scattergl",
         "x": [
          2015,
          2016,
          2017,
          2018,
          2019,
          2020
         ],
         "xaxis": "x",
         "y": [
          226,
          231,
          204,
          185,
          223,
          196
         ],
         "yaxis": "y"
        },
        {
         "hovertemplate": "County=Waller County<br>Year=%{x}<br>Violent_Offenses=%{y}<extra></extra>",
         "legendgroup": "Waller County",
         "line": {
          "color": "#FF6692",
          "dash": "solid"
         },
         "marker": {
          "symbol": "circle"
         },
         "mode": "lines",
         "name": "Waller County",
         "showlegend": true,
         "type": "scattergl",
         "x": [
          2015,
          2016,
          2017,
          2018,
          2019,
          2020
         ],
         "xaxis": "x",
         "y": [
          199,
          146,
          143,
          184,
          134,
          141
         ],
         "yaxis": "y"
        },
        {
         "hovertemplate": "County=Ward County<br>Year=%{x}<br>Violent_Offenses=%{y}<extra></extra>",
         "legendgroup": "Ward County",
         "line": {
          "color": "#B6E880",
          "dash": "solid"
         },
         "marker": {
          "symbol": "circle"
         },
         "mode": "lines",
         "name": "Ward County",
         "showlegend": true,
         "type": "scattergl",
         "x": [
          2015,
          2016,
          2017,
          2018,
          2019,
          2020
         ],
         "xaxis": "x",
         "y": [
          55,
          71,
          69,
          39,
          59,
          45
         ],
         "yaxis": "y"
        },
        {
         "hovertemplate": "County=Washington County<br>Year=%{x}<br>Violent_Offenses=%{y}<extra></extra>",
         "legendgroup": "Washington County",
         "line": {
          "color": "#FF97FF",
          "dash": "solid"
         },
         "marker": {
          "symbol": "circle"
         },
         "mode": "lines",
         "name": "Washington County",
         "showlegend": true,
         "type": "scattergl",
         "x": [
          2015,
          2016,
          2017,
          2018,
          2019,
          2020
         ],
         "xaxis": "x",
         "y": [
          71,
          59,
          148,
          91,
          135,
          86
         ],
         "yaxis": "y"
        },
        {
         "hovertemplate": "County=Webb County<br>Year=%{x}<br>Violent_Offenses=%{y}<extra></extra>",
         "legendgroup": "Webb County",
         "line": {
          "color": "#FECB52",
          "dash": "solid"
         },
         "marker": {
          "symbol": "circle"
         },
         "mode": "lines",
         "name": "Webb County",
         "showlegend": true,
         "type": "scattergl",
         "x": [
          2015,
          2016,
          2017,
          2018,
          2019,
          2020
         ],
         "xaxis": "x",
         "y": [
          878,
          821,
          734,
          824,
          736,
          772
         ],
         "yaxis": "y"
        },
        {
         "hovertemplate": "County=Wharton County<br>Year=%{x}<br>Violent_Offenses=%{y}<extra></extra>",
         "legendgroup": "Wharton County",
         "line": {
          "color": "#636efa",
          "dash": "solid"
         },
         "marker": {
          "symbol": "circle"
         },
         "mode": "lines",
         "name": "Wharton County",
         "showlegend": true,
         "type": "scattergl",
         "x": [
          2015,
          2016,
          2017,
          2018,
          2019,
          2020
         ],
         "xaxis": "x",
         "y": [
          135,
          156,
          145,
          131,
          122,
          130
         ],
         "yaxis": "y"
        },
        {
         "hovertemplate": "County=Wheeler County<br>Year=%{x}<br>Violent_Offenses=%{y}<extra></extra>",
         "legendgroup": "Wheeler County",
         "line": {
          "color": "#EF553B",
          "dash": "solid"
         },
         "marker": {
          "symbol": "circle"
         },
         "mode": "lines",
         "name": "Wheeler County",
         "showlegend": true,
         "type": "scattergl",
         "x": [
          2015,
          2016,
          2017,
          2018,
          2019,
          2020
         ],
         "xaxis": "x",
         "y": [
          4,
          9,
          5,
          0,
          5,
          2
         ],
         "yaxis": "y"
        },
        {
         "hovertemplate": "County=Wichita County<br>Year=%{x}<br>Violent_Offenses=%{y}<extra></extra>",
         "legendgroup": "Wichita County",
         "line": {
          "color": "#00cc96",
          "dash": "solid"
         },
         "marker": {
          "symbol": "circle"
         },
         "mode": "lines",
         "name": "Wichita County",
         "showlegend": true,
         "type": "scattergl",
         "x": [
          2015,
          2016,
          2017,
          2018,
          2019,
          2020
         ],
         "xaxis": "x",
         "y": [
          345,
          384,
          328,
          331,
          346,
          414
         ],
         "yaxis": "y"
        },
        {
         "hovertemplate": "County=Wilbarger County<br>Year=%{x}<br>Violent_Offenses=%{y}<extra></extra>",
         "legendgroup": "Wilbarger County",
         "line": {
          "color": "#ab63fa",
          "dash": "solid"
         },
         "marker": {
          "symbol": "circle"
         },
         "mode": "lines",
         "name": "Wilbarger County",
         "showlegend": true,
         "type": "scattergl",
         "x": [
          2015,
          2016,
          2017,
          2018,
          2019,
          2020
         ],
         "xaxis": "x",
         "y": [
          33,
          57,
          37,
          44,
          47,
          35
         ],
         "yaxis": "y"
        },
        {
         "hovertemplate": "County=Willacy County<br>Year=%{x}<br>Violent_Offenses=%{y}<extra></extra>",
         "legendgroup": "Willacy County",
         "line": {
          "color": "#FFA15A",
          "dash": "solid"
         },
         "marker": {
          "symbol": "circle"
         },
         "mode": "lines",
         "name": "Willacy County",
         "showlegend": true,
         "type": "scattergl",
         "x": [
          2015,
          2016,
          2017,
          2018,
          2019,
          2020
         ],
         "xaxis": "x",
         "y": [
          173,
          129,
          133,
          175,
          152,
          96
         ],
         "yaxis": "y"
        },
        {
         "hovertemplate": "County=Williamson County<br>Year=%{x}<br>Violent_Offenses=%{y}<extra></extra>",
         "legendgroup": "Williamson County",
         "line": {
          "color": "#19d3f3",
          "dash": "solid"
         },
         "marker": {
          "symbol": "circle"
         },
         "mode": "lines",
         "name": "Williamson County",
         "showlegend": true,
         "type": "scattergl",
         "x": [
          2015,
          2016,
          2017,
          2018,
          2019,
          2020
         ],
         "xaxis": "x",
         "y": [
          520,
          556,
          595,
          569,
          505,
          579
         ],
         "yaxis": "y"
        },
        {
         "hovertemplate": "County=Wilson County<br>Year=%{x}<br>Violent_Offenses=%{y}<extra></extra>",
         "legendgroup": "Wilson County",
         "line": {
          "color": "#FF6692",
          "dash": "solid"
         },
         "marker": {
          "symbol": "circle"
         },
         "mode": "lines",
         "name": "Wilson County",
         "showlegend": true,
         "type": "scattergl",
         "x": [
          2015,
          2016,
          2017,
          2018,
          2019,
          2020
         ],
         "xaxis": "x",
         "y": [
          50,
          54,
          45,
          30,
          46,
          44
         ],
         "yaxis": "y"
        },
        {
         "hovertemplate": "County=Winkler County<br>Year=%{x}<br>Violent_Offenses=%{y}<extra></extra>",
         "legendgroup": "Winkler County",
         "line": {
          "color": "#B6E880",
          "dash": "solid"
         },
         "marker": {
          "symbol": "circle"
         },
         "mode": "lines",
         "name": "Winkler County",
         "showlegend": true,
         "type": "scattergl",
         "x": [
          2015,
          2016,
          2017,
          2018,
          2019,
          2020
         ],
         "xaxis": "x",
         "y": [
          7,
          3,
          3,
          37,
          31,
          14
         ],
         "yaxis": "y"
        },
        {
         "hovertemplate": "County=Wise County<br>Year=%{x}<br>Violent_Offenses=%{y}<extra></extra>",
         "legendgroup": "Wise County",
         "line": {
          "color": "#FF97FF",
          "dash": "solid"
         },
         "marker": {
          "symbol": "circle"
         },
         "mode": "lines",
         "name": "Wise County",
         "showlegend": true,
         "type": "scattergl",
         "x": [
          2015,
          2016,
          2017,
          2018,
          2019,
          2020
         ],
         "xaxis": "x",
         "y": [
          79,
          107,
          131,
          135,
          102,
          117
         ],
         "yaxis": "y"
        },
        {
         "hovertemplate": "County=Wood County<br>Year=%{x}<br>Violent_Offenses=%{y}<extra></extra>",
         "legendgroup": "Wood County",
         "line": {
          "color": "#FECB52",
          "dash": "solid"
         },
         "marker": {
          "symbol": "circle"
         },
         "mode": "lines",
         "name": "Wood County",
         "showlegend": true,
         "type": "scattergl",
         "x": [
          2015,
          2016,
          2017,
          2018,
          2019,
          2020
         ],
         "xaxis": "x",
         "y": [
          47,
          66,
          73,
          100,
          87,
          49
         ],
         "yaxis": "y"
        },
        {
         "hovertemplate": "County=Yoakum County<br>Year=%{x}<br>Violent_Offenses=%{y}<extra></extra>",
         "legendgroup": "Yoakum County",
         "line": {
          "color": "#636efa",
          "dash": "solid"
         },
         "marker": {
          "symbol": "circle"
         },
         "mode": "lines",
         "name": "Yoakum County",
         "showlegend": true,
         "type": "scattergl",
         "x": [
          2015,
          2016,
          2017,
          2018,
          2019,
          2020
         ],
         "xaxis": "x",
         "y": [
          8,
          17,
          8,
          7,
          4,
          6
         ],
         "yaxis": "y"
        },
        {
         "hovertemplate": "County=Young County<br>Year=%{x}<br>Violent_Offenses=%{y}<extra></extra>",
         "legendgroup": "Young County",
         "line": {
          "color": "#EF553B",
          "dash": "solid"
         },
         "marker": {
          "symbol": "circle"
         },
         "mode": "lines",
         "name": "Young County",
         "showlegend": true,
         "type": "scattergl",
         "x": [
          2015,
          2016,
          2017,
          2018,
          2019,
          2020
         ],
         "xaxis": "x",
         "y": [
          29,
          22,
          25,
          31,
          33,
          31
         ],
         "yaxis": "y"
        },
        {
         "hovertemplate": "County=Zapata County<br>Year=%{x}<br>Violent_Offenses=%{y}<extra></extra>",
         "legendgroup": "Zapata County",
         "line": {
          "color": "#00cc96",
          "dash": "solid"
         },
         "marker": {
          "symbol": "circle"
         },
         "mode": "lines",
         "name": "Zapata County",
         "showlegend": true,
         "type": "scattergl",
         "x": [
          2015,
          2019,
          2020
         ],
         "xaxis": "x",
         "y": [
          14,
          47,
          13
         ],
         "yaxis": "y"
        },
        {
         "hovertemplate": "County=Zavala County<br>Year=%{x}<br>Violent_Offenses=%{y}<extra></extra>",
         "legendgroup": "Zavala County",
         "line": {
          "color": "#ab63fa",
          "dash": "solid"
         },
         "marker": {
          "symbol": "circle"
         },
         "mode": "lines",
         "name": "Zavala County",
         "showlegend": true,
         "type": "scattergl",
         "x": [
          2015,
          2016,
          2017,
          2018,
          2019,
          2020
         ],
         "xaxis": "x",
         "y": [
          55,
          33,
          55,
          19,
          21,
          18
         ],
         "yaxis": "y"
        }
       ],
       "layout": {
        "legend": {
         "title": {
          "text": "County"
         },
         "tracegroupgap": 0
        },
        "margin": {
         "t": 60
        },
        "template": {
         "data": {
          "bar": [
           {
            "error_x": {
             "color": "#2a3f5f"
            },
            "error_y": {
             "color": "#2a3f5f"
            },
            "marker": {
             "line": {
              "color": "#E5ECF6",
              "width": 0.5
             },
             "pattern": {
              "fillmode": "overlay",
              "size": 10,
              "solidity": 0.2
             }
            },
            "type": "bar"
           }
          ],
          "barpolar": [
           {
            "marker": {
             "line": {
              "color": "#E5ECF6",
              "width": 0.5
             },
             "pattern": {
              "fillmode": "overlay",
              "size": 10,
              "solidity": 0.2
             }
            },
            "type": "barpolar"
           }
          ],
          "carpet": [
           {
            "aaxis": {
             "endlinecolor": "#2a3f5f",
             "gridcolor": "white",
             "linecolor": "white",
             "minorgridcolor": "white",
             "startlinecolor": "#2a3f5f"
            },
            "baxis": {
             "endlinecolor": "#2a3f5f",
             "gridcolor": "white",
             "linecolor": "white",
             "minorgridcolor": "white",
             "startlinecolor": "#2a3f5f"
            },
            "type": "carpet"
           }
          ],
          "choropleth": [
           {
            "colorbar": {
             "outlinewidth": 0,
             "ticks": ""
            },
            "type": "choropleth"
           }
          ],
          "contour": [
           {
            "colorbar": {
             "outlinewidth": 0,
             "ticks": ""
            },
            "colorscale": [
             [
              0,
              "#0d0887"
             ],
             [
              0.1111111111111111,
              "#46039f"
             ],
             [
              0.2222222222222222,
              "#7201a8"
             ],
             [
              0.3333333333333333,
              "#9c179e"
             ],
             [
              0.4444444444444444,
              "#bd3786"
             ],
             [
              0.5555555555555556,
              "#d8576b"
             ],
             [
              0.6666666666666666,
              "#ed7953"
             ],
             [
              0.7777777777777778,
              "#fb9f3a"
             ],
             [
              0.8888888888888888,
              "#fdca26"
             ],
             [
              1,
              "#f0f921"
             ]
            ],
            "type": "contour"
           }
          ],
          "contourcarpet": [
           {
            "colorbar": {
             "outlinewidth": 0,
             "ticks": ""
            },
            "type": "contourcarpet"
           }
          ],
          "heatmap": [
           {
            "colorbar": {
             "outlinewidth": 0,
             "ticks": ""
            },
            "colorscale": [
             [
              0,
              "#0d0887"
             ],
             [
              0.1111111111111111,
              "#46039f"
             ],
             [
              0.2222222222222222,
              "#7201a8"
             ],
             [
              0.3333333333333333,
              "#9c179e"
             ],
             [
              0.4444444444444444,
              "#bd3786"
             ],
             [
              0.5555555555555556,
              "#d8576b"
             ],
             [
              0.6666666666666666,
              "#ed7953"
             ],
             [
              0.7777777777777778,
              "#fb9f3a"
             ],
             [
              0.8888888888888888,
              "#fdca26"
             ],
             [
              1,
              "#f0f921"
             ]
            ],
            "type": "heatmap"
           }
          ],
          "heatmapgl": [
           {
            "colorbar": {
             "outlinewidth": 0,
             "ticks": ""
            },
            "colorscale": [
             [
              0,
              "#0d0887"
             ],
             [
              0.1111111111111111,
              "#46039f"
             ],
             [
              0.2222222222222222,
              "#7201a8"
             ],
             [
              0.3333333333333333,
              "#9c179e"
             ],
             [
              0.4444444444444444,
              "#bd3786"
             ],
             [
              0.5555555555555556,
              "#d8576b"
             ],
             [
              0.6666666666666666,
              "#ed7953"
             ],
             [
              0.7777777777777778,
              "#fb9f3a"
             ],
             [
              0.8888888888888888,
              "#fdca26"
             ],
             [
              1,
              "#f0f921"
             ]
            ],
            "type": "heatmapgl"
           }
          ],
          "histogram": [
           {
            "marker": {
             "pattern": {
              "fillmode": "overlay",
              "size": 10,
              "solidity": 0.2
             }
            },
            "type": "histogram"
           }
          ],
          "histogram2d": [
           {
            "colorbar": {
             "outlinewidth": 0,
             "ticks": ""
            },
            "colorscale": [
             [
              0,
              "#0d0887"
             ],
             [
              0.1111111111111111,
              "#46039f"
             ],
             [
              0.2222222222222222,
              "#7201a8"
             ],
             [
              0.3333333333333333,
              "#9c179e"
             ],
             [
              0.4444444444444444,
              "#bd3786"
             ],
             [
              0.5555555555555556,
              "#d8576b"
             ],
             [
              0.6666666666666666,
              "#ed7953"
             ],
             [
              0.7777777777777778,
              "#fb9f3a"
             ],
             [
              0.8888888888888888,
              "#fdca26"
             ],
             [
              1,
              "#f0f921"
             ]
            ],
            "type": "histogram2d"
           }
          ],
          "histogram2dcontour": [
           {
            "colorbar": {
             "outlinewidth": 0,
             "ticks": ""
            },
            "colorscale": [
             [
              0,
              "#0d0887"
             ],
             [
              0.1111111111111111,
              "#46039f"
             ],
             [
              0.2222222222222222,
              "#7201a8"
             ],
             [
              0.3333333333333333,
              "#9c179e"
             ],
             [
              0.4444444444444444,
              "#bd3786"
             ],
             [
              0.5555555555555556,
              "#d8576b"
             ],
             [
              0.6666666666666666,
              "#ed7953"
             ],
             [
              0.7777777777777778,
              "#fb9f3a"
             ],
             [
              0.8888888888888888,
              "#fdca26"
             ],
             [
              1,
              "#f0f921"
             ]
            ],
            "type": "histogram2dcontour"
           }
          ],
          "mesh3d": [
           {
            "colorbar": {
             "outlinewidth": 0,
             "ticks": ""
            },
            "type": "mesh3d"
           }
          ],
          "parcoords": [
           {
            "line": {
             "colorbar": {
              "outlinewidth": 0,
              "ticks": ""
             }
            },
            "type": "parcoords"
           }
          ],
          "pie": [
           {
            "automargin": true,
            "type": "pie"
           }
          ],
          "scatter": [
           {
            "marker": {
             "colorbar": {
              "outlinewidth": 0,
              "ticks": ""
             }
            },
            "type": "scatter"
           }
          ],
          "scatter3d": [
           {
            "line": {
             "colorbar": {
              "outlinewidth": 0,
              "ticks": ""
             }
            },
            "marker": {
             "colorbar": {
              "outlinewidth": 0,
              "ticks": ""
             }
            },
            "type": "scatter3d"
           }
          ],
          "scattercarpet": [
           {
            "marker": {
             "colorbar": {
              "outlinewidth": 0,
              "ticks": ""
             }
            },
            "type": "scattercarpet"
           }
          ],
          "scattergeo": [
           {
            "marker": {
             "colorbar": {
              "outlinewidth": 0,
              "ticks": ""
             }
            },
            "type": "scattergeo"
           }
          ],
          "scattergl": [
           {
            "marker": {
             "colorbar": {
              "outlinewidth": 0,
              "ticks": ""
             }
            },
            "type": "scattergl"
           }
          ],
          "scattermapbox": [
           {
            "marker": {
             "colorbar": {
              "outlinewidth": 0,
              "ticks": ""
             }
            },
            "type": "scattermapbox"
           }
          ],
          "scatterpolar": [
           {
            "marker": {
             "colorbar": {
              "outlinewidth": 0,
              "ticks": ""
             }
            },
            "type": "scatterpolar"
           }
          ],
          "scatterpolargl": [
           {
            "marker": {
             "colorbar": {
              "outlinewidth": 0,
              "ticks": ""
             }
            },
            "type": "scatterpolargl"
           }
          ],
          "scatterternary": [
           {
            "marker": {
             "colorbar": {
              "outlinewidth": 0,
              "ticks": ""
             }
            },
            "type": "scatterternary"
           }
          ],
          "surface": [
           {
            "colorbar": {
             "outlinewidth": 0,
             "ticks": ""
            },
            "colorscale": [
             [
              0,
              "#0d0887"
             ],
             [
              0.1111111111111111,
              "#46039f"
             ],
             [
              0.2222222222222222,
              "#7201a8"
             ],
             [
              0.3333333333333333,
              "#9c179e"
             ],
             [
              0.4444444444444444,
              "#bd3786"
             ],
             [
              0.5555555555555556,
              "#d8576b"
             ],
             [
              0.6666666666666666,
              "#ed7953"
             ],
             [
              0.7777777777777778,
              "#fb9f3a"
             ],
             [
              0.8888888888888888,
              "#fdca26"
             ],
             [
              1,
              "#f0f921"
             ]
            ],
            "type": "surface"
           }
          ],
          "table": [
           {
            "cells": {
             "fill": {
              "color": "#EBF0F8"
             },
             "line": {
              "color": "white"
             }
            },
            "header": {
             "fill": {
              "color": "#C8D4E3"
             },
             "line": {
              "color": "white"
             }
            },
            "type": "table"
           }
          ]
         },
         "layout": {
          "annotationdefaults": {
           "arrowcolor": "#2a3f5f",
           "arrowhead": 0,
           "arrowwidth": 1
          },
          "autotypenumbers": "strict",
          "coloraxis": {
           "colorbar": {
            "outlinewidth": 0,
            "ticks": ""
           }
          },
          "colorscale": {
           "diverging": [
            [
             0,
             "#8e0152"
            ],
            [
             0.1,
             "#c51b7d"
            ],
            [
             0.2,
             "#de77ae"
            ],
            [
             0.3,
             "#f1b6da"
            ],
            [
             0.4,
             "#fde0ef"
            ],
            [
             0.5,
             "#f7f7f7"
            ],
            [
             0.6,
             "#e6f5d0"
            ],
            [
             0.7,
             "#b8e186"
            ],
            [
             0.8,
             "#7fbc41"
            ],
            [
             0.9,
             "#4d9221"
            ],
            [
             1,
             "#276419"
            ]
           ],
           "sequential": [
            [
             0,
             "#0d0887"
            ],
            [
             0.1111111111111111,
             "#46039f"
            ],
            [
             0.2222222222222222,
             "#7201a8"
            ],
            [
             0.3333333333333333,
             "#9c179e"
            ],
            [
             0.4444444444444444,
             "#bd3786"
            ],
            [
             0.5555555555555556,
             "#d8576b"
            ],
            [
             0.6666666666666666,
             "#ed7953"
            ],
            [
             0.7777777777777778,
             "#fb9f3a"
            ],
            [
             0.8888888888888888,
             "#fdca26"
            ],
            [
             1,
             "#f0f921"
            ]
           ],
           "sequentialminus": [
            [
             0,
             "#0d0887"
            ],
            [
             0.1111111111111111,
             "#46039f"
            ],
            [
             0.2222222222222222,
             "#7201a8"
            ],
            [
             0.3333333333333333,
             "#9c179e"
            ],
            [
             0.4444444444444444,
             "#bd3786"
            ],
            [
             0.5555555555555556,
             "#d8576b"
            ],
            [
             0.6666666666666666,
             "#ed7953"
            ],
            [
             0.7777777777777778,
             "#fb9f3a"
            ],
            [
             0.8888888888888888,
             "#fdca26"
            ],
            [
             1,
             "#f0f921"
            ]
           ]
          },
          "colorway": [
           "#636efa",
           "#EF553B",
           "#00cc96",
           "#ab63fa",
           "#FFA15A",
           "#19d3f3",
           "#FF6692",
           "#B6E880",
           "#FF97FF",
           "#FECB52"
          ],
          "font": {
           "color": "#2a3f5f"
          },
          "geo": {
           "bgcolor": "white",
           "lakecolor": "white",
           "landcolor": "#E5ECF6",
           "showlakes": true,
           "showland": true,
           "subunitcolor": "white"
          },
          "hoverlabel": {
           "align": "left"
          },
          "hovermode": "closest",
          "mapbox": {
           "style": "light"
          },
          "paper_bgcolor": "white",
          "plot_bgcolor": "#E5ECF6",
          "polar": {
           "angularaxis": {
            "gridcolor": "white",
            "linecolor": "white",
            "ticks": ""
           },
           "bgcolor": "#E5ECF6",
           "radialaxis": {
            "gridcolor": "white",
            "linecolor": "white",
            "ticks": ""
           }
          },
          "scene": {
           "xaxis": {
            "backgroundcolor": "#E5ECF6",
            "gridcolor": "white",
            "gridwidth": 2,
            "linecolor": "white",
            "showbackground": true,
            "ticks": "",
            "zerolinecolor": "white"
           },
           "yaxis": {
            "backgroundcolor": "#E5ECF6",
            "gridcolor": "white",
            "gridwidth": 2,
            "linecolor": "white",
            "showbackground": true,
            "ticks": "",
            "zerolinecolor": "white"
           },
           "zaxis": {
            "backgroundcolor": "#E5ECF6",
            "gridcolor": "white",
            "gridwidth": 2,
            "linecolor": "white",
            "showbackground": true,
            "ticks": "",
            "zerolinecolor": "white"
           }
          },
          "shapedefaults": {
           "line": {
            "color": "#2a3f5f"
           }
          },
          "ternary": {
           "aaxis": {
            "gridcolor": "white",
            "linecolor": "white",
            "ticks": ""
           },
           "baxis": {
            "gridcolor": "white",
            "linecolor": "white",
            "ticks": ""
           },
           "bgcolor": "#E5ECF6",
           "caxis": {
            "gridcolor": "white",
            "linecolor": "white",
            "ticks": ""
           }
          },
          "title": {
           "x": 0.05
          },
          "xaxis": {
           "automargin": true,
           "gridcolor": "white",
           "linecolor": "white",
           "ticks": "",
           "title": {
            "standoff": 15
           },
           "zerolinecolor": "white",
           "zerolinewidth": 2
          },
          "yaxis": {
           "automargin": true,
           "gridcolor": "white",
           "linecolor": "white",
           "ticks": "",
           "title": {
            "standoff": 15
           },
           "zerolinecolor": "white",
           "zerolinewidth": 2
          }
         }
        },
        "xaxis": {
         "anchor": "y",
         "domain": [
          0,
          1
         ],
         "title": {
          "text": "Year"
         }
        },
        "yaxis": {
         "anchor": "x",
         "domain": [
          0,
          1
         ],
         "title": {
          "text": "Violent_Offenses"
         }
        }
       }
      },
      "text/html": [
       "<div>                            <div id=\"86489b7f-c47f-480f-9b1b-6b7476c29a90\" class=\"plotly-graph-div\" style=\"height:525px; width:100%;\"></div>            <script type=\"text/javascript\">                require([\"plotly\"], function(Plotly) {                    window.PLOTLYENV=window.PLOTLYENV || {};                                    if (document.getElementById(\"86489b7f-c47f-480f-9b1b-6b7476c29a90\")) {                    Plotly.newPlot(                        \"86489b7f-c47f-480f-9b1b-6b7476c29a90\",                        [{\"hovertemplate\":\"County=Anderson County<br>Year=%{x}<br>Violent_Offenses=%{y}<extra></extra>\",\"legendgroup\":\"Anderson County\",\"line\":{\"color\":\"#636efa\",\"dash\":\"solid\"},\"marker\":{\"symbol\":\"circle\"},\"mode\":\"lines\",\"name\":\"Anderson County\",\"showlegend\":true,\"x\":[2015,2016,2017,2018,2019,2020],\"xaxis\":\"x\",\"y\":[242,283,180,105,125,128],\"yaxis\":\"y\",\"type\":\"scattergl\"},{\"hovertemplate\":\"County=Andrews County<br>Year=%{x}<br>Violent_Offenses=%{y}<extra></extra>\",\"legendgroup\":\"Andrews County\",\"line\":{\"color\":\"#EF553B\",\"dash\":\"solid\"},\"marker\":{\"symbol\":\"circle\"},\"mode\":\"lines\",\"name\":\"Andrews County\",\"showlegend\":true,\"x\":[2015,2016,2017,2018,2019,2020],\"xaxis\":\"x\",\"y\":[82,83,62,71,82,66],\"yaxis\":\"y\",\"type\":\"scattergl\"},{\"hovertemplate\":\"County=Angelina County<br>Year=%{x}<br>Violent_Offenses=%{y}<extra></extra>\",\"legendgroup\":\"Angelina County\",\"line\":{\"color\":\"#00cc96\",\"dash\":\"solid\"},\"marker\":{\"symbol\":\"circle\"},\"mode\":\"lines\",\"name\":\"Angelina County\",\"showlegend\":true,\"x\":[2015,2016,2017,2018,2019,2020],\"xaxis\":\"x\",\"y\":[200,214,211,233,257,351],\"yaxis\":\"y\",\"type\":\"scattergl\"},{\"hovertemplate\":\"County=Aransas County<br>Year=%{x}<br>Violent_Offenses=%{y}<extra></extra>\",\"legendgroup\":\"Aransas County\",\"line\":{\"color\":\"#ab63fa\",\"dash\":\"solid\"},\"marker\":{\"symbol\":\"circle\"},\"mode\":\"lines\",\"name\":\"Aransas County\",\"showlegend\":true,\"x\":[2015,2016,2017,2018,2019,2020],\"xaxis\":\"x\",\"y\":[161,172,136,139,135,133],\"yaxis\":\"y\",\"type\":\"scattergl\"},{\"hovertemplate\":\"County=Archer County<br>Year=%{x}<br>Violent_Offenses=%{y}<extra></extra>\",\"legendgroup\":\"Archer County\",\"line\":{\"color\":\"#FFA15A\",\"dash\":\"solid\"},\"marker\":{\"symbol\":\"circle\"},\"mode\":\"lines\",\"name\":\"Archer County\",\"showlegend\":true,\"x\":[2015,2016,2017,2018,2019,2020],\"xaxis\":\"x\",\"y\":[7,10,10,4,6,1],\"yaxis\":\"y\",\"type\":\"scattergl\"},{\"hovertemplate\":\"County=Armstrong County<br>Year=%{x}<br>Violent_Offenses=%{y}<extra></extra>\",\"legendgroup\":\"Armstrong County\",\"line\":{\"color\":\"#19d3f3\",\"dash\":\"solid\"},\"marker\":{\"symbol\":\"circle\"},\"mode\":\"lines\",\"name\":\"Armstrong County\",\"showlegend\":true,\"x\":[2015,2016,2017,2018,2019,2020],\"xaxis\":\"x\",\"y\":[1,3,4,7,1,0],\"yaxis\":\"y\",\"type\":\"scattergl\"},{\"hovertemplate\":\"County=Atascosa County<br>Year=%{x}<br>Violent_Offenses=%{y}<extra></extra>\",\"legendgroup\":\"Atascosa County\",\"line\":{\"color\":\"#FF6692\",\"dash\":\"solid\"},\"marker\":{\"symbol\":\"circle\"},\"mode\":\"lines\",\"name\":\"Atascosa County\",\"showlegend\":true,\"x\":[2015,2016,2017,2018,2019,2020],\"xaxis\":\"x\",\"y\":[114,92,130,118,79,92],\"yaxis\":\"y\",\"type\":\"scattergl\"},{\"hovertemplate\":\"County=Austin County<br>Year=%{x}<br>Violent_Offenses=%{y}<extra></extra>\",\"legendgroup\":\"Austin County\",\"line\":{\"color\":\"#B6E880\",\"dash\":\"solid\"},\"marker\":{\"symbol\":\"circle\"},\"mode\":\"lines\",\"name\":\"Austin County\",\"showlegend\":true,\"x\":[2015,2016,2017,2018,2019,2020],\"xaxis\":\"x\",\"y\":[61,49,45,43,43,42],\"yaxis\":\"y\",\"type\":\"scattergl\"},{\"hovertemplate\":\"County=Bailey County<br>Year=%{x}<br>Violent_Offenses=%{y}<extra></extra>\",\"legendgroup\":\"Bailey County\",\"line\":{\"color\":\"#FF97FF\",\"dash\":\"solid\"},\"marker\":{\"symbol\":\"circle\"},\"mode\":\"lines\",\"name\":\"Bailey County\",\"showlegend\":true,\"x\":[2015,2016,2017,2018,2019,2020],\"xaxis\":\"x\",\"y\":[18,11,7,16,7,3],\"yaxis\":\"y\",\"type\":\"scattergl\"},{\"hovertemplate\":\"County=Bandera County<br>Year=%{x}<br>Violent_Offenses=%{y}<extra></extra>\",\"legendgroup\":\"Bandera County\",\"line\":{\"color\":\"#FECB52\",\"dash\":\"solid\"},\"marker\":{\"symbol\":\"circle\"},\"mode\":\"lines\",\"name\":\"Bandera County\",\"showlegend\":true,\"x\":[2015,2016,2017,2018,2019,2020],\"xaxis\":\"x\",\"y\":[21,37,30,32,18,17],\"yaxis\":\"y\",\"type\":\"scattergl\"},{\"hovertemplate\":\"County=Bastrop County<br>Year=%{x}<br>Violent_Offenses=%{y}<extra></extra>\",\"legendgroup\":\"Bastrop County\",\"line\":{\"color\":\"#636efa\",\"dash\":\"solid\"},\"marker\":{\"symbol\":\"circle\"},\"mode\":\"lines\",\"name\":\"Bastrop County\",\"showlegend\":true,\"x\":[2015,2016,2017,2018,2019,2020],\"xaxis\":\"x\",\"y\":[239,323,217,207,242,238],\"yaxis\":\"y\",\"type\":\"scattergl\"},{\"hovertemplate\":\"County=Baylor County<br>Year=%{x}<br>Violent_Offenses=%{y}<extra></extra>\",\"legendgroup\":\"Baylor County\",\"line\":{\"color\":\"#EF553B\",\"dash\":\"solid\"},\"marker\":{\"symbol\":\"circle\"},\"mode\":\"lines\",\"name\":\"Baylor County\",\"showlegend\":true,\"x\":[2015,2016,2017,2018,2019,2020],\"xaxis\":\"x\",\"y\":[9,8,12,7,5,9],\"yaxis\":\"y\",\"type\":\"scattergl\"},{\"hovertemplate\":\"County=Bee County<br>Year=%{x}<br>Violent_Offenses=%{y}<extra></extra>\",\"legendgroup\":\"Bee County\",\"line\":{\"color\":\"#00cc96\",\"dash\":\"solid\"},\"marker\":{\"symbol\":\"circle\"},\"mode\":\"lines\",\"name\":\"Bee County\",\"showlegend\":true,\"x\":[2015,2016,2017,2018,2019,2020],\"xaxis\":\"x\",\"y\":[64,101,72,63,46,66],\"yaxis\":\"y\",\"type\":\"scattergl\"},{\"hovertemplate\":\"County=Bell County<br>Year=%{x}<br>Violent_Offenses=%{y}<extra></extra>\",\"legendgroup\":\"Bell County\",\"line\":{\"color\":\"#ab63fa\",\"dash\":\"solid\"},\"marker\":{\"symbol\":\"circle\"},\"mode\":\"lines\",\"name\":\"Bell County\",\"showlegend\":true,\"x\":[2015,2016,2017,2018,2019,2020],\"xaxis\":\"x\",\"y\":[1007,1093,1145,797,828,1325],\"yaxis\":\"y\",\"type\":\"scattergl\"},{\"hovertemplate\":\"County=Bexar County<br>Year=%{x}<br>Violent_Offenses=%{y}<extra></extra>\",\"legendgroup\":\"Bexar County\",\"line\":{\"color\":\"#FFA15A\",\"dash\":\"solid\"},\"marker\":{\"symbol\":\"circle\"},\"mode\":\"lines\",\"name\":\"Bexar County\",\"showlegend\":true,\"x\":[2015,2016,2017,2018,2019,2020],\"xaxis\":\"x\",\"y\":[7335,9307,9366,8852,10081,10616],\"yaxis\":\"y\",\"type\":\"scattergl\"},{\"hovertemplate\":\"County=Blanco County<br>Year=%{x}<br>Violent_Offenses=%{y}<extra></extra>\",\"legendgroup\":\"Blanco County\",\"line\":{\"color\":\"#19d3f3\",\"dash\":\"solid\"},\"marker\":{\"symbol\":\"circle\"},\"mode\":\"lines\",\"name\":\"Blanco County\",\"showlegend\":true,\"x\":[2015,2016,2017,2018,2019,2020],\"xaxis\":\"x\",\"y\":[9,16,14,14,18,29],\"yaxis\":\"y\",\"type\":\"scattergl\"},{\"hovertemplate\":\"County=Borden County<br>Year=%{x}<br>Violent_Offenses=%{y}<extra></extra>\",\"legendgroup\":\"Borden County\",\"line\":{\"color\":\"#FF6692\",\"dash\":\"solid\"},\"marker\":{\"symbol\":\"circle\"},\"mode\":\"lines\",\"name\":\"Borden County\",\"showlegend\":true,\"x\":[2015,2016,2017,2018,2019,2020],\"xaxis\":\"x\",\"y\":[2,4,2,0,1,1],\"yaxis\":\"y\",\"type\":\"scattergl\"},{\"hovertemplate\":\"County=Bosque County<br>Year=%{x}<br>Violent_Offenses=%{y}<extra></extra>\",\"legendgroup\":\"Bosque County\",\"line\":{\"color\":\"#B6E880\",\"dash\":\"solid\"},\"marker\":{\"symbol\":\"circle\"},\"mode\":\"lines\",\"name\":\"Bosque County\",\"showlegend\":true,\"x\":[2015,2016,2017,2018,2019,2020],\"xaxis\":\"x\",\"y\":[9,6,8,4,27,9],\"yaxis\":\"y\",\"type\":\"scattergl\"},{\"hovertemplate\":\"County=Bowie County<br>Year=%{x}<br>Violent_Offenses=%{y}<extra></extra>\",\"legendgroup\":\"Bowie County\",\"line\":{\"color\":\"#FF97FF\",\"dash\":\"solid\"},\"marker\":{\"symbol\":\"circle\"},\"mode\":\"lines\",\"name\":\"Bowie County\",\"showlegend\":true,\"x\":[2015,2016,2017,2018,2019,2020],\"xaxis\":\"x\",\"y\":[395,392,529,257,364,339],\"yaxis\":\"y\",\"type\":\"scattergl\"},{\"hovertemplate\":\"County=Brazoria County<br>Year=%{x}<br>Violent_Offenses=%{y}<extra></extra>\",\"legendgroup\":\"Brazoria County\",\"line\":{\"color\":\"#FECB52\",\"dash\":\"solid\"},\"marker\":{\"symbol\":\"circle\"},\"mode\":\"lines\",\"name\":\"Brazoria County\",\"showlegend\":true,\"x\":[2015,2016,2017,2018,2019,2020],\"xaxis\":\"x\",\"y\":[470,513,560,512,533,587],\"yaxis\":\"y\",\"type\":\"scattergl\"},{\"hovertemplate\":\"County=Brazos County<br>Year=%{x}<br>Violent_Offenses=%{y}<extra></extra>\",\"legendgroup\":\"Brazos County\",\"line\":{\"color\":\"#636efa\",\"dash\":\"solid\"},\"marker\":{\"symbol\":\"circle\"},\"mode\":\"lines\",\"name\":\"Brazos County\",\"showlegend\":true,\"x\":[2015,2016,2017,2018,2019,2020],\"xaxis\":\"x\",\"y\":[587,608,529,549,555,661],\"yaxis\":\"y\",\"type\":\"scattergl\"},{\"hovertemplate\":\"County=Brewster County<br>Year=%{x}<br>Violent_Offenses=%{y}<extra></extra>\",\"legendgroup\":\"Brewster County\",\"line\":{\"color\":\"#EF553B\",\"dash\":\"solid\"},\"marker\":{\"symbol\":\"circle\"},\"mode\":\"lines\",\"name\":\"Brewster County\",\"showlegend\":true,\"x\":[2015,2016,2017,2018,2019,2020],\"xaxis\":\"x\",\"y\":[11,14,23,24,19,10],\"yaxis\":\"y\",\"type\":\"scattergl\"},{\"hovertemplate\":\"County=Briscoe County<br>Year=%{x}<br>Violent_Offenses=%{y}<extra></extra>\",\"legendgroup\":\"Briscoe County\",\"line\":{\"color\":\"#00cc96\",\"dash\":\"solid\"},\"marker\":{\"symbol\":\"circle\"},\"mode\":\"lines\",\"name\":\"Briscoe County\",\"showlegend\":true,\"x\":[2015,2016,2017,2018,2019,2020],\"xaxis\":\"x\",\"y\":[2,0,1,1,0,1],\"yaxis\":\"y\",\"type\":\"scattergl\"},{\"hovertemplate\":\"County=Brooks County<br>Year=%{x}<br>Violent_Offenses=%{y}<extra></extra>\",\"legendgroup\":\"Brooks County\",\"line\":{\"color\":\"#ab63fa\",\"dash\":\"solid\"},\"marker\":{\"symbol\":\"circle\"},\"mode\":\"lines\",\"name\":\"Brooks County\",\"showlegend\":true,\"x\":[2015,2016,2017,2018,2019,2020],\"xaxis\":\"x\",\"y\":[13,15,15,12,15,32],\"yaxis\":\"y\",\"type\":\"scattergl\"},{\"hovertemplate\":\"County=Brown County<br>Year=%{x}<br>Violent_Offenses=%{y}<extra></extra>\",\"legendgroup\":\"Brown County\",\"line\":{\"color\":\"#FFA15A\",\"dash\":\"solid\"},\"marker\":{\"symbol\":\"circle\"},\"mode\":\"lines\",\"name\":\"Brown County\",\"showlegend\":true,\"x\":[2015,2016,2017,2018,2019,2020],\"xaxis\":\"x\",\"y\":[120,121,113,144,121,131],\"yaxis\":\"y\",\"type\":\"scattergl\"},{\"hovertemplate\":\"County=Burleson County<br>Year=%{x}<br>Violent_Offenses=%{y}<extra></extra>\",\"legendgroup\":\"Burleson County\",\"line\":{\"color\":\"#19d3f3\",\"dash\":\"solid\"},\"marker\":{\"symbol\":\"circle\"},\"mode\":\"lines\",\"name\":\"Burleson County\",\"showlegend\":true,\"x\":[2015,2016,2017,2018,2019,2020],\"xaxis\":\"x\",\"y\":[36,29,30,33,24,37],\"yaxis\":\"y\",\"type\":\"scattergl\"},{\"hovertemplate\":\"County=Burnet County<br>Year=%{x}<br>Violent_Offenses=%{y}<extra></extra>\",\"legendgroup\":\"Burnet County\",\"line\":{\"color\":\"#FF6692\",\"dash\":\"solid\"},\"marker\":{\"symbol\":\"circle\"},\"mode\":\"lines\",\"name\":\"Burnet County\",\"showlegend\":true,\"x\":[2015,2016,2017,2018,2019,2020],\"xaxis\":\"x\",\"y\":[100,110,112,103,115,115],\"yaxis\":\"y\",\"type\":\"scattergl\"},{\"hovertemplate\":\"County=Caldwell County<br>Year=%{x}<br>Violent_Offenses=%{y}<extra></extra>\",\"legendgroup\":\"Caldwell County\",\"line\":{\"color\":\"#B6E880\",\"dash\":\"solid\"},\"marker\":{\"symbol\":\"circle\"},\"mode\":\"lines\",\"name\":\"Caldwell County\",\"showlegend\":true,\"x\":[2015,2016,2017,2018,2019,2020],\"xaxis\":\"x\",\"y\":[84,82,85,72,74,77],\"yaxis\":\"y\",\"type\":\"scattergl\"},{\"hovertemplate\":\"County=Calhoun County<br>Year=%{x}<br>Violent_Offenses=%{y}<extra></extra>\",\"legendgroup\":\"Calhoun County\",\"line\":{\"color\":\"#FF97FF\",\"dash\":\"solid\"},\"marker\":{\"symbol\":\"circle\"},\"mode\":\"lines\",\"name\":\"Calhoun County\",\"showlegend\":true,\"x\":[2015,2016,2017,2018,2019,2020],\"xaxis\":\"x\",\"y\":[106,121,106,79,73,47],\"yaxis\":\"y\",\"type\":\"scattergl\"},{\"hovertemplate\":\"County=Callahan County<br>Year=%{x}<br>Violent_Offenses=%{y}<extra></extra>\",\"legendgroup\":\"Callahan County\",\"line\":{\"color\":\"#FECB52\",\"dash\":\"solid\"},\"marker\":{\"symbol\":\"circle\"},\"mode\":\"lines\",\"name\":\"Callahan County\",\"showlegend\":true,\"x\":[2015,2016,2017,2018,2019,2020],\"xaxis\":\"x\",\"y\":[16,8,21,8,9,19],\"yaxis\":\"y\",\"type\":\"scattergl\"},{\"hovertemplate\":\"County=Cameron County<br>Year=%{x}<br>Violent_Offenses=%{y}<extra></extra>\",\"legendgroup\":\"Cameron County\",\"line\":{\"color\":\"#636efa\",\"dash\":\"solid\"},\"marker\":{\"symbol\":\"circle\"},\"mode\":\"lines\",\"name\":\"Cameron County\",\"showlegend\":true,\"x\":[2015,2016,2017,2018,2019,2020],\"xaxis\":\"x\",\"y\":[1011,1383,1131,1098,1362,1271],\"yaxis\":\"y\",\"type\":\"scattergl\"},{\"hovertemplate\":\"County=Camp County<br>Year=%{x}<br>Violent_Offenses=%{y}<extra></extra>\",\"legendgroup\":\"Camp County\",\"line\":{\"color\":\"#EF553B\",\"dash\":\"solid\"},\"marker\":{\"symbol\":\"circle\"},\"mode\":\"lines\",\"name\":\"Camp County\",\"showlegend\":true,\"x\":[2015,2016,2017,2018,2019,2020],\"xaxis\":\"x\",\"y\":[39,27,19,25,28,44],\"yaxis\":\"y\",\"type\":\"scattergl\"},{\"hovertemplate\":\"County=Carson County<br>Year=%{x}<br>Violent_Offenses=%{y}<extra></extra>\",\"legendgroup\":\"Carson County\",\"line\":{\"color\":\"#00cc96\",\"dash\":\"solid\"},\"marker\":{\"symbol\":\"circle\"},\"mode\":\"lines\",\"name\":\"Carson County\",\"showlegend\":true,\"x\":[2015,2016,2017,2018,2019,2020],\"xaxis\":\"x\",\"y\":[25,29,19,22,26,14],\"yaxis\":\"y\",\"type\":\"scattergl\"},{\"hovertemplate\":\"County=Cass County<br>Year=%{x}<br>Violent_Offenses=%{y}<extra></extra>\",\"legendgroup\":\"Cass County\",\"line\":{\"color\":\"#ab63fa\",\"dash\":\"solid\"},\"marker\":{\"symbol\":\"circle\"},\"mode\":\"lines\",\"name\":\"Cass County\",\"showlegend\":true,\"x\":[2015,2016,2017,2018,2019,2020],\"xaxis\":\"x\",\"y\":[87,105,63,86,90,44],\"yaxis\":\"y\",\"type\":\"scattergl\"},{\"hovertemplate\":\"County=Castro County<br>Year=%{x}<br>Violent_Offenses=%{y}<extra></extra>\",\"legendgroup\":\"Castro County\",\"line\":{\"color\":\"#FFA15A\",\"dash\":\"solid\"},\"marker\":{\"symbol\":\"circle\"},\"mode\":\"lines\",\"name\":\"Castro County\",\"showlegend\":true,\"x\":[2015,2016,2017,2018,2019,2020],\"xaxis\":\"x\",\"y\":[4,6,5,15,29,4],\"yaxis\":\"y\",\"type\":\"scattergl\"},{\"hovertemplate\":\"County=Chambers County<br>Year=%{x}<br>Violent_Offenses=%{y}<extra></extra>\",\"legendgroup\":\"Chambers County\",\"line\":{\"color\":\"#19d3f3\",\"dash\":\"solid\"},\"marker\":{\"symbol\":\"circle\"},\"mode\":\"lines\",\"name\":\"Chambers County\",\"showlegend\":true,\"x\":[2015,2016,2017,2018,2019,2020],\"xaxis\":\"x\",\"y\":[110,131,89,53,81,126],\"yaxis\":\"y\",\"type\":\"scattergl\"},{\"hovertemplate\":\"County=Cherokee County<br>Year=%{x}<br>Violent_Offenses=%{y}<extra></extra>\",\"legendgroup\":\"Cherokee County\",\"line\":{\"color\":\"#FF6692\",\"dash\":\"solid\"},\"marker\":{\"symbol\":\"circle\"},\"mode\":\"lines\",\"name\":\"Cherokee County\",\"showlegend\":true,\"x\":[2015,2016,2017,2018,2019,2020],\"xaxis\":\"x\",\"y\":[177,169,192,167,109,105],\"yaxis\":\"y\",\"type\":\"scattergl\"},{\"hovertemplate\":\"County=Childress County<br>Year=%{x}<br>Violent_Offenses=%{y}<extra></extra>\",\"legendgroup\":\"Childress County\",\"line\":{\"color\":\"#B6E880\",\"dash\":\"solid\"},\"marker\":{\"symbol\":\"circle\"},\"mode\":\"lines\",\"name\":\"Childress County\",\"showlegend\":true,\"x\":[2015,2016,2017,2018,2019,2020],\"xaxis\":\"x\",\"y\":[2,0,3,0,5,9],\"yaxis\":\"y\",\"type\":\"scattergl\"},{\"hovertemplate\":\"County=Clay County<br>Year=%{x}<br>Violent_Offenses=%{y}<extra></extra>\",\"legendgroup\":\"Clay County\",\"line\":{\"color\":\"#FF97FF\",\"dash\":\"solid\"},\"marker\":{\"symbol\":\"circle\"},\"mode\":\"lines\",\"name\":\"Clay County\",\"showlegend\":true,\"x\":[2015,2016,2017,2018,2019,2020],\"xaxis\":\"x\",\"y\":[16,14,14,20,16,12],\"yaxis\":\"y\",\"type\":\"scattergl\"},{\"hovertemplate\":\"County=Cochran County<br>Year=%{x}<br>Violent_Offenses=%{y}<extra></extra>\",\"legendgroup\":\"Cochran County\",\"line\":{\"color\":\"#FECB52\",\"dash\":\"solid\"},\"marker\":{\"symbol\":\"circle\"},\"mode\":\"lines\",\"name\":\"Cochran County\",\"showlegend\":true,\"x\":[2015,2016,2017,2018,2019,2020],\"xaxis\":\"x\",\"y\":[5,7,5,0,3,3],\"yaxis\":\"y\",\"type\":\"scattergl\"},{\"hovertemplate\":\"County=Coke County<br>Year=%{x}<br>Violent_Offenses=%{y}<extra></extra>\",\"legendgroup\":\"Coke County\",\"line\":{\"color\":\"#636efa\",\"dash\":\"solid\"},\"marker\":{\"symbol\":\"circle\"},\"mode\":\"lines\",\"name\":\"Coke County\",\"showlegend\":true,\"x\":[2015,2016,2017,2018,2019,2020],\"xaxis\":\"x\",\"y\":[1,1,1,1,2,3],\"yaxis\":\"y\",\"type\":\"scattergl\"},{\"hovertemplate\":\"County=Coleman County<br>Year=%{x}<br>Violent_Offenses=%{y}<extra></extra>\",\"legendgroup\":\"Coleman County\",\"line\":{\"color\":\"#EF553B\",\"dash\":\"solid\"},\"marker\":{\"symbol\":\"circle\"},\"mode\":\"lines\",\"name\":\"Coleman County\",\"showlegend\":true,\"x\":[2015,2016,2017,2018,2019,2020],\"xaxis\":\"x\",\"y\":[5,12,22,19,27,20],\"yaxis\":\"y\",\"type\":\"scattergl\"},{\"hovertemplate\":\"County=Collin County<br>Year=%{x}<br>Violent_Offenses=%{y}<extra></extra>\",\"legendgroup\":\"Collin County\",\"line\":{\"color\":\"#00cc96\",\"dash\":\"solid\"},\"marker\":{\"symbol\":\"circle\"},\"mode\":\"lines\",\"name\":\"Collin County\",\"showlegend\":true,\"x\":[2015,2016,2017,2018,2019,2020],\"xaxis\":\"x\",\"y\":[937,834,956,1008,936,1057],\"yaxis\":\"y\",\"type\":\"scattergl\"},{\"hovertemplate\":\"County=Collingsworth County<br>Year=%{x}<br>Violent_Offenses=%{y}<extra></extra>\",\"legendgroup\":\"Collingsworth County\",\"line\":{\"color\":\"#ab63fa\",\"dash\":\"solid\"},\"marker\":{\"symbol\":\"circle\"},\"mode\":\"lines\",\"name\":\"Collingsworth County\",\"showlegend\":true,\"x\":[2015,2016,2018,2020],\"xaxis\":\"x\",\"y\":[8,9,0,0],\"yaxis\":\"y\",\"type\":\"scattergl\"},{\"hovertemplate\":\"County=Colorado County<br>Year=%{x}<br>Violent_Offenses=%{y}<extra></extra>\",\"legendgroup\":\"Colorado County\",\"line\":{\"color\":\"#FFA15A\",\"dash\":\"solid\"},\"marker\":{\"symbol\":\"circle\"},\"mode\":\"lines\",\"name\":\"Colorado County\",\"showlegend\":true,\"x\":[2015,2016,2017,2018,2019,2020],\"xaxis\":\"x\",\"y\":[43,45,60,22,37,26],\"yaxis\":\"y\",\"type\":\"scattergl\"},{\"hovertemplate\":\"County=Comal County<br>Year=%{x}<br>Violent_Offenses=%{y}<extra></extra>\",\"legendgroup\":\"Comal County\",\"line\":{\"color\":\"#19d3f3\",\"dash\":\"solid\"},\"marker\":{\"symbol\":\"circle\"},\"mode\":\"lines\",\"name\":\"Comal County\",\"showlegend\":true,\"x\":[2015,2016,2017,2018,2019,2020],\"xaxis\":\"x\",\"y\":[317,332,316,364,327,337],\"yaxis\":\"y\",\"type\":\"scattergl\"},{\"hovertemplate\":\"County=Comanche County<br>Year=%{x}<br>Violent_Offenses=%{y}<extra></extra>\",\"legendgroup\":\"Comanche County\",\"line\":{\"color\":\"#FF6692\",\"dash\":\"solid\"},\"marker\":{\"symbol\":\"circle\"},\"mode\":\"lines\",\"name\":\"Comanche County\",\"showlegend\":true,\"x\":[2015,2016,2017,2018,2019,2020],\"xaxis\":\"x\",\"y\":[33,22,35,24,17,21],\"yaxis\":\"y\",\"type\":\"scattergl\"},{\"hovertemplate\":\"County=Concho County<br>Year=%{x}<br>Violent_Offenses=%{y}<extra></extra>\",\"legendgroup\":\"Concho County\",\"line\":{\"color\":\"#B6E880\",\"dash\":\"solid\"},\"marker\":{\"symbol\":\"circle\"},\"mode\":\"lines\",\"name\":\"Concho County\",\"showlegend\":true,\"x\":[2015,2016,2017,2018,2019,2020],\"xaxis\":\"x\",\"y\":[1,1,7,11,11,1],\"yaxis\":\"y\",\"type\":\"scattergl\"},{\"hovertemplate\":\"County=Cooke County<br>Year=%{x}<br>Violent_Offenses=%{y}<extra></extra>\",\"legendgroup\":\"Cooke County\",\"line\":{\"color\":\"#FF97FF\",\"dash\":\"solid\"},\"marker\":{\"symbol\":\"circle\"},\"mode\":\"lines\",\"name\":\"Cooke County\",\"showlegend\":true,\"x\":[2015,2016,2017,2018,2019,2020],\"xaxis\":\"x\",\"y\":[68,122,120,97,112,96],\"yaxis\":\"y\",\"type\":\"scattergl\"},{\"hovertemplate\":\"County=Coryell County<br>Year=%{x}<br>Violent_Offenses=%{y}<extra></extra>\",\"legendgroup\":\"Coryell County\",\"line\":{\"color\":\"#FECB52\",\"dash\":\"solid\"},\"marker\":{\"symbol\":\"circle\"},\"mode\":\"lines\",\"name\":\"Coryell County\",\"showlegend\":true,\"x\":[2015,2016,2017,2018,2019,2020],\"xaxis\":\"x\",\"y\":[133,174,248,165,157,174],\"yaxis\":\"y\",\"type\":\"scattergl\"},{\"hovertemplate\":\"County=Cottle County<br>Year=%{x}<br>Violent_Offenses=%{y}<extra></extra>\",\"legendgroup\":\"Cottle County\",\"line\":{\"color\":\"#636efa\",\"dash\":\"solid\"},\"marker\":{\"symbol\":\"circle\"},\"mode\":\"lines\",\"name\":\"Cottle County\",\"showlegend\":true,\"x\":[2015,2016,2017,2018],\"xaxis\":\"x\",\"y\":[5,1,3,2],\"yaxis\":\"y\",\"type\":\"scattergl\"},{\"hovertemplate\":\"County=Crane County<br>Year=%{x}<br>Violent_Offenses=%{y}<extra></extra>\",\"legendgroup\":\"Crane County\",\"line\":{\"color\":\"#EF553B\",\"dash\":\"solid\"},\"marker\":{\"symbol\":\"circle\"},\"mode\":\"lines\",\"name\":\"Crane County\",\"showlegend\":true,\"x\":[2015,2016,2017,2018,2019,2020],\"xaxis\":\"x\",\"y\":[7,4,3,1,7,5],\"yaxis\":\"y\",\"type\":\"scattergl\"},{\"hovertemplate\":\"County=Crockett County<br>Year=%{x}<br>Violent_Offenses=%{y}<extra></extra>\",\"legendgroup\":\"Crockett County\",\"line\":{\"color\":\"#00cc96\",\"dash\":\"solid\"},\"marker\":{\"symbol\":\"circle\"},\"mode\":\"lines\",\"name\":\"Crockett County\",\"showlegend\":true,\"x\":[2015,2016,2017,2018,2019,2020],\"xaxis\":\"x\",\"y\":[11,3,5,2,1,3],\"yaxis\":\"y\",\"type\":\"scattergl\"},{\"hovertemplate\":\"County=Crosby County<br>Year=%{x}<br>Violent_Offenses=%{y}<extra></extra>\",\"legendgroup\":\"Crosby County\",\"line\":{\"color\":\"#ab63fa\",\"dash\":\"solid\"},\"marker\":{\"symbol\":\"circle\"},\"mode\":\"lines\",\"name\":\"Crosby County\",\"showlegend\":true,\"x\":[2015,2016,2017,2018,2019,2020],\"xaxis\":\"x\",\"y\":[1,3,1,11,4,5],\"yaxis\":\"y\",\"type\":\"scattergl\"},{\"hovertemplate\":\"County=Culberson County<br>Year=%{x}<br>Violent_Offenses=%{y}<extra></extra>\",\"legendgroup\":\"Culberson County\",\"line\":{\"color\":\"#FFA15A\",\"dash\":\"solid\"},\"marker\":{\"symbol\":\"circle\"},\"mode\":\"lines\",\"name\":\"Culberson County\",\"showlegend\":true,\"x\":[2015,2016,2017,2018,2019,2020],\"xaxis\":\"x\",\"y\":[0,0,0,0,0,0],\"yaxis\":\"y\",\"type\":\"scattergl\"},{\"hovertemplate\":\"County=Dallam County<br>Year=%{x}<br>Violent_Offenses=%{y}<extra></extra>\",\"legendgroup\":\"Dallam County\",\"line\":{\"color\":\"#19d3f3\",\"dash\":\"solid\"},\"marker\":{\"symbol\":\"circle\"},\"mode\":\"lines\",\"name\":\"Dallam County\",\"showlegend\":true,\"x\":[2015,2016,2017,2018,2019,2020],\"xaxis\":\"x\",\"y\":[47,70,71,23,33,25],\"yaxis\":\"y\",\"type\":\"scattergl\"},{\"hovertemplate\":\"County=Dallas County<br>Year=%{x}<br>Violent_Offenses=%{y}<extra></extra>\",\"legendgroup\":\"Dallas County\",\"line\":{\"color\":\"#FF6692\",\"dash\":\"solid\"},\"marker\":{\"symbol\":\"circle\"},\"mode\":\"lines\",\"name\":\"Dallas County\",\"showlegend\":true,\"x\":[2015,2016,2017,2018,2019,2020],\"xaxis\":\"x\",\"y\":[7236,8044,8723,8874,9952,11840],\"yaxis\":\"y\",\"type\":\"scattergl\"},{\"hovertemplate\":\"County=Dawson County<br>Year=%{x}<br>Violent_Offenses=%{y}<extra></extra>\",\"legendgroup\":\"Dawson County\",\"line\":{\"color\":\"#B6E880\",\"dash\":\"solid\"},\"marker\":{\"symbol\":\"circle\"},\"mode\":\"lines\",\"name\":\"Dawson County\",\"showlegend\":true,\"x\":[2015,2016,2017,2018,2019,2020],\"xaxis\":\"x\",\"y\":[43,59,19,43,64,59],\"yaxis\":\"y\",\"type\":\"scattergl\"},{\"hovertemplate\":\"County=DeWitt County<br>Year=%{x}<br>Violent_Offenses=%{y}<extra></extra>\",\"legendgroup\":\"DeWitt County\",\"line\":{\"color\":\"#FF97FF\",\"dash\":\"solid\"},\"marker\":{\"symbol\":\"circle\"},\"mode\":\"lines\",\"name\":\"DeWitt County\",\"showlegend\":true,\"x\":[2015,2016,2017,2018,2019,2020],\"xaxis\":\"x\",\"y\":[89,102,132,95,72,67],\"yaxis\":\"y\",\"type\":\"scattergl\"},{\"hovertemplate\":\"County=Deaf Smith County<br>Year=%{x}<br>Violent_Offenses=%{y}<extra></extra>\",\"legendgroup\":\"Deaf Smith County\",\"line\":{\"color\":\"#FECB52\",\"dash\":\"solid\"},\"marker\":{\"symbol\":\"circle\"},\"mode\":\"lines\",\"name\":\"Deaf Smith County\",\"showlegend\":true,\"x\":[2015,2016,2017,2018,2019,2020],\"xaxis\":\"x\",\"y\":[43,53,59,88,84,109],\"yaxis\":\"y\",\"type\":\"scattergl\"},{\"hovertemplate\":\"County=Delta County<br>Year=%{x}<br>Violent_Offenses=%{y}<extra></extra>\",\"legendgroup\":\"Delta County\",\"line\":{\"color\":\"#636efa\",\"dash\":\"solid\"},\"marker\":{\"symbol\":\"circle\"},\"mode\":\"lines\",\"name\":\"Delta County\",\"showlegend\":true,\"x\":[2015,2016,2017,2018,2019,2020],\"xaxis\":\"x\",\"y\":[4,0,2,3,1,2],\"yaxis\":\"y\",\"type\":\"scattergl\"},{\"hovertemplate\":\"County=Denton County<br>Year=%{x}<br>Violent_Offenses=%{y}<extra></extra>\",\"legendgroup\":\"Denton County\",\"line\":{\"color\":\"#EF553B\",\"dash\":\"solid\"},\"marker\":{\"symbol\":\"circle\"},\"mode\":\"lines\",\"name\":\"Denton County\",\"showlegend\":true,\"x\":[2015,2016,2017,2018,2019,2020],\"xaxis\":\"x\",\"y\":[753,769,895,985,900,1015],\"yaxis\":\"y\",\"type\":\"scattergl\"},{\"hovertemplate\":\"County=Dickens County<br>Year=%{x}<br>Violent_Offenses=%{y}<extra></extra>\",\"legendgroup\":\"Dickens County\",\"line\":{\"color\":\"#00cc96\",\"dash\":\"solid\"},\"marker\":{\"symbol\":\"circle\"},\"mode\":\"lines\",\"name\":\"Dickens County\",\"showlegend\":true,\"x\":[2015,2016,2017,2018,2019,2020],\"xaxis\":\"x\",\"y\":[3,11,7,1,1,0],\"yaxis\":\"y\",\"type\":\"scattergl\"},{\"hovertemplate\":\"County=Dimmit County<br>Year=%{x}<br>Violent_Offenses=%{y}<extra></extra>\",\"legendgroup\":\"Dimmit County\",\"line\":{\"color\":\"#ab63fa\",\"dash\":\"solid\"},\"marker\":{\"symbol\":\"circle\"},\"mode\":\"lines\",\"name\":\"Dimmit County\",\"showlegend\":true,\"x\":[2015,2016,2017,2018,2019,2020],\"xaxis\":\"x\",\"y\":[9,3,16,9,11,9],\"yaxis\":\"y\",\"type\":\"scattergl\"},{\"hovertemplate\":\"County=Donley County<br>Year=%{x}<br>Violent_Offenses=%{y}<extra></extra>\",\"legendgroup\":\"Donley County\",\"line\":{\"color\":\"#FFA15A\",\"dash\":\"solid\"},\"marker\":{\"symbol\":\"circle\"},\"mode\":\"lines\",\"name\":\"Donley County\",\"showlegend\":true,\"x\":[2015,2016,2017,2018,2019,2020],\"xaxis\":\"x\",\"y\":[6,2,2,3,4,4],\"yaxis\":\"y\",\"type\":\"scattergl\"},{\"hovertemplate\":\"County=Duval County<br>Year=%{x}<br>Violent_Offenses=%{y}<extra></extra>\",\"legendgroup\":\"Duval County\",\"line\":{\"color\":\"#19d3f3\",\"dash\":\"solid\"},\"marker\":{\"symbol\":\"circle\"},\"mode\":\"lines\",\"name\":\"Duval County\",\"showlegend\":true,\"x\":[2015,2016,2017,2018,2019,2020],\"xaxis\":\"x\",\"y\":[64,65,16,35,23,31],\"yaxis\":\"y\",\"type\":\"scattergl\"},{\"hovertemplate\":\"County=Eastland County<br>Year=%{x}<br>Violent_Offenses=%{y}<extra></extra>\",\"legendgroup\":\"Eastland County\",\"line\":{\"color\":\"#FF6692\",\"dash\":\"solid\"},\"marker\":{\"symbol\":\"circle\"},\"mode\":\"lines\",\"name\":\"Eastland County\",\"showlegend\":true,\"x\":[2015,2016,2017,2018,2019,2020],\"xaxis\":\"x\",\"y\":[56,39,45,44,36,34],\"yaxis\":\"y\",\"type\":\"scattergl\"},{\"hovertemplate\":\"County=Ector County<br>Year=%{x}<br>Violent_Offenses=%{y}<extra></extra>\",\"legendgroup\":\"Ector County\",\"line\":{\"color\":\"#B6E880\",\"dash\":\"solid\"},\"marker\":{\"symbol\":\"circle\"},\"mode\":\"lines\",\"name\":\"Ector County\",\"showlegend\":true,\"x\":[2015,2016,2017,2018,2019,2020],\"xaxis\":\"x\",\"y\":[1516,1013,971,1106,1325,1038],\"yaxis\":\"y\",\"type\":\"scattergl\"},{\"hovertemplate\":\"County=Edwards County<br>Year=%{x}<br>Violent_Offenses=%{y}<extra></extra>\",\"legendgroup\":\"Edwards County\",\"line\":{\"color\":\"#FF97FF\",\"dash\":\"solid\"},\"marker\":{\"symbol\":\"circle\"},\"mode\":\"lines\",\"name\":\"Edwards County\",\"showlegend\":true,\"x\":[2015,2016,2017,2018,2019,2020],\"xaxis\":\"x\",\"y\":[2,4,0,3,2,0],\"yaxis\":\"y\",\"type\":\"scattergl\"},{\"hovertemplate\":\"County=El Paso County<br>Year=%{x}<br>Violent_Offenses=%{y}<extra></extra>\",\"legendgroup\":\"El Paso County\",\"line\":{\"color\":\"#FECB52\",\"dash\":\"solid\"},\"marker\":{\"symbol\":\"circle\"},\"mode\":\"lines\",\"name\":\"El Paso County\",\"showlegend\":true,\"x\":[2015,2016,2017,2018,2019,2020],\"xaxis\":\"x\",\"y\":[2521,2535,2584,2514,2483,2340],\"yaxis\":\"y\",\"type\":\"scattergl\"},{\"hovertemplate\":\"County=Ellis County<br>Year=%{x}<br>Violent_Offenses=%{y}<extra></extra>\",\"legendgroup\":\"Ellis County\",\"line\":{\"color\":\"#636efa\",\"dash\":\"solid\"},\"marker\":{\"symbol\":\"circle\"},\"mode\":\"lines\",\"name\":\"Ellis County\",\"showlegend\":true,\"x\":[2015,2016,2017,2018,2019,2020],\"xaxis\":\"x\",\"y\":[154,212,319,242,173,229],\"yaxis\":\"y\",\"type\":\"scattergl\"},{\"hovertemplate\":\"County=Erath County<br>Year=%{x}<br>Violent_Offenses=%{y}<extra></extra>\",\"legendgroup\":\"Erath County\",\"line\":{\"color\":\"#EF553B\",\"dash\":\"solid\"},\"marker\":{\"symbol\":\"circle\"},\"mode\":\"lines\",\"name\":\"Erath County\",\"showlegend\":true,\"x\":[2015,2016,2017,2018,2019,2020],\"xaxis\":\"x\",\"y\":[57,60,90,72,93,73],\"yaxis\":\"y\",\"type\":\"scattergl\"},{\"hovertemplate\":\"County=Falls County<br>Year=%{x}<br>Violent_Offenses=%{y}<extra></extra>\",\"legendgroup\":\"Falls County\",\"line\":{\"color\":\"#00cc96\",\"dash\":\"solid\"},\"marker\":{\"symbol\":\"circle\"},\"mode\":\"lines\",\"name\":\"Falls County\",\"showlegend\":true,\"x\":[2015,2016,2017,2018,2019,2020],\"xaxis\":\"x\",\"y\":[27,18,0,20,28,40],\"yaxis\":\"y\",\"type\":\"scattergl\"},{\"hovertemplate\":\"County=Fannin County<br>Year=%{x}<br>Violent_Offenses=%{y}<extra></extra>\",\"legendgroup\":\"Fannin County\",\"line\":{\"color\":\"#ab63fa\",\"dash\":\"solid\"},\"marker\":{\"symbol\":\"circle\"},\"mode\":\"lines\",\"name\":\"Fannin County\",\"showlegend\":true,\"x\":[2015,2016,2017,2018,2019,2020],\"xaxis\":\"x\",\"y\":[35,37,74,49,62,65],\"yaxis\":\"y\",\"type\":\"scattergl\"},{\"hovertemplate\":\"County=Fayette County<br>Year=%{x}<br>Violent_Offenses=%{y}<extra></extra>\",\"legendgroup\":\"Fayette County\",\"line\":{\"color\":\"#FFA15A\",\"dash\":\"solid\"},\"marker\":{\"symbol\":\"circle\"},\"mode\":\"lines\",\"name\":\"Fayette County\",\"showlegend\":true,\"x\":[2015,2016,2017,2018,2019,2020],\"xaxis\":\"x\",\"y\":[55,56,67,55,54,52],\"yaxis\":\"y\",\"type\":\"scattergl\"},{\"hovertemplate\":\"County=Fisher County<br>Year=%{x}<br>Violent_Offenses=%{y}<extra></extra>\",\"legendgroup\":\"Fisher County\",\"line\":{\"color\":\"#19d3f3\",\"dash\":\"solid\"},\"marker\":{\"symbol\":\"circle\"},\"mode\":\"lines\",\"name\":\"Fisher County\",\"showlegend\":true,\"x\":[2015,2016,2017,2019,2020],\"xaxis\":\"x\",\"y\":[19,13,1,0,11],\"yaxis\":\"y\",\"type\":\"scattergl\"},{\"hovertemplate\":\"County=Floyd County<br>Year=%{x}<br>Violent_Offenses=%{y}<extra></extra>\",\"legendgroup\":\"Floyd County\",\"line\":{\"color\":\"#FF6692\",\"dash\":\"solid\"},\"marker\":{\"symbol\":\"circle\"},\"mode\":\"lines\",\"name\":\"Floyd County\",\"showlegend\":true,\"x\":[2015,2016,2017,2018,2019,2020],\"xaxis\":\"x\",\"y\":[12,27,36,37,28,12],\"yaxis\":\"y\",\"type\":\"scattergl\"},{\"hovertemplate\":\"County=Foard County<br>Year=%{x}<br>Violent_Offenses=%{y}<extra></extra>\",\"legendgroup\":\"Foard County\",\"line\":{\"color\":\"#B6E880\",\"dash\":\"solid\"},\"marker\":{\"symbol\":\"circle\"},\"mode\":\"lines\",\"name\":\"Foard County\",\"showlegend\":true,\"x\":[2015,2016,2017,2018,2019,2020],\"xaxis\":\"x\",\"y\":[0,0,0,0,0,0],\"yaxis\":\"y\",\"type\":\"scattergl\"},{\"hovertemplate\":\"County=Fort Bend County<br>Year=%{x}<br>Violent_Offenses=%{y}<extra></extra>\",\"legendgroup\":\"Fort Bend County\",\"line\":{\"color\":\"#FF97FF\",\"dash\":\"solid\"},\"marker\":{\"symbol\":\"circle\"},\"mode\":\"lines\",\"name\":\"Fort Bend County\",\"showlegend\":true,\"x\":[2015,2016,2017,2018,2019,2020],\"xaxis\":\"x\",\"y\":[1034,935,1073,1152,1246,1287],\"yaxis\":\"y\",\"type\":\"scattergl\"},{\"hovertemplate\":\"County=Franklin County<br>Year=%{x}<br>Violent_Offenses=%{y}<extra></extra>\",\"legendgroup\":\"Franklin County\",\"line\":{\"color\":\"#FECB52\",\"dash\":\"solid\"},\"marker\":{\"symbol\":\"circle\"},\"mode\":\"lines\",\"name\":\"Franklin County\",\"showlegend\":true,\"x\":[2015,2016,2017,2018,2019,2020],\"xaxis\":\"x\",\"y\":[12,27,25,16,6,18],\"yaxis\":\"y\",\"type\":\"scattergl\"},{\"hovertemplate\":\"County=Freestone County<br>Year=%{x}<br>Violent_Offenses=%{y}<extra></extra>\",\"legendgroup\":\"Freestone County\",\"line\":{\"color\":\"#636efa\",\"dash\":\"solid\"},\"marker\":{\"symbol\":\"circle\"},\"mode\":\"lines\",\"name\":\"Freestone County\",\"showlegend\":true,\"x\":[2015,2016,2017,2018,2019,2020],\"xaxis\":\"x\",\"y\":[22,26,25,23,46,39],\"yaxis\":\"y\",\"type\":\"scattergl\"},{\"hovertemplate\":\"County=Frio County<br>Year=%{x}<br>Violent_Offenses=%{y}<extra></extra>\",\"legendgroup\":\"Frio County\",\"line\":{\"color\":\"#EF553B\",\"dash\":\"solid\"},\"marker\":{\"symbol\":\"circle\"},\"mode\":\"lines\",\"name\":\"Frio County\",\"showlegend\":true,\"x\":[2015,2016,2017,2018,2019,2020],\"xaxis\":\"x\",\"y\":[28,27,32,50,24,33],\"yaxis\":\"y\",\"type\":\"scattergl\"},{\"hovertemplate\":\"County=Gaines County<br>Year=%{x}<br>Violent_Offenses=%{y}<extra></extra>\",\"legendgroup\":\"Gaines County\",\"line\":{\"color\":\"#00cc96\",\"dash\":\"solid\"},\"marker\":{\"symbol\":\"circle\"},\"mode\":\"lines\",\"name\":\"Gaines County\",\"showlegend\":true,\"x\":[2015,2016,2017,2018,2019,2020],\"xaxis\":\"x\",\"y\":[14,19,51,60,36,30],\"yaxis\":\"y\",\"type\":\"scattergl\"},{\"hovertemplate\":\"County=Galveston County<br>Year=%{x}<br>Violent_Offenses=%{y}<extra></extra>\",\"legendgroup\":\"Galveston County\",\"line\":{\"color\":\"#ab63fa\",\"dash\":\"solid\"},\"marker\":{\"symbol\":\"circle\"},\"mode\":\"lines\",\"name\":\"Galveston County\",\"showlegend\":true,\"x\":[2015,2016,2017,2018,2019,2020],\"xaxis\":\"x\",\"y\":[610,764,732,768,715,927],\"yaxis\":\"y\",\"type\":\"scattergl\"},{\"hovertemplate\":\"County=Garza County<br>Year=%{x}<br>Violent_Offenses=%{y}<extra></extra>\",\"legendgroup\":\"Garza County\",\"line\":{\"color\":\"#FFA15A\",\"dash\":\"solid\"},\"marker\":{\"symbol\":\"circle\"},\"mode\":\"lines\",\"name\":\"Garza County\",\"showlegend\":true,\"x\":[2015,2016,2017,2018,2019,2020],\"xaxis\":\"x\",\"y\":[4,9,13,7,15,22],\"yaxis\":\"y\",\"type\":\"scattergl\"},{\"hovertemplate\":\"County=Gillespie County<br>Year=%{x}<br>Violent_Offenses=%{y}<extra></extra>\",\"legendgroup\":\"Gillespie County\",\"line\":{\"color\":\"#19d3f3\",\"dash\":\"solid\"},\"marker\":{\"symbol\":\"circle\"},\"mode\":\"lines\",\"name\":\"Gillespie County\",\"showlegend\":true,\"x\":[2015,2016,2017,2018,2019,2020],\"xaxis\":\"x\",\"y\":[8,12,11,17,24,16],\"yaxis\":\"y\",\"type\":\"scattergl\"},{\"hovertemplate\":\"County=Glasscock County<br>Year=%{x}<br>Violent_Offenses=%{y}<extra></extra>\",\"legendgroup\":\"Glasscock County\",\"line\":{\"color\":\"#FF6692\",\"dash\":\"solid\"},\"marker\":{\"symbol\":\"circle\"},\"mode\":\"lines\",\"name\":\"Glasscock County\",\"showlegend\":true,\"x\":[2015,2016,2017,2018,2019,2020],\"xaxis\":\"x\",\"y\":[0,0,4,0,1,3],\"yaxis\":\"y\",\"type\":\"scattergl\"},{\"hovertemplate\":\"County=Goliad County<br>Year=%{x}<br>Violent_Offenses=%{y}<extra></extra>\",\"legendgroup\":\"Goliad County\",\"line\":{\"color\":\"#B6E880\",\"dash\":\"solid\"},\"marker\":{\"symbol\":\"circle\"},\"mode\":\"lines\",\"name\":\"Goliad County\",\"showlegend\":true,\"x\":[2015,2016,2017,2018,2019,2020],\"xaxis\":\"x\",\"y\":[18,14,16,13,20,21],\"yaxis\":\"y\",\"type\":\"scattergl\"},{\"hovertemplate\":\"County=Gonzales County<br>Year=%{x}<br>Violent_Offenses=%{y}<extra></extra>\",\"legendgroup\":\"Gonzales County\",\"line\":{\"color\":\"#FF97FF\",\"dash\":\"solid\"},\"marker\":{\"symbol\":\"circle\"},\"mode\":\"lines\",\"name\":\"Gonzales County\",\"showlegend\":true,\"x\":[2015,2016,2017,2018,2019,2020],\"xaxis\":\"x\",\"y\":[114,109,81,119,111,117],\"yaxis\":\"y\",\"type\":\"scattergl\"},{\"hovertemplate\":\"County=Gray County<br>Year=%{x}<br>Violent_Offenses=%{y}<extra></extra>\",\"legendgroup\":\"Gray County\",\"line\":{\"color\":\"#FECB52\",\"dash\":\"solid\"},\"marker\":{\"symbol\":\"circle\"},\"mode\":\"lines\",\"name\":\"Gray County\",\"showlegend\":true,\"x\":[2015,2016,2017,2018,2019,2020],\"xaxis\":\"x\",\"y\":[101,102,120,111,133,82],\"yaxis\":\"y\",\"type\":\"scattergl\"},{\"hovertemplate\":\"County=Grayson County<br>Year=%{x}<br>Violent_Offenses=%{y}<extra></extra>\",\"legendgroup\":\"Grayson County\",\"line\":{\"color\":\"#636efa\",\"dash\":\"solid\"},\"marker\":{\"symbol\":\"circle\"},\"mode\":\"lines\",\"name\":\"Grayson County\",\"showlegend\":true,\"x\":[2015,2016,2017,2018,2019,2020],\"xaxis\":\"x\",\"y\":[341,297,309,257,298,347],\"yaxis\":\"y\",\"type\":\"scattergl\"},{\"hovertemplate\":\"County=Gregg County<br>Year=%{x}<br>Violent_Offenses=%{y}<extra></extra>\",\"legendgroup\":\"Gregg County\",\"line\":{\"color\":\"#EF553B\",\"dash\":\"solid\"},\"marker\":{\"symbol\":\"circle\"},\"mode\":\"lines\",\"name\":\"Gregg County\",\"showlegend\":true,\"x\":[2015,2016,2017,2018,2019,2020],\"xaxis\":\"x\",\"y\":[468,501,449,409,441,380],\"yaxis\":\"y\",\"type\":\"scattergl\"},{\"hovertemplate\":\"County=Grimes County<br>Year=%{x}<br>Violent_Offenses=%{y}<extra></extra>\",\"legendgroup\":\"Grimes County\",\"line\":{\"color\":\"#00cc96\",\"dash\":\"solid\"},\"marker\":{\"symbol\":\"circle\"},\"mode\":\"lines\",\"name\":\"Grimes County\",\"showlegend\":true,\"x\":[2015,2016,2017,2018,2019,2020],\"xaxis\":\"x\",\"y\":[85,70,48,39,33,69],\"yaxis\":\"y\",\"type\":\"scattergl\"},{\"hovertemplate\":\"County=Guadalupe County<br>Year=%{x}<br>Violent_Offenses=%{y}<extra></extra>\",\"legendgroup\":\"Guadalupe County\",\"line\":{\"color\":\"#ab63fa\",\"dash\":\"solid\"},\"marker\":{\"symbol\":\"circle\"},\"mode\":\"lines\",\"name\":\"Guadalupe County\",\"showlegend\":true,\"x\":[2015,2016,2017,2018,2019,2020],\"xaxis\":\"x\",\"y\":[194,245,268,254,237,231],\"yaxis\":\"y\",\"type\":\"scattergl\"},{\"hovertemplate\":\"County=Hale County<br>Year=%{x}<br>Violent_Offenses=%{y}<extra></extra>\",\"legendgroup\":\"Hale County\",\"line\":{\"color\":\"#FFA15A\",\"dash\":\"solid\"},\"marker\":{\"symbol\":\"circle\"},\"mode\":\"lines\",\"name\":\"Hale County\",\"showlegend\":true,\"x\":[2015,2016,2017,2018,2019,2020],\"xaxis\":\"x\",\"y\":[49,74,80,85,60,49],\"yaxis\":\"y\",\"type\":\"scattergl\"},{\"hovertemplate\":\"County=Hall County<br>Year=%{x}<br>Violent_Offenses=%{y}<extra></extra>\",\"legendgroup\":\"Hall County\",\"line\":{\"color\":\"#19d3f3\",\"dash\":\"solid\"},\"marker\":{\"symbol\":\"circle\"},\"mode\":\"lines\",\"name\":\"Hall County\",\"showlegend\":true,\"x\":[2015,2016,2017,2018,2019,2020],\"xaxis\":\"x\",\"y\":[7,9,20,8,3,0],\"yaxis\":\"y\",\"type\":\"scattergl\"},{\"hovertemplate\":\"County=Hamilton County<br>Year=%{x}<br>Violent_Offenses=%{y}<extra></extra>\",\"legendgroup\":\"Hamilton County\",\"line\":{\"color\":\"#FF6692\",\"dash\":\"solid\"},\"marker\":{\"symbol\":\"circle\"},\"mode\":\"lines\",\"name\":\"Hamilton County\",\"showlegend\":true,\"x\":[2015,2016,2017,2018,2019,2020],\"xaxis\":\"x\",\"y\":[8,18,20,6,14,6],\"yaxis\":\"y\",\"type\":\"scattergl\"},{\"hovertemplate\":\"County=Hansford County<br>Year=%{x}<br>Violent_Offenses=%{y}<extra></extra>\",\"legendgroup\":\"Hansford County\",\"line\":{\"color\":\"#B6E880\",\"dash\":\"solid\"},\"marker\":{\"symbol\":\"circle\"},\"mode\":\"lines\",\"name\":\"Hansford County\",\"showlegend\":true,\"x\":[2015,2016,2017,2018,2019,2020],\"xaxis\":\"x\",\"y\":[3,8,2,9,5,10],\"yaxis\":\"y\",\"type\":\"scattergl\"},{\"hovertemplate\":\"County=Hardeman County<br>Year=%{x}<br>Violent_Offenses=%{y}<extra></extra>\",\"legendgroup\":\"Hardeman County\",\"line\":{\"color\":\"#FF97FF\",\"dash\":\"solid\"},\"marker\":{\"symbol\":\"circle\"},\"mode\":\"lines\",\"name\":\"Hardeman County\",\"showlegend\":true,\"x\":[2015,2016,2017,2018,2019,2020],\"xaxis\":\"x\",\"y\":[3,2,0,0,5,2],\"yaxis\":\"y\",\"type\":\"scattergl\"},{\"hovertemplate\":\"County=Hardin County<br>Year=%{x}<br>Violent_Offenses=%{y}<extra></extra>\",\"legendgroup\":\"Hardin County\",\"line\":{\"color\":\"#FECB52\",\"dash\":\"solid\"},\"marker\":{\"symbol\":\"circle\"},\"mode\":\"lines\",\"name\":\"Hardin County\",\"showlegend\":true,\"x\":[2015,2016,2017,2018,2019,2020],\"xaxis\":\"x\",\"y\":[97,83,81,78,85,67],\"yaxis\":\"y\",\"type\":\"scattergl\"},{\"hovertemplate\":\"County=Harris County<br>Year=%{x}<br>Violent_Offenses=%{y}<extra></extra>\",\"legendgroup\":\"Harris County\",\"line\":{\"color\":\"#636efa\",\"dash\":\"solid\"},\"marker\":{\"symbol\":\"circle\"},\"mode\":\"lines\",\"name\":\"Harris County\",\"showlegend\":true,\"x\":[2015,2016,2017,2018,2019,2020],\"xaxis\":\"x\",\"y\":[18684,21126,23222,23709,23021,29232],\"yaxis\":\"y\",\"type\":\"scattergl\"},{\"hovertemplate\":\"County=Harrison County<br>Year=%{x}<br>Violent_Offenses=%{y}<extra></extra>\",\"legendgroup\":\"Harrison County\",\"line\":{\"color\":\"#EF553B\",\"dash\":\"solid\"},\"marker\":{\"symbol\":\"circle\"},\"mode\":\"lines\",\"name\":\"Harrison County\",\"showlegend\":true,\"x\":[2015,2016,2017,2018,2019,2020],\"xaxis\":\"x\",\"y\":[176,164,190,180,162,193],\"yaxis\":\"y\",\"type\":\"scattergl\"},{\"hovertemplate\":\"County=Hartley County<br>Year=%{x}<br>Violent_Offenses=%{y}<extra></extra>\",\"legendgroup\":\"Hartley County\",\"line\":{\"color\":\"#00cc96\",\"dash\":\"solid\"},\"marker\":{\"symbol\":\"circle\"},\"mode\":\"lines\",\"name\":\"Hartley County\",\"showlegend\":true,\"x\":[2015,2016,2017,2018,2019,2020],\"xaxis\":\"x\",\"y\":[1,1,1,1,0,0],\"yaxis\":\"y\",\"type\":\"scattergl\"},{\"hovertemplate\":\"County=Haskell County<br>Year=%{x}<br>Violent_Offenses=%{y}<extra></extra>\",\"legendgroup\":\"Haskell County\",\"line\":{\"color\":\"#ab63fa\",\"dash\":\"solid\"},\"marker\":{\"symbol\":\"circle\"},\"mode\":\"lines\",\"name\":\"Haskell County\",\"showlegend\":true,\"x\":[2015,2016,2017,2018,2019,2020],\"xaxis\":\"x\",\"y\":[5,7,7,1,9,5],\"yaxis\":\"y\",\"type\":\"scattergl\"},{\"hovertemplate\":\"County=Hays County<br>Year=%{x}<br>Violent_Offenses=%{y}<extra></extra>\",\"legendgroup\":\"Hays County\",\"line\":{\"color\":\"#FFA15A\",\"dash\":\"solid\"},\"marker\":{\"symbol\":\"circle\"},\"mode\":\"lines\",\"name\":\"Hays County\",\"showlegend\":true,\"x\":[2015,2016,2017,2018,2019,2020],\"xaxis\":\"x\",\"y\":[396,385,384,458,400,494],\"yaxis\":\"y\",\"type\":\"scattergl\"},{\"hovertemplate\":\"County=Hemphill County<br>Year=%{x}<br>Violent_Offenses=%{y}<extra></extra>\",\"legendgroup\":\"Hemphill County\",\"line\":{\"color\":\"#19d3f3\",\"dash\":\"solid\"},\"marker\":{\"symbol\":\"circle\"},\"mode\":\"lines\",\"name\":\"Hemphill County\",\"showlegend\":true,\"x\":[2015,2016,2017,2018,2019,2020],\"xaxis\":\"x\",\"y\":[18,11,0,1,5,7],\"yaxis\":\"y\",\"type\":\"scattergl\"},{\"hovertemplate\":\"County=Henderson County<br>Year=%{x}<br>Violent_Offenses=%{y}<extra></extra>\",\"legendgroup\":\"Henderson County\",\"line\":{\"color\":\"#FF6692\",\"dash\":\"solid\"},\"marker\":{\"symbol\":\"circle\"},\"mode\":\"lines\",\"name\":\"Henderson County\",\"showlegend\":true,\"x\":[2015,2016,2017,2018,2019,2020],\"xaxis\":\"x\",\"y\":[196,276,253,215,197,174],\"yaxis\":\"y\",\"type\":\"scattergl\"},{\"hovertemplate\":\"County=Hidalgo County<br>Year=%{x}<br>Violent_Offenses=%{y}<extra></extra>\",\"legendgroup\":\"Hidalgo County\",\"line\":{\"color\":\"#B6E880\",\"dash\":\"solid\"},\"marker\":{\"symbol\":\"circle\"},\"mode\":\"lines\",\"name\":\"Hidalgo County\",\"showlegend\":true,\"x\":[2015,2016,2017,2018,2019,2020],\"xaxis\":\"x\",\"y\":[2078,2080,2146,1989,2005,2060],\"yaxis\":\"y\",\"type\":\"scattergl\"},{\"hovertemplate\":\"County=Hill County<br>Year=%{x}<br>Violent_Offenses=%{y}<extra></extra>\",\"legendgroup\":\"Hill County\",\"line\":{\"color\":\"#FF97FF\",\"dash\":\"solid\"},\"marker\":{\"symbol\":\"circle\"},\"mode\":\"lines\",\"name\":\"Hill County\",\"showlegend\":true,\"x\":[2015,2016,2017,2018,2019,2020],\"xaxis\":\"x\",\"y\":[69,47,50,71,53,47],\"yaxis\":\"y\",\"type\":\"scattergl\"},{\"hovertemplate\":\"County=Hockley County<br>Year=%{x}<br>Violent_Offenses=%{y}<extra></extra>\",\"legendgroup\":\"Hockley County\",\"line\":{\"color\":\"#FECB52\",\"dash\":\"solid\"},\"marker\":{\"symbol\":\"circle\"},\"mode\":\"lines\",\"name\":\"Hockley County\",\"showlegend\":true,\"x\":[2015,2016,2017,2018,2019,2020],\"xaxis\":\"x\",\"y\":[126,106,129,128,151,135],\"yaxis\":\"y\",\"type\":\"scattergl\"},{\"hovertemplate\":\"County=Hood County<br>Year=%{x}<br>Violent_Offenses=%{y}<extra></extra>\",\"legendgroup\":\"Hood County\",\"line\":{\"color\":\"#636efa\",\"dash\":\"solid\"},\"marker\":{\"symbol\":\"circle\"},\"mode\":\"lines\",\"name\":\"Hood County\",\"showlegend\":true,\"x\":[2015,2016,2017,2018,2019,2020],\"xaxis\":\"x\",\"y\":[87,91,115,88,74,88],\"yaxis\":\"y\",\"type\":\"scattergl\"},{\"hovertemplate\":\"County=Hopkins County<br>Year=%{x}<br>Violent_Offenses=%{y}<extra></extra>\",\"legendgroup\":\"Hopkins County\",\"line\":{\"color\":\"#EF553B\",\"dash\":\"solid\"},\"marker\":{\"symbol\":\"circle\"},\"mode\":\"lines\",\"name\":\"Hopkins County\",\"showlegend\":true,\"x\":[2015,2016,2017,2018,2019,2020],\"xaxis\":\"x\",\"y\":[61,46,60,44,53,62],\"yaxis\":\"y\",\"type\":\"scattergl\"},{\"hovertemplate\":\"County=Houston County<br>Year=%{x}<br>Violent_Offenses=%{y}<extra></extra>\",\"legendgroup\":\"Houston County\",\"line\":{\"color\":\"#00cc96\",\"dash\":\"solid\"},\"marker\":{\"symbol\":\"circle\"},\"mode\":\"lines\",\"name\":\"Houston County\",\"showlegend\":true,\"x\":[2015,2016,2017,2018,2019,2020],\"xaxis\":\"x\",\"y\":[60,54,47,43,38,30],\"yaxis\":\"y\",\"type\":\"scattergl\"},{\"hovertemplate\":\"County=Howard County<br>Year=%{x}<br>Violent_Offenses=%{y}<extra></extra>\",\"legendgroup\":\"Howard County\",\"line\":{\"color\":\"#ab63fa\",\"dash\":\"solid\"},\"marker\":{\"symbol\":\"circle\"},\"mode\":\"lines\",\"name\":\"Howard County\",\"showlegend\":true,\"x\":[2015,2016,2017,2018,2019,2020],\"xaxis\":\"x\",\"y\":[234,182,174,192,185,160],\"yaxis\":\"y\",\"type\":\"scattergl\"},{\"hovertemplate\":\"County=Hudspeth County<br>Year=%{x}<br>Violent_Offenses=%{y}<extra></extra>\",\"legendgroup\":\"Hudspeth County\",\"line\":{\"color\":\"#FFA15A\",\"dash\":\"solid\"},\"marker\":{\"symbol\":\"circle\"},\"mode\":\"lines\",\"name\":\"Hudspeth County\",\"showlegend\":true,\"x\":[2015,2016,2017,2018,2019,2020],\"xaxis\":\"x\",\"y\":[1,4,1,3,8,2],\"yaxis\":\"y\",\"type\":\"scattergl\"},{\"hovertemplate\":\"County=Hunt County<br>Year=%{x}<br>Violent_Offenses=%{y}<extra></extra>\",\"legendgroup\":\"Hunt County\",\"line\":{\"color\":\"#19d3f3\",\"dash\":\"solid\"},\"marker\":{\"symbol\":\"circle\"},\"mode\":\"lines\",\"name\":\"Hunt County\",\"showlegend\":true,\"x\":[2015,2016,2017,2018,2019,2020],\"xaxis\":\"x\",\"y\":[202,240,275,358,446,407],\"yaxis\":\"y\",\"type\":\"scattergl\"},{\"hovertemplate\":\"County=Hutchinson County<br>Year=%{x}<br>Violent_Offenses=%{y}<extra></extra>\",\"legendgroup\":\"Hutchinson County\",\"line\":{\"color\":\"#FF6692\",\"dash\":\"solid\"},\"marker\":{\"symbol\":\"circle\"},\"mode\":\"lines\",\"name\":\"Hutchinson County\",\"showlegend\":true,\"x\":[2015,2016,2017,2018,2019,2020],\"xaxis\":\"x\",\"y\":[99,57,63,47,50,46],\"yaxis\":\"y\",\"type\":\"scattergl\"},{\"hovertemplate\":\"County=Irion County<br>Year=%{x}<br>Violent_Offenses=%{y}<extra></extra>\",\"legendgroup\":\"Irion County\",\"line\":{\"color\":\"#B6E880\",\"dash\":\"solid\"},\"marker\":{\"symbol\":\"circle\"},\"mode\":\"lines\",\"name\":\"Irion County\",\"showlegend\":true,\"x\":[2015,2016,2017,2018,2019,2020],\"xaxis\":\"x\",\"y\":[1,1,1,4,6,1],\"yaxis\":\"y\",\"type\":\"scattergl\"},{\"hovertemplate\":\"County=Jack County<br>Year=%{x}<br>Violent_Offenses=%{y}<extra></extra>\",\"legendgroup\":\"Jack County\",\"line\":{\"color\":\"#FF97FF\",\"dash\":\"solid\"},\"marker\":{\"symbol\":\"circle\"},\"mode\":\"lines\",\"name\":\"Jack County\",\"showlegend\":true,\"x\":[2015,2016,2017,2018,2019,2020],\"xaxis\":\"x\",\"y\":[21,23,14,12,13,16],\"yaxis\":\"y\",\"type\":\"scattergl\"},{\"hovertemplate\":\"County=Jackson County<br>Year=%{x}<br>Violent_Offenses=%{y}<extra></extra>\",\"legendgroup\":\"Jackson County\",\"line\":{\"color\":\"#FECB52\",\"dash\":\"solid\"},\"marker\":{\"symbol\":\"circle\"},\"mode\":\"lines\",\"name\":\"Jackson County\",\"showlegend\":true,\"x\":[2015,2016,2017,2018,2019,2020],\"xaxis\":\"x\",\"y\":[26,32,14,19,14,27],\"yaxis\":\"y\",\"type\":\"scattergl\"},{\"hovertemplate\":\"County=Jasper County<br>Year=%{x}<br>Violent_Offenses=%{y}<extra></extra>\",\"legendgroup\":\"Jasper County\",\"line\":{\"color\":\"#636efa\",\"dash\":\"solid\"},\"marker\":{\"symbol\":\"circle\"},\"mode\":\"lines\",\"name\":\"Jasper County\",\"showlegend\":true,\"x\":[2015,2016,2017,2018,2019,2020],\"xaxis\":\"x\",\"y\":[124,116,126,90,105,103],\"yaxis\":\"y\",\"type\":\"scattergl\"},{\"hovertemplate\":\"County=Jeff Davis County<br>Year=%{x}<br>Violent_Offenses=%{y}<extra></extra>\",\"legendgroup\":\"Jeff Davis County\",\"line\":{\"color\":\"#EF553B\",\"dash\":\"solid\"},\"marker\":{\"symbol\":\"circle\"},\"mode\":\"lines\",\"name\":\"Jeff Davis County\",\"showlegend\":true,\"x\":[2015,2016,2017,2018,2019,2020],\"xaxis\":\"x\",\"y\":[4,2,4,5,4,2],\"yaxis\":\"y\",\"type\":\"scattergl\"},{\"hovertemplate\":\"County=Jefferson County<br>Year=%{x}<br>Violent_Offenses=%{y}<extra></extra>\",\"legendgroup\":\"Jefferson County\",\"line\":{\"color\":\"#00cc96\",\"dash\":\"solid\"},\"marker\":{\"symbol\":\"circle\"},\"mode\":\"lines\",\"name\":\"Jefferson County\",\"showlegend\":true,\"x\":[2015,2016,2017,2018,2019,2020],\"xaxis\":\"x\",\"y\":[1237,1422,1432,1409,1377,1700],\"yaxis\":\"y\",\"type\":\"scattergl\"},{\"hovertemplate\":\"County=Jim Hogg County<br>Year=%{x}<br>Violent_Offenses=%{y}<extra></extra>\",\"legendgroup\":\"Jim Hogg County\",\"line\":{\"color\":\"#ab63fa\",\"dash\":\"solid\"},\"marker\":{\"symbol\":\"circle\"},\"mode\":\"lines\",\"name\":\"Jim Hogg County\",\"showlegend\":true,\"x\":[2015,2016,2017,2018,2019,2020],\"xaxis\":\"x\",\"y\":[2,2,7,4,5,12],\"yaxis\":\"y\",\"type\":\"scattergl\"},{\"hovertemplate\":\"County=Jim Wells County<br>Year=%{x}<br>Violent_Offenses=%{y}<extra></extra>\",\"legendgroup\":\"Jim Wells County\",\"line\":{\"color\":\"#FFA15A\",\"dash\":\"solid\"},\"marker\":{\"symbol\":\"circle\"},\"mode\":\"lines\",\"name\":\"Jim Wells County\",\"showlegend\":true,\"x\":[2015,2016,2017,2018,2019,2020],\"xaxis\":\"x\",\"y\":[201,205,205,206,199,203],\"yaxis\":\"y\",\"type\":\"scattergl\"},{\"hovertemplate\":\"County=Johnson County<br>Year=%{x}<br>Violent_Offenses=%{y}<extra></extra>\",\"legendgroup\":\"Johnson County\",\"line\":{\"color\":\"#19d3f3\",\"dash\":\"solid\"},\"marker\":{\"symbol\":\"circle\"},\"mode\":\"lines\",\"name\":\"Johnson County\",\"showlegend\":true,\"x\":[2015,2016,2017,2018,2019,2020],\"xaxis\":\"x\",\"y\":[351,330,399,438,428,450],\"yaxis\":\"y\",\"type\":\"scattergl\"},{\"hovertemplate\":\"County=Jones County<br>Year=%{x}<br>Violent_Offenses=%{y}<extra></extra>\",\"legendgroup\":\"Jones County\",\"line\":{\"color\":\"#FF6692\",\"dash\":\"solid\"},\"marker\":{\"symbol\":\"circle\"},\"mode\":\"lines\",\"name\":\"Jones County\",\"showlegend\":true,\"x\":[2015,2016,2017,2018,2019,2020],\"xaxis\":\"x\",\"y\":[21,18,41,17,11,16],\"yaxis\":\"y\",\"type\":\"scattergl\"},{\"hovertemplate\":\"County=Karnes County<br>Year=%{x}<br>Violent_Offenses=%{y}<extra></extra>\",\"legendgroup\":\"Karnes County\",\"line\":{\"color\":\"#B6E880\",\"dash\":\"solid\"},\"marker\":{\"symbol\":\"circle\"},\"mode\":\"lines\",\"name\":\"Karnes County\",\"showlegend\":true,\"x\":[2015,2016,2017,2018,2019,2020],\"xaxis\":\"x\",\"y\":[25,39,38,30,53,22],\"yaxis\":\"y\",\"type\":\"scattergl\"},{\"hovertemplate\":\"County=Kaufman County<br>Year=%{x}<br>Violent_Offenses=%{y}<extra></extra>\",\"legendgroup\":\"Kaufman County\",\"line\":{\"color\":\"#FF97FF\",\"dash\":\"solid\"},\"marker\":{\"symbol\":\"circle\"},\"mode\":\"lines\",\"name\":\"Kaufman County\",\"showlegend\":true,\"x\":[2015,2016,2017,2018,2019,2020],\"xaxis\":\"x\",\"y\":[200,244,239,228,201,209],\"yaxis\":\"y\",\"type\":\"scattergl\"},{\"hovertemplate\":\"County=Kendall County<br>Year=%{x}<br>Violent_Offenses=%{y}<extra></extra>\",\"legendgroup\":\"Kendall County\",\"line\":{\"color\":\"#FECB52\",\"dash\":\"solid\"},\"marker\":{\"symbol\":\"circle\"},\"mode\":\"lines\",\"name\":\"Kendall County\",\"showlegend\":true,\"x\":[2015,2016,2017,2018,2019,2020],\"xaxis\":\"x\",\"y\":[34,30,43,42,39,55],\"yaxis\":\"y\",\"type\":\"scattergl\"},{\"hovertemplate\":\"County=Kenedy County<br>Year=%{x}<br>Violent_Offenses=%{y}<extra></extra>\",\"legendgroup\":\"Kenedy County\",\"line\":{\"color\":\"#636efa\",\"dash\":\"solid\"},\"marker\":{\"symbol\":\"circle\"},\"mode\":\"lines\",\"name\":\"Kenedy County\",\"showlegend\":true,\"x\":[2015,2016,2017,2018,2019,2020],\"xaxis\":\"x\",\"y\":[1,6,3,2,0,2],\"yaxis\":\"y\",\"type\":\"scattergl\"},{\"hovertemplate\":\"County=Kent County<br>Year=%{x}<br>Violent_Offenses=%{y}<extra></extra>\",\"legendgroup\":\"Kent County\",\"line\":{\"color\":\"#EF553B\",\"dash\":\"solid\"},\"marker\":{\"symbol\":\"circle\"},\"mode\":\"lines\",\"name\":\"Kent County\",\"showlegend\":true,\"x\":[2015,2016,2017,2018,2019,2020],\"xaxis\":\"x\",\"y\":[2,3,0,2,4,0],\"yaxis\":\"y\",\"type\":\"scattergl\"},{\"hovertemplate\":\"County=Kerr County<br>Year=%{x}<br>Violent_Offenses=%{y}<extra></extra>\",\"legendgroup\":\"Kerr County\",\"line\":{\"color\":\"#00cc96\",\"dash\":\"solid\"},\"marker\":{\"symbol\":\"circle\"},\"mode\":\"lines\",\"name\":\"Kerr County\",\"showlegend\":true,\"x\":[2015,2016,2017,2018,2019,2020],\"xaxis\":\"x\",\"y\":[118,117,82,94,103,108],\"yaxis\":\"y\",\"type\":\"scattergl\"},{\"hovertemplate\":\"County=Kimble County<br>Year=%{x}<br>Violent_Offenses=%{y}<extra></extra>\",\"legendgroup\":\"Kimble County\",\"line\":{\"color\":\"#ab63fa\",\"dash\":\"solid\"},\"marker\":{\"symbol\":\"circle\"},\"mode\":\"lines\",\"name\":\"Kimble County\",\"showlegend\":true,\"x\":[2015,2016,2017,2018,2019,2020],\"xaxis\":\"x\",\"y\":[3,4,5,5,10,1],\"yaxis\":\"y\",\"type\":\"scattergl\"},{\"hovertemplate\":\"County=King County<br>Year=%{x}<br>Violent_Offenses=%{y}<extra></extra>\",\"legendgroup\":\"King County\",\"line\":{\"color\":\"#FFA15A\",\"dash\":\"solid\"},\"marker\":{\"symbol\":\"circle\"},\"mode\":\"lines\",\"name\":\"King County\",\"showlegend\":true,\"x\":[2015,2016,2017,2018],\"xaxis\":\"x\",\"y\":[0,0,0,0],\"yaxis\":\"y\",\"type\":\"scattergl\"},{\"hovertemplate\":\"County=Kinney County<br>Year=%{x}<br>Violent_Offenses=%{y}<extra></extra>\",\"legendgroup\":\"Kinney County\",\"line\":{\"color\":\"#19d3f3\",\"dash\":\"solid\"},\"marker\":{\"symbol\":\"circle\"},\"mode\":\"lines\",\"name\":\"Kinney County\",\"showlegend\":true,\"x\":[2015,2016,2017,2018,2019,2020],\"xaxis\":\"x\",\"y\":[0,1,4,0,0,0],\"yaxis\":\"y\",\"type\":\"scattergl\"},{\"hovertemplate\":\"County=Kleberg County<br>Year=%{x}<br>Violent_Offenses=%{y}<extra></extra>\",\"legendgroup\":\"Kleberg County\",\"line\":{\"color\":\"#FF6692\",\"dash\":\"solid\"},\"marker\":{\"symbol\":\"circle\"},\"mode\":\"lines\",\"name\":\"Kleberg County\",\"showlegend\":true,\"x\":[2015,2016,2017,2018,2019,2020],\"xaxis\":\"x\",\"y\":[121,85,139,105,135,126],\"yaxis\":\"y\",\"type\":\"scattergl\"},{\"hovertemplate\":\"County=Knox County<br>Year=%{x}<br>Violent_Offenses=%{y}<extra></extra>\",\"legendgroup\":\"Knox County\",\"line\":{\"color\":\"#B6E880\",\"dash\":\"solid\"},\"marker\":{\"symbol\":\"circle\"},\"mode\":\"lines\",\"name\":\"Knox County\",\"showlegend\":true,\"x\":[2015,2016,2017,2018,2019,2020],\"xaxis\":\"x\",\"y\":[10,13,8,1,3,5],\"yaxis\":\"y\",\"type\":\"scattergl\"},{\"hovertemplate\":\"County=La Salle County<br>Year=%{x}<br>Violent_Offenses=%{y}<extra></extra>\",\"legendgroup\":\"La Salle County\",\"line\":{\"color\":\"#FF97FF\",\"dash\":\"solid\"},\"marker\":{\"symbol\":\"circle\"},\"mode\":\"lines\",\"name\":\"La Salle County\",\"showlegend\":true,\"x\":[2015,2016,2017,2018,2019,2020],\"xaxis\":\"x\",\"y\":[6,7,9,3,5,21],\"yaxis\":\"y\",\"type\":\"scattergl\"},{\"hovertemplate\":\"County=Lamar County<br>Year=%{x}<br>Violent_Offenses=%{y}<extra></extra>\",\"legendgroup\":\"Lamar County\",\"line\":{\"color\":\"#FECB52\",\"dash\":\"solid\"},\"marker\":{\"symbol\":\"circle\"},\"mode\":\"lines\",\"name\":\"Lamar County\",\"showlegend\":true,\"x\":[2015,2016,2017,2018,2019,2020],\"xaxis\":\"x\",\"y\":[133,170,221,231,270,266],\"yaxis\":\"y\",\"type\":\"scattergl\"},{\"hovertemplate\":\"County=Lamb County<br>Year=%{x}<br>Violent_Offenses=%{y}<extra></extra>\",\"legendgroup\":\"Lamb County\",\"line\":{\"color\":\"#636efa\",\"dash\":\"solid\"},\"marker\":{\"symbol\":\"circle\"},\"mode\":\"lines\",\"name\":\"Lamb County\",\"showlegend\":true,\"x\":[2015,2016,2017,2018,2019,2020],\"xaxis\":\"x\",\"y\":[49,53,48,45,39,39],\"yaxis\":\"y\",\"type\":\"scattergl\"},{\"hovertemplate\":\"County=Lampasas County<br>Year=%{x}<br>Violent_Offenses=%{y}<extra></extra>\",\"legendgroup\":\"Lampasas County\",\"line\":{\"color\":\"#EF553B\",\"dash\":\"solid\"},\"marker\":{\"symbol\":\"circle\"},\"mode\":\"lines\",\"name\":\"Lampasas County\",\"showlegend\":true,\"x\":[2015,2016,2017,2018,2019,2020],\"xaxis\":\"x\",\"y\":[24,25,30,32,25,35],\"yaxis\":\"y\",\"type\":\"scattergl\"},{\"hovertemplate\":\"County=Lavaca County<br>Year=%{x}<br>Violent_Offenses=%{y}<extra></extra>\",\"legendgroup\":\"Lavaca County\",\"line\":{\"color\":\"#00cc96\",\"dash\":\"solid\"},\"marker\":{\"symbol\":\"circle\"},\"mode\":\"lines\",\"name\":\"Lavaca County\",\"showlegend\":true,\"x\":[2015,2016,2017,2018,2019,2020],\"xaxis\":\"x\",\"y\":[49,29,39,45,40,29],\"yaxis\":\"y\",\"type\":\"scattergl\"},{\"hovertemplate\":\"County=Lee County<br>Year=%{x}<br>Violent_Offenses=%{y}<extra></extra>\",\"legendgroup\":\"Lee County\",\"line\":{\"color\":\"#ab63fa\",\"dash\":\"solid\"},\"marker\":{\"symbol\":\"circle\"},\"mode\":\"lines\",\"name\":\"Lee County\",\"showlegend\":true,\"x\":[2015,2016,2017,2018,2019,2020],\"xaxis\":\"x\",\"y\":[32,32,38,34,48,37],\"yaxis\":\"y\",\"type\":\"scattergl\"},{\"hovertemplate\":\"County=Leon County<br>Year=%{x}<br>Violent_Offenses=%{y}<extra></extra>\",\"legendgroup\":\"Leon County\",\"line\":{\"color\":\"#FFA15A\",\"dash\":\"solid\"},\"marker\":{\"symbol\":\"circle\"},\"mode\":\"lines\",\"name\":\"Leon County\",\"showlegend\":true,\"x\":[2015,2016,2017,2018,2019,2020],\"xaxis\":\"x\",\"y\":[15,28,18,20,11,6],\"yaxis\":\"y\",\"type\":\"scattergl\"},{\"hovertemplate\":\"County=Liberty County<br>Year=%{x}<br>Violent_Offenses=%{y}<extra></extra>\",\"legendgroup\":\"Liberty County\",\"line\":{\"color\":\"#19d3f3\",\"dash\":\"solid\"},\"marker\":{\"symbol\":\"circle\"},\"mode\":\"lines\",\"name\":\"Liberty County\",\"showlegend\":true,\"x\":[2015,2016,2017,2018,2019,2020],\"xaxis\":\"x\",\"y\":[294,282,113,247,215,315],\"yaxis\":\"y\",\"type\":\"scattergl\"},{\"hovertemplate\":\"County=Limestone County<br>Year=%{x}<br>Violent_Offenses=%{y}<extra></extra>\",\"legendgroup\":\"Limestone County\",\"line\":{\"color\":\"#FF6692\",\"dash\":\"solid\"},\"marker\":{\"symbol\":\"circle\"},\"mode\":\"lines\",\"name\":\"Limestone County\",\"showlegend\":true,\"x\":[2015,2016,2017,2018,2019,2020],\"xaxis\":\"x\",\"y\":[69,75,67,65,35,47],\"yaxis\":\"y\",\"type\":\"scattergl\"},{\"hovertemplate\":\"County=Lipscomb County<br>Year=%{x}<br>Violent_Offenses=%{y}<extra></extra>\",\"legendgroup\":\"Lipscomb County\",\"line\":{\"color\":\"#B6E880\",\"dash\":\"solid\"},\"marker\":{\"symbol\":\"circle\"},\"mode\":\"lines\",\"name\":\"Lipscomb County\",\"showlegend\":true,\"x\":[2015,2016,2017,2018,2019,2020],\"xaxis\":\"x\",\"y\":[10,4,6,4,0,1],\"yaxis\":\"y\",\"type\":\"scattergl\"},{\"hovertemplate\":\"County=Live Oak County<br>Year=%{x}<br>Violent_Offenses=%{y}<extra></extra>\",\"legendgroup\":\"Live Oak County\",\"line\":{\"color\":\"#FF97FF\",\"dash\":\"solid\"},\"marker\":{\"symbol\":\"circle\"},\"mode\":\"lines\",\"name\":\"Live Oak County\",\"showlegend\":true,\"x\":[2015,2016,2017,2018,2019,2020],\"xaxis\":\"x\",\"y\":[28,33,30,10,4,3],\"yaxis\":\"y\",\"type\":\"scattergl\"},{\"hovertemplate\":\"County=Llano County<br>Year=%{x}<br>Violent_Offenses=%{y}<extra></extra>\",\"legendgroup\":\"Llano County\",\"line\":{\"color\":\"#FECB52\",\"dash\":\"solid\"},\"marker\":{\"symbol\":\"circle\"},\"mode\":\"lines\",\"name\":\"Llano County\",\"showlegend\":true,\"x\":[2015,2016,2017,2018,2019,2020],\"xaxis\":\"x\",\"y\":[14,12,8,9,30,31],\"yaxis\":\"y\",\"type\":\"scattergl\"},{\"hovertemplate\":\"County=Loving County<br>Year=%{x}<br>Violent_Offenses=%{y}<extra></extra>\",\"legendgroup\":\"Loving County\",\"line\":{\"color\":\"#636efa\",\"dash\":\"solid\"},\"marker\":{\"symbol\":\"circle\"},\"mode\":\"lines\",\"name\":\"Loving County\",\"showlegend\":true,\"x\":[2015,2016,2017,2018,2019,2020],\"xaxis\":\"x\",\"y\":[0,0,0,0,1,2],\"yaxis\":\"y\",\"type\":\"scattergl\"},{\"hovertemplate\":\"County=Lubbock County<br>Year=%{x}<br>Violent_Offenses=%{y}<extra></extra>\",\"legendgroup\":\"Lubbock County\",\"line\":{\"color\":\"#EF553B\",\"dash\":\"solid\"},\"marker\":{\"symbol\":\"circle\"},\"mode\":\"lines\",\"name\":\"Lubbock County\",\"showlegend\":true,\"x\":[2015,2016,2017,2018,2019,2020],\"xaxis\":\"x\",\"y\":[2086,2394,2354,2208,2214,2536],\"yaxis\":\"y\",\"type\":\"scattergl\"},{\"hovertemplate\":\"County=Lynn County<br>Year=%{x}<br>Violent_Offenses=%{y}<extra></extra>\",\"legendgroup\":\"Lynn County\",\"line\":{\"color\":\"#00cc96\",\"dash\":\"solid\"},\"marker\":{\"symbol\":\"circle\"},\"mode\":\"lines\",\"name\":\"Lynn County\",\"showlegend\":true,\"x\":[2015,2016,2017,2018,2019,2020],\"xaxis\":\"x\",\"y\":[6,8,3,1,1,6],\"yaxis\":\"y\",\"type\":\"scattergl\"},{\"hovertemplate\":\"County=Madison County<br>Year=%{x}<br>Violent_Offenses=%{y}<extra></extra>\",\"legendgroup\":\"Madison County\",\"line\":{\"color\":\"#ab63fa\",\"dash\":\"solid\"},\"marker\":{\"symbol\":\"circle\"},\"mode\":\"lines\",\"name\":\"Madison County\",\"showlegend\":true,\"x\":[2015,2016,2017,2018,2019,2020],\"xaxis\":\"x\",\"y\":[34,38,51,21,23,21],\"yaxis\":\"y\",\"type\":\"scattergl\"},{\"hovertemplate\":\"County=Marion County<br>Year=%{x}<br>Violent_Offenses=%{y}<extra></extra>\",\"legendgroup\":\"Marion County\",\"line\":{\"color\":\"#FFA15A\",\"dash\":\"solid\"},\"marker\":{\"symbol\":\"circle\"},\"mode\":\"lines\",\"name\":\"Marion County\",\"showlegend\":true,\"x\":[2015,2016,2017,2018,2019,2020],\"xaxis\":\"x\",\"y\":[53,58,75,38,17,21],\"yaxis\":\"y\",\"type\":\"scattergl\"},{\"hovertemplate\":\"County=Martin County<br>Year=%{x}<br>Violent_Offenses=%{y}<extra></extra>\",\"legendgroup\":\"Martin County\",\"line\":{\"color\":\"#19d3f3\",\"dash\":\"solid\"},\"marker\":{\"symbol\":\"circle\"},\"mode\":\"lines\",\"name\":\"Martin County\",\"showlegend\":true,\"x\":[2015,2016,2017,2018,2019,2020],\"xaxis\":\"x\",\"y\":[12,8,4,11,8,12],\"yaxis\":\"y\",\"type\":\"scattergl\"},{\"hovertemplate\":\"County=Mason County<br>Year=%{x}<br>Violent_Offenses=%{y}<extra></extra>\",\"legendgroup\":\"Mason County\",\"line\":{\"color\":\"#FF6692\",\"dash\":\"solid\"},\"marker\":{\"symbol\":\"circle\"},\"mode\":\"lines\",\"name\":\"Mason County\",\"showlegend\":true,\"x\":[2015,2016,2017,2018,2019,2020],\"xaxis\":\"x\",\"y\":[4,2,6,1,8,3],\"yaxis\":\"y\",\"type\":\"scattergl\"},{\"hovertemplate\":\"County=Matagorda County<br>Year=%{x}<br>Violent_Offenses=%{y}<extra></extra>\",\"legendgroup\":\"Matagorda County\",\"line\":{\"color\":\"#B6E880\",\"dash\":\"solid\"},\"marker\":{\"symbol\":\"circle\"},\"mode\":\"lines\",\"name\":\"Matagorda County\",\"showlegend\":true,\"x\":[2015,2016,2017,2018,2019,2020],\"xaxis\":\"x\",\"y\":[85,117,143,136,156,169],\"yaxis\":\"y\",\"type\":\"scattergl\"},{\"hovertemplate\":\"County=Maverick County<br>Year=%{x}<br>Violent_Offenses=%{y}<extra></extra>\",\"legendgroup\":\"Maverick County\",\"line\":{\"color\":\"#FF97FF\",\"dash\":\"solid\"},\"marker\":{\"symbol\":\"circle\"},\"mode\":\"lines\",\"name\":\"Maverick County\",\"showlegend\":true,\"x\":[2015,2016,2017,2018,2019,2020],\"xaxis\":\"x\",\"y\":[100,95,74,60,44,83],\"yaxis\":\"y\",\"type\":\"scattergl\"},{\"hovertemplate\":\"County=McCulloch County<br>Year=%{x}<br>Violent_Offenses=%{y}<extra></extra>\",\"legendgroup\":\"McCulloch County\",\"line\":{\"color\":\"#FECB52\",\"dash\":\"solid\"},\"marker\":{\"symbol\":\"circle\"},\"mode\":\"lines\",\"name\":\"McCulloch County\",\"showlegend\":true,\"x\":[2015,2016,2017,2018,2019,2020],\"xaxis\":\"x\",\"y\":[6,4,7,4,12,18],\"yaxis\":\"y\",\"type\":\"scattergl\"},{\"hovertemplate\":\"County=McLennan County<br>Year=%{x}<br>Violent_Offenses=%{y}<extra></extra>\",\"legendgroup\":\"McLennan County\",\"line\":{\"color\":\"#636efa\",\"dash\":\"solid\"},\"marker\":{\"symbol\":\"circle\"},\"mode\":\"lines\",\"name\":\"McLennan County\",\"showlegend\":true,\"x\":[2015,2016,2017,2018,2019,2020],\"xaxis\":\"x\",\"y\":[870,895,950,927,924,1031],\"yaxis\":\"y\",\"type\":\"scattergl\"},{\"hovertemplate\":\"County=McMullen County<br>Year=%{x}<br>Violent_Offenses=%{y}<extra></extra>\",\"legendgroup\":\"McMullen County\",\"line\":{\"color\":\"#EF553B\",\"dash\":\"solid\"},\"marker\":{\"symbol\":\"circle\"},\"mode\":\"lines\",\"name\":\"McMullen County\",\"showlegend\":true,\"x\":[2015,2016,2017,2018,2019,2020],\"xaxis\":\"x\",\"y\":[1,1,0,1,0,0],\"yaxis\":\"y\",\"type\":\"scattergl\"},{\"hovertemplate\":\"County=Medina County<br>Year=%{x}<br>Violent_Offenses=%{y}<extra></extra>\",\"legendgroup\":\"Medina County\",\"line\":{\"color\":\"#00cc96\",\"dash\":\"solid\"},\"marker\":{\"symbol\":\"circle\"},\"mode\":\"lines\",\"name\":\"Medina County\",\"showlegend\":true,\"x\":[2015,2016,2017,2018,2019,2020],\"xaxis\":\"x\",\"y\":[93,128,99,111,147,107],\"yaxis\":\"y\",\"type\":\"scattergl\"},{\"hovertemplate\":\"County=Menard County<br>Year=%{x}<br>Violent_Offenses=%{y}<extra></extra>\",\"legendgroup\":\"Menard County\",\"line\":{\"color\":\"#ab63fa\",\"dash\":\"solid\"},\"marker\":{\"symbol\":\"circle\"},\"mode\":\"lines\",\"name\":\"Menard County\",\"showlegend\":true,\"x\":[2015,2016,2017,2018,2019,2020],\"xaxis\":\"x\",\"y\":[0,0,1,1,2,1],\"yaxis\":\"y\",\"type\":\"scattergl\"},{\"hovertemplate\":\"County=Midland County<br>Year=%{x}<br>Violent_Offenses=%{y}<extra></extra>\",\"legendgroup\":\"Midland County\",\"line\":{\"color\":\"#FFA15A\",\"dash\":\"solid\"},\"marker\":{\"symbol\":\"circle\"},\"mode\":\"lines\",\"name\":\"Midland County\",\"showlegend\":true,\"x\":[2015,2016,2017,2018,2019,2020],\"xaxis\":\"x\",\"y\":[429,387,367,453,324,613],\"yaxis\":\"y\",\"type\":\"scattergl\"},{\"hovertemplate\":\"County=Milam County<br>Year=%{x}<br>Violent_Offenses=%{y}<extra></extra>\",\"legendgroup\":\"Milam County\",\"line\":{\"color\":\"#19d3f3\",\"dash\":\"solid\"},\"marker\":{\"symbol\":\"circle\"},\"mode\":\"lines\",\"name\":\"Milam County\",\"showlegend\":true,\"x\":[2015,2016,2017,2018,2019,2020],\"xaxis\":\"x\",\"y\":[45,53,57,53,39,44],\"yaxis\":\"y\",\"type\":\"scattergl\"},{\"hovertemplate\":\"County=Mills County<br>Year=%{x}<br>Violent_Offenses=%{y}<extra></extra>\",\"legendgroup\":\"Mills County\",\"line\":{\"color\":\"#FF6692\",\"dash\":\"solid\"},\"marker\":{\"symbol\":\"circle\"},\"mode\":\"lines\",\"name\":\"Mills County\",\"showlegend\":true,\"x\":[2015,2016,2017,2018,2019,2020],\"xaxis\":\"x\",\"y\":[0,2,2,2,15,10],\"yaxis\":\"y\",\"type\":\"scattergl\"},{\"hovertemplate\":\"County=Mitchell County<br>Year=%{x}<br>Violent_Offenses=%{y}<extra></extra>\",\"legendgroup\":\"Mitchell County\",\"line\":{\"color\":\"#B6E880\",\"dash\":\"solid\"},\"marker\":{\"symbol\":\"circle\"},\"mode\":\"lines\",\"name\":\"Mitchell County\",\"showlegend\":true,\"x\":[2015,2016,2017,2018,2019,2020],\"xaxis\":\"x\",\"y\":[9,8,10,6,12,11],\"yaxis\":\"y\",\"type\":\"scattergl\"},{\"hovertemplate\":\"County=Montague County<br>Year=%{x}<br>Violent_Offenses=%{y}<extra></extra>\",\"legendgroup\":\"Montague County\",\"line\":{\"color\":\"#FF97FF\",\"dash\":\"solid\"},\"marker\":{\"symbol\":\"circle\"},\"mode\":\"lines\",\"name\":\"Montague County\",\"showlegend\":true,\"x\":[2015,2016,2017,2018,2019,2020],\"xaxis\":\"x\",\"y\":[31,26,58,40,61,25],\"yaxis\":\"y\",\"type\":\"scattergl\"},{\"hovertemplate\":\"County=Montgomery County<br>Year=%{x}<br>Violent_Offenses=%{y}<extra></extra>\",\"legendgroup\":\"Montgomery County\",\"line\":{\"color\":\"#FECB52\",\"dash\":\"solid\"},\"marker\":{\"symbol\":\"circle\"},\"mode\":\"lines\",\"name\":\"Montgomery County\",\"showlegend\":true,\"x\":[2015,2016,2017,2018,2019,2020],\"xaxis\":\"x\",\"y\":[976,678,705,969,972,925],\"yaxis\":\"y\",\"type\":\"scattergl\"},{\"hovertemplate\":\"County=Moore County<br>Year=%{x}<br>Violent_Offenses=%{y}<extra></extra>\",\"legendgroup\":\"Moore County\",\"line\":{\"color\":\"#636efa\",\"dash\":\"solid\"},\"marker\":{\"symbol\":\"circle\"},\"mode\":\"lines\",\"name\":\"Moore County\",\"showlegend\":true,\"x\":[2015,2016,2017,2018,2019,2020],\"xaxis\":\"x\",\"y\":[65,38,46,39,47,43],\"yaxis\":\"y\",\"type\":\"scattergl\"},{\"hovertemplate\":\"County=Morris County<br>Year=%{x}<br>Violent_Offenses=%{y}<extra></extra>\",\"legendgroup\":\"Morris County\",\"line\":{\"color\":\"#EF553B\",\"dash\":\"solid\"},\"marker\":{\"symbol\":\"circle\"},\"mode\":\"lines\",\"name\":\"Morris County\",\"showlegend\":true,\"x\":[2015,2016,2017,2018,2019,2020],\"xaxis\":\"x\",\"y\":[41,33,46,50,26,41],\"yaxis\":\"y\",\"type\":\"scattergl\"},{\"hovertemplate\":\"County=Motley County<br>Year=%{x}<br>Violent_Offenses=%{y}<extra></extra>\",\"legendgroup\":\"Motley County\",\"line\":{\"color\":\"#00cc96\",\"dash\":\"solid\"},\"marker\":{\"symbol\":\"circle\"},\"mode\":\"lines\",\"name\":\"Motley County\",\"showlegend\":true,\"x\":[2015,2016,2017,2018,2019,2020],\"xaxis\":\"x\",\"y\":[1,0,3,1,1,0],\"yaxis\":\"y\",\"type\":\"scattergl\"},{\"hovertemplate\":\"County=Nacogdoches County<br>Year=%{x}<br>Violent_Offenses=%{y}<extra></extra>\",\"legendgroup\":\"Nacogdoches County\",\"line\":{\"color\":\"#ab63fa\",\"dash\":\"solid\"},\"marker\":{\"symbol\":\"circle\"},\"mode\":\"lines\",\"name\":\"Nacogdoches County\",\"showlegend\":true,\"x\":[2015,2016,2017,2018,2019,2020],\"xaxis\":\"x\",\"y\":[142,164,134,139,149,172],\"yaxis\":\"y\",\"type\":\"scattergl\"},{\"hovertemplate\":\"County=Navarro County<br>Year=%{x}<br>Violent_Offenses=%{y}<extra></extra>\",\"legendgroup\":\"Navarro County\",\"line\":{\"color\":\"#FFA15A\",\"dash\":\"solid\"},\"marker\":{\"symbol\":\"circle\"},\"mode\":\"lines\",\"name\":\"Navarro County\",\"showlegend\":true,\"x\":[2015,2016,2017,2018,2019,2020],\"xaxis\":\"x\",\"y\":[137,142,136,177,220,177],\"yaxis\":\"y\",\"type\":\"scattergl\"},{\"hovertemplate\":\"County=Newton County<br>Year=%{x}<br>Violent_Offenses=%{y}<extra></extra>\",\"legendgroup\":\"Newton County\",\"line\":{\"color\":\"#19d3f3\",\"dash\":\"solid\"},\"marker\":{\"symbol\":\"circle\"},\"mode\":\"lines\",\"name\":\"Newton County\",\"showlegend\":true,\"x\":[2015,2016,2017,2018,2019,2020],\"xaxis\":\"x\",\"y\":[20,2,12,23,27,22],\"yaxis\":\"y\",\"type\":\"scattergl\"},{\"hovertemplate\":\"County=Nolan County<br>Year=%{x}<br>Violent_Offenses=%{y}<extra></extra>\",\"legendgroup\":\"Nolan County\",\"line\":{\"color\":\"#FF6692\",\"dash\":\"solid\"},\"marker\":{\"symbol\":\"circle\"},\"mode\":\"lines\",\"name\":\"Nolan County\",\"showlegend\":true,\"x\":[2015,2016,2017,2018,2019,2020],\"xaxis\":\"x\",\"y\":[63,42,51,54,31,25],\"yaxis\":\"y\",\"type\":\"scattergl\"},{\"hovertemplate\":\"County=Nueces County<br>Year=%{x}<br>Violent_Offenses=%{y}<extra></extra>\",\"legendgroup\":\"Nueces County\",\"line\":{\"color\":\"#B6E880\",\"dash\":\"solid\"},\"marker\":{\"symbol\":\"circle\"},\"mode\":\"lines\",\"name\":\"Nueces County\",\"showlegend\":true,\"x\":[2015,2016,2017,2018,2019,2020],\"xaxis\":\"x\",\"y\":[2011,2185,2057,2274,2463,2484],\"yaxis\":\"y\",\"type\":\"scattergl\"},{\"hovertemplate\":\"County=Ochiltree County<br>Year=%{x}<br>Violent_Offenses=%{y}<extra></extra>\",\"legendgroup\":\"Ochiltree County\",\"line\":{\"color\":\"#FF97FF\",\"dash\":\"solid\"},\"marker\":{\"symbol\":\"circle\"},\"mode\":\"lines\",\"name\":\"Ochiltree County\",\"showlegend\":true,\"x\":[2015,2016,2017,2018,2019,2020],\"xaxis\":\"x\",\"y\":[24,48,41,33,11,23],\"yaxis\":\"y\",\"type\":\"scattergl\"},{\"hovertemplate\":\"County=Oldham County<br>Year=%{x}<br>Violent_Offenses=%{y}<extra></extra>\",\"legendgroup\":\"Oldham County\",\"line\":{\"color\":\"#FECB52\",\"dash\":\"solid\"},\"marker\":{\"symbol\":\"circle\"},\"mode\":\"lines\",\"name\":\"Oldham County\",\"showlegend\":true,\"x\":[2015,2016,2017,2018,2019,2020],\"xaxis\":\"x\",\"y\":[1,3,2,2,0,2],\"yaxis\":\"y\",\"type\":\"scattergl\"},{\"hovertemplate\":\"County=Orange County<br>Year=%{x}<br>Violent_Offenses=%{y}<extra></extra>\",\"legendgroup\":\"Orange County\",\"line\":{\"color\":\"#636efa\",\"dash\":\"solid\"},\"marker\":{\"symbol\":\"circle\"},\"mode\":\"lines\",\"name\":\"Orange County\",\"showlegend\":true,\"x\":[2015,2016,2017,2018,2019,2020],\"xaxis\":\"x\",\"y\":[274,230,231,201,192,198],\"yaxis\":\"y\",\"type\":\"scattergl\"},{\"hovertemplate\":\"County=Palo Pinto County<br>Year=%{x}<br>Violent_Offenses=%{y}<extra></extra>\",\"legendgroup\":\"Palo Pinto County\",\"line\":{\"color\":\"#EF553B\",\"dash\":\"solid\"},\"marker\":{\"symbol\":\"circle\"},\"mode\":\"lines\",\"name\":\"Palo Pinto County\",\"showlegend\":true,\"x\":[2015,2016,2017,2018,2019,2020],\"xaxis\":\"x\",\"y\":[35,54,11,44,35,56],\"yaxis\":\"y\",\"type\":\"scattergl\"},{\"hovertemplate\":\"County=Panola County<br>Year=%{x}<br>Violent_Offenses=%{y}<extra></extra>\",\"legendgroup\":\"Panola County\",\"line\":{\"color\":\"#00cc96\",\"dash\":\"solid\"},\"marker\":{\"symbol\":\"circle\"},\"mode\":\"lines\",\"name\":\"Panola County\",\"showlegend\":true,\"x\":[2015,2016,2017,2018,2019,2020],\"xaxis\":\"x\",\"y\":[67,45,66,67,68,66],\"yaxis\":\"y\",\"type\":\"scattergl\"},{\"hovertemplate\":\"County=Parker County<br>Year=%{x}<br>Violent_Offenses=%{y}<extra></extra>\",\"legendgroup\":\"Parker County\",\"line\":{\"color\":\"#ab63fa\",\"dash\":\"solid\"},\"marker\":{\"symbol\":\"circle\"},\"mode\":\"lines\",\"name\":\"Parker County\",\"showlegend\":true,\"x\":[2015,2016,2017,2018,2019,2020],\"xaxis\":\"x\",\"y\":[166,159,151,223,168,217],\"yaxis\":\"y\",\"type\":\"scattergl\"},{\"hovertemplate\":\"County=Parmer County<br>Year=%{x}<br>Violent_Offenses=%{y}<extra></extra>\",\"legendgroup\":\"Parmer County\",\"line\":{\"color\":\"#FFA15A\",\"dash\":\"solid\"},\"marker\":{\"symbol\":\"circle\"},\"mode\":\"lines\",\"name\":\"Parmer County\",\"showlegend\":true,\"x\":[2015,2016,2017,2018,2019,2020],\"xaxis\":\"x\",\"y\":[6,8,20,13,8,13],\"yaxis\":\"y\",\"type\":\"scattergl\"},{\"hovertemplate\":\"County=Pecos County<br>Year=%{x}<br>Violent_Offenses=%{y}<extra></extra>\",\"legendgroup\":\"Pecos County\",\"line\":{\"color\":\"#19d3f3\",\"dash\":\"solid\"},\"marker\":{\"symbol\":\"circle\"},\"mode\":\"lines\",\"name\":\"Pecos County\",\"showlegend\":true,\"x\":[2015,2016,2017,2018,2019,2020],\"xaxis\":\"x\",\"y\":[45,52,41,63,27,16],\"yaxis\":\"y\",\"type\":\"scattergl\"},{\"hovertemplate\":\"County=Polk County<br>Year=%{x}<br>Violent_Offenses=%{y}<extra></extra>\",\"legendgroup\":\"Polk County\",\"line\":{\"color\":\"#FF6692\",\"dash\":\"solid\"},\"marker\":{\"symbol\":\"circle\"},\"mode\":\"lines\",\"name\":\"Polk County\",\"showlegend\":true,\"x\":[2015,2016,2017,2018,2019,2020],\"xaxis\":\"x\",\"y\":[129,104,119,107,104,103],\"yaxis\":\"y\",\"type\":\"scattergl\"},{\"hovertemplate\":\"County=Potter County<br>Year=%{x}<br>Violent_Offenses=%{y}<extra></extra>\",\"legendgroup\":\"Potter County\",\"line\":{\"color\":\"#B6E880\",\"dash\":\"solid\"},\"marker\":{\"symbol\":\"circle\"},\"mode\":\"lines\",\"name\":\"Potter County\",\"showlegend\":true,\"x\":[2015,2016,2017,2018,2019,2020],\"xaxis\":\"x\",\"y\":[1092,1215,1334,1360,1242,1462],\"yaxis\":\"y\",\"type\":\"scattergl\"},{\"hovertemplate\":\"County=Presidio County<br>Year=%{x}<br>Violent_Offenses=%{y}<extra></extra>\",\"legendgroup\":\"Presidio County\",\"line\":{\"color\":\"#FF97FF\",\"dash\":\"solid\"},\"marker\":{\"symbol\":\"circle\"},\"mode\":\"lines\",\"name\":\"Presidio County\",\"showlegend\":true,\"x\":[2015,2016,2017,2018,2019,2020],\"xaxis\":\"x\",\"y\":[10,4,3,6,6,12],\"yaxis\":\"y\",\"type\":\"scattergl\"},{\"hovertemplate\":\"County=Rains County<br>Year=%{x}<br>Violent_Offenses=%{y}<extra></extra>\",\"legendgroup\":\"Rains County\",\"line\":{\"color\":\"#FECB52\",\"dash\":\"solid\"},\"marker\":{\"symbol\":\"circle\"},\"mode\":\"lines\",\"name\":\"Rains County\",\"showlegend\":true,\"x\":[2015,2016,2017,2018,2019,2020],\"xaxis\":\"x\",\"y\":[11,14,19,18,10,19],\"yaxis\":\"y\",\"type\":\"scattergl\"},{\"hovertemplate\":\"County=Randall County<br>Year=%{x}<br>Violent_Offenses=%{y}<extra></extra>\",\"legendgroup\":\"Randall County\",\"line\":{\"color\":\"#636efa\",\"dash\":\"solid\"},\"marker\":{\"symbol\":\"circle\"},\"mode\":\"lines\",\"name\":\"Randall County\",\"showlegend\":true,\"x\":[2015,2016,2017,2018,2019,2020],\"xaxis\":\"x\",\"y\":[66,68,93,61,71,64],\"yaxis\":\"y\",\"type\":\"scattergl\"},{\"hovertemplate\":\"County=Reagan County<br>Year=%{x}<br>Violent_Offenses=%{y}<extra></extra>\",\"legendgroup\":\"Reagan County\",\"line\":{\"color\":\"#EF553B\",\"dash\":\"solid\"},\"marker\":{\"symbol\":\"circle\"},\"mode\":\"lines\",\"name\":\"Reagan County\",\"showlegend\":true,\"x\":[2015,2016,2017,2018,2019,2020],\"xaxis\":\"x\",\"y\":[9,4,6,8,7,8],\"yaxis\":\"y\",\"type\":\"scattergl\"},{\"hovertemplate\":\"County=Real County<br>Year=%{x}<br>Violent_Offenses=%{y}<extra></extra>\",\"legendgroup\":\"Real County\",\"line\":{\"color\":\"#00cc96\",\"dash\":\"solid\"},\"marker\":{\"symbol\":\"circle\"},\"mode\":\"lines\",\"name\":\"Real County\",\"showlegend\":true,\"x\":[2015,2016,2017,2018,2019,2020],\"xaxis\":\"x\",\"y\":[5,6,2,6,3,6],\"yaxis\":\"y\",\"type\":\"scattergl\"},{\"hovertemplate\":\"County=Red River County<br>Year=%{x}<br>Violent_Offenses=%{y}<extra></extra>\",\"legendgroup\":\"Red River County\",\"line\":{\"color\":\"#ab63fa\",\"dash\":\"solid\"},\"marker\":{\"symbol\":\"circle\"},\"mode\":\"lines\",\"name\":\"Red River County\",\"showlegend\":true,\"x\":[2015,2016,2017,2018,2019,2020],\"xaxis\":\"x\",\"y\":[37,11,22,23,29,33],\"yaxis\":\"y\",\"type\":\"scattergl\"},{\"hovertemplate\":\"County=Reeves County<br>Year=%{x}<br>Violent_Offenses=%{y}<extra></extra>\",\"legendgroup\":\"Reeves County\",\"line\":{\"color\":\"#FFA15A\",\"dash\":\"solid\"},\"marker\":{\"symbol\":\"circle\"},\"mode\":\"lines\",\"name\":\"Reeves County\",\"showlegend\":true,\"x\":[2015,2016,2017,2018,2019,2020],\"xaxis\":\"x\",\"y\":[72,61,114,122,98,62],\"yaxis\":\"y\",\"type\":\"scattergl\"},{\"hovertemplate\":\"County=Refugio County<br>Year=%{x}<br>Violent_Offenses=%{y}<extra></extra>\",\"legendgroup\":\"Refugio County\",\"line\":{\"color\":\"#19d3f3\",\"dash\":\"solid\"},\"marker\":{\"symbol\":\"circle\"},\"mode\":\"lines\",\"name\":\"Refugio County\",\"showlegend\":true,\"x\":[2015,2016,2017,2018,2019,2020],\"xaxis\":\"x\",\"y\":[5,30,8,11,9,4],\"yaxis\":\"y\",\"type\":\"scattergl\"},{\"hovertemplate\":\"County=Roberts County<br>Year=%{x}<br>Violent_Offenses=%{y}<extra></extra>\",\"legendgroup\":\"Roberts County\",\"line\":{\"color\":\"#FF6692\",\"dash\":\"solid\"},\"marker\":{\"symbol\":\"circle\"},\"mode\":\"lines\",\"name\":\"Roberts County\",\"showlegend\":true,\"x\":[2015,2016,2017,2018,2019,2020],\"xaxis\":\"x\",\"y\":[4,0,1,0,0,0],\"yaxis\":\"y\",\"type\":\"scattergl\"},{\"hovertemplate\":\"County=Robertson County<br>Year=%{x}<br>Violent_Offenses=%{y}<extra></extra>\",\"legendgroup\":\"Robertson County\",\"line\":{\"color\":\"#B6E880\",\"dash\":\"solid\"},\"marker\":{\"symbol\":\"circle\"},\"mode\":\"lines\",\"name\":\"Robertson County\",\"showlegend\":true,\"x\":[2015,2016,2017,2018,2019,2020],\"xaxis\":\"x\",\"y\":[23,32,46,36,27,36],\"yaxis\":\"y\",\"type\":\"scattergl\"},{\"hovertemplate\":\"County=Rockwall County<br>Year=%{x}<br>Violent_Offenses=%{y}<extra></extra>\",\"legendgroup\":\"Rockwall County\",\"line\":{\"color\":\"#FF97FF\",\"dash\":\"solid\"},\"marker\":{\"symbol\":\"circle\"},\"mode\":\"lines\",\"name\":\"Rockwall County\",\"showlegend\":true,\"x\":[2015,2016,2017,2018,2019,2020],\"xaxis\":\"x\",\"y\":[67,70,101,95,97,98],\"yaxis\":\"y\",\"type\":\"scattergl\"},{\"hovertemplate\":\"County=Runnels County<br>Year=%{x}<br>Violent_Offenses=%{y}<extra></extra>\",\"legendgroup\":\"Runnels County\",\"line\":{\"color\":\"#FECB52\",\"dash\":\"solid\"},\"marker\":{\"symbol\":\"circle\"},\"mode\":\"lines\",\"name\":\"Runnels County\",\"showlegend\":true,\"x\":[2015,2016,2017,2018,2019,2020],\"xaxis\":\"x\",\"y\":[23,21,39,26,17,29],\"yaxis\":\"y\",\"type\":\"scattergl\"},{\"hovertemplate\":\"County=Rusk County<br>Year=%{x}<br>Violent_Offenses=%{y}<extra></extra>\",\"legendgroup\":\"Rusk County\",\"line\":{\"color\":\"#636efa\",\"dash\":\"solid\"},\"marker\":{\"symbol\":\"circle\"},\"mode\":\"lines\",\"name\":\"Rusk County\",\"showlegend\":true,\"x\":[2015,2016,2017,2018,2019,2020],\"xaxis\":\"x\",\"y\":[199,221,194,156,109,139],\"yaxis\":\"y\",\"type\":\"scattergl\"},{\"hovertemplate\":\"County=Sabine County<br>Year=%{x}<br>Violent_Offenses=%{y}<extra></extra>\",\"legendgroup\":\"Sabine County\",\"line\":{\"color\":\"#EF553B\",\"dash\":\"solid\"},\"marker\":{\"symbol\":\"circle\"},\"mode\":\"lines\",\"name\":\"Sabine County\",\"showlegend\":true,\"x\":[2015,2016,2017,2018,2019,2020],\"xaxis\":\"x\",\"y\":[31,29,36,37,13,19],\"yaxis\":\"y\",\"type\":\"scattergl\"},{\"hovertemplate\":\"County=San Augustine County<br>Year=%{x}<br>Violent_Offenses=%{y}<extra></extra>\",\"legendgroup\":\"San Augustine County\",\"line\":{\"color\":\"#00cc96\",\"dash\":\"solid\"},\"marker\":{\"symbol\":\"circle\"},\"mode\":\"lines\",\"name\":\"San Augustine County\",\"showlegend\":true,\"x\":[2015,2016,2017,2018,2019,2020],\"xaxis\":\"x\",\"y\":[11,38,31,20,13,13],\"yaxis\":\"y\",\"type\":\"scattergl\"},{\"hovertemplate\":\"County=San Jacinto County<br>Year=%{x}<br>Violent_Offenses=%{y}<extra></extra>\",\"legendgroup\":\"San Jacinto County\",\"line\":{\"color\":\"#ab63fa\",\"dash\":\"solid\"},\"marker\":{\"symbol\":\"circle\"},\"mode\":\"lines\",\"name\":\"San Jacinto County\",\"showlegend\":true,\"x\":[2015,2016,2017,2018,2019,2020],\"xaxis\":\"x\",\"y\":[66,43,53,40,43,37],\"yaxis\":\"y\",\"type\":\"scattergl\"},{\"hovertemplate\":\"County=San Patricio County<br>Year=%{x}<br>Violent_Offenses=%{y}<extra></extra>\",\"legendgroup\":\"San Patricio County\",\"line\":{\"color\":\"#FFA15A\",\"dash\":\"solid\"},\"marker\":{\"symbol\":\"circle\"},\"mode\":\"lines\",\"name\":\"San Patricio County\",\"showlegend\":true,\"x\":[2015,2016,2017,2018,2019,2020],\"xaxis\":\"x\",\"y\":[134,167,187,176,144,159],\"yaxis\":\"y\",\"type\":\"scattergl\"},{\"hovertemplate\":\"County=San Saba County<br>Year=%{x}<br>Violent_Offenses=%{y}<extra></extra>\",\"legendgroup\":\"San Saba County\",\"line\":{\"color\":\"#19d3f3\",\"dash\":\"solid\"},\"marker\":{\"symbol\":\"circle\"},\"mode\":\"lines\",\"name\":\"San Saba County\",\"showlegend\":true,\"x\":[2015,2016,2017,2018,2019,2020],\"xaxis\":\"x\",\"y\":[6,4,6,16,13,22],\"yaxis\":\"y\",\"type\":\"scattergl\"},{\"hovertemplate\":\"County=Schleicher County<br>Year=%{x}<br>Violent_Offenses=%{y}<extra></extra>\",\"legendgroup\":\"Schleicher County\",\"line\":{\"color\":\"#FF6692\",\"dash\":\"solid\"},\"marker\":{\"symbol\":\"circle\"},\"mode\":\"lines\",\"name\":\"Schleicher County\",\"showlegend\":true,\"x\":[2015,2016,2017,2018,2019,2020],\"xaxis\":\"x\",\"y\":[4,0,2,0,4,2],\"yaxis\":\"y\",\"type\":\"scattergl\"},{\"hovertemplate\":\"County=Scurry County<br>Year=%{x}<br>Violent_Offenses=%{y}<extra></extra>\",\"legendgroup\":\"Scurry County\",\"line\":{\"color\":\"#B6E880\",\"dash\":\"solid\"},\"marker\":{\"symbol\":\"circle\"},\"mode\":\"lines\",\"name\":\"Scurry County\",\"showlegend\":true,\"x\":[2015,2016,2017,2018,2019,2020],\"xaxis\":\"x\",\"y\":[58,19,36,39,164,91],\"yaxis\":\"y\",\"type\":\"scattergl\"},{\"hovertemplate\":\"County=Shackelford County<br>Year=%{x}<br>Violent_Offenses=%{y}<extra></extra>\",\"legendgroup\":\"Shackelford County\",\"line\":{\"color\":\"#FF97FF\",\"dash\":\"solid\"},\"marker\":{\"symbol\":\"circle\"},\"mode\":\"lines\",\"name\":\"Shackelford County\",\"showlegend\":true,\"x\":[2015,2016,2017,2018,2019,2020],\"xaxis\":\"x\",\"y\":[0,2,3,0,5,4],\"yaxis\":\"y\",\"type\":\"scattergl\"},{\"hovertemplate\":\"County=Shelby County<br>Year=%{x}<br>Violent_Offenses=%{y}<extra></extra>\",\"legendgroup\":\"Shelby County\",\"line\":{\"color\":\"#FECB52\",\"dash\":\"solid\"},\"marker\":{\"symbol\":\"circle\"},\"mode\":\"lines\",\"name\":\"Shelby County\",\"showlegend\":true,\"x\":[2015,2016,2017,2018,2019,2020],\"xaxis\":\"x\",\"y\":[82,56,86,38,71,55],\"yaxis\":\"y\",\"type\":\"scattergl\"},{\"hovertemplate\":\"County=Sherman County<br>Year=%{x}<br>Violent_Offenses=%{y}<extra></extra>\",\"legendgroup\":\"Sherman County\",\"line\":{\"color\":\"#636efa\",\"dash\":\"solid\"},\"marker\":{\"symbol\":\"circle\"},\"mode\":\"lines\",\"name\":\"Sherman County\",\"showlegend\":true,\"x\":[2015,2016,2017,2018,2019,2020],\"xaxis\":\"x\",\"y\":[4,5,0,1,0,1],\"yaxis\":\"y\",\"type\":\"scattergl\"},{\"hovertemplate\":\"County=Smith County<br>Year=%{x}<br>Violent_Offenses=%{y}<extra></extra>\",\"legendgroup\":\"Smith County\",\"line\":{\"color\":\"#EF553B\",\"dash\":\"solid\"},\"marker\":{\"symbol\":\"circle\"},\"mode\":\"lines\",\"name\":\"Smith County\",\"showlegend\":true,\"x\":[2015,2016,2017,2018,2019,2020],\"xaxis\":\"x\",\"y\":[544,580,720,676,696,776],\"yaxis\":\"y\",\"type\":\"scattergl\"},{\"hovertemplate\":\"County=Somervell County<br>Year=%{x}<br>Violent_Offenses=%{y}<extra></extra>\",\"legendgroup\":\"Somervell County\",\"line\":{\"color\":\"#00cc96\",\"dash\":\"solid\"},\"marker\":{\"symbol\":\"circle\"},\"mode\":\"lines\",\"name\":\"Somervell County\",\"showlegend\":true,\"x\":[2015,2016,2017,2018,2019,2020],\"xaxis\":\"x\",\"y\":[14,12,7,4,4,14],\"yaxis\":\"y\",\"type\":\"scattergl\"},{\"hovertemplate\":\"County=Starr County<br>Year=%{x}<br>Violent_Offenses=%{y}<extra></extra>\",\"legendgroup\":\"Starr County\",\"line\":{\"color\":\"#ab63fa\",\"dash\":\"solid\"},\"marker\":{\"symbol\":\"circle\"},\"mode\":\"lines\",\"name\":\"Starr County\",\"showlegend\":true,\"x\":[2015,2016,2017,2018,2019,2020],\"xaxis\":\"x\",\"y\":[158,150,141,147,139,125],\"yaxis\":\"y\",\"type\":\"scattergl\"},{\"hovertemplate\":\"County=Stephens County<br>Year=%{x}<br>Violent_Offenses=%{y}<extra></extra>\",\"legendgroup\":\"Stephens County\",\"line\":{\"color\":\"#FFA15A\",\"dash\":\"solid\"},\"marker\":{\"symbol\":\"circle\"},\"mode\":\"lines\",\"name\":\"Stephens County\",\"showlegend\":true,\"x\":[2015,2016,2017,2018,2019,2020],\"xaxis\":\"x\",\"y\":[12,19,19,14,13,20],\"yaxis\":\"y\",\"type\":\"scattergl\"},{\"hovertemplate\":\"County=Sterling County<br>Year=%{x}<br>Violent_Offenses=%{y}<extra></extra>\",\"legendgroup\":\"Sterling County\",\"line\":{\"color\":\"#19d3f3\",\"dash\":\"solid\"},\"marker\":{\"symbol\":\"circle\"},\"mode\":\"lines\",\"name\":\"Sterling County\",\"showlegend\":true,\"x\":[2015,2016,2017,2018,2019,2020],\"xaxis\":\"x\",\"y\":[3,0,0,1,1,4],\"yaxis\":\"y\",\"type\":\"scattergl\"},{\"hovertemplate\":\"County=Stonewall County<br>Year=%{x}<br>Violent_Offenses=%{y}<extra></extra>\",\"legendgroup\":\"Stonewall County\",\"line\":{\"color\":\"#FF6692\",\"dash\":\"solid\"},\"marker\":{\"symbol\":\"circle\"},\"mode\":\"lines\",\"name\":\"Stonewall County\",\"showlegend\":true,\"x\":[2015,2016,2017,2018,2019,2020],\"xaxis\":\"x\",\"y\":[3,2,0,4,1,2],\"yaxis\":\"y\",\"type\":\"scattergl\"},{\"hovertemplate\":\"County=Sutton County<br>Year=%{x}<br>Violent_Offenses=%{y}<extra></extra>\",\"legendgroup\":\"Sutton County\",\"line\":{\"color\":\"#B6E880\",\"dash\":\"solid\"},\"marker\":{\"symbol\":\"circle\"},\"mode\":\"lines\",\"name\":\"Sutton County\",\"showlegend\":true,\"x\":[2015,2016,2017,2018,2019,2020],\"xaxis\":\"x\",\"y\":[7,2,5,6,1,6],\"yaxis\":\"y\",\"type\":\"scattergl\"},{\"hovertemplate\":\"County=Swisher County<br>Year=%{x}<br>Violent_Offenses=%{y}<extra></extra>\",\"legendgroup\":\"Swisher County\",\"line\":{\"color\":\"#FF97FF\",\"dash\":\"solid\"},\"marker\":{\"symbol\":\"circle\"},\"mode\":\"lines\",\"name\":\"Swisher County\",\"showlegend\":true,\"x\":[2015,2016,2017,2018,2019,2020],\"xaxis\":\"x\",\"y\":[52,47,19,34,29,45],\"yaxis\":\"y\",\"type\":\"scattergl\"},{\"hovertemplate\":\"County=Tarrant County<br>Year=%{x}<br>Violent_Offenses=%{y}<extra></extra>\",\"legendgroup\":\"Tarrant County\",\"line\":{\"color\":\"#FECB52\",\"dash\":\"solid\"},\"marker\":{\"symbol\":\"circle\"},\"mode\":\"lines\",\"name\":\"Tarrant County\",\"showlegend\":true,\"x\":[2015,2016,2017,2018,2019,2020],\"xaxis\":\"x\",\"y\":[5816,5949,6128,5933,5896,7310],\"yaxis\":\"y\",\"type\":\"scattergl\"},{\"hovertemplate\":\"County=Taylor County<br>Year=%{x}<br>Violent_Offenses=%{y}<extra></extra>\",\"legendgroup\":\"Taylor County\",\"line\":{\"color\":\"#636efa\",\"dash\":\"solid\"},\"marker\":{\"symbol\":\"circle\"},\"mode\":\"lines\",\"name\":\"Taylor County\",\"showlegend\":true,\"x\":[2015,2016,2017,2018,2019,2020],\"xaxis\":\"x\",\"y\":[530,451,555,571,466,525],\"yaxis\":\"y\",\"type\":\"scattergl\"},{\"hovertemplate\":\"County=Terrell County<br>Year=%{x}<br>Violent_Offenses=%{y}<extra></extra>\",\"legendgroup\":\"Terrell County\",\"line\":{\"color\":\"#EF553B\",\"dash\":\"solid\"},\"marker\":{\"symbol\":\"circle\"},\"mode\":\"lines\",\"name\":\"Terrell County\",\"showlegend\":true,\"x\":[2015,2016,2017,2018],\"xaxis\":\"x\",\"y\":[0,2,2,0],\"yaxis\":\"y\",\"type\":\"scattergl\"},{\"hovertemplate\":\"County=Terry County<br>Year=%{x}<br>Violent_Offenses=%{y}<extra></extra>\",\"legendgroup\":\"Terry County\",\"line\":{\"color\":\"#00cc96\",\"dash\":\"solid\"},\"marker\":{\"symbol\":\"circle\"},\"mode\":\"lines\",\"name\":\"Terry County\",\"showlegend\":true,\"x\":[2015,2016,2017,2018,2019,2020],\"xaxis\":\"x\",\"y\":[47,30,24,43,26,31],\"yaxis\":\"y\",\"type\":\"scattergl\"},{\"hovertemplate\":\"County=Throckmorton County<br>Year=%{x}<br>Violent_Offenses=%{y}<extra></extra>\",\"legendgroup\":\"Throckmorton County\",\"line\":{\"color\":\"#ab63fa\",\"dash\":\"solid\"},\"marker\":{\"symbol\":\"circle\"},\"mode\":\"lines\",\"name\":\"Throckmorton County\",\"showlegend\":true,\"x\":[2015,2016,2017,2018,2019,2020],\"xaxis\":\"x\",\"y\":[0,0,2,4,2,3],\"yaxis\":\"y\",\"type\":\"scattergl\"},{\"hovertemplate\":\"County=Titus County<br>Year=%{x}<br>Violent_Offenses=%{y}<extra></extra>\",\"legendgroup\":\"Titus County\",\"line\":{\"color\":\"#FFA15A\",\"dash\":\"solid\"},\"marker\":{\"symbol\":\"circle\"},\"mode\":\"lines\",\"name\":\"Titus County\",\"showlegend\":true,\"x\":[2015,2016,2017,2018,2019,2020],\"xaxis\":\"x\",\"y\":[99,104,128,105,126,120],\"yaxis\":\"y\",\"type\":\"scattergl\"},{\"hovertemplate\":\"County=Tom Green County<br>Year=%{x}<br>Violent_Offenses=%{y}<extra></extra>\",\"legendgroup\":\"Tom Green County\",\"line\":{\"color\":\"#19d3f3\",\"dash\":\"solid\"},\"marker\":{\"symbol\":\"circle\"},\"mode\":\"lines\",\"name\":\"Tom Green County\",\"showlegend\":true,\"x\":[2015,2016,2017,2018,2019,2020],\"xaxis\":\"x\",\"y\":[361,356,272,346,398,369],\"yaxis\":\"y\",\"type\":\"scattergl\"},{\"hovertemplate\":\"County=Travis County<br>Year=%{x}<br>Violent_Offenses=%{y}<extra></extra>\",\"legendgroup\":\"Travis County\",\"line\":{\"color\":\"#FF6692\",\"dash\":\"solid\"},\"marker\":{\"symbol\":\"circle\"},\"mode\":\"lines\",\"name\":\"Travis County\",\"showlegend\":true,\"x\":[2015,2016,2017,2018,2019,2020],\"xaxis\":\"x\",\"y\":[3281,3734,3882,3712,4009,4534],\"yaxis\":\"y\",\"type\":\"scattergl\"},{\"hovertemplate\":\"County=Trinity County<br>Year=%{x}<br>Violent_Offenses=%{y}<extra></extra>\",\"legendgroup\":\"Trinity County\",\"line\":{\"color\":\"#B6E880\",\"dash\":\"solid\"},\"marker\":{\"symbol\":\"circle\"},\"mode\":\"lines\",\"name\":\"Trinity County\",\"showlegend\":true,\"x\":[2015,2016,2017,2018,2019,2020],\"xaxis\":\"x\",\"y\":[18,20,22,18,5,10],\"yaxis\":\"y\",\"type\":\"scattergl\"},{\"hovertemplate\":\"County=Tyler County<br>Year=%{x}<br>Violent_Offenses=%{y}<extra></extra>\",\"legendgroup\":\"Tyler County\",\"line\":{\"color\":\"#FF97FF\",\"dash\":\"solid\"},\"marker\":{\"symbol\":\"circle\"},\"mode\":\"lines\",\"name\":\"Tyler County\",\"showlegend\":true,\"x\":[2015,2016,2017,2018,2019,2020],\"xaxis\":\"x\",\"y\":[69,72,89,66,68,33],\"yaxis\":\"y\",\"type\":\"scattergl\"},{\"hovertemplate\":\"County=Upshur County<br>Year=%{x}<br>Violent_Offenses=%{y}<extra></extra>\",\"legendgroup\":\"Upshur County\",\"line\":{\"color\":\"#FECB52\",\"dash\":\"solid\"},\"marker\":{\"symbol\":\"circle\"},\"mode\":\"lines\",\"name\":\"Upshur County\",\"showlegend\":true,\"x\":[2015,2016,2017,2018,2019,2020],\"xaxis\":\"x\",\"y\":[116,85,145,109,65,83],\"yaxis\":\"y\",\"type\":\"scattergl\"},{\"hovertemplate\":\"County=Upton County<br>Year=%{x}<br>Violent_Offenses=%{y}<extra></extra>\",\"legendgroup\":\"Upton County\",\"line\":{\"color\":\"#636efa\",\"dash\":\"solid\"},\"marker\":{\"symbol\":\"circle\"},\"mode\":\"lines\",\"name\":\"Upton County\",\"showlegend\":true,\"x\":[2015,2016,2017,2018,2019,2020],\"xaxis\":\"x\",\"y\":[4,5,8,1,2,4],\"yaxis\":\"y\",\"type\":\"scattergl\"},{\"hovertemplate\":\"County=Uvalde County<br>Year=%{x}<br>Violent_Offenses=%{y}<extra></extra>\",\"legendgroup\":\"Uvalde County\",\"line\":{\"color\":\"#EF553B\",\"dash\":\"solid\"},\"marker\":{\"symbol\":\"circle\"},\"mode\":\"lines\",\"name\":\"Uvalde County\",\"showlegend\":true,\"x\":[2015,2016,2017,2018,2019,2020],\"xaxis\":\"x\",\"y\":[65,53,36,49,65,87],\"yaxis\":\"y\",\"type\":\"scattergl\"},{\"hovertemplate\":\"County=Val Verde County<br>Year=%{x}<br>Violent_Offenses=%{y}<extra></extra>\",\"legendgroup\":\"Val Verde County\",\"line\":{\"color\":\"#00cc96\",\"dash\":\"solid\"},\"marker\":{\"symbol\":\"circle\"},\"mode\":\"lines\",\"name\":\"Val Verde County\",\"showlegend\":true,\"x\":[2015,2016,2017,2018,2019,2020],\"xaxis\":\"x\",\"y\":[78,57,50,46,57,85],\"yaxis\":\"y\",\"type\":\"scattergl\"},{\"hovertemplate\":\"County=Van Zandt County<br>Year=%{x}<br>Violent_Offenses=%{y}<extra></extra>\",\"legendgroup\":\"Van Zandt County\",\"line\":{\"color\":\"#ab63fa\",\"dash\":\"solid\"},\"marker\":{\"symbol\":\"circle\"},\"mode\":\"lines\",\"name\":\"Van Zandt County\",\"showlegend\":true,\"x\":[2015,2016,2017,2018,2019,2020],\"xaxis\":\"x\",\"y\":[28,25,33,25,50,103],\"yaxis\":\"y\",\"type\":\"scattergl\"},{\"hovertemplate\":\"County=Victoria County<br>Year=%{x}<br>Violent_Offenses=%{y}<extra></extra>\",\"legendgroup\":\"Victoria County\",\"line\":{\"color\":\"#FFA15A\",\"dash\":\"solid\"},\"marker\":{\"symbol\":\"circle\"},\"mode\":\"lines\",\"name\":\"Victoria County\",\"showlegend\":true,\"x\":[2015,2016,2017,2018,2019,2020],\"xaxis\":\"x\",\"y\":[369,300,258,349,394,377],\"yaxis\":\"y\",\"type\":\"scattergl\"},{\"hovertemplate\":\"County=Walker County<br>Year=%{x}<br>Violent_Offenses=%{y}<extra></extra>\",\"legendgroup\":\"Walker County\",\"line\":{\"color\":\"#19d3f3\",\"dash\":\"solid\"},\"marker\":{\"symbol\":\"circle\"},\"mode\":\"lines\",\"name\":\"Walker County\",\"showlegend\":true,\"x\":[2015,2016,2017,2018,2019,2020],\"xaxis\":\"x\",\"y\":[226,231,204,185,223,196],\"yaxis\":\"y\",\"type\":\"scattergl\"},{\"hovertemplate\":\"County=Waller County<br>Year=%{x}<br>Violent_Offenses=%{y}<extra></extra>\",\"legendgroup\":\"Waller County\",\"line\":{\"color\":\"#FF6692\",\"dash\":\"solid\"},\"marker\":{\"symbol\":\"circle\"},\"mode\":\"lines\",\"name\":\"Waller County\",\"showlegend\":true,\"x\":[2015,2016,2017,2018,2019,2020],\"xaxis\":\"x\",\"y\":[199,146,143,184,134,141],\"yaxis\":\"y\",\"type\":\"scattergl\"},{\"hovertemplate\":\"County=Ward County<br>Year=%{x}<br>Violent_Offenses=%{y}<extra></extra>\",\"legendgroup\":\"Ward County\",\"line\":{\"color\":\"#B6E880\",\"dash\":\"solid\"},\"marker\":{\"symbol\":\"circle\"},\"mode\":\"lines\",\"name\":\"Ward County\",\"showlegend\":true,\"x\":[2015,2016,2017,2018,2019,2020],\"xaxis\":\"x\",\"y\":[55,71,69,39,59,45],\"yaxis\":\"y\",\"type\":\"scattergl\"},{\"hovertemplate\":\"County=Washington County<br>Year=%{x}<br>Violent_Offenses=%{y}<extra></extra>\",\"legendgroup\":\"Washington County\",\"line\":{\"color\":\"#FF97FF\",\"dash\":\"solid\"},\"marker\":{\"symbol\":\"circle\"},\"mode\":\"lines\",\"name\":\"Washington County\",\"showlegend\":true,\"x\":[2015,2016,2017,2018,2019,2020],\"xaxis\":\"x\",\"y\":[71,59,148,91,135,86],\"yaxis\":\"y\",\"type\":\"scattergl\"},{\"hovertemplate\":\"County=Webb County<br>Year=%{x}<br>Violent_Offenses=%{y}<extra></extra>\",\"legendgroup\":\"Webb County\",\"line\":{\"color\":\"#FECB52\",\"dash\":\"solid\"},\"marker\":{\"symbol\":\"circle\"},\"mode\":\"lines\",\"name\":\"Webb County\",\"showlegend\":true,\"x\":[2015,2016,2017,2018,2019,2020],\"xaxis\":\"x\",\"y\":[878,821,734,824,736,772],\"yaxis\":\"y\",\"type\":\"scattergl\"},{\"hovertemplate\":\"County=Wharton County<br>Year=%{x}<br>Violent_Offenses=%{y}<extra></extra>\",\"legendgroup\":\"Wharton County\",\"line\":{\"color\":\"#636efa\",\"dash\":\"solid\"},\"marker\":{\"symbol\":\"circle\"},\"mode\":\"lines\",\"name\":\"Wharton County\",\"showlegend\":true,\"x\":[2015,2016,2017,2018,2019,2020],\"xaxis\":\"x\",\"y\":[135,156,145,131,122,130],\"yaxis\":\"y\",\"type\":\"scattergl\"},{\"hovertemplate\":\"County=Wheeler County<br>Year=%{x}<br>Violent_Offenses=%{y}<extra></extra>\",\"legendgroup\":\"Wheeler County\",\"line\":{\"color\":\"#EF553B\",\"dash\":\"solid\"},\"marker\":{\"symbol\":\"circle\"},\"mode\":\"lines\",\"name\":\"Wheeler County\",\"showlegend\":true,\"x\":[2015,2016,2017,2018,2019,2020],\"xaxis\":\"x\",\"y\":[4,9,5,0,5,2],\"yaxis\":\"y\",\"type\":\"scattergl\"},{\"hovertemplate\":\"County=Wichita County<br>Year=%{x}<br>Violent_Offenses=%{y}<extra></extra>\",\"legendgroup\":\"Wichita County\",\"line\":{\"color\":\"#00cc96\",\"dash\":\"solid\"},\"marker\":{\"symbol\":\"circle\"},\"mode\":\"lines\",\"name\":\"Wichita County\",\"showlegend\":true,\"x\":[2015,2016,2017,2018,2019,2020],\"xaxis\":\"x\",\"y\":[345,384,328,331,346,414],\"yaxis\":\"y\",\"type\":\"scattergl\"},{\"hovertemplate\":\"County=Wilbarger County<br>Year=%{x}<br>Violent_Offenses=%{y}<extra></extra>\",\"legendgroup\":\"Wilbarger County\",\"line\":{\"color\":\"#ab63fa\",\"dash\":\"solid\"},\"marker\":{\"symbol\":\"circle\"},\"mode\":\"lines\",\"name\":\"Wilbarger County\",\"showlegend\":true,\"x\":[2015,2016,2017,2018,2019,2020],\"xaxis\":\"x\",\"y\":[33,57,37,44,47,35],\"yaxis\":\"y\",\"type\":\"scattergl\"},{\"hovertemplate\":\"County=Willacy County<br>Year=%{x}<br>Violent_Offenses=%{y}<extra></extra>\",\"legendgroup\":\"Willacy County\",\"line\":{\"color\":\"#FFA15A\",\"dash\":\"solid\"},\"marker\":{\"symbol\":\"circle\"},\"mode\":\"lines\",\"name\":\"Willacy County\",\"showlegend\":true,\"x\":[2015,2016,2017,2018,2019,2020],\"xaxis\":\"x\",\"y\":[173,129,133,175,152,96],\"yaxis\":\"y\",\"type\":\"scattergl\"},{\"hovertemplate\":\"County=Williamson County<br>Year=%{x}<br>Violent_Offenses=%{y}<extra></extra>\",\"legendgroup\":\"Williamson County\",\"line\":{\"color\":\"#19d3f3\",\"dash\":\"solid\"},\"marker\":{\"symbol\":\"circle\"},\"mode\":\"lines\",\"name\":\"Williamson County\",\"showlegend\":true,\"x\":[2015,2016,2017,2018,2019,2020],\"xaxis\":\"x\",\"y\":[520,556,595,569,505,579],\"yaxis\":\"y\",\"type\":\"scattergl\"},{\"hovertemplate\":\"County=Wilson County<br>Year=%{x}<br>Violent_Offenses=%{y}<extra></extra>\",\"legendgroup\":\"Wilson County\",\"line\":{\"color\":\"#FF6692\",\"dash\":\"solid\"},\"marker\":{\"symbol\":\"circle\"},\"mode\":\"lines\",\"name\":\"Wilson County\",\"showlegend\":true,\"x\":[2015,2016,2017,2018,2019,2020],\"xaxis\":\"x\",\"y\":[50,54,45,30,46,44],\"yaxis\":\"y\",\"type\":\"scattergl\"},{\"hovertemplate\":\"County=Winkler County<br>Year=%{x}<br>Violent_Offenses=%{y}<extra></extra>\",\"legendgroup\":\"Winkler County\",\"line\":{\"color\":\"#B6E880\",\"dash\":\"solid\"},\"marker\":{\"symbol\":\"circle\"},\"mode\":\"lines\",\"name\":\"Winkler County\",\"showlegend\":true,\"x\":[2015,2016,2017,2018,2019,2020],\"xaxis\":\"x\",\"y\":[7,3,3,37,31,14],\"yaxis\":\"y\",\"type\":\"scattergl\"},{\"hovertemplate\":\"County=Wise County<br>Year=%{x}<br>Violent_Offenses=%{y}<extra></extra>\",\"legendgroup\":\"Wise County\",\"line\":{\"color\":\"#FF97FF\",\"dash\":\"solid\"},\"marker\":{\"symbol\":\"circle\"},\"mode\":\"lines\",\"name\":\"Wise County\",\"showlegend\":true,\"x\":[2015,2016,2017,2018,2019,2020],\"xaxis\":\"x\",\"y\":[79,107,131,135,102,117],\"yaxis\":\"y\",\"type\":\"scattergl\"},{\"hovertemplate\":\"County=Wood County<br>Year=%{x}<br>Violent_Offenses=%{y}<extra></extra>\",\"legendgroup\":\"Wood County\",\"line\":{\"color\":\"#FECB52\",\"dash\":\"solid\"},\"marker\":{\"symbol\":\"circle\"},\"mode\":\"lines\",\"name\":\"Wood County\",\"showlegend\":true,\"x\":[2015,2016,2017,2018,2019,2020],\"xaxis\":\"x\",\"y\":[47,66,73,100,87,49],\"yaxis\":\"y\",\"type\":\"scattergl\"},{\"hovertemplate\":\"County=Yoakum County<br>Year=%{x}<br>Violent_Offenses=%{y}<extra></extra>\",\"legendgroup\":\"Yoakum County\",\"line\":{\"color\":\"#636efa\",\"dash\":\"solid\"},\"marker\":{\"symbol\":\"circle\"},\"mode\":\"lines\",\"name\":\"Yoakum County\",\"showlegend\":true,\"x\":[2015,2016,2017,2018,2019,2020],\"xaxis\":\"x\",\"y\":[8,17,8,7,4,6],\"yaxis\":\"y\",\"type\":\"scattergl\"},{\"hovertemplate\":\"County=Young County<br>Year=%{x}<br>Violent_Offenses=%{y}<extra></extra>\",\"legendgroup\":\"Young County\",\"line\":{\"color\":\"#EF553B\",\"dash\":\"solid\"},\"marker\":{\"symbol\":\"circle\"},\"mode\":\"lines\",\"name\":\"Young County\",\"showlegend\":true,\"x\":[2015,2016,2017,2018,2019,2020],\"xaxis\":\"x\",\"y\":[29,22,25,31,33,31],\"yaxis\":\"y\",\"type\":\"scattergl\"},{\"hovertemplate\":\"County=Zapata County<br>Year=%{x}<br>Violent_Offenses=%{y}<extra></extra>\",\"legendgroup\":\"Zapata County\",\"line\":{\"color\":\"#00cc96\",\"dash\":\"solid\"},\"marker\":{\"symbol\":\"circle\"},\"mode\":\"lines\",\"name\":\"Zapata County\",\"showlegend\":true,\"x\":[2015,2019,2020],\"xaxis\":\"x\",\"y\":[14,47,13],\"yaxis\":\"y\",\"type\":\"scattergl\"},{\"hovertemplate\":\"County=Zavala County<br>Year=%{x}<br>Violent_Offenses=%{y}<extra></extra>\",\"legendgroup\":\"Zavala County\",\"line\":{\"color\":\"#ab63fa\",\"dash\":\"solid\"},\"marker\":{\"symbol\":\"circle\"},\"mode\":\"lines\",\"name\":\"Zavala County\",\"showlegend\":true,\"x\":[2015,2016,2017,2018,2019,2020],\"xaxis\":\"x\",\"y\":[55,33,55,19,21,18],\"yaxis\":\"y\",\"type\":\"scattergl\"}],                        {\"template\":{\"data\":{\"bar\":[{\"error_x\":{\"color\":\"#2a3f5f\"},\"error_y\":{\"color\":\"#2a3f5f\"},\"marker\":{\"line\":{\"color\":\"#E5ECF6\",\"width\":0.5},\"pattern\":{\"fillmode\":\"overlay\",\"size\":10,\"solidity\":0.2}},\"type\":\"bar\"}],\"barpolar\":[{\"marker\":{\"line\":{\"color\":\"#E5ECF6\",\"width\":0.5},\"pattern\":{\"fillmode\":\"overlay\",\"size\":10,\"solidity\":0.2}},\"type\":\"barpolar\"}],\"carpet\":[{\"aaxis\":{\"endlinecolor\":\"#2a3f5f\",\"gridcolor\":\"white\",\"linecolor\":\"white\",\"minorgridcolor\":\"white\",\"startlinecolor\":\"#2a3f5f\"},\"baxis\":{\"endlinecolor\":\"#2a3f5f\",\"gridcolor\":\"white\",\"linecolor\":\"white\",\"minorgridcolor\":\"white\",\"startlinecolor\":\"#2a3f5f\"},\"type\":\"carpet\"}],\"choropleth\":[{\"colorbar\":{\"outlinewidth\":0,\"ticks\":\"\"},\"type\":\"choropleth\"}],\"contour\":[{\"colorbar\":{\"outlinewidth\":0,\"ticks\":\"\"},\"colorscale\":[[0.0,\"#0d0887\"],[0.1111111111111111,\"#46039f\"],[0.2222222222222222,\"#7201a8\"],[0.3333333333333333,\"#9c179e\"],[0.4444444444444444,\"#bd3786\"],[0.5555555555555556,\"#d8576b\"],[0.6666666666666666,\"#ed7953\"],[0.7777777777777778,\"#fb9f3a\"],[0.8888888888888888,\"#fdca26\"],[1.0,\"#f0f921\"]],\"type\":\"contour\"}],\"contourcarpet\":[{\"colorbar\":{\"outlinewidth\":0,\"ticks\":\"\"},\"type\":\"contourcarpet\"}],\"heatmap\":[{\"colorbar\":{\"outlinewidth\":0,\"ticks\":\"\"},\"colorscale\":[[0.0,\"#0d0887\"],[0.1111111111111111,\"#46039f\"],[0.2222222222222222,\"#7201a8\"],[0.3333333333333333,\"#9c179e\"],[0.4444444444444444,\"#bd3786\"],[0.5555555555555556,\"#d8576b\"],[0.6666666666666666,\"#ed7953\"],[0.7777777777777778,\"#fb9f3a\"],[0.8888888888888888,\"#fdca26\"],[1.0,\"#f0f921\"]],\"type\":\"heatmap\"}],\"heatmapgl\":[{\"colorbar\":{\"outlinewidth\":0,\"ticks\":\"\"},\"colorscale\":[[0.0,\"#0d0887\"],[0.1111111111111111,\"#46039f\"],[0.2222222222222222,\"#7201a8\"],[0.3333333333333333,\"#9c179e\"],[0.4444444444444444,\"#bd3786\"],[0.5555555555555556,\"#d8576b\"],[0.6666666666666666,\"#ed7953\"],[0.7777777777777778,\"#fb9f3a\"],[0.8888888888888888,\"#fdca26\"],[1.0,\"#f0f921\"]],\"type\":\"heatmapgl\"}],\"histogram\":[{\"marker\":{\"pattern\":{\"fillmode\":\"overlay\",\"size\":10,\"solidity\":0.2}},\"type\":\"histogram\"}],\"histogram2d\":[{\"colorbar\":{\"outlinewidth\":0,\"ticks\":\"\"},\"colorscale\":[[0.0,\"#0d0887\"],[0.1111111111111111,\"#46039f\"],[0.2222222222222222,\"#7201a8\"],[0.3333333333333333,\"#9c179e\"],[0.4444444444444444,\"#bd3786\"],[0.5555555555555556,\"#d8576b\"],[0.6666666666666666,\"#ed7953\"],[0.7777777777777778,\"#fb9f3a\"],[0.8888888888888888,\"#fdca26\"],[1.0,\"#f0f921\"]],\"type\":\"histogram2d\"}],\"histogram2dcontour\":[{\"colorbar\":{\"outlinewidth\":0,\"ticks\":\"\"},\"colorscale\":[[0.0,\"#0d0887\"],[0.1111111111111111,\"#46039f\"],[0.2222222222222222,\"#7201a8\"],[0.3333333333333333,\"#9c179e\"],[0.4444444444444444,\"#bd3786\"],[0.5555555555555556,\"#d8576b\"],[0.6666666666666666,\"#ed7953\"],[0.7777777777777778,\"#fb9f3a\"],[0.8888888888888888,\"#fdca26\"],[1.0,\"#f0f921\"]],\"type\":\"histogram2dcontour\"}],\"mesh3d\":[{\"colorbar\":{\"outlinewidth\":0,\"ticks\":\"\"},\"type\":\"mesh3d\"}],\"parcoords\":[{\"line\":{\"colorbar\":{\"outlinewidth\":0,\"ticks\":\"\"}},\"type\":\"parcoords\"}],\"pie\":[{\"automargin\":true,\"type\":\"pie\"}],\"scatter\":[{\"marker\":{\"colorbar\":{\"outlinewidth\":0,\"ticks\":\"\"}},\"type\":\"scatter\"}],\"scatter3d\":[{\"line\":{\"colorbar\":{\"outlinewidth\":0,\"ticks\":\"\"}},\"marker\":{\"colorbar\":{\"outlinewidth\":0,\"ticks\":\"\"}},\"type\":\"scatter3d\"}],\"scattercarpet\":[{\"marker\":{\"colorbar\":{\"outlinewidth\":0,\"ticks\":\"\"}},\"type\":\"scattercarpet\"}],\"scattergeo\":[{\"marker\":{\"colorbar\":{\"outlinewidth\":0,\"ticks\":\"\"}},\"type\":\"scattergeo\"}],\"scattergl\":[{\"marker\":{\"colorbar\":{\"outlinewidth\":0,\"ticks\":\"\"}},\"type\":\"scattergl\"}],\"scattermapbox\":[{\"marker\":{\"colorbar\":{\"outlinewidth\":0,\"ticks\":\"\"}},\"type\":\"scattermapbox\"}],\"scatterpolar\":[{\"marker\":{\"colorbar\":{\"outlinewidth\":0,\"ticks\":\"\"}},\"type\":\"scatterpolar\"}],\"scatterpolargl\":[{\"marker\":{\"colorbar\":{\"outlinewidth\":0,\"ticks\":\"\"}},\"type\":\"scatterpolargl\"}],\"scatterternary\":[{\"marker\":{\"colorbar\":{\"outlinewidth\":0,\"ticks\":\"\"}},\"type\":\"scatterternary\"}],\"surface\":[{\"colorbar\":{\"outlinewidth\":0,\"ticks\":\"\"},\"colorscale\":[[0.0,\"#0d0887\"],[0.1111111111111111,\"#46039f\"],[0.2222222222222222,\"#7201a8\"],[0.3333333333333333,\"#9c179e\"],[0.4444444444444444,\"#bd3786\"],[0.5555555555555556,\"#d8576b\"],[0.6666666666666666,\"#ed7953\"],[0.7777777777777778,\"#fb9f3a\"],[0.8888888888888888,\"#fdca26\"],[1.0,\"#f0f921\"]],\"type\":\"surface\"}],\"table\":[{\"cells\":{\"fill\":{\"color\":\"#EBF0F8\"},\"line\":{\"color\":\"white\"}},\"header\":{\"fill\":{\"color\":\"#C8D4E3\"},\"line\":{\"color\":\"white\"}},\"type\":\"table\"}]},\"layout\":{\"annotationdefaults\":{\"arrowcolor\":\"#2a3f5f\",\"arrowhead\":0,\"arrowwidth\":1},\"autotypenumbers\":\"strict\",\"coloraxis\":{\"colorbar\":{\"outlinewidth\":0,\"ticks\":\"\"}},\"colorscale\":{\"diverging\":[[0,\"#8e0152\"],[0.1,\"#c51b7d\"],[0.2,\"#de77ae\"],[0.3,\"#f1b6da\"],[0.4,\"#fde0ef\"],[0.5,\"#f7f7f7\"],[0.6,\"#e6f5d0\"],[0.7,\"#b8e186\"],[0.8,\"#7fbc41\"],[0.9,\"#4d9221\"],[1,\"#276419\"]],\"sequential\":[[0.0,\"#0d0887\"],[0.1111111111111111,\"#46039f\"],[0.2222222222222222,\"#7201a8\"],[0.3333333333333333,\"#9c179e\"],[0.4444444444444444,\"#bd3786\"],[0.5555555555555556,\"#d8576b\"],[0.6666666666666666,\"#ed7953\"],[0.7777777777777778,\"#fb9f3a\"],[0.8888888888888888,\"#fdca26\"],[1.0,\"#f0f921\"]],\"sequentialminus\":[[0.0,\"#0d0887\"],[0.1111111111111111,\"#46039f\"],[0.2222222222222222,\"#7201a8\"],[0.3333333333333333,\"#9c179e\"],[0.4444444444444444,\"#bd3786\"],[0.5555555555555556,\"#d8576b\"],[0.6666666666666666,\"#ed7953\"],[0.7777777777777778,\"#fb9f3a\"],[0.8888888888888888,\"#fdca26\"],[1.0,\"#f0f921\"]]},\"colorway\":[\"#636efa\",\"#EF553B\",\"#00cc96\",\"#ab63fa\",\"#FFA15A\",\"#19d3f3\",\"#FF6692\",\"#B6E880\",\"#FF97FF\",\"#FECB52\"],\"font\":{\"color\":\"#2a3f5f\"},\"geo\":{\"bgcolor\":\"white\",\"lakecolor\":\"white\",\"landcolor\":\"#E5ECF6\",\"showlakes\":true,\"showland\":true,\"subunitcolor\":\"white\"},\"hoverlabel\":{\"align\":\"left\"},\"hovermode\":\"closest\",\"mapbox\":{\"style\":\"light\"},\"paper_bgcolor\":\"white\",\"plot_bgcolor\":\"#E5ECF6\",\"polar\":{\"angularaxis\":{\"gridcolor\":\"white\",\"linecolor\":\"white\",\"ticks\":\"\"},\"bgcolor\":\"#E5ECF6\",\"radialaxis\":{\"gridcolor\":\"white\",\"linecolor\":\"white\",\"ticks\":\"\"}},\"scene\":{\"xaxis\":{\"backgroundcolor\":\"#E5ECF6\",\"gridcolor\":\"white\",\"gridwidth\":2,\"linecolor\":\"white\",\"showbackground\":true,\"ticks\":\"\",\"zerolinecolor\":\"white\"},\"yaxis\":{\"backgroundcolor\":\"#E5ECF6\",\"gridcolor\":\"white\",\"gridwidth\":2,\"linecolor\":\"white\",\"showbackground\":true,\"ticks\":\"\",\"zerolinecolor\":\"white\"},\"zaxis\":{\"backgroundcolor\":\"#E5ECF6\",\"gridcolor\":\"white\",\"gridwidth\":2,\"linecolor\":\"white\",\"showbackground\":true,\"ticks\":\"\",\"zerolinecolor\":\"white\"}},\"shapedefaults\":{\"line\":{\"color\":\"#2a3f5f\"}},\"ternary\":{\"aaxis\":{\"gridcolor\":\"white\",\"linecolor\":\"white\",\"ticks\":\"\"},\"baxis\":{\"gridcolor\":\"white\",\"linecolor\":\"white\",\"ticks\":\"\"},\"bgcolor\":\"#E5ECF6\",\"caxis\":{\"gridcolor\":\"white\",\"linecolor\":\"white\",\"ticks\":\"\"}},\"title\":{\"x\":0.05},\"xaxis\":{\"automargin\":true,\"gridcolor\":\"white\",\"linecolor\":\"white\",\"ticks\":\"\",\"title\":{\"standoff\":15},\"zerolinecolor\":\"white\",\"zerolinewidth\":2},\"yaxis\":{\"automargin\":true,\"gridcolor\":\"white\",\"linecolor\":\"white\",\"ticks\":\"\",\"title\":{\"standoff\":15},\"zerolinecolor\":\"white\",\"zerolinewidth\":2}}},\"xaxis\":{\"anchor\":\"y\",\"domain\":[0.0,1.0],\"title\":{\"text\":\"Year\"}},\"yaxis\":{\"anchor\":\"x\",\"domain\":[0.0,1.0],\"title\":{\"text\":\"Violent_Offenses\"}},\"legend\":{\"title\":{\"text\":\"County\"},\"tracegroupgap\":0},\"margin\":{\"t\":60}},                        {\"responsive\": true}                    ).then(function(){\n",
       "                            \n",
       "var gd = document.getElementById('86489b7f-c47f-480f-9b1b-6b7476c29a90');\n",
       "var x = new MutationObserver(function (mutations, observer) {{\n",
       "        var display = window.getComputedStyle(gd).display;\n",
       "        if (!display || display === 'none') {{\n",
       "            console.log([gd, 'removed!']);\n",
       "            Plotly.purge(gd);\n",
       "            observer.disconnect();\n",
       "        }}\n",
       "}});\n",
       "\n",
       "// Listen for the removal of the full notebook cells\n",
       "var notebookContainer = gd.closest('#notebook-container');\n",
       "if (notebookContainer) {{\n",
       "    x.observe(notebookContainer, {childList: true});\n",
       "}}\n",
       "\n",
       "// Listen for the clearing of the current output cell\n",
       "var outputEl = gd.closest('.output');\n",
       "if (outputEl) {{\n",
       "    x.observe(outputEl, {childList: true});\n",
       "}}\n",
       "\n",
       "                        })                };                });            </script>        </div>"
      ]
     },
     "metadata": {},
     "output_type": "display_data"
    }
   ],
   "source": [
    "# Violent crimes houston area over 5 years\n",
    "fig = px.line(crime_df, x=\"Year\" , y=\"Violent_Offenses\", color=\"County\")\n",
    "fig.show()"
   ]
  },
  {
   "cell_type": "code",
   "execution_count": 6,
   "id": "bf5e7535",
   "metadata": {},
   "outputs": [
    {
     "data": {
      "application/vnd.plotly.v1+json": {
       "config": {
        "plotlyServerURL": "https://plot.ly"
       },
       "data": [
        {
         "hovertemplate": "County=Anderson County<br>Year=%{x}<br>NonViolent_Offenses=%{y}<extra></extra>",
         "legendgroup": "Anderson County",
         "line": {
          "color": "#636efa",
          "dash": "solid"
         },
         "marker": {
          "symbol": "circle"
         },
         "mode": "lines",
         "name": "Anderson County",
         "showlegend": true,
         "type": "scattergl",
         "x": [
          2015,
          2016,
          2017,
          2018,
          2019,
          2020
         ],
         "xaxis": "x",
         "y": [
          1143,
          838,
          878,
          791,
          845,
          734
         ],
         "yaxis": "y"
        },
        {
         "hovertemplate": "County=Andrews County<br>Year=%{x}<br>NonViolent_Offenses=%{y}<extra></extra>",
         "legendgroup": "Andrews County",
         "line": {
          "color": "#EF553B",
          "dash": "solid"
         },
         "marker": {
          "symbol": "circle"
         },
         "mode": "lines",
         "name": "Andrews County",
         "showlegend": true,
         "type": "scattergl",
         "x": [
          2015,
          2016,
          2017,
          2018,
          2019,
          2020
         ],
         "xaxis": "x",
         "y": [
          424,
          400,
          267,
          280,
          282,
          408
         ],
         "yaxis": "y"
        },
        {
         "hovertemplate": "County=Angelina County<br>Year=%{x}<br>NonViolent_Offenses=%{y}<extra></extra>",
         "legendgroup": "Angelina County",
         "line": {
          "color": "#00cc96",
          "dash": "solid"
         },
         "marker": {
          "symbol": "circle"
         },
         "mode": "lines",
         "name": "Angelina County",
         "showlegend": true,
         "type": "scattergl",
         "x": [
          2015,
          2016,
          2017,
          2018,
          2019,
          2020
         ],
         "xaxis": "x",
         "y": [
          2438,
          2195,
          2299,
          2044,
          2278,
          2805
         ],
         "yaxis": "y"
        },
        {
         "hovertemplate": "County=Aransas County<br>Year=%{x}<br>NonViolent_Offenses=%{y}<extra></extra>",
         "legendgroup": "Aransas County",
         "line": {
          "color": "#ab63fa",
          "dash": "solid"
         },
         "marker": {
          "symbol": "circle"
         },
         "mode": "lines",
         "name": "Aransas County",
         "showlegend": true,
         "type": "scattergl",
         "x": [
          2015,
          2016,
          2017,
          2018,
          2019,
          2020
         ],
         "xaxis": "x",
         "y": [
          1404,
          1411,
          1194,
          1168,
          1075,
          1028
         ],
         "yaxis": "y"
        },
        {
         "hovertemplate": "County=Archer County<br>Year=%{x}<br>NonViolent_Offenses=%{y}<extra></extra>",
         "legendgroup": "Archer County",
         "line": {
          "color": "#FFA15A",
          "dash": "solid"
         },
         "marker": {
          "symbol": "circle"
         },
         "mode": "lines",
         "name": "Archer County",
         "showlegend": true,
         "type": "scattergl",
         "x": [
          2015,
          2016,
          2017,
          2018,
          2019,
          2020
         ],
         "xaxis": "x",
         "y": [
          55,
          43,
          19,
          12,
          2,
          16
         ],
         "yaxis": "y"
        },
        {
         "hovertemplate": "County=Armstrong County<br>Year=%{x}<br>NonViolent_Offenses=%{y}<extra></extra>",
         "legendgroup": "Armstrong County",
         "line": {
          "color": "#19d3f3",
          "dash": "solid"
         },
         "marker": {
          "symbol": "circle"
         },
         "mode": "lines",
         "name": "Armstrong County",
         "showlegend": true,
         "type": "scattergl",
         "x": [
          2015,
          2016,
          2017,
          2018,
          2019,
          2020
         ],
         "xaxis": "x",
         "y": [
          24,
          10,
          24,
          17,
          18,
          4
         ],
         "yaxis": "y"
        },
        {
         "hovertemplate": "County=Atascosa County<br>Year=%{x}<br>NonViolent_Offenses=%{y}<extra></extra>",
         "legendgroup": "Atascosa County",
         "line": {
          "color": "#FF6692",
          "dash": "solid"
         },
         "marker": {
          "symbol": "circle"
         },
         "mode": "lines",
         "name": "Atascosa County",
         "showlegend": true,
         "type": "scattergl",
         "x": [
          2015,
          2016,
          2017,
          2018,
          2019,
          2020
         ],
         "xaxis": "x",
         "y": [
          1496,
          1326,
          1055,
          1121,
          1021,
          953
         ],
         "yaxis": "y"
        },
        {
         "hovertemplate": "County=Austin County<br>Year=%{x}<br>NonViolent_Offenses=%{y}<extra></extra>",
         "legendgroup": "Austin County",
         "line": {
          "color": "#B6E880",
          "dash": "solid"
         },
         "marker": {
          "symbol": "circle"
         },
         "mode": "lines",
         "name": "Austin County",
         "showlegend": true,
         "type": "scattergl",
         "x": [
          2015,
          2016,
          2017,
          2018,
          2019,
          2020
         ],
         "xaxis": "x",
         "y": [
          417,
          406,
          326,
          249,
          256,
          236
         ],
         "yaxis": "y"
        },
        {
         "hovertemplate": "County=Bailey County<br>Year=%{x}<br>NonViolent_Offenses=%{y}<extra></extra>",
         "legendgroup": "Bailey County",
         "line": {
          "color": "#FF97FF",
          "dash": "solid"
         },
         "marker": {
          "symbol": "circle"
         },
         "mode": "lines",
         "name": "Bailey County",
         "showlegend": true,
         "type": "scattergl",
         "x": [
          2015,
          2016,
          2017,
          2018,
          2019,
          2020
         ],
         "xaxis": "x",
         "y": [
          164,
          118,
          90,
          73,
          57,
          40
         ],
         "yaxis": "y"
        },
        {
         "hovertemplate": "County=Bandera County<br>Year=%{x}<br>NonViolent_Offenses=%{y}<extra></extra>",
         "legendgroup": "Bandera County",
         "line": {
          "color": "#FECB52",
          "dash": "solid"
         },
         "marker": {
          "symbol": "circle"
         },
         "mode": "lines",
         "name": "Bandera County",
         "showlegend": true,
         "type": "scattergl",
         "x": [
          2015,
          2016,
          2017,
          2018,
          2019,
          2020
         ],
         "xaxis": "x",
         "y": [
          312,
          246,
          279,
          284,
          265,
          203
         ],
         "yaxis": "y"
        },
        {
         "hovertemplate": "County=Bastrop County<br>Year=%{x}<br>NonViolent_Offenses=%{y}<extra></extra>",
         "legendgroup": "Bastrop County",
         "line": {
          "color": "#636efa",
          "dash": "solid"
         },
         "marker": {
          "symbol": "circle"
         },
         "mode": "lines",
         "name": "Bastrop County",
         "showlegend": true,
         "type": "scattergl",
         "x": [
          2015,
          2016,
          2017,
          2018,
          2019,
          2020
         ],
         "xaxis": "x",
         "y": [
          1579,
          1720,
          1376,
          1253,
          1202,
          1002
         ],
         "yaxis": "y"
        },
        {
         "hovertemplate": "County=Baylor County<br>Year=%{x}<br>NonViolent_Offenses=%{y}<extra></extra>",
         "legendgroup": "Baylor County",
         "line": {
          "color": "#EF553B",
          "dash": "solid"
         },
         "marker": {
          "symbol": "circle"
         },
         "mode": "lines",
         "name": "Baylor County",
         "showlegend": true,
         "type": "scattergl",
         "x": [
          2015,
          2016,
          2017,
          2018,
          2019,
          2020
         ],
         "xaxis": "x",
         "y": [
          93,
          60,
          31,
          35,
          28,
          28
         ],
         "yaxis": "y"
        },
        {
         "hovertemplate": "County=Bee County<br>Year=%{x}<br>NonViolent_Offenses=%{y}<extra></extra>",
         "legendgroup": "Bee County",
         "line": {
          "color": "#00cc96",
          "dash": "solid"
         },
         "marker": {
          "symbol": "circle"
         },
         "mode": "lines",
         "name": "Bee County",
         "showlegend": true,
         "type": "scattergl",
         "x": [
          2015,
          2016,
          2017,
          2018,
          2019,
          2020
         ],
         "xaxis": "x",
         "y": [
          575,
          470,
          533,
          544,
          522,
          570
         ],
         "yaxis": "y"
        },
        {
         "hovertemplate": "County=Bell County<br>Year=%{x}<br>NonViolent_Offenses=%{y}<extra></extra>",
         "legendgroup": "Bell County",
         "line": {
          "color": "#ab63fa",
          "dash": "solid"
         },
         "marker": {
          "symbol": "circle"
         },
         "mode": "lines",
         "name": "Bell County",
         "showlegend": true,
         "type": "scattergl",
         "x": [
          2015,
          2016,
          2017,
          2018,
          2019,
          2020
         ],
         "xaxis": "x",
         "y": [
          9370,
          8819,
          8800,
          7453,
          6955,
          6936
         ],
         "yaxis": "y"
        },
        {
         "hovertemplate": "County=Bexar County<br>Year=%{x}<br>NonViolent_Offenses=%{y}<extra></extra>",
         "legendgroup": "Bexar County",
         "line": {
          "color": "#FFA15A",
          "dash": "solid"
         },
         "marker": {
          "symbol": "circle"
         },
         "mode": "lines",
         "name": "Bexar County",
         "showlegend": true,
         "type": "scattergl",
         "x": [
          2015,
          2016,
          2017,
          2018,
          2019,
          2020
         ],
         "xaxis": "x",
         "y": [
          84850,
          90213,
          84850,
          70910,
          77029,
          66681
         ],
         "yaxis": "y"
        },
        {
         "hovertemplate": "County=Blanco County<br>Year=%{x}<br>NonViolent_Offenses=%{y}<extra></extra>",
         "legendgroup": "Blanco County",
         "line": {
          "color": "#19d3f3",
          "dash": "solid"
         },
         "marker": {
          "symbol": "circle"
         },
         "mode": "lines",
         "name": "Blanco County",
         "showlegend": true,
         "type": "scattergl",
         "x": [
          2015,
          2016,
          2017,
          2018,
          2019,
          2020
         ],
         "xaxis": "x",
         "y": [
          104,
          75,
          104,
          50,
          60,
          82
         ],
         "yaxis": "y"
        },
        {
         "hovertemplate": "County=Borden County<br>Year=%{x}<br>NonViolent_Offenses=%{y}<extra></extra>",
         "legendgroup": "Borden County",
         "line": {
          "color": "#FF6692",
          "dash": "solid"
         },
         "marker": {
          "symbol": "circle"
         },
         "mode": "lines",
         "name": "Borden County",
         "showlegend": true,
         "type": "scattergl",
         "x": [
          2015,
          2016,
          2017,
          2018,
          2019,
          2020
         ],
         "xaxis": "x",
         "y": [
          8,
          7,
          18,
          15,
          10,
          12
         ],
         "yaxis": "y"
        },
        {
         "hovertemplate": "County=Bosque County<br>Year=%{x}<br>NonViolent_Offenses=%{y}<extra></extra>",
         "legendgroup": "Bosque County",
         "line": {
          "color": "#B6E880",
          "dash": "solid"
         },
         "marker": {
          "symbol": "circle"
         },
         "mode": "lines",
         "name": "Bosque County",
         "showlegend": true,
         "type": "scattergl",
         "x": [
          2015,
          2016,
          2017,
          2018,
          2019,
          2020
         ],
         "xaxis": "x",
         "y": [
          105,
          145,
          118,
          76,
          98,
          100
         ],
         "yaxis": "y"
        },
        {
         "hovertemplate": "County=Bowie County<br>Year=%{x}<br>NonViolent_Offenses=%{y}<extra></extra>",
         "legendgroup": "Bowie County",
         "line": {
          "color": "#FF97FF",
          "dash": "solid"
         },
         "marker": {
          "symbol": "circle"
         },
         "mode": "lines",
         "name": "Bowie County",
         "showlegend": true,
         "type": "scattergl",
         "x": [
          2015,
          2016,
          2017,
          2018,
          2019,
          2020
         ],
         "xaxis": "x",
         "y": [
          2898,
          2750,
          2767,
          2682,
          2441,
          1712
         ],
         "yaxis": "y"
        },
        {
         "hovertemplate": "County=Brazoria County<br>Year=%{x}<br>NonViolent_Offenses=%{y}<extra></extra>",
         "legendgroup": "Brazoria County",
         "line": {
          "color": "#FECB52",
          "dash": "solid"
         },
         "marker": {
          "symbol": "circle"
         },
         "mode": "lines",
         "name": "Brazoria County",
         "showlegend": true,
         "type": "scattergl",
         "x": [
          2015,
          2016,
          2017,
          2018,
          2019,
          2020
         ],
         "xaxis": "x",
         "y": [
          5983,
          5843,
          5428,
          5431,
          6233,
          5515
         ],
         "yaxis": "y"
        },
        {
         "hovertemplate": "County=Brazos County<br>Year=%{x}<br>NonViolent_Offenses=%{y}<extra></extra>",
         "legendgroup": "Brazos County",
         "line": {
          "color": "#636efa",
          "dash": "solid"
         },
         "marker": {
          "symbol": "circle"
         },
         "mode": "lines",
         "name": "Brazos County",
         "showlegend": true,
         "type": "scattergl",
         "x": [
          2015,
          2016,
          2017,
          2018,
          2019,
          2020
         ],
         "xaxis": "x",
         "y": [
          5841,
          5614,
          5030,
          5201,
          4697,
          4571
         ],
         "yaxis": "y"
        },
        {
         "hovertemplate": "County=Brewster County<br>Year=%{x}<br>NonViolent_Offenses=%{y}<extra></extra>",
         "legendgroup": "Brewster County",
         "line": {
          "color": "#EF553B",
          "dash": "solid"
         },
         "marker": {
          "symbol": "circle"
         },
         "mode": "lines",
         "name": "Brewster County",
         "showlegend": true,
         "type": "scattergl",
         "x": [
          2015,
          2016,
          2017,
          2018,
          2019,
          2020
         ],
         "xaxis": "x",
         "y": [
          130,
          117,
          103,
          82,
          52,
          68
         ],
         "yaxis": "y"
        },
        {
         "hovertemplate": "County=Briscoe County<br>Year=%{x}<br>NonViolent_Offenses=%{y}<extra></extra>",
         "legendgroup": "Briscoe County",
         "line": {
          "color": "#00cc96",
          "dash": "solid"
         },
         "marker": {
          "symbol": "circle"
         },
         "mode": "lines",
         "name": "Briscoe County",
         "showlegend": true,
         "type": "scattergl",
         "x": [
          2015,
          2016,
          2017,
          2018,
          2019,
          2020
         ],
         "xaxis": "x",
         "y": [
          9,
          13,
          8,
          7,
          4,
          6
         ],
         "yaxis": "y"
        },
        {
         "hovertemplate": "County=Brooks County<br>Year=%{x}<br>NonViolent_Offenses=%{y}<extra></extra>",
         "legendgroup": "Brooks County",
         "line": {
          "color": "#ab63fa",
          "dash": "solid"
         },
         "marker": {
          "symbol": "circle"
         },
         "mode": "lines",
         "name": "Brooks County",
         "showlegend": true,
         "type": "scattergl",
         "x": [
          2015,
          2016,
          2017,
          2018,
          2019,
          2020
         ],
         "xaxis": "x",
         "y": [
          128,
          151,
          186,
          143,
          111,
          108
         ],
         "yaxis": "y"
        },
        {
         "hovertemplate": "County=Brown County<br>Year=%{x}<br>NonViolent_Offenses=%{y}<extra></extra>",
         "legendgroup": "Brown County",
         "line": {
          "color": "#FFA15A",
          "dash": "solid"
         },
         "marker": {
          "symbol": "circle"
         },
         "mode": "lines",
         "name": "Brown County",
         "showlegend": true,
         "type": "scattergl",
         "x": [
          2015,
          2016,
          2017,
          2018,
          2019,
          2020
         ],
         "xaxis": "x",
         "y": [
          959,
          835,
          896,
          756,
          899,
          888
         ],
         "yaxis": "y"
        },
        {
         "hovertemplate": "County=Burleson County<br>Year=%{x}<br>NonViolent_Offenses=%{y}<extra></extra>",
         "legendgroup": "Burleson County",
         "line": {
          "color": "#19d3f3",
          "dash": "solid"
         },
         "marker": {
          "symbol": "circle"
         },
         "mode": "lines",
         "name": "Burleson County",
         "showlegend": true,
         "type": "scattergl",
         "x": [
          2015,
          2016,
          2017,
          2018,
          2019,
          2020
         ],
         "xaxis": "x",
         "y": [
          197,
          156,
          162,
          180,
          145,
          192
         ],
         "yaxis": "y"
        },
        {
         "hovertemplate": "County=Burnet County<br>Year=%{x}<br>NonViolent_Offenses=%{y}<extra></extra>",
         "legendgroup": "Burnet County",
         "line": {
          "color": "#FF6692",
          "dash": "solid"
         },
         "marker": {
          "symbol": "circle"
         },
         "mode": "lines",
         "name": "Burnet County",
         "showlegend": true,
         "type": "scattergl",
         "x": [
          2015,
          2016,
          2017,
          2018,
          2019,
          2020
         ],
         "xaxis": "x",
         "y": [
          653,
          774,
          628,
          583,
          620,
          499
         ],
         "yaxis": "y"
        },
        {
         "hovertemplate": "County=Caldwell County<br>Year=%{x}<br>NonViolent_Offenses=%{y}<extra></extra>",
         "legendgroup": "Caldwell County",
         "line": {
          "color": "#B6E880",
          "dash": "solid"
         },
         "marker": {
          "symbol": "circle"
         },
         "mode": "lines",
         "name": "Caldwell County",
         "showlegend": true,
         "type": "scattergl",
         "x": [
          2015,
          2016,
          2017,
          2018,
          2019,
          2020
         ],
         "xaxis": "x",
         "y": [
          679,
          571,
          568,
          387,
          350,
          343
         ],
         "yaxis": "y"
        },
        {
         "hovertemplate": "County=Calhoun County<br>Year=%{x}<br>NonViolent_Offenses=%{y}<extra></extra>",
         "legendgroup": "Calhoun County",
         "line": {
          "color": "#FF97FF",
          "dash": "solid"
         },
         "marker": {
          "symbol": "circle"
         },
         "mode": "lines",
         "name": "Calhoun County",
         "showlegend": true,
         "type": "scattergl",
         "x": [
          2015,
          2016,
          2017,
          2018,
          2019,
          2020
         ],
         "xaxis": "x",
         "y": [
          402,
          586,
          342,
          274,
          269,
          201
         ],
         "yaxis": "y"
        },
        {
         "hovertemplate": "County=Callahan County<br>Year=%{x}<br>NonViolent_Offenses=%{y}<extra></extra>",
         "legendgroup": "Callahan County",
         "line": {
          "color": "#FECB52",
          "dash": "solid"
         },
         "marker": {
          "symbol": "circle"
         },
         "mode": "lines",
         "name": "Callahan County",
         "showlegend": true,
         "type": "scattergl",
         "x": [
          2015,
          2016,
          2017,
          2018,
          2019,
          2020
         ],
         "xaxis": "x",
         "y": [
          173,
          156,
          132,
          143,
          127,
          112
         ],
         "yaxis": "y"
        },
        {
         "hovertemplate": "County=Cameron County<br>Year=%{x}<br>NonViolent_Offenses=%{y}<extra></extra>",
         "legendgroup": "Cameron County",
         "line": {
          "color": "#636efa",
          "dash": "solid"
         },
         "marker": {
          "symbol": "circle"
         },
         "mode": "lines",
         "name": "Cameron County",
         "showlegend": true,
         "type": "scattergl",
         "x": [
          2015,
          2016,
          2017,
          2018,
          2019,
          2020
         ],
         "xaxis": "x",
         "y": [
          13704,
          12102,
          11128,
          10902,
          10735,
          8166
         ],
         "yaxis": "y"
        },
        {
         "hovertemplate": "County=Camp County<br>Year=%{x}<br>NonViolent_Offenses=%{y}<extra></extra>",
         "legendgroup": "Camp County",
         "line": {
          "color": "#EF553B",
          "dash": "solid"
         },
         "marker": {
          "symbol": "circle"
         },
         "mode": "lines",
         "name": "Camp County",
         "showlegend": true,
         "type": "scattergl",
         "x": [
          2015,
          2016,
          2017,
          2018,
          2019,
          2020
         ],
         "xaxis": "x",
         "y": [
          291,
          226,
          249,
          175,
          132,
          123
         ],
         "yaxis": "y"
        },
        {
         "hovertemplate": "County=Carson County<br>Year=%{x}<br>NonViolent_Offenses=%{y}<extra></extra>",
         "legendgroup": "Carson County",
         "line": {
          "color": "#00cc96",
          "dash": "solid"
         },
         "marker": {
          "symbol": "circle"
         },
         "mode": "lines",
         "name": "Carson County",
         "showlegend": true,
         "type": "scattergl",
         "x": [
          2015,
          2016,
          2017,
          2018,
          2019,
          2020
         ],
         "xaxis": "x",
         "y": [
          53,
          53,
          36,
          51,
          50,
          29
         ],
         "yaxis": "y"
        },
        {
         "hovertemplate": "County=Cass County<br>Year=%{x}<br>NonViolent_Offenses=%{y}<extra></extra>",
         "legendgroup": "Cass County",
         "line": {
          "color": "#ab63fa",
          "dash": "solid"
         },
         "marker": {
          "symbol": "circle"
         },
         "mode": "lines",
         "name": "Cass County",
         "showlegend": true,
         "type": "scattergl",
         "x": [
          2015,
          2016,
          2017,
          2018,
          2019,
          2020
         ],
         "xaxis": "x",
         "y": [
          686,
          635,
          519,
          451,
          418,
          400
         ],
         "yaxis": "y"
        },
        {
         "hovertemplate": "County=Castro County<br>Year=%{x}<br>NonViolent_Offenses=%{y}<extra></extra>",
         "legendgroup": "Castro County",
         "line": {
          "color": "#FFA15A",
          "dash": "solid"
         },
         "marker": {
          "symbol": "circle"
         },
         "mode": "lines",
         "name": "Castro County",
         "showlegend": true,
         "type": "scattergl",
         "x": [
          2015,
          2016,
          2017,
          2018,
          2019,
          2020
         ],
         "xaxis": "x",
         "y": [
          184,
          164,
          139,
          88,
          73,
          44
         ],
         "yaxis": "y"
        },
        {
         "hovertemplate": "County=Chambers County<br>Year=%{x}<br>NonViolent_Offenses=%{y}<extra></extra>",
         "legendgroup": "Chambers County",
         "line": {
          "color": "#19d3f3",
          "dash": "solid"
         },
         "marker": {
          "symbol": "circle"
         },
         "mode": "lines",
         "name": "Chambers County",
         "showlegend": true,
         "type": "scattergl",
         "x": [
          2015,
          2016,
          2017,
          2018,
          2019,
          2020
         ],
         "xaxis": "x",
         "y": [
          847,
          846,
          715,
          724,
          779,
          724
         ],
         "yaxis": "y"
        },
        {
         "hovertemplate": "County=Cherokee County<br>Year=%{x}<br>NonViolent_Offenses=%{y}<extra></extra>",
         "legendgroup": "Cherokee County",
         "line": {
          "color": "#FF6692",
          "dash": "solid"
         },
         "marker": {
          "symbol": "circle"
         },
         "mode": "lines",
         "name": "Cherokee County",
         "showlegend": true,
         "type": "scattergl",
         "x": [
          2015,
          2016,
          2017,
          2018,
          2019,
          2020
         ],
         "xaxis": "x",
         "y": [
          1029,
          1047,
          939,
          894,
          789,
          773
         ],
         "yaxis": "y"
        },
        {
         "hovertemplate": "County=Childress County<br>Year=%{x}<br>NonViolent_Offenses=%{y}<extra></extra>",
         "legendgroup": "Childress County",
         "line": {
          "color": "#B6E880",
          "dash": "solid"
         },
         "marker": {
          "symbol": "circle"
         },
         "mode": "lines",
         "name": "Childress County",
         "showlegend": true,
         "type": "scattergl",
         "x": [
          2015,
          2016,
          2017,
          2018,
          2019,
          2020
         ],
         "xaxis": "x",
         "y": [
          11,
          10,
          12,
          10,
          43,
          41
         ],
         "yaxis": "y"
        },
        {
         "hovertemplate": "County=Clay County<br>Year=%{x}<br>NonViolent_Offenses=%{y}<extra></extra>",
         "legendgroup": "Clay County",
         "line": {
          "color": "#FF97FF",
          "dash": "solid"
         },
         "marker": {
          "symbol": "circle"
         },
         "mode": "lines",
         "name": "Clay County",
         "showlegend": true,
         "type": "scattergl",
         "x": [
          2015,
          2016,
          2017,
          2018,
          2019,
          2020
         ],
         "xaxis": "x",
         "y": [
          136,
          100,
          137,
          124,
          103,
          92
         ],
         "yaxis": "y"
        },
        {
         "hovertemplate": "County=Cochran County<br>Year=%{x}<br>NonViolent_Offenses=%{y}<extra></extra>",
         "legendgroup": "Cochran County",
         "line": {
          "color": "#FECB52",
          "dash": "solid"
         },
         "marker": {
          "symbol": "circle"
         },
         "mode": "lines",
         "name": "Cochran County",
         "showlegend": true,
         "type": "scattergl",
         "x": [
          2015,
          2016,
          2017,
          2018,
          2019,
          2020
         ],
         "xaxis": "x",
         "y": [
          103,
          76,
          3,
          2,
          27,
          45
         ],
         "yaxis": "y"
        },
        {
         "hovertemplate": "County=Coke County<br>Year=%{x}<br>NonViolent_Offenses=%{y}<extra></extra>",
         "legendgroup": "Coke County",
         "line": {
          "color": "#636efa",
          "dash": "solid"
         },
         "marker": {
          "symbol": "circle"
         },
         "mode": "lines",
         "name": "Coke County",
         "showlegend": true,
         "type": "scattergl",
         "x": [
          2015,
          2016,
          2017,
          2018,
          2019,
          2020
         ],
         "xaxis": "x",
         "y": [
          15,
          29,
          2,
          1,
          14,
          18
         ],
         "yaxis": "y"
        },
        {
         "hovertemplate": "County=Coleman County<br>Year=%{x}<br>NonViolent_Offenses=%{y}<extra></extra>",
         "legendgroup": "Coleman County",
         "line": {
          "color": "#EF553B",
          "dash": "solid"
         },
         "marker": {
          "symbol": "circle"
         },
         "mode": "lines",
         "name": "Coleman County",
         "showlegend": true,
         "type": "scattergl",
         "x": [
          2015,
          2016,
          2017,
          2018,
          2019,
          2020
         ],
         "xaxis": "x",
         "y": [
          103,
          77,
          45,
          42,
          39,
          20
         ],
         "yaxis": "y"
        },
        {
         "hovertemplate": "County=Collin County<br>Year=%{x}<br>NonViolent_Offenses=%{y}<extra></extra>",
         "legendgroup": "Collin County",
         "line": {
          "color": "#00cc96",
          "dash": "solid"
         },
         "marker": {
          "symbol": "circle"
         },
         "mode": "lines",
         "name": "Collin County",
         "showlegend": true,
         "type": "scattergl",
         "x": [
          2015,
          2016,
          2017,
          2018,
          2019,
          2020
         ],
         "xaxis": "x",
         "y": [
          12817,
          13097,
          13145,
          12652,
          12066,
          11673
         ],
         "yaxis": "y"
        },
        {
         "hovertemplate": "County=Collingsworth County<br>Year=%{x}<br>NonViolent_Offenses=%{y}<extra></extra>",
         "legendgroup": "Collingsworth County",
         "line": {
          "color": "#ab63fa",
          "dash": "solid"
         },
         "marker": {
          "symbol": "circle"
         },
         "mode": "lines",
         "name": "Collingsworth County",
         "showlegend": true,
         "type": "scattergl",
         "x": [
          2015,
          2016,
          2018,
          2020
         ],
         "xaxis": "x",
         "y": [
          17,
          12,
          0,
          0
         ],
         "yaxis": "y"
        },
        {
         "hovertemplate": "County=Colorado County<br>Year=%{x}<br>NonViolent_Offenses=%{y}<extra></extra>",
         "legendgroup": "Colorado County",
         "line": {
          "color": "#FFA15A",
          "dash": "solid"
         },
         "marker": {
          "symbol": "circle"
         },
         "mode": "lines",
         "name": "Colorado County",
         "showlegend": true,
         "type": "scattergl",
         "x": [
          2015,
          2016,
          2017,
          2018,
          2019,
          2020
         ],
         "xaxis": "x",
         "y": [
          282,
          226,
          205,
          201,
          231,
          291
         ],
         "yaxis": "y"
        },
        {
         "hovertemplate": "County=Comal County<br>Year=%{x}<br>NonViolent_Offenses=%{y}<extra></extra>",
         "legendgroup": "Comal County",
         "line": {
          "color": "#19d3f3",
          "dash": "solid"
         },
         "marker": {
          "symbol": "circle"
         },
         "mode": "lines",
         "name": "Comal County",
         "showlegend": true,
         "type": "scattergl",
         "x": [
          2015,
          2016,
          2017,
          2018,
          2019,
          2020
         ],
         "xaxis": "x",
         "y": [
          2905,
          2618,
          2175,
          1855,
          1860,
          1942
         ],
         "yaxis": "y"
        },
        {
         "hovertemplate": "County=Comanche County<br>Year=%{x}<br>NonViolent_Offenses=%{y}<extra></extra>",
         "legendgroup": "Comanche County",
         "line": {
          "color": "#FF6692",
          "dash": "solid"
         },
         "marker": {
          "symbol": "circle"
         },
         "mode": "lines",
         "name": "Comanche County",
         "showlegend": true,
         "type": "scattergl",
         "x": [
          2015,
          2016,
          2017,
          2018,
          2019,
          2020
         ],
         "xaxis": "x",
         "y": [
          263,
          280,
          206,
          181,
          201,
          191
         ],
         "yaxis": "y"
        },
        {
         "hovertemplate": "County=Concho County<br>Year=%{x}<br>NonViolent_Offenses=%{y}<extra></extra>",
         "legendgroup": "Concho County",
         "line": {
          "color": "#B6E880",
          "dash": "solid"
         },
         "marker": {
          "symbol": "circle"
         },
         "mode": "lines",
         "name": "Concho County",
         "showlegend": true,
         "type": "scattergl",
         "x": [
          2015,
          2016,
          2017,
          2018,
          2019,
          2020
         ],
         "xaxis": "x",
         "y": [
          1,
          14,
          14,
          9,
          8,
          8
         ],
         "yaxis": "y"
        },
        {
         "hovertemplate": "County=Cooke County<br>Year=%{x}<br>NonViolent_Offenses=%{y}<extra></extra>",
         "legendgroup": "Cooke County",
         "line": {
          "color": "#FF97FF",
          "dash": "solid"
         },
         "marker": {
          "symbol": "circle"
         },
         "mode": "lines",
         "name": "Cooke County",
         "showlegend": true,
         "type": "scattergl",
         "x": [
          2015,
          2016,
          2017,
          2018,
          2019,
          2020
         ],
         "xaxis": "x",
         "y": [
          714,
          712,
          679,
          479,
          472,
          677
         ],
         "yaxis": "y"
        },
        {
         "hovertemplate": "County=Coryell County<br>Year=%{x}<br>NonViolent_Offenses=%{y}<extra></extra>",
         "legendgroup": "Coryell County",
         "line": {
          "color": "#FECB52",
          "dash": "solid"
         },
         "marker": {
          "symbol": "circle"
         },
         "mode": "lines",
         "name": "Coryell County",
         "showlegend": true,
         "type": "scattergl",
         "x": [
          2015,
          2016,
          2017,
          2018,
          2019,
          2020
         ],
         "xaxis": "x",
         "y": [
          1265,
          1209,
          1159,
          924,
          949,
          957
         ],
         "yaxis": "y"
        },
        {
         "hovertemplate": "County=Cottle County<br>Year=%{x}<br>NonViolent_Offenses=%{y}<extra></extra>",
         "legendgroup": "Cottle County",
         "line": {
          "color": "#636efa",
          "dash": "solid"
         },
         "marker": {
          "symbol": "circle"
         },
         "mode": "lines",
         "name": "Cottle County",
         "showlegend": true,
         "type": "scattergl",
         "x": [
          2015,
          2016,
          2017,
          2018
         ],
         "xaxis": "x",
         "y": [
          3,
          10,
          2,
          3
         ],
         "yaxis": "y"
        },
        {
         "hovertemplate": "County=Crane County<br>Year=%{x}<br>NonViolent_Offenses=%{y}<extra></extra>",
         "legendgroup": "Crane County",
         "line": {
          "color": "#EF553B",
          "dash": "solid"
         },
         "marker": {
          "symbol": "circle"
         },
         "mode": "lines",
         "name": "Crane County",
         "showlegend": true,
         "type": "scattergl",
         "x": [
          2015,
          2016,
          2017,
          2018,
          2019,
          2020
         ],
         "xaxis": "x",
         "y": [
          25,
          34,
          26,
          17,
          20,
          25
         ],
         "yaxis": "y"
        },
        {
         "hovertemplate": "County=Crockett County<br>Year=%{x}<br>NonViolent_Offenses=%{y}<extra></extra>",
         "legendgroup": "Crockett County",
         "line": {
          "color": "#00cc96",
          "dash": "solid"
         },
         "marker": {
          "symbol": "circle"
         },
         "mode": "lines",
         "name": "Crockett County",
         "showlegend": true,
         "type": "scattergl",
         "x": [
          2015,
          2016,
          2017,
          2018,
          2019,
          2020
         ],
         "xaxis": "x",
         "y": [
          51,
          37,
          33,
          117,
          18,
          11
         ],
         "yaxis": "y"
        },
        {
         "hovertemplate": "County=Crosby County<br>Year=%{x}<br>NonViolent_Offenses=%{y}<extra></extra>",
         "legendgroup": "Crosby County",
         "line": {
          "color": "#ab63fa",
          "dash": "solid"
         },
         "marker": {
          "symbol": "circle"
         },
         "mode": "lines",
         "name": "Crosby County",
         "showlegend": true,
         "type": "scattergl",
         "x": [
          2015,
          2016,
          2017,
          2018,
          2019,
          2020
         ],
         "xaxis": "x",
         "y": [
          27,
          27,
          8,
          48,
          46,
          39
         ],
         "yaxis": "y"
        },
        {
         "hovertemplate": "County=Culberson County<br>Year=%{x}<br>NonViolent_Offenses=%{y}<extra></extra>",
         "legendgroup": "Culberson County",
         "line": {
          "color": "#FFA15A",
          "dash": "solid"
         },
         "marker": {
          "symbol": "circle"
         },
         "mode": "lines",
         "name": "Culberson County",
         "showlegend": true,
         "type": "scattergl",
         "x": [
          2015,
          2016,
          2017,
          2018,
          2019,
          2020
         ],
         "xaxis": "x",
         "y": [
          0,
          0,
          0,
          0,
          0,
          0
         ],
         "yaxis": "y"
        },
        {
         "hovertemplate": "County=Dallam County<br>Year=%{x}<br>NonViolent_Offenses=%{y}<extra></extra>",
         "legendgroup": "Dallam County",
         "line": {
          "color": "#19d3f3",
          "dash": "solid"
         },
         "marker": {
          "symbol": "circle"
         },
         "mode": "lines",
         "name": "Dallam County",
         "showlegend": true,
         "type": "scattergl",
         "x": [
          2015,
          2016,
          2017,
          2018,
          2019,
          2020
         ],
         "xaxis": "x",
         "y": [
          231,
          314,
          279,
          184,
          177,
          161
         ],
         "yaxis": "y"
        },
        {
         "hovertemplate": "County=Dallas County<br>Year=%{x}<br>NonViolent_Offenses=%{y}<extra></extra>",
         "legendgroup": "Dallas County",
         "line": {
          "color": "#FF6692",
          "dash": "solid"
         },
         "marker": {
          "symbol": "circle"
         },
         "mode": "lines",
         "name": "Dallas County",
         "showlegend": true,
         "type": "scattergl",
         "x": [
          2015,
          2016,
          2017,
          2018,
          2019,
          2020
         ],
         "xaxis": "x",
         "y": [
          86586,
          87710,
          83296,
          82955,
          83435,
          83442
         ],
         "yaxis": "y"
        },
        {
         "hovertemplate": "County=Dawson County<br>Year=%{x}<br>NonViolent_Offenses=%{y}<extra></extra>",
         "legendgroup": "Dawson County",
         "line": {
          "color": "#B6E880",
          "dash": "solid"
         },
         "marker": {
          "symbol": "circle"
         },
         "mode": "lines",
         "name": "Dawson County",
         "showlegend": true,
         "type": "scattergl",
         "x": [
          2015,
          2016,
          2017,
          2018,
          2019,
          2020
         ],
         "xaxis": "x",
         "y": [
          445,
          416,
          132,
          425,
          462,
          429
         ],
         "yaxis": "y"
        },
        {
         "hovertemplate": "County=DeWitt County<br>Year=%{x}<br>NonViolent_Offenses=%{y}<extra></extra>",
         "legendgroup": "DeWitt County",
         "line": {
          "color": "#FF97FF",
          "dash": "solid"
         },
         "marker": {
          "symbol": "circle"
         },
         "mode": "lines",
         "name": "DeWitt County",
         "showlegend": true,
         "type": "scattergl",
         "x": [
          2015,
          2016,
          2017,
          2018,
          2019,
          2020
         ],
         "xaxis": "x",
         "y": [
          504,
          343,
          348,
          411,
          305,
          277
         ],
         "yaxis": "y"
        },
        {
         "hovertemplate": "County=Deaf Smith County<br>Year=%{x}<br>NonViolent_Offenses=%{y}<extra></extra>",
         "legendgroup": "Deaf Smith County",
         "line": {
          "color": "#FECB52",
          "dash": "solid"
         },
         "marker": {
          "symbol": "circle"
         },
         "mode": "lines",
         "name": "Deaf Smith County",
         "showlegend": true,
         "type": "scattergl",
         "x": [
          2015,
          2016,
          2017,
          2018,
          2019,
          2020
         ],
         "xaxis": "x",
         "y": [
          428,
          451,
          411,
          402,
          370,
          335
         ],
         "yaxis": "y"
        },
        {
         "hovertemplate": "County=Delta County<br>Year=%{x}<br>NonViolent_Offenses=%{y}<extra></extra>",
         "legendgroup": "Delta County",
         "line": {
          "color": "#636efa",
          "dash": "solid"
         },
         "marker": {
          "symbol": "circle"
         },
         "mode": "lines",
         "name": "Delta County",
         "showlegend": true,
         "type": "scattergl",
         "x": [
          2015,
          2016,
          2017,
          2018,
          2019,
          2020
         ],
         "xaxis": "x",
         "y": [
          33,
          28,
          24,
          29,
          27,
          13
         ],
         "yaxis": "y"
        },
        {
         "hovertemplate": "County=Denton County<br>Year=%{x}<br>NonViolent_Offenses=%{y}<extra></extra>",
         "legendgroup": "Denton County",
         "line": {
          "color": "#EF553B",
          "dash": "solid"
         },
         "marker": {
          "symbol": "circle"
         },
         "mode": "lines",
         "name": "Denton County",
         "showlegend": true,
         "type": "scattergl",
         "x": [
          2015,
          2016,
          2017,
          2018,
          2019,
          2020
         ],
         "xaxis": "x",
         "y": [
          8743,
          9045,
          8696,
          8829,
          8588,
          8469
         ],
         "yaxis": "y"
        },
        {
         "hovertemplate": "County=Dickens County<br>Year=%{x}<br>NonViolent_Offenses=%{y}<extra></extra>",
         "legendgroup": "Dickens County",
         "line": {
          "color": "#00cc96",
          "dash": "solid"
         },
         "marker": {
          "symbol": "circle"
         },
         "mode": "lines",
         "name": "Dickens County",
         "showlegend": true,
         "type": "scattergl",
         "x": [
          2015,
          2016,
          2017,
          2018,
          2019,
          2020
         ],
         "xaxis": "x",
         "y": [
          16,
          25,
          9,
          5,
          8,
          5
         ],
         "yaxis": "y"
        },
        {
         "hovertemplate": "County=Dimmit County<br>Year=%{x}<br>NonViolent_Offenses=%{y}<extra></extra>",
         "legendgroup": "Dimmit County",
         "line": {
          "color": "#ab63fa",
          "dash": "solid"
         },
         "marker": {
          "symbol": "circle"
         },
         "mode": "lines",
         "name": "Dimmit County",
         "showlegend": true,
         "type": "scattergl",
         "x": [
          2015,
          2016,
          2017,
          2018,
          2019,
          2020
         ],
         "xaxis": "x",
         "y": [
          273,
          182,
          125,
          116,
          139,
          114
         ],
         "yaxis": "y"
        },
        {
         "hovertemplate": "County=Donley County<br>Year=%{x}<br>NonViolent_Offenses=%{y}<extra></extra>",
         "legendgroup": "Donley County",
         "line": {
          "color": "#FFA15A",
          "dash": "solid"
         },
         "marker": {
          "symbol": "circle"
         },
         "mode": "lines",
         "name": "Donley County",
         "showlegend": true,
         "type": "scattergl",
         "x": [
          2015,
          2016,
          2017,
          2018,
          2019,
          2020
         ],
         "xaxis": "x",
         "y": [
          56,
          45,
          42,
          37,
          30,
          23
         ],
         "yaxis": "y"
        },
        {
         "hovertemplate": "County=Duval County<br>Year=%{x}<br>NonViolent_Offenses=%{y}<extra></extra>",
         "legendgroup": "Duval County",
         "line": {
          "color": "#19d3f3",
          "dash": "solid"
         },
         "marker": {
          "symbol": "circle"
         },
         "mode": "lines",
         "name": "Duval County",
         "showlegend": true,
         "type": "scattergl",
         "x": [
          2015,
          2016,
          2017,
          2018,
          2019,
          2020
         ],
         "xaxis": "x",
         "y": [
          258,
          221,
          47,
          154,
          125,
          146
         ],
         "yaxis": "y"
        },
        {
         "hovertemplate": "County=Eastland County<br>Year=%{x}<br>NonViolent_Offenses=%{y}<extra></extra>",
         "legendgroup": "Eastland County",
         "line": {
          "color": "#FF6692",
          "dash": "solid"
         },
         "marker": {
          "symbol": "circle"
         },
         "mode": "lines",
         "name": "Eastland County",
         "showlegend": true,
         "type": "scattergl",
         "x": [
          2015,
          2016,
          2017,
          2018,
          2019,
          2020
         ],
         "xaxis": "x",
         "y": [
          469,
          305,
          228,
          200,
          168,
          212
         ],
         "yaxis": "y"
        },
        {
         "hovertemplate": "County=Ector County<br>Year=%{x}<br>NonViolent_Offenses=%{y}<extra></extra>",
         "legendgroup": "Ector County",
         "line": {
          "color": "#B6E880",
          "dash": "solid"
         },
         "marker": {
          "symbol": "circle"
         },
         "mode": "lines",
         "name": "Ector County",
         "showlegend": true,
         "type": "scattergl",
         "x": [
          2015,
          2016,
          2017,
          2018,
          2019,
          2020
         ],
         "xaxis": "x",
         "y": [
          6799,
          6206,
          4790,
          4625,
          5270,
          5084
         ],
         "yaxis": "y"
        },
        {
         "hovertemplate": "County=Edwards County<br>Year=%{x}<br>NonViolent_Offenses=%{y}<extra></extra>",
         "legendgroup": "Edwards County",
         "line": {
          "color": "#FF97FF",
          "dash": "solid"
         },
         "marker": {
          "symbol": "circle"
         },
         "mode": "lines",
         "name": "Edwards County",
         "showlegend": true,
         "type": "scattergl",
         "x": [
          2015,
          2016,
          2017,
          2018,
          2019,
          2020
         ],
         "xaxis": "x",
         "y": [
          21,
          18,
          26,
          21,
          5,
          0
         ],
         "yaxis": "y"
        },
        {
         "hovertemplate": "County=El Paso County<br>Year=%{x}<br>NonViolent_Offenses=%{y}<extra></extra>",
         "legendgroup": "El Paso County",
         "line": {
          "color": "#FECB52",
          "dash": "solid"
         },
         "marker": {
          "symbol": "circle"
         },
         "mode": "lines",
         "name": "El Paso County",
         "showlegend": true,
         "type": "scattergl",
         "x": [
          2015,
          2016,
          2017,
          2018,
          2019,
          2020
         ],
         "xaxis": "x",
         "y": [
          15350,
          14365,
          14259,
          11940,
          12074,
          10035
         ],
         "yaxis": "y"
        },
        {
         "hovertemplate": "County=Ellis County<br>Year=%{x}<br>NonViolent_Offenses=%{y}<extra></extra>",
         "legendgroup": "Ellis County",
         "line": {
          "color": "#636efa",
          "dash": "solid"
         },
         "marker": {
          "symbol": "circle"
         },
         "mode": "lines",
         "name": "Ellis County",
         "showlegend": true,
         "type": "scattergl",
         "x": [
          2015,
          2016,
          2017,
          2018,
          2019,
          2020
         ],
         "xaxis": "x",
         "y": [
          2640,
          2646,
          2564,
          2035,
          2225,
          2145
         ],
         "yaxis": "y"
        },
        {
         "hovertemplate": "County=Erath County<br>Year=%{x}<br>NonViolent_Offenses=%{y}<extra></extra>",
         "legendgroup": "Erath County",
         "line": {
          "color": "#EF553B",
          "dash": "solid"
         },
         "marker": {
          "symbol": "circle"
         },
         "mode": "lines",
         "name": "Erath County",
         "showlegend": true,
         "type": "scattergl",
         "x": [
          2015,
          2016,
          2017,
          2018,
          2019,
          2020
         ],
         "xaxis": "x",
         "y": [
          615,
          714,
          574,
          583,
          559,
          443
         ],
         "yaxis": "y"
        },
        {
         "hovertemplate": "County=Falls County<br>Year=%{x}<br>NonViolent_Offenses=%{y}<extra></extra>",
         "legendgroup": "Falls County",
         "line": {
          "color": "#00cc96",
          "dash": "solid"
         },
         "marker": {
          "symbol": "circle"
         },
         "mode": "lines",
         "name": "Falls County",
         "showlegend": true,
         "type": "scattergl",
         "x": [
          2015,
          2016,
          2017,
          2018,
          2019,
          2020
         ],
         "xaxis": "x",
         "y": [
          169,
          110,
          9,
          104,
          111,
          93
         ],
         "yaxis": "y"
        },
        {
         "hovertemplate": "County=Fannin County<br>Year=%{x}<br>NonViolent_Offenses=%{y}<extra></extra>",
         "legendgroup": "Fannin County",
         "line": {
          "color": "#ab63fa",
          "dash": "solid"
         },
         "marker": {
          "symbol": "circle"
         },
         "mode": "lines",
         "name": "Fannin County",
         "showlegend": true,
         "type": "scattergl",
         "x": [
          2015,
          2016,
          2017,
          2018,
          2019,
          2020
         ],
         "xaxis": "x",
         "y": [
          381,
          335,
          362,
          346,
          387,
          282
         ],
         "yaxis": "y"
        },
        {
         "hovertemplate": "County=Fayette County<br>Year=%{x}<br>NonViolent_Offenses=%{y}<extra></extra>",
         "legendgroup": "Fayette County",
         "line": {
          "color": "#FFA15A",
          "dash": "solid"
         },
         "marker": {
          "symbol": "circle"
         },
         "mode": "lines",
         "name": "Fayette County",
         "showlegend": true,
         "type": "scattergl",
         "x": [
          2015,
          2016,
          2017,
          2018,
          2019,
          2020
         ],
         "xaxis": "x",
         "y": [
          321,
          288,
          292,
          287,
          270,
          265
         ],
         "yaxis": "y"
        },
        {
         "hovertemplate": "County=Fisher County<br>Year=%{x}<br>NonViolent_Offenses=%{y}<extra></extra>",
         "legendgroup": "Fisher County",
         "line": {
          "color": "#19d3f3",
          "dash": "solid"
         },
         "marker": {
          "symbol": "circle"
         },
         "mode": "lines",
         "name": "Fisher County",
         "showlegend": true,
         "type": "scattergl",
         "x": [
          2015,
          2016,
          2017,
          2019,
          2020
         ],
         "xaxis": "x",
         "y": [
          77,
          53,
          6,
          14,
          9
         ],
         "yaxis": "y"
        },
        {
         "hovertemplate": "County=Floyd County<br>Year=%{x}<br>NonViolent_Offenses=%{y}<extra></extra>",
         "legendgroup": "Floyd County",
         "line": {
          "color": "#FF6692",
          "dash": "solid"
         },
         "marker": {
          "symbol": "circle"
         },
         "mode": "lines",
         "name": "Floyd County",
         "showlegend": true,
         "type": "scattergl",
         "x": [
          2015,
          2016,
          2017,
          2018,
          2019,
          2020
         ],
         "xaxis": "x",
         "y": [
          104,
          101,
          88,
          72,
          60,
          64
         ],
         "yaxis": "y"
        },
        {
         "hovertemplate": "County=Foard County<br>Year=%{x}<br>NonViolent_Offenses=%{y}<extra></extra>",
         "legendgroup": "Foard County",
         "line": {
          "color": "#B6E880",
          "dash": "solid"
         },
         "marker": {
          "symbol": "circle"
         },
         "mode": "lines",
         "name": "Foard County",
         "showlegend": true,
         "type": "scattergl",
         "x": [
          2015,
          2016,
          2017,
          2018,
          2019,
          2020
         ],
         "xaxis": "x",
         "y": [
          0,
          0,
          0,
          0,
          3,
          0
         ],
         "yaxis": "y"
        },
        {
         "hovertemplate": "County=Fort Bend County<br>Year=%{x}<br>NonViolent_Offenses=%{y}<extra></extra>",
         "legendgroup": "Fort Bend County",
         "line": {
          "color": "#FF97FF",
          "dash": "solid"
         },
         "marker": {
          "symbol": "circle"
         },
         "mode": "lines",
         "name": "Fort Bend County",
         "showlegend": true,
         "type": "scattergl",
         "x": [
          2015,
          2016,
          2017,
          2018,
          2019,
          2020
         ],
         "xaxis": "x",
         "y": [
          10264,
          9190,
          8416,
          8223,
          9007,
          8422
         ],
         "yaxis": "y"
        },
        {
         "hovertemplate": "County=Franklin County<br>Year=%{x}<br>NonViolent_Offenses=%{y}<extra></extra>",
         "legendgroup": "Franklin County",
         "line": {
          "color": "#FECB52",
          "dash": "solid"
         },
         "marker": {
          "symbol": "circle"
         },
         "mode": "lines",
         "name": "Franklin County",
         "showlegend": true,
         "type": "scattergl",
         "x": [
          2015,
          2016,
          2017,
          2018,
          2019,
          2020
         ],
         "xaxis": "x",
         "y": [
          117,
          92,
          86,
          51,
          27,
          49
         ],
         "yaxis": "y"
        },
        {
         "hovertemplate": "County=Freestone County<br>Year=%{x}<br>NonViolent_Offenses=%{y}<extra></extra>",
         "legendgroup": "Freestone County",
         "line": {
          "color": "#636efa",
          "dash": "solid"
         },
         "marker": {
          "symbol": "circle"
         },
         "mode": "lines",
         "name": "Freestone County",
         "showlegend": true,
         "type": "scattergl",
         "x": [
          2015,
          2016,
          2017,
          2018,
          2019,
          2020
         ],
         "xaxis": "x",
         "y": [
          200,
          233,
          209,
          198,
          247,
          242
         ],
         "yaxis": "y"
        },
        {
         "hovertemplate": "County=Frio County<br>Year=%{x}<br>NonViolent_Offenses=%{y}<extra></extra>",
         "legendgroup": "Frio County",
         "line": {
          "color": "#EF553B",
          "dash": "solid"
         },
         "marker": {
          "symbol": "circle"
         },
         "mode": "lines",
         "name": "Frio County",
         "showlegend": true,
         "type": "scattergl",
         "x": [
          2015,
          2016,
          2017,
          2018,
          2019,
          2020
         ],
         "xaxis": "x",
         "y": [
          394,
          342,
          434,
          320,
          242,
          305
         ],
         "yaxis": "y"
        },
        {
         "hovertemplate": "County=Gaines County<br>Year=%{x}<br>NonViolent_Offenses=%{y}<extra></extra>",
         "legendgroup": "Gaines County",
         "line": {
          "color": "#00cc96",
          "dash": "solid"
         },
         "marker": {
          "symbol": "circle"
         },
         "mode": "lines",
         "name": "Gaines County",
         "showlegend": true,
         "type": "scattergl",
         "x": [
          2015,
          2016,
          2017,
          2018,
          2019,
          2020
         ],
         "xaxis": "x",
         "y": [
          252,
          235,
          223,
          210,
          202,
          186
         ],
         "yaxis": "y"
        },
        {
         "hovertemplate": "County=Galveston County<br>Year=%{x}<br>NonViolent_Offenses=%{y}<extra></extra>",
         "legendgroup": "Galveston County",
         "line": {
          "color": "#ab63fa",
          "dash": "solid"
         },
         "marker": {
          "symbol": "circle"
         },
         "mode": "lines",
         "name": "Galveston County",
         "showlegend": true,
         "type": "scattergl",
         "x": [
          2015,
          2016,
          2017,
          2018,
          2019,
          2020
         ],
         "xaxis": "x",
         "y": [
          8335,
          8839,
          8380,
          7795,
          7040,
          7211
         ],
         "yaxis": "y"
        },
        {
         "hovertemplate": "County=Garza County<br>Year=%{x}<br>NonViolent_Offenses=%{y}<extra></extra>",
         "legendgroup": "Garza County",
         "line": {
          "color": "#FFA15A",
          "dash": "solid"
         },
         "marker": {
          "symbol": "circle"
         },
         "mode": "lines",
         "name": "Garza County",
         "showlegend": true,
         "type": "scattergl",
         "x": [
          2015,
          2016,
          2017,
          2018,
          2019,
          2020
         ],
         "xaxis": "x",
         "y": [
          72,
          53,
          61,
          35,
          30,
          18
         ],
         "yaxis": "y"
        },
        {
         "hovertemplate": "County=Gillespie County<br>Year=%{x}<br>NonViolent_Offenses=%{y}<extra></extra>",
         "legendgroup": "Gillespie County",
         "line": {
          "color": "#19d3f3",
          "dash": "solid"
         },
         "marker": {
          "symbol": "circle"
         },
         "mode": "lines",
         "name": "Gillespie County",
         "showlegend": true,
         "type": "scattergl",
         "x": [
          2015,
          2016,
          2017,
          2018,
          2019,
          2020
         ],
         "xaxis": "x",
         "y": [
          232,
          271,
          215,
          167,
          186,
          143
         ],
         "yaxis": "y"
        },
        {
         "hovertemplate": "County=Glasscock County<br>Year=%{x}<br>NonViolent_Offenses=%{y}<extra></extra>",
         "legendgroup": "Glasscock County",
         "line": {
          "color": "#FF6692",
          "dash": "solid"
         },
         "marker": {
          "symbol": "circle"
         },
         "mode": "lines",
         "name": "Glasscock County",
         "showlegend": true,
         "type": "scattergl",
         "x": [
          2015,
          2016,
          2017,
          2018,
          2019,
          2020
         ],
         "xaxis": "x",
         "y": [
          10,
          17,
          27,
          21,
          26,
          20
         ],
         "yaxis": "y"
        },
        {
         "hovertemplate": "County=Goliad County<br>Year=%{x}<br>NonViolent_Offenses=%{y}<extra></extra>",
         "legendgroup": "Goliad County",
         "line": {
          "color": "#B6E880",
          "dash": "solid"
         },
         "marker": {
          "symbol": "circle"
         },
         "mode": "lines",
         "name": "Goliad County",
         "showlegend": true,
         "type": "scattergl",
         "x": [
          2015,
          2016,
          2017,
          2018,
          2019,
          2020
         ],
         "xaxis": "x",
         "y": [
          98,
          92,
          92,
          95,
          79,
          82
         ],
         "yaxis": "y"
        },
        {
         "hovertemplate": "County=Gonzales County<br>Year=%{x}<br>NonViolent_Offenses=%{y}<extra></extra>",
         "legendgroup": "Gonzales County",
         "line": {
          "color": "#FF97FF",
          "dash": "solid"
         },
         "marker": {
          "symbol": "circle"
         },
         "mode": "lines",
         "name": "Gonzales County",
         "showlegend": true,
         "type": "scattergl",
         "x": [
          2015,
          2016,
          2017,
          2018,
          2019,
          2020
         ],
         "xaxis": "x",
         "y": [
          377,
          351,
          264,
          239,
          296,
          188
         ],
         "yaxis": "y"
        },
        {
         "hovertemplate": "County=Gray County<br>Year=%{x}<br>NonViolent_Offenses=%{y}<extra></extra>",
         "legendgroup": "Gray County",
         "line": {
          "color": "#FECB52",
          "dash": "solid"
         },
         "marker": {
          "symbol": "circle"
         },
         "mode": "lines",
         "name": "Gray County",
         "showlegend": true,
         "type": "scattergl",
         "x": [
          2015,
          2016,
          2017,
          2018,
          2019,
          2020
         ],
         "xaxis": "x",
         "y": [
          1037,
          951,
          848,
          763,
          718,
          561
         ],
         "yaxis": "y"
        },
        {
         "hovertemplate": "County=Grayson County<br>Year=%{x}<br>NonViolent_Offenses=%{y}<extra></extra>",
         "legendgroup": "Grayson County",
         "line": {
          "color": "#636efa",
          "dash": "solid"
         },
         "marker": {
          "symbol": "circle"
         },
         "mode": "lines",
         "name": "Grayson County",
         "showlegend": true,
         "type": "scattergl",
         "x": [
          2015,
          2016,
          2017,
          2018,
          2019,
          2020
         ],
         "xaxis": "x",
         "y": [
          2590,
          2417,
          2507,
          2137,
          2154,
          2045
         ],
         "yaxis": "y"
        },
        {
         "hovertemplate": "County=Gregg County<br>Year=%{x}<br>NonViolent_Offenses=%{y}<extra></extra>",
         "legendgroup": "Gregg County",
         "line": {
          "color": "#EF553B",
          "dash": "solid"
         },
         "marker": {
          "symbol": "circle"
         },
         "mode": "lines",
         "name": "Gregg County",
         "showlegend": true,
         "type": "scattergl",
         "x": [
          2015,
          2016,
          2017,
          2018,
          2019,
          2020
         ],
         "xaxis": "x",
         "y": [
          5515,
          5128,
          3976,
          3482,
          3384,
          3280
         ],
         "yaxis": "y"
        },
        {
         "hovertemplate": "County=Grimes County<br>Year=%{x}<br>NonViolent_Offenses=%{y}<extra></extra>",
         "legendgroup": "Grimes County",
         "line": {
          "color": "#00cc96",
          "dash": "solid"
         },
         "marker": {
          "symbol": "circle"
         },
         "mode": "lines",
         "name": "Grimes County",
         "showlegend": true,
         "type": "scattergl",
         "x": [
          2015,
          2016,
          2017,
          2018,
          2019,
          2020
         ],
         "xaxis": "x",
         "y": [
          463,
          461,
          309,
          290,
          328,
          337
         ],
         "yaxis": "y"
        },
        {
         "hovertemplate": "County=Guadalupe County<br>Year=%{x}<br>NonViolent_Offenses=%{y}<extra></extra>",
         "legendgroup": "Guadalupe County",
         "line": {
          "color": "#ab63fa",
          "dash": "solid"
         },
         "marker": {
          "symbol": "circle"
         },
         "mode": "lines",
         "name": "Guadalupe County",
         "showlegend": true,
         "type": "scattergl",
         "x": [
          2015,
          2016,
          2017,
          2018,
          2019,
          2020
         ],
         "xaxis": "x",
         "y": [
          2440,
          2691,
          2470,
          2139,
          1973,
          1852
         ],
         "yaxis": "y"
        },
        {
         "hovertemplate": "County=Hale County<br>Year=%{x}<br>NonViolent_Offenses=%{y}<extra></extra>",
         "legendgroup": "Hale County",
         "line": {
          "color": "#FFA15A",
          "dash": "solid"
         },
         "marker": {
          "symbol": "circle"
         },
         "mode": "lines",
         "name": "Hale County",
         "showlegend": true,
         "type": "scattergl",
         "x": [
          2015,
          2016,
          2017,
          2018,
          2019,
          2020
         ],
         "xaxis": "x",
         "y": [
          1010,
          918,
          717,
          600,
          610,
          482
         ],
         "yaxis": "y"
        },
        {
         "hovertemplate": "County=Hall County<br>Year=%{x}<br>NonViolent_Offenses=%{y}<extra></extra>",
         "legendgroup": "Hall County",
         "line": {
          "color": "#19d3f3",
          "dash": "solid"
         },
         "marker": {
          "symbol": "circle"
         },
         "mode": "lines",
         "name": "Hall County",
         "showlegend": true,
         "type": "scattergl",
         "x": [
          2015,
          2016,
          2017,
          2018,
          2019,
          2020
         ],
         "xaxis": "x",
         "y": [
          14,
          31,
          12,
          47,
          18,
          9
         ],
         "yaxis": "y"
        },
        {
         "hovertemplate": "County=Hamilton County<br>Year=%{x}<br>NonViolent_Offenses=%{y}<extra></extra>",
         "legendgroup": "Hamilton County",
         "line": {
          "color": "#FF6692",
          "dash": "solid"
         },
         "marker": {
          "symbol": "circle"
         },
         "mode": "lines",
         "name": "Hamilton County",
         "showlegend": true,
         "type": "scattergl",
         "x": [
          2015,
          2016,
          2017,
          2018,
          2019,
          2020
         ],
         "xaxis": "x",
         "y": [
          130,
          115,
          88,
          81,
          50,
          53
         ],
         "yaxis": "y"
        },
        {
         "hovertemplate": "County=Hansford County<br>Year=%{x}<br>NonViolent_Offenses=%{y}<extra></extra>",
         "legendgroup": "Hansford County",
         "line": {
          "color": "#B6E880",
          "dash": "solid"
         },
         "marker": {
          "symbol": "circle"
         },
         "mode": "lines",
         "name": "Hansford County",
         "showlegend": true,
         "type": "scattergl",
         "x": [
          2015,
          2016,
          2017,
          2018,
          2019,
          2020
         ],
         "xaxis": "x",
         "y": [
          24,
          11,
          17,
          20,
          19,
          19
         ],
         "yaxis": "y"
        },
        {
         "hovertemplate": "County=Hardeman County<br>Year=%{x}<br>NonViolent_Offenses=%{y}<extra></extra>",
         "legendgroup": "Hardeman County",
         "line": {
          "color": "#FF97FF",
          "dash": "solid"
         },
         "marker": {
          "symbol": "circle"
         },
         "mode": "lines",
         "name": "Hardeman County",
         "showlegend": true,
         "type": "scattergl",
         "x": [
          2015,
          2016,
          2017,
          2018,
          2019,
          2020
         ],
         "xaxis": "x",
         "y": [
          36,
          44,
          38,
          6,
          18,
          25
         ],
         "yaxis": "y"
        },
        {
         "hovertemplate": "County=Hardin County<br>Year=%{x}<br>NonViolent_Offenses=%{y}<extra></extra>",
         "legendgroup": "Hardin County",
         "line": {
          "color": "#FECB52",
          "dash": "solid"
         },
         "marker": {
          "symbol": "circle"
         },
         "mode": "lines",
         "name": "Hardin County",
         "showlegend": true,
         "type": "scattergl",
         "x": [
          2015,
          2016,
          2017,
          2018,
          2019,
          2020
         ],
         "xaxis": "x",
         "y": [
          778,
          748,
          657,
          665,
          544,
          548
         ],
         "yaxis": "y"
        },
        {
         "hovertemplate": "County=Harris County<br>Year=%{x}<br>NonViolent_Offenses=%{y}<extra></extra>",
         "legendgroup": "Harris County",
         "line": {
          "color": "#636efa",
          "dash": "solid"
         },
         "marker": {
          "symbol": "circle"
         },
         "mode": "lines",
         "name": "Harris County",
         "showlegend": true,
         "type": "scattergl",
         "x": [
          2015,
          2016,
          2017,
          2018,
          2019,
          2020
         ],
         "xaxis": "x",
         "y": [
          162411,
          162905,
          154812,
          150312,
          160084,
          157068
         ],
         "yaxis": "y"
        },
        {
         "hovertemplate": "County=Harrison County<br>Year=%{x}<br>NonViolent_Offenses=%{y}<extra></extra>",
         "legendgroup": "Harrison County",
         "line": {
          "color": "#EF553B",
          "dash": "solid"
         },
         "marker": {
          "symbol": "circle"
         },
         "mode": "lines",
         "name": "Harrison County",
         "showlegend": true,
         "type": "scattergl",
         "x": [
          2015,
          2016,
          2017,
          2018,
          2019,
          2020
         ],
         "xaxis": "x",
         "y": [
          1159,
          1280,
          1585,
          1261,
          1301,
          979
         ],
         "yaxis": "y"
        },
        {
         "hovertemplate": "County=Hartley County<br>Year=%{x}<br>NonViolent_Offenses=%{y}<extra></extra>",
         "legendgroup": "Hartley County",
         "line": {
          "color": "#00cc96",
          "dash": "solid"
         },
         "marker": {
          "symbol": "circle"
         },
         "mode": "lines",
         "name": "Hartley County",
         "showlegend": true,
         "type": "scattergl",
         "x": [
          2015,
          2016,
          2017,
          2018,
          2019,
          2020
         ],
         "xaxis": "x",
         "y": [
          20,
          29,
          12,
          7,
          10,
          4
         ],
         "yaxis": "y"
        },
        {
         "hovertemplate": "County=Haskell County<br>Year=%{x}<br>NonViolent_Offenses=%{y}<extra></extra>",
         "legendgroup": "Haskell County",
         "line": {
          "color": "#ab63fa",
          "dash": "solid"
         },
         "marker": {
          "symbol": "circle"
         },
         "mode": "lines",
         "name": "Haskell County",
         "showlegend": true,
         "type": "scattergl",
         "x": [
          2015,
          2016,
          2017,
          2018,
          2019,
          2020
         ],
         "xaxis": "x",
         "y": [
          38,
          52,
          32,
          26,
          42,
          38
         ],
         "yaxis": "y"
        },
        {
         "hovertemplate": "County=Hays County<br>Year=%{x}<br>NonViolent_Offenses=%{y}<extra></extra>",
         "legendgroup": "Hays County",
         "line": {
          "color": "#FFA15A",
          "dash": "solid"
         },
         "marker": {
          "symbol": "circle"
         },
         "mode": "lines",
         "name": "Hays County",
         "showlegend": true,
         "type": "scattergl",
         "x": [
          2015,
          2016,
          2017,
          2018,
          2019,
          2020
         ],
         "xaxis": "x",
         "y": [
          3637,
          3940,
          3323,
          3042,
          3293,
          3126
         ],
         "yaxis": "y"
        },
        {
         "hovertemplate": "County=Hemphill County<br>Year=%{x}<br>NonViolent_Offenses=%{y}<extra></extra>",
         "legendgroup": "Hemphill County",
         "line": {
          "color": "#19d3f3",
          "dash": "solid"
         },
         "marker": {
          "symbol": "circle"
         },
         "mode": "lines",
         "name": "Hemphill County",
         "showlegend": true,
         "type": "scattergl",
         "x": [
          2015,
          2016,
          2017,
          2018,
          2019,
          2020
         ],
         "xaxis": "x",
         "y": [
          76,
          37,
          13,
          28,
          13,
          10
         ],
         "yaxis": "y"
        },
        {
         "hovertemplate": "County=Henderson County<br>Year=%{x}<br>NonViolent_Offenses=%{y}<extra></extra>",
         "legendgroup": "Henderson County",
         "line": {
          "color": "#FF6692",
          "dash": "solid"
         },
         "marker": {
          "symbol": "circle"
         },
         "mode": "lines",
         "name": "Henderson County",
         "showlegend": true,
         "type": "scattergl",
         "x": [
          2015,
          2016,
          2017,
          2018,
          2019,
          2020
         ],
         "xaxis": "x",
         "y": [
          1783,
          1728,
          1430,
          1085,
          1066,
          849
         ],
         "yaxis": "y"
        },
        {
         "hovertemplate": "County=Hidalgo County<br>Year=%{x}<br>NonViolent_Offenses=%{y}<extra></extra>",
         "legendgroup": "Hidalgo County",
         "line": {
          "color": "#B6E880",
          "dash": "solid"
         },
         "marker": {
          "symbol": "circle"
         },
         "mode": "lines",
         "name": "Hidalgo County",
         "showlegend": true,
         "type": "scattergl",
         "x": [
          2015,
          2016,
          2017,
          2018,
          2019,
          2020
         ],
         "xaxis": "x",
         "y": [
          24399,
          24127,
          21531,
          20111,
          19105,
          15571
         ],
         "yaxis": "y"
        },
        {
         "hovertemplate": "County=Hill County<br>Year=%{x}<br>NonViolent_Offenses=%{y}<extra></extra>",
         "legendgroup": "Hill County",
         "line": {
          "color": "#FF97FF",
          "dash": "solid"
         },
         "marker": {
          "symbol": "circle"
         },
         "mode": "lines",
         "name": "Hill County",
         "showlegend": true,
         "type": "scattergl",
         "x": [
          2015,
          2016,
          2017,
          2018,
          2019,
          2020
         ],
         "xaxis": "x",
         "y": [
          738,
          620,
          643,
          651,
          564,
          486
         ],
         "yaxis": "y"
        },
        {
         "hovertemplate": "County=Hockley County<br>Year=%{x}<br>NonViolent_Offenses=%{y}<extra></extra>",
         "legendgroup": "Hockley County",
         "line": {
          "color": "#FECB52",
          "dash": "solid"
         },
         "marker": {
          "symbol": "circle"
         },
         "mode": "lines",
         "name": "Hockley County",
         "showlegend": true,
         "type": "scattergl",
         "x": [
          2015,
          2016,
          2017,
          2018,
          2019,
          2020
         ],
         "xaxis": "x",
         "y": [
          640,
          626,
          581,
          550,
          492,
          496
         ],
         "yaxis": "y"
        },
        {
         "hovertemplate": "County=Hood County<br>Year=%{x}<br>NonViolent_Offenses=%{y}<extra></extra>",
         "legendgroup": "Hood County",
         "line": {
          "color": "#636efa",
          "dash": "solid"
         },
         "marker": {
          "symbol": "circle"
         },
         "mode": "lines",
         "name": "Hood County",
         "showlegend": true,
         "type": "scattergl",
         "x": [
          2015,
          2016,
          2017,
          2018,
          2019,
          2020
         ],
         "xaxis": "x",
         "y": [
          976,
          857,
          887,
          886,
          799,
          846
         ],
         "yaxis": "y"
        },
        {
         "hovertemplate": "County=Hopkins County<br>Year=%{x}<br>NonViolent_Offenses=%{y}<extra></extra>",
         "legendgroup": "Hopkins County",
         "line": {
          "color": "#EF553B",
          "dash": "solid"
         },
         "marker": {
          "symbol": "circle"
         },
         "mode": "lines",
         "name": "Hopkins County",
         "showlegend": true,
         "type": "scattergl",
         "x": [
          2015,
          2016,
          2017,
          2018,
          2019,
          2020
         ],
         "xaxis": "x",
         "y": [
          404,
          340,
          248,
          227,
          229,
          245
         ],
         "yaxis": "y"
        },
        {
         "hovertemplate": "County=Houston County<br>Year=%{x}<br>NonViolent_Offenses=%{y}<extra></extra>",
         "legendgroup": "Houston County",
         "line": {
          "color": "#00cc96",
          "dash": "solid"
         },
         "marker": {
          "symbol": "circle"
         },
         "mode": "lines",
         "name": "Houston County",
         "showlegend": true,
         "type": "scattergl",
         "x": [
          2015,
          2016,
          2017,
          2018,
          2019,
          2020
         ],
         "xaxis": "x",
         "y": [
          343,
          413,
          333,
          287,
          242,
          251
         ],
         "yaxis": "y"
        },
        {
         "hovertemplate": "County=Howard County<br>Year=%{x}<br>NonViolent_Offenses=%{y}<extra></extra>",
         "legendgroup": "Howard County",
         "line": {
          "color": "#ab63fa",
          "dash": "solid"
         },
         "marker": {
          "symbol": "circle"
         },
         "mode": "lines",
         "name": "Howard County",
         "showlegend": true,
         "type": "scattergl",
         "x": [
          2015,
          2016,
          2017,
          2018,
          2019,
          2020
         ],
         "xaxis": "x",
         "y": [
          1557,
          1643,
          1176,
          1000,
          1327,
          1033
         ],
         "yaxis": "y"
        },
        {
         "hovertemplate": "County=Hudspeth County<br>Year=%{x}<br>NonViolent_Offenses=%{y}<extra></extra>",
         "legendgroup": "Hudspeth County",
         "line": {
          "color": "#FFA15A",
          "dash": "solid"
         },
         "marker": {
          "symbol": "circle"
         },
         "mode": "lines",
         "name": "Hudspeth County",
         "showlegend": true,
         "type": "scattergl",
         "x": [
          2015,
          2016,
          2017,
          2018,
          2019,
          2020
         ],
         "xaxis": "x",
         "y": [
          26,
          12,
          2,
          32,
          14,
          15
         ],
         "yaxis": "y"
        },
        {
         "hovertemplate": "County=Hunt County<br>Year=%{x}<br>NonViolent_Offenses=%{y}<extra></extra>",
         "legendgroup": "Hunt County",
         "line": {
          "color": "#19d3f3",
          "dash": "solid"
         },
         "marker": {
          "symbol": "circle"
         },
         "mode": "lines",
         "name": "Hunt County",
         "showlegend": true,
         "type": "scattergl",
         "x": [
          2015,
          2016,
          2017,
          2018,
          2019,
          2020
         ],
         "xaxis": "x",
         "y": [
          1877,
          1748,
          1536,
          1196,
          1454,
          1161
         ],
         "yaxis": "y"
        },
        {
         "hovertemplate": "County=Hutchinson County<br>Year=%{x}<br>NonViolent_Offenses=%{y}<extra></extra>",
         "legendgroup": "Hutchinson County",
         "line": {
          "color": "#FF6692",
          "dash": "solid"
         },
         "marker": {
          "symbol": "circle"
         },
         "mode": "lines",
         "name": "Hutchinson County",
         "showlegend": true,
         "type": "scattergl",
         "x": [
          2015,
          2016,
          2017,
          2018,
          2019,
          2020
         ],
         "xaxis": "x",
         "y": [
          667,
          596,
          600,
          554,
          381,
          435
         ],
         "yaxis": "y"
        },
        {
         "hovertemplate": "County=Irion County<br>Year=%{x}<br>NonViolent_Offenses=%{y}<extra></extra>",
         "legendgroup": "Irion County",
         "line": {
          "color": "#B6E880",
          "dash": "solid"
         },
         "marker": {
          "symbol": "circle"
         },
         "mode": "lines",
         "name": "Irion County",
         "showlegend": true,
         "type": "scattergl",
         "x": [
          2015,
          2016,
          2017,
          2018,
          2019,
          2020
         ],
         "xaxis": "x",
         "y": [
          29,
          29,
          24,
          30,
          27,
          13
         ],
         "yaxis": "y"
        },
        {
         "hovertemplate": "County=Jack County<br>Year=%{x}<br>NonViolent_Offenses=%{y}<extra></extra>",
         "legendgroup": "Jack County",
         "line": {
          "color": "#FF97FF",
          "dash": "solid"
         },
         "marker": {
          "symbol": "circle"
         },
         "mode": "lines",
         "name": "Jack County",
         "showlegend": true,
         "type": "scattergl",
         "x": [
          2015,
          2016,
          2017,
          2018,
          2019,
          2020
         ],
         "xaxis": "x",
         "y": [
          138,
          124,
          112,
          104,
          70,
          76
         ],
         "yaxis": "y"
        },
        {
         "hovertemplate": "County=Jackson County<br>Year=%{x}<br>NonViolent_Offenses=%{y}<extra></extra>",
         "legendgroup": "Jackson County",
         "line": {
          "color": "#FECB52",
          "dash": "solid"
         },
         "marker": {
          "symbol": "circle"
         },
         "mode": "lines",
         "name": "Jackson County",
         "showlegend": true,
         "type": "scattergl",
         "x": [
          2015,
          2016,
          2017,
          2018,
          2019,
          2020
         ],
         "xaxis": "x",
         "y": [
          210,
          203,
          176,
          159,
          134,
          188
         ],
         "yaxis": "y"
        },
        {
         "hovertemplate": "County=Jasper County<br>Year=%{x}<br>NonViolent_Offenses=%{y}<extra></extra>",
         "legendgroup": "Jasper County",
         "line": {
          "color": "#636efa",
          "dash": "solid"
         },
         "marker": {
          "symbol": "circle"
         },
         "mode": "lines",
         "name": "Jasper County",
         "showlegend": true,
         "type": "scattergl",
         "x": [
          2015,
          2016,
          2017,
          2018,
          2019,
          2020
         ],
         "xaxis": "x",
         "y": [
          819,
          732,
          661,
          666,
          788,
          644
         ],
         "yaxis": "y"
        },
        {
         "hovertemplate": "County=Jeff Davis County<br>Year=%{x}<br>NonViolent_Offenses=%{y}<extra></extra>",
         "legendgroup": "Jeff Davis County",
         "line": {
          "color": "#EF553B",
          "dash": "solid"
         },
         "marker": {
          "symbol": "circle"
         },
         "mode": "lines",
         "name": "Jeff Davis County",
         "showlegend": true,
         "type": "scattergl",
         "x": [
          2015,
          2016,
          2017,
          2018,
          2019,
          2020
         ],
         "xaxis": "x",
         "y": [
          9,
          8,
          9,
          6,
          11,
          11
         ],
         "yaxis": "y"
        },
        {
         "hovertemplate": "County=Jefferson County<br>Year=%{x}<br>NonViolent_Offenses=%{y}<extra></extra>",
         "legendgroup": "Jefferson County",
         "line": {
          "color": "#00cc96",
          "dash": "solid"
         },
         "marker": {
          "symbol": "circle"
         },
         "mode": "lines",
         "name": "Jefferson County",
         "showlegend": true,
         "type": "scattergl",
         "x": [
          2015,
          2016,
          2017,
          2018,
          2019,
          2020
         ],
         "xaxis": "x",
         "y": [
          8799,
          8308,
          8694,
          7188,
          6649,
          6257
         ],
         "yaxis": "y"
        },
        {
         "hovertemplate": "County=Jim Hogg County<br>Year=%{x}<br>NonViolent_Offenses=%{y}<extra></extra>",
         "legendgroup": "Jim Hogg County",
         "line": {
          "color": "#ab63fa",
          "dash": "solid"
         },
         "marker": {
          "symbol": "circle"
         },
         "mode": "lines",
         "name": "Jim Hogg County",
         "showlegend": true,
         "type": "scattergl",
         "x": [
          2015,
          2016,
          2017,
          2018,
          2019,
          2020
         ],
         "xaxis": "x",
         "y": [
          6,
          9,
          15,
          13,
          20,
          34
         ],
         "yaxis": "y"
        },
        {
         "hovertemplate": "County=Jim Wells County<br>Year=%{x}<br>NonViolent_Offenses=%{y}<extra></extra>",
         "legendgroup": "Jim Wells County",
         "line": {
          "color": "#FFA15A",
          "dash": "solid"
         },
         "marker": {
          "symbol": "circle"
         },
         "mode": "lines",
         "name": "Jim Wells County",
         "showlegend": true,
         "type": "scattergl",
         "x": [
          2015,
          2016,
          2017,
          2018,
          2019,
          2020
         ],
         "xaxis": "x",
         "y": [
          1411,
          1662,
          1354,
          1315,
          1191,
          1093
         ],
         "yaxis": "y"
        },
        {
         "hovertemplate": "County=Johnson County<br>Year=%{x}<br>NonViolent_Offenses=%{y}<extra></extra>",
         "legendgroup": "Johnson County",
         "line": {
          "color": "#19d3f3",
          "dash": "solid"
         },
         "marker": {
          "symbol": "circle"
         },
         "mode": "lines",
         "name": "Johnson County",
         "showlegend": true,
         "type": "scattergl",
         "x": [
          2015,
          2016,
          2017,
          2018,
          2019,
          2020
         ],
         "xaxis": "x",
         "y": [
          2816,
          2687,
          2700,
          2299,
          2176,
          2080
         ],
         "yaxis": "y"
        },
        {
         "hovertemplate": "County=Jones County<br>Year=%{x}<br>NonViolent_Offenses=%{y}<extra></extra>",
         "legendgroup": "Jones County",
         "line": {
          "color": "#FF6692",
          "dash": "solid"
         },
         "marker": {
          "symbol": "circle"
         },
         "mode": "lines",
         "name": "Jones County",
         "showlegend": true,
         "type": "scattergl",
         "x": [
          2015,
          2016,
          2017,
          2018,
          2019,
          2020
         ],
         "xaxis": "x",
         "y": [
          236,
          186,
          182,
          120,
          133,
          127
         ],
         "yaxis": "y"
        },
        {
         "hovertemplate": "County=Karnes County<br>Year=%{x}<br>NonViolent_Offenses=%{y}<extra></extra>",
         "legendgroup": "Karnes County",
         "line": {
          "color": "#B6E880",
          "dash": "solid"
         },
         "marker": {
          "symbol": "circle"
         },
         "mode": "lines",
         "name": "Karnes County",
         "showlegend": true,
         "type": "scattergl",
         "x": [
          2015,
          2016,
          2017,
          2018,
          2019,
          2020
         ],
         "xaxis": "x",
         "y": [
          415,
          352,
          301,
          318,
          286,
          233
         ],
         "yaxis": "y"
        },
        {
         "hovertemplate": "County=Kaufman County<br>Year=%{x}<br>NonViolent_Offenses=%{y}<extra></extra>",
         "legendgroup": "Kaufman County",
         "line": {
          "color": "#FF97FF",
          "dash": "solid"
         },
         "marker": {
          "symbol": "circle"
         },
         "mode": "lines",
         "name": "Kaufman County",
         "showlegend": true,
         "type": "scattergl",
         "x": [
          2015,
          2016,
          2017,
          2018,
          2019,
          2020
         ],
         "xaxis": "x",
         "y": [
          1812,
          1849,
          1973,
          1649,
          1929,
          1955
         ],
         "yaxis": "y"
        },
        {
         "hovertemplate": "County=Kendall County<br>Year=%{x}<br>NonViolent_Offenses=%{y}<extra></extra>",
         "legendgroup": "Kendall County",
         "line": {
          "color": "#FECB52",
          "dash": "solid"
         },
         "marker": {
          "symbol": "circle"
         },
         "mode": "lines",
         "name": "Kendall County",
         "showlegend": true,
         "type": "scattergl",
         "x": [
          2015,
          2016,
          2017,
          2018,
          2019,
          2020
         ],
         "xaxis": "x",
         "y": [
          555,
          555,
          892,
          464,
          450,
          394
         ],
         "yaxis": "y"
        },
        {
         "hovertemplate": "County=Kenedy County<br>Year=%{x}<br>NonViolent_Offenses=%{y}<extra></extra>",
         "legendgroup": "Kenedy County",
         "line": {
          "color": "#636efa",
          "dash": "solid"
         },
         "marker": {
          "symbol": "circle"
         },
         "mode": "lines",
         "name": "Kenedy County",
         "showlegend": true,
         "type": "scattergl",
         "x": [
          2015,
          2016,
          2017,
          2018,
          2019,
          2020
         ],
         "xaxis": "x",
         "y": [
          4,
          7,
          3,
          5,
          8,
          10
         ],
         "yaxis": "y"
        },
        {
         "hovertemplate": "County=Kent County<br>Year=%{x}<br>NonViolent_Offenses=%{y}<extra></extra>",
         "legendgroup": "Kent County",
         "line": {
          "color": "#EF553B",
          "dash": "solid"
         },
         "marker": {
          "symbol": "circle"
         },
         "mode": "lines",
         "name": "Kent County",
         "showlegend": true,
         "type": "scattergl",
         "x": [
          2015,
          2016,
          2017,
          2018,
          2019,
          2020
         ],
         "xaxis": "x",
         "y": [
          15,
          10,
          4,
          9,
          5,
          8
         ],
         "yaxis": "y"
        },
        {
         "hovertemplate": "County=Kerr County<br>Year=%{x}<br>NonViolent_Offenses=%{y}<extra></extra>",
         "legendgroup": "Kerr County",
         "line": {
          "color": "#00cc96",
          "dash": "solid"
         },
         "marker": {
          "symbol": "circle"
         },
         "mode": "lines",
         "name": "Kerr County",
         "showlegend": true,
         "type": "scattergl",
         "x": [
          2015,
          2016,
          2017,
          2018,
          2019,
          2020
         ],
         "xaxis": "x",
         "y": [
          971,
          941,
          830,
          591,
          534,
          436
         ],
         "yaxis": "y"
        },
        {
         "hovertemplate": "County=Kimble County<br>Year=%{x}<br>NonViolent_Offenses=%{y}<extra></extra>",
         "legendgroup": "Kimble County",
         "line": {
          "color": "#ab63fa",
          "dash": "solid"
         },
         "marker": {
          "symbol": "circle"
         },
         "mode": "lines",
         "name": "Kimble County",
         "showlegend": true,
         "type": "scattergl",
         "x": [
          2015,
          2016,
          2017,
          2018,
          2019,
          2020
         ],
         "xaxis": "x",
         "y": [
          45,
          28,
          29,
          28,
          13,
          14
         ],
         "yaxis": "y"
        },
        {
         "hovertemplate": "County=King County<br>Year=%{x}<br>NonViolent_Offenses=%{y}<extra></extra>",
         "legendgroup": "King County",
         "line": {
          "color": "#FFA15A",
          "dash": "solid"
         },
         "marker": {
          "symbol": "circle"
         },
         "mode": "lines",
         "name": "King County",
         "showlegend": true,
         "type": "scattergl",
         "x": [
          2015,
          2016,
          2017,
          2018
         ],
         "xaxis": "x",
         "y": [
          4,
          0,
          0,
          0
         ],
         "yaxis": "y"
        },
        {
         "hovertemplate": "County=Kinney County<br>Year=%{x}<br>NonViolent_Offenses=%{y}<extra></extra>",
         "legendgroup": "Kinney County",
         "line": {
          "color": "#19d3f3",
          "dash": "solid"
         },
         "marker": {
          "symbol": "circle"
         },
         "mode": "lines",
         "name": "Kinney County",
         "showlegend": true,
         "type": "scattergl",
         "x": [
          2015,
          2016,
          2017,
          2018,
          2019,
          2020
         ],
         "xaxis": "x",
         "y": [
          9,
          11,
          6,
          1,
          1,
          0
         ],
         "yaxis": "y"
        },
        {
         "hovertemplate": "County=Kleberg County<br>Year=%{x}<br>NonViolent_Offenses=%{y}<extra></extra>",
         "legendgroup": "Kleberg County",
         "line": {
          "color": "#FF6692",
          "dash": "solid"
         },
         "marker": {
          "symbol": "circle"
         },
         "mode": "lines",
         "name": "Kleberg County",
         "showlegend": true,
         "type": "scattergl",
         "x": [
          2015,
          2016,
          2017,
          2018,
          2019,
          2020
         ],
         "xaxis": "x",
         "y": [
          1029,
          1111,
          1054,
          851,
          849,
          623
         ],
         "yaxis": "y"
        },
        {
         "hovertemplate": "County=Knox County<br>Year=%{x}<br>NonViolent_Offenses=%{y}<extra></extra>",
         "legendgroup": "Knox County",
         "line": {
          "color": "#B6E880",
          "dash": "solid"
         },
         "marker": {
          "symbol": "circle"
         },
         "mode": "lines",
         "name": "Knox County",
         "showlegend": true,
         "type": "scattergl",
         "x": [
          2015,
          2016,
          2017,
          2018,
          2019,
          2020
         ],
         "xaxis": "x",
         "y": [
          73,
          74,
          35,
          37,
          43,
          17
         ],
         "yaxis": "y"
        },
        {
         "hovertemplate": "County=La Salle County<br>Year=%{x}<br>NonViolent_Offenses=%{y}<extra></extra>",
         "legendgroup": "La Salle County",
         "line": {
          "color": "#FF97FF",
          "dash": "solid"
         },
         "marker": {
          "symbol": "circle"
         },
         "mode": "lines",
         "name": "La Salle County",
         "showlegend": true,
         "type": "scattergl",
         "x": [
          2015,
          2016,
          2017,
          2018,
          2019,
          2020
         ],
         "xaxis": "x",
         "y": [
          36,
          55,
          57,
          39,
          44,
          29
         ],
         "yaxis": "y"
        },
        {
         "hovertemplate": "County=Lamar County<br>Year=%{x}<br>NonViolent_Offenses=%{y}<extra></extra>",
         "legendgroup": "Lamar County",
         "line": {
          "color": "#FECB52",
          "dash": "solid"
         },
         "marker": {
          "symbol": "circle"
         },
         "mode": "lines",
         "name": "Lamar County",
         "showlegend": true,
         "type": "scattergl",
         "x": [
          2015,
          2016,
          2017,
          2018,
          2019,
          2020
         ],
         "xaxis": "x",
         "y": [
          1274,
          1307,
          1114,
          946,
          900,
          894
         ],
         "yaxis": "y"
        },
        {
         "hovertemplate": "County=Lamb County<br>Year=%{x}<br>NonViolent_Offenses=%{y}<extra></extra>",
         "legendgroup": "Lamb County",
         "line": {
          "color": "#636efa",
          "dash": "solid"
         },
         "marker": {
          "symbol": "circle"
         },
         "mode": "lines",
         "name": "Lamb County",
         "showlegend": true,
         "type": "scattergl",
         "x": [
          2015,
          2016,
          2017,
          2018,
          2019,
          2020
         ],
         "xaxis": "x",
         "y": [
          297,
          232,
          173,
          201,
          223,
          253
         ],
         "yaxis": "y"
        },
        {
         "hovertemplate": "County=Lampasas County<br>Year=%{x}<br>NonViolent_Offenses=%{y}<extra></extra>",
         "legendgroup": "Lampasas County",
         "line": {
          "color": "#EF553B",
          "dash": "solid"
         },
         "marker": {
          "symbol": "circle"
         },
         "mode": "lines",
         "name": "Lampasas County",
         "showlegend": true,
         "type": "scattergl",
         "x": [
          2015,
          2016,
          2017,
          2018,
          2019,
          2020
         ],
         "xaxis": "x",
         "y": [
          350,
          474,
          311,
          257,
          287,
          321
         ],
         "yaxis": "y"
        },
        {
         "hovertemplate": "County=Lavaca County<br>Year=%{x}<br>NonViolent_Offenses=%{y}<extra></extra>",
         "legendgroup": "Lavaca County",
         "line": {
          "color": "#00cc96",
          "dash": "solid"
         },
         "marker": {
          "symbol": "circle"
         },
         "mode": "lines",
         "name": "Lavaca County",
         "showlegend": true,
         "type": "scattergl",
         "x": [
          2015,
          2016,
          2017,
          2018,
          2019,
          2020
         ],
         "xaxis": "x",
         "y": [
          335,
          251,
          230,
          161,
          207,
          206
         ],
         "yaxis": "y"
        },
        {
         "hovertemplate": "County=Lee County<br>Year=%{x}<br>NonViolent_Offenses=%{y}<extra></extra>",
         "legendgroup": "Lee County",
         "line": {
          "color": "#ab63fa",
          "dash": "solid"
         },
         "marker": {
          "symbol": "circle"
         },
         "mode": "lines",
         "name": "Lee County",
         "showlegend": true,
         "type": "scattergl",
         "x": [
          2015,
          2016,
          2017,
          2018,
          2019,
          2020
         ],
         "xaxis": "x",
         "y": [
          226,
          241,
          202,
          159,
          191,
          175
         ],
         "yaxis": "y"
        },
        {
         "hovertemplate": "County=Leon County<br>Year=%{x}<br>NonViolent_Offenses=%{y}<extra></extra>",
         "legendgroup": "Leon County",
         "line": {
          "color": "#FFA15A",
          "dash": "solid"
         },
         "marker": {
          "symbol": "circle"
         },
         "mode": "lines",
         "name": "Leon County",
         "showlegend": true,
         "type": "scattergl",
         "x": [
          2015,
          2016,
          2017,
          2018,
          2019,
          2020
         ],
         "xaxis": "x",
         "y": [
          252,
          231,
          155,
          162,
          235,
          144
         ],
         "yaxis": "y"
        },
        {
         "hovertemplate": "County=Liberty County<br>Year=%{x}<br>NonViolent_Offenses=%{y}<extra></extra>",
         "legendgroup": "Liberty County",
         "line": {
          "color": "#19d3f3",
          "dash": "solid"
         },
         "marker": {
          "symbol": "circle"
         },
         "mode": "lines",
         "name": "Liberty County",
         "showlegend": true,
         "type": "scattergl",
         "x": [
          2015,
          2016,
          2017,
          2018,
          2019,
          2020
         ],
         "xaxis": "x",
         "y": [
          1918,
          1699,
          688,
          1435,
          1618,
          1375
         ],
         "yaxis": "y"
        },
        {
         "hovertemplate": "County=Limestone County<br>Year=%{x}<br>NonViolent_Offenses=%{y}<extra></extra>",
         "legendgroup": "Limestone County",
         "line": {
          "color": "#FF6692",
          "dash": "solid"
         },
         "marker": {
          "symbol": "circle"
         },
         "mode": "lines",
         "name": "Limestone County",
         "showlegend": true,
         "type": "scattergl",
         "x": [
          2015,
          2016,
          2017,
          2018,
          2019,
          2020
         ],
         "xaxis": "x",
         "y": [
          595,
          497,
          528,
          460,
          197,
          274
         ],
         "yaxis": "y"
        },
        {
         "hovertemplate": "County=Lipscomb County<br>Year=%{x}<br>NonViolent_Offenses=%{y}<extra></extra>",
         "legendgroup": "Lipscomb County",
         "line": {
          "color": "#B6E880",
          "dash": "solid"
         },
         "marker": {
          "symbol": "circle"
         },
         "mode": "lines",
         "name": "Lipscomb County",
         "showlegend": true,
         "type": "scattergl",
         "x": [
          2015,
          2016,
          2017,
          2018,
          2019,
          2020
         ],
         "xaxis": "x",
         "y": [
          23,
          12,
          14,
          30,
          4,
          19
         ],
         "yaxis": "y"
        },
        {
         "hovertemplate": "County=Live Oak County<br>Year=%{x}<br>NonViolent_Offenses=%{y}<extra></extra>",
         "legendgroup": "Live Oak County",
         "line": {
          "color": "#FF97FF",
          "dash": "solid"
         },
         "marker": {
          "symbol": "circle"
         },
         "mode": "lines",
         "name": "Live Oak County",
         "showlegend": true,
         "type": "scattergl",
         "x": [
          2015,
          2016,
          2017,
          2018,
          2019,
          2020
         ],
         "xaxis": "x",
         "y": [
          213,
          205,
          161,
          44,
          12,
          5
         ],
         "yaxis": "y"
        },
        {
         "hovertemplate": "County=Llano County<br>Year=%{x}<br>NonViolent_Offenses=%{y}<extra></extra>",
         "legendgroup": "Llano County",
         "line": {
          "color": "#FECB52",
          "dash": "solid"
         },
         "marker": {
          "symbol": "circle"
         },
         "mode": "lines",
         "name": "Llano County",
         "showlegend": true,
         "type": "scattergl",
         "x": [
          2015,
          2016,
          2017,
          2018,
          2019,
          2020
         ],
         "xaxis": "x",
         "y": [
          244,
          140,
          141,
          88,
          155,
          262
         ],
         "yaxis": "y"
        },
        {
         "hovertemplate": "County=Loving County<br>Year=%{x}<br>NonViolent_Offenses=%{y}<extra></extra>",
         "legendgroup": "Loving County",
         "line": {
          "color": "#636efa",
          "dash": "solid"
         },
         "marker": {
          "symbol": "circle"
         },
         "mode": "lines",
         "name": "Loving County",
         "showlegend": true,
         "type": "scattergl",
         "x": [
          2015,
          2016,
          2017,
          2018,
          2019,
          2020
         ],
         "xaxis": "x",
         "y": [
          7,
          11,
          1,
          17,
          22,
          17
         ],
         "yaxis": "y"
        },
        {
         "hovertemplate": "County=Lubbock County<br>Year=%{x}<br>NonViolent_Offenses=%{y}<extra></extra>",
         "legendgroup": "Lubbock County",
         "line": {
          "color": "#EF553B",
          "dash": "solid"
         },
         "marker": {
          "symbol": "circle"
         },
         "mode": "lines",
         "name": "Lubbock County",
         "showlegend": true,
         "type": "scattergl",
         "x": [
          2015,
          2016,
          2017,
          2018,
          2019,
          2020
         ],
         "xaxis": "x",
         "y": [
          13822,
          14013,
          13103,
          12630,
          12833,
          11800
         ],
         "yaxis": "y"
        },
        {
         "hovertemplate": "County=Lynn County<br>Year=%{x}<br>NonViolent_Offenses=%{y}<extra></extra>",
         "legendgroup": "Lynn County",
         "line": {
          "color": "#00cc96",
          "dash": "solid"
         },
         "marker": {
          "symbol": "circle"
         },
         "mode": "lines",
         "name": "Lynn County",
         "showlegend": true,
         "type": "scattergl",
         "x": [
          2015,
          2016,
          2017,
          2018,
          2019,
          2020
         ],
         "xaxis": "x",
         "y": [
          62,
          63,
          61,
          51,
          21,
          32
         ],
         "yaxis": "y"
        },
        {
         "hovertemplate": "County=Madison County<br>Year=%{x}<br>NonViolent_Offenses=%{y}<extra></extra>",
         "legendgroup": "Madison County",
         "line": {
          "color": "#ab63fa",
          "dash": "solid"
         },
         "marker": {
          "symbol": "circle"
         },
         "mode": "lines",
         "name": "Madison County",
         "showlegend": true,
         "type": "scattergl",
         "x": [
          2015,
          2016,
          2017,
          2018,
          2019,
          2020
         ],
         "xaxis": "x",
         "y": [
          285,
          279,
          210,
          182,
          95,
          107
         ],
         "yaxis": "y"
        },
        {
         "hovertemplate": "County=Marion County<br>Year=%{x}<br>NonViolent_Offenses=%{y}<extra></extra>",
         "legendgroup": "Marion County",
         "line": {
          "color": "#FFA15A",
          "dash": "solid"
         },
         "marker": {
          "symbol": "circle"
         },
         "mode": "lines",
         "name": "Marion County",
         "showlegend": true,
         "type": "scattergl",
         "x": [
          2015,
          2016,
          2017,
          2018,
          2019,
          2020
         ],
         "xaxis": "x",
         "y": [
          226,
          198,
          186,
          124,
          87,
          113
         ],
         "yaxis": "y"
        },
        {
         "hovertemplate": "County=Martin County<br>Year=%{x}<br>NonViolent_Offenses=%{y}<extra></extra>",
         "legendgroup": "Martin County",
         "line": {
          "color": "#19d3f3",
          "dash": "solid"
         },
         "marker": {
          "symbol": "circle"
         },
         "mode": "lines",
         "name": "Martin County",
         "showlegend": true,
         "type": "scattergl",
         "x": [
          2015,
          2016,
          2017,
          2018,
          2019,
          2020
         ],
         "xaxis": "x",
         "y": [
          100,
          111,
          55,
          71,
          86,
          102
         ],
         "yaxis": "y"
        },
        {
         "hovertemplate": "County=Mason County<br>Year=%{x}<br>NonViolent_Offenses=%{y}<extra></extra>",
         "legendgroup": "Mason County",
         "line": {
          "color": "#FF6692",
          "dash": "solid"
         },
         "marker": {
          "symbol": "circle"
         },
         "mode": "lines",
         "name": "Mason County",
         "showlegend": true,
         "type": "scattergl",
         "x": [
          2015,
          2016,
          2017,
          2018,
          2019,
          2020
         ],
         "xaxis": "x",
         "y": [
          30,
          43,
          15,
          17,
          10,
          11
         ],
         "yaxis": "y"
        },
        {
         "hovertemplate": "County=Matagorda County<br>Year=%{x}<br>NonViolent_Offenses=%{y}<extra></extra>",
         "legendgroup": "Matagorda County",
         "line": {
          "color": "#B6E880",
          "dash": "solid"
         },
         "marker": {
          "symbol": "circle"
         },
         "mode": "lines",
         "name": "Matagorda County",
         "showlegend": true,
         "type": "scattergl",
         "x": [
          2015,
          2016,
          2017,
          2018,
          2019,
          2020
         ],
         "xaxis": "x",
         "y": [
          1157,
          1228,
          1024,
          1115,
          1142,
          973
         ],
         "yaxis": "y"
        },
        {
         "hovertemplate": "County=Maverick County<br>Year=%{x}<br>NonViolent_Offenses=%{y}<extra></extra>",
         "legendgroup": "Maverick County",
         "line": {
          "color": "#FF97FF",
          "dash": "solid"
         },
         "marker": {
          "symbol": "circle"
         },
         "mode": "lines",
         "name": "Maverick County",
         "showlegend": true,
         "type": "scattergl",
         "x": [
          2015,
          2016,
          2017,
          2018,
          2019,
          2020
         ],
         "xaxis": "x",
         "y": [
          1439,
          1171,
          971,
          713,
          1048,
          896
         ],
         "yaxis": "y"
        },
        {
         "hovertemplate": "County=McCulloch County<br>Year=%{x}<br>NonViolent_Offenses=%{y}<extra></extra>",
         "legendgroup": "McCulloch County",
         "line": {
          "color": "#FECB52",
          "dash": "solid"
         },
         "marker": {
          "symbol": "circle"
         },
         "mode": "lines",
         "name": "McCulloch County",
         "showlegend": true,
         "type": "scattergl",
         "x": [
          2015,
          2016,
          2017,
          2018,
          2019,
          2020
         ],
         "xaxis": "x",
         "y": [
          169,
          128,
          160,
          92,
          89,
          95
         ],
         "yaxis": "y"
        },
        {
         "hovertemplate": "County=McLennan County<br>Year=%{x}<br>NonViolent_Offenses=%{y}<extra></extra>",
         "legendgroup": "McLennan County",
         "line": {
          "color": "#636efa",
          "dash": "solid"
         },
         "marker": {
          "symbol": "circle"
         },
         "mode": "lines",
         "name": "McLennan County",
         "showlegend": true,
         "type": "scattergl",
         "x": [
          2015,
          2016,
          2017,
          2018,
          2019,
          2020
         ],
         "xaxis": "x",
         "y": [
          7631,
          7112,
          6917,
          6998,
          6607,
          6854
         ],
         "yaxis": "y"
        },
        {
         "hovertemplate": "County=McMullen County<br>Year=%{x}<br>NonViolent_Offenses=%{y}<extra></extra>",
         "legendgroup": "McMullen County",
         "line": {
          "color": "#EF553B",
          "dash": "solid"
         },
         "marker": {
          "symbol": "circle"
         },
         "mode": "lines",
         "name": "McMullen County",
         "showlegend": true,
         "type": "scattergl",
         "x": [
          2015,
          2016,
          2017,
          2018,
          2019,
          2020
         ],
         "xaxis": "x",
         "y": [
          45,
          26,
          24,
          18,
          12,
          9
         ],
         "yaxis": "y"
        },
        {
         "hovertemplate": "County=Medina County<br>Year=%{x}<br>NonViolent_Offenses=%{y}<extra></extra>",
         "legendgroup": "Medina County",
         "line": {
          "color": "#00cc96",
          "dash": "solid"
         },
         "marker": {
          "symbol": "circle"
         },
         "mode": "lines",
         "name": "Medina County",
         "showlegend": true,
         "type": "scattergl",
         "x": [
          2015,
          2016,
          2017,
          2018,
          2019,
          2020
         ],
         "xaxis": "x",
         "y": [
          878,
          884,
          936,
          773,
          685,
          682
         ],
         "yaxis": "y"
        },
        {
         "hovertemplate": "County=Menard County<br>Year=%{x}<br>NonViolent_Offenses=%{y}<extra></extra>",
         "legendgroup": "Menard County",
         "line": {
          "color": "#ab63fa",
          "dash": "solid"
         },
         "marker": {
          "symbol": "circle"
         },
         "mode": "lines",
         "name": "Menard County",
         "showlegend": true,
         "type": "scattergl",
         "x": [
          2015,
          2016,
          2017,
          2018,
          2019,
          2020
         ],
         "xaxis": "x",
         "y": [
          6,
          4,
          5,
          13,
          1,
          0
         ],
         "yaxis": "y"
        },
        {
         "hovertemplate": "County=Midland County<br>Year=%{x}<br>NonViolent_Offenses=%{y}<extra></extra>",
         "legendgroup": "Midland County",
         "line": {
          "color": "#FFA15A",
          "dash": "solid"
         },
         "marker": {
          "symbol": "circle"
         },
         "mode": "lines",
         "name": "Midland County",
         "showlegend": true,
         "type": "scattergl",
         "x": [
          2015,
          2016,
          2017,
          2018,
          2019,
          2020
         ],
         "xaxis": "x",
         "y": [
          4148,
          4105,
          3229,
          3323,
          2466,
          3892
         ],
         "yaxis": "y"
        },
        {
         "hovertemplate": "County=Milam County<br>Year=%{x}<br>NonViolent_Offenses=%{y}<extra></extra>",
         "legendgroup": "Milam County",
         "line": {
          "color": "#19d3f3",
          "dash": "solid"
         },
         "marker": {
          "symbol": "circle"
         },
         "mode": "lines",
         "name": "Milam County",
         "showlegend": true,
         "type": "scattergl",
         "x": [
          2015,
          2016,
          2017,
          2018,
          2019,
          2020
         ],
         "xaxis": "x",
         "y": [
          524,
          447,
          380,
          307,
          293,
          279
         ],
         "yaxis": "y"
        },
        {
         "hovertemplate": "County=Mills County<br>Year=%{x}<br>NonViolent_Offenses=%{y}<extra></extra>",
         "legendgroup": "Mills County",
         "line": {
          "color": "#FF6692",
          "dash": "solid"
         },
         "marker": {
          "symbol": "circle"
         },
         "mode": "lines",
         "name": "Mills County",
         "showlegend": true,
         "type": "scattergl",
         "x": [
          2015,
          2016,
          2017,
          2018,
          2019,
          2020
         ],
         "xaxis": "x",
         "y": [
          40,
          26,
          22,
          14,
          21,
          13
         ],
         "yaxis": "y"
        },
        {
         "hovertemplate": "County=Mitchell County<br>Year=%{x}<br>NonViolent_Offenses=%{y}<extra></extra>",
         "legendgroup": "Mitchell County",
         "line": {
          "color": "#B6E880",
          "dash": "solid"
         },
         "marker": {
          "symbol": "circle"
         },
         "mode": "lines",
         "name": "Mitchell County",
         "showlegend": true,
         "type": "scattergl",
         "x": [
          2015,
          2016,
          2017,
          2018,
          2019,
          2020
         ],
         "xaxis": "x",
         "y": [
          101,
          108,
          187,
          151,
          155,
          81
         ],
         "yaxis": "y"
        },
        {
         "hovertemplate": "County=Montague County<br>Year=%{x}<br>NonViolent_Offenses=%{y}<extra></extra>",
         "legendgroup": "Montague County",
         "line": {
          "color": "#FF97FF",
          "dash": "solid"
         },
         "marker": {
          "symbol": "circle"
         },
         "mode": "lines",
         "name": "Montague County",
         "showlegend": true,
         "type": "scattergl",
         "x": [
          2015,
          2016,
          2017,
          2018,
          2019,
          2020
         ],
         "xaxis": "x",
         "y": [
          386,
          405,
          351,
          239,
          247,
          204
         ],
         "yaxis": "y"
        },
        {
         "hovertemplate": "County=Montgomery County<br>Year=%{x}<br>NonViolent_Offenses=%{y}<extra></extra>",
         "legendgroup": "Montgomery County",
         "line": {
          "color": "#FECB52",
          "dash": "solid"
         },
         "marker": {
          "symbol": "circle"
         },
         "mode": "lines",
         "name": "Montgomery County",
         "showlegend": true,
         "type": "scattergl",
         "x": [
          2015,
          2016,
          2017,
          2018,
          2019,
          2020
         ],
         "xaxis": "x",
         "y": [
          8635,
          8008,
          6858,
          7725,
          8051,
          7280
         ],
         "yaxis": "y"
        },
        {
         "hovertemplate": "County=Moore County<br>Year=%{x}<br>NonViolent_Offenses=%{y}<extra></extra>",
         "legendgroup": "Moore County",
         "line": {
          "color": "#636efa",
          "dash": "solid"
         },
         "marker": {
          "symbol": "circle"
         },
         "mode": "lines",
         "name": "Moore County",
         "showlegend": true,
         "type": "scattergl",
         "x": [
          2015,
          2016,
          2017,
          2018,
          2019,
          2020
         ],
         "xaxis": "x",
         "y": [
          454,
          345,
          362,
          319,
          335,
          359
         ],
         "yaxis": "y"
        },
        {
         "hovertemplate": "County=Morris County<br>Year=%{x}<br>NonViolent_Offenses=%{y}<extra></extra>",
         "legendgroup": "Morris County",
         "line": {
          "color": "#EF553B",
          "dash": "solid"
         },
         "marker": {
          "symbol": "circle"
         },
         "mode": "lines",
         "name": "Morris County",
         "showlegend": true,
         "type": "scattergl",
         "x": [
          2015,
          2016,
          2017,
          2018,
          2019,
          2020
         ],
         "xaxis": "x",
         "y": [
          247,
          306,
          200,
          136,
          152,
          122
         ],
         "yaxis": "y"
        },
        {
         "hovertemplate": "County=Motley County<br>Year=%{x}<br>NonViolent_Offenses=%{y}<extra></extra>",
         "legendgroup": "Motley County",
         "line": {
          "color": "#00cc96",
          "dash": "solid"
         },
         "marker": {
          "symbol": "circle"
         },
         "mode": "lines",
         "name": "Motley County",
         "showlegend": true,
         "type": "scattergl",
         "x": [
          2015,
          2016,
          2017,
          2018,
          2019,
          2020
         ],
         "xaxis": "x",
         "y": [
          17,
          14,
          14,
          4,
          3,
          1
         ],
         "yaxis": "y"
        },
        {
         "hovertemplate": "County=Nacogdoches County<br>Year=%{x}<br>NonViolent_Offenses=%{y}<extra></extra>",
         "legendgroup": "Nacogdoches County",
         "line": {
          "color": "#ab63fa",
          "dash": "solid"
         },
         "marker": {
          "symbol": "circle"
         },
         "mode": "lines",
         "name": "Nacogdoches County",
         "showlegend": true,
         "type": "scattergl",
         "x": [
          2015,
          2016,
          2017,
          2018,
          2019,
          2020
         ],
         "xaxis": "x",
         "y": [
          1269,
          1197,
          1238,
          1329,
          1178,
          1283
         ],
         "yaxis": "y"
        },
        {
         "hovertemplate": "County=Navarro County<br>Year=%{x}<br>NonViolent_Offenses=%{y}<extra></extra>",
         "legendgroup": "Navarro County",
         "line": {
          "color": "#FFA15A",
          "dash": "solid"
         },
         "marker": {
          "symbol": "circle"
         },
         "mode": "lines",
         "name": "Navarro County",
         "showlegend": true,
         "type": "scattergl",
         "x": [
          2015,
          2016,
          2017,
          2018,
          2019,
          2020
         ],
         "xaxis": "x",
         "y": [
          1374,
          1076,
          749,
          1056,
          985,
          976
         ],
         "yaxis": "y"
        },
        {
         "hovertemplate": "County=Newton County<br>Year=%{x}<br>NonViolent_Offenses=%{y}<extra></extra>",
         "legendgroup": "Newton County",
         "line": {
          "color": "#19d3f3",
          "dash": "solid"
         },
         "marker": {
          "symbol": "circle"
         },
         "mode": "lines",
         "name": "Newton County",
         "showlegend": true,
         "type": "scattergl",
         "x": [
          2015,
          2016,
          2017,
          2018,
          2019,
          2020
         ],
         "xaxis": "x",
         "y": [
          54,
          26,
          97,
          118,
          136,
          102
         ],
         "yaxis": "y"
        },
        {
         "hovertemplate": "County=Nolan County<br>Year=%{x}<br>NonViolent_Offenses=%{y}<extra></extra>",
         "legendgroup": "Nolan County",
         "line": {
          "color": "#FF6692",
          "dash": "solid"
         },
         "marker": {
          "symbol": "circle"
         },
         "mode": "lines",
         "name": "Nolan County",
         "showlegend": true,
         "type": "scattergl",
         "x": [
          2015,
          2016,
          2017,
          2018,
          2019,
          2020
         ],
         "xaxis": "x",
         "y": [
          477,
          622,
          413,
          340,
          311,
          169
         ],
         "yaxis": "y"
        },
        {
         "hovertemplate": "County=Nueces County<br>Year=%{x}<br>NonViolent_Offenses=%{y}<extra></extra>",
         "legendgroup": "Nueces County",
         "line": {
          "color": "#B6E880",
          "dash": "solid"
         },
         "marker": {
          "symbol": "circle"
         },
         "mode": "lines",
         "name": "Nueces County",
         "showlegend": true,
         "type": "scattergl",
         "x": [
          2015,
          2016,
          2017,
          2018,
          2019,
          2020
         ],
         "xaxis": "x",
         "y": [
          12434,
          13380,
          12908,
          13157,
          12275,
          11519
         ],
         "yaxis": "y"
        },
        {
         "hovertemplate": "County=Ochiltree County<br>Year=%{x}<br>NonViolent_Offenses=%{y}<extra></extra>",
         "legendgroup": "Ochiltree County",
         "line": {
          "color": "#FF97FF",
          "dash": "solid"
         },
         "marker": {
          "symbol": "circle"
         },
         "mode": "lines",
         "name": "Ochiltree County",
         "showlegend": true,
         "type": "scattergl",
         "x": [
          2015,
          2016,
          2017,
          2018,
          2019,
          2020
         ],
         "xaxis": "x",
         "y": [
          117,
          111,
          142,
          193,
          126,
          109
         ],
         "yaxis": "y"
        },
        {
         "hovertemplate": "County=Oldham County<br>Year=%{x}<br>NonViolent_Offenses=%{y}<extra></extra>",
         "legendgroup": "Oldham County",
         "line": {
          "color": "#FECB52",
          "dash": "solid"
         },
         "marker": {
          "symbol": "circle"
         },
         "mode": "lines",
         "name": "Oldham County",
         "showlegend": true,
         "type": "scattergl",
         "x": [
          2015,
          2016,
          2017,
          2018,
          2019,
          2020
         ],
         "xaxis": "x",
         "y": [
          21,
          8,
          23,
          6,
          6,
          15
         ],
         "yaxis": "y"
        },
        {
         "hovertemplate": "County=Orange County<br>Year=%{x}<br>NonViolent_Offenses=%{y}<extra></extra>",
         "legendgroup": "Orange County",
         "line": {
          "color": "#636efa",
          "dash": "solid"
         },
         "marker": {
          "symbol": "circle"
         },
         "mode": "lines",
         "name": "Orange County",
         "showlegend": true,
         "type": "scattergl",
         "x": [
          2015,
          2016,
          2017,
          2018,
          2019,
          2020
         ],
         "xaxis": "x",
         "y": [
          1831,
          1898,
          1474,
          1388,
          1351,
          1231
         ],
         "yaxis": "y"
        },
        {
         "hovertemplate": "County=Palo Pinto County<br>Year=%{x}<br>NonViolent_Offenses=%{y}<extra></extra>",
         "legendgroup": "Palo Pinto County",
         "line": {
          "color": "#EF553B",
          "dash": "solid"
         },
         "marker": {
          "symbol": "circle"
         },
         "mode": "lines",
         "name": "Palo Pinto County",
         "showlegend": true,
         "type": "scattergl",
         "x": [
          2015,
          2016,
          2017,
          2018,
          2019,
          2020
         ],
         "xaxis": "x",
         "y": [
          653,
          744,
          155,
          497,
          537,
          646
         ],
         "yaxis": "y"
        },
        {
         "hovertemplate": "County=Panola County<br>Year=%{x}<br>NonViolent_Offenses=%{y}<extra></extra>",
         "legendgroup": "Panola County",
         "line": {
          "color": "#00cc96",
          "dash": "solid"
         },
         "marker": {
          "symbol": "circle"
         },
         "mode": "lines",
         "name": "Panola County",
         "showlegend": true,
         "type": "scattergl",
         "x": [
          2015,
          2016,
          2017,
          2018,
          2019,
          2020
         ],
         "xaxis": "x",
         "y": [
          609,
          606,
          532,
          477,
          454,
          432
         ],
         "yaxis": "y"
        },
        {
         "hovertemplate": "County=Parker County<br>Year=%{x}<br>NonViolent_Offenses=%{y}<extra></extra>",
         "legendgroup": "Parker County",
         "line": {
          "color": "#ab63fa",
          "dash": "solid"
         },
         "marker": {
          "symbol": "circle"
         },
         "mode": "lines",
         "name": "Parker County",
         "showlegend": true,
         "type": "scattergl",
         "x": [
          2015,
          2016,
          2017,
          2018,
          2019,
          2020
         ],
         "xaxis": "x",
         "y": [
          1545,
          1573,
          1716,
          1609,
          1434,
          1555
         ],
         "yaxis": "y"
        },
        {
         "hovertemplate": "County=Parmer County<br>Year=%{x}<br>NonViolent_Offenses=%{y}<extra></extra>",
         "legendgroup": "Parmer County",
         "line": {
          "color": "#FFA15A",
          "dash": "solid"
         },
         "marker": {
          "symbol": "circle"
         },
         "mode": "lines",
         "name": "Parmer County",
         "showlegend": true,
         "type": "scattergl",
         "x": [
          2015,
          2016,
          2017,
          2018,
          2019,
          2020
         ],
         "xaxis": "x",
         "y": [
          89,
          91,
          74,
          51,
          54,
          56
         ],
         "yaxis": "y"
        },
        {
         "hovertemplate": "County=Pecos County<br>Year=%{x}<br>NonViolent_Offenses=%{y}<extra></extra>",
         "legendgroup": "Pecos County",
         "line": {
          "color": "#19d3f3",
          "dash": "solid"
         },
         "marker": {
          "symbol": "circle"
         },
         "mode": "lines",
         "name": "Pecos County",
         "showlegend": true,
         "type": "scattergl",
         "x": [
          2015,
          2016,
          2017,
          2018,
          2019,
          2020
         ],
         "xaxis": "x",
         "y": [
          400,
          281,
          229,
          199,
          170,
          210
         ],
         "yaxis": "y"
        },
        {
         "hovertemplate": "County=Polk County<br>Year=%{x}<br>NonViolent_Offenses=%{y}<extra></extra>",
         "legendgroup": "Polk County",
         "line": {
          "color": "#FF6692",
          "dash": "solid"
         },
         "marker": {
          "symbol": "circle"
         },
         "mode": "lines",
         "name": "Polk County",
         "showlegend": true,
         "type": "scattergl",
         "x": [
          2015,
          2016,
          2017,
          2018,
          2019,
          2020
         ],
         "xaxis": "x",
         "y": [
          801,
          897,
          840,
          831,
          1060,
          861
         ],
         "yaxis": "y"
        },
        {
         "hovertemplate": "County=Potter County<br>Year=%{x}<br>NonViolent_Offenses=%{y}<extra></extra>",
         "legendgroup": "Potter County",
         "line": {
          "color": "#B6E880",
          "dash": "solid"
         },
         "marker": {
          "symbol": "circle"
         },
         "mode": "lines",
         "name": "Potter County",
         "showlegend": true,
         "type": "scattergl",
         "x": [
          2015,
          2016,
          2017,
          2018,
          2019,
          2020
         ],
         "xaxis": "x",
         "y": [
          9538,
          9815,
          9055,
          8687,
          8084,
          7616
         ],
         "yaxis": "y"
        },
        {
         "hovertemplate": "County=Presidio County<br>Year=%{x}<br>NonViolent_Offenses=%{y}<extra></extra>",
         "legendgroup": "Presidio County",
         "line": {
          "color": "#FF97FF",
          "dash": "solid"
         },
         "marker": {
          "symbol": "circle"
         },
         "mode": "lines",
         "name": "Presidio County",
         "showlegend": true,
         "type": "scattergl",
         "x": [
          2015,
          2016,
          2017,
          2018,
          2019,
          2020
         ],
         "xaxis": "x",
         "y": [
          44,
          44,
          20,
          5,
          8,
          6
         ],
         "yaxis": "y"
        },
        {
         "hovertemplate": "County=Rains County<br>Year=%{x}<br>NonViolent_Offenses=%{y}<extra></extra>",
         "legendgroup": "Rains County",
         "line": {
          "color": "#FECB52",
          "dash": "solid"
         },
         "marker": {
          "symbol": "circle"
         },
         "mode": "lines",
         "name": "Rains County",
         "showlegend": true,
         "type": "scattergl",
         "x": [
          2015,
          2016,
          2017,
          2018,
          2019,
          2020
         ],
         "xaxis": "x",
         "y": [
          94,
          117,
          94,
          102,
          60,
          56
         ],
         "yaxis": "y"
        },
        {
         "hovertemplate": "County=Randall County<br>Year=%{x}<br>NonViolent_Offenses=%{y}<extra></extra>",
         "legendgroup": "Randall County",
         "line": {
          "color": "#636efa",
          "dash": "solid"
         },
         "marker": {
          "symbol": "circle"
         },
         "mode": "lines",
         "name": "Randall County",
         "showlegend": true,
         "type": "scattergl",
         "x": [
          2015,
          2016,
          2017,
          2018,
          2019,
          2020
         ],
         "xaxis": "x",
         "y": [
          464,
          549,
          429,
          397,
          438,
          439
         ],
         "yaxis": "y"
        },
        {
         "hovertemplate": "County=Reagan County<br>Year=%{x}<br>NonViolent_Offenses=%{y}<extra></extra>",
         "legendgroup": "Reagan County",
         "line": {
          "color": "#EF553B",
          "dash": "solid"
         },
         "marker": {
          "symbol": "circle"
         },
         "mode": "lines",
         "name": "Reagan County",
         "showlegend": true,
         "type": "scattergl",
         "x": [
          2015,
          2016,
          2017,
          2018,
          2019,
          2020
         ],
         "xaxis": "x",
         "y": [
          109,
          67,
          58,
          59,
          32,
          24
         ],
         "yaxis": "y"
        },
        {
         "hovertemplate": "County=Real County<br>Year=%{x}<br>NonViolent_Offenses=%{y}<extra></extra>",
         "legendgroup": "Real County",
         "line": {
          "color": "#00cc96",
          "dash": "solid"
         },
         "marker": {
          "symbol": "circle"
         },
         "mode": "lines",
         "name": "Real County",
         "showlegend": true,
         "type": "scattergl",
         "x": [
          2015,
          2016,
          2017,
          2018,
          2019,
          2020
         ],
         "xaxis": "x",
         "y": [
          35,
          39,
          50,
          47,
          59,
          49
         ],
         "yaxis": "y"
        },
        {
         "hovertemplate": "County=Red River County<br>Year=%{x}<br>NonViolent_Offenses=%{y}<extra></extra>",
         "legendgroup": "Red River County",
         "line": {
          "color": "#ab63fa",
          "dash": "solid"
         },
         "marker": {
          "symbol": "circle"
         },
         "mode": "lines",
         "name": "Red River County",
         "showlegend": true,
         "type": "scattergl",
         "x": [
          2015,
          2016,
          2017,
          2018,
          2019,
          2020
         ],
         "xaxis": "x",
         "y": [
          193,
          114,
          149,
          82,
          106,
          112
         ],
         "yaxis": "y"
        },
        {
         "hovertemplate": "County=Reeves County<br>Year=%{x}<br>NonViolent_Offenses=%{y}<extra></extra>",
         "legendgroup": "Reeves County",
         "line": {
          "color": "#FFA15A",
          "dash": "solid"
         },
         "marker": {
          "symbol": "circle"
         },
         "mode": "lines",
         "name": "Reeves County",
         "showlegend": true,
         "type": "scattergl",
         "x": [
          2015,
          2016,
          2017,
          2018,
          2019,
          2020
         ],
         "xaxis": "x",
         "y": [
          251,
          298,
          253,
          271,
          296,
          243
         ],
         "yaxis": "y"
        },
        {
         "hovertemplate": "County=Refugio County<br>Year=%{x}<br>NonViolent_Offenses=%{y}<extra></extra>",
         "legendgroup": "Refugio County",
         "line": {
          "color": "#19d3f3",
          "dash": "solid"
         },
         "marker": {
          "symbol": "circle"
         },
         "mode": "lines",
         "name": "Refugio County",
         "showlegend": true,
         "type": "scattergl",
         "x": [
          2015,
          2016,
          2017,
          2018,
          2019,
          2020
         ],
         "xaxis": "x",
         "y": [
          65,
          66,
          25,
          60,
          77,
          50
         ],
         "yaxis": "y"
        },
        {
         "hovertemplate": "County=Roberts County<br>Year=%{x}<br>NonViolent_Offenses=%{y}<extra></extra>",
         "legendgroup": "Roberts County",
         "line": {
          "color": "#FF6692",
          "dash": "solid"
         },
         "marker": {
          "symbol": "circle"
         },
         "mode": "lines",
         "name": "Roberts County",
         "showlegend": true,
         "type": "scattergl",
         "x": [
          2015,
          2016,
          2017,
          2018,
          2019,
          2020
         ],
         "xaxis": "x",
         "y": [
          14,
          8,
          6,
          7,
          2,
          1
         ],
         "yaxis": "y"
        },
        {
         "hovertemplate": "County=Robertson County<br>Year=%{x}<br>NonViolent_Offenses=%{y}<extra></extra>",
         "legendgroup": "Robertson County",
         "line": {
          "color": "#B6E880",
          "dash": "solid"
         },
         "marker": {
          "symbol": "circle"
         },
         "mode": "lines",
         "name": "Robertson County",
         "showlegend": true,
         "type": "scattergl",
         "x": [
          2015,
          2016,
          2017,
          2018,
          2019,
          2020
         ],
         "xaxis": "x",
         "y": [
          246,
          199,
          285,
          241,
          299,
          246
         ],
         "yaxis": "y"
        },
        {
         "hovertemplate": "County=Rockwall County<br>Year=%{x}<br>NonViolent_Offenses=%{y}<extra></extra>",
         "legendgroup": "Rockwall County",
         "line": {
          "color": "#FF97FF",
          "dash": "solid"
         },
         "marker": {
          "symbol": "circle"
         },
         "mode": "lines",
         "name": "Rockwall County",
         "showlegend": true,
         "type": "scattergl",
         "x": [
          2015,
          2016,
          2017,
          2018,
          2019,
          2020
         ],
         "xaxis": "x",
         "y": [
          996,
          1033,
          1125,
          1127,
          1129,
          1238
         ],
         "yaxis": "y"
        },
        {
         "hovertemplate": "County=Runnels County<br>Year=%{x}<br>NonViolent_Offenses=%{y}<extra></extra>",
         "legendgroup": "Runnels County",
         "line": {
          "color": "#FECB52",
          "dash": "solid"
         },
         "marker": {
          "symbol": "circle"
         },
         "mode": "lines",
         "name": "Runnels County",
         "showlegend": true,
         "type": "scattergl",
         "x": [
          2015,
          2016,
          2017,
          2018,
          2019,
          2020
         ],
         "xaxis": "x",
         "y": [
          154,
          224,
          96,
          113,
          80,
          136
         ],
         "yaxis": "y"
        },
        {
         "hovertemplate": "County=Rusk County<br>Year=%{x}<br>NonViolent_Offenses=%{y}<extra></extra>",
         "legendgroup": "Rusk County",
         "line": {
          "color": "#636efa",
          "dash": "solid"
         },
         "marker": {
          "symbol": "circle"
         },
         "mode": "lines",
         "name": "Rusk County",
         "showlegend": true,
         "type": "scattergl",
         "x": [
          2015,
          2016,
          2017,
          2018,
          2019,
          2020
         ],
         "xaxis": "x",
         "y": [
          1170,
          1222,
          1000,
          1105,
          1012,
          1111
         ],
         "yaxis": "y"
        },
        {
         "hovertemplate": "County=Sabine County<br>Year=%{x}<br>NonViolent_Offenses=%{y}<extra></extra>",
         "legendgroup": "Sabine County",
         "line": {
          "color": "#EF553B",
          "dash": "solid"
         },
         "marker": {
          "symbol": "circle"
         },
         "mode": "lines",
         "name": "Sabine County",
         "showlegend": true,
         "type": "scattergl",
         "x": [
          2015,
          2016,
          2017,
          2018,
          2019,
          2020
         ],
         "xaxis": "x",
         "y": [
          145,
          166,
          133,
          143,
          77,
          65
         ],
         "yaxis": "y"
        },
        {
         "hovertemplate": "County=San Augustine County<br>Year=%{x}<br>NonViolent_Offenses=%{y}<extra></extra>",
         "legendgroup": "San Augustine County",
         "line": {
          "color": "#00cc96",
          "dash": "solid"
         },
         "marker": {
          "symbol": "circle"
         },
         "mode": "lines",
         "name": "San Augustine County",
         "showlegend": true,
         "type": "scattergl",
         "x": [
          2015,
          2016,
          2017,
          2018,
          2019,
          2020
         ],
         "xaxis": "x",
         "y": [
          31,
          91,
          63,
          58,
          57,
          55
         ],
         "yaxis": "y"
        },
        {
         "hovertemplate": "County=San Jacinto County<br>Year=%{x}<br>NonViolent_Offenses=%{y}<extra></extra>",
         "legendgroup": "San Jacinto County",
         "line": {
          "color": "#ab63fa",
          "dash": "solid"
         },
         "marker": {
          "symbol": "circle"
         },
         "mode": "lines",
         "name": "San Jacinto County",
         "showlegend": true,
         "type": "scattergl",
         "x": [
          2015,
          2016,
          2017,
          2018,
          2019,
          2020
         ],
         "xaxis": "x",
         "y": [
          466,
          362,
          466,
          360,
          330,
          711
         ],
         "yaxis": "y"
        },
        {
         "hovertemplate": "County=San Patricio County<br>Year=%{x}<br>NonViolent_Offenses=%{y}<extra></extra>",
         "legendgroup": "San Patricio County",
         "line": {
          "color": "#FFA15A",
          "dash": "solid"
         },
         "marker": {
          "symbol": "circle"
         },
         "mode": "lines",
         "name": "San Patricio County",
         "showlegend": true,
         "type": "scattergl",
         "x": [
          2015,
          2016,
          2017,
          2018,
          2019,
          2020
         ],
         "xaxis": "x",
         "y": [
          1344,
          1315,
          1387,
          1195,
          1013,
          903
         ],
         "yaxis": "y"
        },
        {
         "hovertemplate": "County=San Saba County<br>Year=%{x}<br>NonViolent_Offenses=%{y}<extra></extra>",
         "legendgroup": "San Saba County",
         "line": {
          "color": "#19d3f3",
          "dash": "solid"
         },
         "marker": {
          "symbol": "circle"
         },
         "mode": "lines",
         "name": "San Saba County",
         "showlegend": true,
         "type": "scattergl",
         "x": [
          2015,
          2016,
          2017,
          2018,
          2019,
          2020
         ],
         "xaxis": "x",
         "y": [
          36,
          29,
          40,
          83,
          76,
          62
         ],
         "yaxis": "y"
        },
        {
         "hovertemplate": "County=Schleicher County<br>Year=%{x}<br>NonViolent_Offenses=%{y}<extra></extra>",
         "legendgroup": "Schleicher County",
         "line": {
          "color": "#FF6692",
          "dash": "solid"
         },
         "marker": {
          "symbol": "circle"
         },
         "mode": "lines",
         "name": "Schleicher County",
         "showlegend": true,
         "type": "scattergl",
         "x": [
          2015,
          2016,
          2017,
          2018,
          2019,
          2020
         ],
         "xaxis": "x",
         "y": [
          32,
          54,
          31,
          27,
          13,
          18
         ],
         "yaxis": "y"
        },
        {
         "hovertemplate": "County=Scurry County<br>Year=%{x}<br>NonViolent_Offenses=%{y}<extra></extra>",
         "legendgroup": "Scurry County",
         "line": {
          "color": "#B6E880",
          "dash": "solid"
         },
         "marker": {
          "symbol": "circle"
         },
         "mode": "lines",
         "name": "Scurry County",
         "showlegend": true,
         "type": "scattergl",
         "x": [
          2015,
          2016,
          2017,
          2018,
          2019,
          2020
         ],
         "xaxis": "x",
         "y": [
          402,
          372,
          253,
          225,
          268,
          206
         ],
         "yaxis": "y"
        },
        {
         "hovertemplate": "County=Shackelford County<br>Year=%{x}<br>NonViolent_Offenses=%{y}<extra></extra>",
         "legendgroup": "Shackelford County",
         "line": {
          "color": "#FF97FF",
          "dash": "solid"
         },
         "marker": {
          "symbol": "circle"
         },
         "mode": "lines",
         "name": "Shackelford County",
         "showlegend": true,
         "type": "scattergl",
         "x": [
          2015,
          2016,
          2017,
          2018,
          2019,
          2020
         ],
         "xaxis": "x",
         "y": [
          29,
          32,
          14,
          9,
          3,
          11
         ],
         "yaxis": "y"
        },
        {
         "hovertemplate": "County=Shelby County<br>Year=%{x}<br>NonViolent_Offenses=%{y}<extra></extra>",
         "legendgroup": "Shelby County",
         "line": {
          "color": "#FECB52",
          "dash": "solid"
         },
         "marker": {
          "symbol": "circle"
         },
         "mode": "lines",
         "name": "Shelby County",
         "showlegend": true,
         "type": "scattergl",
         "x": [
          2015,
          2016,
          2017,
          2018,
          2019,
          2020
         ],
         "xaxis": "x",
         "y": [
          488,
          433,
          385,
          314,
          379,
          364
         ],
         "yaxis": "y"
        },
        {
         "hovertemplate": "County=Sherman County<br>Year=%{x}<br>NonViolent_Offenses=%{y}<extra></extra>",
         "legendgroup": "Sherman County",
         "line": {
          "color": "#636efa",
          "dash": "solid"
         },
         "marker": {
          "symbol": "circle"
         },
         "mode": "lines",
         "name": "Sherman County",
         "showlegend": true,
         "type": "scattergl",
         "x": [
          2015,
          2016,
          2017,
          2018,
          2019,
          2020
         ],
         "xaxis": "x",
         "y": [
          25,
          8,
          6,
          4,
          8,
          6
         ],
         "yaxis": "y"
        },
        {
         "hovertemplate": "County=Smith County<br>Year=%{x}<br>NonViolent_Offenses=%{y}<extra></extra>",
         "legendgroup": "Smith County",
         "line": {
          "color": "#EF553B",
          "dash": "solid"
         },
         "marker": {
          "symbol": "circle"
         },
         "mode": "lines",
         "name": "Smith County",
         "showlegend": true,
         "type": "scattergl",
         "x": [
          2015,
          2016,
          2017,
          2018,
          2019,
          2020
         ],
         "xaxis": "x",
         "y": [
          6452,
          6500,
          5635,
          4916,
          5010,
          5083
         ],
         "yaxis": "y"
        },
        {
         "hovertemplate": "County=Somervell County<br>Year=%{x}<br>NonViolent_Offenses=%{y}<extra></extra>",
         "legendgroup": "Somervell County",
         "line": {
          "color": "#00cc96",
          "dash": "solid"
         },
         "marker": {
          "symbol": "circle"
         },
         "mode": "lines",
         "name": "Somervell County",
         "showlegend": true,
         "type": "scattergl",
         "x": [
          2015,
          2016,
          2017,
          2018,
          2019,
          2020
         ],
         "xaxis": "x",
         "y": [
          76,
          70,
          74,
          35,
          30,
          70
         ],
         "yaxis": "y"
        },
        {
         "hovertemplate": "County=Starr County<br>Year=%{x}<br>NonViolent_Offenses=%{y}<extra></extra>",
         "legendgroup": "Starr County",
         "line": {
          "color": "#ab63fa",
          "dash": "solid"
         },
         "marker": {
          "symbol": "circle"
         },
         "mode": "lines",
         "name": "Starr County",
         "showlegend": true,
         "type": "scattergl",
         "x": [
          2015,
          2016,
          2017,
          2018,
          2019,
          2020
         ],
         "xaxis": "x",
         "y": [
          796,
          737,
          669,
          487,
          638,
          682
         ],
         "yaxis": "y"
        },
        {
         "hovertemplate": "County=Stephens County<br>Year=%{x}<br>NonViolent_Offenses=%{y}<extra></extra>",
         "legendgroup": "Stephens County",
         "line": {
          "color": "#FFA15A",
          "dash": "solid"
         },
         "marker": {
          "symbol": "circle"
         },
         "mode": "lines",
         "name": "Stephens County",
         "showlegend": true,
         "type": "scattergl",
         "x": [
          2015,
          2016,
          2017,
          2018,
          2019,
          2020
         ],
         "xaxis": "x",
         "y": [
          143,
          161,
          127,
          179,
          125,
          159
         ],
         "yaxis": "y"
        },
        {
         "hovertemplate": "County=Sterling County<br>Year=%{x}<br>NonViolent_Offenses=%{y}<extra></extra>",
         "legendgroup": "Sterling County",
         "line": {
          "color": "#19d3f3",
          "dash": "solid"
         },
         "marker": {
          "symbol": "circle"
         },
         "mode": "lines",
         "name": "Sterling County",
         "showlegend": true,
         "type": "scattergl",
         "x": [
          2015,
          2016,
          2017,
          2018,
          2019,
          2020
         ],
         "xaxis": "x",
         "y": [
          1,
          1,
          0,
          4,
          13,
          16
         ],
         "yaxis": "y"
        },
        {
         "hovertemplate": "County=Stonewall County<br>Year=%{x}<br>NonViolent_Offenses=%{y}<extra></extra>",
         "legendgroup": "Stonewall County",
         "line": {
          "color": "#FF6692",
          "dash": "solid"
         },
         "marker": {
          "symbol": "circle"
         },
         "mode": "lines",
         "name": "Stonewall County",
         "showlegend": true,
         "type": "scattergl",
         "x": [
          2015,
          2016,
          2017,
          2018,
          2019,
          2020
         ],
         "xaxis": "x",
         "y": [
          4,
          5,
          8,
          3,
          0,
          0
         ],
         "yaxis": "y"
        },
        {
         "hovertemplate": "County=Sutton County<br>Year=%{x}<br>NonViolent_Offenses=%{y}<extra></extra>",
         "legendgroup": "Sutton County",
         "line": {
          "color": "#B6E880",
          "dash": "solid"
         },
         "marker": {
          "symbol": "circle"
         },
         "mode": "lines",
         "name": "Sutton County",
         "showlegend": true,
         "type": "scattergl",
         "x": [
          2015,
          2016,
          2017,
          2018,
          2019,
          2020
         ],
         "xaxis": "x",
         "y": [
          31,
          44,
          41,
          27,
          15,
          20
         ],
         "yaxis": "y"
        },
        {
         "hovertemplate": "County=Swisher County<br>Year=%{x}<br>NonViolent_Offenses=%{y}<extra></extra>",
         "legendgroup": "Swisher County",
         "line": {
          "color": "#FF97FF",
          "dash": "solid"
         },
         "marker": {
          "symbol": "circle"
         },
         "mode": "lines",
         "name": "Swisher County",
         "showlegend": true,
         "type": "scattergl",
         "x": [
          2015,
          2016,
          2017,
          2018,
          2019,
          2020
         ],
         "xaxis": "x",
         "y": [
          104,
          119,
          122,
          142,
          163,
          133
         ],
         "yaxis": "y"
        },
        {
         "hovertemplate": "County=Tarrant County<br>Year=%{x}<br>NonViolent_Offenses=%{y}<extra></extra>",
         "legendgroup": "Tarrant County",
         "line": {
          "color": "#FECB52",
          "dash": "solid"
         },
         "marker": {
          "symbol": "circle"
         },
         "mode": "lines",
         "name": "Tarrant County",
         "showlegend": true,
         "type": "scattergl",
         "x": [
          2015,
          2016,
          2017,
          2018,
          2019,
          2020
         ],
         "xaxis": "x",
         "y": [
          59823,
          56044,
          56618,
          52308,
          50725,
          50309
         ],
         "yaxis": "y"
        },
        {
         "hovertemplate": "County=Taylor County<br>Year=%{x}<br>NonViolent_Offenses=%{y}<extra></extra>",
         "legendgroup": "Taylor County",
         "line": {
          "color": "#636efa",
          "dash": "solid"
         },
         "marker": {
          "symbol": "circle"
         },
         "mode": "lines",
         "name": "Taylor County",
         "showlegend": true,
         "type": "scattergl",
         "x": [
          2015,
          2016,
          2017,
          2018,
          2019,
          2020
         ],
         "xaxis": "x",
         "y": [
          5716,
          4584,
          4086,
          3770,
          3333,
          2860
         ],
         "yaxis": "y"
        },
        {
         "hovertemplate": "County=Terrell County<br>Year=%{x}<br>NonViolent_Offenses=%{y}<extra></extra>",
         "legendgroup": "Terrell County",
         "line": {
          "color": "#EF553B",
          "dash": "solid"
         },
         "marker": {
          "symbol": "circle"
         },
         "mode": "lines",
         "name": "Terrell County",
         "showlegend": true,
         "type": "scattergl",
         "x": [
          2015,
          2016,
          2017,
          2018
         ],
         "xaxis": "x",
         "y": [
          10,
          12,
          11,
          0
         ],
         "yaxis": "y"
        },
        {
         "hovertemplate": "County=Terry County<br>Year=%{x}<br>NonViolent_Offenses=%{y}<extra></extra>",
         "legendgroup": "Terry County",
         "line": {
          "color": "#00cc96",
          "dash": "solid"
         },
         "marker": {
          "symbol": "circle"
         },
         "mode": "lines",
         "name": "Terry County",
         "showlegend": true,
         "type": "scattergl",
         "x": [
          2015,
          2016,
          2017,
          2018,
          2019,
          2020
         ],
         "xaxis": "x",
         "y": [
          281,
          230,
          172,
          180,
          151,
          212
         ],
         "yaxis": "y"
        },
        {
         "hovertemplate": "County=Throckmorton County<br>Year=%{x}<br>NonViolent_Offenses=%{y}<extra></extra>",
         "legendgroup": "Throckmorton County",
         "line": {
          "color": "#ab63fa",
          "dash": "solid"
         },
         "marker": {
          "symbol": "circle"
         },
         "mode": "lines",
         "name": "Throckmorton County",
         "showlegend": true,
         "type": "scattergl",
         "x": [
          2015,
          2016,
          2017,
          2018,
          2019,
          2020
         ],
         "xaxis": "x",
         "y": [
          6,
          0,
          6,
          5,
          8,
          6
         ],
         "yaxis": "y"
        },
        {
         "hovertemplate": "County=Titus County<br>Year=%{x}<br>NonViolent_Offenses=%{y}<extra></extra>",
         "legendgroup": "Titus County",
         "line": {
          "color": "#FFA15A",
          "dash": "solid"
         },
         "marker": {
          "symbol": "circle"
         },
         "mode": "lines",
         "name": "Titus County",
         "showlegend": true,
         "type": "scattergl",
         "x": [
          2015,
          2016,
          2017,
          2018,
          2019,
          2020
         ],
         "xaxis": "x",
         "y": [
          775,
          764,
          763,
          731,
          628,
          531
         ],
         "yaxis": "y"
        },
        {
         "hovertemplate": "County=Tom Green County<br>Year=%{x}<br>NonViolent_Offenses=%{y}<extra></extra>",
         "legendgroup": "Tom Green County",
         "line": {
          "color": "#19d3f3",
          "dash": "solid"
         },
         "marker": {
          "symbol": "circle"
         },
         "mode": "lines",
         "name": "Tom Green County",
         "showlegend": true,
         "type": "scattergl",
         "x": [
          2015,
          2016,
          2017,
          2018,
          2019,
          2020
         ],
         "xaxis": "x",
         "y": [
          4120,
          5505,
          4893,
          3759,
          3500,
          3244
         ],
         "yaxis": "y"
        },
        {
         "hovertemplate": "County=Travis County<br>Year=%{x}<br>NonViolent_Offenses=%{y}<extra></extra>",
         "legendgroup": "Travis County",
         "line": {
          "color": "#FF6692",
          "dash": "solid"
         },
         "marker": {
          "symbol": "circle"
         },
         "mode": "lines",
         "name": "Travis County",
         "showlegend": true,
         "type": "scattergl",
         "x": [
          2015,
          2016,
          2017,
          2018,
          2019,
          2020
         ],
         "xaxis": "x",
         "y": [
          41322,
          39598,
          37146,
          39197,
          42735,
          42230
         ],
         "yaxis": "y"
        },
        {
         "hovertemplate": "County=Trinity County<br>Year=%{x}<br>NonViolent_Offenses=%{y}<extra></extra>",
         "legendgroup": "Trinity County",
         "line": {
          "color": "#B6E880",
          "dash": "solid"
         },
         "marker": {
          "symbol": "circle"
         },
         "mode": "lines",
         "name": "Trinity County",
         "showlegend": true,
         "type": "scattergl",
         "x": [
          2015,
          2016,
          2017,
          2018,
          2019,
          2020
         ],
         "xaxis": "x",
         "y": [
          75,
          170,
          184,
          167,
          73,
          64
         ],
         "yaxis": "y"
        },
        {
         "hovertemplate": "County=Tyler County<br>Year=%{x}<br>NonViolent_Offenses=%{y}<extra></extra>",
         "legendgroup": "Tyler County",
         "line": {
          "color": "#FF97FF",
          "dash": "solid"
         },
         "marker": {
          "symbol": "circle"
         },
         "mode": "lines",
         "name": "Tyler County",
         "showlegend": true,
         "type": "scattergl",
         "x": [
          2015,
          2016,
          2017,
          2018,
          2019,
          2020
         ],
         "xaxis": "x",
         "y": [
          243,
          249,
          326,
          264,
          257,
          185
         ],
         "yaxis": "y"
        },
        {
         "hovertemplate": "County=Upshur County<br>Year=%{x}<br>NonViolent_Offenses=%{y}<extra></extra>",
         "legendgroup": "Upshur County",
         "line": {
          "color": "#FECB52",
          "dash": "solid"
         },
         "marker": {
          "symbol": "circle"
         },
         "mode": "lines",
         "name": "Upshur County",
         "showlegend": true,
         "type": "scattergl",
         "x": [
          2015,
          2016,
          2017,
          2018,
          2019,
          2020
         ],
         "xaxis": "x",
         "y": [
          678,
          558,
          472,
          371,
          343,
          485
         ],
         "yaxis": "y"
        },
        {
         "hovertemplate": "County=Upton County<br>Year=%{x}<br>NonViolent_Offenses=%{y}<extra></extra>",
         "legendgroup": "Upton County",
         "line": {
          "color": "#636efa",
          "dash": "solid"
         },
         "marker": {
          "symbol": "circle"
         },
         "mode": "lines",
         "name": "Upton County",
         "showlegend": true,
         "type": "scattergl",
         "x": [
          2015,
          2016,
          2017,
          2018,
          2019,
          2020
         ],
         "xaxis": "x",
         "y": [
          9,
          15,
          20,
          18,
          31,
          16
         ],
         "yaxis": "y"
        },
        {
         "hovertemplate": "County=Uvalde County<br>Year=%{x}<br>NonViolent_Offenses=%{y}<extra></extra>",
         "legendgroup": "Uvalde County",
         "line": {
          "color": "#EF553B",
          "dash": "solid"
         },
         "marker": {
          "symbol": "circle"
         },
         "mode": "lines",
         "name": "Uvalde County",
         "showlegend": true,
         "type": "scattergl",
         "x": [
          2015,
          2016,
          2017,
          2018,
          2019,
          2020
         ],
         "xaxis": "x",
         "y": [
          925,
          780,
          718,
          713,
          717,
          699
         ],
         "yaxis": "y"
        },
        {
         "hovertemplate": "County=Val Verde County<br>Year=%{x}<br>NonViolent_Offenses=%{y}<extra></extra>",
         "legendgroup": "Val Verde County",
         "line": {
          "color": "#00cc96",
          "dash": "solid"
         },
         "marker": {
          "symbol": "circle"
         },
         "mode": "lines",
         "name": "Val Verde County",
         "showlegend": true,
         "type": "scattergl",
         "x": [
          2015,
          2016,
          2017,
          2018,
          2019,
          2020
         ],
         "xaxis": "x",
         "y": [
          1108,
          1032,
          796,
          844,
          697,
          670
         ],
         "yaxis": "y"
        },
        {
         "hovertemplate": "County=Van Zandt County<br>Year=%{x}<br>NonViolent_Offenses=%{y}<extra></extra>",
         "legendgroup": "Van Zandt County",
         "line": {
          "color": "#ab63fa",
          "dash": "solid"
         },
         "marker": {
          "symbol": "circle"
         },
         "mode": "lines",
         "name": "Van Zandt County",
         "showlegend": true,
         "type": "scattergl",
         "x": [
          2015,
          2016,
          2017,
          2018,
          2019,
          2020
         ],
         "xaxis": "x",
         "y": [
          653,
          567,
          521,
          351,
          461,
          318
         ],
         "yaxis": "y"
        },
        {
         "hovertemplate": "County=Victoria County<br>Year=%{x}<br>NonViolent_Offenses=%{y}<extra></extra>",
         "legendgroup": "Victoria County",
         "line": {
          "color": "#FFA15A",
          "dash": "solid"
         },
         "marker": {
          "symbol": "circle"
         },
         "mode": "lines",
         "name": "Victoria County",
         "showlegend": true,
         "type": "scattergl",
         "x": [
          2015,
          2016,
          2017,
          2018,
          2019,
          2020
         ],
         "xaxis": "x",
         "y": [
          2745,
          2819,
          3022,
          2415,
          2391,
          2131
         ],
         "yaxis": "y"
        },
        {
         "hovertemplate": "County=Walker County<br>Year=%{x}<br>NonViolent_Offenses=%{y}<extra></extra>",
         "legendgroup": "Walker County",
         "line": {
          "color": "#19d3f3",
          "dash": "solid"
         },
         "marker": {
          "symbol": "circle"
         },
         "mode": "lines",
         "name": "Walker County",
         "showlegend": true,
         "type": "scattergl",
         "x": [
          2015,
          2016,
          2017,
          2018,
          2019,
          2020
         ],
         "xaxis": "x",
         "y": [
          1177,
          1026,
          886,
          883,
          910,
          860
         ],
         "yaxis": "y"
        },
        {
         "hovertemplate": "County=Waller County<br>Year=%{x}<br>NonViolent_Offenses=%{y}<extra></extra>",
         "legendgroup": "Waller County",
         "line": {
          "color": "#FF6692",
          "dash": "solid"
         },
         "marker": {
          "symbol": "circle"
         },
         "mode": "lines",
         "name": "Waller County",
         "showlegend": true,
         "type": "scattergl",
         "x": [
          2015,
          2016,
          2017,
          2018,
          2019,
          2020
         ],
         "xaxis": "x",
         "y": [
          727,
          701,
          667,
          782,
          695,
          648
         ],
         "yaxis": "y"
        },
        {
         "hovertemplate": "County=Ward County<br>Year=%{x}<br>NonViolent_Offenses=%{y}<extra></extra>",
         "legendgroup": "Ward County",
         "line": {
          "color": "#B6E880",
          "dash": "solid"
         },
         "marker": {
          "symbol": "circle"
         },
         "mode": "lines",
         "name": "Ward County",
         "showlegend": true,
         "type": "scattergl",
         "x": [
          2015,
          2016,
          2017,
          2018,
          2019,
          2020
         ],
         "xaxis": "x",
         "y": [
          441,
          284,
          196,
          254,
          354,
          286
         ],
         "yaxis": "y"
        },
        {
         "hovertemplate": "County=Washington County<br>Year=%{x}<br>NonViolent_Offenses=%{y}<extra></extra>",
         "legendgroup": "Washington County",
         "line": {
          "color": "#FF97FF",
          "dash": "solid"
         },
         "marker": {
          "symbol": "circle"
         },
         "mode": "lines",
         "name": "Washington County",
         "showlegend": true,
         "type": "scattergl",
         "x": [
          2015,
          2016,
          2017,
          2018,
          2019,
          2020
         ],
         "xaxis": "x",
         "y": [
          534,
          521,
          439,
          457,
          501,
          409
         ],
         "yaxis": "y"
        },
        {
         "hovertemplate": "County=Webb County<br>Year=%{x}<br>NonViolent_Offenses=%{y}<extra></extra>",
         "legendgroup": "Webb County",
         "line": {
          "color": "#FECB52",
          "dash": "solid"
         },
         "marker": {
          "symbol": "circle"
         },
         "mode": "lines",
         "name": "Webb County",
         "showlegend": true,
         "type": "scattergl",
         "x": [
          2015,
          2016,
          2017,
          2018,
          2019,
          2020
         ],
         "xaxis": "x",
         "y": [
          8917,
          8188,
          6715,
          6661,
          4974,
          4108
         ],
         "yaxis": "y"
        },
        {
         "hovertemplate": "County=Wharton County<br>Year=%{x}<br>NonViolent_Offenses=%{y}<extra></extra>",
         "legendgroup": "Wharton County",
         "line": {
          "color": "#636efa",
          "dash": "solid"
         },
         "marker": {
          "symbol": "circle"
         },
         "mode": "lines",
         "name": "Wharton County",
         "showlegend": true,
         "type": "scattergl",
         "x": [
          2015,
          2016,
          2017,
          2018,
          2019,
          2020
         ],
         "xaxis": "x",
         "y": [
          1082,
          1095,
          918,
          729,
          797,
          804
         ],
         "yaxis": "y"
        },
        {
         "hovertemplate": "County=Wheeler County<br>Year=%{x}<br>NonViolent_Offenses=%{y}<extra></extra>",
         "legendgroup": "Wheeler County",
         "line": {
          "color": "#EF553B",
          "dash": "solid"
         },
         "marker": {
          "symbol": "circle"
         },
         "mode": "lines",
         "name": "Wheeler County",
         "showlegend": true,
         "type": "scattergl",
         "x": [
          2015,
          2016,
          2017,
          2018,
          2019,
          2020
         ],
         "xaxis": "x",
         "y": [
          78,
          72,
          38,
          41,
          11,
          12
         ],
         "yaxis": "y"
        },
        {
         "hovertemplate": "County=Wichita County<br>Year=%{x}<br>NonViolent_Offenses=%{y}<extra></extra>",
         "legendgroup": "Wichita County",
         "line": {
          "color": "#00cc96",
          "dash": "solid"
         },
         "marker": {
          "symbol": "circle"
         },
         "mode": "lines",
         "name": "Wichita County",
         "showlegend": true,
         "type": "scattergl",
         "x": [
          2015,
          2016,
          2017,
          2018,
          2019,
          2020
         ],
         "xaxis": "x",
         "y": [
          4588,
          4352,
          3856,
          3760,
          3642,
          3624
         ],
         "yaxis": "y"
        },
        {
         "hovertemplate": "County=Wilbarger County<br>Year=%{x}<br>NonViolent_Offenses=%{y}<extra></extra>",
         "legendgroup": "Wilbarger County",
         "line": {
          "color": "#ab63fa",
          "dash": "solid"
         },
         "marker": {
          "symbol": "circle"
         },
         "mode": "lines",
         "name": "Wilbarger County",
         "showlegend": true,
         "type": "scattergl",
         "x": [
          2015,
          2016,
          2017,
          2018,
          2019,
          2020
         ],
         "xaxis": "x",
         "y": [
          307,
          368,
          351,
          287,
          206,
          166
         ],
         "yaxis": "y"
        },
        {
         "hovertemplate": "County=Willacy County<br>Year=%{x}<br>NonViolent_Offenses=%{y}<extra></extra>",
         "legendgroup": "Willacy County",
         "line": {
          "color": "#FFA15A",
          "dash": "solid"
         },
         "marker": {
          "symbol": "circle"
         },
         "mode": "lines",
         "name": "Willacy County",
         "showlegend": true,
         "type": "scattergl",
         "x": [
          2015,
          2016,
          2017,
          2018,
          2019,
          2020
         ],
         "xaxis": "x",
         "y": [
          723,
          606,
          627,
          570,
          400,
          256
         ],
         "yaxis": "y"
        },
        {
         "hovertemplate": "County=Williamson County<br>Year=%{x}<br>NonViolent_Offenses=%{y}<extra></extra>",
         "legendgroup": "Williamson County",
         "line": {
          "color": "#19d3f3",
          "dash": "solid"
         },
         "marker": {
          "symbol": "circle"
         },
         "mode": "lines",
         "name": "Williamson County",
         "showlegend": true,
         "type": "scattergl",
         "x": [
          2015,
          2016,
          2017,
          2018,
          2019,
          2020
         ],
         "xaxis": "x",
         "y": [
          6312,
          6826,
          7141,
          6704,
          6118,
          7630
         ],
         "yaxis": "y"
        },
        {
         "hovertemplate": "County=Wilson County<br>Year=%{x}<br>NonViolent_Offenses=%{y}<extra></extra>",
         "legendgroup": "Wilson County",
         "line": {
          "color": "#FF6692",
          "dash": "solid"
         },
         "marker": {
          "symbol": "circle"
         },
         "mode": "lines",
         "name": "Wilson County",
         "showlegend": true,
         "type": "scattergl",
         "x": [
          2015,
          2016,
          2017,
          2018,
          2019,
          2020
         ],
         "xaxis": "x",
         "y": [
          589,
          516,
          464,
          294,
          409,
          298
         ],
         "yaxis": "y"
        },
        {
         "hovertemplate": "County=Winkler County<br>Year=%{x}<br>NonViolent_Offenses=%{y}<extra></extra>",
         "legendgroup": "Winkler County",
         "line": {
          "color": "#B6E880",
          "dash": "solid"
         },
         "marker": {
          "symbol": "circle"
         },
         "mode": "lines",
         "name": "Winkler County",
         "showlegend": true,
         "type": "scattergl",
         "x": [
          2015,
          2016,
          2017,
          2018,
          2019,
          2020
         ],
         "xaxis": "x",
         "y": [
          50,
          83,
          57,
          117,
          228,
          206
         ],
         "yaxis": "y"
        },
        {
         "hovertemplate": "County=Wise County<br>Year=%{x}<br>NonViolent_Offenses=%{y}<extra></extra>",
         "legendgroup": "Wise County",
         "line": {
          "color": "#FF97FF",
          "dash": "solid"
         },
         "marker": {
          "symbol": "circle"
         },
         "mode": "lines",
         "name": "Wise County",
         "showlegend": true,
         "type": "scattergl",
         "x": [
          2015,
          2016,
          2017,
          2018,
          2019,
          2020
         ],
         "xaxis": "x",
         "y": [
          703,
          660,
          633,
          550,
          668,
          660
         ],
         "yaxis": "y"
        },
        {
         "hovertemplate": "County=Wood County<br>Year=%{x}<br>NonViolent_Offenses=%{y}<extra></extra>",
         "legendgroup": "Wood County",
         "line": {
          "color": "#FECB52",
          "dash": "solid"
         },
         "marker": {
          "symbol": "circle"
         },
         "mode": "lines",
         "name": "Wood County",
         "showlegend": true,
         "type": "scattergl",
         "x": [
          2015,
          2016,
          2017,
          2018,
          2019,
          2020
         ],
         "xaxis": "x",
         "y": [
          644,
          521,
          492,
          367,
          408,
          419
         ],
         "yaxis": "y"
        },
        {
         "hovertemplate": "County=Yoakum County<br>Year=%{x}<br>NonViolent_Offenses=%{y}<extra></extra>",
         "legendgroup": "Yoakum County",
         "line": {
          "color": "#636efa",
          "dash": "solid"
         },
         "marker": {
          "symbol": "circle"
         },
         "mode": "lines",
         "name": "Yoakum County",
         "showlegend": true,
         "type": "scattergl",
         "x": [
          2015,
          2016,
          2017,
          2018,
          2019,
          2020
         ],
         "xaxis": "x",
         "y": [
          119,
          108,
          72,
          65,
          81,
          62
         ],
         "yaxis": "y"
        },
        {
         "hovertemplate": "County=Young County<br>Year=%{x}<br>NonViolent_Offenses=%{y}<extra></extra>",
         "legendgroup": "Young County",
         "line": {
          "color": "#EF553B",
          "dash": "solid"
         },
         "marker": {
          "symbol": "circle"
         },
         "mode": "lines",
         "name": "Young County",
         "showlegend": true,
         "type": "scattergl",
         "x": [
          2015,
          2016,
          2017,
          2018,
          2019,
          2020
         ],
         "xaxis": "x",
         "y": [
          312,
          233,
          182,
          161,
          152,
          161
         ],
         "yaxis": "y"
        },
        {
         "hovertemplate": "County=Zapata County<br>Year=%{x}<br>NonViolent_Offenses=%{y}<extra></extra>",
         "legendgroup": "Zapata County",
         "line": {
          "color": "#00cc96",
          "dash": "solid"
         },
         "marker": {
          "symbol": "circle"
         },
         "mode": "lines",
         "name": "Zapata County",
         "showlegend": true,
         "type": "scattergl",
         "x": [
          2015,
          2019,
          2020
         ],
         "xaxis": "x",
         "y": [
          193,
          183,
          108
         ],
         "yaxis": "y"
        },
        {
         "hovertemplate": "County=Zavala County<br>Year=%{x}<br>NonViolent_Offenses=%{y}<extra></extra>",
         "legendgroup": "Zavala County",
         "line": {
          "color": "#ab63fa",
          "dash": "solid"
         },
         "marker": {
          "symbol": "circle"
         },
         "mode": "lines",
         "name": "Zavala County",
         "showlegend": true,
         "type": "scattergl",
         "x": [
          2015,
          2016,
          2017,
          2018,
          2019,
          2020
         ],
         "xaxis": "x",
         "y": [
          288,
          164,
          384,
          299,
          73,
          72
         ],
         "yaxis": "y"
        }
       ],
       "layout": {
        "legend": {
         "title": {
          "text": "County"
         },
         "tracegroupgap": 0
        },
        "margin": {
         "t": 60
        },
        "template": {
         "data": {
          "bar": [
           {
            "error_x": {
             "color": "#2a3f5f"
            },
            "error_y": {
             "color": "#2a3f5f"
            },
            "marker": {
             "line": {
              "color": "#E5ECF6",
              "width": 0.5
             },
             "pattern": {
              "fillmode": "overlay",
              "size": 10,
              "solidity": 0.2
             }
            },
            "type": "bar"
           }
          ],
          "barpolar": [
           {
            "marker": {
             "line": {
              "color": "#E5ECF6",
              "width": 0.5
             },
             "pattern": {
              "fillmode": "overlay",
              "size": 10,
              "solidity": 0.2
             }
            },
            "type": "barpolar"
           }
          ],
          "carpet": [
           {
            "aaxis": {
             "endlinecolor": "#2a3f5f",
             "gridcolor": "white",
             "linecolor": "white",
             "minorgridcolor": "white",
             "startlinecolor": "#2a3f5f"
            },
            "baxis": {
             "endlinecolor": "#2a3f5f",
             "gridcolor": "white",
             "linecolor": "white",
             "minorgridcolor": "white",
             "startlinecolor": "#2a3f5f"
            },
            "type": "carpet"
           }
          ],
          "choropleth": [
           {
            "colorbar": {
             "outlinewidth": 0,
             "ticks": ""
            },
            "type": "choropleth"
           }
          ],
          "contour": [
           {
            "colorbar": {
             "outlinewidth": 0,
             "ticks": ""
            },
            "colorscale": [
             [
              0,
              "#0d0887"
             ],
             [
              0.1111111111111111,
              "#46039f"
             ],
             [
              0.2222222222222222,
              "#7201a8"
             ],
             [
              0.3333333333333333,
              "#9c179e"
             ],
             [
              0.4444444444444444,
              "#bd3786"
             ],
             [
              0.5555555555555556,
              "#d8576b"
             ],
             [
              0.6666666666666666,
              "#ed7953"
             ],
             [
              0.7777777777777778,
              "#fb9f3a"
             ],
             [
              0.8888888888888888,
              "#fdca26"
             ],
             [
              1,
              "#f0f921"
             ]
            ],
            "type": "contour"
           }
          ],
          "contourcarpet": [
           {
            "colorbar": {
             "outlinewidth": 0,
             "ticks": ""
            },
            "type": "contourcarpet"
           }
          ],
          "heatmap": [
           {
            "colorbar": {
             "outlinewidth": 0,
             "ticks": ""
            },
            "colorscale": [
             [
              0,
              "#0d0887"
             ],
             [
              0.1111111111111111,
              "#46039f"
             ],
             [
              0.2222222222222222,
              "#7201a8"
             ],
             [
              0.3333333333333333,
              "#9c179e"
             ],
             [
              0.4444444444444444,
              "#bd3786"
             ],
             [
              0.5555555555555556,
              "#d8576b"
             ],
             [
              0.6666666666666666,
              "#ed7953"
             ],
             [
              0.7777777777777778,
              "#fb9f3a"
             ],
             [
              0.8888888888888888,
              "#fdca26"
             ],
             [
              1,
              "#f0f921"
             ]
            ],
            "type": "heatmap"
           }
          ],
          "heatmapgl": [
           {
            "colorbar": {
             "outlinewidth": 0,
             "ticks": ""
            },
            "colorscale": [
             [
              0,
              "#0d0887"
             ],
             [
              0.1111111111111111,
              "#46039f"
             ],
             [
              0.2222222222222222,
              "#7201a8"
             ],
             [
              0.3333333333333333,
              "#9c179e"
             ],
             [
              0.4444444444444444,
              "#bd3786"
             ],
             [
              0.5555555555555556,
              "#d8576b"
             ],
             [
              0.6666666666666666,
              "#ed7953"
             ],
             [
              0.7777777777777778,
              "#fb9f3a"
             ],
             [
              0.8888888888888888,
              "#fdca26"
             ],
             [
              1,
              "#f0f921"
             ]
            ],
            "type": "heatmapgl"
           }
          ],
          "histogram": [
           {
            "marker": {
             "pattern": {
              "fillmode": "overlay",
              "size": 10,
              "solidity": 0.2
             }
            },
            "type": "histogram"
           }
          ],
          "histogram2d": [
           {
            "colorbar": {
             "outlinewidth": 0,
             "ticks": ""
            },
            "colorscale": [
             [
              0,
              "#0d0887"
             ],
             [
              0.1111111111111111,
              "#46039f"
             ],
             [
              0.2222222222222222,
              "#7201a8"
             ],
             [
              0.3333333333333333,
              "#9c179e"
             ],
             [
              0.4444444444444444,
              "#bd3786"
             ],
             [
              0.5555555555555556,
              "#d8576b"
             ],
             [
              0.6666666666666666,
              "#ed7953"
             ],
             [
              0.7777777777777778,
              "#fb9f3a"
             ],
             [
              0.8888888888888888,
              "#fdca26"
             ],
             [
              1,
              "#f0f921"
             ]
            ],
            "type": "histogram2d"
           }
          ],
          "histogram2dcontour": [
           {
            "colorbar": {
             "outlinewidth": 0,
             "ticks": ""
            },
            "colorscale": [
             [
              0,
              "#0d0887"
             ],
             [
              0.1111111111111111,
              "#46039f"
             ],
             [
              0.2222222222222222,
              "#7201a8"
             ],
             [
              0.3333333333333333,
              "#9c179e"
             ],
             [
              0.4444444444444444,
              "#bd3786"
             ],
             [
              0.5555555555555556,
              "#d8576b"
             ],
             [
              0.6666666666666666,
              "#ed7953"
             ],
             [
              0.7777777777777778,
              "#fb9f3a"
             ],
             [
              0.8888888888888888,
              "#fdca26"
             ],
             [
              1,
              "#f0f921"
             ]
            ],
            "type": "histogram2dcontour"
           }
          ],
          "mesh3d": [
           {
            "colorbar": {
             "outlinewidth": 0,
             "ticks": ""
            },
            "type": "mesh3d"
           }
          ],
          "parcoords": [
           {
            "line": {
             "colorbar": {
              "outlinewidth": 0,
              "ticks": ""
             }
            },
            "type": "parcoords"
           }
          ],
          "pie": [
           {
            "automargin": true,
            "type": "pie"
           }
          ],
          "scatter": [
           {
            "marker": {
             "colorbar": {
              "outlinewidth": 0,
              "ticks": ""
             }
            },
            "type": "scatter"
           }
          ],
          "scatter3d": [
           {
            "line": {
             "colorbar": {
              "outlinewidth": 0,
              "ticks": ""
             }
            },
            "marker": {
             "colorbar": {
              "outlinewidth": 0,
              "ticks": ""
             }
            },
            "type": "scatter3d"
           }
          ],
          "scattercarpet": [
           {
            "marker": {
             "colorbar": {
              "outlinewidth": 0,
              "ticks": ""
             }
            },
            "type": "scattercarpet"
           }
          ],
          "scattergeo": [
           {
            "marker": {
             "colorbar": {
              "outlinewidth": 0,
              "ticks": ""
             }
            },
            "type": "scattergeo"
           }
          ],
          "scattergl": [
           {
            "marker": {
             "colorbar": {
              "outlinewidth": 0,
              "ticks": ""
             }
            },
            "type": "scattergl"
           }
          ],
          "scattermapbox": [
           {
            "marker": {
             "colorbar": {
              "outlinewidth": 0,
              "ticks": ""
             }
            },
            "type": "scattermapbox"
           }
          ],
          "scatterpolar": [
           {
            "marker": {
             "colorbar": {
              "outlinewidth": 0,
              "ticks": ""
             }
            },
            "type": "scatterpolar"
           }
          ],
          "scatterpolargl": [
           {
            "marker": {
             "colorbar": {
              "outlinewidth": 0,
              "ticks": ""
             }
            },
            "type": "scatterpolargl"
           }
          ],
          "scatterternary": [
           {
            "marker": {
             "colorbar": {
              "outlinewidth": 0,
              "ticks": ""
             }
            },
            "type": "scatterternary"
           }
          ],
          "surface": [
           {
            "colorbar": {
             "outlinewidth": 0,
             "ticks": ""
            },
            "colorscale": [
             [
              0,
              "#0d0887"
             ],
             [
              0.1111111111111111,
              "#46039f"
             ],
             [
              0.2222222222222222,
              "#7201a8"
             ],
             [
              0.3333333333333333,
              "#9c179e"
             ],
             [
              0.4444444444444444,
              "#bd3786"
             ],
             [
              0.5555555555555556,
              "#d8576b"
             ],
             [
              0.6666666666666666,
              "#ed7953"
             ],
             [
              0.7777777777777778,
              "#fb9f3a"
             ],
             [
              0.8888888888888888,
              "#fdca26"
             ],
             [
              1,
              "#f0f921"
             ]
            ],
            "type": "surface"
           }
          ],
          "table": [
           {
            "cells": {
             "fill": {
              "color": "#EBF0F8"
             },
             "line": {
              "color": "white"
             }
            },
            "header": {
             "fill": {
              "color": "#C8D4E3"
             },
             "line": {
              "color": "white"
             }
            },
            "type": "table"
           }
          ]
         },
         "layout": {
          "annotationdefaults": {
           "arrowcolor": "#2a3f5f",
           "arrowhead": 0,
           "arrowwidth": 1
          },
          "autotypenumbers": "strict",
          "coloraxis": {
           "colorbar": {
            "outlinewidth": 0,
            "ticks": ""
           }
          },
          "colorscale": {
           "diverging": [
            [
             0,
             "#8e0152"
            ],
            [
             0.1,
             "#c51b7d"
            ],
            [
             0.2,
             "#de77ae"
            ],
            [
             0.3,
             "#f1b6da"
            ],
            [
             0.4,
             "#fde0ef"
            ],
            [
             0.5,
             "#f7f7f7"
            ],
            [
             0.6,
             "#e6f5d0"
            ],
            [
             0.7,
             "#b8e186"
            ],
            [
             0.8,
             "#7fbc41"
            ],
            [
             0.9,
             "#4d9221"
            ],
            [
             1,
             "#276419"
            ]
           ],
           "sequential": [
            [
             0,
             "#0d0887"
            ],
            [
             0.1111111111111111,
             "#46039f"
            ],
            [
             0.2222222222222222,
             "#7201a8"
            ],
            [
             0.3333333333333333,
             "#9c179e"
            ],
            [
             0.4444444444444444,
             "#bd3786"
            ],
            [
             0.5555555555555556,
             "#d8576b"
            ],
            [
             0.6666666666666666,
             "#ed7953"
            ],
            [
             0.7777777777777778,
             "#fb9f3a"
            ],
            [
             0.8888888888888888,
             "#fdca26"
            ],
            [
             1,
             "#f0f921"
            ]
           ],
           "sequentialminus": [
            [
             0,
             "#0d0887"
            ],
            [
             0.1111111111111111,
             "#46039f"
            ],
            [
             0.2222222222222222,
             "#7201a8"
            ],
            [
             0.3333333333333333,
             "#9c179e"
            ],
            [
             0.4444444444444444,
             "#bd3786"
            ],
            [
             0.5555555555555556,
             "#d8576b"
            ],
            [
             0.6666666666666666,
             "#ed7953"
            ],
            [
             0.7777777777777778,
             "#fb9f3a"
            ],
            [
             0.8888888888888888,
             "#fdca26"
            ],
            [
             1,
             "#f0f921"
            ]
           ]
          },
          "colorway": [
           "#636efa",
           "#EF553B",
           "#00cc96",
           "#ab63fa",
           "#FFA15A",
           "#19d3f3",
           "#FF6692",
           "#B6E880",
           "#FF97FF",
           "#FECB52"
          ],
          "font": {
           "color": "#2a3f5f"
          },
          "geo": {
           "bgcolor": "white",
           "lakecolor": "white",
           "landcolor": "#E5ECF6",
           "showlakes": true,
           "showland": true,
           "subunitcolor": "white"
          },
          "hoverlabel": {
           "align": "left"
          },
          "hovermode": "closest",
          "mapbox": {
           "style": "light"
          },
          "paper_bgcolor": "white",
          "plot_bgcolor": "#E5ECF6",
          "polar": {
           "angularaxis": {
            "gridcolor": "white",
            "linecolor": "white",
            "ticks": ""
           },
           "bgcolor": "#E5ECF6",
           "radialaxis": {
            "gridcolor": "white",
            "linecolor": "white",
            "ticks": ""
           }
          },
          "scene": {
           "xaxis": {
            "backgroundcolor": "#E5ECF6",
            "gridcolor": "white",
            "gridwidth": 2,
            "linecolor": "white",
            "showbackground": true,
            "ticks": "",
            "zerolinecolor": "white"
           },
           "yaxis": {
            "backgroundcolor": "#E5ECF6",
            "gridcolor": "white",
            "gridwidth": 2,
            "linecolor": "white",
            "showbackground": true,
            "ticks": "",
            "zerolinecolor": "white"
           },
           "zaxis": {
            "backgroundcolor": "#E5ECF6",
            "gridcolor": "white",
            "gridwidth": 2,
            "linecolor": "white",
            "showbackground": true,
            "ticks": "",
            "zerolinecolor": "white"
           }
          },
          "shapedefaults": {
           "line": {
            "color": "#2a3f5f"
           }
          },
          "ternary": {
           "aaxis": {
            "gridcolor": "white",
            "linecolor": "white",
            "ticks": ""
           },
           "baxis": {
            "gridcolor": "white",
            "linecolor": "white",
            "ticks": ""
           },
           "bgcolor": "#E5ECF6",
           "caxis": {
            "gridcolor": "white",
            "linecolor": "white",
            "ticks": ""
           }
          },
          "title": {
           "x": 0.05
          },
          "xaxis": {
           "automargin": true,
           "gridcolor": "white",
           "linecolor": "white",
           "ticks": "",
           "title": {
            "standoff": 15
           },
           "zerolinecolor": "white",
           "zerolinewidth": 2
          },
          "yaxis": {
           "automargin": true,
           "gridcolor": "white",
           "linecolor": "white",
           "ticks": "",
           "title": {
            "standoff": 15
           },
           "zerolinecolor": "white",
           "zerolinewidth": 2
          }
         }
        },
        "xaxis": {
         "anchor": "y",
         "domain": [
          0,
          1
         ],
         "title": {
          "text": "Year"
         }
        },
        "yaxis": {
         "anchor": "x",
         "domain": [
          0,
          1
         ],
         "title": {
          "text": "NonViolent_Offenses"
         }
        }
       }
      },
      "text/html": [
       "<div>                            <div id=\"d9f95b3f-ebfe-4225-8bba-4c7e763872fa\" class=\"plotly-graph-div\" style=\"height:525px; width:100%;\"></div>            <script type=\"text/javascript\">                require([\"plotly\"], function(Plotly) {                    window.PLOTLYENV=window.PLOTLYENV || {};                                    if (document.getElementById(\"d9f95b3f-ebfe-4225-8bba-4c7e763872fa\")) {                    Plotly.newPlot(                        \"d9f95b3f-ebfe-4225-8bba-4c7e763872fa\",                        [{\"hovertemplate\":\"County=Anderson County<br>Year=%{x}<br>NonViolent_Offenses=%{y}<extra></extra>\",\"legendgroup\":\"Anderson County\",\"line\":{\"color\":\"#636efa\",\"dash\":\"solid\"},\"marker\":{\"symbol\":\"circle\"},\"mode\":\"lines\",\"name\":\"Anderson County\",\"showlegend\":true,\"x\":[2015,2016,2017,2018,2019,2020],\"xaxis\":\"x\",\"y\":[1143,838,878,791,845,734],\"yaxis\":\"y\",\"type\":\"scattergl\"},{\"hovertemplate\":\"County=Andrews County<br>Year=%{x}<br>NonViolent_Offenses=%{y}<extra></extra>\",\"legendgroup\":\"Andrews County\",\"line\":{\"color\":\"#EF553B\",\"dash\":\"solid\"},\"marker\":{\"symbol\":\"circle\"},\"mode\":\"lines\",\"name\":\"Andrews County\",\"showlegend\":true,\"x\":[2015,2016,2017,2018,2019,2020],\"xaxis\":\"x\",\"y\":[424,400,267,280,282,408],\"yaxis\":\"y\",\"type\":\"scattergl\"},{\"hovertemplate\":\"County=Angelina County<br>Year=%{x}<br>NonViolent_Offenses=%{y}<extra></extra>\",\"legendgroup\":\"Angelina County\",\"line\":{\"color\":\"#00cc96\",\"dash\":\"solid\"},\"marker\":{\"symbol\":\"circle\"},\"mode\":\"lines\",\"name\":\"Angelina County\",\"showlegend\":true,\"x\":[2015,2016,2017,2018,2019,2020],\"xaxis\":\"x\",\"y\":[2438,2195,2299,2044,2278,2805],\"yaxis\":\"y\",\"type\":\"scattergl\"},{\"hovertemplate\":\"County=Aransas County<br>Year=%{x}<br>NonViolent_Offenses=%{y}<extra></extra>\",\"legendgroup\":\"Aransas County\",\"line\":{\"color\":\"#ab63fa\",\"dash\":\"solid\"},\"marker\":{\"symbol\":\"circle\"},\"mode\":\"lines\",\"name\":\"Aransas County\",\"showlegend\":true,\"x\":[2015,2016,2017,2018,2019,2020],\"xaxis\":\"x\",\"y\":[1404,1411,1194,1168,1075,1028],\"yaxis\":\"y\",\"type\":\"scattergl\"},{\"hovertemplate\":\"County=Archer County<br>Year=%{x}<br>NonViolent_Offenses=%{y}<extra></extra>\",\"legendgroup\":\"Archer County\",\"line\":{\"color\":\"#FFA15A\",\"dash\":\"solid\"},\"marker\":{\"symbol\":\"circle\"},\"mode\":\"lines\",\"name\":\"Archer County\",\"showlegend\":true,\"x\":[2015,2016,2017,2018,2019,2020],\"xaxis\":\"x\",\"y\":[55,43,19,12,2,16],\"yaxis\":\"y\",\"type\":\"scattergl\"},{\"hovertemplate\":\"County=Armstrong County<br>Year=%{x}<br>NonViolent_Offenses=%{y}<extra></extra>\",\"legendgroup\":\"Armstrong County\",\"line\":{\"color\":\"#19d3f3\",\"dash\":\"solid\"},\"marker\":{\"symbol\":\"circle\"},\"mode\":\"lines\",\"name\":\"Armstrong County\",\"showlegend\":true,\"x\":[2015,2016,2017,2018,2019,2020],\"xaxis\":\"x\",\"y\":[24,10,24,17,18,4],\"yaxis\":\"y\",\"type\":\"scattergl\"},{\"hovertemplate\":\"County=Atascosa County<br>Year=%{x}<br>NonViolent_Offenses=%{y}<extra></extra>\",\"legendgroup\":\"Atascosa County\",\"line\":{\"color\":\"#FF6692\",\"dash\":\"solid\"},\"marker\":{\"symbol\":\"circle\"},\"mode\":\"lines\",\"name\":\"Atascosa County\",\"showlegend\":true,\"x\":[2015,2016,2017,2018,2019,2020],\"xaxis\":\"x\",\"y\":[1496,1326,1055,1121,1021,953],\"yaxis\":\"y\",\"type\":\"scattergl\"},{\"hovertemplate\":\"County=Austin County<br>Year=%{x}<br>NonViolent_Offenses=%{y}<extra></extra>\",\"legendgroup\":\"Austin County\",\"line\":{\"color\":\"#B6E880\",\"dash\":\"solid\"},\"marker\":{\"symbol\":\"circle\"},\"mode\":\"lines\",\"name\":\"Austin County\",\"showlegend\":true,\"x\":[2015,2016,2017,2018,2019,2020],\"xaxis\":\"x\",\"y\":[417,406,326,249,256,236],\"yaxis\":\"y\",\"type\":\"scattergl\"},{\"hovertemplate\":\"County=Bailey County<br>Year=%{x}<br>NonViolent_Offenses=%{y}<extra></extra>\",\"legendgroup\":\"Bailey County\",\"line\":{\"color\":\"#FF97FF\",\"dash\":\"solid\"},\"marker\":{\"symbol\":\"circle\"},\"mode\":\"lines\",\"name\":\"Bailey County\",\"showlegend\":true,\"x\":[2015,2016,2017,2018,2019,2020],\"xaxis\":\"x\",\"y\":[164,118,90,73,57,40],\"yaxis\":\"y\",\"type\":\"scattergl\"},{\"hovertemplate\":\"County=Bandera County<br>Year=%{x}<br>NonViolent_Offenses=%{y}<extra></extra>\",\"legendgroup\":\"Bandera County\",\"line\":{\"color\":\"#FECB52\",\"dash\":\"solid\"},\"marker\":{\"symbol\":\"circle\"},\"mode\":\"lines\",\"name\":\"Bandera County\",\"showlegend\":true,\"x\":[2015,2016,2017,2018,2019,2020],\"xaxis\":\"x\",\"y\":[312,246,279,284,265,203],\"yaxis\":\"y\",\"type\":\"scattergl\"},{\"hovertemplate\":\"County=Bastrop County<br>Year=%{x}<br>NonViolent_Offenses=%{y}<extra></extra>\",\"legendgroup\":\"Bastrop County\",\"line\":{\"color\":\"#636efa\",\"dash\":\"solid\"},\"marker\":{\"symbol\":\"circle\"},\"mode\":\"lines\",\"name\":\"Bastrop County\",\"showlegend\":true,\"x\":[2015,2016,2017,2018,2019,2020],\"xaxis\":\"x\",\"y\":[1579,1720,1376,1253,1202,1002],\"yaxis\":\"y\",\"type\":\"scattergl\"},{\"hovertemplate\":\"County=Baylor County<br>Year=%{x}<br>NonViolent_Offenses=%{y}<extra></extra>\",\"legendgroup\":\"Baylor County\",\"line\":{\"color\":\"#EF553B\",\"dash\":\"solid\"},\"marker\":{\"symbol\":\"circle\"},\"mode\":\"lines\",\"name\":\"Baylor County\",\"showlegend\":true,\"x\":[2015,2016,2017,2018,2019,2020],\"xaxis\":\"x\",\"y\":[93,60,31,35,28,28],\"yaxis\":\"y\",\"type\":\"scattergl\"},{\"hovertemplate\":\"County=Bee County<br>Year=%{x}<br>NonViolent_Offenses=%{y}<extra></extra>\",\"legendgroup\":\"Bee County\",\"line\":{\"color\":\"#00cc96\",\"dash\":\"solid\"},\"marker\":{\"symbol\":\"circle\"},\"mode\":\"lines\",\"name\":\"Bee County\",\"showlegend\":true,\"x\":[2015,2016,2017,2018,2019,2020],\"xaxis\":\"x\",\"y\":[575,470,533,544,522,570],\"yaxis\":\"y\",\"type\":\"scattergl\"},{\"hovertemplate\":\"County=Bell County<br>Year=%{x}<br>NonViolent_Offenses=%{y}<extra></extra>\",\"legendgroup\":\"Bell County\",\"line\":{\"color\":\"#ab63fa\",\"dash\":\"solid\"},\"marker\":{\"symbol\":\"circle\"},\"mode\":\"lines\",\"name\":\"Bell County\",\"showlegend\":true,\"x\":[2015,2016,2017,2018,2019,2020],\"xaxis\":\"x\",\"y\":[9370,8819,8800,7453,6955,6936],\"yaxis\":\"y\",\"type\":\"scattergl\"},{\"hovertemplate\":\"County=Bexar County<br>Year=%{x}<br>NonViolent_Offenses=%{y}<extra></extra>\",\"legendgroup\":\"Bexar County\",\"line\":{\"color\":\"#FFA15A\",\"dash\":\"solid\"},\"marker\":{\"symbol\":\"circle\"},\"mode\":\"lines\",\"name\":\"Bexar County\",\"showlegend\":true,\"x\":[2015,2016,2017,2018,2019,2020],\"xaxis\":\"x\",\"y\":[84850,90213,84850,70910,77029,66681],\"yaxis\":\"y\",\"type\":\"scattergl\"},{\"hovertemplate\":\"County=Blanco County<br>Year=%{x}<br>NonViolent_Offenses=%{y}<extra></extra>\",\"legendgroup\":\"Blanco County\",\"line\":{\"color\":\"#19d3f3\",\"dash\":\"solid\"},\"marker\":{\"symbol\":\"circle\"},\"mode\":\"lines\",\"name\":\"Blanco County\",\"showlegend\":true,\"x\":[2015,2016,2017,2018,2019,2020],\"xaxis\":\"x\",\"y\":[104,75,104,50,60,82],\"yaxis\":\"y\",\"type\":\"scattergl\"},{\"hovertemplate\":\"County=Borden County<br>Year=%{x}<br>NonViolent_Offenses=%{y}<extra></extra>\",\"legendgroup\":\"Borden County\",\"line\":{\"color\":\"#FF6692\",\"dash\":\"solid\"},\"marker\":{\"symbol\":\"circle\"},\"mode\":\"lines\",\"name\":\"Borden County\",\"showlegend\":true,\"x\":[2015,2016,2017,2018,2019,2020],\"xaxis\":\"x\",\"y\":[8,7,18,15,10,12],\"yaxis\":\"y\",\"type\":\"scattergl\"},{\"hovertemplate\":\"County=Bosque County<br>Year=%{x}<br>NonViolent_Offenses=%{y}<extra></extra>\",\"legendgroup\":\"Bosque County\",\"line\":{\"color\":\"#B6E880\",\"dash\":\"solid\"},\"marker\":{\"symbol\":\"circle\"},\"mode\":\"lines\",\"name\":\"Bosque County\",\"showlegend\":true,\"x\":[2015,2016,2017,2018,2019,2020],\"xaxis\":\"x\",\"y\":[105,145,118,76,98,100],\"yaxis\":\"y\",\"type\":\"scattergl\"},{\"hovertemplate\":\"County=Bowie County<br>Year=%{x}<br>NonViolent_Offenses=%{y}<extra></extra>\",\"legendgroup\":\"Bowie County\",\"line\":{\"color\":\"#FF97FF\",\"dash\":\"solid\"},\"marker\":{\"symbol\":\"circle\"},\"mode\":\"lines\",\"name\":\"Bowie County\",\"showlegend\":true,\"x\":[2015,2016,2017,2018,2019,2020],\"xaxis\":\"x\",\"y\":[2898,2750,2767,2682,2441,1712],\"yaxis\":\"y\",\"type\":\"scattergl\"},{\"hovertemplate\":\"County=Brazoria County<br>Year=%{x}<br>NonViolent_Offenses=%{y}<extra></extra>\",\"legendgroup\":\"Brazoria County\",\"line\":{\"color\":\"#FECB52\",\"dash\":\"solid\"},\"marker\":{\"symbol\":\"circle\"},\"mode\":\"lines\",\"name\":\"Brazoria County\",\"showlegend\":true,\"x\":[2015,2016,2017,2018,2019,2020],\"xaxis\":\"x\",\"y\":[5983,5843,5428,5431,6233,5515],\"yaxis\":\"y\",\"type\":\"scattergl\"},{\"hovertemplate\":\"County=Brazos County<br>Year=%{x}<br>NonViolent_Offenses=%{y}<extra></extra>\",\"legendgroup\":\"Brazos County\",\"line\":{\"color\":\"#636efa\",\"dash\":\"solid\"},\"marker\":{\"symbol\":\"circle\"},\"mode\":\"lines\",\"name\":\"Brazos County\",\"showlegend\":true,\"x\":[2015,2016,2017,2018,2019,2020],\"xaxis\":\"x\",\"y\":[5841,5614,5030,5201,4697,4571],\"yaxis\":\"y\",\"type\":\"scattergl\"},{\"hovertemplate\":\"County=Brewster County<br>Year=%{x}<br>NonViolent_Offenses=%{y}<extra></extra>\",\"legendgroup\":\"Brewster County\",\"line\":{\"color\":\"#EF553B\",\"dash\":\"solid\"},\"marker\":{\"symbol\":\"circle\"},\"mode\":\"lines\",\"name\":\"Brewster County\",\"showlegend\":true,\"x\":[2015,2016,2017,2018,2019,2020],\"xaxis\":\"x\",\"y\":[130,117,103,82,52,68],\"yaxis\":\"y\",\"type\":\"scattergl\"},{\"hovertemplate\":\"County=Briscoe County<br>Year=%{x}<br>NonViolent_Offenses=%{y}<extra></extra>\",\"legendgroup\":\"Briscoe County\",\"line\":{\"color\":\"#00cc96\",\"dash\":\"solid\"},\"marker\":{\"symbol\":\"circle\"},\"mode\":\"lines\",\"name\":\"Briscoe County\",\"showlegend\":true,\"x\":[2015,2016,2017,2018,2019,2020],\"xaxis\":\"x\",\"y\":[9,13,8,7,4,6],\"yaxis\":\"y\",\"type\":\"scattergl\"},{\"hovertemplate\":\"County=Brooks County<br>Year=%{x}<br>NonViolent_Offenses=%{y}<extra></extra>\",\"legendgroup\":\"Brooks County\",\"line\":{\"color\":\"#ab63fa\",\"dash\":\"solid\"},\"marker\":{\"symbol\":\"circle\"},\"mode\":\"lines\",\"name\":\"Brooks County\",\"showlegend\":true,\"x\":[2015,2016,2017,2018,2019,2020],\"xaxis\":\"x\",\"y\":[128,151,186,143,111,108],\"yaxis\":\"y\",\"type\":\"scattergl\"},{\"hovertemplate\":\"County=Brown County<br>Year=%{x}<br>NonViolent_Offenses=%{y}<extra></extra>\",\"legendgroup\":\"Brown County\",\"line\":{\"color\":\"#FFA15A\",\"dash\":\"solid\"},\"marker\":{\"symbol\":\"circle\"},\"mode\":\"lines\",\"name\":\"Brown County\",\"showlegend\":true,\"x\":[2015,2016,2017,2018,2019,2020],\"xaxis\":\"x\",\"y\":[959,835,896,756,899,888],\"yaxis\":\"y\",\"type\":\"scattergl\"},{\"hovertemplate\":\"County=Burleson County<br>Year=%{x}<br>NonViolent_Offenses=%{y}<extra></extra>\",\"legendgroup\":\"Burleson County\",\"line\":{\"color\":\"#19d3f3\",\"dash\":\"solid\"},\"marker\":{\"symbol\":\"circle\"},\"mode\":\"lines\",\"name\":\"Burleson County\",\"showlegend\":true,\"x\":[2015,2016,2017,2018,2019,2020],\"xaxis\":\"x\",\"y\":[197,156,162,180,145,192],\"yaxis\":\"y\",\"type\":\"scattergl\"},{\"hovertemplate\":\"County=Burnet County<br>Year=%{x}<br>NonViolent_Offenses=%{y}<extra></extra>\",\"legendgroup\":\"Burnet County\",\"line\":{\"color\":\"#FF6692\",\"dash\":\"solid\"},\"marker\":{\"symbol\":\"circle\"},\"mode\":\"lines\",\"name\":\"Burnet County\",\"showlegend\":true,\"x\":[2015,2016,2017,2018,2019,2020],\"xaxis\":\"x\",\"y\":[653,774,628,583,620,499],\"yaxis\":\"y\",\"type\":\"scattergl\"},{\"hovertemplate\":\"County=Caldwell County<br>Year=%{x}<br>NonViolent_Offenses=%{y}<extra></extra>\",\"legendgroup\":\"Caldwell County\",\"line\":{\"color\":\"#B6E880\",\"dash\":\"solid\"},\"marker\":{\"symbol\":\"circle\"},\"mode\":\"lines\",\"name\":\"Caldwell County\",\"showlegend\":true,\"x\":[2015,2016,2017,2018,2019,2020],\"xaxis\":\"x\",\"y\":[679,571,568,387,350,343],\"yaxis\":\"y\",\"type\":\"scattergl\"},{\"hovertemplate\":\"County=Calhoun County<br>Year=%{x}<br>NonViolent_Offenses=%{y}<extra></extra>\",\"legendgroup\":\"Calhoun County\",\"line\":{\"color\":\"#FF97FF\",\"dash\":\"solid\"},\"marker\":{\"symbol\":\"circle\"},\"mode\":\"lines\",\"name\":\"Calhoun County\",\"showlegend\":true,\"x\":[2015,2016,2017,2018,2019,2020],\"xaxis\":\"x\",\"y\":[402,586,342,274,269,201],\"yaxis\":\"y\",\"type\":\"scattergl\"},{\"hovertemplate\":\"County=Callahan County<br>Year=%{x}<br>NonViolent_Offenses=%{y}<extra></extra>\",\"legendgroup\":\"Callahan County\",\"line\":{\"color\":\"#FECB52\",\"dash\":\"solid\"},\"marker\":{\"symbol\":\"circle\"},\"mode\":\"lines\",\"name\":\"Callahan County\",\"showlegend\":true,\"x\":[2015,2016,2017,2018,2019,2020],\"xaxis\":\"x\",\"y\":[173,156,132,143,127,112],\"yaxis\":\"y\",\"type\":\"scattergl\"},{\"hovertemplate\":\"County=Cameron County<br>Year=%{x}<br>NonViolent_Offenses=%{y}<extra></extra>\",\"legendgroup\":\"Cameron County\",\"line\":{\"color\":\"#636efa\",\"dash\":\"solid\"},\"marker\":{\"symbol\":\"circle\"},\"mode\":\"lines\",\"name\":\"Cameron County\",\"showlegend\":true,\"x\":[2015,2016,2017,2018,2019,2020],\"xaxis\":\"x\",\"y\":[13704,12102,11128,10902,10735,8166],\"yaxis\":\"y\",\"type\":\"scattergl\"},{\"hovertemplate\":\"County=Camp County<br>Year=%{x}<br>NonViolent_Offenses=%{y}<extra></extra>\",\"legendgroup\":\"Camp County\",\"line\":{\"color\":\"#EF553B\",\"dash\":\"solid\"},\"marker\":{\"symbol\":\"circle\"},\"mode\":\"lines\",\"name\":\"Camp County\",\"showlegend\":true,\"x\":[2015,2016,2017,2018,2019,2020],\"xaxis\":\"x\",\"y\":[291,226,249,175,132,123],\"yaxis\":\"y\",\"type\":\"scattergl\"},{\"hovertemplate\":\"County=Carson County<br>Year=%{x}<br>NonViolent_Offenses=%{y}<extra></extra>\",\"legendgroup\":\"Carson County\",\"line\":{\"color\":\"#00cc96\",\"dash\":\"solid\"},\"marker\":{\"symbol\":\"circle\"},\"mode\":\"lines\",\"name\":\"Carson County\",\"showlegend\":true,\"x\":[2015,2016,2017,2018,2019,2020],\"xaxis\":\"x\",\"y\":[53,53,36,51,50,29],\"yaxis\":\"y\",\"type\":\"scattergl\"},{\"hovertemplate\":\"County=Cass County<br>Year=%{x}<br>NonViolent_Offenses=%{y}<extra></extra>\",\"legendgroup\":\"Cass County\",\"line\":{\"color\":\"#ab63fa\",\"dash\":\"solid\"},\"marker\":{\"symbol\":\"circle\"},\"mode\":\"lines\",\"name\":\"Cass County\",\"showlegend\":true,\"x\":[2015,2016,2017,2018,2019,2020],\"xaxis\":\"x\",\"y\":[686,635,519,451,418,400],\"yaxis\":\"y\",\"type\":\"scattergl\"},{\"hovertemplate\":\"County=Castro County<br>Year=%{x}<br>NonViolent_Offenses=%{y}<extra></extra>\",\"legendgroup\":\"Castro County\",\"line\":{\"color\":\"#FFA15A\",\"dash\":\"solid\"},\"marker\":{\"symbol\":\"circle\"},\"mode\":\"lines\",\"name\":\"Castro County\",\"showlegend\":true,\"x\":[2015,2016,2017,2018,2019,2020],\"xaxis\":\"x\",\"y\":[184,164,139,88,73,44],\"yaxis\":\"y\",\"type\":\"scattergl\"},{\"hovertemplate\":\"County=Chambers County<br>Year=%{x}<br>NonViolent_Offenses=%{y}<extra></extra>\",\"legendgroup\":\"Chambers County\",\"line\":{\"color\":\"#19d3f3\",\"dash\":\"solid\"},\"marker\":{\"symbol\":\"circle\"},\"mode\":\"lines\",\"name\":\"Chambers County\",\"showlegend\":true,\"x\":[2015,2016,2017,2018,2019,2020],\"xaxis\":\"x\",\"y\":[847,846,715,724,779,724],\"yaxis\":\"y\",\"type\":\"scattergl\"},{\"hovertemplate\":\"County=Cherokee County<br>Year=%{x}<br>NonViolent_Offenses=%{y}<extra></extra>\",\"legendgroup\":\"Cherokee County\",\"line\":{\"color\":\"#FF6692\",\"dash\":\"solid\"},\"marker\":{\"symbol\":\"circle\"},\"mode\":\"lines\",\"name\":\"Cherokee County\",\"showlegend\":true,\"x\":[2015,2016,2017,2018,2019,2020],\"xaxis\":\"x\",\"y\":[1029,1047,939,894,789,773],\"yaxis\":\"y\",\"type\":\"scattergl\"},{\"hovertemplate\":\"County=Childress County<br>Year=%{x}<br>NonViolent_Offenses=%{y}<extra></extra>\",\"legendgroup\":\"Childress County\",\"line\":{\"color\":\"#B6E880\",\"dash\":\"solid\"},\"marker\":{\"symbol\":\"circle\"},\"mode\":\"lines\",\"name\":\"Childress County\",\"showlegend\":true,\"x\":[2015,2016,2017,2018,2019,2020],\"xaxis\":\"x\",\"y\":[11,10,12,10,43,41],\"yaxis\":\"y\",\"type\":\"scattergl\"},{\"hovertemplate\":\"County=Clay County<br>Year=%{x}<br>NonViolent_Offenses=%{y}<extra></extra>\",\"legendgroup\":\"Clay County\",\"line\":{\"color\":\"#FF97FF\",\"dash\":\"solid\"},\"marker\":{\"symbol\":\"circle\"},\"mode\":\"lines\",\"name\":\"Clay County\",\"showlegend\":true,\"x\":[2015,2016,2017,2018,2019,2020],\"xaxis\":\"x\",\"y\":[136,100,137,124,103,92],\"yaxis\":\"y\",\"type\":\"scattergl\"},{\"hovertemplate\":\"County=Cochran County<br>Year=%{x}<br>NonViolent_Offenses=%{y}<extra></extra>\",\"legendgroup\":\"Cochran County\",\"line\":{\"color\":\"#FECB52\",\"dash\":\"solid\"},\"marker\":{\"symbol\":\"circle\"},\"mode\":\"lines\",\"name\":\"Cochran County\",\"showlegend\":true,\"x\":[2015,2016,2017,2018,2019,2020],\"xaxis\":\"x\",\"y\":[103,76,3,2,27,45],\"yaxis\":\"y\",\"type\":\"scattergl\"},{\"hovertemplate\":\"County=Coke County<br>Year=%{x}<br>NonViolent_Offenses=%{y}<extra></extra>\",\"legendgroup\":\"Coke County\",\"line\":{\"color\":\"#636efa\",\"dash\":\"solid\"},\"marker\":{\"symbol\":\"circle\"},\"mode\":\"lines\",\"name\":\"Coke County\",\"showlegend\":true,\"x\":[2015,2016,2017,2018,2019,2020],\"xaxis\":\"x\",\"y\":[15,29,2,1,14,18],\"yaxis\":\"y\",\"type\":\"scattergl\"},{\"hovertemplate\":\"County=Coleman County<br>Year=%{x}<br>NonViolent_Offenses=%{y}<extra></extra>\",\"legendgroup\":\"Coleman County\",\"line\":{\"color\":\"#EF553B\",\"dash\":\"solid\"},\"marker\":{\"symbol\":\"circle\"},\"mode\":\"lines\",\"name\":\"Coleman County\",\"showlegend\":true,\"x\":[2015,2016,2017,2018,2019,2020],\"xaxis\":\"x\",\"y\":[103,77,45,42,39,20],\"yaxis\":\"y\",\"type\":\"scattergl\"},{\"hovertemplate\":\"County=Collin County<br>Year=%{x}<br>NonViolent_Offenses=%{y}<extra></extra>\",\"legendgroup\":\"Collin County\",\"line\":{\"color\":\"#00cc96\",\"dash\":\"solid\"},\"marker\":{\"symbol\":\"circle\"},\"mode\":\"lines\",\"name\":\"Collin County\",\"showlegend\":true,\"x\":[2015,2016,2017,2018,2019,2020],\"xaxis\":\"x\",\"y\":[12817,13097,13145,12652,12066,11673],\"yaxis\":\"y\",\"type\":\"scattergl\"},{\"hovertemplate\":\"County=Collingsworth County<br>Year=%{x}<br>NonViolent_Offenses=%{y}<extra></extra>\",\"legendgroup\":\"Collingsworth County\",\"line\":{\"color\":\"#ab63fa\",\"dash\":\"solid\"},\"marker\":{\"symbol\":\"circle\"},\"mode\":\"lines\",\"name\":\"Collingsworth County\",\"showlegend\":true,\"x\":[2015,2016,2018,2020],\"xaxis\":\"x\",\"y\":[17,12,0,0],\"yaxis\":\"y\",\"type\":\"scattergl\"},{\"hovertemplate\":\"County=Colorado County<br>Year=%{x}<br>NonViolent_Offenses=%{y}<extra></extra>\",\"legendgroup\":\"Colorado County\",\"line\":{\"color\":\"#FFA15A\",\"dash\":\"solid\"},\"marker\":{\"symbol\":\"circle\"},\"mode\":\"lines\",\"name\":\"Colorado County\",\"showlegend\":true,\"x\":[2015,2016,2017,2018,2019,2020],\"xaxis\":\"x\",\"y\":[282,226,205,201,231,291],\"yaxis\":\"y\",\"type\":\"scattergl\"},{\"hovertemplate\":\"County=Comal County<br>Year=%{x}<br>NonViolent_Offenses=%{y}<extra></extra>\",\"legendgroup\":\"Comal County\",\"line\":{\"color\":\"#19d3f3\",\"dash\":\"solid\"},\"marker\":{\"symbol\":\"circle\"},\"mode\":\"lines\",\"name\":\"Comal County\",\"showlegend\":true,\"x\":[2015,2016,2017,2018,2019,2020],\"xaxis\":\"x\",\"y\":[2905,2618,2175,1855,1860,1942],\"yaxis\":\"y\",\"type\":\"scattergl\"},{\"hovertemplate\":\"County=Comanche County<br>Year=%{x}<br>NonViolent_Offenses=%{y}<extra></extra>\",\"legendgroup\":\"Comanche County\",\"line\":{\"color\":\"#FF6692\",\"dash\":\"solid\"},\"marker\":{\"symbol\":\"circle\"},\"mode\":\"lines\",\"name\":\"Comanche County\",\"showlegend\":true,\"x\":[2015,2016,2017,2018,2019,2020],\"xaxis\":\"x\",\"y\":[263,280,206,181,201,191],\"yaxis\":\"y\",\"type\":\"scattergl\"},{\"hovertemplate\":\"County=Concho County<br>Year=%{x}<br>NonViolent_Offenses=%{y}<extra></extra>\",\"legendgroup\":\"Concho County\",\"line\":{\"color\":\"#B6E880\",\"dash\":\"solid\"},\"marker\":{\"symbol\":\"circle\"},\"mode\":\"lines\",\"name\":\"Concho County\",\"showlegend\":true,\"x\":[2015,2016,2017,2018,2019,2020],\"xaxis\":\"x\",\"y\":[1,14,14,9,8,8],\"yaxis\":\"y\",\"type\":\"scattergl\"},{\"hovertemplate\":\"County=Cooke County<br>Year=%{x}<br>NonViolent_Offenses=%{y}<extra></extra>\",\"legendgroup\":\"Cooke County\",\"line\":{\"color\":\"#FF97FF\",\"dash\":\"solid\"},\"marker\":{\"symbol\":\"circle\"},\"mode\":\"lines\",\"name\":\"Cooke County\",\"showlegend\":true,\"x\":[2015,2016,2017,2018,2019,2020],\"xaxis\":\"x\",\"y\":[714,712,679,479,472,677],\"yaxis\":\"y\",\"type\":\"scattergl\"},{\"hovertemplate\":\"County=Coryell County<br>Year=%{x}<br>NonViolent_Offenses=%{y}<extra></extra>\",\"legendgroup\":\"Coryell County\",\"line\":{\"color\":\"#FECB52\",\"dash\":\"solid\"},\"marker\":{\"symbol\":\"circle\"},\"mode\":\"lines\",\"name\":\"Coryell County\",\"showlegend\":true,\"x\":[2015,2016,2017,2018,2019,2020],\"xaxis\":\"x\",\"y\":[1265,1209,1159,924,949,957],\"yaxis\":\"y\",\"type\":\"scattergl\"},{\"hovertemplate\":\"County=Cottle County<br>Year=%{x}<br>NonViolent_Offenses=%{y}<extra></extra>\",\"legendgroup\":\"Cottle County\",\"line\":{\"color\":\"#636efa\",\"dash\":\"solid\"},\"marker\":{\"symbol\":\"circle\"},\"mode\":\"lines\",\"name\":\"Cottle County\",\"showlegend\":true,\"x\":[2015,2016,2017,2018],\"xaxis\":\"x\",\"y\":[3,10,2,3],\"yaxis\":\"y\",\"type\":\"scattergl\"},{\"hovertemplate\":\"County=Crane County<br>Year=%{x}<br>NonViolent_Offenses=%{y}<extra></extra>\",\"legendgroup\":\"Crane County\",\"line\":{\"color\":\"#EF553B\",\"dash\":\"solid\"},\"marker\":{\"symbol\":\"circle\"},\"mode\":\"lines\",\"name\":\"Crane County\",\"showlegend\":true,\"x\":[2015,2016,2017,2018,2019,2020],\"xaxis\":\"x\",\"y\":[25,34,26,17,20,25],\"yaxis\":\"y\",\"type\":\"scattergl\"},{\"hovertemplate\":\"County=Crockett County<br>Year=%{x}<br>NonViolent_Offenses=%{y}<extra></extra>\",\"legendgroup\":\"Crockett County\",\"line\":{\"color\":\"#00cc96\",\"dash\":\"solid\"},\"marker\":{\"symbol\":\"circle\"},\"mode\":\"lines\",\"name\":\"Crockett County\",\"showlegend\":true,\"x\":[2015,2016,2017,2018,2019,2020],\"xaxis\":\"x\",\"y\":[51,37,33,117,18,11],\"yaxis\":\"y\",\"type\":\"scattergl\"},{\"hovertemplate\":\"County=Crosby County<br>Year=%{x}<br>NonViolent_Offenses=%{y}<extra></extra>\",\"legendgroup\":\"Crosby County\",\"line\":{\"color\":\"#ab63fa\",\"dash\":\"solid\"},\"marker\":{\"symbol\":\"circle\"},\"mode\":\"lines\",\"name\":\"Crosby County\",\"showlegend\":true,\"x\":[2015,2016,2017,2018,2019,2020],\"xaxis\":\"x\",\"y\":[27,27,8,48,46,39],\"yaxis\":\"y\",\"type\":\"scattergl\"},{\"hovertemplate\":\"County=Culberson County<br>Year=%{x}<br>NonViolent_Offenses=%{y}<extra></extra>\",\"legendgroup\":\"Culberson County\",\"line\":{\"color\":\"#FFA15A\",\"dash\":\"solid\"},\"marker\":{\"symbol\":\"circle\"},\"mode\":\"lines\",\"name\":\"Culberson County\",\"showlegend\":true,\"x\":[2015,2016,2017,2018,2019,2020],\"xaxis\":\"x\",\"y\":[0,0,0,0,0,0],\"yaxis\":\"y\",\"type\":\"scattergl\"},{\"hovertemplate\":\"County=Dallam County<br>Year=%{x}<br>NonViolent_Offenses=%{y}<extra></extra>\",\"legendgroup\":\"Dallam County\",\"line\":{\"color\":\"#19d3f3\",\"dash\":\"solid\"},\"marker\":{\"symbol\":\"circle\"},\"mode\":\"lines\",\"name\":\"Dallam County\",\"showlegend\":true,\"x\":[2015,2016,2017,2018,2019,2020],\"xaxis\":\"x\",\"y\":[231,314,279,184,177,161],\"yaxis\":\"y\",\"type\":\"scattergl\"},{\"hovertemplate\":\"County=Dallas County<br>Year=%{x}<br>NonViolent_Offenses=%{y}<extra></extra>\",\"legendgroup\":\"Dallas County\",\"line\":{\"color\":\"#FF6692\",\"dash\":\"solid\"},\"marker\":{\"symbol\":\"circle\"},\"mode\":\"lines\",\"name\":\"Dallas County\",\"showlegend\":true,\"x\":[2015,2016,2017,2018,2019,2020],\"xaxis\":\"x\",\"y\":[86586,87710,83296,82955,83435,83442],\"yaxis\":\"y\",\"type\":\"scattergl\"},{\"hovertemplate\":\"County=Dawson County<br>Year=%{x}<br>NonViolent_Offenses=%{y}<extra></extra>\",\"legendgroup\":\"Dawson County\",\"line\":{\"color\":\"#B6E880\",\"dash\":\"solid\"},\"marker\":{\"symbol\":\"circle\"},\"mode\":\"lines\",\"name\":\"Dawson County\",\"showlegend\":true,\"x\":[2015,2016,2017,2018,2019,2020],\"xaxis\":\"x\",\"y\":[445,416,132,425,462,429],\"yaxis\":\"y\",\"type\":\"scattergl\"},{\"hovertemplate\":\"County=DeWitt County<br>Year=%{x}<br>NonViolent_Offenses=%{y}<extra></extra>\",\"legendgroup\":\"DeWitt County\",\"line\":{\"color\":\"#FF97FF\",\"dash\":\"solid\"},\"marker\":{\"symbol\":\"circle\"},\"mode\":\"lines\",\"name\":\"DeWitt County\",\"showlegend\":true,\"x\":[2015,2016,2017,2018,2019,2020],\"xaxis\":\"x\",\"y\":[504,343,348,411,305,277],\"yaxis\":\"y\",\"type\":\"scattergl\"},{\"hovertemplate\":\"County=Deaf Smith County<br>Year=%{x}<br>NonViolent_Offenses=%{y}<extra></extra>\",\"legendgroup\":\"Deaf Smith County\",\"line\":{\"color\":\"#FECB52\",\"dash\":\"solid\"},\"marker\":{\"symbol\":\"circle\"},\"mode\":\"lines\",\"name\":\"Deaf Smith County\",\"showlegend\":true,\"x\":[2015,2016,2017,2018,2019,2020],\"xaxis\":\"x\",\"y\":[428,451,411,402,370,335],\"yaxis\":\"y\",\"type\":\"scattergl\"},{\"hovertemplate\":\"County=Delta County<br>Year=%{x}<br>NonViolent_Offenses=%{y}<extra></extra>\",\"legendgroup\":\"Delta County\",\"line\":{\"color\":\"#636efa\",\"dash\":\"solid\"},\"marker\":{\"symbol\":\"circle\"},\"mode\":\"lines\",\"name\":\"Delta County\",\"showlegend\":true,\"x\":[2015,2016,2017,2018,2019,2020],\"xaxis\":\"x\",\"y\":[33,28,24,29,27,13],\"yaxis\":\"y\",\"type\":\"scattergl\"},{\"hovertemplate\":\"County=Denton County<br>Year=%{x}<br>NonViolent_Offenses=%{y}<extra></extra>\",\"legendgroup\":\"Denton County\",\"line\":{\"color\":\"#EF553B\",\"dash\":\"solid\"},\"marker\":{\"symbol\":\"circle\"},\"mode\":\"lines\",\"name\":\"Denton County\",\"showlegend\":true,\"x\":[2015,2016,2017,2018,2019,2020],\"xaxis\":\"x\",\"y\":[8743,9045,8696,8829,8588,8469],\"yaxis\":\"y\",\"type\":\"scattergl\"},{\"hovertemplate\":\"County=Dickens County<br>Year=%{x}<br>NonViolent_Offenses=%{y}<extra></extra>\",\"legendgroup\":\"Dickens County\",\"line\":{\"color\":\"#00cc96\",\"dash\":\"solid\"},\"marker\":{\"symbol\":\"circle\"},\"mode\":\"lines\",\"name\":\"Dickens County\",\"showlegend\":true,\"x\":[2015,2016,2017,2018,2019,2020],\"xaxis\":\"x\",\"y\":[16,25,9,5,8,5],\"yaxis\":\"y\",\"type\":\"scattergl\"},{\"hovertemplate\":\"County=Dimmit County<br>Year=%{x}<br>NonViolent_Offenses=%{y}<extra></extra>\",\"legendgroup\":\"Dimmit County\",\"line\":{\"color\":\"#ab63fa\",\"dash\":\"solid\"},\"marker\":{\"symbol\":\"circle\"},\"mode\":\"lines\",\"name\":\"Dimmit County\",\"showlegend\":true,\"x\":[2015,2016,2017,2018,2019,2020],\"xaxis\":\"x\",\"y\":[273,182,125,116,139,114],\"yaxis\":\"y\",\"type\":\"scattergl\"},{\"hovertemplate\":\"County=Donley County<br>Year=%{x}<br>NonViolent_Offenses=%{y}<extra></extra>\",\"legendgroup\":\"Donley County\",\"line\":{\"color\":\"#FFA15A\",\"dash\":\"solid\"},\"marker\":{\"symbol\":\"circle\"},\"mode\":\"lines\",\"name\":\"Donley County\",\"showlegend\":true,\"x\":[2015,2016,2017,2018,2019,2020],\"xaxis\":\"x\",\"y\":[56,45,42,37,30,23],\"yaxis\":\"y\",\"type\":\"scattergl\"},{\"hovertemplate\":\"County=Duval County<br>Year=%{x}<br>NonViolent_Offenses=%{y}<extra></extra>\",\"legendgroup\":\"Duval County\",\"line\":{\"color\":\"#19d3f3\",\"dash\":\"solid\"},\"marker\":{\"symbol\":\"circle\"},\"mode\":\"lines\",\"name\":\"Duval County\",\"showlegend\":true,\"x\":[2015,2016,2017,2018,2019,2020],\"xaxis\":\"x\",\"y\":[258,221,47,154,125,146],\"yaxis\":\"y\",\"type\":\"scattergl\"},{\"hovertemplate\":\"County=Eastland County<br>Year=%{x}<br>NonViolent_Offenses=%{y}<extra></extra>\",\"legendgroup\":\"Eastland County\",\"line\":{\"color\":\"#FF6692\",\"dash\":\"solid\"},\"marker\":{\"symbol\":\"circle\"},\"mode\":\"lines\",\"name\":\"Eastland County\",\"showlegend\":true,\"x\":[2015,2016,2017,2018,2019,2020],\"xaxis\":\"x\",\"y\":[469,305,228,200,168,212],\"yaxis\":\"y\",\"type\":\"scattergl\"},{\"hovertemplate\":\"County=Ector County<br>Year=%{x}<br>NonViolent_Offenses=%{y}<extra></extra>\",\"legendgroup\":\"Ector County\",\"line\":{\"color\":\"#B6E880\",\"dash\":\"solid\"},\"marker\":{\"symbol\":\"circle\"},\"mode\":\"lines\",\"name\":\"Ector County\",\"showlegend\":true,\"x\":[2015,2016,2017,2018,2019,2020],\"xaxis\":\"x\",\"y\":[6799,6206,4790,4625,5270,5084],\"yaxis\":\"y\",\"type\":\"scattergl\"},{\"hovertemplate\":\"County=Edwards County<br>Year=%{x}<br>NonViolent_Offenses=%{y}<extra></extra>\",\"legendgroup\":\"Edwards County\",\"line\":{\"color\":\"#FF97FF\",\"dash\":\"solid\"},\"marker\":{\"symbol\":\"circle\"},\"mode\":\"lines\",\"name\":\"Edwards County\",\"showlegend\":true,\"x\":[2015,2016,2017,2018,2019,2020],\"xaxis\":\"x\",\"y\":[21,18,26,21,5,0],\"yaxis\":\"y\",\"type\":\"scattergl\"},{\"hovertemplate\":\"County=El Paso County<br>Year=%{x}<br>NonViolent_Offenses=%{y}<extra></extra>\",\"legendgroup\":\"El Paso County\",\"line\":{\"color\":\"#FECB52\",\"dash\":\"solid\"},\"marker\":{\"symbol\":\"circle\"},\"mode\":\"lines\",\"name\":\"El Paso County\",\"showlegend\":true,\"x\":[2015,2016,2017,2018,2019,2020],\"xaxis\":\"x\",\"y\":[15350,14365,14259,11940,12074,10035],\"yaxis\":\"y\",\"type\":\"scattergl\"},{\"hovertemplate\":\"County=Ellis County<br>Year=%{x}<br>NonViolent_Offenses=%{y}<extra></extra>\",\"legendgroup\":\"Ellis County\",\"line\":{\"color\":\"#636efa\",\"dash\":\"solid\"},\"marker\":{\"symbol\":\"circle\"},\"mode\":\"lines\",\"name\":\"Ellis County\",\"showlegend\":true,\"x\":[2015,2016,2017,2018,2019,2020],\"xaxis\":\"x\",\"y\":[2640,2646,2564,2035,2225,2145],\"yaxis\":\"y\",\"type\":\"scattergl\"},{\"hovertemplate\":\"County=Erath County<br>Year=%{x}<br>NonViolent_Offenses=%{y}<extra></extra>\",\"legendgroup\":\"Erath County\",\"line\":{\"color\":\"#EF553B\",\"dash\":\"solid\"},\"marker\":{\"symbol\":\"circle\"},\"mode\":\"lines\",\"name\":\"Erath County\",\"showlegend\":true,\"x\":[2015,2016,2017,2018,2019,2020],\"xaxis\":\"x\",\"y\":[615,714,574,583,559,443],\"yaxis\":\"y\",\"type\":\"scattergl\"},{\"hovertemplate\":\"County=Falls County<br>Year=%{x}<br>NonViolent_Offenses=%{y}<extra></extra>\",\"legendgroup\":\"Falls County\",\"line\":{\"color\":\"#00cc96\",\"dash\":\"solid\"},\"marker\":{\"symbol\":\"circle\"},\"mode\":\"lines\",\"name\":\"Falls County\",\"showlegend\":true,\"x\":[2015,2016,2017,2018,2019,2020],\"xaxis\":\"x\",\"y\":[169,110,9,104,111,93],\"yaxis\":\"y\",\"type\":\"scattergl\"},{\"hovertemplate\":\"County=Fannin County<br>Year=%{x}<br>NonViolent_Offenses=%{y}<extra></extra>\",\"legendgroup\":\"Fannin County\",\"line\":{\"color\":\"#ab63fa\",\"dash\":\"solid\"},\"marker\":{\"symbol\":\"circle\"},\"mode\":\"lines\",\"name\":\"Fannin County\",\"showlegend\":true,\"x\":[2015,2016,2017,2018,2019,2020],\"xaxis\":\"x\",\"y\":[381,335,362,346,387,282],\"yaxis\":\"y\",\"type\":\"scattergl\"},{\"hovertemplate\":\"County=Fayette County<br>Year=%{x}<br>NonViolent_Offenses=%{y}<extra></extra>\",\"legendgroup\":\"Fayette County\",\"line\":{\"color\":\"#FFA15A\",\"dash\":\"solid\"},\"marker\":{\"symbol\":\"circle\"},\"mode\":\"lines\",\"name\":\"Fayette County\",\"showlegend\":true,\"x\":[2015,2016,2017,2018,2019,2020],\"xaxis\":\"x\",\"y\":[321,288,292,287,270,265],\"yaxis\":\"y\",\"type\":\"scattergl\"},{\"hovertemplate\":\"County=Fisher County<br>Year=%{x}<br>NonViolent_Offenses=%{y}<extra></extra>\",\"legendgroup\":\"Fisher County\",\"line\":{\"color\":\"#19d3f3\",\"dash\":\"solid\"},\"marker\":{\"symbol\":\"circle\"},\"mode\":\"lines\",\"name\":\"Fisher County\",\"showlegend\":true,\"x\":[2015,2016,2017,2019,2020],\"xaxis\":\"x\",\"y\":[77,53,6,14,9],\"yaxis\":\"y\",\"type\":\"scattergl\"},{\"hovertemplate\":\"County=Floyd County<br>Year=%{x}<br>NonViolent_Offenses=%{y}<extra></extra>\",\"legendgroup\":\"Floyd County\",\"line\":{\"color\":\"#FF6692\",\"dash\":\"solid\"},\"marker\":{\"symbol\":\"circle\"},\"mode\":\"lines\",\"name\":\"Floyd County\",\"showlegend\":true,\"x\":[2015,2016,2017,2018,2019,2020],\"xaxis\":\"x\",\"y\":[104,101,88,72,60,64],\"yaxis\":\"y\",\"type\":\"scattergl\"},{\"hovertemplate\":\"County=Foard County<br>Year=%{x}<br>NonViolent_Offenses=%{y}<extra></extra>\",\"legendgroup\":\"Foard County\",\"line\":{\"color\":\"#B6E880\",\"dash\":\"solid\"},\"marker\":{\"symbol\":\"circle\"},\"mode\":\"lines\",\"name\":\"Foard County\",\"showlegend\":true,\"x\":[2015,2016,2017,2018,2019,2020],\"xaxis\":\"x\",\"y\":[0,0,0,0,3,0],\"yaxis\":\"y\",\"type\":\"scattergl\"},{\"hovertemplate\":\"County=Fort Bend County<br>Year=%{x}<br>NonViolent_Offenses=%{y}<extra></extra>\",\"legendgroup\":\"Fort Bend County\",\"line\":{\"color\":\"#FF97FF\",\"dash\":\"solid\"},\"marker\":{\"symbol\":\"circle\"},\"mode\":\"lines\",\"name\":\"Fort Bend County\",\"showlegend\":true,\"x\":[2015,2016,2017,2018,2019,2020],\"xaxis\":\"x\",\"y\":[10264,9190,8416,8223,9007,8422],\"yaxis\":\"y\",\"type\":\"scattergl\"},{\"hovertemplate\":\"County=Franklin County<br>Year=%{x}<br>NonViolent_Offenses=%{y}<extra></extra>\",\"legendgroup\":\"Franklin County\",\"line\":{\"color\":\"#FECB52\",\"dash\":\"solid\"},\"marker\":{\"symbol\":\"circle\"},\"mode\":\"lines\",\"name\":\"Franklin County\",\"showlegend\":true,\"x\":[2015,2016,2017,2018,2019,2020],\"xaxis\":\"x\",\"y\":[117,92,86,51,27,49],\"yaxis\":\"y\",\"type\":\"scattergl\"},{\"hovertemplate\":\"County=Freestone County<br>Year=%{x}<br>NonViolent_Offenses=%{y}<extra></extra>\",\"legendgroup\":\"Freestone County\",\"line\":{\"color\":\"#636efa\",\"dash\":\"solid\"},\"marker\":{\"symbol\":\"circle\"},\"mode\":\"lines\",\"name\":\"Freestone County\",\"showlegend\":true,\"x\":[2015,2016,2017,2018,2019,2020],\"xaxis\":\"x\",\"y\":[200,233,209,198,247,242],\"yaxis\":\"y\",\"type\":\"scattergl\"},{\"hovertemplate\":\"County=Frio County<br>Year=%{x}<br>NonViolent_Offenses=%{y}<extra></extra>\",\"legendgroup\":\"Frio County\",\"line\":{\"color\":\"#EF553B\",\"dash\":\"solid\"},\"marker\":{\"symbol\":\"circle\"},\"mode\":\"lines\",\"name\":\"Frio County\",\"showlegend\":true,\"x\":[2015,2016,2017,2018,2019,2020],\"xaxis\":\"x\",\"y\":[394,342,434,320,242,305],\"yaxis\":\"y\",\"type\":\"scattergl\"},{\"hovertemplate\":\"County=Gaines County<br>Year=%{x}<br>NonViolent_Offenses=%{y}<extra></extra>\",\"legendgroup\":\"Gaines County\",\"line\":{\"color\":\"#00cc96\",\"dash\":\"solid\"},\"marker\":{\"symbol\":\"circle\"},\"mode\":\"lines\",\"name\":\"Gaines County\",\"showlegend\":true,\"x\":[2015,2016,2017,2018,2019,2020],\"xaxis\":\"x\",\"y\":[252,235,223,210,202,186],\"yaxis\":\"y\",\"type\":\"scattergl\"},{\"hovertemplate\":\"County=Galveston County<br>Year=%{x}<br>NonViolent_Offenses=%{y}<extra></extra>\",\"legendgroup\":\"Galveston County\",\"line\":{\"color\":\"#ab63fa\",\"dash\":\"solid\"},\"marker\":{\"symbol\":\"circle\"},\"mode\":\"lines\",\"name\":\"Galveston County\",\"showlegend\":true,\"x\":[2015,2016,2017,2018,2019,2020],\"xaxis\":\"x\",\"y\":[8335,8839,8380,7795,7040,7211],\"yaxis\":\"y\",\"type\":\"scattergl\"},{\"hovertemplate\":\"County=Garza County<br>Year=%{x}<br>NonViolent_Offenses=%{y}<extra></extra>\",\"legendgroup\":\"Garza County\",\"line\":{\"color\":\"#FFA15A\",\"dash\":\"solid\"},\"marker\":{\"symbol\":\"circle\"},\"mode\":\"lines\",\"name\":\"Garza County\",\"showlegend\":true,\"x\":[2015,2016,2017,2018,2019,2020],\"xaxis\":\"x\",\"y\":[72,53,61,35,30,18],\"yaxis\":\"y\",\"type\":\"scattergl\"},{\"hovertemplate\":\"County=Gillespie County<br>Year=%{x}<br>NonViolent_Offenses=%{y}<extra></extra>\",\"legendgroup\":\"Gillespie County\",\"line\":{\"color\":\"#19d3f3\",\"dash\":\"solid\"},\"marker\":{\"symbol\":\"circle\"},\"mode\":\"lines\",\"name\":\"Gillespie County\",\"showlegend\":true,\"x\":[2015,2016,2017,2018,2019,2020],\"xaxis\":\"x\",\"y\":[232,271,215,167,186,143],\"yaxis\":\"y\",\"type\":\"scattergl\"},{\"hovertemplate\":\"County=Glasscock County<br>Year=%{x}<br>NonViolent_Offenses=%{y}<extra></extra>\",\"legendgroup\":\"Glasscock County\",\"line\":{\"color\":\"#FF6692\",\"dash\":\"solid\"},\"marker\":{\"symbol\":\"circle\"},\"mode\":\"lines\",\"name\":\"Glasscock County\",\"showlegend\":true,\"x\":[2015,2016,2017,2018,2019,2020],\"xaxis\":\"x\",\"y\":[10,17,27,21,26,20],\"yaxis\":\"y\",\"type\":\"scattergl\"},{\"hovertemplate\":\"County=Goliad County<br>Year=%{x}<br>NonViolent_Offenses=%{y}<extra></extra>\",\"legendgroup\":\"Goliad County\",\"line\":{\"color\":\"#B6E880\",\"dash\":\"solid\"},\"marker\":{\"symbol\":\"circle\"},\"mode\":\"lines\",\"name\":\"Goliad County\",\"showlegend\":true,\"x\":[2015,2016,2017,2018,2019,2020],\"xaxis\":\"x\",\"y\":[98,92,92,95,79,82],\"yaxis\":\"y\",\"type\":\"scattergl\"},{\"hovertemplate\":\"County=Gonzales County<br>Year=%{x}<br>NonViolent_Offenses=%{y}<extra></extra>\",\"legendgroup\":\"Gonzales County\",\"line\":{\"color\":\"#FF97FF\",\"dash\":\"solid\"},\"marker\":{\"symbol\":\"circle\"},\"mode\":\"lines\",\"name\":\"Gonzales County\",\"showlegend\":true,\"x\":[2015,2016,2017,2018,2019,2020],\"xaxis\":\"x\",\"y\":[377,351,264,239,296,188],\"yaxis\":\"y\",\"type\":\"scattergl\"},{\"hovertemplate\":\"County=Gray County<br>Year=%{x}<br>NonViolent_Offenses=%{y}<extra></extra>\",\"legendgroup\":\"Gray County\",\"line\":{\"color\":\"#FECB52\",\"dash\":\"solid\"},\"marker\":{\"symbol\":\"circle\"},\"mode\":\"lines\",\"name\":\"Gray County\",\"showlegend\":true,\"x\":[2015,2016,2017,2018,2019,2020],\"xaxis\":\"x\",\"y\":[1037,951,848,763,718,561],\"yaxis\":\"y\",\"type\":\"scattergl\"},{\"hovertemplate\":\"County=Grayson County<br>Year=%{x}<br>NonViolent_Offenses=%{y}<extra></extra>\",\"legendgroup\":\"Grayson County\",\"line\":{\"color\":\"#636efa\",\"dash\":\"solid\"},\"marker\":{\"symbol\":\"circle\"},\"mode\":\"lines\",\"name\":\"Grayson County\",\"showlegend\":true,\"x\":[2015,2016,2017,2018,2019,2020],\"xaxis\":\"x\",\"y\":[2590,2417,2507,2137,2154,2045],\"yaxis\":\"y\",\"type\":\"scattergl\"},{\"hovertemplate\":\"County=Gregg County<br>Year=%{x}<br>NonViolent_Offenses=%{y}<extra></extra>\",\"legendgroup\":\"Gregg County\",\"line\":{\"color\":\"#EF553B\",\"dash\":\"solid\"},\"marker\":{\"symbol\":\"circle\"},\"mode\":\"lines\",\"name\":\"Gregg County\",\"showlegend\":true,\"x\":[2015,2016,2017,2018,2019,2020],\"xaxis\":\"x\",\"y\":[5515,5128,3976,3482,3384,3280],\"yaxis\":\"y\",\"type\":\"scattergl\"},{\"hovertemplate\":\"County=Grimes County<br>Year=%{x}<br>NonViolent_Offenses=%{y}<extra></extra>\",\"legendgroup\":\"Grimes County\",\"line\":{\"color\":\"#00cc96\",\"dash\":\"solid\"},\"marker\":{\"symbol\":\"circle\"},\"mode\":\"lines\",\"name\":\"Grimes County\",\"showlegend\":true,\"x\":[2015,2016,2017,2018,2019,2020],\"xaxis\":\"x\",\"y\":[463,461,309,290,328,337],\"yaxis\":\"y\",\"type\":\"scattergl\"},{\"hovertemplate\":\"County=Guadalupe County<br>Year=%{x}<br>NonViolent_Offenses=%{y}<extra></extra>\",\"legendgroup\":\"Guadalupe County\",\"line\":{\"color\":\"#ab63fa\",\"dash\":\"solid\"},\"marker\":{\"symbol\":\"circle\"},\"mode\":\"lines\",\"name\":\"Guadalupe County\",\"showlegend\":true,\"x\":[2015,2016,2017,2018,2019,2020],\"xaxis\":\"x\",\"y\":[2440,2691,2470,2139,1973,1852],\"yaxis\":\"y\",\"type\":\"scattergl\"},{\"hovertemplate\":\"County=Hale County<br>Year=%{x}<br>NonViolent_Offenses=%{y}<extra></extra>\",\"legendgroup\":\"Hale County\",\"line\":{\"color\":\"#FFA15A\",\"dash\":\"solid\"},\"marker\":{\"symbol\":\"circle\"},\"mode\":\"lines\",\"name\":\"Hale County\",\"showlegend\":true,\"x\":[2015,2016,2017,2018,2019,2020],\"xaxis\":\"x\",\"y\":[1010,918,717,600,610,482],\"yaxis\":\"y\",\"type\":\"scattergl\"},{\"hovertemplate\":\"County=Hall County<br>Year=%{x}<br>NonViolent_Offenses=%{y}<extra></extra>\",\"legendgroup\":\"Hall County\",\"line\":{\"color\":\"#19d3f3\",\"dash\":\"solid\"},\"marker\":{\"symbol\":\"circle\"},\"mode\":\"lines\",\"name\":\"Hall County\",\"showlegend\":true,\"x\":[2015,2016,2017,2018,2019,2020],\"xaxis\":\"x\",\"y\":[14,31,12,47,18,9],\"yaxis\":\"y\",\"type\":\"scattergl\"},{\"hovertemplate\":\"County=Hamilton County<br>Year=%{x}<br>NonViolent_Offenses=%{y}<extra></extra>\",\"legendgroup\":\"Hamilton County\",\"line\":{\"color\":\"#FF6692\",\"dash\":\"solid\"},\"marker\":{\"symbol\":\"circle\"},\"mode\":\"lines\",\"name\":\"Hamilton County\",\"showlegend\":true,\"x\":[2015,2016,2017,2018,2019,2020],\"xaxis\":\"x\",\"y\":[130,115,88,81,50,53],\"yaxis\":\"y\",\"type\":\"scattergl\"},{\"hovertemplate\":\"County=Hansford County<br>Year=%{x}<br>NonViolent_Offenses=%{y}<extra></extra>\",\"legendgroup\":\"Hansford County\",\"line\":{\"color\":\"#B6E880\",\"dash\":\"solid\"},\"marker\":{\"symbol\":\"circle\"},\"mode\":\"lines\",\"name\":\"Hansford County\",\"showlegend\":true,\"x\":[2015,2016,2017,2018,2019,2020],\"xaxis\":\"x\",\"y\":[24,11,17,20,19,19],\"yaxis\":\"y\",\"type\":\"scattergl\"},{\"hovertemplate\":\"County=Hardeman County<br>Year=%{x}<br>NonViolent_Offenses=%{y}<extra></extra>\",\"legendgroup\":\"Hardeman County\",\"line\":{\"color\":\"#FF97FF\",\"dash\":\"solid\"},\"marker\":{\"symbol\":\"circle\"},\"mode\":\"lines\",\"name\":\"Hardeman County\",\"showlegend\":true,\"x\":[2015,2016,2017,2018,2019,2020],\"xaxis\":\"x\",\"y\":[36,44,38,6,18,25],\"yaxis\":\"y\",\"type\":\"scattergl\"},{\"hovertemplate\":\"County=Hardin County<br>Year=%{x}<br>NonViolent_Offenses=%{y}<extra></extra>\",\"legendgroup\":\"Hardin County\",\"line\":{\"color\":\"#FECB52\",\"dash\":\"solid\"},\"marker\":{\"symbol\":\"circle\"},\"mode\":\"lines\",\"name\":\"Hardin County\",\"showlegend\":true,\"x\":[2015,2016,2017,2018,2019,2020],\"xaxis\":\"x\",\"y\":[778,748,657,665,544,548],\"yaxis\":\"y\",\"type\":\"scattergl\"},{\"hovertemplate\":\"County=Harris County<br>Year=%{x}<br>NonViolent_Offenses=%{y}<extra></extra>\",\"legendgroup\":\"Harris County\",\"line\":{\"color\":\"#636efa\",\"dash\":\"solid\"},\"marker\":{\"symbol\":\"circle\"},\"mode\":\"lines\",\"name\":\"Harris County\",\"showlegend\":true,\"x\":[2015,2016,2017,2018,2019,2020],\"xaxis\":\"x\",\"y\":[162411,162905,154812,150312,160084,157068],\"yaxis\":\"y\",\"type\":\"scattergl\"},{\"hovertemplate\":\"County=Harrison County<br>Year=%{x}<br>NonViolent_Offenses=%{y}<extra></extra>\",\"legendgroup\":\"Harrison County\",\"line\":{\"color\":\"#EF553B\",\"dash\":\"solid\"},\"marker\":{\"symbol\":\"circle\"},\"mode\":\"lines\",\"name\":\"Harrison County\",\"showlegend\":true,\"x\":[2015,2016,2017,2018,2019,2020],\"xaxis\":\"x\",\"y\":[1159,1280,1585,1261,1301,979],\"yaxis\":\"y\",\"type\":\"scattergl\"},{\"hovertemplate\":\"County=Hartley County<br>Year=%{x}<br>NonViolent_Offenses=%{y}<extra></extra>\",\"legendgroup\":\"Hartley County\",\"line\":{\"color\":\"#00cc96\",\"dash\":\"solid\"},\"marker\":{\"symbol\":\"circle\"},\"mode\":\"lines\",\"name\":\"Hartley County\",\"showlegend\":true,\"x\":[2015,2016,2017,2018,2019,2020],\"xaxis\":\"x\",\"y\":[20,29,12,7,10,4],\"yaxis\":\"y\",\"type\":\"scattergl\"},{\"hovertemplate\":\"County=Haskell County<br>Year=%{x}<br>NonViolent_Offenses=%{y}<extra></extra>\",\"legendgroup\":\"Haskell County\",\"line\":{\"color\":\"#ab63fa\",\"dash\":\"solid\"},\"marker\":{\"symbol\":\"circle\"},\"mode\":\"lines\",\"name\":\"Haskell County\",\"showlegend\":true,\"x\":[2015,2016,2017,2018,2019,2020],\"xaxis\":\"x\",\"y\":[38,52,32,26,42,38],\"yaxis\":\"y\",\"type\":\"scattergl\"},{\"hovertemplate\":\"County=Hays County<br>Year=%{x}<br>NonViolent_Offenses=%{y}<extra></extra>\",\"legendgroup\":\"Hays County\",\"line\":{\"color\":\"#FFA15A\",\"dash\":\"solid\"},\"marker\":{\"symbol\":\"circle\"},\"mode\":\"lines\",\"name\":\"Hays County\",\"showlegend\":true,\"x\":[2015,2016,2017,2018,2019,2020],\"xaxis\":\"x\",\"y\":[3637,3940,3323,3042,3293,3126],\"yaxis\":\"y\",\"type\":\"scattergl\"},{\"hovertemplate\":\"County=Hemphill County<br>Year=%{x}<br>NonViolent_Offenses=%{y}<extra></extra>\",\"legendgroup\":\"Hemphill County\",\"line\":{\"color\":\"#19d3f3\",\"dash\":\"solid\"},\"marker\":{\"symbol\":\"circle\"},\"mode\":\"lines\",\"name\":\"Hemphill County\",\"showlegend\":true,\"x\":[2015,2016,2017,2018,2019,2020],\"xaxis\":\"x\",\"y\":[76,37,13,28,13,10],\"yaxis\":\"y\",\"type\":\"scattergl\"},{\"hovertemplate\":\"County=Henderson County<br>Year=%{x}<br>NonViolent_Offenses=%{y}<extra></extra>\",\"legendgroup\":\"Henderson County\",\"line\":{\"color\":\"#FF6692\",\"dash\":\"solid\"},\"marker\":{\"symbol\":\"circle\"},\"mode\":\"lines\",\"name\":\"Henderson County\",\"showlegend\":true,\"x\":[2015,2016,2017,2018,2019,2020],\"xaxis\":\"x\",\"y\":[1783,1728,1430,1085,1066,849],\"yaxis\":\"y\",\"type\":\"scattergl\"},{\"hovertemplate\":\"County=Hidalgo County<br>Year=%{x}<br>NonViolent_Offenses=%{y}<extra></extra>\",\"legendgroup\":\"Hidalgo County\",\"line\":{\"color\":\"#B6E880\",\"dash\":\"solid\"},\"marker\":{\"symbol\":\"circle\"},\"mode\":\"lines\",\"name\":\"Hidalgo County\",\"showlegend\":true,\"x\":[2015,2016,2017,2018,2019,2020],\"xaxis\":\"x\",\"y\":[24399,24127,21531,20111,19105,15571],\"yaxis\":\"y\",\"type\":\"scattergl\"},{\"hovertemplate\":\"County=Hill County<br>Year=%{x}<br>NonViolent_Offenses=%{y}<extra></extra>\",\"legendgroup\":\"Hill County\",\"line\":{\"color\":\"#FF97FF\",\"dash\":\"solid\"},\"marker\":{\"symbol\":\"circle\"},\"mode\":\"lines\",\"name\":\"Hill County\",\"showlegend\":true,\"x\":[2015,2016,2017,2018,2019,2020],\"xaxis\":\"x\",\"y\":[738,620,643,651,564,486],\"yaxis\":\"y\",\"type\":\"scattergl\"},{\"hovertemplate\":\"County=Hockley County<br>Year=%{x}<br>NonViolent_Offenses=%{y}<extra></extra>\",\"legendgroup\":\"Hockley County\",\"line\":{\"color\":\"#FECB52\",\"dash\":\"solid\"},\"marker\":{\"symbol\":\"circle\"},\"mode\":\"lines\",\"name\":\"Hockley County\",\"showlegend\":true,\"x\":[2015,2016,2017,2018,2019,2020],\"xaxis\":\"x\",\"y\":[640,626,581,550,492,496],\"yaxis\":\"y\",\"type\":\"scattergl\"},{\"hovertemplate\":\"County=Hood County<br>Year=%{x}<br>NonViolent_Offenses=%{y}<extra></extra>\",\"legendgroup\":\"Hood County\",\"line\":{\"color\":\"#636efa\",\"dash\":\"solid\"},\"marker\":{\"symbol\":\"circle\"},\"mode\":\"lines\",\"name\":\"Hood County\",\"showlegend\":true,\"x\":[2015,2016,2017,2018,2019,2020],\"xaxis\":\"x\",\"y\":[976,857,887,886,799,846],\"yaxis\":\"y\",\"type\":\"scattergl\"},{\"hovertemplate\":\"County=Hopkins County<br>Year=%{x}<br>NonViolent_Offenses=%{y}<extra></extra>\",\"legendgroup\":\"Hopkins County\",\"line\":{\"color\":\"#EF553B\",\"dash\":\"solid\"},\"marker\":{\"symbol\":\"circle\"},\"mode\":\"lines\",\"name\":\"Hopkins County\",\"showlegend\":true,\"x\":[2015,2016,2017,2018,2019,2020],\"xaxis\":\"x\",\"y\":[404,340,248,227,229,245],\"yaxis\":\"y\",\"type\":\"scattergl\"},{\"hovertemplate\":\"County=Houston County<br>Year=%{x}<br>NonViolent_Offenses=%{y}<extra></extra>\",\"legendgroup\":\"Houston County\",\"line\":{\"color\":\"#00cc96\",\"dash\":\"solid\"},\"marker\":{\"symbol\":\"circle\"},\"mode\":\"lines\",\"name\":\"Houston County\",\"showlegend\":true,\"x\":[2015,2016,2017,2018,2019,2020],\"xaxis\":\"x\",\"y\":[343,413,333,287,242,251],\"yaxis\":\"y\",\"type\":\"scattergl\"},{\"hovertemplate\":\"County=Howard County<br>Year=%{x}<br>NonViolent_Offenses=%{y}<extra></extra>\",\"legendgroup\":\"Howard County\",\"line\":{\"color\":\"#ab63fa\",\"dash\":\"solid\"},\"marker\":{\"symbol\":\"circle\"},\"mode\":\"lines\",\"name\":\"Howard County\",\"showlegend\":true,\"x\":[2015,2016,2017,2018,2019,2020],\"xaxis\":\"x\",\"y\":[1557,1643,1176,1000,1327,1033],\"yaxis\":\"y\",\"type\":\"scattergl\"},{\"hovertemplate\":\"County=Hudspeth County<br>Year=%{x}<br>NonViolent_Offenses=%{y}<extra></extra>\",\"legendgroup\":\"Hudspeth County\",\"line\":{\"color\":\"#FFA15A\",\"dash\":\"solid\"},\"marker\":{\"symbol\":\"circle\"},\"mode\":\"lines\",\"name\":\"Hudspeth County\",\"showlegend\":true,\"x\":[2015,2016,2017,2018,2019,2020],\"xaxis\":\"x\",\"y\":[26,12,2,32,14,15],\"yaxis\":\"y\",\"type\":\"scattergl\"},{\"hovertemplate\":\"County=Hunt County<br>Year=%{x}<br>NonViolent_Offenses=%{y}<extra></extra>\",\"legendgroup\":\"Hunt County\",\"line\":{\"color\":\"#19d3f3\",\"dash\":\"solid\"},\"marker\":{\"symbol\":\"circle\"},\"mode\":\"lines\",\"name\":\"Hunt County\",\"showlegend\":true,\"x\":[2015,2016,2017,2018,2019,2020],\"xaxis\":\"x\",\"y\":[1877,1748,1536,1196,1454,1161],\"yaxis\":\"y\",\"type\":\"scattergl\"},{\"hovertemplate\":\"County=Hutchinson County<br>Year=%{x}<br>NonViolent_Offenses=%{y}<extra></extra>\",\"legendgroup\":\"Hutchinson County\",\"line\":{\"color\":\"#FF6692\",\"dash\":\"solid\"},\"marker\":{\"symbol\":\"circle\"},\"mode\":\"lines\",\"name\":\"Hutchinson County\",\"showlegend\":true,\"x\":[2015,2016,2017,2018,2019,2020],\"xaxis\":\"x\",\"y\":[667,596,600,554,381,435],\"yaxis\":\"y\",\"type\":\"scattergl\"},{\"hovertemplate\":\"County=Irion County<br>Year=%{x}<br>NonViolent_Offenses=%{y}<extra></extra>\",\"legendgroup\":\"Irion County\",\"line\":{\"color\":\"#B6E880\",\"dash\":\"solid\"},\"marker\":{\"symbol\":\"circle\"},\"mode\":\"lines\",\"name\":\"Irion County\",\"showlegend\":true,\"x\":[2015,2016,2017,2018,2019,2020],\"xaxis\":\"x\",\"y\":[29,29,24,30,27,13],\"yaxis\":\"y\",\"type\":\"scattergl\"},{\"hovertemplate\":\"County=Jack County<br>Year=%{x}<br>NonViolent_Offenses=%{y}<extra></extra>\",\"legendgroup\":\"Jack County\",\"line\":{\"color\":\"#FF97FF\",\"dash\":\"solid\"},\"marker\":{\"symbol\":\"circle\"},\"mode\":\"lines\",\"name\":\"Jack County\",\"showlegend\":true,\"x\":[2015,2016,2017,2018,2019,2020],\"xaxis\":\"x\",\"y\":[138,124,112,104,70,76],\"yaxis\":\"y\",\"type\":\"scattergl\"},{\"hovertemplate\":\"County=Jackson County<br>Year=%{x}<br>NonViolent_Offenses=%{y}<extra></extra>\",\"legendgroup\":\"Jackson County\",\"line\":{\"color\":\"#FECB52\",\"dash\":\"solid\"},\"marker\":{\"symbol\":\"circle\"},\"mode\":\"lines\",\"name\":\"Jackson County\",\"showlegend\":true,\"x\":[2015,2016,2017,2018,2019,2020],\"xaxis\":\"x\",\"y\":[210,203,176,159,134,188],\"yaxis\":\"y\",\"type\":\"scattergl\"},{\"hovertemplate\":\"County=Jasper County<br>Year=%{x}<br>NonViolent_Offenses=%{y}<extra></extra>\",\"legendgroup\":\"Jasper County\",\"line\":{\"color\":\"#636efa\",\"dash\":\"solid\"},\"marker\":{\"symbol\":\"circle\"},\"mode\":\"lines\",\"name\":\"Jasper County\",\"showlegend\":true,\"x\":[2015,2016,2017,2018,2019,2020],\"xaxis\":\"x\",\"y\":[819,732,661,666,788,644],\"yaxis\":\"y\",\"type\":\"scattergl\"},{\"hovertemplate\":\"County=Jeff Davis County<br>Year=%{x}<br>NonViolent_Offenses=%{y}<extra></extra>\",\"legendgroup\":\"Jeff Davis County\",\"line\":{\"color\":\"#EF553B\",\"dash\":\"solid\"},\"marker\":{\"symbol\":\"circle\"},\"mode\":\"lines\",\"name\":\"Jeff Davis County\",\"showlegend\":true,\"x\":[2015,2016,2017,2018,2019,2020],\"xaxis\":\"x\",\"y\":[9,8,9,6,11,11],\"yaxis\":\"y\",\"type\":\"scattergl\"},{\"hovertemplate\":\"County=Jefferson County<br>Year=%{x}<br>NonViolent_Offenses=%{y}<extra></extra>\",\"legendgroup\":\"Jefferson County\",\"line\":{\"color\":\"#00cc96\",\"dash\":\"solid\"},\"marker\":{\"symbol\":\"circle\"},\"mode\":\"lines\",\"name\":\"Jefferson County\",\"showlegend\":true,\"x\":[2015,2016,2017,2018,2019,2020],\"xaxis\":\"x\",\"y\":[8799,8308,8694,7188,6649,6257],\"yaxis\":\"y\",\"type\":\"scattergl\"},{\"hovertemplate\":\"County=Jim Hogg County<br>Year=%{x}<br>NonViolent_Offenses=%{y}<extra></extra>\",\"legendgroup\":\"Jim Hogg County\",\"line\":{\"color\":\"#ab63fa\",\"dash\":\"solid\"},\"marker\":{\"symbol\":\"circle\"},\"mode\":\"lines\",\"name\":\"Jim Hogg County\",\"showlegend\":true,\"x\":[2015,2016,2017,2018,2019,2020],\"xaxis\":\"x\",\"y\":[6,9,15,13,20,34],\"yaxis\":\"y\",\"type\":\"scattergl\"},{\"hovertemplate\":\"County=Jim Wells County<br>Year=%{x}<br>NonViolent_Offenses=%{y}<extra></extra>\",\"legendgroup\":\"Jim Wells County\",\"line\":{\"color\":\"#FFA15A\",\"dash\":\"solid\"},\"marker\":{\"symbol\":\"circle\"},\"mode\":\"lines\",\"name\":\"Jim Wells County\",\"showlegend\":true,\"x\":[2015,2016,2017,2018,2019,2020],\"xaxis\":\"x\",\"y\":[1411,1662,1354,1315,1191,1093],\"yaxis\":\"y\",\"type\":\"scattergl\"},{\"hovertemplate\":\"County=Johnson County<br>Year=%{x}<br>NonViolent_Offenses=%{y}<extra></extra>\",\"legendgroup\":\"Johnson County\",\"line\":{\"color\":\"#19d3f3\",\"dash\":\"solid\"},\"marker\":{\"symbol\":\"circle\"},\"mode\":\"lines\",\"name\":\"Johnson County\",\"showlegend\":true,\"x\":[2015,2016,2017,2018,2019,2020],\"xaxis\":\"x\",\"y\":[2816,2687,2700,2299,2176,2080],\"yaxis\":\"y\",\"type\":\"scattergl\"},{\"hovertemplate\":\"County=Jones County<br>Year=%{x}<br>NonViolent_Offenses=%{y}<extra></extra>\",\"legendgroup\":\"Jones County\",\"line\":{\"color\":\"#FF6692\",\"dash\":\"solid\"},\"marker\":{\"symbol\":\"circle\"},\"mode\":\"lines\",\"name\":\"Jones County\",\"showlegend\":true,\"x\":[2015,2016,2017,2018,2019,2020],\"xaxis\":\"x\",\"y\":[236,186,182,120,133,127],\"yaxis\":\"y\",\"type\":\"scattergl\"},{\"hovertemplate\":\"County=Karnes County<br>Year=%{x}<br>NonViolent_Offenses=%{y}<extra></extra>\",\"legendgroup\":\"Karnes County\",\"line\":{\"color\":\"#B6E880\",\"dash\":\"solid\"},\"marker\":{\"symbol\":\"circle\"},\"mode\":\"lines\",\"name\":\"Karnes County\",\"showlegend\":true,\"x\":[2015,2016,2017,2018,2019,2020],\"xaxis\":\"x\",\"y\":[415,352,301,318,286,233],\"yaxis\":\"y\",\"type\":\"scattergl\"},{\"hovertemplate\":\"County=Kaufman County<br>Year=%{x}<br>NonViolent_Offenses=%{y}<extra></extra>\",\"legendgroup\":\"Kaufman County\",\"line\":{\"color\":\"#FF97FF\",\"dash\":\"solid\"},\"marker\":{\"symbol\":\"circle\"},\"mode\":\"lines\",\"name\":\"Kaufman County\",\"showlegend\":true,\"x\":[2015,2016,2017,2018,2019,2020],\"xaxis\":\"x\",\"y\":[1812,1849,1973,1649,1929,1955],\"yaxis\":\"y\",\"type\":\"scattergl\"},{\"hovertemplate\":\"County=Kendall County<br>Year=%{x}<br>NonViolent_Offenses=%{y}<extra></extra>\",\"legendgroup\":\"Kendall County\",\"line\":{\"color\":\"#FECB52\",\"dash\":\"solid\"},\"marker\":{\"symbol\":\"circle\"},\"mode\":\"lines\",\"name\":\"Kendall County\",\"showlegend\":true,\"x\":[2015,2016,2017,2018,2019,2020],\"xaxis\":\"x\",\"y\":[555,555,892,464,450,394],\"yaxis\":\"y\",\"type\":\"scattergl\"},{\"hovertemplate\":\"County=Kenedy County<br>Year=%{x}<br>NonViolent_Offenses=%{y}<extra></extra>\",\"legendgroup\":\"Kenedy County\",\"line\":{\"color\":\"#636efa\",\"dash\":\"solid\"},\"marker\":{\"symbol\":\"circle\"},\"mode\":\"lines\",\"name\":\"Kenedy County\",\"showlegend\":true,\"x\":[2015,2016,2017,2018,2019,2020],\"xaxis\":\"x\",\"y\":[4,7,3,5,8,10],\"yaxis\":\"y\",\"type\":\"scattergl\"},{\"hovertemplate\":\"County=Kent County<br>Year=%{x}<br>NonViolent_Offenses=%{y}<extra></extra>\",\"legendgroup\":\"Kent County\",\"line\":{\"color\":\"#EF553B\",\"dash\":\"solid\"},\"marker\":{\"symbol\":\"circle\"},\"mode\":\"lines\",\"name\":\"Kent County\",\"showlegend\":true,\"x\":[2015,2016,2017,2018,2019,2020],\"xaxis\":\"x\",\"y\":[15,10,4,9,5,8],\"yaxis\":\"y\",\"type\":\"scattergl\"},{\"hovertemplate\":\"County=Kerr County<br>Year=%{x}<br>NonViolent_Offenses=%{y}<extra></extra>\",\"legendgroup\":\"Kerr County\",\"line\":{\"color\":\"#00cc96\",\"dash\":\"solid\"},\"marker\":{\"symbol\":\"circle\"},\"mode\":\"lines\",\"name\":\"Kerr County\",\"showlegend\":true,\"x\":[2015,2016,2017,2018,2019,2020],\"xaxis\":\"x\",\"y\":[971,941,830,591,534,436],\"yaxis\":\"y\",\"type\":\"scattergl\"},{\"hovertemplate\":\"County=Kimble County<br>Year=%{x}<br>NonViolent_Offenses=%{y}<extra></extra>\",\"legendgroup\":\"Kimble County\",\"line\":{\"color\":\"#ab63fa\",\"dash\":\"solid\"},\"marker\":{\"symbol\":\"circle\"},\"mode\":\"lines\",\"name\":\"Kimble County\",\"showlegend\":true,\"x\":[2015,2016,2017,2018,2019,2020],\"xaxis\":\"x\",\"y\":[45,28,29,28,13,14],\"yaxis\":\"y\",\"type\":\"scattergl\"},{\"hovertemplate\":\"County=King County<br>Year=%{x}<br>NonViolent_Offenses=%{y}<extra></extra>\",\"legendgroup\":\"King County\",\"line\":{\"color\":\"#FFA15A\",\"dash\":\"solid\"},\"marker\":{\"symbol\":\"circle\"},\"mode\":\"lines\",\"name\":\"King County\",\"showlegend\":true,\"x\":[2015,2016,2017,2018],\"xaxis\":\"x\",\"y\":[4,0,0,0],\"yaxis\":\"y\",\"type\":\"scattergl\"},{\"hovertemplate\":\"County=Kinney County<br>Year=%{x}<br>NonViolent_Offenses=%{y}<extra></extra>\",\"legendgroup\":\"Kinney County\",\"line\":{\"color\":\"#19d3f3\",\"dash\":\"solid\"},\"marker\":{\"symbol\":\"circle\"},\"mode\":\"lines\",\"name\":\"Kinney County\",\"showlegend\":true,\"x\":[2015,2016,2017,2018,2019,2020],\"xaxis\":\"x\",\"y\":[9,11,6,1,1,0],\"yaxis\":\"y\",\"type\":\"scattergl\"},{\"hovertemplate\":\"County=Kleberg County<br>Year=%{x}<br>NonViolent_Offenses=%{y}<extra></extra>\",\"legendgroup\":\"Kleberg County\",\"line\":{\"color\":\"#FF6692\",\"dash\":\"solid\"},\"marker\":{\"symbol\":\"circle\"},\"mode\":\"lines\",\"name\":\"Kleberg County\",\"showlegend\":true,\"x\":[2015,2016,2017,2018,2019,2020],\"xaxis\":\"x\",\"y\":[1029,1111,1054,851,849,623],\"yaxis\":\"y\",\"type\":\"scattergl\"},{\"hovertemplate\":\"County=Knox County<br>Year=%{x}<br>NonViolent_Offenses=%{y}<extra></extra>\",\"legendgroup\":\"Knox County\",\"line\":{\"color\":\"#B6E880\",\"dash\":\"solid\"},\"marker\":{\"symbol\":\"circle\"},\"mode\":\"lines\",\"name\":\"Knox County\",\"showlegend\":true,\"x\":[2015,2016,2017,2018,2019,2020],\"xaxis\":\"x\",\"y\":[73,74,35,37,43,17],\"yaxis\":\"y\",\"type\":\"scattergl\"},{\"hovertemplate\":\"County=La Salle County<br>Year=%{x}<br>NonViolent_Offenses=%{y}<extra></extra>\",\"legendgroup\":\"La Salle County\",\"line\":{\"color\":\"#FF97FF\",\"dash\":\"solid\"},\"marker\":{\"symbol\":\"circle\"},\"mode\":\"lines\",\"name\":\"La Salle County\",\"showlegend\":true,\"x\":[2015,2016,2017,2018,2019,2020],\"xaxis\":\"x\",\"y\":[36,55,57,39,44,29],\"yaxis\":\"y\",\"type\":\"scattergl\"},{\"hovertemplate\":\"County=Lamar County<br>Year=%{x}<br>NonViolent_Offenses=%{y}<extra></extra>\",\"legendgroup\":\"Lamar County\",\"line\":{\"color\":\"#FECB52\",\"dash\":\"solid\"},\"marker\":{\"symbol\":\"circle\"},\"mode\":\"lines\",\"name\":\"Lamar County\",\"showlegend\":true,\"x\":[2015,2016,2017,2018,2019,2020],\"xaxis\":\"x\",\"y\":[1274,1307,1114,946,900,894],\"yaxis\":\"y\",\"type\":\"scattergl\"},{\"hovertemplate\":\"County=Lamb County<br>Year=%{x}<br>NonViolent_Offenses=%{y}<extra></extra>\",\"legendgroup\":\"Lamb County\",\"line\":{\"color\":\"#636efa\",\"dash\":\"solid\"},\"marker\":{\"symbol\":\"circle\"},\"mode\":\"lines\",\"name\":\"Lamb County\",\"showlegend\":true,\"x\":[2015,2016,2017,2018,2019,2020],\"xaxis\":\"x\",\"y\":[297,232,173,201,223,253],\"yaxis\":\"y\",\"type\":\"scattergl\"},{\"hovertemplate\":\"County=Lampasas County<br>Year=%{x}<br>NonViolent_Offenses=%{y}<extra></extra>\",\"legendgroup\":\"Lampasas County\",\"line\":{\"color\":\"#EF553B\",\"dash\":\"solid\"},\"marker\":{\"symbol\":\"circle\"},\"mode\":\"lines\",\"name\":\"Lampasas County\",\"showlegend\":true,\"x\":[2015,2016,2017,2018,2019,2020],\"xaxis\":\"x\",\"y\":[350,474,311,257,287,321],\"yaxis\":\"y\",\"type\":\"scattergl\"},{\"hovertemplate\":\"County=Lavaca County<br>Year=%{x}<br>NonViolent_Offenses=%{y}<extra></extra>\",\"legendgroup\":\"Lavaca County\",\"line\":{\"color\":\"#00cc96\",\"dash\":\"solid\"},\"marker\":{\"symbol\":\"circle\"},\"mode\":\"lines\",\"name\":\"Lavaca County\",\"showlegend\":true,\"x\":[2015,2016,2017,2018,2019,2020],\"xaxis\":\"x\",\"y\":[335,251,230,161,207,206],\"yaxis\":\"y\",\"type\":\"scattergl\"},{\"hovertemplate\":\"County=Lee County<br>Year=%{x}<br>NonViolent_Offenses=%{y}<extra></extra>\",\"legendgroup\":\"Lee County\",\"line\":{\"color\":\"#ab63fa\",\"dash\":\"solid\"},\"marker\":{\"symbol\":\"circle\"},\"mode\":\"lines\",\"name\":\"Lee County\",\"showlegend\":true,\"x\":[2015,2016,2017,2018,2019,2020],\"xaxis\":\"x\",\"y\":[226,241,202,159,191,175],\"yaxis\":\"y\",\"type\":\"scattergl\"},{\"hovertemplate\":\"County=Leon County<br>Year=%{x}<br>NonViolent_Offenses=%{y}<extra></extra>\",\"legendgroup\":\"Leon County\",\"line\":{\"color\":\"#FFA15A\",\"dash\":\"solid\"},\"marker\":{\"symbol\":\"circle\"},\"mode\":\"lines\",\"name\":\"Leon County\",\"showlegend\":true,\"x\":[2015,2016,2017,2018,2019,2020],\"xaxis\":\"x\",\"y\":[252,231,155,162,235,144],\"yaxis\":\"y\",\"type\":\"scattergl\"},{\"hovertemplate\":\"County=Liberty County<br>Year=%{x}<br>NonViolent_Offenses=%{y}<extra></extra>\",\"legendgroup\":\"Liberty County\",\"line\":{\"color\":\"#19d3f3\",\"dash\":\"solid\"},\"marker\":{\"symbol\":\"circle\"},\"mode\":\"lines\",\"name\":\"Liberty County\",\"showlegend\":true,\"x\":[2015,2016,2017,2018,2019,2020],\"xaxis\":\"x\",\"y\":[1918,1699,688,1435,1618,1375],\"yaxis\":\"y\",\"type\":\"scattergl\"},{\"hovertemplate\":\"County=Limestone County<br>Year=%{x}<br>NonViolent_Offenses=%{y}<extra></extra>\",\"legendgroup\":\"Limestone County\",\"line\":{\"color\":\"#FF6692\",\"dash\":\"solid\"},\"marker\":{\"symbol\":\"circle\"},\"mode\":\"lines\",\"name\":\"Limestone County\",\"showlegend\":true,\"x\":[2015,2016,2017,2018,2019,2020],\"xaxis\":\"x\",\"y\":[595,497,528,460,197,274],\"yaxis\":\"y\",\"type\":\"scattergl\"},{\"hovertemplate\":\"County=Lipscomb County<br>Year=%{x}<br>NonViolent_Offenses=%{y}<extra></extra>\",\"legendgroup\":\"Lipscomb County\",\"line\":{\"color\":\"#B6E880\",\"dash\":\"solid\"},\"marker\":{\"symbol\":\"circle\"},\"mode\":\"lines\",\"name\":\"Lipscomb County\",\"showlegend\":true,\"x\":[2015,2016,2017,2018,2019,2020],\"xaxis\":\"x\",\"y\":[23,12,14,30,4,19],\"yaxis\":\"y\",\"type\":\"scattergl\"},{\"hovertemplate\":\"County=Live Oak County<br>Year=%{x}<br>NonViolent_Offenses=%{y}<extra></extra>\",\"legendgroup\":\"Live Oak County\",\"line\":{\"color\":\"#FF97FF\",\"dash\":\"solid\"},\"marker\":{\"symbol\":\"circle\"},\"mode\":\"lines\",\"name\":\"Live Oak County\",\"showlegend\":true,\"x\":[2015,2016,2017,2018,2019,2020],\"xaxis\":\"x\",\"y\":[213,205,161,44,12,5],\"yaxis\":\"y\",\"type\":\"scattergl\"},{\"hovertemplate\":\"County=Llano County<br>Year=%{x}<br>NonViolent_Offenses=%{y}<extra></extra>\",\"legendgroup\":\"Llano County\",\"line\":{\"color\":\"#FECB52\",\"dash\":\"solid\"},\"marker\":{\"symbol\":\"circle\"},\"mode\":\"lines\",\"name\":\"Llano County\",\"showlegend\":true,\"x\":[2015,2016,2017,2018,2019,2020],\"xaxis\":\"x\",\"y\":[244,140,141,88,155,262],\"yaxis\":\"y\",\"type\":\"scattergl\"},{\"hovertemplate\":\"County=Loving County<br>Year=%{x}<br>NonViolent_Offenses=%{y}<extra></extra>\",\"legendgroup\":\"Loving County\",\"line\":{\"color\":\"#636efa\",\"dash\":\"solid\"},\"marker\":{\"symbol\":\"circle\"},\"mode\":\"lines\",\"name\":\"Loving County\",\"showlegend\":true,\"x\":[2015,2016,2017,2018,2019,2020],\"xaxis\":\"x\",\"y\":[7,11,1,17,22,17],\"yaxis\":\"y\",\"type\":\"scattergl\"},{\"hovertemplate\":\"County=Lubbock County<br>Year=%{x}<br>NonViolent_Offenses=%{y}<extra></extra>\",\"legendgroup\":\"Lubbock County\",\"line\":{\"color\":\"#EF553B\",\"dash\":\"solid\"},\"marker\":{\"symbol\":\"circle\"},\"mode\":\"lines\",\"name\":\"Lubbock County\",\"showlegend\":true,\"x\":[2015,2016,2017,2018,2019,2020],\"xaxis\":\"x\",\"y\":[13822,14013,13103,12630,12833,11800],\"yaxis\":\"y\",\"type\":\"scattergl\"},{\"hovertemplate\":\"County=Lynn County<br>Year=%{x}<br>NonViolent_Offenses=%{y}<extra></extra>\",\"legendgroup\":\"Lynn County\",\"line\":{\"color\":\"#00cc96\",\"dash\":\"solid\"},\"marker\":{\"symbol\":\"circle\"},\"mode\":\"lines\",\"name\":\"Lynn County\",\"showlegend\":true,\"x\":[2015,2016,2017,2018,2019,2020],\"xaxis\":\"x\",\"y\":[62,63,61,51,21,32],\"yaxis\":\"y\",\"type\":\"scattergl\"},{\"hovertemplate\":\"County=Madison County<br>Year=%{x}<br>NonViolent_Offenses=%{y}<extra></extra>\",\"legendgroup\":\"Madison County\",\"line\":{\"color\":\"#ab63fa\",\"dash\":\"solid\"},\"marker\":{\"symbol\":\"circle\"},\"mode\":\"lines\",\"name\":\"Madison County\",\"showlegend\":true,\"x\":[2015,2016,2017,2018,2019,2020],\"xaxis\":\"x\",\"y\":[285,279,210,182,95,107],\"yaxis\":\"y\",\"type\":\"scattergl\"},{\"hovertemplate\":\"County=Marion County<br>Year=%{x}<br>NonViolent_Offenses=%{y}<extra></extra>\",\"legendgroup\":\"Marion County\",\"line\":{\"color\":\"#FFA15A\",\"dash\":\"solid\"},\"marker\":{\"symbol\":\"circle\"},\"mode\":\"lines\",\"name\":\"Marion County\",\"showlegend\":true,\"x\":[2015,2016,2017,2018,2019,2020],\"xaxis\":\"x\",\"y\":[226,198,186,124,87,113],\"yaxis\":\"y\",\"type\":\"scattergl\"},{\"hovertemplate\":\"County=Martin County<br>Year=%{x}<br>NonViolent_Offenses=%{y}<extra></extra>\",\"legendgroup\":\"Martin County\",\"line\":{\"color\":\"#19d3f3\",\"dash\":\"solid\"},\"marker\":{\"symbol\":\"circle\"},\"mode\":\"lines\",\"name\":\"Martin County\",\"showlegend\":true,\"x\":[2015,2016,2017,2018,2019,2020],\"xaxis\":\"x\",\"y\":[100,111,55,71,86,102],\"yaxis\":\"y\",\"type\":\"scattergl\"},{\"hovertemplate\":\"County=Mason County<br>Year=%{x}<br>NonViolent_Offenses=%{y}<extra></extra>\",\"legendgroup\":\"Mason County\",\"line\":{\"color\":\"#FF6692\",\"dash\":\"solid\"},\"marker\":{\"symbol\":\"circle\"},\"mode\":\"lines\",\"name\":\"Mason County\",\"showlegend\":true,\"x\":[2015,2016,2017,2018,2019,2020],\"xaxis\":\"x\",\"y\":[30,43,15,17,10,11],\"yaxis\":\"y\",\"type\":\"scattergl\"},{\"hovertemplate\":\"County=Matagorda County<br>Year=%{x}<br>NonViolent_Offenses=%{y}<extra></extra>\",\"legendgroup\":\"Matagorda County\",\"line\":{\"color\":\"#B6E880\",\"dash\":\"solid\"},\"marker\":{\"symbol\":\"circle\"},\"mode\":\"lines\",\"name\":\"Matagorda County\",\"showlegend\":true,\"x\":[2015,2016,2017,2018,2019,2020],\"xaxis\":\"x\",\"y\":[1157,1228,1024,1115,1142,973],\"yaxis\":\"y\",\"type\":\"scattergl\"},{\"hovertemplate\":\"County=Maverick County<br>Year=%{x}<br>NonViolent_Offenses=%{y}<extra></extra>\",\"legendgroup\":\"Maverick County\",\"line\":{\"color\":\"#FF97FF\",\"dash\":\"solid\"},\"marker\":{\"symbol\":\"circle\"},\"mode\":\"lines\",\"name\":\"Maverick County\",\"showlegend\":true,\"x\":[2015,2016,2017,2018,2019,2020],\"xaxis\":\"x\",\"y\":[1439,1171,971,713,1048,896],\"yaxis\":\"y\",\"type\":\"scattergl\"},{\"hovertemplate\":\"County=McCulloch County<br>Year=%{x}<br>NonViolent_Offenses=%{y}<extra></extra>\",\"legendgroup\":\"McCulloch County\",\"line\":{\"color\":\"#FECB52\",\"dash\":\"solid\"},\"marker\":{\"symbol\":\"circle\"},\"mode\":\"lines\",\"name\":\"McCulloch County\",\"showlegend\":true,\"x\":[2015,2016,2017,2018,2019,2020],\"xaxis\":\"x\",\"y\":[169,128,160,92,89,95],\"yaxis\":\"y\",\"type\":\"scattergl\"},{\"hovertemplate\":\"County=McLennan County<br>Year=%{x}<br>NonViolent_Offenses=%{y}<extra></extra>\",\"legendgroup\":\"McLennan County\",\"line\":{\"color\":\"#636efa\",\"dash\":\"solid\"},\"marker\":{\"symbol\":\"circle\"},\"mode\":\"lines\",\"name\":\"McLennan County\",\"showlegend\":true,\"x\":[2015,2016,2017,2018,2019,2020],\"xaxis\":\"x\",\"y\":[7631,7112,6917,6998,6607,6854],\"yaxis\":\"y\",\"type\":\"scattergl\"},{\"hovertemplate\":\"County=McMullen County<br>Year=%{x}<br>NonViolent_Offenses=%{y}<extra></extra>\",\"legendgroup\":\"McMullen County\",\"line\":{\"color\":\"#EF553B\",\"dash\":\"solid\"},\"marker\":{\"symbol\":\"circle\"},\"mode\":\"lines\",\"name\":\"McMullen County\",\"showlegend\":true,\"x\":[2015,2016,2017,2018,2019,2020],\"xaxis\":\"x\",\"y\":[45,26,24,18,12,9],\"yaxis\":\"y\",\"type\":\"scattergl\"},{\"hovertemplate\":\"County=Medina County<br>Year=%{x}<br>NonViolent_Offenses=%{y}<extra></extra>\",\"legendgroup\":\"Medina County\",\"line\":{\"color\":\"#00cc96\",\"dash\":\"solid\"},\"marker\":{\"symbol\":\"circle\"},\"mode\":\"lines\",\"name\":\"Medina County\",\"showlegend\":true,\"x\":[2015,2016,2017,2018,2019,2020],\"xaxis\":\"x\",\"y\":[878,884,936,773,685,682],\"yaxis\":\"y\",\"type\":\"scattergl\"},{\"hovertemplate\":\"County=Menard County<br>Year=%{x}<br>NonViolent_Offenses=%{y}<extra></extra>\",\"legendgroup\":\"Menard County\",\"line\":{\"color\":\"#ab63fa\",\"dash\":\"solid\"},\"marker\":{\"symbol\":\"circle\"},\"mode\":\"lines\",\"name\":\"Menard County\",\"showlegend\":true,\"x\":[2015,2016,2017,2018,2019,2020],\"xaxis\":\"x\",\"y\":[6,4,5,13,1,0],\"yaxis\":\"y\",\"type\":\"scattergl\"},{\"hovertemplate\":\"County=Midland County<br>Year=%{x}<br>NonViolent_Offenses=%{y}<extra></extra>\",\"legendgroup\":\"Midland County\",\"line\":{\"color\":\"#FFA15A\",\"dash\":\"solid\"},\"marker\":{\"symbol\":\"circle\"},\"mode\":\"lines\",\"name\":\"Midland County\",\"showlegend\":true,\"x\":[2015,2016,2017,2018,2019,2020],\"xaxis\":\"x\",\"y\":[4148,4105,3229,3323,2466,3892],\"yaxis\":\"y\",\"type\":\"scattergl\"},{\"hovertemplate\":\"County=Milam County<br>Year=%{x}<br>NonViolent_Offenses=%{y}<extra></extra>\",\"legendgroup\":\"Milam County\",\"line\":{\"color\":\"#19d3f3\",\"dash\":\"solid\"},\"marker\":{\"symbol\":\"circle\"},\"mode\":\"lines\",\"name\":\"Milam County\",\"showlegend\":true,\"x\":[2015,2016,2017,2018,2019,2020],\"xaxis\":\"x\",\"y\":[524,447,380,307,293,279],\"yaxis\":\"y\",\"type\":\"scattergl\"},{\"hovertemplate\":\"County=Mills County<br>Year=%{x}<br>NonViolent_Offenses=%{y}<extra></extra>\",\"legendgroup\":\"Mills County\",\"line\":{\"color\":\"#FF6692\",\"dash\":\"solid\"},\"marker\":{\"symbol\":\"circle\"},\"mode\":\"lines\",\"name\":\"Mills County\",\"showlegend\":true,\"x\":[2015,2016,2017,2018,2019,2020],\"xaxis\":\"x\",\"y\":[40,26,22,14,21,13],\"yaxis\":\"y\",\"type\":\"scattergl\"},{\"hovertemplate\":\"County=Mitchell County<br>Year=%{x}<br>NonViolent_Offenses=%{y}<extra></extra>\",\"legendgroup\":\"Mitchell County\",\"line\":{\"color\":\"#B6E880\",\"dash\":\"solid\"},\"marker\":{\"symbol\":\"circle\"},\"mode\":\"lines\",\"name\":\"Mitchell County\",\"showlegend\":true,\"x\":[2015,2016,2017,2018,2019,2020],\"xaxis\":\"x\",\"y\":[101,108,187,151,155,81],\"yaxis\":\"y\",\"type\":\"scattergl\"},{\"hovertemplate\":\"County=Montague County<br>Year=%{x}<br>NonViolent_Offenses=%{y}<extra></extra>\",\"legendgroup\":\"Montague County\",\"line\":{\"color\":\"#FF97FF\",\"dash\":\"solid\"},\"marker\":{\"symbol\":\"circle\"},\"mode\":\"lines\",\"name\":\"Montague County\",\"showlegend\":true,\"x\":[2015,2016,2017,2018,2019,2020],\"xaxis\":\"x\",\"y\":[386,405,351,239,247,204],\"yaxis\":\"y\",\"type\":\"scattergl\"},{\"hovertemplate\":\"County=Montgomery County<br>Year=%{x}<br>NonViolent_Offenses=%{y}<extra></extra>\",\"legendgroup\":\"Montgomery County\",\"line\":{\"color\":\"#FECB52\",\"dash\":\"solid\"},\"marker\":{\"symbol\":\"circle\"},\"mode\":\"lines\",\"name\":\"Montgomery County\",\"showlegend\":true,\"x\":[2015,2016,2017,2018,2019,2020],\"xaxis\":\"x\",\"y\":[8635,8008,6858,7725,8051,7280],\"yaxis\":\"y\",\"type\":\"scattergl\"},{\"hovertemplate\":\"County=Moore County<br>Year=%{x}<br>NonViolent_Offenses=%{y}<extra></extra>\",\"legendgroup\":\"Moore County\",\"line\":{\"color\":\"#636efa\",\"dash\":\"solid\"},\"marker\":{\"symbol\":\"circle\"},\"mode\":\"lines\",\"name\":\"Moore County\",\"showlegend\":true,\"x\":[2015,2016,2017,2018,2019,2020],\"xaxis\":\"x\",\"y\":[454,345,362,319,335,359],\"yaxis\":\"y\",\"type\":\"scattergl\"},{\"hovertemplate\":\"County=Morris County<br>Year=%{x}<br>NonViolent_Offenses=%{y}<extra></extra>\",\"legendgroup\":\"Morris County\",\"line\":{\"color\":\"#EF553B\",\"dash\":\"solid\"},\"marker\":{\"symbol\":\"circle\"},\"mode\":\"lines\",\"name\":\"Morris County\",\"showlegend\":true,\"x\":[2015,2016,2017,2018,2019,2020],\"xaxis\":\"x\",\"y\":[247,306,200,136,152,122],\"yaxis\":\"y\",\"type\":\"scattergl\"},{\"hovertemplate\":\"County=Motley County<br>Year=%{x}<br>NonViolent_Offenses=%{y}<extra></extra>\",\"legendgroup\":\"Motley County\",\"line\":{\"color\":\"#00cc96\",\"dash\":\"solid\"},\"marker\":{\"symbol\":\"circle\"},\"mode\":\"lines\",\"name\":\"Motley County\",\"showlegend\":true,\"x\":[2015,2016,2017,2018,2019,2020],\"xaxis\":\"x\",\"y\":[17,14,14,4,3,1],\"yaxis\":\"y\",\"type\":\"scattergl\"},{\"hovertemplate\":\"County=Nacogdoches County<br>Year=%{x}<br>NonViolent_Offenses=%{y}<extra></extra>\",\"legendgroup\":\"Nacogdoches County\",\"line\":{\"color\":\"#ab63fa\",\"dash\":\"solid\"},\"marker\":{\"symbol\":\"circle\"},\"mode\":\"lines\",\"name\":\"Nacogdoches County\",\"showlegend\":true,\"x\":[2015,2016,2017,2018,2019,2020],\"xaxis\":\"x\",\"y\":[1269,1197,1238,1329,1178,1283],\"yaxis\":\"y\",\"type\":\"scattergl\"},{\"hovertemplate\":\"County=Navarro County<br>Year=%{x}<br>NonViolent_Offenses=%{y}<extra></extra>\",\"legendgroup\":\"Navarro County\",\"line\":{\"color\":\"#FFA15A\",\"dash\":\"solid\"},\"marker\":{\"symbol\":\"circle\"},\"mode\":\"lines\",\"name\":\"Navarro County\",\"showlegend\":true,\"x\":[2015,2016,2017,2018,2019,2020],\"xaxis\":\"x\",\"y\":[1374,1076,749,1056,985,976],\"yaxis\":\"y\",\"type\":\"scattergl\"},{\"hovertemplate\":\"County=Newton County<br>Year=%{x}<br>NonViolent_Offenses=%{y}<extra></extra>\",\"legendgroup\":\"Newton County\",\"line\":{\"color\":\"#19d3f3\",\"dash\":\"solid\"},\"marker\":{\"symbol\":\"circle\"},\"mode\":\"lines\",\"name\":\"Newton County\",\"showlegend\":true,\"x\":[2015,2016,2017,2018,2019,2020],\"xaxis\":\"x\",\"y\":[54,26,97,118,136,102],\"yaxis\":\"y\",\"type\":\"scattergl\"},{\"hovertemplate\":\"County=Nolan County<br>Year=%{x}<br>NonViolent_Offenses=%{y}<extra></extra>\",\"legendgroup\":\"Nolan County\",\"line\":{\"color\":\"#FF6692\",\"dash\":\"solid\"},\"marker\":{\"symbol\":\"circle\"},\"mode\":\"lines\",\"name\":\"Nolan County\",\"showlegend\":true,\"x\":[2015,2016,2017,2018,2019,2020],\"xaxis\":\"x\",\"y\":[477,622,413,340,311,169],\"yaxis\":\"y\",\"type\":\"scattergl\"},{\"hovertemplate\":\"County=Nueces County<br>Year=%{x}<br>NonViolent_Offenses=%{y}<extra></extra>\",\"legendgroup\":\"Nueces County\",\"line\":{\"color\":\"#B6E880\",\"dash\":\"solid\"},\"marker\":{\"symbol\":\"circle\"},\"mode\":\"lines\",\"name\":\"Nueces County\",\"showlegend\":true,\"x\":[2015,2016,2017,2018,2019,2020],\"xaxis\":\"x\",\"y\":[12434,13380,12908,13157,12275,11519],\"yaxis\":\"y\",\"type\":\"scattergl\"},{\"hovertemplate\":\"County=Ochiltree County<br>Year=%{x}<br>NonViolent_Offenses=%{y}<extra></extra>\",\"legendgroup\":\"Ochiltree County\",\"line\":{\"color\":\"#FF97FF\",\"dash\":\"solid\"},\"marker\":{\"symbol\":\"circle\"},\"mode\":\"lines\",\"name\":\"Ochiltree County\",\"showlegend\":true,\"x\":[2015,2016,2017,2018,2019,2020],\"xaxis\":\"x\",\"y\":[117,111,142,193,126,109],\"yaxis\":\"y\",\"type\":\"scattergl\"},{\"hovertemplate\":\"County=Oldham County<br>Year=%{x}<br>NonViolent_Offenses=%{y}<extra></extra>\",\"legendgroup\":\"Oldham County\",\"line\":{\"color\":\"#FECB52\",\"dash\":\"solid\"},\"marker\":{\"symbol\":\"circle\"},\"mode\":\"lines\",\"name\":\"Oldham County\",\"showlegend\":true,\"x\":[2015,2016,2017,2018,2019,2020],\"xaxis\":\"x\",\"y\":[21,8,23,6,6,15],\"yaxis\":\"y\",\"type\":\"scattergl\"},{\"hovertemplate\":\"County=Orange County<br>Year=%{x}<br>NonViolent_Offenses=%{y}<extra></extra>\",\"legendgroup\":\"Orange County\",\"line\":{\"color\":\"#636efa\",\"dash\":\"solid\"},\"marker\":{\"symbol\":\"circle\"},\"mode\":\"lines\",\"name\":\"Orange County\",\"showlegend\":true,\"x\":[2015,2016,2017,2018,2019,2020],\"xaxis\":\"x\",\"y\":[1831,1898,1474,1388,1351,1231],\"yaxis\":\"y\",\"type\":\"scattergl\"},{\"hovertemplate\":\"County=Palo Pinto County<br>Year=%{x}<br>NonViolent_Offenses=%{y}<extra></extra>\",\"legendgroup\":\"Palo Pinto County\",\"line\":{\"color\":\"#EF553B\",\"dash\":\"solid\"},\"marker\":{\"symbol\":\"circle\"},\"mode\":\"lines\",\"name\":\"Palo Pinto County\",\"showlegend\":true,\"x\":[2015,2016,2017,2018,2019,2020],\"xaxis\":\"x\",\"y\":[653,744,155,497,537,646],\"yaxis\":\"y\",\"type\":\"scattergl\"},{\"hovertemplate\":\"County=Panola County<br>Year=%{x}<br>NonViolent_Offenses=%{y}<extra></extra>\",\"legendgroup\":\"Panola County\",\"line\":{\"color\":\"#00cc96\",\"dash\":\"solid\"},\"marker\":{\"symbol\":\"circle\"},\"mode\":\"lines\",\"name\":\"Panola County\",\"showlegend\":true,\"x\":[2015,2016,2017,2018,2019,2020],\"xaxis\":\"x\",\"y\":[609,606,532,477,454,432],\"yaxis\":\"y\",\"type\":\"scattergl\"},{\"hovertemplate\":\"County=Parker County<br>Year=%{x}<br>NonViolent_Offenses=%{y}<extra></extra>\",\"legendgroup\":\"Parker County\",\"line\":{\"color\":\"#ab63fa\",\"dash\":\"solid\"},\"marker\":{\"symbol\":\"circle\"},\"mode\":\"lines\",\"name\":\"Parker County\",\"showlegend\":true,\"x\":[2015,2016,2017,2018,2019,2020],\"xaxis\":\"x\",\"y\":[1545,1573,1716,1609,1434,1555],\"yaxis\":\"y\",\"type\":\"scattergl\"},{\"hovertemplate\":\"County=Parmer County<br>Year=%{x}<br>NonViolent_Offenses=%{y}<extra></extra>\",\"legendgroup\":\"Parmer County\",\"line\":{\"color\":\"#FFA15A\",\"dash\":\"solid\"},\"marker\":{\"symbol\":\"circle\"},\"mode\":\"lines\",\"name\":\"Parmer County\",\"showlegend\":true,\"x\":[2015,2016,2017,2018,2019,2020],\"xaxis\":\"x\",\"y\":[89,91,74,51,54,56],\"yaxis\":\"y\",\"type\":\"scattergl\"},{\"hovertemplate\":\"County=Pecos County<br>Year=%{x}<br>NonViolent_Offenses=%{y}<extra></extra>\",\"legendgroup\":\"Pecos County\",\"line\":{\"color\":\"#19d3f3\",\"dash\":\"solid\"},\"marker\":{\"symbol\":\"circle\"},\"mode\":\"lines\",\"name\":\"Pecos County\",\"showlegend\":true,\"x\":[2015,2016,2017,2018,2019,2020],\"xaxis\":\"x\",\"y\":[400,281,229,199,170,210],\"yaxis\":\"y\",\"type\":\"scattergl\"},{\"hovertemplate\":\"County=Polk County<br>Year=%{x}<br>NonViolent_Offenses=%{y}<extra></extra>\",\"legendgroup\":\"Polk County\",\"line\":{\"color\":\"#FF6692\",\"dash\":\"solid\"},\"marker\":{\"symbol\":\"circle\"},\"mode\":\"lines\",\"name\":\"Polk County\",\"showlegend\":true,\"x\":[2015,2016,2017,2018,2019,2020],\"xaxis\":\"x\",\"y\":[801,897,840,831,1060,861],\"yaxis\":\"y\",\"type\":\"scattergl\"},{\"hovertemplate\":\"County=Potter County<br>Year=%{x}<br>NonViolent_Offenses=%{y}<extra></extra>\",\"legendgroup\":\"Potter County\",\"line\":{\"color\":\"#B6E880\",\"dash\":\"solid\"},\"marker\":{\"symbol\":\"circle\"},\"mode\":\"lines\",\"name\":\"Potter County\",\"showlegend\":true,\"x\":[2015,2016,2017,2018,2019,2020],\"xaxis\":\"x\",\"y\":[9538,9815,9055,8687,8084,7616],\"yaxis\":\"y\",\"type\":\"scattergl\"},{\"hovertemplate\":\"County=Presidio County<br>Year=%{x}<br>NonViolent_Offenses=%{y}<extra></extra>\",\"legendgroup\":\"Presidio County\",\"line\":{\"color\":\"#FF97FF\",\"dash\":\"solid\"},\"marker\":{\"symbol\":\"circle\"},\"mode\":\"lines\",\"name\":\"Presidio County\",\"showlegend\":true,\"x\":[2015,2016,2017,2018,2019,2020],\"xaxis\":\"x\",\"y\":[44,44,20,5,8,6],\"yaxis\":\"y\",\"type\":\"scattergl\"},{\"hovertemplate\":\"County=Rains County<br>Year=%{x}<br>NonViolent_Offenses=%{y}<extra></extra>\",\"legendgroup\":\"Rains County\",\"line\":{\"color\":\"#FECB52\",\"dash\":\"solid\"},\"marker\":{\"symbol\":\"circle\"},\"mode\":\"lines\",\"name\":\"Rains County\",\"showlegend\":true,\"x\":[2015,2016,2017,2018,2019,2020],\"xaxis\":\"x\",\"y\":[94,117,94,102,60,56],\"yaxis\":\"y\",\"type\":\"scattergl\"},{\"hovertemplate\":\"County=Randall County<br>Year=%{x}<br>NonViolent_Offenses=%{y}<extra></extra>\",\"legendgroup\":\"Randall County\",\"line\":{\"color\":\"#636efa\",\"dash\":\"solid\"},\"marker\":{\"symbol\":\"circle\"},\"mode\":\"lines\",\"name\":\"Randall County\",\"showlegend\":true,\"x\":[2015,2016,2017,2018,2019,2020],\"xaxis\":\"x\",\"y\":[464,549,429,397,438,439],\"yaxis\":\"y\",\"type\":\"scattergl\"},{\"hovertemplate\":\"County=Reagan County<br>Year=%{x}<br>NonViolent_Offenses=%{y}<extra></extra>\",\"legendgroup\":\"Reagan County\",\"line\":{\"color\":\"#EF553B\",\"dash\":\"solid\"},\"marker\":{\"symbol\":\"circle\"},\"mode\":\"lines\",\"name\":\"Reagan County\",\"showlegend\":true,\"x\":[2015,2016,2017,2018,2019,2020],\"xaxis\":\"x\",\"y\":[109,67,58,59,32,24],\"yaxis\":\"y\",\"type\":\"scattergl\"},{\"hovertemplate\":\"County=Real County<br>Year=%{x}<br>NonViolent_Offenses=%{y}<extra></extra>\",\"legendgroup\":\"Real County\",\"line\":{\"color\":\"#00cc96\",\"dash\":\"solid\"},\"marker\":{\"symbol\":\"circle\"},\"mode\":\"lines\",\"name\":\"Real County\",\"showlegend\":true,\"x\":[2015,2016,2017,2018,2019,2020],\"xaxis\":\"x\",\"y\":[35,39,50,47,59,49],\"yaxis\":\"y\",\"type\":\"scattergl\"},{\"hovertemplate\":\"County=Red River County<br>Year=%{x}<br>NonViolent_Offenses=%{y}<extra></extra>\",\"legendgroup\":\"Red River County\",\"line\":{\"color\":\"#ab63fa\",\"dash\":\"solid\"},\"marker\":{\"symbol\":\"circle\"},\"mode\":\"lines\",\"name\":\"Red River County\",\"showlegend\":true,\"x\":[2015,2016,2017,2018,2019,2020],\"xaxis\":\"x\",\"y\":[193,114,149,82,106,112],\"yaxis\":\"y\",\"type\":\"scattergl\"},{\"hovertemplate\":\"County=Reeves County<br>Year=%{x}<br>NonViolent_Offenses=%{y}<extra></extra>\",\"legendgroup\":\"Reeves County\",\"line\":{\"color\":\"#FFA15A\",\"dash\":\"solid\"},\"marker\":{\"symbol\":\"circle\"},\"mode\":\"lines\",\"name\":\"Reeves County\",\"showlegend\":true,\"x\":[2015,2016,2017,2018,2019,2020],\"xaxis\":\"x\",\"y\":[251,298,253,271,296,243],\"yaxis\":\"y\",\"type\":\"scattergl\"},{\"hovertemplate\":\"County=Refugio County<br>Year=%{x}<br>NonViolent_Offenses=%{y}<extra></extra>\",\"legendgroup\":\"Refugio County\",\"line\":{\"color\":\"#19d3f3\",\"dash\":\"solid\"},\"marker\":{\"symbol\":\"circle\"},\"mode\":\"lines\",\"name\":\"Refugio County\",\"showlegend\":true,\"x\":[2015,2016,2017,2018,2019,2020],\"xaxis\":\"x\",\"y\":[65,66,25,60,77,50],\"yaxis\":\"y\",\"type\":\"scattergl\"},{\"hovertemplate\":\"County=Roberts County<br>Year=%{x}<br>NonViolent_Offenses=%{y}<extra></extra>\",\"legendgroup\":\"Roberts County\",\"line\":{\"color\":\"#FF6692\",\"dash\":\"solid\"},\"marker\":{\"symbol\":\"circle\"},\"mode\":\"lines\",\"name\":\"Roberts County\",\"showlegend\":true,\"x\":[2015,2016,2017,2018,2019,2020],\"xaxis\":\"x\",\"y\":[14,8,6,7,2,1],\"yaxis\":\"y\",\"type\":\"scattergl\"},{\"hovertemplate\":\"County=Robertson County<br>Year=%{x}<br>NonViolent_Offenses=%{y}<extra></extra>\",\"legendgroup\":\"Robertson County\",\"line\":{\"color\":\"#B6E880\",\"dash\":\"solid\"},\"marker\":{\"symbol\":\"circle\"},\"mode\":\"lines\",\"name\":\"Robertson County\",\"showlegend\":true,\"x\":[2015,2016,2017,2018,2019,2020],\"xaxis\":\"x\",\"y\":[246,199,285,241,299,246],\"yaxis\":\"y\",\"type\":\"scattergl\"},{\"hovertemplate\":\"County=Rockwall County<br>Year=%{x}<br>NonViolent_Offenses=%{y}<extra></extra>\",\"legendgroup\":\"Rockwall County\",\"line\":{\"color\":\"#FF97FF\",\"dash\":\"solid\"},\"marker\":{\"symbol\":\"circle\"},\"mode\":\"lines\",\"name\":\"Rockwall County\",\"showlegend\":true,\"x\":[2015,2016,2017,2018,2019,2020],\"xaxis\":\"x\",\"y\":[996,1033,1125,1127,1129,1238],\"yaxis\":\"y\",\"type\":\"scattergl\"},{\"hovertemplate\":\"County=Runnels County<br>Year=%{x}<br>NonViolent_Offenses=%{y}<extra></extra>\",\"legendgroup\":\"Runnels County\",\"line\":{\"color\":\"#FECB52\",\"dash\":\"solid\"},\"marker\":{\"symbol\":\"circle\"},\"mode\":\"lines\",\"name\":\"Runnels County\",\"showlegend\":true,\"x\":[2015,2016,2017,2018,2019,2020],\"xaxis\":\"x\",\"y\":[154,224,96,113,80,136],\"yaxis\":\"y\",\"type\":\"scattergl\"},{\"hovertemplate\":\"County=Rusk County<br>Year=%{x}<br>NonViolent_Offenses=%{y}<extra></extra>\",\"legendgroup\":\"Rusk County\",\"line\":{\"color\":\"#636efa\",\"dash\":\"solid\"},\"marker\":{\"symbol\":\"circle\"},\"mode\":\"lines\",\"name\":\"Rusk County\",\"showlegend\":true,\"x\":[2015,2016,2017,2018,2019,2020],\"xaxis\":\"x\",\"y\":[1170,1222,1000,1105,1012,1111],\"yaxis\":\"y\",\"type\":\"scattergl\"},{\"hovertemplate\":\"County=Sabine County<br>Year=%{x}<br>NonViolent_Offenses=%{y}<extra></extra>\",\"legendgroup\":\"Sabine County\",\"line\":{\"color\":\"#EF553B\",\"dash\":\"solid\"},\"marker\":{\"symbol\":\"circle\"},\"mode\":\"lines\",\"name\":\"Sabine County\",\"showlegend\":true,\"x\":[2015,2016,2017,2018,2019,2020],\"xaxis\":\"x\",\"y\":[145,166,133,143,77,65],\"yaxis\":\"y\",\"type\":\"scattergl\"},{\"hovertemplate\":\"County=San Augustine County<br>Year=%{x}<br>NonViolent_Offenses=%{y}<extra></extra>\",\"legendgroup\":\"San Augustine County\",\"line\":{\"color\":\"#00cc96\",\"dash\":\"solid\"},\"marker\":{\"symbol\":\"circle\"},\"mode\":\"lines\",\"name\":\"San Augustine County\",\"showlegend\":true,\"x\":[2015,2016,2017,2018,2019,2020],\"xaxis\":\"x\",\"y\":[31,91,63,58,57,55],\"yaxis\":\"y\",\"type\":\"scattergl\"},{\"hovertemplate\":\"County=San Jacinto County<br>Year=%{x}<br>NonViolent_Offenses=%{y}<extra></extra>\",\"legendgroup\":\"San Jacinto County\",\"line\":{\"color\":\"#ab63fa\",\"dash\":\"solid\"},\"marker\":{\"symbol\":\"circle\"},\"mode\":\"lines\",\"name\":\"San Jacinto County\",\"showlegend\":true,\"x\":[2015,2016,2017,2018,2019,2020],\"xaxis\":\"x\",\"y\":[466,362,466,360,330,711],\"yaxis\":\"y\",\"type\":\"scattergl\"},{\"hovertemplate\":\"County=San Patricio County<br>Year=%{x}<br>NonViolent_Offenses=%{y}<extra></extra>\",\"legendgroup\":\"San Patricio County\",\"line\":{\"color\":\"#FFA15A\",\"dash\":\"solid\"},\"marker\":{\"symbol\":\"circle\"},\"mode\":\"lines\",\"name\":\"San Patricio County\",\"showlegend\":true,\"x\":[2015,2016,2017,2018,2019,2020],\"xaxis\":\"x\",\"y\":[1344,1315,1387,1195,1013,903],\"yaxis\":\"y\",\"type\":\"scattergl\"},{\"hovertemplate\":\"County=San Saba County<br>Year=%{x}<br>NonViolent_Offenses=%{y}<extra></extra>\",\"legendgroup\":\"San Saba County\",\"line\":{\"color\":\"#19d3f3\",\"dash\":\"solid\"},\"marker\":{\"symbol\":\"circle\"},\"mode\":\"lines\",\"name\":\"San Saba County\",\"showlegend\":true,\"x\":[2015,2016,2017,2018,2019,2020],\"xaxis\":\"x\",\"y\":[36,29,40,83,76,62],\"yaxis\":\"y\",\"type\":\"scattergl\"},{\"hovertemplate\":\"County=Schleicher County<br>Year=%{x}<br>NonViolent_Offenses=%{y}<extra></extra>\",\"legendgroup\":\"Schleicher County\",\"line\":{\"color\":\"#FF6692\",\"dash\":\"solid\"},\"marker\":{\"symbol\":\"circle\"},\"mode\":\"lines\",\"name\":\"Schleicher County\",\"showlegend\":true,\"x\":[2015,2016,2017,2018,2019,2020],\"xaxis\":\"x\",\"y\":[32,54,31,27,13,18],\"yaxis\":\"y\",\"type\":\"scattergl\"},{\"hovertemplate\":\"County=Scurry County<br>Year=%{x}<br>NonViolent_Offenses=%{y}<extra></extra>\",\"legendgroup\":\"Scurry County\",\"line\":{\"color\":\"#B6E880\",\"dash\":\"solid\"},\"marker\":{\"symbol\":\"circle\"},\"mode\":\"lines\",\"name\":\"Scurry County\",\"showlegend\":true,\"x\":[2015,2016,2017,2018,2019,2020],\"xaxis\":\"x\",\"y\":[402,372,253,225,268,206],\"yaxis\":\"y\",\"type\":\"scattergl\"},{\"hovertemplate\":\"County=Shackelford County<br>Year=%{x}<br>NonViolent_Offenses=%{y}<extra></extra>\",\"legendgroup\":\"Shackelford County\",\"line\":{\"color\":\"#FF97FF\",\"dash\":\"solid\"},\"marker\":{\"symbol\":\"circle\"},\"mode\":\"lines\",\"name\":\"Shackelford County\",\"showlegend\":true,\"x\":[2015,2016,2017,2018,2019,2020],\"xaxis\":\"x\",\"y\":[29,32,14,9,3,11],\"yaxis\":\"y\",\"type\":\"scattergl\"},{\"hovertemplate\":\"County=Shelby County<br>Year=%{x}<br>NonViolent_Offenses=%{y}<extra></extra>\",\"legendgroup\":\"Shelby County\",\"line\":{\"color\":\"#FECB52\",\"dash\":\"solid\"},\"marker\":{\"symbol\":\"circle\"},\"mode\":\"lines\",\"name\":\"Shelby County\",\"showlegend\":true,\"x\":[2015,2016,2017,2018,2019,2020],\"xaxis\":\"x\",\"y\":[488,433,385,314,379,364],\"yaxis\":\"y\",\"type\":\"scattergl\"},{\"hovertemplate\":\"County=Sherman County<br>Year=%{x}<br>NonViolent_Offenses=%{y}<extra></extra>\",\"legendgroup\":\"Sherman County\",\"line\":{\"color\":\"#636efa\",\"dash\":\"solid\"},\"marker\":{\"symbol\":\"circle\"},\"mode\":\"lines\",\"name\":\"Sherman County\",\"showlegend\":true,\"x\":[2015,2016,2017,2018,2019,2020],\"xaxis\":\"x\",\"y\":[25,8,6,4,8,6],\"yaxis\":\"y\",\"type\":\"scattergl\"},{\"hovertemplate\":\"County=Smith County<br>Year=%{x}<br>NonViolent_Offenses=%{y}<extra></extra>\",\"legendgroup\":\"Smith County\",\"line\":{\"color\":\"#EF553B\",\"dash\":\"solid\"},\"marker\":{\"symbol\":\"circle\"},\"mode\":\"lines\",\"name\":\"Smith County\",\"showlegend\":true,\"x\":[2015,2016,2017,2018,2019,2020],\"xaxis\":\"x\",\"y\":[6452,6500,5635,4916,5010,5083],\"yaxis\":\"y\",\"type\":\"scattergl\"},{\"hovertemplate\":\"County=Somervell County<br>Year=%{x}<br>NonViolent_Offenses=%{y}<extra></extra>\",\"legendgroup\":\"Somervell County\",\"line\":{\"color\":\"#00cc96\",\"dash\":\"solid\"},\"marker\":{\"symbol\":\"circle\"},\"mode\":\"lines\",\"name\":\"Somervell County\",\"showlegend\":true,\"x\":[2015,2016,2017,2018,2019,2020],\"xaxis\":\"x\",\"y\":[76,70,74,35,30,70],\"yaxis\":\"y\",\"type\":\"scattergl\"},{\"hovertemplate\":\"County=Starr County<br>Year=%{x}<br>NonViolent_Offenses=%{y}<extra></extra>\",\"legendgroup\":\"Starr County\",\"line\":{\"color\":\"#ab63fa\",\"dash\":\"solid\"},\"marker\":{\"symbol\":\"circle\"},\"mode\":\"lines\",\"name\":\"Starr County\",\"showlegend\":true,\"x\":[2015,2016,2017,2018,2019,2020],\"xaxis\":\"x\",\"y\":[796,737,669,487,638,682],\"yaxis\":\"y\",\"type\":\"scattergl\"},{\"hovertemplate\":\"County=Stephens County<br>Year=%{x}<br>NonViolent_Offenses=%{y}<extra></extra>\",\"legendgroup\":\"Stephens County\",\"line\":{\"color\":\"#FFA15A\",\"dash\":\"solid\"},\"marker\":{\"symbol\":\"circle\"},\"mode\":\"lines\",\"name\":\"Stephens County\",\"showlegend\":true,\"x\":[2015,2016,2017,2018,2019,2020],\"xaxis\":\"x\",\"y\":[143,161,127,179,125,159],\"yaxis\":\"y\",\"type\":\"scattergl\"},{\"hovertemplate\":\"County=Sterling County<br>Year=%{x}<br>NonViolent_Offenses=%{y}<extra></extra>\",\"legendgroup\":\"Sterling County\",\"line\":{\"color\":\"#19d3f3\",\"dash\":\"solid\"},\"marker\":{\"symbol\":\"circle\"},\"mode\":\"lines\",\"name\":\"Sterling County\",\"showlegend\":true,\"x\":[2015,2016,2017,2018,2019,2020],\"xaxis\":\"x\",\"y\":[1,1,0,4,13,16],\"yaxis\":\"y\",\"type\":\"scattergl\"},{\"hovertemplate\":\"County=Stonewall County<br>Year=%{x}<br>NonViolent_Offenses=%{y}<extra></extra>\",\"legendgroup\":\"Stonewall County\",\"line\":{\"color\":\"#FF6692\",\"dash\":\"solid\"},\"marker\":{\"symbol\":\"circle\"},\"mode\":\"lines\",\"name\":\"Stonewall County\",\"showlegend\":true,\"x\":[2015,2016,2017,2018,2019,2020],\"xaxis\":\"x\",\"y\":[4,5,8,3,0,0],\"yaxis\":\"y\",\"type\":\"scattergl\"},{\"hovertemplate\":\"County=Sutton County<br>Year=%{x}<br>NonViolent_Offenses=%{y}<extra></extra>\",\"legendgroup\":\"Sutton County\",\"line\":{\"color\":\"#B6E880\",\"dash\":\"solid\"},\"marker\":{\"symbol\":\"circle\"},\"mode\":\"lines\",\"name\":\"Sutton County\",\"showlegend\":true,\"x\":[2015,2016,2017,2018,2019,2020],\"xaxis\":\"x\",\"y\":[31,44,41,27,15,20],\"yaxis\":\"y\",\"type\":\"scattergl\"},{\"hovertemplate\":\"County=Swisher County<br>Year=%{x}<br>NonViolent_Offenses=%{y}<extra></extra>\",\"legendgroup\":\"Swisher County\",\"line\":{\"color\":\"#FF97FF\",\"dash\":\"solid\"},\"marker\":{\"symbol\":\"circle\"},\"mode\":\"lines\",\"name\":\"Swisher County\",\"showlegend\":true,\"x\":[2015,2016,2017,2018,2019,2020],\"xaxis\":\"x\",\"y\":[104,119,122,142,163,133],\"yaxis\":\"y\",\"type\":\"scattergl\"},{\"hovertemplate\":\"County=Tarrant County<br>Year=%{x}<br>NonViolent_Offenses=%{y}<extra></extra>\",\"legendgroup\":\"Tarrant County\",\"line\":{\"color\":\"#FECB52\",\"dash\":\"solid\"},\"marker\":{\"symbol\":\"circle\"},\"mode\":\"lines\",\"name\":\"Tarrant County\",\"showlegend\":true,\"x\":[2015,2016,2017,2018,2019,2020],\"xaxis\":\"x\",\"y\":[59823,56044,56618,52308,50725,50309],\"yaxis\":\"y\",\"type\":\"scattergl\"},{\"hovertemplate\":\"County=Taylor County<br>Year=%{x}<br>NonViolent_Offenses=%{y}<extra></extra>\",\"legendgroup\":\"Taylor County\",\"line\":{\"color\":\"#636efa\",\"dash\":\"solid\"},\"marker\":{\"symbol\":\"circle\"},\"mode\":\"lines\",\"name\":\"Taylor County\",\"showlegend\":true,\"x\":[2015,2016,2017,2018,2019,2020],\"xaxis\":\"x\",\"y\":[5716,4584,4086,3770,3333,2860],\"yaxis\":\"y\",\"type\":\"scattergl\"},{\"hovertemplate\":\"County=Terrell County<br>Year=%{x}<br>NonViolent_Offenses=%{y}<extra></extra>\",\"legendgroup\":\"Terrell County\",\"line\":{\"color\":\"#EF553B\",\"dash\":\"solid\"},\"marker\":{\"symbol\":\"circle\"},\"mode\":\"lines\",\"name\":\"Terrell County\",\"showlegend\":true,\"x\":[2015,2016,2017,2018],\"xaxis\":\"x\",\"y\":[10,12,11,0],\"yaxis\":\"y\",\"type\":\"scattergl\"},{\"hovertemplate\":\"County=Terry County<br>Year=%{x}<br>NonViolent_Offenses=%{y}<extra></extra>\",\"legendgroup\":\"Terry County\",\"line\":{\"color\":\"#00cc96\",\"dash\":\"solid\"},\"marker\":{\"symbol\":\"circle\"},\"mode\":\"lines\",\"name\":\"Terry County\",\"showlegend\":true,\"x\":[2015,2016,2017,2018,2019,2020],\"xaxis\":\"x\",\"y\":[281,230,172,180,151,212],\"yaxis\":\"y\",\"type\":\"scattergl\"},{\"hovertemplate\":\"County=Throckmorton County<br>Year=%{x}<br>NonViolent_Offenses=%{y}<extra></extra>\",\"legendgroup\":\"Throckmorton County\",\"line\":{\"color\":\"#ab63fa\",\"dash\":\"solid\"},\"marker\":{\"symbol\":\"circle\"},\"mode\":\"lines\",\"name\":\"Throckmorton County\",\"showlegend\":true,\"x\":[2015,2016,2017,2018,2019,2020],\"xaxis\":\"x\",\"y\":[6,0,6,5,8,6],\"yaxis\":\"y\",\"type\":\"scattergl\"},{\"hovertemplate\":\"County=Titus County<br>Year=%{x}<br>NonViolent_Offenses=%{y}<extra></extra>\",\"legendgroup\":\"Titus County\",\"line\":{\"color\":\"#FFA15A\",\"dash\":\"solid\"},\"marker\":{\"symbol\":\"circle\"},\"mode\":\"lines\",\"name\":\"Titus County\",\"showlegend\":true,\"x\":[2015,2016,2017,2018,2019,2020],\"xaxis\":\"x\",\"y\":[775,764,763,731,628,531],\"yaxis\":\"y\",\"type\":\"scattergl\"},{\"hovertemplate\":\"County=Tom Green County<br>Year=%{x}<br>NonViolent_Offenses=%{y}<extra></extra>\",\"legendgroup\":\"Tom Green County\",\"line\":{\"color\":\"#19d3f3\",\"dash\":\"solid\"},\"marker\":{\"symbol\":\"circle\"},\"mode\":\"lines\",\"name\":\"Tom Green County\",\"showlegend\":true,\"x\":[2015,2016,2017,2018,2019,2020],\"xaxis\":\"x\",\"y\":[4120,5505,4893,3759,3500,3244],\"yaxis\":\"y\",\"type\":\"scattergl\"},{\"hovertemplate\":\"County=Travis County<br>Year=%{x}<br>NonViolent_Offenses=%{y}<extra></extra>\",\"legendgroup\":\"Travis County\",\"line\":{\"color\":\"#FF6692\",\"dash\":\"solid\"},\"marker\":{\"symbol\":\"circle\"},\"mode\":\"lines\",\"name\":\"Travis County\",\"showlegend\":true,\"x\":[2015,2016,2017,2018,2019,2020],\"xaxis\":\"x\",\"y\":[41322,39598,37146,39197,42735,42230],\"yaxis\":\"y\",\"type\":\"scattergl\"},{\"hovertemplate\":\"County=Trinity County<br>Year=%{x}<br>NonViolent_Offenses=%{y}<extra></extra>\",\"legendgroup\":\"Trinity County\",\"line\":{\"color\":\"#B6E880\",\"dash\":\"solid\"},\"marker\":{\"symbol\":\"circle\"},\"mode\":\"lines\",\"name\":\"Trinity County\",\"showlegend\":true,\"x\":[2015,2016,2017,2018,2019,2020],\"xaxis\":\"x\",\"y\":[75,170,184,167,73,64],\"yaxis\":\"y\",\"type\":\"scattergl\"},{\"hovertemplate\":\"County=Tyler County<br>Year=%{x}<br>NonViolent_Offenses=%{y}<extra></extra>\",\"legendgroup\":\"Tyler County\",\"line\":{\"color\":\"#FF97FF\",\"dash\":\"solid\"},\"marker\":{\"symbol\":\"circle\"},\"mode\":\"lines\",\"name\":\"Tyler County\",\"showlegend\":true,\"x\":[2015,2016,2017,2018,2019,2020],\"xaxis\":\"x\",\"y\":[243,249,326,264,257,185],\"yaxis\":\"y\",\"type\":\"scattergl\"},{\"hovertemplate\":\"County=Upshur County<br>Year=%{x}<br>NonViolent_Offenses=%{y}<extra></extra>\",\"legendgroup\":\"Upshur County\",\"line\":{\"color\":\"#FECB52\",\"dash\":\"solid\"},\"marker\":{\"symbol\":\"circle\"},\"mode\":\"lines\",\"name\":\"Upshur County\",\"showlegend\":true,\"x\":[2015,2016,2017,2018,2019,2020],\"xaxis\":\"x\",\"y\":[678,558,472,371,343,485],\"yaxis\":\"y\",\"type\":\"scattergl\"},{\"hovertemplate\":\"County=Upton County<br>Year=%{x}<br>NonViolent_Offenses=%{y}<extra></extra>\",\"legendgroup\":\"Upton County\",\"line\":{\"color\":\"#636efa\",\"dash\":\"solid\"},\"marker\":{\"symbol\":\"circle\"},\"mode\":\"lines\",\"name\":\"Upton County\",\"showlegend\":true,\"x\":[2015,2016,2017,2018,2019,2020],\"xaxis\":\"x\",\"y\":[9,15,20,18,31,16],\"yaxis\":\"y\",\"type\":\"scattergl\"},{\"hovertemplate\":\"County=Uvalde County<br>Year=%{x}<br>NonViolent_Offenses=%{y}<extra></extra>\",\"legendgroup\":\"Uvalde County\",\"line\":{\"color\":\"#EF553B\",\"dash\":\"solid\"},\"marker\":{\"symbol\":\"circle\"},\"mode\":\"lines\",\"name\":\"Uvalde County\",\"showlegend\":true,\"x\":[2015,2016,2017,2018,2019,2020],\"xaxis\":\"x\",\"y\":[925,780,718,713,717,699],\"yaxis\":\"y\",\"type\":\"scattergl\"},{\"hovertemplate\":\"County=Val Verde County<br>Year=%{x}<br>NonViolent_Offenses=%{y}<extra></extra>\",\"legendgroup\":\"Val Verde County\",\"line\":{\"color\":\"#00cc96\",\"dash\":\"solid\"},\"marker\":{\"symbol\":\"circle\"},\"mode\":\"lines\",\"name\":\"Val Verde County\",\"showlegend\":true,\"x\":[2015,2016,2017,2018,2019,2020],\"xaxis\":\"x\",\"y\":[1108,1032,796,844,697,670],\"yaxis\":\"y\",\"type\":\"scattergl\"},{\"hovertemplate\":\"County=Van Zandt County<br>Year=%{x}<br>NonViolent_Offenses=%{y}<extra></extra>\",\"legendgroup\":\"Van Zandt County\",\"line\":{\"color\":\"#ab63fa\",\"dash\":\"solid\"},\"marker\":{\"symbol\":\"circle\"},\"mode\":\"lines\",\"name\":\"Van Zandt County\",\"showlegend\":true,\"x\":[2015,2016,2017,2018,2019,2020],\"xaxis\":\"x\",\"y\":[653,567,521,351,461,318],\"yaxis\":\"y\",\"type\":\"scattergl\"},{\"hovertemplate\":\"County=Victoria County<br>Year=%{x}<br>NonViolent_Offenses=%{y}<extra></extra>\",\"legendgroup\":\"Victoria County\",\"line\":{\"color\":\"#FFA15A\",\"dash\":\"solid\"},\"marker\":{\"symbol\":\"circle\"},\"mode\":\"lines\",\"name\":\"Victoria County\",\"showlegend\":true,\"x\":[2015,2016,2017,2018,2019,2020],\"xaxis\":\"x\",\"y\":[2745,2819,3022,2415,2391,2131],\"yaxis\":\"y\",\"type\":\"scattergl\"},{\"hovertemplate\":\"County=Walker County<br>Year=%{x}<br>NonViolent_Offenses=%{y}<extra></extra>\",\"legendgroup\":\"Walker County\",\"line\":{\"color\":\"#19d3f3\",\"dash\":\"solid\"},\"marker\":{\"symbol\":\"circle\"},\"mode\":\"lines\",\"name\":\"Walker County\",\"showlegend\":true,\"x\":[2015,2016,2017,2018,2019,2020],\"xaxis\":\"x\",\"y\":[1177,1026,886,883,910,860],\"yaxis\":\"y\",\"type\":\"scattergl\"},{\"hovertemplate\":\"County=Waller County<br>Year=%{x}<br>NonViolent_Offenses=%{y}<extra></extra>\",\"legendgroup\":\"Waller County\",\"line\":{\"color\":\"#FF6692\",\"dash\":\"solid\"},\"marker\":{\"symbol\":\"circle\"},\"mode\":\"lines\",\"name\":\"Waller County\",\"showlegend\":true,\"x\":[2015,2016,2017,2018,2019,2020],\"xaxis\":\"x\",\"y\":[727,701,667,782,695,648],\"yaxis\":\"y\",\"type\":\"scattergl\"},{\"hovertemplate\":\"County=Ward County<br>Year=%{x}<br>NonViolent_Offenses=%{y}<extra></extra>\",\"legendgroup\":\"Ward County\",\"line\":{\"color\":\"#B6E880\",\"dash\":\"solid\"},\"marker\":{\"symbol\":\"circle\"},\"mode\":\"lines\",\"name\":\"Ward County\",\"showlegend\":true,\"x\":[2015,2016,2017,2018,2019,2020],\"xaxis\":\"x\",\"y\":[441,284,196,254,354,286],\"yaxis\":\"y\",\"type\":\"scattergl\"},{\"hovertemplate\":\"County=Washington County<br>Year=%{x}<br>NonViolent_Offenses=%{y}<extra></extra>\",\"legendgroup\":\"Washington County\",\"line\":{\"color\":\"#FF97FF\",\"dash\":\"solid\"},\"marker\":{\"symbol\":\"circle\"},\"mode\":\"lines\",\"name\":\"Washington County\",\"showlegend\":true,\"x\":[2015,2016,2017,2018,2019,2020],\"xaxis\":\"x\",\"y\":[534,521,439,457,501,409],\"yaxis\":\"y\",\"type\":\"scattergl\"},{\"hovertemplate\":\"County=Webb County<br>Year=%{x}<br>NonViolent_Offenses=%{y}<extra></extra>\",\"legendgroup\":\"Webb County\",\"line\":{\"color\":\"#FECB52\",\"dash\":\"solid\"},\"marker\":{\"symbol\":\"circle\"},\"mode\":\"lines\",\"name\":\"Webb County\",\"showlegend\":true,\"x\":[2015,2016,2017,2018,2019,2020],\"xaxis\":\"x\",\"y\":[8917,8188,6715,6661,4974,4108],\"yaxis\":\"y\",\"type\":\"scattergl\"},{\"hovertemplate\":\"County=Wharton County<br>Year=%{x}<br>NonViolent_Offenses=%{y}<extra></extra>\",\"legendgroup\":\"Wharton County\",\"line\":{\"color\":\"#636efa\",\"dash\":\"solid\"},\"marker\":{\"symbol\":\"circle\"},\"mode\":\"lines\",\"name\":\"Wharton County\",\"showlegend\":true,\"x\":[2015,2016,2017,2018,2019,2020],\"xaxis\":\"x\",\"y\":[1082,1095,918,729,797,804],\"yaxis\":\"y\",\"type\":\"scattergl\"},{\"hovertemplate\":\"County=Wheeler County<br>Year=%{x}<br>NonViolent_Offenses=%{y}<extra></extra>\",\"legendgroup\":\"Wheeler County\",\"line\":{\"color\":\"#EF553B\",\"dash\":\"solid\"},\"marker\":{\"symbol\":\"circle\"},\"mode\":\"lines\",\"name\":\"Wheeler County\",\"showlegend\":true,\"x\":[2015,2016,2017,2018,2019,2020],\"xaxis\":\"x\",\"y\":[78,72,38,41,11,12],\"yaxis\":\"y\",\"type\":\"scattergl\"},{\"hovertemplate\":\"County=Wichita County<br>Year=%{x}<br>NonViolent_Offenses=%{y}<extra></extra>\",\"legendgroup\":\"Wichita County\",\"line\":{\"color\":\"#00cc96\",\"dash\":\"solid\"},\"marker\":{\"symbol\":\"circle\"},\"mode\":\"lines\",\"name\":\"Wichita County\",\"showlegend\":true,\"x\":[2015,2016,2017,2018,2019,2020],\"xaxis\":\"x\",\"y\":[4588,4352,3856,3760,3642,3624],\"yaxis\":\"y\",\"type\":\"scattergl\"},{\"hovertemplate\":\"County=Wilbarger County<br>Year=%{x}<br>NonViolent_Offenses=%{y}<extra></extra>\",\"legendgroup\":\"Wilbarger County\",\"line\":{\"color\":\"#ab63fa\",\"dash\":\"solid\"},\"marker\":{\"symbol\":\"circle\"},\"mode\":\"lines\",\"name\":\"Wilbarger County\",\"showlegend\":true,\"x\":[2015,2016,2017,2018,2019,2020],\"xaxis\":\"x\",\"y\":[307,368,351,287,206,166],\"yaxis\":\"y\",\"type\":\"scattergl\"},{\"hovertemplate\":\"County=Willacy County<br>Year=%{x}<br>NonViolent_Offenses=%{y}<extra></extra>\",\"legendgroup\":\"Willacy County\",\"line\":{\"color\":\"#FFA15A\",\"dash\":\"solid\"},\"marker\":{\"symbol\":\"circle\"},\"mode\":\"lines\",\"name\":\"Willacy County\",\"showlegend\":true,\"x\":[2015,2016,2017,2018,2019,2020],\"xaxis\":\"x\",\"y\":[723,606,627,570,400,256],\"yaxis\":\"y\",\"type\":\"scattergl\"},{\"hovertemplate\":\"County=Williamson County<br>Year=%{x}<br>NonViolent_Offenses=%{y}<extra></extra>\",\"legendgroup\":\"Williamson County\",\"line\":{\"color\":\"#19d3f3\",\"dash\":\"solid\"},\"marker\":{\"symbol\":\"circle\"},\"mode\":\"lines\",\"name\":\"Williamson County\",\"showlegend\":true,\"x\":[2015,2016,2017,2018,2019,2020],\"xaxis\":\"x\",\"y\":[6312,6826,7141,6704,6118,7630],\"yaxis\":\"y\",\"type\":\"scattergl\"},{\"hovertemplate\":\"County=Wilson County<br>Year=%{x}<br>NonViolent_Offenses=%{y}<extra></extra>\",\"legendgroup\":\"Wilson County\",\"line\":{\"color\":\"#FF6692\",\"dash\":\"solid\"},\"marker\":{\"symbol\":\"circle\"},\"mode\":\"lines\",\"name\":\"Wilson County\",\"showlegend\":true,\"x\":[2015,2016,2017,2018,2019,2020],\"xaxis\":\"x\",\"y\":[589,516,464,294,409,298],\"yaxis\":\"y\",\"type\":\"scattergl\"},{\"hovertemplate\":\"County=Winkler County<br>Year=%{x}<br>NonViolent_Offenses=%{y}<extra></extra>\",\"legendgroup\":\"Winkler County\",\"line\":{\"color\":\"#B6E880\",\"dash\":\"solid\"},\"marker\":{\"symbol\":\"circle\"},\"mode\":\"lines\",\"name\":\"Winkler County\",\"showlegend\":true,\"x\":[2015,2016,2017,2018,2019,2020],\"xaxis\":\"x\",\"y\":[50,83,57,117,228,206],\"yaxis\":\"y\",\"type\":\"scattergl\"},{\"hovertemplate\":\"County=Wise County<br>Year=%{x}<br>NonViolent_Offenses=%{y}<extra></extra>\",\"legendgroup\":\"Wise County\",\"line\":{\"color\":\"#FF97FF\",\"dash\":\"solid\"},\"marker\":{\"symbol\":\"circle\"},\"mode\":\"lines\",\"name\":\"Wise County\",\"showlegend\":true,\"x\":[2015,2016,2017,2018,2019,2020],\"xaxis\":\"x\",\"y\":[703,660,633,550,668,660],\"yaxis\":\"y\",\"type\":\"scattergl\"},{\"hovertemplate\":\"County=Wood County<br>Year=%{x}<br>NonViolent_Offenses=%{y}<extra></extra>\",\"legendgroup\":\"Wood County\",\"line\":{\"color\":\"#FECB52\",\"dash\":\"solid\"},\"marker\":{\"symbol\":\"circle\"},\"mode\":\"lines\",\"name\":\"Wood County\",\"showlegend\":true,\"x\":[2015,2016,2017,2018,2019,2020],\"xaxis\":\"x\",\"y\":[644,521,492,367,408,419],\"yaxis\":\"y\",\"type\":\"scattergl\"},{\"hovertemplate\":\"County=Yoakum County<br>Year=%{x}<br>NonViolent_Offenses=%{y}<extra></extra>\",\"legendgroup\":\"Yoakum County\",\"line\":{\"color\":\"#636efa\",\"dash\":\"solid\"},\"marker\":{\"symbol\":\"circle\"},\"mode\":\"lines\",\"name\":\"Yoakum County\",\"showlegend\":true,\"x\":[2015,2016,2017,2018,2019,2020],\"xaxis\":\"x\",\"y\":[119,108,72,65,81,62],\"yaxis\":\"y\",\"type\":\"scattergl\"},{\"hovertemplate\":\"County=Young County<br>Year=%{x}<br>NonViolent_Offenses=%{y}<extra></extra>\",\"legendgroup\":\"Young County\",\"line\":{\"color\":\"#EF553B\",\"dash\":\"solid\"},\"marker\":{\"symbol\":\"circle\"},\"mode\":\"lines\",\"name\":\"Young County\",\"showlegend\":true,\"x\":[2015,2016,2017,2018,2019,2020],\"xaxis\":\"x\",\"y\":[312,233,182,161,152,161],\"yaxis\":\"y\",\"type\":\"scattergl\"},{\"hovertemplate\":\"County=Zapata County<br>Year=%{x}<br>NonViolent_Offenses=%{y}<extra></extra>\",\"legendgroup\":\"Zapata County\",\"line\":{\"color\":\"#00cc96\",\"dash\":\"solid\"},\"marker\":{\"symbol\":\"circle\"},\"mode\":\"lines\",\"name\":\"Zapata County\",\"showlegend\":true,\"x\":[2015,2019,2020],\"xaxis\":\"x\",\"y\":[193,183,108],\"yaxis\":\"y\",\"type\":\"scattergl\"},{\"hovertemplate\":\"County=Zavala County<br>Year=%{x}<br>NonViolent_Offenses=%{y}<extra></extra>\",\"legendgroup\":\"Zavala County\",\"line\":{\"color\":\"#ab63fa\",\"dash\":\"solid\"},\"marker\":{\"symbol\":\"circle\"},\"mode\":\"lines\",\"name\":\"Zavala County\",\"showlegend\":true,\"x\":[2015,2016,2017,2018,2019,2020],\"xaxis\":\"x\",\"y\":[288,164,384,299,73,72],\"yaxis\":\"y\",\"type\":\"scattergl\"}],                        {\"template\":{\"data\":{\"bar\":[{\"error_x\":{\"color\":\"#2a3f5f\"},\"error_y\":{\"color\":\"#2a3f5f\"},\"marker\":{\"line\":{\"color\":\"#E5ECF6\",\"width\":0.5},\"pattern\":{\"fillmode\":\"overlay\",\"size\":10,\"solidity\":0.2}},\"type\":\"bar\"}],\"barpolar\":[{\"marker\":{\"line\":{\"color\":\"#E5ECF6\",\"width\":0.5},\"pattern\":{\"fillmode\":\"overlay\",\"size\":10,\"solidity\":0.2}},\"type\":\"barpolar\"}],\"carpet\":[{\"aaxis\":{\"endlinecolor\":\"#2a3f5f\",\"gridcolor\":\"white\",\"linecolor\":\"white\",\"minorgridcolor\":\"white\",\"startlinecolor\":\"#2a3f5f\"},\"baxis\":{\"endlinecolor\":\"#2a3f5f\",\"gridcolor\":\"white\",\"linecolor\":\"white\",\"minorgridcolor\":\"white\",\"startlinecolor\":\"#2a3f5f\"},\"type\":\"carpet\"}],\"choropleth\":[{\"colorbar\":{\"outlinewidth\":0,\"ticks\":\"\"},\"type\":\"choropleth\"}],\"contour\":[{\"colorbar\":{\"outlinewidth\":0,\"ticks\":\"\"},\"colorscale\":[[0.0,\"#0d0887\"],[0.1111111111111111,\"#46039f\"],[0.2222222222222222,\"#7201a8\"],[0.3333333333333333,\"#9c179e\"],[0.4444444444444444,\"#bd3786\"],[0.5555555555555556,\"#d8576b\"],[0.6666666666666666,\"#ed7953\"],[0.7777777777777778,\"#fb9f3a\"],[0.8888888888888888,\"#fdca26\"],[1.0,\"#f0f921\"]],\"type\":\"contour\"}],\"contourcarpet\":[{\"colorbar\":{\"outlinewidth\":0,\"ticks\":\"\"},\"type\":\"contourcarpet\"}],\"heatmap\":[{\"colorbar\":{\"outlinewidth\":0,\"ticks\":\"\"},\"colorscale\":[[0.0,\"#0d0887\"],[0.1111111111111111,\"#46039f\"],[0.2222222222222222,\"#7201a8\"],[0.3333333333333333,\"#9c179e\"],[0.4444444444444444,\"#bd3786\"],[0.5555555555555556,\"#d8576b\"],[0.6666666666666666,\"#ed7953\"],[0.7777777777777778,\"#fb9f3a\"],[0.8888888888888888,\"#fdca26\"],[1.0,\"#f0f921\"]],\"type\":\"heatmap\"}],\"heatmapgl\":[{\"colorbar\":{\"outlinewidth\":0,\"ticks\":\"\"},\"colorscale\":[[0.0,\"#0d0887\"],[0.1111111111111111,\"#46039f\"],[0.2222222222222222,\"#7201a8\"],[0.3333333333333333,\"#9c179e\"],[0.4444444444444444,\"#bd3786\"],[0.5555555555555556,\"#d8576b\"],[0.6666666666666666,\"#ed7953\"],[0.7777777777777778,\"#fb9f3a\"],[0.8888888888888888,\"#fdca26\"],[1.0,\"#f0f921\"]],\"type\":\"heatmapgl\"}],\"histogram\":[{\"marker\":{\"pattern\":{\"fillmode\":\"overlay\",\"size\":10,\"solidity\":0.2}},\"type\":\"histogram\"}],\"histogram2d\":[{\"colorbar\":{\"outlinewidth\":0,\"ticks\":\"\"},\"colorscale\":[[0.0,\"#0d0887\"],[0.1111111111111111,\"#46039f\"],[0.2222222222222222,\"#7201a8\"],[0.3333333333333333,\"#9c179e\"],[0.4444444444444444,\"#bd3786\"],[0.5555555555555556,\"#d8576b\"],[0.6666666666666666,\"#ed7953\"],[0.7777777777777778,\"#fb9f3a\"],[0.8888888888888888,\"#fdca26\"],[1.0,\"#f0f921\"]],\"type\":\"histogram2d\"}],\"histogram2dcontour\":[{\"colorbar\":{\"outlinewidth\":0,\"ticks\":\"\"},\"colorscale\":[[0.0,\"#0d0887\"],[0.1111111111111111,\"#46039f\"],[0.2222222222222222,\"#7201a8\"],[0.3333333333333333,\"#9c179e\"],[0.4444444444444444,\"#bd3786\"],[0.5555555555555556,\"#d8576b\"],[0.6666666666666666,\"#ed7953\"],[0.7777777777777778,\"#fb9f3a\"],[0.8888888888888888,\"#fdca26\"],[1.0,\"#f0f921\"]],\"type\":\"histogram2dcontour\"}],\"mesh3d\":[{\"colorbar\":{\"outlinewidth\":0,\"ticks\":\"\"},\"type\":\"mesh3d\"}],\"parcoords\":[{\"line\":{\"colorbar\":{\"outlinewidth\":0,\"ticks\":\"\"}},\"type\":\"parcoords\"}],\"pie\":[{\"automargin\":true,\"type\":\"pie\"}],\"scatter\":[{\"marker\":{\"colorbar\":{\"outlinewidth\":0,\"ticks\":\"\"}},\"type\":\"scatter\"}],\"scatter3d\":[{\"line\":{\"colorbar\":{\"outlinewidth\":0,\"ticks\":\"\"}},\"marker\":{\"colorbar\":{\"outlinewidth\":0,\"ticks\":\"\"}},\"type\":\"scatter3d\"}],\"scattercarpet\":[{\"marker\":{\"colorbar\":{\"outlinewidth\":0,\"ticks\":\"\"}},\"type\":\"scattercarpet\"}],\"scattergeo\":[{\"marker\":{\"colorbar\":{\"outlinewidth\":0,\"ticks\":\"\"}},\"type\":\"scattergeo\"}],\"scattergl\":[{\"marker\":{\"colorbar\":{\"outlinewidth\":0,\"ticks\":\"\"}},\"type\":\"scattergl\"}],\"scattermapbox\":[{\"marker\":{\"colorbar\":{\"outlinewidth\":0,\"ticks\":\"\"}},\"type\":\"scattermapbox\"}],\"scatterpolar\":[{\"marker\":{\"colorbar\":{\"outlinewidth\":0,\"ticks\":\"\"}},\"type\":\"scatterpolar\"}],\"scatterpolargl\":[{\"marker\":{\"colorbar\":{\"outlinewidth\":0,\"ticks\":\"\"}},\"type\":\"scatterpolargl\"}],\"scatterternary\":[{\"marker\":{\"colorbar\":{\"outlinewidth\":0,\"ticks\":\"\"}},\"type\":\"scatterternary\"}],\"surface\":[{\"colorbar\":{\"outlinewidth\":0,\"ticks\":\"\"},\"colorscale\":[[0.0,\"#0d0887\"],[0.1111111111111111,\"#46039f\"],[0.2222222222222222,\"#7201a8\"],[0.3333333333333333,\"#9c179e\"],[0.4444444444444444,\"#bd3786\"],[0.5555555555555556,\"#d8576b\"],[0.6666666666666666,\"#ed7953\"],[0.7777777777777778,\"#fb9f3a\"],[0.8888888888888888,\"#fdca26\"],[1.0,\"#f0f921\"]],\"type\":\"surface\"}],\"table\":[{\"cells\":{\"fill\":{\"color\":\"#EBF0F8\"},\"line\":{\"color\":\"white\"}},\"header\":{\"fill\":{\"color\":\"#C8D4E3\"},\"line\":{\"color\":\"white\"}},\"type\":\"table\"}]},\"layout\":{\"annotationdefaults\":{\"arrowcolor\":\"#2a3f5f\",\"arrowhead\":0,\"arrowwidth\":1},\"autotypenumbers\":\"strict\",\"coloraxis\":{\"colorbar\":{\"outlinewidth\":0,\"ticks\":\"\"}},\"colorscale\":{\"diverging\":[[0,\"#8e0152\"],[0.1,\"#c51b7d\"],[0.2,\"#de77ae\"],[0.3,\"#f1b6da\"],[0.4,\"#fde0ef\"],[0.5,\"#f7f7f7\"],[0.6,\"#e6f5d0\"],[0.7,\"#b8e186\"],[0.8,\"#7fbc41\"],[0.9,\"#4d9221\"],[1,\"#276419\"]],\"sequential\":[[0.0,\"#0d0887\"],[0.1111111111111111,\"#46039f\"],[0.2222222222222222,\"#7201a8\"],[0.3333333333333333,\"#9c179e\"],[0.4444444444444444,\"#bd3786\"],[0.5555555555555556,\"#d8576b\"],[0.6666666666666666,\"#ed7953\"],[0.7777777777777778,\"#fb9f3a\"],[0.8888888888888888,\"#fdca26\"],[1.0,\"#f0f921\"]],\"sequentialminus\":[[0.0,\"#0d0887\"],[0.1111111111111111,\"#46039f\"],[0.2222222222222222,\"#7201a8\"],[0.3333333333333333,\"#9c179e\"],[0.4444444444444444,\"#bd3786\"],[0.5555555555555556,\"#d8576b\"],[0.6666666666666666,\"#ed7953\"],[0.7777777777777778,\"#fb9f3a\"],[0.8888888888888888,\"#fdca26\"],[1.0,\"#f0f921\"]]},\"colorway\":[\"#636efa\",\"#EF553B\",\"#00cc96\",\"#ab63fa\",\"#FFA15A\",\"#19d3f3\",\"#FF6692\",\"#B6E880\",\"#FF97FF\",\"#FECB52\"],\"font\":{\"color\":\"#2a3f5f\"},\"geo\":{\"bgcolor\":\"white\",\"lakecolor\":\"white\",\"landcolor\":\"#E5ECF6\",\"showlakes\":true,\"showland\":true,\"subunitcolor\":\"white\"},\"hoverlabel\":{\"align\":\"left\"},\"hovermode\":\"closest\",\"mapbox\":{\"style\":\"light\"},\"paper_bgcolor\":\"white\",\"plot_bgcolor\":\"#E5ECF6\",\"polar\":{\"angularaxis\":{\"gridcolor\":\"white\",\"linecolor\":\"white\",\"ticks\":\"\"},\"bgcolor\":\"#E5ECF6\",\"radialaxis\":{\"gridcolor\":\"white\",\"linecolor\":\"white\",\"ticks\":\"\"}},\"scene\":{\"xaxis\":{\"backgroundcolor\":\"#E5ECF6\",\"gridcolor\":\"white\",\"gridwidth\":2,\"linecolor\":\"white\",\"showbackground\":true,\"ticks\":\"\",\"zerolinecolor\":\"white\"},\"yaxis\":{\"backgroundcolor\":\"#E5ECF6\",\"gridcolor\":\"white\",\"gridwidth\":2,\"linecolor\":\"white\",\"showbackground\":true,\"ticks\":\"\",\"zerolinecolor\":\"white\"},\"zaxis\":{\"backgroundcolor\":\"#E5ECF6\",\"gridcolor\":\"white\",\"gridwidth\":2,\"linecolor\":\"white\",\"showbackground\":true,\"ticks\":\"\",\"zerolinecolor\":\"white\"}},\"shapedefaults\":{\"line\":{\"color\":\"#2a3f5f\"}},\"ternary\":{\"aaxis\":{\"gridcolor\":\"white\",\"linecolor\":\"white\",\"ticks\":\"\"},\"baxis\":{\"gridcolor\":\"white\",\"linecolor\":\"white\",\"ticks\":\"\"},\"bgcolor\":\"#E5ECF6\",\"caxis\":{\"gridcolor\":\"white\",\"linecolor\":\"white\",\"ticks\":\"\"}},\"title\":{\"x\":0.05},\"xaxis\":{\"automargin\":true,\"gridcolor\":\"white\",\"linecolor\":\"white\",\"ticks\":\"\",\"title\":{\"standoff\":15},\"zerolinecolor\":\"white\",\"zerolinewidth\":2},\"yaxis\":{\"automargin\":true,\"gridcolor\":\"white\",\"linecolor\":\"white\",\"ticks\":\"\",\"title\":{\"standoff\":15},\"zerolinecolor\":\"white\",\"zerolinewidth\":2}}},\"xaxis\":{\"anchor\":\"y\",\"domain\":[0.0,1.0],\"title\":{\"text\":\"Year\"}},\"yaxis\":{\"anchor\":\"x\",\"domain\":[0.0,1.0],\"title\":{\"text\":\"NonViolent_Offenses\"}},\"legend\":{\"title\":{\"text\":\"County\"},\"tracegroupgap\":0},\"margin\":{\"t\":60}},                        {\"responsive\": true}                    ).then(function(){\n",
       "                            \n",
       "var gd = document.getElementById('d9f95b3f-ebfe-4225-8bba-4c7e763872fa');\n",
       "var x = new MutationObserver(function (mutations, observer) {{\n",
       "        var display = window.getComputedStyle(gd).display;\n",
       "        if (!display || display === 'none') {{\n",
       "            console.log([gd, 'removed!']);\n",
       "            Plotly.purge(gd);\n",
       "            observer.disconnect();\n",
       "        }}\n",
       "}});\n",
       "\n",
       "// Listen for the removal of the full notebook cells\n",
       "var notebookContainer = gd.closest('#notebook-container');\n",
       "if (notebookContainer) {{\n",
       "    x.observe(notebookContainer, {childList: true});\n",
       "}}\n",
       "\n",
       "// Listen for the clearing of the current output cell\n",
       "var outputEl = gd.closest('.output');\n",
       "if (outputEl) {{\n",
       "    x.observe(outputEl, {childList: true});\n",
       "}}\n",
       "\n",
       "                        })                };                });            </script>        </div>"
      ]
     },
     "metadata": {},
     "output_type": "display_data"
    }
   ],
   "source": [
    "# NonViolent crimes houston area over 5 years\n",
    "fig = px.line(crime_df, x=\"Year\" , y=\"NonViolent_Offenses\", color=\"County\")\n",
    "fig.show()"
   ]
  },
  {
   "cell_type": "code",
   "execution_count": 14,
   "id": "9f08cf5d",
   "metadata": {},
   "outputs": [
    {
     "data": {
      "application/vnd.plotly.v1+json": {
       "config": {
        "plotlyServerURL": "https://plot.ly"
       },
       "data": [
        {
         "dimensions": [
          {
           "axis": {
            "matches": true
           },
           "label": "County",
           "values": [
            "Austin County",
            "Austin County",
            "Austin County",
            "Austin County",
            "Austin County",
            "Austin County"
           ]
          },
          {
           "axis": {
            "matches": true
           },
           "label": "Year",
           "values": [
            2015,
            2016,
            2017,
            2018,
            2019,
            2020
           ]
          },
          {
           "axis": {
            "matches": true
           },
           "label": "Violent_Offenses",
           "values": [
            61,
            49,
            45,
            43,
            43,
            42
           ]
          },
          {
           "axis": {
            "matches": true
           },
           "label": "NonViolent_Offenses",
           "values": [
            417,
            406,
            326,
            249,
            256,
            236
           ]
          }
         ],
         "hovertemplate": "County=Austin County<br>%{xaxis.title.text}=%{x}<br>%{yaxis.title.text}=%{y}<extra></extra>",
         "legendgroup": "Austin County",
         "marker": {
          "color": "#636efa",
          "symbol": "circle"
         },
         "name": "Austin County",
         "showlegend": true,
         "type": "splom"
        },
        {
         "dimensions": [
          {
           "axis": {
            "matches": true
           },
           "label": "County",
           "values": [
            "Brazoria County",
            "Brazoria County",
            "Brazoria County",
            "Brazoria County",
            "Brazoria County",
            "Brazoria County"
           ]
          },
          {
           "axis": {
            "matches": true
           },
           "label": "Year",
           "values": [
            2015,
            2016,
            2017,
            2018,
            2019,
            2020
           ]
          },
          {
           "axis": {
            "matches": true
           },
           "label": "Violent_Offenses",
           "values": [
            470,
            513,
            560,
            512,
            533,
            587
           ]
          },
          {
           "axis": {
            "matches": true
           },
           "label": "NonViolent_Offenses",
           "values": [
            5983,
            5843,
            5428,
            5431,
            6233,
            5515
           ]
          }
         ],
         "hovertemplate": "County=Brazoria County<br>%{xaxis.title.text}=%{x}<br>%{yaxis.title.text}=%{y}<extra></extra>",
         "legendgroup": "Brazoria County",
         "marker": {
          "color": "#EF553B",
          "symbol": "circle"
         },
         "name": "Brazoria County",
         "showlegend": true,
         "type": "splom"
        },
        {
         "dimensions": [
          {
           "axis": {
            "matches": true
           },
           "label": "County",
           "values": [
            "Brazos County",
            "Brazos County",
            "Brazos County",
            "Brazos County",
            "Brazos County",
            "Brazos County"
           ]
          },
          {
           "axis": {
            "matches": true
           },
           "label": "Year",
           "values": [
            2015,
            2016,
            2017,
            2018,
            2019,
            2020
           ]
          },
          {
           "axis": {
            "matches": true
           },
           "label": "Violent_Offenses",
           "values": [
            587,
            608,
            529,
            549,
            555,
            661
           ]
          },
          {
           "axis": {
            "matches": true
           },
           "label": "NonViolent_Offenses",
           "values": [
            5841,
            5614,
            5030,
            5201,
            4697,
            4571
           ]
          }
         ],
         "hovertemplate": "County=Brazos County<br>%{xaxis.title.text}=%{x}<br>%{yaxis.title.text}=%{y}<extra></extra>",
         "legendgroup": "Brazos County",
         "marker": {
          "color": "#00cc96",
          "symbol": "circle"
         },
         "name": "Brazos County",
         "showlegend": true,
         "type": "splom"
        },
        {
         "dimensions": [
          {
           "axis": {
            "matches": true
           },
           "label": "County",
           "values": [
            "Chambers County",
            "Chambers County",
            "Chambers County",
            "Chambers County",
            "Chambers County",
            "Chambers County"
           ]
          },
          {
           "axis": {
            "matches": true
           },
           "label": "Year",
           "values": [
            2015,
            2016,
            2017,
            2018,
            2019,
            2020
           ]
          },
          {
           "axis": {
            "matches": true
           },
           "label": "Violent_Offenses",
           "values": [
            110,
            131,
            89,
            53,
            81,
            126
           ]
          },
          {
           "axis": {
            "matches": true
           },
           "label": "NonViolent_Offenses",
           "values": [
            847,
            846,
            715,
            724,
            779,
            724
           ]
          }
         ],
         "hovertemplate": "County=Chambers County<br>%{xaxis.title.text}=%{x}<br>%{yaxis.title.text}=%{y}<extra></extra>",
         "legendgroup": "Chambers County",
         "marker": {
          "color": "#ab63fa",
          "symbol": "circle"
         },
         "name": "Chambers County",
         "showlegend": true,
         "type": "splom"
        },
        {
         "dimensions": [
          {
           "axis": {
            "matches": true
           },
           "label": "County",
           "values": [
            "Fort Bend County",
            "Fort Bend County",
            "Fort Bend County",
            "Fort Bend County",
            "Fort Bend County",
            "Fort Bend County"
           ]
          },
          {
           "axis": {
            "matches": true
           },
           "label": "Year",
           "values": [
            2015,
            2016,
            2017,
            2018,
            2019,
            2020
           ]
          },
          {
           "axis": {
            "matches": true
           },
           "label": "Violent_Offenses",
           "values": [
            1034,
            935,
            1073,
            1152,
            1246,
            1287
           ]
          },
          {
           "axis": {
            "matches": true
           },
           "label": "NonViolent_Offenses",
           "values": [
            10264,
            9190,
            8416,
            8223,
            9007,
            8422
           ]
          }
         ],
         "hovertemplate": "County=Fort Bend County<br>%{xaxis.title.text}=%{x}<br>%{yaxis.title.text}=%{y}<extra></extra>",
         "legendgroup": "Fort Bend County",
         "marker": {
          "color": "#FFA15A",
          "symbol": "circle"
         },
         "name": "Fort Bend County",
         "showlegend": true,
         "type": "splom"
        },
        {
         "dimensions": [
          {
           "axis": {
            "matches": true
           },
           "label": "County",
           "values": [
            "Galveston County",
            "Galveston County",
            "Galveston County",
            "Galveston County",
            "Galveston County",
            "Galveston County"
           ]
          },
          {
           "axis": {
            "matches": true
           },
           "label": "Year",
           "values": [
            2015,
            2016,
            2017,
            2018,
            2019,
            2020
           ]
          },
          {
           "axis": {
            "matches": true
           },
           "label": "Violent_Offenses",
           "values": [
            610,
            764,
            732,
            768,
            715,
            927
           ]
          },
          {
           "axis": {
            "matches": true
           },
           "label": "NonViolent_Offenses",
           "values": [
            8335,
            8839,
            8380,
            7795,
            7040,
            7211
           ]
          }
         ],
         "hovertemplate": "County=Galveston County<br>%{xaxis.title.text}=%{x}<br>%{yaxis.title.text}=%{y}<extra></extra>",
         "legendgroup": "Galveston County",
         "marker": {
          "color": "#19d3f3",
          "symbol": "circle"
         },
         "name": "Galveston County",
         "showlegend": true,
         "type": "splom"
        },
        {
         "dimensions": [
          {
           "axis": {
            "matches": true
           },
           "label": "County",
           "values": [
            "Grimes County",
            "Grimes County",
            "Grimes County",
            "Grimes County",
            "Grimes County",
            "Grimes County"
           ]
          },
          {
           "axis": {
            "matches": true
           },
           "label": "Year",
           "values": [
            2015,
            2016,
            2017,
            2018,
            2019,
            2020
           ]
          },
          {
           "axis": {
            "matches": true
           },
           "label": "Violent_Offenses",
           "values": [
            85,
            70,
            48,
            39,
            33,
            69
           ]
          },
          {
           "axis": {
            "matches": true
           },
           "label": "NonViolent_Offenses",
           "values": [
            463,
            461,
            309,
            290,
            328,
            337
           ]
          }
         ],
         "hovertemplate": "County=Grimes County<br>%{xaxis.title.text}=%{x}<br>%{yaxis.title.text}=%{y}<extra></extra>",
         "legendgroup": "Grimes County",
         "marker": {
          "color": "#FF6692",
          "symbol": "circle"
         },
         "name": "Grimes County",
         "showlegend": true,
         "type": "splom"
        },
        {
         "dimensions": [
          {
           "axis": {
            "matches": true
           },
           "label": "County",
           "values": [
            "Liberty County",
            "Liberty County",
            "Liberty County",
            "Liberty County",
            "Liberty County",
            "Liberty County"
           ]
          },
          {
           "axis": {
            "matches": true
           },
           "label": "Year",
           "values": [
            2015,
            2016,
            2017,
            2018,
            2019,
            2020
           ]
          },
          {
           "axis": {
            "matches": true
           },
           "label": "Violent_Offenses",
           "values": [
            294,
            282,
            113,
            247,
            215,
            315
           ]
          },
          {
           "axis": {
            "matches": true
           },
           "label": "NonViolent_Offenses",
           "values": [
            1918,
            1699,
            688,
            1435,
            1618,
            1375
           ]
          }
         ],
         "hovertemplate": "County=Liberty County<br>%{xaxis.title.text}=%{x}<br>%{yaxis.title.text}=%{y}<extra></extra>",
         "legendgroup": "Liberty County",
         "marker": {
          "color": "#B6E880",
          "symbol": "circle"
         },
         "name": "Liberty County",
         "showlegend": true,
         "type": "splom"
        },
        {
         "dimensions": [
          {
           "axis": {
            "matches": true
           },
           "label": "County",
           "values": [
            "Matagorda County",
            "Matagorda County",
            "Matagorda County",
            "Matagorda County",
            "Matagorda County",
            "Matagorda County"
           ]
          },
          {
           "axis": {
            "matches": true
           },
           "label": "Year",
           "values": [
            2015,
            2016,
            2017,
            2018,
            2019,
            2020
           ]
          },
          {
           "axis": {
            "matches": true
           },
           "label": "Violent_Offenses",
           "values": [
            85,
            117,
            143,
            136,
            156,
            169
           ]
          },
          {
           "axis": {
            "matches": true
           },
           "label": "NonViolent_Offenses",
           "values": [
            1157,
            1228,
            1024,
            1115,
            1142,
            973
           ]
          }
         ],
         "hovertemplate": "County=Matagorda County<br>%{xaxis.title.text}=%{x}<br>%{yaxis.title.text}=%{y}<extra></extra>",
         "legendgroup": "Matagorda County",
         "marker": {
          "color": "#FF97FF",
          "symbol": "circle"
         },
         "name": "Matagorda County",
         "showlegend": true,
         "type": "splom"
        },
        {
         "dimensions": [
          {
           "axis": {
            "matches": true
           },
           "label": "County",
           "values": [
            "Montgomery County",
            "Montgomery County",
            "Montgomery County",
            "Montgomery County",
            "Montgomery County",
            "Montgomery County"
           ]
          },
          {
           "axis": {
            "matches": true
           },
           "label": "Year",
           "values": [
            2015,
            2016,
            2017,
            2018,
            2019,
            2020
           ]
          },
          {
           "axis": {
            "matches": true
           },
           "label": "Violent_Offenses",
           "values": [
            976,
            678,
            705,
            969,
            972,
            925
           ]
          },
          {
           "axis": {
            "matches": true
           },
           "label": "NonViolent_Offenses",
           "values": [
            8635,
            8008,
            6858,
            7725,
            8051,
            7280
           ]
          }
         ],
         "hovertemplate": "County=Montgomery County<br>%{xaxis.title.text}=%{x}<br>%{yaxis.title.text}=%{y}<extra></extra>",
         "legendgroup": "Montgomery County",
         "marker": {
          "color": "#FECB52",
          "symbol": "circle"
         },
         "name": "Montgomery County",
         "showlegend": true,
         "type": "splom"
        },
        {
         "dimensions": [
          {
           "axis": {
            "matches": true
           },
           "label": "County",
           "values": [
            "Polk County",
            "Polk County",
            "Polk County",
            "Polk County",
            "Polk County",
            "Polk County"
           ]
          },
          {
           "axis": {
            "matches": true
           },
           "label": "Year",
           "values": [
            2015,
            2016,
            2017,
            2018,
            2019,
            2020
           ]
          },
          {
           "axis": {
            "matches": true
           },
           "label": "Violent_Offenses",
           "values": [
            129,
            104,
            119,
            107,
            104,
            103
           ]
          },
          {
           "axis": {
            "matches": true
           },
           "label": "NonViolent_Offenses",
           "values": [
            801,
            897,
            840,
            831,
            1060,
            861
           ]
          }
         ],
         "hovertemplate": "County=Polk County<br>%{xaxis.title.text}=%{x}<br>%{yaxis.title.text}=%{y}<extra></extra>",
         "legendgroup": "Polk County",
         "marker": {
          "color": "#636efa",
          "symbol": "circle"
         },
         "name": "Polk County",
         "showlegend": true,
         "type": "splom"
        },
        {
         "dimensions": [
          {
           "axis": {
            "matches": true
           },
           "label": "County",
           "values": [
            "San Jacinto County",
            "San Jacinto County",
            "San Jacinto County",
            "San Jacinto County",
            "San Jacinto County",
            "San Jacinto County"
           ]
          },
          {
           "axis": {
            "matches": true
           },
           "label": "Year",
           "values": [
            2015,
            2016,
            2017,
            2018,
            2019,
            2020
           ]
          },
          {
           "axis": {
            "matches": true
           },
           "label": "Violent_Offenses",
           "values": [
            66,
            43,
            53,
            40,
            43,
            37
           ]
          },
          {
           "axis": {
            "matches": true
           },
           "label": "NonViolent_Offenses",
           "values": [
            466,
            362,
            466,
            360,
            330,
            711
           ]
          }
         ],
         "hovertemplate": "County=San Jacinto County<br>%{xaxis.title.text}=%{x}<br>%{yaxis.title.text}=%{y}<extra></extra>",
         "legendgroup": "San Jacinto County",
         "marker": {
          "color": "#EF553B",
          "symbol": "circle"
         },
         "name": "San Jacinto County",
         "showlegend": true,
         "type": "splom"
        },
        {
         "dimensions": [
          {
           "axis": {
            "matches": true
           },
           "label": "County",
           "values": [
            "Walker County",
            "Walker County",
            "Walker County",
            "Walker County",
            "Walker County",
            "Walker County"
           ]
          },
          {
           "axis": {
            "matches": true
           },
           "label": "Year",
           "values": [
            2015,
            2016,
            2017,
            2018,
            2019,
            2020
           ]
          },
          {
           "axis": {
            "matches": true
           },
           "label": "Violent_Offenses",
           "values": [
            226,
            231,
            204,
            185,
            223,
            196
           ]
          },
          {
           "axis": {
            "matches": true
           },
           "label": "NonViolent_Offenses",
           "values": [
            1177,
            1026,
            886,
            883,
            910,
            860
           ]
          }
         ],
         "hovertemplate": "County=Walker County<br>%{xaxis.title.text}=%{x}<br>%{yaxis.title.text}=%{y}<extra></extra>",
         "legendgroup": "Walker County",
         "marker": {
          "color": "#00cc96",
          "symbol": "circle"
         },
         "name": "Walker County",
         "showlegend": true,
         "type": "splom"
        },
        {
         "dimensions": [
          {
           "axis": {
            "matches": true
           },
           "label": "County",
           "values": [
            "Waller County",
            "Waller County",
            "Waller County",
            "Waller County",
            "Waller County",
            "Waller County"
           ]
          },
          {
           "axis": {
            "matches": true
           },
           "label": "Year",
           "values": [
            2015,
            2016,
            2017,
            2018,
            2019,
            2020
           ]
          },
          {
           "axis": {
            "matches": true
           },
           "label": "Violent_Offenses",
           "values": [
            199,
            146,
            143,
            184,
            134,
            141
           ]
          },
          {
           "axis": {
            "matches": true
           },
           "label": "NonViolent_Offenses",
           "values": [
            727,
            701,
            667,
            782,
            695,
            648
           ]
          }
         ],
         "hovertemplate": "County=Waller County<br>%{xaxis.title.text}=%{x}<br>%{yaxis.title.text}=%{y}<extra></extra>",
         "legendgroup": "Waller County",
         "marker": {
          "color": "#ab63fa",
          "symbol": "circle"
         },
         "name": "Waller County",
         "showlegend": true,
         "type": "splom"
        },
        {
         "dimensions": [
          {
           "axis": {
            "matches": true
           },
           "label": "County",
           "values": [
            "Washington County",
            "Washington County",
            "Washington County",
            "Washington County",
            "Washington County",
            "Washington County"
           ]
          },
          {
           "axis": {
            "matches": true
           },
           "label": "Year",
           "values": [
            2015,
            2016,
            2017,
            2018,
            2019,
            2020
           ]
          },
          {
           "axis": {
            "matches": true
           },
           "label": "Violent_Offenses",
           "values": [
            71,
            59,
            148,
            91,
            135,
            86
           ]
          },
          {
           "axis": {
            "matches": true
           },
           "label": "NonViolent_Offenses",
           "values": [
            534,
            521,
            439,
            457,
            501,
            409
           ]
          }
         ],
         "hovertemplate": "County=Washington County<br>%{xaxis.title.text}=%{x}<br>%{yaxis.title.text}=%{y}<extra></extra>",
         "legendgroup": "Washington County",
         "marker": {
          "color": "#FFA15A",
          "symbol": "circle"
         },
         "name": "Washington County",
         "showlegend": true,
         "type": "splom"
        },
        {
         "dimensions": [
          {
           "axis": {
            "matches": true
           },
           "label": "County",
           "values": [
            "Wharton County",
            "Wharton County",
            "Wharton County",
            "Wharton County",
            "Wharton County",
            "Wharton County"
           ]
          },
          {
           "axis": {
            "matches": true
           },
           "label": "Year",
           "values": [
            2015,
            2016,
            2017,
            2018,
            2019,
            2020
           ]
          },
          {
           "axis": {
            "matches": true
           },
           "label": "Violent_Offenses",
           "values": [
            135,
            156,
            145,
            131,
            122,
            130
           ]
          },
          {
           "axis": {
            "matches": true
           },
           "label": "NonViolent_Offenses",
           "values": [
            1082,
            1095,
            918,
            729,
            797,
            804
           ]
          }
         ],
         "hovertemplate": "County=Wharton County<br>%{xaxis.title.text}=%{x}<br>%{yaxis.title.text}=%{y}<extra></extra>",
         "legendgroup": "Wharton County",
         "marker": {
          "color": "#19d3f3",
          "symbol": "circle"
         },
         "name": "Wharton County",
         "showlegend": true,
         "type": "splom"
        }
       ],
       "layout": {
        "dragmode": "select",
        "legend": {
         "title": {
          "text": "County"
         },
         "tracegroupgap": 0
        },
        "margin": {
         "t": 60
        },
        "template": {
         "data": {
          "bar": [
           {
            "error_x": {
             "color": "#2a3f5f"
            },
            "error_y": {
             "color": "#2a3f5f"
            },
            "marker": {
             "line": {
              "color": "#E5ECF6",
              "width": 0.5
             },
             "pattern": {
              "fillmode": "overlay",
              "size": 10,
              "solidity": 0.2
             }
            },
            "type": "bar"
           }
          ],
          "barpolar": [
           {
            "marker": {
             "line": {
              "color": "#E5ECF6",
              "width": 0.5
             },
             "pattern": {
              "fillmode": "overlay",
              "size": 10,
              "solidity": 0.2
             }
            },
            "type": "barpolar"
           }
          ],
          "carpet": [
           {
            "aaxis": {
             "endlinecolor": "#2a3f5f",
             "gridcolor": "white",
             "linecolor": "white",
             "minorgridcolor": "white",
             "startlinecolor": "#2a3f5f"
            },
            "baxis": {
             "endlinecolor": "#2a3f5f",
             "gridcolor": "white",
             "linecolor": "white",
             "minorgridcolor": "white",
             "startlinecolor": "#2a3f5f"
            },
            "type": "carpet"
           }
          ],
          "choropleth": [
           {
            "colorbar": {
             "outlinewidth": 0,
             "ticks": ""
            },
            "type": "choropleth"
           }
          ],
          "contour": [
           {
            "colorbar": {
             "outlinewidth": 0,
             "ticks": ""
            },
            "colorscale": [
             [
              0,
              "#0d0887"
             ],
             [
              0.1111111111111111,
              "#46039f"
             ],
             [
              0.2222222222222222,
              "#7201a8"
             ],
             [
              0.3333333333333333,
              "#9c179e"
             ],
             [
              0.4444444444444444,
              "#bd3786"
             ],
             [
              0.5555555555555556,
              "#d8576b"
             ],
             [
              0.6666666666666666,
              "#ed7953"
             ],
             [
              0.7777777777777778,
              "#fb9f3a"
             ],
             [
              0.8888888888888888,
              "#fdca26"
             ],
             [
              1,
              "#f0f921"
             ]
            ],
            "type": "contour"
           }
          ],
          "contourcarpet": [
           {
            "colorbar": {
             "outlinewidth": 0,
             "ticks": ""
            },
            "type": "contourcarpet"
           }
          ],
          "heatmap": [
           {
            "colorbar": {
             "outlinewidth": 0,
             "ticks": ""
            },
            "colorscale": [
             [
              0,
              "#0d0887"
             ],
             [
              0.1111111111111111,
              "#46039f"
             ],
             [
              0.2222222222222222,
              "#7201a8"
             ],
             [
              0.3333333333333333,
              "#9c179e"
             ],
             [
              0.4444444444444444,
              "#bd3786"
             ],
             [
              0.5555555555555556,
              "#d8576b"
             ],
             [
              0.6666666666666666,
              "#ed7953"
             ],
             [
              0.7777777777777778,
              "#fb9f3a"
             ],
             [
              0.8888888888888888,
              "#fdca26"
             ],
             [
              1,
              "#f0f921"
             ]
            ],
            "type": "heatmap"
           }
          ],
          "heatmapgl": [
           {
            "colorbar": {
             "outlinewidth": 0,
             "ticks": ""
            },
            "colorscale": [
             [
              0,
              "#0d0887"
             ],
             [
              0.1111111111111111,
              "#46039f"
             ],
             [
              0.2222222222222222,
              "#7201a8"
             ],
             [
              0.3333333333333333,
              "#9c179e"
             ],
             [
              0.4444444444444444,
              "#bd3786"
             ],
             [
              0.5555555555555556,
              "#d8576b"
             ],
             [
              0.6666666666666666,
              "#ed7953"
             ],
             [
              0.7777777777777778,
              "#fb9f3a"
             ],
             [
              0.8888888888888888,
              "#fdca26"
             ],
             [
              1,
              "#f0f921"
             ]
            ],
            "type": "heatmapgl"
           }
          ],
          "histogram": [
           {
            "marker": {
             "pattern": {
              "fillmode": "overlay",
              "size": 10,
              "solidity": 0.2
             }
            },
            "type": "histogram"
           }
          ],
          "histogram2d": [
           {
            "colorbar": {
             "outlinewidth": 0,
             "ticks": ""
            },
            "colorscale": [
             [
              0,
              "#0d0887"
             ],
             [
              0.1111111111111111,
              "#46039f"
             ],
             [
              0.2222222222222222,
              "#7201a8"
             ],
             [
              0.3333333333333333,
              "#9c179e"
             ],
             [
              0.4444444444444444,
              "#bd3786"
             ],
             [
              0.5555555555555556,
              "#d8576b"
             ],
             [
              0.6666666666666666,
              "#ed7953"
             ],
             [
              0.7777777777777778,
              "#fb9f3a"
             ],
             [
              0.8888888888888888,
              "#fdca26"
             ],
             [
              1,
              "#f0f921"
             ]
            ],
            "type": "histogram2d"
           }
          ],
          "histogram2dcontour": [
           {
            "colorbar": {
             "outlinewidth": 0,
             "ticks": ""
            },
            "colorscale": [
             [
              0,
              "#0d0887"
             ],
             [
              0.1111111111111111,
              "#46039f"
             ],
             [
              0.2222222222222222,
              "#7201a8"
             ],
             [
              0.3333333333333333,
              "#9c179e"
             ],
             [
              0.4444444444444444,
              "#bd3786"
             ],
             [
              0.5555555555555556,
              "#d8576b"
             ],
             [
              0.6666666666666666,
              "#ed7953"
             ],
             [
              0.7777777777777778,
              "#fb9f3a"
             ],
             [
              0.8888888888888888,
              "#fdca26"
             ],
             [
              1,
              "#f0f921"
             ]
            ],
            "type": "histogram2dcontour"
           }
          ],
          "mesh3d": [
           {
            "colorbar": {
             "outlinewidth": 0,
             "ticks": ""
            },
            "type": "mesh3d"
           }
          ],
          "parcoords": [
           {
            "line": {
             "colorbar": {
              "outlinewidth": 0,
              "ticks": ""
             }
            },
            "type": "parcoords"
           }
          ],
          "pie": [
           {
            "automargin": true,
            "type": "pie"
           }
          ],
          "scatter": [
           {
            "marker": {
             "colorbar": {
              "outlinewidth": 0,
              "ticks": ""
             }
            },
            "type": "scatter"
           }
          ],
          "scatter3d": [
           {
            "line": {
             "colorbar": {
              "outlinewidth": 0,
              "ticks": ""
             }
            },
            "marker": {
             "colorbar": {
              "outlinewidth": 0,
              "ticks": ""
             }
            },
            "type": "scatter3d"
           }
          ],
          "scattercarpet": [
           {
            "marker": {
             "colorbar": {
              "outlinewidth": 0,
              "ticks": ""
             }
            },
            "type": "scattercarpet"
           }
          ],
          "scattergeo": [
           {
            "marker": {
             "colorbar": {
              "outlinewidth": 0,
              "ticks": ""
             }
            },
            "type": "scattergeo"
           }
          ],
          "scattergl": [
           {
            "marker": {
             "colorbar": {
              "outlinewidth": 0,
              "ticks": ""
             }
            },
            "type": "scattergl"
           }
          ],
          "scattermapbox": [
           {
            "marker": {
             "colorbar": {
              "outlinewidth": 0,
              "ticks": ""
             }
            },
            "type": "scattermapbox"
           }
          ],
          "scatterpolar": [
           {
            "marker": {
             "colorbar": {
              "outlinewidth": 0,
              "ticks": ""
             }
            },
            "type": "scatterpolar"
           }
          ],
          "scatterpolargl": [
           {
            "marker": {
             "colorbar": {
              "outlinewidth": 0,
              "ticks": ""
             }
            },
            "type": "scatterpolargl"
           }
          ],
          "scatterternary": [
           {
            "marker": {
             "colorbar": {
              "outlinewidth": 0,
              "ticks": ""
             }
            },
            "type": "scatterternary"
           }
          ],
          "surface": [
           {
            "colorbar": {
             "outlinewidth": 0,
             "ticks": ""
            },
            "colorscale": [
             [
              0,
              "#0d0887"
             ],
             [
              0.1111111111111111,
              "#46039f"
             ],
             [
              0.2222222222222222,
              "#7201a8"
             ],
             [
              0.3333333333333333,
              "#9c179e"
             ],
             [
              0.4444444444444444,
              "#bd3786"
             ],
             [
              0.5555555555555556,
              "#d8576b"
             ],
             [
              0.6666666666666666,
              "#ed7953"
             ],
             [
              0.7777777777777778,
              "#fb9f3a"
             ],
             [
              0.8888888888888888,
              "#fdca26"
             ],
             [
              1,
              "#f0f921"
             ]
            ],
            "type": "surface"
           }
          ],
          "table": [
           {
            "cells": {
             "fill": {
              "color": "#EBF0F8"
             },
             "line": {
              "color": "white"
             }
            },
            "header": {
             "fill": {
              "color": "#C8D4E3"
             },
             "line": {
              "color": "white"
             }
            },
            "type": "table"
           }
          ]
         },
         "layout": {
          "annotationdefaults": {
           "arrowcolor": "#2a3f5f",
           "arrowhead": 0,
           "arrowwidth": 1
          },
          "autotypenumbers": "strict",
          "coloraxis": {
           "colorbar": {
            "outlinewidth": 0,
            "ticks": ""
           }
          },
          "colorscale": {
           "diverging": [
            [
             0,
             "#8e0152"
            ],
            [
             0.1,
             "#c51b7d"
            ],
            [
             0.2,
             "#de77ae"
            ],
            [
             0.3,
             "#f1b6da"
            ],
            [
             0.4,
             "#fde0ef"
            ],
            [
             0.5,
             "#f7f7f7"
            ],
            [
             0.6,
             "#e6f5d0"
            ],
            [
             0.7,
             "#b8e186"
            ],
            [
             0.8,
             "#7fbc41"
            ],
            [
             0.9,
             "#4d9221"
            ],
            [
             1,
             "#276419"
            ]
           ],
           "sequential": [
            [
             0,
             "#0d0887"
            ],
            [
             0.1111111111111111,
             "#46039f"
            ],
            [
             0.2222222222222222,
             "#7201a8"
            ],
            [
             0.3333333333333333,
             "#9c179e"
            ],
            [
             0.4444444444444444,
             "#bd3786"
            ],
            [
             0.5555555555555556,
             "#d8576b"
            ],
            [
             0.6666666666666666,
             "#ed7953"
            ],
            [
             0.7777777777777778,
             "#fb9f3a"
            ],
            [
             0.8888888888888888,
             "#fdca26"
            ],
            [
             1,
             "#f0f921"
            ]
           ],
           "sequentialminus": [
            [
             0,
             "#0d0887"
            ],
            [
             0.1111111111111111,
             "#46039f"
            ],
            [
             0.2222222222222222,
             "#7201a8"
            ],
            [
             0.3333333333333333,
             "#9c179e"
            ],
            [
             0.4444444444444444,
             "#bd3786"
            ],
            [
             0.5555555555555556,
             "#d8576b"
            ],
            [
             0.6666666666666666,
             "#ed7953"
            ],
            [
             0.7777777777777778,
             "#fb9f3a"
            ],
            [
             0.8888888888888888,
             "#fdca26"
            ],
            [
             1,
             "#f0f921"
            ]
           ]
          },
          "colorway": [
           "#636efa",
           "#EF553B",
           "#00cc96",
           "#ab63fa",
           "#FFA15A",
           "#19d3f3",
           "#FF6692",
           "#B6E880",
           "#FF97FF",
           "#FECB52"
          ],
          "font": {
           "color": "#2a3f5f"
          },
          "geo": {
           "bgcolor": "white",
           "lakecolor": "white",
           "landcolor": "#E5ECF6",
           "showlakes": true,
           "showland": true,
           "subunitcolor": "white"
          },
          "hoverlabel": {
           "align": "left"
          },
          "hovermode": "closest",
          "mapbox": {
           "style": "light"
          },
          "paper_bgcolor": "white",
          "plot_bgcolor": "#E5ECF6",
          "polar": {
           "angularaxis": {
            "gridcolor": "white",
            "linecolor": "white",
            "ticks": ""
           },
           "bgcolor": "#E5ECF6",
           "radialaxis": {
            "gridcolor": "white",
            "linecolor": "white",
            "ticks": ""
           }
          },
          "scene": {
           "xaxis": {
            "backgroundcolor": "#E5ECF6",
            "gridcolor": "white",
            "gridwidth": 2,
            "linecolor": "white",
            "showbackground": true,
            "ticks": "",
            "zerolinecolor": "white"
           },
           "yaxis": {
            "backgroundcolor": "#E5ECF6",
            "gridcolor": "white",
            "gridwidth": 2,
            "linecolor": "white",
            "showbackground": true,
            "ticks": "",
            "zerolinecolor": "white"
           },
           "zaxis": {
            "backgroundcolor": "#E5ECF6",
            "gridcolor": "white",
            "gridwidth": 2,
            "linecolor": "white",
            "showbackground": true,
            "ticks": "",
            "zerolinecolor": "white"
           }
          },
          "shapedefaults": {
           "line": {
            "color": "#2a3f5f"
           }
          },
          "ternary": {
           "aaxis": {
            "gridcolor": "white",
            "linecolor": "white",
            "ticks": ""
           },
           "baxis": {
            "gridcolor": "white",
            "linecolor": "white",
            "ticks": ""
           },
           "bgcolor": "#E5ECF6",
           "caxis": {
            "gridcolor": "white",
            "linecolor": "white",
            "ticks": ""
           }
          },
          "title": {
           "x": 0.05
          },
          "xaxis": {
           "automargin": true,
           "gridcolor": "white",
           "linecolor": "white",
           "ticks": "",
           "title": {
            "standoff": 15
           },
           "zerolinecolor": "white",
           "zerolinewidth": 2
          },
          "yaxis": {
           "automargin": true,
           "gridcolor": "white",
           "linecolor": "white",
           "ticks": "",
           "title": {
            "standoff": 15
           },
           "zerolinecolor": "white",
           "zerolinewidth": 2
          }
         }
        }
       }
      },
      "text/html": [
       "<div>                            <div id=\"8e52a45a-6322-49f4-ad3f-f873666ea63c\" class=\"plotly-graph-div\" style=\"height:525px; width:100%;\"></div>            <script type=\"text/javascript\">                require([\"plotly\"], function(Plotly) {                    window.PLOTLYENV=window.PLOTLYENV || {};                                    if (document.getElementById(\"8e52a45a-6322-49f4-ad3f-f873666ea63c\")) {                    Plotly.newPlot(                        \"8e52a45a-6322-49f4-ad3f-f873666ea63c\",                        [{\"dimensions\":[{\"axis\":{\"matches\":true},\"label\":\"County\",\"values\":[\"Austin County\",\"Austin County\",\"Austin County\",\"Austin County\",\"Austin County\",\"Austin County\"]},{\"axis\":{\"matches\":true},\"label\":\"Year\",\"values\":[2015,2016,2017,2018,2019,2020]},{\"axis\":{\"matches\":true},\"label\":\"Violent_Offenses\",\"values\":[61,49,45,43,43,42]},{\"axis\":{\"matches\":true},\"label\":\"NonViolent_Offenses\",\"values\":[417,406,326,249,256,236]}],\"hovertemplate\":\"County=Austin County<br>%{xaxis.title.text}=%{x}<br>%{yaxis.title.text}=%{y}<extra></extra>\",\"legendgroup\":\"Austin County\",\"marker\":{\"color\":\"#636efa\",\"symbol\":\"circle\"},\"name\":\"Austin County\",\"showlegend\":true,\"type\":\"splom\"},{\"dimensions\":[{\"axis\":{\"matches\":true},\"label\":\"County\",\"values\":[\"Brazoria County\",\"Brazoria County\",\"Brazoria County\",\"Brazoria County\",\"Brazoria County\",\"Brazoria County\"]},{\"axis\":{\"matches\":true},\"label\":\"Year\",\"values\":[2015,2016,2017,2018,2019,2020]},{\"axis\":{\"matches\":true},\"label\":\"Violent_Offenses\",\"values\":[470,513,560,512,533,587]},{\"axis\":{\"matches\":true},\"label\":\"NonViolent_Offenses\",\"values\":[5983,5843,5428,5431,6233,5515]}],\"hovertemplate\":\"County=Brazoria County<br>%{xaxis.title.text}=%{x}<br>%{yaxis.title.text}=%{y}<extra></extra>\",\"legendgroup\":\"Brazoria County\",\"marker\":{\"color\":\"#EF553B\",\"symbol\":\"circle\"},\"name\":\"Brazoria County\",\"showlegend\":true,\"type\":\"splom\"},{\"dimensions\":[{\"axis\":{\"matches\":true},\"label\":\"County\",\"values\":[\"Brazos County\",\"Brazos County\",\"Brazos County\",\"Brazos County\",\"Brazos County\",\"Brazos County\"]},{\"axis\":{\"matches\":true},\"label\":\"Year\",\"values\":[2015,2016,2017,2018,2019,2020]},{\"axis\":{\"matches\":true},\"label\":\"Violent_Offenses\",\"values\":[587,608,529,549,555,661]},{\"axis\":{\"matches\":true},\"label\":\"NonViolent_Offenses\",\"values\":[5841,5614,5030,5201,4697,4571]}],\"hovertemplate\":\"County=Brazos County<br>%{xaxis.title.text}=%{x}<br>%{yaxis.title.text}=%{y}<extra></extra>\",\"legendgroup\":\"Brazos County\",\"marker\":{\"color\":\"#00cc96\",\"symbol\":\"circle\"},\"name\":\"Brazos County\",\"showlegend\":true,\"type\":\"splom\"},{\"dimensions\":[{\"axis\":{\"matches\":true},\"label\":\"County\",\"values\":[\"Chambers County\",\"Chambers County\",\"Chambers County\",\"Chambers County\",\"Chambers County\",\"Chambers County\"]},{\"axis\":{\"matches\":true},\"label\":\"Year\",\"values\":[2015,2016,2017,2018,2019,2020]},{\"axis\":{\"matches\":true},\"label\":\"Violent_Offenses\",\"values\":[110,131,89,53,81,126]},{\"axis\":{\"matches\":true},\"label\":\"NonViolent_Offenses\",\"values\":[847,846,715,724,779,724]}],\"hovertemplate\":\"County=Chambers County<br>%{xaxis.title.text}=%{x}<br>%{yaxis.title.text}=%{y}<extra></extra>\",\"legendgroup\":\"Chambers County\",\"marker\":{\"color\":\"#ab63fa\",\"symbol\":\"circle\"},\"name\":\"Chambers County\",\"showlegend\":true,\"type\":\"splom\"},{\"dimensions\":[{\"axis\":{\"matches\":true},\"label\":\"County\",\"values\":[\"Fort Bend County\",\"Fort Bend County\",\"Fort Bend County\",\"Fort Bend County\",\"Fort Bend County\",\"Fort Bend County\"]},{\"axis\":{\"matches\":true},\"label\":\"Year\",\"values\":[2015,2016,2017,2018,2019,2020]},{\"axis\":{\"matches\":true},\"label\":\"Violent_Offenses\",\"values\":[1034,935,1073,1152,1246,1287]},{\"axis\":{\"matches\":true},\"label\":\"NonViolent_Offenses\",\"values\":[10264,9190,8416,8223,9007,8422]}],\"hovertemplate\":\"County=Fort Bend County<br>%{xaxis.title.text}=%{x}<br>%{yaxis.title.text}=%{y}<extra></extra>\",\"legendgroup\":\"Fort Bend County\",\"marker\":{\"color\":\"#FFA15A\",\"symbol\":\"circle\"},\"name\":\"Fort Bend County\",\"showlegend\":true,\"type\":\"splom\"},{\"dimensions\":[{\"axis\":{\"matches\":true},\"label\":\"County\",\"values\":[\"Galveston County\",\"Galveston County\",\"Galveston County\",\"Galveston County\",\"Galveston County\",\"Galveston County\"]},{\"axis\":{\"matches\":true},\"label\":\"Year\",\"values\":[2015,2016,2017,2018,2019,2020]},{\"axis\":{\"matches\":true},\"label\":\"Violent_Offenses\",\"values\":[610,764,732,768,715,927]},{\"axis\":{\"matches\":true},\"label\":\"NonViolent_Offenses\",\"values\":[8335,8839,8380,7795,7040,7211]}],\"hovertemplate\":\"County=Galveston County<br>%{xaxis.title.text}=%{x}<br>%{yaxis.title.text}=%{y}<extra></extra>\",\"legendgroup\":\"Galveston County\",\"marker\":{\"color\":\"#19d3f3\",\"symbol\":\"circle\"},\"name\":\"Galveston County\",\"showlegend\":true,\"type\":\"splom\"},{\"dimensions\":[{\"axis\":{\"matches\":true},\"label\":\"County\",\"values\":[\"Grimes County\",\"Grimes County\",\"Grimes County\",\"Grimes County\",\"Grimes County\",\"Grimes County\"]},{\"axis\":{\"matches\":true},\"label\":\"Year\",\"values\":[2015,2016,2017,2018,2019,2020]},{\"axis\":{\"matches\":true},\"label\":\"Violent_Offenses\",\"values\":[85,70,48,39,33,69]},{\"axis\":{\"matches\":true},\"label\":\"NonViolent_Offenses\",\"values\":[463,461,309,290,328,337]}],\"hovertemplate\":\"County=Grimes County<br>%{xaxis.title.text}=%{x}<br>%{yaxis.title.text}=%{y}<extra></extra>\",\"legendgroup\":\"Grimes County\",\"marker\":{\"color\":\"#FF6692\",\"symbol\":\"circle\"},\"name\":\"Grimes County\",\"showlegend\":true,\"type\":\"splom\"},{\"dimensions\":[{\"axis\":{\"matches\":true},\"label\":\"County\",\"values\":[\"Liberty County\",\"Liberty County\",\"Liberty County\",\"Liberty County\",\"Liberty County\",\"Liberty County\"]},{\"axis\":{\"matches\":true},\"label\":\"Year\",\"values\":[2015,2016,2017,2018,2019,2020]},{\"axis\":{\"matches\":true},\"label\":\"Violent_Offenses\",\"values\":[294,282,113,247,215,315]},{\"axis\":{\"matches\":true},\"label\":\"NonViolent_Offenses\",\"values\":[1918,1699,688,1435,1618,1375]}],\"hovertemplate\":\"County=Liberty County<br>%{xaxis.title.text}=%{x}<br>%{yaxis.title.text}=%{y}<extra></extra>\",\"legendgroup\":\"Liberty County\",\"marker\":{\"color\":\"#B6E880\",\"symbol\":\"circle\"},\"name\":\"Liberty County\",\"showlegend\":true,\"type\":\"splom\"},{\"dimensions\":[{\"axis\":{\"matches\":true},\"label\":\"County\",\"values\":[\"Matagorda County\",\"Matagorda County\",\"Matagorda County\",\"Matagorda County\",\"Matagorda County\",\"Matagorda County\"]},{\"axis\":{\"matches\":true},\"label\":\"Year\",\"values\":[2015,2016,2017,2018,2019,2020]},{\"axis\":{\"matches\":true},\"label\":\"Violent_Offenses\",\"values\":[85,117,143,136,156,169]},{\"axis\":{\"matches\":true},\"label\":\"NonViolent_Offenses\",\"values\":[1157,1228,1024,1115,1142,973]}],\"hovertemplate\":\"County=Matagorda County<br>%{xaxis.title.text}=%{x}<br>%{yaxis.title.text}=%{y}<extra></extra>\",\"legendgroup\":\"Matagorda County\",\"marker\":{\"color\":\"#FF97FF\",\"symbol\":\"circle\"},\"name\":\"Matagorda County\",\"showlegend\":true,\"type\":\"splom\"},{\"dimensions\":[{\"axis\":{\"matches\":true},\"label\":\"County\",\"values\":[\"Montgomery County\",\"Montgomery County\",\"Montgomery County\",\"Montgomery County\",\"Montgomery County\",\"Montgomery County\"]},{\"axis\":{\"matches\":true},\"label\":\"Year\",\"values\":[2015,2016,2017,2018,2019,2020]},{\"axis\":{\"matches\":true},\"label\":\"Violent_Offenses\",\"values\":[976,678,705,969,972,925]},{\"axis\":{\"matches\":true},\"label\":\"NonViolent_Offenses\",\"values\":[8635,8008,6858,7725,8051,7280]}],\"hovertemplate\":\"County=Montgomery County<br>%{xaxis.title.text}=%{x}<br>%{yaxis.title.text}=%{y}<extra></extra>\",\"legendgroup\":\"Montgomery County\",\"marker\":{\"color\":\"#FECB52\",\"symbol\":\"circle\"},\"name\":\"Montgomery County\",\"showlegend\":true,\"type\":\"splom\"},{\"dimensions\":[{\"axis\":{\"matches\":true},\"label\":\"County\",\"values\":[\"Polk County\",\"Polk County\",\"Polk County\",\"Polk County\",\"Polk County\",\"Polk County\"]},{\"axis\":{\"matches\":true},\"label\":\"Year\",\"values\":[2015,2016,2017,2018,2019,2020]},{\"axis\":{\"matches\":true},\"label\":\"Violent_Offenses\",\"values\":[129,104,119,107,104,103]},{\"axis\":{\"matches\":true},\"label\":\"NonViolent_Offenses\",\"values\":[801,897,840,831,1060,861]}],\"hovertemplate\":\"County=Polk County<br>%{xaxis.title.text}=%{x}<br>%{yaxis.title.text}=%{y}<extra></extra>\",\"legendgroup\":\"Polk County\",\"marker\":{\"color\":\"#636efa\",\"symbol\":\"circle\"},\"name\":\"Polk County\",\"showlegend\":true,\"type\":\"splom\"},{\"dimensions\":[{\"axis\":{\"matches\":true},\"label\":\"County\",\"values\":[\"San Jacinto County\",\"San Jacinto County\",\"San Jacinto County\",\"San Jacinto County\",\"San Jacinto County\",\"San Jacinto County\"]},{\"axis\":{\"matches\":true},\"label\":\"Year\",\"values\":[2015,2016,2017,2018,2019,2020]},{\"axis\":{\"matches\":true},\"label\":\"Violent_Offenses\",\"values\":[66,43,53,40,43,37]},{\"axis\":{\"matches\":true},\"label\":\"NonViolent_Offenses\",\"values\":[466,362,466,360,330,711]}],\"hovertemplate\":\"County=San Jacinto County<br>%{xaxis.title.text}=%{x}<br>%{yaxis.title.text}=%{y}<extra></extra>\",\"legendgroup\":\"San Jacinto County\",\"marker\":{\"color\":\"#EF553B\",\"symbol\":\"circle\"},\"name\":\"San Jacinto County\",\"showlegend\":true,\"type\":\"splom\"},{\"dimensions\":[{\"axis\":{\"matches\":true},\"label\":\"County\",\"values\":[\"Walker County\",\"Walker County\",\"Walker County\",\"Walker County\",\"Walker County\",\"Walker County\"]},{\"axis\":{\"matches\":true},\"label\":\"Year\",\"values\":[2015,2016,2017,2018,2019,2020]},{\"axis\":{\"matches\":true},\"label\":\"Violent_Offenses\",\"values\":[226,231,204,185,223,196]},{\"axis\":{\"matches\":true},\"label\":\"NonViolent_Offenses\",\"values\":[1177,1026,886,883,910,860]}],\"hovertemplate\":\"County=Walker County<br>%{xaxis.title.text}=%{x}<br>%{yaxis.title.text}=%{y}<extra></extra>\",\"legendgroup\":\"Walker County\",\"marker\":{\"color\":\"#00cc96\",\"symbol\":\"circle\"},\"name\":\"Walker County\",\"showlegend\":true,\"type\":\"splom\"},{\"dimensions\":[{\"axis\":{\"matches\":true},\"label\":\"County\",\"values\":[\"Waller County\",\"Waller County\",\"Waller County\",\"Waller County\",\"Waller County\",\"Waller County\"]},{\"axis\":{\"matches\":true},\"label\":\"Year\",\"values\":[2015,2016,2017,2018,2019,2020]},{\"axis\":{\"matches\":true},\"label\":\"Violent_Offenses\",\"values\":[199,146,143,184,134,141]},{\"axis\":{\"matches\":true},\"label\":\"NonViolent_Offenses\",\"values\":[727,701,667,782,695,648]}],\"hovertemplate\":\"County=Waller County<br>%{xaxis.title.text}=%{x}<br>%{yaxis.title.text}=%{y}<extra></extra>\",\"legendgroup\":\"Waller County\",\"marker\":{\"color\":\"#ab63fa\",\"symbol\":\"circle\"},\"name\":\"Waller County\",\"showlegend\":true,\"type\":\"splom\"},{\"dimensions\":[{\"axis\":{\"matches\":true},\"label\":\"County\",\"values\":[\"Washington County\",\"Washington County\",\"Washington County\",\"Washington County\",\"Washington County\",\"Washington County\"]},{\"axis\":{\"matches\":true},\"label\":\"Year\",\"values\":[2015,2016,2017,2018,2019,2020]},{\"axis\":{\"matches\":true},\"label\":\"Violent_Offenses\",\"values\":[71,59,148,91,135,86]},{\"axis\":{\"matches\":true},\"label\":\"NonViolent_Offenses\",\"values\":[534,521,439,457,501,409]}],\"hovertemplate\":\"County=Washington County<br>%{xaxis.title.text}=%{x}<br>%{yaxis.title.text}=%{y}<extra></extra>\",\"legendgroup\":\"Washington County\",\"marker\":{\"color\":\"#FFA15A\",\"symbol\":\"circle\"},\"name\":\"Washington County\",\"showlegend\":true,\"type\":\"splom\"},{\"dimensions\":[{\"axis\":{\"matches\":true},\"label\":\"County\",\"values\":[\"Wharton County\",\"Wharton County\",\"Wharton County\",\"Wharton County\",\"Wharton County\",\"Wharton County\"]},{\"axis\":{\"matches\":true},\"label\":\"Year\",\"values\":[2015,2016,2017,2018,2019,2020]},{\"axis\":{\"matches\":true},\"label\":\"Violent_Offenses\",\"values\":[135,156,145,131,122,130]},{\"axis\":{\"matches\":true},\"label\":\"NonViolent_Offenses\",\"values\":[1082,1095,918,729,797,804]}],\"hovertemplate\":\"County=Wharton County<br>%{xaxis.title.text}=%{x}<br>%{yaxis.title.text}=%{y}<extra></extra>\",\"legendgroup\":\"Wharton County\",\"marker\":{\"color\":\"#19d3f3\",\"symbol\":\"circle\"},\"name\":\"Wharton County\",\"showlegend\":true,\"type\":\"splom\"}],                        {\"template\":{\"data\":{\"bar\":[{\"error_x\":{\"color\":\"#2a3f5f\"},\"error_y\":{\"color\":\"#2a3f5f\"},\"marker\":{\"line\":{\"color\":\"#E5ECF6\",\"width\":0.5},\"pattern\":{\"fillmode\":\"overlay\",\"size\":10,\"solidity\":0.2}},\"type\":\"bar\"}],\"barpolar\":[{\"marker\":{\"line\":{\"color\":\"#E5ECF6\",\"width\":0.5},\"pattern\":{\"fillmode\":\"overlay\",\"size\":10,\"solidity\":0.2}},\"type\":\"barpolar\"}],\"carpet\":[{\"aaxis\":{\"endlinecolor\":\"#2a3f5f\",\"gridcolor\":\"white\",\"linecolor\":\"white\",\"minorgridcolor\":\"white\",\"startlinecolor\":\"#2a3f5f\"},\"baxis\":{\"endlinecolor\":\"#2a3f5f\",\"gridcolor\":\"white\",\"linecolor\":\"white\",\"minorgridcolor\":\"white\",\"startlinecolor\":\"#2a3f5f\"},\"type\":\"carpet\"}],\"choropleth\":[{\"colorbar\":{\"outlinewidth\":0,\"ticks\":\"\"},\"type\":\"choropleth\"}],\"contour\":[{\"colorbar\":{\"outlinewidth\":0,\"ticks\":\"\"},\"colorscale\":[[0.0,\"#0d0887\"],[0.1111111111111111,\"#46039f\"],[0.2222222222222222,\"#7201a8\"],[0.3333333333333333,\"#9c179e\"],[0.4444444444444444,\"#bd3786\"],[0.5555555555555556,\"#d8576b\"],[0.6666666666666666,\"#ed7953\"],[0.7777777777777778,\"#fb9f3a\"],[0.8888888888888888,\"#fdca26\"],[1.0,\"#f0f921\"]],\"type\":\"contour\"}],\"contourcarpet\":[{\"colorbar\":{\"outlinewidth\":0,\"ticks\":\"\"},\"type\":\"contourcarpet\"}],\"heatmap\":[{\"colorbar\":{\"outlinewidth\":0,\"ticks\":\"\"},\"colorscale\":[[0.0,\"#0d0887\"],[0.1111111111111111,\"#46039f\"],[0.2222222222222222,\"#7201a8\"],[0.3333333333333333,\"#9c179e\"],[0.4444444444444444,\"#bd3786\"],[0.5555555555555556,\"#d8576b\"],[0.6666666666666666,\"#ed7953\"],[0.7777777777777778,\"#fb9f3a\"],[0.8888888888888888,\"#fdca26\"],[1.0,\"#f0f921\"]],\"type\":\"heatmap\"}],\"heatmapgl\":[{\"colorbar\":{\"outlinewidth\":0,\"ticks\":\"\"},\"colorscale\":[[0.0,\"#0d0887\"],[0.1111111111111111,\"#46039f\"],[0.2222222222222222,\"#7201a8\"],[0.3333333333333333,\"#9c179e\"],[0.4444444444444444,\"#bd3786\"],[0.5555555555555556,\"#d8576b\"],[0.6666666666666666,\"#ed7953\"],[0.7777777777777778,\"#fb9f3a\"],[0.8888888888888888,\"#fdca26\"],[1.0,\"#f0f921\"]],\"type\":\"heatmapgl\"}],\"histogram\":[{\"marker\":{\"pattern\":{\"fillmode\":\"overlay\",\"size\":10,\"solidity\":0.2}},\"type\":\"histogram\"}],\"histogram2d\":[{\"colorbar\":{\"outlinewidth\":0,\"ticks\":\"\"},\"colorscale\":[[0.0,\"#0d0887\"],[0.1111111111111111,\"#46039f\"],[0.2222222222222222,\"#7201a8\"],[0.3333333333333333,\"#9c179e\"],[0.4444444444444444,\"#bd3786\"],[0.5555555555555556,\"#d8576b\"],[0.6666666666666666,\"#ed7953\"],[0.7777777777777778,\"#fb9f3a\"],[0.8888888888888888,\"#fdca26\"],[1.0,\"#f0f921\"]],\"type\":\"histogram2d\"}],\"histogram2dcontour\":[{\"colorbar\":{\"outlinewidth\":0,\"ticks\":\"\"},\"colorscale\":[[0.0,\"#0d0887\"],[0.1111111111111111,\"#46039f\"],[0.2222222222222222,\"#7201a8\"],[0.3333333333333333,\"#9c179e\"],[0.4444444444444444,\"#bd3786\"],[0.5555555555555556,\"#d8576b\"],[0.6666666666666666,\"#ed7953\"],[0.7777777777777778,\"#fb9f3a\"],[0.8888888888888888,\"#fdca26\"],[1.0,\"#f0f921\"]],\"type\":\"histogram2dcontour\"}],\"mesh3d\":[{\"colorbar\":{\"outlinewidth\":0,\"ticks\":\"\"},\"type\":\"mesh3d\"}],\"parcoords\":[{\"line\":{\"colorbar\":{\"outlinewidth\":0,\"ticks\":\"\"}},\"type\":\"parcoords\"}],\"pie\":[{\"automargin\":true,\"type\":\"pie\"}],\"scatter\":[{\"marker\":{\"colorbar\":{\"outlinewidth\":0,\"ticks\":\"\"}},\"type\":\"scatter\"}],\"scatter3d\":[{\"line\":{\"colorbar\":{\"outlinewidth\":0,\"ticks\":\"\"}},\"marker\":{\"colorbar\":{\"outlinewidth\":0,\"ticks\":\"\"}},\"type\":\"scatter3d\"}],\"scattercarpet\":[{\"marker\":{\"colorbar\":{\"outlinewidth\":0,\"ticks\":\"\"}},\"type\":\"scattercarpet\"}],\"scattergeo\":[{\"marker\":{\"colorbar\":{\"outlinewidth\":0,\"ticks\":\"\"}},\"type\":\"scattergeo\"}],\"scattergl\":[{\"marker\":{\"colorbar\":{\"outlinewidth\":0,\"ticks\":\"\"}},\"type\":\"scattergl\"}],\"scattermapbox\":[{\"marker\":{\"colorbar\":{\"outlinewidth\":0,\"ticks\":\"\"}},\"type\":\"scattermapbox\"}],\"scatterpolar\":[{\"marker\":{\"colorbar\":{\"outlinewidth\":0,\"ticks\":\"\"}},\"type\":\"scatterpolar\"}],\"scatterpolargl\":[{\"marker\":{\"colorbar\":{\"outlinewidth\":0,\"ticks\":\"\"}},\"type\":\"scatterpolargl\"}],\"scatterternary\":[{\"marker\":{\"colorbar\":{\"outlinewidth\":0,\"ticks\":\"\"}},\"type\":\"scatterternary\"}],\"surface\":[{\"colorbar\":{\"outlinewidth\":0,\"ticks\":\"\"},\"colorscale\":[[0.0,\"#0d0887\"],[0.1111111111111111,\"#46039f\"],[0.2222222222222222,\"#7201a8\"],[0.3333333333333333,\"#9c179e\"],[0.4444444444444444,\"#bd3786\"],[0.5555555555555556,\"#d8576b\"],[0.6666666666666666,\"#ed7953\"],[0.7777777777777778,\"#fb9f3a\"],[0.8888888888888888,\"#fdca26\"],[1.0,\"#f0f921\"]],\"type\":\"surface\"}],\"table\":[{\"cells\":{\"fill\":{\"color\":\"#EBF0F8\"},\"line\":{\"color\":\"white\"}},\"header\":{\"fill\":{\"color\":\"#C8D4E3\"},\"line\":{\"color\":\"white\"}},\"type\":\"table\"}]},\"layout\":{\"annotationdefaults\":{\"arrowcolor\":\"#2a3f5f\",\"arrowhead\":0,\"arrowwidth\":1},\"autotypenumbers\":\"strict\",\"coloraxis\":{\"colorbar\":{\"outlinewidth\":0,\"ticks\":\"\"}},\"colorscale\":{\"diverging\":[[0,\"#8e0152\"],[0.1,\"#c51b7d\"],[0.2,\"#de77ae\"],[0.3,\"#f1b6da\"],[0.4,\"#fde0ef\"],[0.5,\"#f7f7f7\"],[0.6,\"#e6f5d0\"],[0.7,\"#b8e186\"],[0.8,\"#7fbc41\"],[0.9,\"#4d9221\"],[1,\"#276419\"]],\"sequential\":[[0.0,\"#0d0887\"],[0.1111111111111111,\"#46039f\"],[0.2222222222222222,\"#7201a8\"],[0.3333333333333333,\"#9c179e\"],[0.4444444444444444,\"#bd3786\"],[0.5555555555555556,\"#d8576b\"],[0.6666666666666666,\"#ed7953\"],[0.7777777777777778,\"#fb9f3a\"],[0.8888888888888888,\"#fdca26\"],[1.0,\"#f0f921\"]],\"sequentialminus\":[[0.0,\"#0d0887\"],[0.1111111111111111,\"#46039f\"],[0.2222222222222222,\"#7201a8\"],[0.3333333333333333,\"#9c179e\"],[0.4444444444444444,\"#bd3786\"],[0.5555555555555556,\"#d8576b\"],[0.6666666666666666,\"#ed7953\"],[0.7777777777777778,\"#fb9f3a\"],[0.8888888888888888,\"#fdca26\"],[1.0,\"#f0f921\"]]},\"colorway\":[\"#636efa\",\"#EF553B\",\"#00cc96\",\"#ab63fa\",\"#FFA15A\",\"#19d3f3\",\"#FF6692\",\"#B6E880\",\"#FF97FF\",\"#FECB52\"],\"font\":{\"color\":\"#2a3f5f\"},\"geo\":{\"bgcolor\":\"white\",\"lakecolor\":\"white\",\"landcolor\":\"#E5ECF6\",\"showlakes\":true,\"showland\":true,\"subunitcolor\":\"white\"},\"hoverlabel\":{\"align\":\"left\"},\"hovermode\":\"closest\",\"mapbox\":{\"style\":\"light\"},\"paper_bgcolor\":\"white\",\"plot_bgcolor\":\"#E5ECF6\",\"polar\":{\"angularaxis\":{\"gridcolor\":\"white\",\"linecolor\":\"white\",\"ticks\":\"\"},\"bgcolor\":\"#E5ECF6\",\"radialaxis\":{\"gridcolor\":\"white\",\"linecolor\":\"white\",\"ticks\":\"\"}},\"scene\":{\"xaxis\":{\"backgroundcolor\":\"#E5ECF6\",\"gridcolor\":\"white\",\"gridwidth\":2,\"linecolor\":\"white\",\"showbackground\":true,\"ticks\":\"\",\"zerolinecolor\":\"white\"},\"yaxis\":{\"backgroundcolor\":\"#E5ECF6\",\"gridcolor\":\"white\",\"gridwidth\":2,\"linecolor\":\"white\",\"showbackground\":true,\"ticks\":\"\",\"zerolinecolor\":\"white\"},\"zaxis\":{\"backgroundcolor\":\"#E5ECF6\",\"gridcolor\":\"white\",\"gridwidth\":2,\"linecolor\":\"white\",\"showbackground\":true,\"ticks\":\"\",\"zerolinecolor\":\"white\"}},\"shapedefaults\":{\"line\":{\"color\":\"#2a3f5f\"}},\"ternary\":{\"aaxis\":{\"gridcolor\":\"white\",\"linecolor\":\"white\",\"ticks\":\"\"},\"baxis\":{\"gridcolor\":\"white\",\"linecolor\":\"white\",\"ticks\":\"\"},\"bgcolor\":\"#E5ECF6\",\"caxis\":{\"gridcolor\":\"white\",\"linecolor\":\"white\",\"ticks\":\"\"}},\"title\":{\"x\":0.05},\"xaxis\":{\"automargin\":true,\"gridcolor\":\"white\",\"linecolor\":\"white\",\"ticks\":\"\",\"title\":{\"standoff\":15},\"zerolinecolor\":\"white\",\"zerolinewidth\":2},\"yaxis\":{\"automargin\":true,\"gridcolor\":\"white\",\"linecolor\":\"white\",\"ticks\":\"\",\"title\":{\"standoff\":15},\"zerolinecolor\":\"white\",\"zerolinewidth\":2}}},\"legend\":{\"title\":{\"text\":\"County\"},\"tracegroupgap\":0},\"margin\":{\"t\":60},\"dragmode\":\"select\"},                        {\"responsive\": true}                    ).then(function(){\n",
       "                            \n",
       "var gd = document.getElementById('8e52a45a-6322-49f4-ad3f-f873666ea63c');\n",
       "var x = new MutationObserver(function (mutations, observer) {{\n",
       "        var display = window.getComputedStyle(gd).display;\n",
       "        if (!display || display === 'none') {{\n",
       "            console.log([gd, 'removed!']);\n",
       "            Plotly.purge(gd);\n",
       "            observer.disconnect();\n",
       "        }}\n",
       "}});\n",
       "\n",
       "// Listen for the removal of the full notebook cells\n",
       "var notebookContainer = gd.closest('#notebook-container');\n",
       "if (notebookContainer) {{\n",
       "    x.observe(notebookContainer, {childList: true});\n",
       "}}\n",
       "\n",
       "// Listen for the clearing of the current output cell\n",
       "var outputEl = gd.closest('.output');\n",
       "if (outputEl) {{\n",
       "    x.observe(outputEl, {childList: true});\n",
       "}}\n",
       "\n",
       "                        })                };                });            </script>        </div>"
      ]
     },
     "metadata": {},
     "output_type": "display_data"
    }
   ],
   "source": [
    "# Scatter plot Matrix\n",
    "features = crime_df[[\"County\", \"Year\", \"Violent_Offenses\", \"NonViolent_Offenses\"]]\n",
    "\n",
    "fig = px.scatter_matrix(\n",
    "    outer_hou_df,\n",
    "    dimensions=features,\n",
    "    color=\"County\"\n",
    ")\n",
    "\n",
    "fig.show()"
   ]
  },
  {
   "cell_type": "markdown",
   "id": "410a7410",
   "metadata": {},
   "source": [
    "## Looking at Houston Area Crime not including Harris County"
   ]
  },
  {
   "cell_type": "code",
   "execution_count": 7,
   "id": "cc75c30f",
   "metadata": {},
   "outputs": [
    {
     "data": {
      "application/vnd.plotly.v1+json": {
       "config": {
        "plotlyServerURL": "https://plot.ly"
       },
       "data": [
        {
         "domain": {
          "x": [
           0,
           1
          ],
          "y": [
           0,
           1
          ]
         },
         "hovertemplate": "County=%{label}<br>Total_Crime=%{value}<extra></extra>",
         "labels": [
          "Austin County",
          "Austin County",
          "Austin County",
          "Austin County",
          "Austin County",
          "Austin County",
          "Brazoria County",
          "Brazoria County",
          "Brazoria County",
          "Brazoria County",
          "Brazoria County",
          "Brazoria County",
          "Brazos County",
          "Brazos County",
          "Brazos County",
          "Brazos County",
          "Brazos County",
          "Brazos County",
          "Chambers County",
          "Chambers County",
          "Chambers County",
          "Chambers County",
          "Chambers County",
          "Chambers County",
          "Fort Bend County",
          "Fort Bend County",
          "Fort Bend County",
          "Fort Bend County",
          "Fort Bend County",
          "Fort Bend County",
          "Galveston County",
          "Galveston County",
          "Galveston County",
          "Galveston County",
          "Galveston County",
          "Galveston County",
          "Grimes County",
          "Grimes County",
          "Grimes County",
          "Grimes County",
          "Grimes County",
          "Grimes County",
          "Liberty County",
          "Liberty County",
          "Liberty County",
          "Liberty County",
          "Liberty County",
          "Liberty County",
          "Matagorda County",
          "Matagorda County",
          "Matagorda County",
          "Matagorda County",
          "Matagorda County",
          "Matagorda County",
          "Montgomery County",
          "Montgomery County",
          "Montgomery County",
          "Montgomery County",
          "Montgomery County",
          "Montgomery County",
          "Polk County",
          "Polk County",
          "Polk County",
          "Polk County",
          "Polk County",
          "Polk County",
          "San Jacinto County",
          "San Jacinto County",
          "San Jacinto County",
          "San Jacinto County",
          "San Jacinto County",
          "San Jacinto County",
          "Walker County",
          "Walker County",
          "Walker County",
          "Walker County",
          "Walker County",
          "Walker County",
          "Waller County",
          "Waller County",
          "Waller County",
          "Waller County",
          "Waller County",
          "Waller County",
          "Washington County",
          "Washington County",
          "Washington County",
          "Washington County",
          "Washington County",
          "Washington County",
          "Wharton County",
          "Wharton County",
          "Wharton County",
          "Wharton County",
          "Wharton County",
          "Wharton County"
         ],
         "legendgroup": "",
         "name": "",
         "showlegend": true,
         "type": "pie",
         "values": [
          482,
          466,
          376,
          295,
          302,
          281,
          6555,
          6511,
          6079,
          6050,
          6899,
          6210,
          6533,
          6373,
          5679,
          5833,
          5359,
          5312,
          971,
          995,
          820,
          787,
          869,
          858,
          11597,
          10438,
          9816,
          9656,
          10484,
          9954,
          9177,
          9844,
          9319,
          8788,
          7955,
          8316,
          553,
          541,
          366,
          332,
          365,
          417,
          2239,
          2005,
          823,
          1706,
          1849,
          1708,
          1262,
          1363,
          1201,
          1273,
          1310,
          1158,
          9817,
          8886,
          7735,
          8891,
          9192,
          8361,
          938,
          1013,
          964,
          950,
          1173,
          979,
          535,
          409,
          522,
          402,
          374,
          749,
          1439,
          1289,
          1121,
          1087,
          1159,
          1080,
          956,
          865,
          826,
          987,
          852,
          823,
          620,
          591,
          591,
          563,
          644,
          503,
          1231,
          1268,
          1086,
          868,
          944,
          949
         ]
        }
       ],
       "layout": {
        "legend": {
         "tracegroupgap": 0
        },
        "margin": {
         "t": 60
        },
        "template": {
         "data": {
          "bar": [
           {
            "error_x": {
             "color": "#2a3f5f"
            },
            "error_y": {
             "color": "#2a3f5f"
            },
            "marker": {
             "line": {
              "color": "#E5ECF6",
              "width": 0.5
             },
             "pattern": {
              "fillmode": "overlay",
              "size": 10,
              "solidity": 0.2
             }
            },
            "type": "bar"
           }
          ],
          "barpolar": [
           {
            "marker": {
             "line": {
              "color": "#E5ECF6",
              "width": 0.5
             },
             "pattern": {
              "fillmode": "overlay",
              "size": 10,
              "solidity": 0.2
             }
            },
            "type": "barpolar"
           }
          ],
          "carpet": [
           {
            "aaxis": {
             "endlinecolor": "#2a3f5f",
             "gridcolor": "white",
             "linecolor": "white",
             "minorgridcolor": "white",
             "startlinecolor": "#2a3f5f"
            },
            "baxis": {
             "endlinecolor": "#2a3f5f",
             "gridcolor": "white",
             "linecolor": "white",
             "minorgridcolor": "white",
             "startlinecolor": "#2a3f5f"
            },
            "type": "carpet"
           }
          ],
          "choropleth": [
           {
            "colorbar": {
             "outlinewidth": 0,
             "ticks": ""
            },
            "type": "choropleth"
           }
          ],
          "contour": [
           {
            "colorbar": {
             "outlinewidth": 0,
             "ticks": ""
            },
            "colorscale": [
             [
              0,
              "#0d0887"
             ],
             [
              0.1111111111111111,
              "#46039f"
             ],
             [
              0.2222222222222222,
              "#7201a8"
             ],
             [
              0.3333333333333333,
              "#9c179e"
             ],
             [
              0.4444444444444444,
              "#bd3786"
             ],
             [
              0.5555555555555556,
              "#d8576b"
             ],
             [
              0.6666666666666666,
              "#ed7953"
             ],
             [
              0.7777777777777778,
              "#fb9f3a"
             ],
             [
              0.8888888888888888,
              "#fdca26"
             ],
             [
              1,
              "#f0f921"
             ]
            ],
            "type": "contour"
           }
          ],
          "contourcarpet": [
           {
            "colorbar": {
             "outlinewidth": 0,
             "ticks": ""
            },
            "type": "contourcarpet"
           }
          ],
          "heatmap": [
           {
            "colorbar": {
             "outlinewidth": 0,
             "ticks": ""
            },
            "colorscale": [
             [
              0,
              "#0d0887"
             ],
             [
              0.1111111111111111,
              "#46039f"
             ],
             [
              0.2222222222222222,
              "#7201a8"
             ],
             [
              0.3333333333333333,
              "#9c179e"
             ],
             [
              0.4444444444444444,
              "#bd3786"
             ],
             [
              0.5555555555555556,
              "#d8576b"
             ],
             [
              0.6666666666666666,
              "#ed7953"
             ],
             [
              0.7777777777777778,
              "#fb9f3a"
             ],
             [
              0.8888888888888888,
              "#fdca26"
             ],
             [
              1,
              "#f0f921"
             ]
            ],
            "type": "heatmap"
           }
          ],
          "heatmapgl": [
           {
            "colorbar": {
             "outlinewidth": 0,
             "ticks": ""
            },
            "colorscale": [
             [
              0,
              "#0d0887"
             ],
             [
              0.1111111111111111,
              "#46039f"
             ],
             [
              0.2222222222222222,
              "#7201a8"
             ],
             [
              0.3333333333333333,
              "#9c179e"
             ],
             [
              0.4444444444444444,
              "#bd3786"
             ],
             [
              0.5555555555555556,
              "#d8576b"
             ],
             [
              0.6666666666666666,
              "#ed7953"
             ],
             [
              0.7777777777777778,
              "#fb9f3a"
             ],
             [
              0.8888888888888888,
              "#fdca26"
             ],
             [
              1,
              "#f0f921"
             ]
            ],
            "type": "heatmapgl"
           }
          ],
          "histogram": [
           {
            "marker": {
             "pattern": {
              "fillmode": "overlay",
              "size": 10,
              "solidity": 0.2
             }
            },
            "type": "histogram"
           }
          ],
          "histogram2d": [
           {
            "colorbar": {
             "outlinewidth": 0,
             "ticks": ""
            },
            "colorscale": [
             [
              0,
              "#0d0887"
             ],
             [
              0.1111111111111111,
              "#46039f"
             ],
             [
              0.2222222222222222,
              "#7201a8"
             ],
             [
              0.3333333333333333,
              "#9c179e"
             ],
             [
              0.4444444444444444,
              "#bd3786"
             ],
             [
              0.5555555555555556,
              "#d8576b"
             ],
             [
              0.6666666666666666,
              "#ed7953"
             ],
             [
              0.7777777777777778,
              "#fb9f3a"
             ],
             [
              0.8888888888888888,
              "#fdca26"
             ],
             [
              1,
              "#f0f921"
             ]
            ],
            "type": "histogram2d"
           }
          ],
          "histogram2dcontour": [
           {
            "colorbar": {
             "outlinewidth": 0,
             "ticks": ""
            },
            "colorscale": [
             [
              0,
              "#0d0887"
             ],
             [
              0.1111111111111111,
              "#46039f"
             ],
             [
              0.2222222222222222,
              "#7201a8"
             ],
             [
              0.3333333333333333,
              "#9c179e"
             ],
             [
              0.4444444444444444,
              "#bd3786"
             ],
             [
              0.5555555555555556,
              "#d8576b"
             ],
             [
              0.6666666666666666,
              "#ed7953"
             ],
             [
              0.7777777777777778,
              "#fb9f3a"
             ],
             [
              0.8888888888888888,
              "#fdca26"
             ],
             [
              1,
              "#f0f921"
             ]
            ],
            "type": "histogram2dcontour"
           }
          ],
          "mesh3d": [
           {
            "colorbar": {
             "outlinewidth": 0,
             "ticks": ""
            },
            "type": "mesh3d"
           }
          ],
          "parcoords": [
           {
            "line": {
             "colorbar": {
              "outlinewidth": 0,
              "ticks": ""
             }
            },
            "type": "parcoords"
           }
          ],
          "pie": [
           {
            "automargin": true,
            "type": "pie"
           }
          ],
          "scatter": [
           {
            "marker": {
             "colorbar": {
              "outlinewidth": 0,
              "ticks": ""
             }
            },
            "type": "scatter"
           }
          ],
          "scatter3d": [
           {
            "line": {
             "colorbar": {
              "outlinewidth": 0,
              "ticks": ""
             }
            },
            "marker": {
             "colorbar": {
              "outlinewidth": 0,
              "ticks": ""
             }
            },
            "type": "scatter3d"
           }
          ],
          "scattercarpet": [
           {
            "marker": {
             "colorbar": {
              "outlinewidth": 0,
              "ticks": ""
             }
            },
            "type": "scattercarpet"
           }
          ],
          "scattergeo": [
           {
            "marker": {
             "colorbar": {
              "outlinewidth": 0,
              "ticks": ""
             }
            },
            "type": "scattergeo"
           }
          ],
          "scattergl": [
           {
            "marker": {
             "colorbar": {
              "outlinewidth": 0,
              "ticks": ""
             }
            },
            "type": "scattergl"
           }
          ],
          "scattermapbox": [
           {
            "marker": {
             "colorbar": {
              "outlinewidth": 0,
              "ticks": ""
             }
            },
            "type": "scattermapbox"
           }
          ],
          "scatterpolar": [
           {
            "marker": {
             "colorbar": {
              "outlinewidth": 0,
              "ticks": ""
             }
            },
            "type": "scatterpolar"
           }
          ],
          "scatterpolargl": [
           {
            "marker": {
             "colorbar": {
              "outlinewidth": 0,
              "ticks": ""
             }
            },
            "type": "scatterpolargl"
           }
          ],
          "scatterternary": [
           {
            "marker": {
             "colorbar": {
              "outlinewidth": 0,
              "ticks": ""
             }
            },
            "type": "scatterternary"
           }
          ],
          "surface": [
           {
            "colorbar": {
             "outlinewidth": 0,
             "ticks": ""
            },
            "colorscale": [
             [
              0,
              "#0d0887"
             ],
             [
              0.1111111111111111,
              "#46039f"
             ],
             [
              0.2222222222222222,
              "#7201a8"
             ],
             [
              0.3333333333333333,
              "#9c179e"
             ],
             [
              0.4444444444444444,
              "#bd3786"
             ],
             [
              0.5555555555555556,
              "#d8576b"
             ],
             [
              0.6666666666666666,
              "#ed7953"
             ],
             [
              0.7777777777777778,
              "#fb9f3a"
             ],
             [
              0.8888888888888888,
              "#fdca26"
             ],
             [
              1,
              "#f0f921"
             ]
            ],
            "type": "surface"
           }
          ],
          "table": [
           {
            "cells": {
             "fill": {
              "color": "#EBF0F8"
             },
             "line": {
              "color": "white"
             }
            },
            "header": {
             "fill": {
              "color": "#C8D4E3"
             },
             "line": {
              "color": "white"
             }
            },
            "type": "table"
           }
          ]
         },
         "layout": {
          "annotationdefaults": {
           "arrowcolor": "#2a3f5f",
           "arrowhead": 0,
           "arrowwidth": 1
          },
          "autotypenumbers": "strict",
          "coloraxis": {
           "colorbar": {
            "outlinewidth": 0,
            "ticks": ""
           }
          },
          "colorscale": {
           "diverging": [
            [
             0,
             "#8e0152"
            ],
            [
             0.1,
             "#c51b7d"
            ],
            [
             0.2,
             "#de77ae"
            ],
            [
             0.3,
             "#f1b6da"
            ],
            [
             0.4,
             "#fde0ef"
            ],
            [
             0.5,
             "#f7f7f7"
            ],
            [
             0.6,
             "#e6f5d0"
            ],
            [
             0.7,
             "#b8e186"
            ],
            [
             0.8,
             "#7fbc41"
            ],
            [
             0.9,
             "#4d9221"
            ],
            [
             1,
             "#276419"
            ]
           ],
           "sequential": [
            [
             0,
             "#0d0887"
            ],
            [
             0.1111111111111111,
             "#46039f"
            ],
            [
             0.2222222222222222,
             "#7201a8"
            ],
            [
             0.3333333333333333,
             "#9c179e"
            ],
            [
             0.4444444444444444,
             "#bd3786"
            ],
            [
             0.5555555555555556,
             "#d8576b"
            ],
            [
             0.6666666666666666,
             "#ed7953"
            ],
            [
             0.7777777777777778,
             "#fb9f3a"
            ],
            [
             0.8888888888888888,
             "#fdca26"
            ],
            [
             1,
             "#f0f921"
            ]
           ],
           "sequentialminus": [
            [
             0,
             "#0d0887"
            ],
            [
             0.1111111111111111,
             "#46039f"
            ],
            [
             0.2222222222222222,
             "#7201a8"
            ],
            [
             0.3333333333333333,
             "#9c179e"
            ],
            [
             0.4444444444444444,
             "#bd3786"
            ],
            [
             0.5555555555555556,
             "#d8576b"
            ],
            [
             0.6666666666666666,
             "#ed7953"
            ],
            [
             0.7777777777777778,
             "#fb9f3a"
            ],
            [
             0.8888888888888888,
             "#fdca26"
            ],
            [
             1,
             "#f0f921"
            ]
           ]
          },
          "colorway": [
           "#636efa",
           "#EF553B",
           "#00cc96",
           "#ab63fa",
           "#FFA15A",
           "#19d3f3",
           "#FF6692",
           "#B6E880",
           "#FF97FF",
           "#FECB52"
          ],
          "font": {
           "color": "#2a3f5f"
          },
          "geo": {
           "bgcolor": "white",
           "lakecolor": "white",
           "landcolor": "#E5ECF6",
           "showlakes": true,
           "showland": true,
           "subunitcolor": "white"
          },
          "hoverlabel": {
           "align": "left"
          },
          "hovermode": "closest",
          "mapbox": {
           "style": "light"
          },
          "paper_bgcolor": "white",
          "plot_bgcolor": "#E5ECF6",
          "polar": {
           "angularaxis": {
            "gridcolor": "white",
            "linecolor": "white",
            "ticks": ""
           },
           "bgcolor": "#E5ECF6",
           "radialaxis": {
            "gridcolor": "white",
            "linecolor": "white",
            "ticks": ""
           }
          },
          "scene": {
           "xaxis": {
            "backgroundcolor": "#E5ECF6",
            "gridcolor": "white",
            "gridwidth": 2,
            "linecolor": "white",
            "showbackground": true,
            "ticks": "",
            "zerolinecolor": "white"
           },
           "yaxis": {
            "backgroundcolor": "#E5ECF6",
            "gridcolor": "white",
            "gridwidth": 2,
            "linecolor": "white",
            "showbackground": true,
            "ticks": "",
            "zerolinecolor": "white"
           },
           "zaxis": {
            "backgroundcolor": "#E5ECF6",
            "gridcolor": "white",
            "gridwidth": 2,
            "linecolor": "white",
            "showbackground": true,
            "ticks": "",
            "zerolinecolor": "white"
           }
          },
          "shapedefaults": {
           "line": {
            "color": "#2a3f5f"
           }
          },
          "ternary": {
           "aaxis": {
            "gridcolor": "white",
            "linecolor": "white",
            "ticks": ""
           },
           "baxis": {
            "gridcolor": "white",
            "linecolor": "white",
            "ticks": ""
           },
           "bgcolor": "#E5ECF6",
           "caxis": {
            "gridcolor": "white",
            "linecolor": "white",
            "ticks": ""
           }
          },
          "title": {
           "x": 0.05
          },
          "xaxis": {
           "automargin": true,
           "gridcolor": "white",
           "linecolor": "white",
           "ticks": "",
           "title": {
            "standoff": 15
           },
           "zerolinecolor": "white",
           "zerolinewidth": 2
          },
          "yaxis": {
           "automargin": true,
           "gridcolor": "white",
           "linecolor": "white",
           "ticks": "",
           "title": {
            "standoff": 15
           },
           "zerolinecolor": "white",
           "zerolinewidth": 2
          }
         }
        }
       }
      },
      "text/html": [
       "<div>                            <div id=\"ae9a5331-278b-4775-b5e4-0396d90921ad\" class=\"plotly-graph-div\" style=\"height:525px; width:100%;\"></div>            <script type=\"text/javascript\">                require([\"plotly\"], function(Plotly) {                    window.PLOTLYENV=window.PLOTLYENV || {};                                    if (document.getElementById(\"ae9a5331-278b-4775-b5e4-0396d90921ad\")) {                    Plotly.newPlot(                        \"ae9a5331-278b-4775-b5e4-0396d90921ad\",                        [{\"domain\":{\"x\":[0.0,1.0],\"y\":[0.0,1.0]},\"hovertemplate\":\"County=%{label}<br>Total_Crime=%{value}<extra></extra>\",\"labels\":[\"Austin County\",\"Austin County\",\"Austin County\",\"Austin County\",\"Austin County\",\"Austin County\",\"Brazoria County\",\"Brazoria County\",\"Brazoria County\",\"Brazoria County\",\"Brazoria County\",\"Brazoria County\",\"Brazos County\",\"Brazos County\",\"Brazos County\",\"Brazos County\",\"Brazos County\",\"Brazos County\",\"Chambers County\",\"Chambers County\",\"Chambers County\",\"Chambers County\",\"Chambers County\",\"Chambers County\",\"Fort Bend County\",\"Fort Bend County\",\"Fort Bend County\",\"Fort Bend County\",\"Fort Bend County\",\"Fort Bend County\",\"Galveston County\",\"Galveston County\",\"Galveston County\",\"Galveston County\",\"Galveston County\",\"Galveston County\",\"Grimes County\",\"Grimes County\",\"Grimes County\",\"Grimes County\",\"Grimes County\",\"Grimes County\",\"Liberty County\",\"Liberty County\",\"Liberty County\",\"Liberty County\",\"Liberty County\",\"Liberty County\",\"Matagorda County\",\"Matagorda County\",\"Matagorda County\",\"Matagorda County\",\"Matagorda County\",\"Matagorda County\",\"Montgomery County\",\"Montgomery County\",\"Montgomery County\",\"Montgomery County\",\"Montgomery County\",\"Montgomery County\",\"Polk County\",\"Polk County\",\"Polk County\",\"Polk County\",\"Polk County\",\"Polk County\",\"San Jacinto County\",\"San Jacinto County\",\"San Jacinto County\",\"San Jacinto County\",\"San Jacinto County\",\"San Jacinto County\",\"Walker County\",\"Walker County\",\"Walker County\",\"Walker County\",\"Walker County\",\"Walker County\",\"Waller County\",\"Waller County\",\"Waller County\",\"Waller County\",\"Waller County\",\"Waller County\",\"Washington County\",\"Washington County\",\"Washington County\",\"Washington County\",\"Washington County\",\"Washington County\",\"Wharton County\",\"Wharton County\",\"Wharton County\",\"Wharton County\",\"Wharton County\",\"Wharton County\"],\"legendgroup\":\"\",\"name\":\"\",\"showlegend\":true,\"values\":[482,466,376,295,302,281,6555,6511,6079,6050,6899,6210,6533,6373,5679,5833,5359,5312,971,995,820,787,869,858,11597,10438,9816,9656,10484,9954,9177,9844,9319,8788,7955,8316,553,541,366,332,365,417,2239,2005,823,1706,1849,1708,1262,1363,1201,1273,1310,1158,9817,8886,7735,8891,9192,8361,938,1013,964,950,1173,979,535,409,522,402,374,749,1439,1289,1121,1087,1159,1080,956,865,826,987,852,823,620,591,591,563,644,503,1231,1268,1086,868,944,949],\"type\":\"pie\"}],                        {\"template\":{\"data\":{\"bar\":[{\"error_x\":{\"color\":\"#2a3f5f\"},\"error_y\":{\"color\":\"#2a3f5f\"},\"marker\":{\"line\":{\"color\":\"#E5ECF6\",\"width\":0.5},\"pattern\":{\"fillmode\":\"overlay\",\"size\":10,\"solidity\":0.2}},\"type\":\"bar\"}],\"barpolar\":[{\"marker\":{\"line\":{\"color\":\"#E5ECF6\",\"width\":0.5},\"pattern\":{\"fillmode\":\"overlay\",\"size\":10,\"solidity\":0.2}},\"type\":\"barpolar\"}],\"carpet\":[{\"aaxis\":{\"endlinecolor\":\"#2a3f5f\",\"gridcolor\":\"white\",\"linecolor\":\"white\",\"minorgridcolor\":\"white\",\"startlinecolor\":\"#2a3f5f\"},\"baxis\":{\"endlinecolor\":\"#2a3f5f\",\"gridcolor\":\"white\",\"linecolor\":\"white\",\"minorgridcolor\":\"white\",\"startlinecolor\":\"#2a3f5f\"},\"type\":\"carpet\"}],\"choropleth\":[{\"colorbar\":{\"outlinewidth\":0,\"ticks\":\"\"},\"type\":\"choropleth\"}],\"contour\":[{\"colorbar\":{\"outlinewidth\":0,\"ticks\":\"\"},\"colorscale\":[[0.0,\"#0d0887\"],[0.1111111111111111,\"#46039f\"],[0.2222222222222222,\"#7201a8\"],[0.3333333333333333,\"#9c179e\"],[0.4444444444444444,\"#bd3786\"],[0.5555555555555556,\"#d8576b\"],[0.6666666666666666,\"#ed7953\"],[0.7777777777777778,\"#fb9f3a\"],[0.8888888888888888,\"#fdca26\"],[1.0,\"#f0f921\"]],\"type\":\"contour\"}],\"contourcarpet\":[{\"colorbar\":{\"outlinewidth\":0,\"ticks\":\"\"},\"type\":\"contourcarpet\"}],\"heatmap\":[{\"colorbar\":{\"outlinewidth\":0,\"ticks\":\"\"},\"colorscale\":[[0.0,\"#0d0887\"],[0.1111111111111111,\"#46039f\"],[0.2222222222222222,\"#7201a8\"],[0.3333333333333333,\"#9c179e\"],[0.4444444444444444,\"#bd3786\"],[0.5555555555555556,\"#d8576b\"],[0.6666666666666666,\"#ed7953\"],[0.7777777777777778,\"#fb9f3a\"],[0.8888888888888888,\"#fdca26\"],[1.0,\"#f0f921\"]],\"type\":\"heatmap\"}],\"heatmapgl\":[{\"colorbar\":{\"outlinewidth\":0,\"ticks\":\"\"},\"colorscale\":[[0.0,\"#0d0887\"],[0.1111111111111111,\"#46039f\"],[0.2222222222222222,\"#7201a8\"],[0.3333333333333333,\"#9c179e\"],[0.4444444444444444,\"#bd3786\"],[0.5555555555555556,\"#d8576b\"],[0.6666666666666666,\"#ed7953\"],[0.7777777777777778,\"#fb9f3a\"],[0.8888888888888888,\"#fdca26\"],[1.0,\"#f0f921\"]],\"type\":\"heatmapgl\"}],\"histogram\":[{\"marker\":{\"pattern\":{\"fillmode\":\"overlay\",\"size\":10,\"solidity\":0.2}},\"type\":\"histogram\"}],\"histogram2d\":[{\"colorbar\":{\"outlinewidth\":0,\"ticks\":\"\"},\"colorscale\":[[0.0,\"#0d0887\"],[0.1111111111111111,\"#46039f\"],[0.2222222222222222,\"#7201a8\"],[0.3333333333333333,\"#9c179e\"],[0.4444444444444444,\"#bd3786\"],[0.5555555555555556,\"#d8576b\"],[0.6666666666666666,\"#ed7953\"],[0.7777777777777778,\"#fb9f3a\"],[0.8888888888888888,\"#fdca26\"],[1.0,\"#f0f921\"]],\"type\":\"histogram2d\"}],\"histogram2dcontour\":[{\"colorbar\":{\"outlinewidth\":0,\"ticks\":\"\"},\"colorscale\":[[0.0,\"#0d0887\"],[0.1111111111111111,\"#46039f\"],[0.2222222222222222,\"#7201a8\"],[0.3333333333333333,\"#9c179e\"],[0.4444444444444444,\"#bd3786\"],[0.5555555555555556,\"#d8576b\"],[0.6666666666666666,\"#ed7953\"],[0.7777777777777778,\"#fb9f3a\"],[0.8888888888888888,\"#fdca26\"],[1.0,\"#f0f921\"]],\"type\":\"histogram2dcontour\"}],\"mesh3d\":[{\"colorbar\":{\"outlinewidth\":0,\"ticks\":\"\"},\"type\":\"mesh3d\"}],\"parcoords\":[{\"line\":{\"colorbar\":{\"outlinewidth\":0,\"ticks\":\"\"}},\"type\":\"parcoords\"}],\"pie\":[{\"automargin\":true,\"type\":\"pie\"}],\"scatter\":[{\"marker\":{\"colorbar\":{\"outlinewidth\":0,\"ticks\":\"\"}},\"type\":\"scatter\"}],\"scatter3d\":[{\"line\":{\"colorbar\":{\"outlinewidth\":0,\"ticks\":\"\"}},\"marker\":{\"colorbar\":{\"outlinewidth\":0,\"ticks\":\"\"}},\"type\":\"scatter3d\"}],\"scattercarpet\":[{\"marker\":{\"colorbar\":{\"outlinewidth\":0,\"ticks\":\"\"}},\"type\":\"scattercarpet\"}],\"scattergeo\":[{\"marker\":{\"colorbar\":{\"outlinewidth\":0,\"ticks\":\"\"}},\"type\":\"scattergeo\"}],\"scattergl\":[{\"marker\":{\"colorbar\":{\"outlinewidth\":0,\"ticks\":\"\"}},\"type\":\"scattergl\"}],\"scattermapbox\":[{\"marker\":{\"colorbar\":{\"outlinewidth\":0,\"ticks\":\"\"}},\"type\":\"scattermapbox\"}],\"scatterpolar\":[{\"marker\":{\"colorbar\":{\"outlinewidth\":0,\"ticks\":\"\"}},\"type\":\"scatterpolar\"}],\"scatterpolargl\":[{\"marker\":{\"colorbar\":{\"outlinewidth\":0,\"ticks\":\"\"}},\"type\":\"scatterpolargl\"}],\"scatterternary\":[{\"marker\":{\"colorbar\":{\"outlinewidth\":0,\"ticks\":\"\"}},\"type\":\"scatterternary\"}],\"surface\":[{\"colorbar\":{\"outlinewidth\":0,\"ticks\":\"\"},\"colorscale\":[[0.0,\"#0d0887\"],[0.1111111111111111,\"#46039f\"],[0.2222222222222222,\"#7201a8\"],[0.3333333333333333,\"#9c179e\"],[0.4444444444444444,\"#bd3786\"],[0.5555555555555556,\"#d8576b\"],[0.6666666666666666,\"#ed7953\"],[0.7777777777777778,\"#fb9f3a\"],[0.8888888888888888,\"#fdca26\"],[1.0,\"#f0f921\"]],\"type\":\"surface\"}],\"table\":[{\"cells\":{\"fill\":{\"color\":\"#EBF0F8\"},\"line\":{\"color\":\"white\"}},\"header\":{\"fill\":{\"color\":\"#C8D4E3\"},\"line\":{\"color\":\"white\"}},\"type\":\"table\"}]},\"layout\":{\"annotationdefaults\":{\"arrowcolor\":\"#2a3f5f\",\"arrowhead\":0,\"arrowwidth\":1},\"autotypenumbers\":\"strict\",\"coloraxis\":{\"colorbar\":{\"outlinewidth\":0,\"ticks\":\"\"}},\"colorscale\":{\"diverging\":[[0,\"#8e0152\"],[0.1,\"#c51b7d\"],[0.2,\"#de77ae\"],[0.3,\"#f1b6da\"],[0.4,\"#fde0ef\"],[0.5,\"#f7f7f7\"],[0.6,\"#e6f5d0\"],[0.7,\"#b8e186\"],[0.8,\"#7fbc41\"],[0.9,\"#4d9221\"],[1,\"#276419\"]],\"sequential\":[[0.0,\"#0d0887\"],[0.1111111111111111,\"#46039f\"],[0.2222222222222222,\"#7201a8\"],[0.3333333333333333,\"#9c179e\"],[0.4444444444444444,\"#bd3786\"],[0.5555555555555556,\"#d8576b\"],[0.6666666666666666,\"#ed7953\"],[0.7777777777777778,\"#fb9f3a\"],[0.8888888888888888,\"#fdca26\"],[1.0,\"#f0f921\"]],\"sequentialminus\":[[0.0,\"#0d0887\"],[0.1111111111111111,\"#46039f\"],[0.2222222222222222,\"#7201a8\"],[0.3333333333333333,\"#9c179e\"],[0.4444444444444444,\"#bd3786\"],[0.5555555555555556,\"#d8576b\"],[0.6666666666666666,\"#ed7953\"],[0.7777777777777778,\"#fb9f3a\"],[0.8888888888888888,\"#fdca26\"],[1.0,\"#f0f921\"]]},\"colorway\":[\"#636efa\",\"#EF553B\",\"#00cc96\",\"#ab63fa\",\"#FFA15A\",\"#19d3f3\",\"#FF6692\",\"#B6E880\",\"#FF97FF\",\"#FECB52\"],\"font\":{\"color\":\"#2a3f5f\"},\"geo\":{\"bgcolor\":\"white\",\"lakecolor\":\"white\",\"landcolor\":\"#E5ECF6\",\"showlakes\":true,\"showland\":true,\"subunitcolor\":\"white\"},\"hoverlabel\":{\"align\":\"left\"},\"hovermode\":\"closest\",\"mapbox\":{\"style\":\"light\"},\"paper_bgcolor\":\"white\",\"plot_bgcolor\":\"#E5ECF6\",\"polar\":{\"angularaxis\":{\"gridcolor\":\"white\",\"linecolor\":\"white\",\"ticks\":\"\"},\"bgcolor\":\"#E5ECF6\",\"radialaxis\":{\"gridcolor\":\"white\",\"linecolor\":\"white\",\"ticks\":\"\"}},\"scene\":{\"xaxis\":{\"backgroundcolor\":\"#E5ECF6\",\"gridcolor\":\"white\",\"gridwidth\":2,\"linecolor\":\"white\",\"showbackground\":true,\"ticks\":\"\",\"zerolinecolor\":\"white\"},\"yaxis\":{\"backgroundcolor\":\"#E5ECF6\",\"gridcolor\":\"white\",\"gridwidth\":2,\"linecolor\":\"white\",\"showbackground\":true,\"ticks\":\"\",\"zerolinecolor\":\"white\"},\"zaxis\":{\"backgroundcolor\":\"#E5ECF6\",\"gridcolor\":\"white\",\"gridwidth\":2,\"linecolor\":\"white\",\"showbackground\":true,\"ticks\":\"\",\"zerolinecolor\":\"white\"}},\"shapedefaults\":{\"line\":{\"color\":\"#2a3f5f\"}},\"ternary\":{\"aaxis\":{\"gridcolor\":\"white\",\"linecolor\":\"white\",\"ticks\":\"\"},\"baxis\":{\"gridcolor\":\"white\",\"linecolor\":\"white\",\"ticks\":\"\"},\"bgcolor\":\"#E5ECF6\",\"caxis\":{\"gridcolor\":\"white\",\"linecolor\":\"white\",\"ticks\":\"\"}},\"title\":{\"x\":0.05},\"xaxis\":{\"automargin\":true,\"gridcolor\":\"white\",\"linecolor\":\"white\",\"ticks\":\"\",\"title\":{\"standoff\":15},\"zerolinecolor\":\"white\",\"zerolinewidth\":2},\"yaxis\":{\"automargin\":true,\"gridcolor\":\"white\",\"linecolor\":\"white\",\"ticks\":\"\",\"title\":{\"standoff\":15},\"zerolinecolor\":\"white\",\"zerolinewidth\":2}}},\"legend\":{\"tracegroupgap\":0},\"margin\":{\"t\":60}},                        {\"responsive\": true}                    ).then(function(){\n",
       "                            \n",
       "var gd = document.getElementById('ae9a5331-278b-4775-b5e4-0396d90921ad');\n",
       "var x = new MutationObserver(function (mutations, observer) {{\n",
       "        var display = window.getComputedStyle(gd).display;\n",
       "        if (!display || display === 'none') {{\n",
       "            console.log([gd, 'removed!']);\n",
       "            Plotly.purge(gd);\n",
       "            observer.disconnect();\n",
       "        }}\n",
       "}});\n",
       "\n",
       "// Listen for the removal of the full notebook cells\n",
       "var notebookContainer = gd.closest('#notebook-container');\n",
       "if (notebookContainer) {{\n",
       "    x.observe(notebookContainer, {childList: true});\n",
       "}}\n",
       "\n",
       "// Listen for the clearing of the current output cell\n",
       "var outputEl = gd.closest('.output');\n",
       "if (outputEl) {{\n",
       "    x.observe(outputEl, {childList: true});\n",
       "}}\n",
       "\n",
       "                        })                };                });            </script>        </div>"
      ]
     },
     "metadata": {},
     "output_type": "display_data"
    }
   ],
   "source": [
    "fig = px.pie(outer_hou_df, values=\"Total_Crime\", names=\"County\")\n",
    "fig.show()"
   ]
  },
  {
   "cell_type": "code",
   "execution_count": 8,
   "id": "25910cec",
   "metadata": {},
   "outputs": [
    {
     "data": {
      "application/vnd.plotly.v1+json": {
       "config": {
        "plotlyServerURL": "https://plot.ly"
       },
       "data": [
        {
         "hovertemplate": "County=Austin County<br>Year=%{x}<br>Violent_Offenses=%{y}<extra></extra>",
         "legendgroup": "Austin County",
         "line": {
          "color": "#636efa",
          "dash": "solid"
         },
         "marker": {
          "symbol": "circle"
         },
         "mode": "lines",
         "name": "Austin County",
         "orientation": "v",
         "showlegend": true,
         "type": "scatter",
         "x": [
          2015,
          2016,
          2017,
          2018,
          2019,
          2020
         ],
         "xaxis": "x",
         "y": [
          61,
          49,
          45,
          43,
          43,
          42
         ],
         "yaxis": "y"
        },
        {
         "hovertemplate": "County=Brazoria County<br>Year=%{x}<br>Violent_Offenses=%{y}<extra></extra>",
         "legendgroup": "Brazoria County",
         "line": {
          "color": "#EF553B",
          "dash": "solid"
         },
         "marker": {
          "symbol": "circle"
         },
         "mode": "lines",
         "name": "Brazoria County",
         "orientation": "v",
         "showlegend": true,
         "type": "scatter",
         "x": [
          2015,
          2016,
          2017,
          2018,
          2019,
          2020
         ],
         "xaxis": "x",
         "y": [
          470,
          513,
          560,
          512,
          533,
          587
         ],
         "yaxis": "y"
        },
        {
         "hovertemplate": "County=Brazos County<br>Year=%{x}<br>Violent_Offenses=%{y}<extra></extra>",
         "legendgroup": "Brazos County",
         "line": {
          "color": "#00cc96",
          "dash": "solid"
         },
         "marker": {
          "symbol": "circle"
         },
         "mode": "lines",
         "name": "Brazos County",
         "orientation": "v",
         "showlegend": true,
         "type": "scatter",
         "x": [
          2015,
          2016,
          2017,
          2018,
          2019,
          2020
         ],
         "xaxis": "x",
         "y": [
          587,
          608,
          529,
          549,
          555,
          661
         ],
         "yaxis": "y"
        },
        {
         "hovertemplate": "County=Chambers County<br>Year=%{x}<br>Violent_Offenses=%{y}<extra></extra>",
         "legendgroup": "Chambers County",
         "line": {
          "color": "#ab63fa",
          "dash": "solid"
         },
         "marker": {
          "symbol": "circle"
         },
         "mode": "lines",
         "name": "Chambers County",
         "orientation": "v",
         "showlegend": true,
         "type": "scatter",
         "x": [
          2015,
          2016,
          2017,
          2018,
          2019,
          2020
         ],
         "xaxis": "x",
         "y": [
          110,
          131,
          89,
          53,
          81,
          126
         ],
         "yaxis": "y"
        },
        {
         "hovertemplate": "County=Fort Bend County<br>Year=%{x}<br>Violent_Offenses=%{y}<extra></extra>",
         "legendgroup": "Fort Bend County",
         "line": {
          "color": "#FFA15A",
          "dash": "solid"
         },
         "marker": {
          "symbol": "circle"
         },
         "mode": "lines",
         "name": "Fort Bend County",
         "orientation": "v",
         "showlegend": true,
         "type": "scatter",
         "x": [
          2015,
          2016,
          2017,
          2018,
          2019,
          2020
         ],
         "xaxis": "x",
         "y": [
          1034,
          935,
          1073,
          1152,
          1246,
          1287
         ],
         "yaxis": "y"
        },
        {
         "hovertemplate": "County=Galveston County<br>Year=%{x}<br>Violent_Offenses=%{y}<extra></extra>",
         "legendgroup": "Galveston County",
         "line": {
          "color": "#19d3f3",
          "dash": "solid"
         },
         "marker": {
          "symbol": "circle"
         },
         "mode": "lines",
         "name": "Galveston County",
         "orientation": "v",
         "showlegend": true,
         "type": "scatter",
         "x": [
          2015,
          2016,
          2017,
          2018,
          2019,
          2020
         ],
         "xaxis": "x",
         "y": [
          610,
          764,
          732,
          768,
          715,
          927
         ],
         "yaxis": "y"
        },
        {
         "hovertemplate": "County=Grimes County<br>Year=%{x}<br>Violent_Offenses=%{y}<extra></extra>",
         "legendgroup": "Grimes County",
         "line": {
          "color": "#FF6692",
          "dash": "solid"
         },
         "marker": {
          "symbol": "circle"
         },
         "mode": "lines",
         "name": "Grimes County",
         "orientation": "v",
         "showlegend": true,
         "type": "scatter",
         "x": [
          2015,
          2016,
          2017,
          2018,
          2019,
          2020
         ],
         "xaxis": "x",
         "y": [
          85,
          70,
          48,
          39,
          33,
          69
         ],
         "yaxis": "y"
        },
        {
         "hovertemplate": "County=Liberty County<br>Year=%{x}<br>Violent_Offenses=%{y}<extra></extra>",
         "legendgroup": "Liberty County",
         "line": {
          "color": "#B6E880",
          "dash": "solid"
         },
         "marker": {
          "symbol": "circle"
         },
         "mode": "lines",
         "name": "Liberty County",
         "orientation": "v",
         "showlegend": true,
         "type": "scatter",
         "x": [
          2015,
          2016,
          2017,
          2018,
          2019,
          2020
         ],
         "xaxis": "x",
         "y": [
          294,
          282,
          113,
          247,
          215,
          315
         ],
         "yaxis": "y"
        },
        {
         "hovertemplate": "County=Matagorda County<br>Year=%{x}<br>Violent_Offenses=%{y}<extra></extra>",
         "legendgroup": "Matagorda County",
         "line": {
          "color": "#FF97FF",
          "dash": "solid"
         },
         "marker": {
          "symbol": "circle"
         },
         "mode": "lines",
         "name": "Matagorda County",
         "orientation": "v",
         "showlegend": true,
         "type": "scatter",
         "x": [
          2015,
          2016,
          2017,
          2018,
          2019,
          2020
         ],
         "xaxis": "x",
         "y": [
          85,
          117,
          143,
          136,
          156,
          169
         ],
         "yaxis": "y"
        },
        {
         "hovertemplate": "County=Montgomery County<br>Year=%{x}<br>Violent_Offenses=%{y}<extra></extra>",
         "legendgroup": "Montgomery County",
         "line": {
          "color": "#FECB52",
          "dash": "solid"
         },
         "marker": {
          "symbol": "circle"
         },
         "mode": "lines",
         "name": "Montgomery County",
         "orientation": "v",
         "showlegend": true,
         "type": "scatter",
         "x": [
          2015,
          2016,
          2017,
          2018,
          2019,
          2020
         ],
         "xaxis": "x",
         "y": [
          976,
          678,
          705,
          969,
          972,
          925
         ],
         "yaxis": "y"
        },
        {
         "hovertemplate": "County=Polk County<br>Year=%{x}<br>Violent_Offenses=%{y}<extra></extra>",
         "legendgroup": "Polk County",
         "line": {
          "color": "#636efa",
          "dash": "solid"
         },
         "marker": {
          "symbol": "circle"
         },
         "mode": "lines",
         "name": "Polk County",
         "orientation": "v",
         "showlegend": true,
         "type": "scatter",
         "x": [
          2015,
          2016,
          2017,
          2018,
          2019,
          2020
         ],
         "xaxis": "x",
         "y": [
          129,
          104,
          119,
          107,
          104,
          103
         ],
         "yaxis": "y"
        },
        {
         "hovertemplate": "County=San Jacinto County<br>Year=%{x}<br>Violent_Offenses=%{y}<extra></extra>",
         "legendgroup": "San Jacinto County",
         "line": {
          "color": "#EF553B",
          "dash": "solid"
         },
         "marker": {
          "symbol": "circle"
         },
         "mode": "lines",
         "name": "San Jacinto County",
         "orientation": "v",
         "showlegend": true,
         "type": "scatter",
         "x": [
          2015,
          2016,
          2017,
          2018,
          2019,
          2020
         ],
         "xaxis": "x",
         "y": [
          66,
          43,
          53,
          40,
          43,
          37
         ],
         "yaxis": "y"
        },
        {
         "hovertemplate": "County=Walker County<br>Year=%{x}<br>Violent_Offenses=%{y}<extra></extra>",
         "legendgroup": "Walker County",
         "line": {
          "color": "#00cc96",
          "dash": "solid"
         },
         "marker": {
          "symbol": "circle"
         },
         "mode": "lines",
         "name": "Walker County",
         "orientation": "v",
         "showlegend": true,
         "type": "scatter",
         "x": [
          2015,
          2016,
          2017,
          2018,
          2019,
          2020
         ],
         "xaxis": "x",
         "y": [
          226,
          231,
          204,
          185,
          223,
          196
         ],
         "yaxis": "y"
        },
        {
         "hovertemplate": "County=Waller County<br>Year=%{x}<br>Violent_Offenses=%{y}<extra></extra>",
         "legendgroup": "Waller County",
         "line": {
          "color": "#ab63fa",
          "dash": "solid"
         },
         "marker": {
          "symbol": "circle"
         },
         "mode": "lines",
         "name": "Waller County",
         "orientation": "v",
         "showlegend": true,
         "type": "scatter",
         "x": [
          2015,
          2016,
          2017,
          2018,
          2019,
          2020
         ],
         "xaxis": "x",
         "y": [
          199,
          146,
          143,
          184,
          134,
          141
         ],
         "yaxis": "y"
        },
        {
         "hovertemplate": "County=Washington County<br>Year=%{x}<br>Violent_Offenses=%{y}<extra></extra>",
         "legendgroup": "Washington County",
         "line": {
          "color": "#FFA15A",
          "dash": "solid"
         },
         "marker": {
          "symbol": "circle"
         },
         "mode": "lines",
         "name": "Washington County",
         "orientation": "v",
         "showlegend": true,
         "type": "scatter",
         "x": [
          2015,
          2016,
          2017,
          2018,
          2019,
          2020
         ],
         "xaxis": "x",
         "y": [
          71,
          59,
          148,
          91,
          135,
          86
         ],
         "yaxis": "y"
        },
        {
         "hovertemplate": "County=Wharton County<br>Year=%{x}<br>Violent_Offenses=%{y}<extra></extra>",
         "legendgroup": "Wharton County",
         "line": {
          "color": "#19d3f3",
          "dash": "solid"
         },
         "marker": {
          "symbol": "circle"
         },
         "mode": "lines",
         "name": "Wharton County",
         "orientation": "v",
         "showlegend": true,
         "type": "scatter",
         "x": [
          2015,
          2016,
          2017,
          2018,
          2019,
          2020
         ],
         "xaxis": "x",
         "y": [
          135,
          156,
          145,
          131,
          122,
          130
         ],
         "yaxis": "y"
        }
       ],
       "layout": {
        "legend": {
         "title": {
          "text": "County"
         },
         "tracegroupgap": 0
        },
        "margin": {
         "t": 60
        },
        "template": {
         "data": {
          "bar": [
           {
            "error_x": {
             "color": "#2a3f5f"
            },
            "error_y": {
             "color": "#2a3f5f"
            },
            "marker": {
             "line": {
              "color": "#E5ECF6",
              "width": 0.5
             },
             "pattern": {
              "fillmode": "overlay",
              "size": 10,
              "solidity": 0.2
             }
            },
            "type": "bar"
           }
          ],
          "barpolar": [
           {
            "marker": {
             "line": {
              "color": "#E5ECF6",
              "width": 0.5
             },
             "pattern": {
              "fillmode": "overlay",
              "size": 10,
              "solidity": 0.2
             }
            },
            "type": "barpolar"
           }
          ],
          "carpet": [
           {
            "aaxis": {
             "endlinecolor": "#2a3f5f",
             "gridcolor": "white",
             "linecolor": "white",
             "minorgridcolor": "white",
             "startlinecolor": "#2a3f5f"
            },
            "baxis": {
             "endlinecolor": "#2a3f5f",
             "gridcolor": "white",
             "linecolor": "white",
             "minorgridcolor": "white",
             "startlinecolor": "#2a3f5f"
            },
            "type": "carpet"
           }
          ],
          "choropleth": [
           {
            "colorbar": {
             "outlinewidth": 0,
             "ticks": ""
            },
            "type": "choropleth"
           }
          ],
          "contour": [
           {
            "colorbar": {
             "outlinewidth": 0,
             "ticks": ""
            },
            "colorscale": [
             [
              0,
              "#0d0887"
             ],
             [
              0.1111111111111111,
              "#46039f"
             ],
             [
              0.2222222222222222,
              "#7201a8"
             ],
             [
              0.3333333333333333,
              "#9c179e"
             ],
             [
              0.4444444444444444,
              "#bd3786"
             ],
             [
              0.5555555555555556,
              "#d8576b"
             ],
             [
              0.6666666666666666,
              "#ed7953"
             ],
             [
              0.7777777777777778,
              "#fb9f3a"
             ],
             [
              0.8888888888888888,
              "#fdca26"
             ],
             [
              1,
              "#f0f921"
             ]
            ],
            "type": "contour"
           }
          ],
          "contourcarpet": [
           {
            "colorbar": {
             "outlinewidth": 0,
             "ticks": ""
            },
            "type": "contourcarpet"
           }
          ],
          "heatmap": [
           {
            "colorbar": {
             "outlinewidth": 0,
             "ticks": ""
            },
            "colorscale": [
             [
              0,
              "#0d0887"
             ],
             [
              0.1111111111111111,
              "#46039f"
             ],
             [
              0.2222222222222222,
              "#7201a8"
             ],
             [
              0.3333333333333333,
              "#9c179e"
             ],
             [
              0.4444444444444444,
              "#bd3786"
             ],
             [
              0.5555555555555556,
              "#d8576b"
             ],
             [
              0.6666666666666666,
              "#ed7953"
             ],
             [
              0.7777777777777778,
              "#fb9f3a"
             ],
             [
              0.8888888888888888,
              "#fdca26"
             ],
             [
              1,
              "#f0f921"
             ]
            ],
            "type": "heatmap"
           }
          ],
          "heatmapgl": [
           {
            "colorbar": {
             "outlinewidth": 0,
             "ticks": ""
            },
            "colorscale": [
             [
              0,
              "#0d0887"
             ],
             [
              0.1111111111111111,
              "#46039f"
             ],
             [
              0.2222222222222222,
              "#7201a8"
             ],
             [
              0.3333333333333333,
              "#9c179e"
             ],
             [
              0.4444444444444444,
              "#bd3786"
             ],
             [
              0.5555555555555556,
              "#d8576b"
             ],
             [
              0.6666666666666666,
              "#ed7953"
             ],
             [
              0.7777777777777778,
              "#fb9f3a"
             ],
             [
              0.8888888888888888,
              "#fdca26"
             ],
             [
              1,
              "#f0f921"
             ]
            ],
            "type": "heatmapgl"
           }
          ],
          "histogram": [
           {
            "marker": {
             "pattern": {
              "fillmode": "overlay",
              "size": 10,
              "solidity": 0.2
             }
            },
            "type": "histogram"
           }
          ],
          "histogram2d": [
           {
            "colorbar": {
             "outlinewidth": 0,
             "ticks": ""
            },
            "colorscale": [
             [
              0,
              "#0d0887"
             ],
             [
              0.1111111111111111,
              "#46039f"
             ],
             [
              0.2222222222222222,
              "#7201a8"
             ],
             [
              0.3333333333333333,
              "#9c179e"
             ],
             [
              0.4444444444444444,
              "#bd3786"
             ],
             [
              0.5555555555555556,
              "#d8576b"
             ],
             [
              0.6666666666666666,
              "#ed7953"
             ],
             [
              0.7777777777777778,
              "#fb9f3a"
             ],
             [
              0.8888888888888888,
              "#fdca26"
             ],
             [
              1,
              "#f0f921"
             ]
            ],
            "type": "histogram2d"
           }
          ],
          "histogram2dcontour": [
           {
            "colorbar": {
             "outlinewidth": 0,
             "ticks": ""
            },
            "colorscale": [
             [
              0,
              "#0d0887"
             ],
             [
              0.1111111111111111,
              "#46039f"
             ],
             [
              0.2222222222222222,
              "#7201a8"
             ],
             [
              0.3333333333333333,
              "#9c179e"
             ],
             [
              0.4444444444444444,
              "#bd3786"
             ],
             [
              0.5555555555555556,
              "#d8576b"
             ],
             [
              0.6666666666666666,
              "#ed7953"
             ],
             [
              0.7777777777777778,
              "#fb9f3a"
             ],
             [
              0.8888888888888888,
              "#fdca26"
             ],
             [
              1,
              "#f0f921"
             ]
            ],
            "type": "histogram2dcontour"
           }
          ],
          "mesh3d": [
           {
            "colorbar": {
             "outlinewidth": 0,
             "ticks": ""
            },
            "type": "mesh3d"
           }
          ],
          "parcoords": [
           {
            "line": {
             "colorbar": {
              "outlinewidth": 0,
              "ticks": ""
             }
            },
            "type": "parcoords"
           }
          ],
          "pie": [
           {
            "automargin": true,
            "type": "pie"
           }
          ],
          "scatter": [
           {
            "marker": {
             "colorbar": {
              "outlinewidth": 0,
              "ticks": ""
             }
            },
            "type": "scatter"
           }
          ],
          "scatter3d": [
           {
            "line": {
             "colorbar": {
              "outlinewidth": 0,
              "ticks": ""
             }
            },
            "marker": {
             "colorbar": {
              "outlinewidth": 0,
              "ticks": ""
             }
            },
            "type": "scatter3d"
           }
          ],
          "scattercarpet": [
           {
            "marker": {
             "colorbar": {
              "outlinewidth": 0,
              "ticks": ""
             }
            },
            "type": "scattercarpet"
           }
          ],
          "scattergeo": [
           {
            "marker": {
             "colorbar": {
              "outlinewidth": 0,
              "ticks": ""
             }
            },
            "type": "scattergeo"
           }
          ],
          "scattergl": [
           {
            "marker": {
             "colorbar": {
              "outlinewidth": 0,
              "ticks": ""
             }
            },
            "type": "scattergl"
           }
          ],
          "scattermapbox": [
           {
            "marker": {
             "colorbar": {
              "outlinewidth": 0,
              "ticks": ""
             }
            },
            "type": "scattermapbox"
           }
          ],
          "scatterpolar": [
           {
            "marker": {
             "colorbar": {
              "outlinewidth": 0,
              "ticks": ""
             }
            },
            "type": "scatterpolar"
           }
          ],
          "scatterpolargl": [
           {
            "marker": {
             "colorbar": {
              "outlinewidth": 0,
              "ticks": ""
             }
            },
            "type": "scatterpolargl"
           }
          ],
          "scatterternary": [
           {
            "marker": {
             "colorbar": {
              "outlinewidth": 0,
              "ticks": ""
             }
            },
            "type": "scatterternary"
           }
          ],
          "surface": [
           {
            "colorbar": {
             "outlinewidth": 0,
             "ticks": ""
            },
            "colorscale": [
             [
              0,
              "#0d0887"
             ],
             [
              0.1111111111111111,
              "#46039f"
             ],
             [
              0.2222222222222222,
              "#7201a8"
             ],
             [
              0.3333333333333333,
              "#9c179e"
             ],
             [
              0.4444444444444444,
              "#bd3786"
             ],
             [
              0.5555555555555556,
              "#d8576b"
             ],
             [
              0.6666666666666666,
              "#ed7953"
             ],
             [
              0.7777777777777778,
              "#fb9f3a"
             ],
             [
              0.8888888888888888,
              "#fdca26"
             ],
             [
              1,
              "#f0f921"
             ]
            ],
            "type": "surface"
           }
          ],
          "table": [
           {
            "cells": {
             "fill": {
              "color": "#EBF0F8"
             },
             "line": {
              "color": "white"
             }
            },
            "header": {
             "fill": {
              "color": "#C8D4E3"
             },
             "line": {
              "color": "white"
             }
            },
            "type": "table"
           }
          ]
         },
         "layout": {
          "annotationdefaults": {
           "arrowcolor": "#2a3f5f",
           "arrowhead": 0,
           "arrowwidth": 1
          },
          "autotypenumbers": "strict",
          "coloraxis": {
           "colorbar": {
            "outlinewidth": 0,
            "ticks": ""
           }
          },
          "colorscale": {
           "diverging": [
            [
             0,
             "#8e0152"
            ],
            [
             0.1,
             "#c51b7d"
            ],
            [
             0.2,
             "#de77ae"
            ],
            [
             0.3,
             "#f1b6da"
            ],
            [
             0.4,
             "#fde0ef"
            ],
            [
             0.5,
             "#f7f7f7"
            ],
            [
             0.6,
             "#e6f5d0"
            ],
            [
             0.7,
             "#b8e186"
            ],
            [
             0.8,
             "#7fbc41"
            ],
            [
             0.9,
             "#4d9221"
            ],
            [
             1,
             "#276419"
            ]
           ],
           "sequential": [
            [
             0,
             "#0d0887"
            ],
            [
             0.1111111111111111,
             "#46039f"
            ],
            [
             0.2222222222222222,
             "#7201a8"
            ],
            [
             0.3333333333333333,
             "#9c179e"
            ],
            [
             0.4444444444444444,
             "#bd3786"
            ],
            [
             0.5555555555555556,
             "#d8576b"
            ],
            [
             0.6666666666666666,
             "#ed7953"
            ],
            [
             0.7777777777777778,
             "#fb9f3a"
            ],
            [
             0.8888888888888888,
             "#fdca26"
            ],
            [
             1,
             "#f0f921"
            ]
           ],
           "sequentialminus": [
            [
             0,
             "#0d0887"
            ],
            [
             0.1111111111111111,
             "#46039f"
            ],
            [
             0.2222222222222222,
             "#7201a8"
            ],
            [
             0.3333333333333333,
             "#9c179e"
            ],
            [
             0.4444444444444444,
             "#bd3786"
            ],
            [
             0.5555555555555556,
             "#d8576b"
            ],
            [
             0.6666666666666666,
             "#ed7953"
            ],
            [
             0.7777777777777778,
             "#fb9f3a"
            ],
            [
             0.8888888888888888,
             "#fdca26"
            ],
            [
             1,
             "#f0f921"
            ]
           ]
          },
          "colorway": [
           "#636efa",
           "#EF553B",
           "#00cc96",
           "#ab63fa",
           "#FFA15A",
           "#19d3f3",
           "#FF6692",
           "#B6E880",
           "#FF97FF",
           "#FECB52"
          ],
          "font": {
           "color": "#2a3f5f"
          },
          "geo": {
           "bgcolor": "white",
           "lakecolor": "white",
           "landcolor": "#E5ECF6",
           "showlakes": true,
           "showland": true,
           "subunitcolor": "white"
          },
          "hoverlabel": {
           "align": "left"
          },
          "hovermode": "closest",
          "mapbox": {
           "style": "light"
          },
          "paper_bgcolor": "white",
          "plot_bgcolor": "#E5ECF6",
          "polar": {
           "angularaxis": {
            "gridcolor": "white",
            "linecolor": "white",
            "ticks": ""
           },
           "bgcolor": "#E5ECF6",
           "radialaxis": {
            "gridcolor": "white",
            "linecolor": "white",
            "ticks": ""
           }
          },
          "scene": {
           "xaxis": {
            "backgroundcolor": "#E5ECF6",
            "gridcolor": "white",
            "gridwidth": 2,
            "linecolor": "white",
            "showbackground": true,
            "ticks": "",
            "zerolinecolor": "white"
           },
           "yaxis": {
            "backgroundcolor": "#E5ECF6",
            "gridcolor": "white",
            "gridwidth": 2,
            "linecolor": "white",
            "showbackground": true,
            "ticks": "",
            "zerolinecolor": "white"
           },
           "zaxis": {
            "backgroundcolor": "#E5ECF6",
            "gridcolor": "white",
            "gridwidth": 2,
            "linecolor": "white",
            "showbackground": true,
            "ticks": "",
            "zerolinecolor": "white"
           }
          },
          "shapedefaults": {
           "line": {
            "color": "#2a3f5f"
           }
          },
          "ternary": {
           "aaxis": {
            "gridcolor": "white",
            "linecolor": "white",
            "ticks": ""
           },
           "baxis": {
            "gridcolor": "white",
            "linecolor": "white",
            "ticks": ""
           },
           "bgcolor": "#E5ECF6",
           "caxis": {
            "gridcolor": "white",
            "linecolor": "white",
            "ticks": ""
           }
          },
          "title": {
           "x": 0.05
          },
          "xaxis": {
           "automargin": true,
           "gridcolor": "white",
           "linecolor": "white",
           "ticks": "",
           "title": {
            "standoff": 15
           },
           "zerolinecolor": "white",
           "zerolinewidth": 2
          },
          "yaxis": {
           "automargin": true,
           "gridcolor": "white",
           "linecolor": "white",
           "ticks": "",
           "title": {
            "standoff": 15
           },
           "zerolinecolor": "white",
           "zerolinewidth": 2
          }
         }
        },
        "xaxis": {
         "anchor": "y",
         "domain": [
          0,
          1
         ],
         "title": {
          "text": "Year"
         }
        },
        "yaxis": {
         "anchor": "x",
         "domain": [
          0,
          1
         ],
         "title": {
          "text": "Violent_Offenses"
         }
        }
       }
      },
      "text/html": [
       "<div>                            <div id=\"4ab6e2c5-d588-4ee2-9ada-fbc0c3f217e8\" class=\"plotly-graph-div\" style=\"height:525px; width:100%;\"></div>            <script type=\"text/javascript\">                require([\"plotly\"], function(Plotly) {                    window.PLOTLYENV=window.PLOTLYENV || {};                                    if (document.getElementById(\"4ab6e2c5-d588-4ee2-9ada-fbc0c3f217e8\")) {                    Plotly.newPlot(                        \"4ab6e2c5-d588-4ee2-9ada-fbc0c3f217e8\",                        [{\"hovertemplate\":\"County=Austin County<br>Year=%{x}<br>Violent_Offenses=%{y}<extra></extra>\",\"legendgroup\":\"Austin County\",\"line\":{\"color\":\"#636efa\",\"dash\":\"solid\"},\"marker\":{\"symbol\":\"circle\"},\"mode\":\"lines\",\"name\":\"Austin County\",\"orientation\":\"v\",\"showlegend\":true,\"x\":[2015,2016,2017,2018,2019,2020],\"xaxis\":\"x\",\"y\":[61,49,45,43,43,42],\"yaxis\":\"y\",\"type\":\"scatter\"},{\"hovertemplate\":\"County=Brazoria County<br>Year=%{x}<br>Violent_Offenses=%{y}<extra></extra>\",\"legendgroup\":\"Brazoria County\",\"line\":{\"color\":\"#EF553B\",\"dash\":\"solid\"},\"marker\":{\"symbol\":\"circle\"},\"mode\":\"lines\",\"name\":\"Brazoria County\",\"orientation\":\"v\",\"showlegend\":true,\"x\":[2015,2016,2017,2018,2019,2020],\"xaxis\":\"x\",\"y\":[470,513,560,512,533,587],\"yaxis\":\"y\",\"type\":\"scatter\"},{\"hovertemplate\":\"County=Brazos County<br>Year=%{x}<br>Violent_Offenses=%{y}<extra></extra>\",\"legendgroup\":\"Brazos County\",\"line\":{\"color\":\"#00cc96\",\"dash\":\"solid\"},\"marker\":{\"symbol\":\"circle\"},\"mode\":\"lines\",\"name\":\"Brazos County\",\"orientation\":\"v\",\"showlegend\":true,\"x\":[2015,2016,2017,2018,2019,2020],\"xaxis\":\"x\",\"y\":[587,608,529,549,555,661],\"yaxis\":\"y\",\"type\":\"scatter\"},{\"hovertemplate\":\"County=Chambers County<br>Year=%{x}<br>Violent_Offenses=%{y}<extra></extra>\",\"legendgroup\":\"Chambers County\",\"line\":{\"color\":\"#ab63fa\",\"dash\":\"solid\"},\"marker\":{\"symbol\":\"circle\"},\"mode\":\"lines\",\"name\":\"Chambers County\",\"orientation\":\"v\",\"showlegend\":true,\"x\":[2015,2016,2017,2018,2019,2020],\"xaxis\":\"x\",\"y\":[110,131,89,53,81,126],\"yaxis\":\"y\",\"type\":\"scatter\"},{\"hovertemplate\":\"County=Fort Bend County<br>Year=%{x}<br>Violent_Offenses=%{y}<extra></extra>\",\"legendgroup\":\"Fort Bend County\",\"line\":{\"color\":\"#FFA15A\",\"dash\":\"solid\"},\"marker\":{\"symbol\":\"circle\"},\"mode\":\"lines\",\"name\":\"Fort Bend County\",\"orientation\":\"v\",\"showlegend\":true,\"x\":[2015,2016,2017,2018,2019,2020],\"xaxis\":\"x\",\"y\":[1034,935,1073,1152,1246,1287],\"yaxis\":\"y\",\"type\":\"scatter\"},{\"hovertemplate\":\"County=Galveston County<br>Year=%{x}<br>Violent_Offenses=%{y}<extra></extra>\",\"legendgroup\":\"Galveston County\",\"line\":{\"color\":\"#19d3f3\",\"dash\":\"solid\"},\"marker\":{\"symbol\":\"circle\"},\"mode\":\"lines\",\"name\":\"Galveston County\",\"orientation\":\"v\",\"showlegend\":true,\"x\":[2015,2016,2017,2018,2019,2020],\"xaxis\":\"x\",\"y\":[610,764,732,768,715,927],\"yaxis\":\"y\",\"type\":\"scatter\"},{\"hovertemplate\":\"County=Grimes County<br>Year=%{x}<br>Violent_Offenses=%{y}<extra></extra>\",\"legendgroup\":\"Grimes County\",\"line\":{\"color\":\"#FF6692\",\"dash\":\"solid\"},\"marker\":{\"symbol\":\"circle\"},\"mode\":\"lines\",\"name\":\"Grimes County\",\"orientation\":\"v\",\"showlegend\":true,\"x\":[2015,2016,2017,2018,2019,2020],\"xaxis\":\"x\",\"y\":[85,70,48,39,33,69],\"yaxis\":\"y\",\"type\":\"scatter\"},{\"hovertemplate\":\"County=Liberty County<br>Year=%{x}<br>Violent_Offenses=%{y}<extra></extra>\",\"legendgroup\":\"Liberty County\",\"line\":{\"color\":\"#B6E880\",\"dash\":\"solid\"},\"marker\":{\"symbol\":\"circle\"},\"mode\":\"lines\",\"name\":\"Liberty County\",\"orientation\":\"v\",\"showlegend\":true,\"x\":[2015,2016,2017,2018,2019,2020],\"xaxis\":\"x\",\"y\":[294,282,113,247,215,315],\"yaxis\":\"y\",\"type\":\"scatter\"},{\"hovertemplate\":\"County=Matagorda County<br>Year=%{x}<br>Violent_Offenses=%{y}<extra></extra>\",\"legendgroup\":\"Matagorda County\",\"line\":{\"color\":\"#FF97FF\",\"dash\":\"solid\"},\"marker\":{\"symbol\":\"circle\"},\"mode\":\"lines\",\"name\":\"Matagorda County\",\"orientation\":\"v\",\"showlegend\":true,\"x\":[2015,2016,2017,2018,2019,2020],\"xaxis\":\"x\",\"y\":[85,117,143,136,156,169],\"yaxis\":\"y\",\"type\":\"scatter\"},{\"hovertemplate\":\"County=Montgomery County<br>Year=%{x}<br>Violent_Offenses=%{y}<extra></extra>\",\"legendgroup\":\"Montgomery County\",\"line\":{\"color\":\"#FECB52\",\"dash\":\"solid\"},\"marker\":{\"symbol\":\"circle\"},\"mode\":\"lines\",\"name\":\"Montgomery County\",\"orientation\":\"v\",\"showlegend\":true,\"x\":[2015,2016,2017,2018,2019,2020],\"xaxis\":\"x\",\"y\":[976,678,705,969,972,925],\"yaxis\":\"y\",\"type\":\"scatter\"},{\"hovertemplate\":\"County=Polk County<br>Year=%{x}<br>Violent_Offenses=%{y}<extra></extra>\",\"legendgroup\":\"Polk County\",\"line\":{\"color\":\"#636efa\",\"dash\":\"solid\"},\"marker\":{\"symbol\":\"circle\"},\"mode\":\"lines\",\"name\":\"Polk County\",\"orientation\":\"v\",\"showlegend\":true,\"x\":[2015,2016,2017,2018,2019,2020],\"xaxis\":\"x\",\"y\":[129,104,119,107,104,103],\"yaxis\":\"y\",\"type\":\"scatter\"},{\"hovertemplate\":\"County=San Jacinto County<br>Year=%{x}<br>Violent_Offenses=%{y}<extra></extra>\",\"legendgroup\":\"San Jacinto County\",\"line\":{\"color\":\"#EF553B\",\"dash\":\"solid\"},\"marker\":{\"symbol\":\"circle\"},\"mode\":\"lines\",\"name\":\"San Jacinto County\",\"orientation\":\"v\",\"showlegend\":true,\"x\":[2015,2016,2017,2018,2019,2020],\"xaxis\":\"x\",\"y\":[66,43,53,40,43,37],\"yaxis\":\"y\",\"type\":\"scatter\"},{\"hovertemplate\":\"County=Walker County<br>Year=%{x}<br>Violent_Offenses=%{y}<extra></extra>\",\"legendgroup\":\"Walker County\",\"line\":{\"color\":\"#00cc96\",\"dash\":\"solid\"},\"marker\":{\"symbol\":\"circle\"},\"mode\":\"lines\",\"name\":\"Walker County\",\"orientation\":\"v\",\"showlegend\":true,\"x\":[2015,2016,2017,2018,2019,2020],\"xaxis\":\"x\",\"y\":[226,231,204,185,223,196],\"yaxis\":\"y\",\"type\":\"scatter\"},{\"hovertemplate\":\"County=Waller County<br>Year=%{x}<br>Violent_Offenses=%{y}<extra></extra>\",\"legendgroup\":\"Waller County\",\"line\":{\"color\":\"#ab63fa\",\"dash\":\"solid\"},\"marker\":{\"symbol\":\"circle\"},\"mode\":\"lines\",\"name\":\"Waller County\",\"orientation\":\"v\",\"showlegend\":true,\"x\":[2015,2016,2017,2018,2019,2020],\"xaxis\":\"x\",\"y\":[199,146,143,184,134,141],\"yaxis\":\"y\",\"type\":\"scatter\"},{\"hovertemplate\":\"County=Washington County<br>Year=%{x}<br>Violent_Offenses=%{y}<extra></extra>\",\"legendgroup\":\"Washington County\",\"line\":{\"color\":\"#FFA15A\",\"dash\":\"solid\"},\"marker\":{\"symbol\":\"circle\"},\"mode\":\"lines\",\"name\":\"Washington County\",\"orientation\":\"v\",\"showlegend\":true,\"x\":[2015,2016,2017,2018,2019,2020],\"xaxis\":\"x\",\"y\":[71,59,148,91,135,86],\"yaxis\":\"y\",\"type\":\"scatter\"},{\"hovertemplate\":\"County=Wharton County<br>Year=%{x}<br>Violent_Offenses=%{y}<extra></extra>\",\"legendgroup\":\"Wharton County\",\"line\":{\"color\":\"#19d3f3\",\"dash\":\"solid\"},\"marker\":{\"symbol\":\"circle\"},\"mode\":\"lines\",\"name\":\"Wharton County\",\"orientation\":\"v\",\"showlegend\":true,\"x\":[2015,2016,2017,2018,2019,2020],\"xaxis\":\"x\",\"y\":[135,156,145,131,122,130],\"yaxis\":\"y\",\"type\":\"scatter\"}],                        {\"template\":{\"data\":{\"bar\":[{\"error_x\":{\"color\":\"#2a3f5f\"},\"error_y\":{\"color\":\"#2a3f5f\"},\"marker\":{\"line\":{\"color\":\"#E5ECF6\",\"width\":0.5},\"pattern\":{\"fillmode\":\"overlay\",\"size\":10,\"solidity\":0.2}},\"type\":\"bar\"}],\"barpolar\":[{\"marker\":{\"line\":{\"color\":\"#E5ECF6\",\"width\":0.5},\"pattern\":{\"fillmode\":\"overlay\",\"size\":10,\"solidity\":0.2}},\"type\":\"barpolar\"}],\"carpet\":[{\"aaxis\":{\"endlinecolor\":\"#2a3f5f\",\"gridcolor\":\"white\",\"linecolor\":\"white\",\"minorgridcolor\":\"white\",\"startlinecolor\":\"#2a3f5f\"},\"baxis\":{\"endlinecolor\":\"#2a3f5f\",\"gridcolor\":\"white\",\"linecolor\":\"white\",\"minorgridcolor\":\"white\",\"startlinecolor\":\"#2a3f5f\"},\"type\":\"carpet\"}],\"choropleth\":[{\"colorbar\":{\"outlinewidth\":0,\"ticks\":\"\"},\"type\":\"choropleth\"}],\"contour\":[{\"colorbar\":{\"outlinewidth\":0,\"ticks\":\"\"},\"colorscale\":[[0.0,\"#0d0887\"],[0.1111111111111111,\"#46039f\"],[0.2222222222222222,\"#7201a8\"],[0.3333333333333333,\"#9c179e\"],[0.4444444444444444,\"#bd3786\"],[0.5555555555555556,\"#d8576b\"],[0.6666666666666666,\"#ed7953\"],[0.7777777777777778,\"#fb9f3a\"],[0.8888888888888888,\"#fdca26\"],[1.0,\"#f0f921\"]],\"type\":\"contour\"}],\"contourcarpet\":[{\"colorbar\":{\"outlinewidth\":0,\"ticks\":\"\"},\"type\":\"contourcarpet\"}],\"heatmap\":[{\"colorbar\":{\"outlinewidth\":0,\"ticks\":\"\"},\"colorscale\":[[0.0,\"#0d0887\"],[0.1111111111111111,\"#46039f\"],[0.2222222222222222,\"#7201a8\"],[0.3333333333333333,\"#9c179e\"],[0.4444444444444444,\"#bd3786\"],[0.5555555555555556,\"#d8576b\"],[0.6666666666666666,\"#ed7953\"],[0.7777777777777778,\"#fb9f3a\"],[0.8888888888888888,\"#fdca26\"],[1.0,\"#f0f921\"]],\"type\":\"heatmap\"}],\"heatmapgl\":[{\"colorbar\":{\"outlinewidth\":0,\"ticks\":\"\"},\"colorscale\":[[0.0,\"#0d0887\"],[0.1111111111111111,\"#46039f\"],[0.2222222222222222,\"#7201a8\"],[0.3333333333333333,\"#9c179e\"],[0.4444444444444444,\"#bd3786\"],[0.5555555555555556,\"#d8576b\"],[0.6666666666666666,\"#ed7953\"],[0.7777777777777778,\"#fb9f3a\"],[0.8888888888888888,\"#fdca26\"],[1.0,\"#f0f921\"]],\"type\":\"heatmapgl\"}],\"histogram\":[{\"marker\":{\"pattern\":{\"fillmode\":\"overlay\",\"size\":10,\"solidity\":0.2}},\"type\":\"histogram\"}],\"histogram2d\":[{\"colorbar\":{\"outlinewidth\":0,\"ticks\":\"\"},\"colorscale\":[[0.0,\"#0d0887\"],[0.1111111111111111,\"#46039f\"],[0.2222222222222222,\"#7201a8\"],[0.3333333333333333,\"#9c179e\"],[0.4444444444444444,\"#bd3786\"],[0.5555555555555556,\"#d8576b\"],[0.6666666666666666,\"#ed7953\"],[0.7777777777777778,\"#fb9f3a\"],[0.8888888888888888,\"#fdca26\"],[1.0,\"#f0f921\"]],\"type\":\"histogram2d\"}],\"histogram2dcontour\":[{\"colorbar\":{\"outlinewidth\":0,\"ticks\":\"\"},\"colorscale\":[[0.0,\"#0d0887\"],[0.1111111111111111,\"#46039f\"],[0.2222222222222222,\"#7201a8\"],[0.3333333333333333,\"#9c179e\"],[0.4444444444444444,\"#bd3786\"],[0.5555555555555556,\"#d8576b\"],[0.6666666666666666,\"#ed7953\"],[0.7777777777777778,\"#fb9f3a\"],[0.8888888888888888,\"#fdca26\"],[1.0,\"#f0f921\"]],\"type\":\"histogram2dcontour\"}],\"mesh3d\":[{\"colorbar\":{\"outlinewidth\":0,\"ticks\":\"\"},\"type\":\"mesh3d\"}],\"parcoords\":[{\"line\":{\"colorbar\":{\"outlinewidth\":0,\"ticks\":\"\"}},\"type\":\"parcoords\"}],\"pie\":[{\"automargin\":true,\"type\":\"pie\"}],\"scatter\":[{\"marker\":{\"colorbar\":{\"outlinewidth\":0,\"ticks\":\"\"}},\"type\":\"scatter\"}],\"scatter3d\":[{\"line\":{\"colorbar\":{\"outlinewidth\":0,\"ticks\":\"\"}},\"marker\":{\"colorbar\":{\"outlinewidth\":0,\"ticks\":\"\"}},\"type\":\"scatter3d\"}],\"scattercarpet\":[{\"marker\":{\"colorbar\":{\"outlinewidth\":0,\"ticks\":\"\"}},\"type\":\"scattercarpet\"}],\"scattergeo\":[{\"marker\":{\"colorbar\":{\"outlinewidth\":0,\"ticks\":\"\"}},\"type\":\"scattergeo\"}],\"scattergl\":[{\"marker\":{\"colorbar\":{\"outlinewidth\":0,\"ticks\":\"\"}},\"type\":\"scattergl\"}],\"scattermapbox\":[{\"marker\":{\"colorbar\":{\"outlinewidth\":0,\"ticks\":\"\"}},\"type\":\"scattermapbox\"}],\"scatterpolar\":[{\"marker\":{\"colorbar\":{\"outlinewidth\":0,\"ticks\":\"\"}},\"type\":\"scatterpolar\"}],\"scatterpolargl\":[{\"marker\":{\"colorbar\":{\"outlinewidth\":0,\"ticks\":\"\"}},\"type\":\"scatterpolargl\"}],\"scatterternary\":[{\"marker\":{\"colorbar\":{\"outlinewidth\":0,\"ticks\":\"\"}},\"type\":\"scatterternary\"}],\"surface\":[{\"colorbar\":{\"outlinewidth\":0,\"ticks\":\"\"},\"colorscale\":[[0.0,\"#0d0887\"],[0.1111111111111111,\"#46039f\"],[0.2222222222222222,\"#7201a8\"],[0.3333333333333333,\"#9c179e\"],[0.4444444444444444,\"#bd3786\"],[0.5555555555555556,\"#d8576b\"],[0.6666666666666666,\"#ed7953\"],[0.7777777777777778,\"#fb9f3a\"],[0.8888888888888888,\"#fdca26\"],[1.0,\"#f0f921\"]],\"type\":\"surface\"}],\"table\":[{\"cells\":{\"fill\":{\"color\":\"#EBF0F8\"},\"line\":{\"color\":\"white\"}},\"header\":{\"fill\":{\"color\":\"#C8D4E3\"},\"line\":{\"color\":\"white\"}},\"type\":\"table\"}]},\"layout\":{\"annotationdefaults\":{\"arrowcolor\":\"#2a3f5f\",\"arrowhead\":0,\"arrowwidth\":1},\"autotypenumbers\":\"strict\",\"coloraxis\":{\"colorbar\":{\"outlinewidth\":0,\"ticks\":\"\"}},\"colorscale\":{\"diverging\":[[0,\"#8e0152\"],[0.1,\"#c51b7d\"],[0.2,\"#de77ae\"],[0.3,\"#f1b6da\"],[0.4,\"#fde0ef\"],[0.5,\"#f7f7f7\"],[0.6,\"#e6f5d0\"],[0.7,\"#b8e186\"],[0.8,\"#7fbc41\"],[0.9,\"#4d9221\"],[1,\"#276419\"]],\"sequential\":[[0.0,\"#0d0887\"],[0.1111111111111111,\"#46039f\"],[0.2222222222222222,\"#7201a8\"],[0.3333333333333333,\"#9c179e\"],[0.4444444444444444,\"#bd3786\"],[0.5555555555555556,\"#d8576b\"],[0.6666666666666666,\"#ed7953\"],[0.7777777777777778,\"#fb9f3a\"],[0.8888888888888888,\"#fdca26\"],[1.0,\"#f0f921\"]],\"sequentialminus\":[[0.0,\"#0d0887\"],[0.1111111111111111,\"#46039f\"],[0.2222222222222222,\"#7201a8\"],[0.3333333333333333,\"#9c179e\"],[0.4444444444444444,\"#bd3786\"],[0.5555555555555556,\"#d8576b\"],[0.6666666666666666,\"#ed7953\"],[0.7777777777777778,\"#fb9f3a\"],[0.8888888888888888,\"#fdca26\"],[1.0,\"#f0f921\"]]},\"colorway\":[\"#636efa\",\"#EF553B\",\"#00cc96\",\"#ab63fa\",\"#FFA15A\",\"#19d3f3\",\"#FF6692\",\"#B6E880\",\"#FF97FF\",\"#FECB52\"],\"font\":{\"color\":\"#2a3f5f\"},\"geo\":{\"bgcolor\":\"white\",\"lakecolor\":\"white\",\"landcolor\":\"#E5ECF6\",\"showlakes\":true,\"showland\":true,\"subunitcolor\":\"white\"},\"hoverlabel\":{\"align\":\"left\"},\"hovermode\":\"closest\",\"mapbox\":{\"style\":\"light\"},\"paper_bgcolor\":\"white\",\"plot_bgcolor\":\"#E5ECF6\",\"polar\":{\"angularaxis\":{\"gridcolor\":\"white\",\"linecolor\":\"white\",\"ticks\":\"\"},\"bgcolor\":\"#E5ECF6\",\"radialaxis\":{\"gridcolor\":\"white\",\"linecolor\":\"white\",\"ticks\":\"\"}},\"scene\":{\"xaxis\":{\"backgroundcolor\":\"#E5ECF6\",\"gridcolor\":\"white\",\"gridwidth\":2,\"linecolor\":\"white\",\"showbackground\":true,\"ticks\":\"\",\"zerolinecolor\":\"white\"},\"yaxis\":{\"backgroundcolor\":\"#E5ECF6\",\"gridcolor\":\"white\",\"gridwidth\":2,\"linecolor\":\"white\",\"showbackground\":true,\"ticks\":\"\",\"zerolinecolor\":\"white\"},\"zaxis\":{\"backgroundcolor\":\"#E5ECF6\",\"gridcolor\":\"white\",\"gridwidth\":2,\"linecolor\":\"white\",\"showbackground\":true,\"ticks\":\"\",\"zerolinecolor\":\"white\"}},\"shapedefaults\":{\"line\":{\"color\":\"#2a3f5f\"}},\"ternary\":{\"aaxis\":{\"gridcolor\":\"white\",\"linecolor\":\"white\",\"ticks\":\"\"},\"baxis\":{\"gridcolor\":\"white\",\"linecolor\":\"white\",\"ticks\":\"\"},\"bgcolor\":\"#E5ECF6\",\"caxis\":{\"gridcolor\":\"white\",\"linecolor\":\"white\",\"ticks\":\"\"}},\"title\":{\"x\":0.05},\"xaxis\":{\"automargin\":true,\"gridcolor\":\"white\",\"linecolor\":\"white\",\"ticks\":\"\",\"title\":{\"standoff\":15},\"zerolinecolor\":\"white\",\"zerolinewidth\":2},\"yaxis\":{\"automargin\":true,\"gridcolor\":\"white\",\"linecolor\":\"white\",\"ticks\":\"\",\"title\":{\"standoff\":15},\"zerolinecolor\":\"white\",\"zerolinewidth\":2}}},\"xaxis\":{\"anchor\":\"y\",\"domain\":[0.0,1.0],\"title\":{\"text\":\"Year\"}},\"yaxis\":{\"anchor\":\"x\",\"domain\":[0.0,1.0],\"title\":{\"text\":\"Violent_Offenses\"}},\"legend\":{\"title\":{\"text\":\"County\"},\"tracegroupgap\":0},\"margin\":{\"t\":60}},                        {\"responsive\": true}                    ).then(function(){\n",
       "                            \n",
       "var gd = document.getElementById('4ab6e2c5-d588-4ee2-9ada-fbc0c3f217e8');\n",
       "var x = new MutationObserver(function (mutations, observer) {{\n",
       "        var display = window.getComputedStyle(gd).display;\n",
       "        if (!display || display === 'none') {{\n",
       "            console.log([gd, 'removed!']);\n",
       "            Plotly.purge(gd);\n",
       "            observer.disconnect();\n",
       "        }}\n",
       "}});\n",
       "\n",
       "// Listen for the removal of the full notebook cells\n",
       "var notebookContainer = gd.closest('#notebook-container');\n",
       "if (notebookContainer) {{\n",
       "    x.observe(notebookContainer, {childList: true});\n",
       "}}\n",
       "\n",
       "// Listen for the clearing of the current output cell\n",
       "var outputEl = gd.closest('.output');\n",
       "if (outputEl) {{\n",
       "    x.observe(outputEl, {childList: true});\n",
       "}}\n",
       "\n",
       "                        })                };                });            </script>        </div>"
      ]
     },
     "metadata": {},
     "output_type": "display_data"
    }
   ],
   "source": [
    "# Violent crimes houston area over 5 years\n",
    "fig = px.line(outer_hou_df, x=\"Year\" , y=\"Violent_Offenses\", color=\"County\")\n",
    "fig.show()"
   ]
  },
  {
   "cell_type": "code",
   "execution_count": 9,
   "id": "d1d2e9f0",
   "metadata": {},
   "outputs": [
    {
     "data": {
      "application/vnd.plotly.v1+json": {
       "config": {
        "plotlyServerURL": "https://plot.ly"
       },
       "data": [
        {
         "hovertemplate": "County=Austin County<br>Year=%{x}<br>NonViolent_Offenses=%{y}<extra></extra>",
         "legendgroup": "Austin County",
         "line": {
          "color": "#636efa",
          "dash": "solid"
         },
         "marker": {
          "symbol": "circle"
         },
         "mode": "lines",
         "name": "Austin County",
         "orientation": "v",
         "showlegend": true,
         "type": "scatter",
         "x": [
          2015,
          2016,
          2017,
          2018,
          2019,
          2020
         ],
         "xaxis": "x",
         "y": [
          417,
          406,
          326,
          249,
          256,
          236
         ],
         "yaxis": "y"
        },
        {
         "hovertemplate": "County=Brazoria County<br>Year=%{x}<br>NonViolent_Offenses=%{y}<extra></extra>",
         "legendgroup": "Brazoria County",
         "line": {
          "color": "#EF553B",
          "dash": "solid"
         },
         "marker": {
          "symbol": "circle"
         },
         "mode": "lines",
         "name": "Brazoria County",
         "orientation": "v",
         "showlegend": true,
         "type": "scatter",
         "x": [
          2015,
          2016,
          2017,
          2018,
          2019,
          2020
         ],
         "xaxis": "x",
         "y": [
          5983,
          5843,
          5428,
          5431,
          6233,
          5515
         ],
         "yaxis": "y"
        },
        {
         "hovertemplate": "County=Brazos County<br>Year=%{x}<br>NonViolent_Offenses=%{y}<extra></extra>",
         "legendgroup": "Brazos County",
         "line": {
          "color": "#00cc96",
          "dash": "solid"
         },
         "marker": {
          "symbol": "circle"
         },
         "mode": "lines",
         "name": "Brazos County",
         "orientation": "v",
         "showlegend": true,
         "type": "scatter",
         "x": [
          2015,
          2016,
          2017,
          2018,
          2019,
          2020
         ],
         "xaxis": "x",
         "y": [
          5841,
          5614,
          5030,
          5201,
          4697,
          4571
         ],
         "yaxis": "y"
        },
        {
         "hovertemplate": "County=Chambers County<br>Year=%{x}<br>NonViolent_Offenses=%{y}<extra></extra>",
         "legendgroup": "Chambers County",
         "line": {
          "color": "#ab63fa",
          "dash": "solid"
         },
         "marker": {
          "symbol": "circle"
         },
         "mode": "lines",
         "name": "Chambers County",
         "orientation": "v",
         "showlegend": true,
         "type": "scatter",
         "x": [
          2015,
          2016,
          2017,
          2018,
          2019,
          2020
         ],
         "xaxis": "x",
         "y": [
          847,
          846,
          715,
          724,
          779,
          724
         ],
         "yaxis": "y"
        },
        {
         "hovertemplate": "County=Fort Bend County<br>Year=%{x}<br>NonViolent_Offenses=%{y}<extra></extra>",
         "legendgroup": "Fort Bend County",
         "line": {
          "color": "#FFA15A",
          "dash": "solid"
         },
         "marker": {
          "symbol": "circle"
         },
         "mode": "lines",
         "name": "Fort Bend County",
         "orientation": "v",
         "showlegend": true,
         "type": "scatter",
         "x": [
          2015,
          2016,
          2017,
          2018,
          2019,
          2020
         ],
         "xaxis": "x",
         "y": [
          10264,
          9190,
          8416,
          8223,
          9007,
          8422
         ],
         "yaxis": "y"
        },
        {
         "hovertemplate": "County=Galveston County<br>Year=%{x}<br>NonViolent_Offenses=%{y}<extra></extra>",
         "legendgroup": "Galveston County",
         "line": {
          "color": "#19d3f3",
          "dash": "solid"
         },
         "marker": {
          "symbol": "circle"
         },
         "mode": "lines",
         "name": "Galveston County",
         "orientation": "v",
         "showlegend": true,
         "type": "scatter",
         "x": [
          2015,
          2016,
          2017,
          2018,
          2019,
          2020
         ],
         "xaxis": "x",
         "y": [
          8335,
          8839,
          8380,
          7795,
          7040,
          7211
         ],
         "yaxis": "y"
        },
        {
         "hovertemplate": "County=Grimes County<br>Year=%{x}<br>NonViolent_Offenses=%{y}<extra></extra>",
         "legendgroup": "Grimes County",
         "line": {
          "color": "#FF6692",
          "dash": "solid"
         },
         "marker": {
          "symbol": "circle"
         },
         "mode": "lines",
         "name": "Grimes County",
         "orientation": "v",
         "showlegend": true,
         "type": "scatter",
         "x": [
          2015,
          2016,
          2017,
          2018,
          2019,
          2020
         ],
         "xaxis": "x",
         "y": [
          463,
          461,
          309,
          290,
          328,
          337
         ],
         "yaxis": "y"
        },
        {
         "hovertemplate": "County=Liberty County<br>Year=%{x}<br>NonViolent_Offenses=%{y}<extra></extra>",
         "legendgroup": "Liberty County",
         "line": {
          "color": "#B6E880",
          "dash": "solid"
         },
         "marker": {
          "symbol": "circle"
         },
         "mode": "lines",
         "name": "Liberty County",
         "orientation": "v",
         "showlegend": true,
         "type": "scatter",
         "x": [
          2015,
          2016,
          2017,
          2018,
          2019,
          2020
         ],
         "xaxis": "x",
         "y": [
          1918,
          1699,
          688,
          1435,
          1618,
          1375
         ],
         "yaxis": "y"
        },
        {
         "hovertemplate": "County=Matagorda County<br>Year=%{x}<br>NonViolent_Offenses=%{y}<extra></extra>",
         "legendgroup": "Matagorda County",
         "line": {
          "color": "#FF97FF",
          "dash": "solid"
         },
         "marker": {
          "symbol": "circle"
         },
         "mode": "lines",
         "name": "Matagorda County",
         "orientation": "v",
         "showlegend": true,
         "type": "scatter",
         "x": [
          2015,
          2016,
          2017,
          2018,
          2019,
          2020
         ],
         "xaxis": "x",
         "y": [
          1157,
          1228,
          1024,
          1115,
          1142,
          973
         ],
         "yaxis": "y"
        },
        {
         "hovertemplate": "County=Montgomery County<br>Year=%{x}<br>NonViolent_Offenses=%{y}<extra></extra>",
         "legendgroup": "Montgomery County",
         "line": {
          "color": "#FECB52",
          "dash": "solid"
         },
         "marker": {
          "symbol": "circle"
         },
         "mode": "lines",
         "name": "Montgomery County",
         "orientation": "v",
         "showlegend": true,
         "type": "scatter",
         "x": [
          2015,
          2016,
          2017,
          2018,
          2019,
          2020
         ],
         "xaxis": "x",
         "y": [
          8635,
          8008,
          6858,
          7725,
          8051,
          7280
         ],
         "yaxis": "y"
        },
        {
         "hovertemplate": "County=Polk County<br>Year=%{x}<br>NonViolent_Offenses=%{y}<extra></extra>",
         "legendgroup": "Polk County",
         "line": {
          "color": "#636efa",
          "dash": "solid"
         },
         "marker": {
          "symbol": "circle"
         },
         "mode": "lines",
         "name": "Polk County",
         "orientation": "v",
         "showlegend": true,
         "type": "scatter",
         "x": [
          2015,
          2016,
          2017,
          2018,
          2019,
          2020
         ],
         "xaxis": "x",
         "y": [
          801,
          897,
          840,
          831,
          1060,
          861
         ],
         "yaxis": "y"
        },
        {
         "hovertemplate": "County=San Jacinto County<br>Year=%{x}<br>NonViolent_Offenses=%{y}<extra></extra>",
         "legendgroup": "San Jacinto County",
         "line": {
          "color": "#EF553B",
          "dash": "solid"
         },
         "marker": {
          "symbol": "circle"
         },
         "mode": "lines",
         "name": "San Jacinto County",
         "orientation": "v",
         "showlegend": true,
         "type": "scatter",
         "x": [
          2015,
          2016,
          2017,
          2018,
          2019,
          2020
         ],
         "xaxis": "x",
         "y": [
          466,
          362,
          466,
          360,
          330,
          711
         ],
         "yaxis": "y"
        },
        {
         "hovertemplate": "County=Walker County<br>Year=%{x}<br>NonViolent_Offenses=%{y}<extra></extra>",
         "legendgroup": "Walker County",
         "line": {
          "color": "#00cc96",
          "dash": "solid"
         },
         "marker": {
          "symbol": "circle"
         },
         "mode": "lines",
         "name": "Walker County",
         "orientation": "v",
         "showlegend": true,
         "type": "scatter",
         "x": [
          2015,
          2016,
          2017,
          2018,
          2019,
          2020
         ],
         "xaxis": "x",
         "y": [
          1177,
          1026,
          886,
          883,
          910,
          860
         ],
         "yaxis": "y"
        },
        {
         "hovertemplate": "County=Waller County<br>Year=%{x}<br>NonViolent_Offenses=%{y}<extra></extra>",
         "legendgroup": "Waller County",
         "line": {
          "color": "#ab63fa",
          "dash": "solid"
         },
         "marker": {
          "symbol": "circle"
         },
         "mode": "lines",
         "name": "Waller County",
         "orientation": "v",
         "showlegend": true,
         "type": "scatter",
         "x": [
          2015,
          2016,
          2017,
          2018,
          2019,
          2020
         ],
         "xaxis": "x",
         "y": [
          727,
          701,
          667,
          782,
          695,
          648
         ],
         "yaxis": "y"
        },
        {
         "hovertemplate": "County=Washington County<br>Year=%{x}<br>NonViolent_Offenses=%{y}<extra></extra>",
         "legendgroup": "Washington County",
         "line": {
          "color": "#FFA15A",
          "dash": "solid"
         },
         "marker": {
          "symbol": "circle"
         },
         "mode": "lines",
         "name": "Washington County",
         "orientation": "v",
         "showlegend": true,
         "type": "scatter",
         "x": [
          2015,
          2016,
          2017,
          2018,
          2019,
          2020
         ],
         "xaxis": "x",
         "y": [
          534,
          521,
          439,
          457,
          501,
          409
         ],
         "yaxis": "y"
        },
        {
         "hovertemplate": "County=Wharton County<br>Year=%{x}<br>NonViolent_Offenses=%{y}<extra></extra>",
         "legendgroup": "Wharton County",
         "line": {
          "color": "#19d3f3",
          "dash": "solid"
         },
         "marker": {
          "symbol": "circle"
         },
         "mode": "lines",
         "name": "Wharton County",
         "orientation": "v",
         "showlegend": true,
         "type": "scatter",
         "x": [
          2015,
          2016,
          2017,
          2018,
          2019,
          2020
         ],
         "xaxis": "x",
         "y": [
          1082,
          1095,
          918,
          729,
          797,
          804
         ],
         "yaxis": "y"
        }
       ],
       "layout": {
        "legend": {
         "title": {
          "text": "County"
         },
         "tracegroupgap": 0
        },
        "margin": {
         "t": 60
        },
        "template": {
         "data": {
          "bar": [
           {
            "error_x": {
             "color": "#2a3f5f"
            },
            "error_y": {
             "color": "#2a3f5f"
            },
            "marker": {
             "line": {
              "color": "#E5ECF6",
              "width": 0.5
             },
             "pattern": {
              "fillmode": "overlay",
              "size": 10,
              "solidity": 0.2
             }
            },
            "type": "bar"
           }
          ],
          "barpolar": [
           {
            "marker": {
             "line": {
              "color": "#E5ECF6",
              "width": 0.5
             },
             "pattern": {
              "fillmode": "overlay",
              "size": 10,
              "solidity": 0.2
             }
            },
            "type": "barpolar"
           }
          ],
          "carpet": [
           {
            "aaxis": {
             "endlinecolor": "#2a3f5f",
             "gridcolor": "white",
             "linecolor": "white",
             "minorgridcolor": "white",
             "startlinecolor": "#2a3f5f"
            },
            "baxis": {
             "endlinecolor": "#2a3f5f",
             "gridcolor": "white",
             "linecolor": "white",
             "minorgridcolor": "white",
             "startlinecolor": "#2a3f5f"
            },
            "type": "carpet"
           }
          ],
          "choropleth": [
           {
            "colorbar": {
             "outlinewidth": 0,
             "ticks": ""
            },
            "type": "choropleth"
           }
          ],
          "contour": [
           {
            "colorbar": {
             "outlinewidth": 0,
             "ticks": ""
            },
            "colorscale": [
             [
              0,
              "#0d0887"
             ],
             [
              0.1111111111111111,
              "#46039f"
             ],
             [
              0.2222222222222222,
              "#7201a8"
             ],
             [
              0.3333333333333333,
              "#9c179e"
             ],
             [
              0.4444444444444444,
              "#bd3786"
             ],
             [
              0.5555555555555556,
              "#d8576b"
             ],
             [
              0.6666666666666666,
              "#ed7953"
             ],
             [
              0.7777777777777778,
              "#fb9f3a"
             ],
             [
              0.8888888888888888,
              "#fdca26"
             ],
             [
              1,
              "#f0f921"
             ]
            ],
            "type": "contour"
           }
          ],
          "contourcarpet": [
           {
            "colorbar": {
             "outlinewidth": 0,
             "ticks": ""
            },
            "type": "contourcarpet"
           }
          ],
          "heatmap": [
           {
            "colorbar": {
             "outlinewidth": 0,
             "ticks": ""
            },
            "colorscale": [
             [
              0,
              "#0d0887"
             ],
             [
              0.1111111111111111,
              "#46039f"
             ],
             [
              0.2222222222222222,
              "#7201a8"
             ],
             [
              0.3333333333333333,
              "#9c179e"
             ],
             [
              0.4444444444444444,
              "#bd3786"
             ],
             [
              0.5555555555555556,
              "#d8576b"
             ],
             [
              0.6666666666666666,
              "#ed7953"
             ],
             [
              0.7777777777777778,
              "#fb9f3a"
             ],
             [
              0.8888888888888888,
              "#fdca26"
             ],
             [
              1,
              "#f0f921"
             ]
            ],
            "type": "heatmap"
           }
          ],
          "heatmapgl": [
           {
            "colorbar": {
             "outlinewidth": 0,
             "ticks": ""
            },
            "colorscale": [
             [
              0,
              "#0d0887"
             ],
             [
              0.1111111111111111,
              "#46039f"
             ],
             [
              0.2222222222222222,
              "#7201a8"
             ],
             [
              0.3333333333333333,
              "#9c179e"
             ],
             [
              0.4444444444444444,
              "#bd3786"
             ],
             [
              0.5555555555555556,
              "#d8576b"
             ],
             [
              0.6666666666666666,
              "#ed7953"
             ],
             [
              0.7777777777777778,
              "#fb9f3a"
             ],
             [
              0.8888888888888888,
              "#fdca26"
             ],
             [
              1,
              "#f0f921"
             ]
            ],
            "type": "heatmapgl"
           }
          ],
          "histogram": [
           {
            "marker": {
             "pattern": {
              "fillmode": "overlay",
              "size": 10,
              "solidity": 0.2
             }
            },
            "type": "histogram"
           }
          ],
          "histogram2d": [
           {
            "colorbar": {
             "outlinewidth": 0,
             "ticks": ""
            },
            "colorscale": [
             [
              0,
              "#0d0887"
             ],
             [
              0.1111111111111111,
              "#46039f"
             ],
             [
              0.2222222222222222,
              "#7201a8"
             ],
             [
              0.3333333333333333,
              "#9c179e"
             ],
             [
              0.4444444444444444,
              "#bd3786"
             ],
             [
              0.5555555555555556,
              "#d8576b"
             ],
             [
              0.6666666666666666,
              "#ed7953"
             ],
             [
              0.7777777777777778,
              "#fb9f3a"
             ],
             [
              0.8888888888888888,
              "#fdca26"
             ],
             [
              1,
              "#f0f921"
             ]
            ],
            "type": "histogram2d"
           }
          ],
          "histogram2dcontour": [
           {
            "colorbar": {
             "outlinewidth": 0,
             "ticks": ""
            },
            "colorscale": [
             [
              0,
              "#0d0887"
             ],
             [
              0.1111111111111111,
              "#46039f"
             ],
             [
              0.2222222222222222,
              "#7201a8"
             ],
             [
              0.3333333333333333,
              "#9c179e"
             ],
             [
              0.4444444444444444,
              "#bd3786"
             ],
             [
              0.5555555555555556,
              "#d8576b"
             ],
             [
              0.6666666666666666,
              "#ed7953"
             ],
             [
              0.7777777777777778,
              "#fb9f3a"
             ],
             [
              0.8888888888888888,
              "#fdca26"
             ],
             [
              1,
              "#f0f921"
             ]
            ],
            "type": "histogram2dcontour"
           }
          ],
          "mesh3d": [
           {
            "colorbar": {
             "outlinewidth": 0,
             "ticks": ""
            },
            "type": "mesh3d"
           }
          ],
          "parcoords": [
           {
            "line": {
             "colorbar": {
              "outlinewidth": 0,
              "ticks": ""
             }
            },
            "type": "parcoords"
           }
          ],
          "pie": [
           {
            "automargin": true,
            "type": "pie"
           }
          ],
          "scatter": [
           {
            "marker": {
             "colorbar": {
              "outlinewidth": 0,
              "ticks": ""
             }
            },
            "type": "scatter"
           }
          ],
          "scatter3d": [
           {
            "line": {
             "colorbar": {
              "outlinewidth": 0,
              "ticks": ""
             }
            },
            "marker": {
             "colorbar": {
              "outlinewidth": 0,
              "ticks": ""
             }
            },
            "type": "scatter3d"
           }
          ],
          "scattercarpet": [
           {
            "marker": {
             "colorbar": {
              "outlinewidth": 0,
              "ticks": ""
             }
            },
            "type": "scattercarpet"
           }
          ],
          "scattergeo": [
           {
            "marker": {
             "colorbar": {
              "outlinewidth": 0,
              "ticks": ""
             }
            },
            "type": "scattergeo"
           }
          ],
          "scattergl": [
           {
            "marker": {
             "colorbar": {
              "outlinewidth": 0,
              "ticks": ""
             }
            },
            "type": "scattergl"
           }
          ],
          "scattermapbox": [
           {
            "marker": {
             "colorbar": {
              "outlinewidth": 0,
              "ticks": ""
             }
            },
            "type": "scattermapbox"
           }
          ],
          "scatterpolar": [
           {
            "marker": {
             "colorbar": {
              "outlinewidth": 0,
              "ticks": ""
             }
            },
            "type": "scatterpolar"
           }
          ],
          "scatterpolargl": [
           {
            "marker": {
             "colorbar": {
              "outlinewidth": 0,
              "ticks": ""
             }
            },
            "type": "scatterpolargl"
           }
          ],
          "scatterternary": [
           {
            "marker": {
             "colorbar": {
              "outlinewidth": 0,
              "ticks": ""
             }
            },
            "type": "scatterternary"
           }
          ],
          "surface": [
           {
            "colorbar": {
             "outlinewidth": 0,
             "ticks": ""
            },
            "colorscale": [
             [
              0,
              "#0d0887"
             ],
             [
              0.1111111111111111,
              "#46039f"
             ],
             [
              0.2222222222222222,
              "#7201a8"
             ],
             [
              0.3333333333333333,
              "#9c179e"
             ],
             [
              0.4444444444444444,
              "#bd3786"
             ],
             [
              0.5555555555555556,
              "#d8576b"
             ],
             [
              0.6666666666666666,
              "#ed7953"
             ],
             [
              0.7777777777777778,
              "#fb9f3a"
             ],
             [
              0.8888888888888888,
              "#fdca26"
             ],
             [
              1,
              "#f0f921"
             ]
            ],
            "type": "surface"
           }
          ],
          "table": [
           {
            "cells": {
             "fill": {
              "color": "#EBF0F8"
             },
             "line": {
              "color": "white"
             }
            },
            "header": {
             "fill": {
              "color": "#C8D4E3"
             },
             "line": {
              "color": "white"
             }
            },
            "type": "table"
           }
          ]
         },
         "layout": {
          "annotationdefaults": {
           "arrowcolor": "#2a3f5f",
           "arrowhead": 0,
           "arrowwidth": 1
          },
          "autotypenumbers": "strict",
          "coloraxis": {
           "colorbar": {
            "outlinewidth": 0,
            "ticks": ""
           }
          },
          "colorscale": {
           "diverging": [
            [
             0,
             "#8e0152"
            ],
            [
             0.1,
             "#c51b7d"
            ],
            [
             0.2,
             "#de77ae"
            ],
            [
             0.3,
             "#f1b6da"
            ],
            [
             0.4,
             "#fde0ef"
            ],
            [
             0.5,
             "#f7f7f7"
            ],
            [
             0.6,
             "#e6f5d0"
            ],
            [
             0.7,
             "#b8e186"
            ],
            [
             0.8,
             "#7fbc41"
            ],
            [
             0.9,
             "#4d9221"
            ],
            [
             1,
             "#276419"
            ]
           ],
           "sequential": [
            [
             0,
             "#0d0887"
            ],
            [
             0.1111111111111111,
             "#46039f"
            ],
            [
             0.2222222222222222,
             "#7201a8"
            ],
            [
             0.3333333333333333,
             "#9c179e"
            ],
            [
             0.4444444444444444,
             "#bd3786"
            ],
            [
             0.5555555555555556,
             "#d8576b"
            ],
            [
             0.6666666666666666,
             "#ed7953"
            ],
            [
             0.7777777777777778,
             "#fb9f3a"
            ],
            [
             0.8888888888888888,
             "#fdca26"
            ],
            [
             1,
             "#f0f921"
            ]
           ],
           "sequentialminus": [
            [
             0,
             "#0d0887"
            ],
            [
             0.1111111111111111,
             "#46039f"
            ],
            [
             0.2222222222222222,
             "#7201a8"
            ],
            [
             0.3333333333333333,
             "#9c179e"
            ],
            [
             0.4444444444444444,
             "#bd3786"
            ],
            [
             0.5555555555555556,
             "#d8576b"
            ],
            [
             0.6666666666666666,
             "#ed7953"
            ],
            [
             0.7777777777777778,
             "#fb9f3a"
            ],
            [
             0.8888888888888888,
             "#fdca26"
            ],
            [
             1,
             "#f0f921"
            ]
           ]
          },
          "colorway": [
           "#636efa",
           "#EF553B",
           "#00cc96",
           "#ab63fa",
           "#FFA15A",
           "#19d3f3",
           "#FF6692",
           "#B6E880",
           "#FF97FF",
           "#FECB52"
          ],
          "font": {
           "color": "#2a3f5f"
          },
          "geo": {
           "bgcolor": "white",
           "lakecolor": "white",
           "landcolor": "#E5ECF6",
           "showlakes": true,
           "showland": true,
           "subunitcolor": "white"
          },
          "hoverlabel": {
           "align": "left"
          },
          "hovermode": "closest",
          "mapbox": {
           "style": "light"
          },
          "paper_bgcolor": "white",
          "plot_bgcolor": "#E5ECF6",
          "polar": {
           "angularaxis": {
            "gridcolor": "white",
            "linecolor": "white",
            "ticks": ""
           },
           "bgcolor": "#E5ECF6",
           "radialaxis": {
            "gridcolor": "white",
            "linecolor": "white",
            "ticks": ""
           }
          },
          "scene": {
           "xaxis": {
            "backgroundcolor": "#E5ECF6",
            "gridcolor": "white",
            "gridwidth": 2,
            "linecolor": "white",
            "showbackground": true,
            "ticks": "",
            "zerolinecolor": "white"
           },
           "yaxis": {
            "backgroundcolor": "#E5ECF6",
            "gridcolor": "white",
            "gridwidth": 2,
            "linecolor": "white",
            "showbackground": true,
            "ticks": "",
            "zerolinecolor": "white"
           },
           "zaxis": {
            "backgroundcolor": "#E5ECF6",
            "gridcolor": "white",
            "gridwidth": 2,
            "linecolor": "white",
            "showbackground": true,
            "ticks": "",
            "zerolinecolor": "white"
           }
          },
          "shapedefaults": {
           "line": {
            "color": "#2a3f5f"
           }
          },
          "ternary": {
           "aaxis": {
            "gridcolor": "white",
            "linecolor": "white",
            "ticks": ""
           },
           "baxis": {
            "gridcolor": "white",
            "linecolor": "white",
            "ticks": ""
           },
           "bgcolor": "#E5ECF6",
           "caxis": {
            "gridcolor": "white",
            "linecolor": "white",
            "ticks": ""
           }
          },
          "title": {
           "x": 0.05
          },
          "xaxis": {
           "automargin": true,
           "gridcolor": "white",
           "linecolor": "white",
           "ticks": "",
           "title": {
            "standoff": 15
           },
           "zerolinecolor": "white",
           "zerolinewidth": 2
          },
          "yaxis": {
           "automargin": true,
           "gridcolor": "white",
           "linecolor": "white",
           "ticks": "",
           "title": {
            "standoff": 15
           },
           "zerolinecolor": "white",
           "zerolinewidth": 2
          }
         }
        },
        "xaxis": {
         "anchor": "y",
         "domain": [
          0,
          1
         ],
         "title": {
          "text": "Year"
         }
        },
        "yaxis": {
         "anchor": "x",
         "domain": [
          0,
          1
         ],
         "title": {
          "text": "NonViolent_Offenses"
         }
        }
       }
      },
      "text/html": [
       "<div>                            <div id=\"289f964a-cac6-4739-a968-b3e9b5f7046f\" class=\"plotly-graph-div\" style=\"height:525px; width:100%;\"></div>            <script type=\"text/javascript\">                require([\"plotly\"], function(Plotly) {                    window.PLOTLYENV=window.PLOTLYENV || {};                                    if (document.getElementById(\"289f964a-cac6-4739-a968-b3e9b5f7046f\")) {                    Plotly.newPlot(                        \"289f964a-cac6-4739-a968-b3e9b5f7046f\",                        [{\"hovertemplate\":\"County=Austin County<br>Year=%{x}<br>NonViolent_Offenses=%{y}<extra></extra>\",\"legendgroup\":\"Austin County\",\"line\":{\"color\":\"#636efa\",\"dash\":\"solid\"},\"marker\":{\"symbol\":\"circle\"},\"mode\":\"lines\",\"name\":\"Austin County\",\"orientation\":\"v\",\"showlegend\":true,\"x\":[2015,2016,2017,2018,2019,2020],\"xaxis\":\"x\",\"y\":[417,406,326,249,256,236],\"yaxis\":\"y\",\"type\":\"scatter\"},{\"hovertemplate\":\"County=Brazoria County<br>Year=%{x}<br>NonViolent_Offenses=%{y}<extra></extra>\",\"legendgroup\":\"Brazoria County\",\"line\":{\"color\":\"#EF553B\",\"dash\":\"solid\"},\"marker\":{\"symbol\":\"circle\"},\"mode\":\"lines\",\"name\":\"Brazoria County\",\"orientation\":\"v\",\"showlegend\":true,\"x\":[2015,2016,2017,2018,2019,2020],\"xaxis\":\"x\",\"y\":[5983,5843,5428,5431,6233,5515],\"yaxis\":\"y\",\"type\":\"scatter\"},{\"hovertemplate\":\"County=Brazos County<br>Year=%{x}<br>NonViolent_Offenses=%{y}<extra></extra>\",\"legendgroup\":\"Brazos County\",\"line\":{\"color\":\"#00cc96\",\"dash\":\"solid\"},\"marker\":{\"symbol\":\"circle\"},\"mode\":\"lines\",\"name\":\"Brazos County\",\"orientation\":\"v\",\"showlegend\":true,\"x\":[2015,2016,2017,2018,2019,2020],\"xaxis\":\"x\",\"y\":[5841,5614,5030,5201,4697,4571],\"yaxis\":\"y\",\"type\":\"scatter\"},{\"hovertemplate\":\"County=Chambers County<br>Year=%{x}<br>NonViolent_Offenses=%{y}<extra></extra>\",\"legendgroup\":\"Chambers County\",\"line\":{\"color\":\"#ab63fa\",\"dash\":\"solid\"},\"marker\":{\"symbol\":\"circle\"},\"mode\":\"lines\",\"name\":\"Chambers County\",\"orientation\":\"v\",\"showlegend\":true,\"x\":[2015,2016,2017,2018,2019,2020],\"xaxis\":\"x\",\"y\":[847,846,715,724,779,724],\"yaxis\":\"y\",\"type\":\"scatter\"},{\"hovertemplate\":\"County=Fort Bend County<br>Year=%{x}<br>NonViolent_Offenses=%{y}<extra></extra>\",\"legendgroup\":\"Fort Bend County\",\"line\":{\"color\":\"#FFA15A\",\"dash\":\"solid\"},\"marker\":{\"symbol\":\"circle\"},\"mode\":\"lines\",\"name\":\"Fort Bend County\",\"orientation\":\"v\",\"showlegend\":true,\"x\":[2015,2016,2017,2018,2019,2020],\"xaxis\":\"x\",\"y\":[10264,9190,8416,8223,9007,8422],\"yaxis\":\"y\",\"type\":\"scatter\"},{\"hovertemplate\":\"County=Galveston County<br>Year=%{x}<br>NonViolent_Offenses=%{y}<extra></extra>\",\"legendgroup\":\"Galveston County\",\"line\":{\"color\":\"#19d3f3\",\"dash\":\"solid\"},\"marker\":{\"symbol\":\"circle\"},\"mode\":\"lines\",\"name\":\"Galveston County\",\"orientation\":\"v\",\"showlegend\":true,\"x\":[2015,2016,2017,2018,2019,2020],\"xaxis\":\"x\",\"y\":[8335,8839,8380,7795,7040,7211],\"yaxis\":\"y\",\"type\":\"scatter\"},{\"hovertemplate\":\"County=Grimes County<br>Year=%{x}<br>NonViolent_Offenses=%{y}<extra></extra>\",\"legendgroup\":\"Grimes County\",\"line\":{\"color\":\"#FF6692\",\"dash\":\"solid\"},\"marker\":{\"symbol\":\"circle\"},\"mode\":\"lines\",\"name\":\"Grimes County\",\"orientation\":\"v\",\"showlegend\":true,\"x\":[2015,2016,2017,2018,2019,2020],\"xaxis\":\"x\",\"y\":[463,461,309,290,328,337],\"yaxis\":\"y\",\"type\":\"scatter\"},{\"hovertemplate\":\"County=Liberty County<br>Year=%{x}<br>NonViolent_Offenses=%{y}<extra></extra>\",\"legendgroup\":\"Liberty County\",\"line\":{\"color\":\"#B6E880\",\"dash\":\"solid\"},\"marker\":{\"symbol\":\"circle\"},\"mode\":\"lines\",\"name\":\"Liberty County\",\"orientation\":\"v\",\"showlegend\":true,\"x\":[2015,2016,2017,2018,2019,2020],\"xaxis\":\"x\",\"y\":[1918,1699,688,1435,1618,1375],\"yaxis\":\"y\",\"type\":\"scatter\"},{\"hovertemplate\":\"County=Matagorda County<br>Year=%{x}<br>NonViolent_Offenses=%{y}<extra></extra>\",\"legendgroup\":\"Matagorda County\",\"line\":{\"color\":\"#FF97FF\",\"dash\":\"solid\"},\"marker\":{\"symbol\":\"circle\"},\"mode\":\"lines\",\"name\":\"Matagorda County\",\"orientation\":\"v\",\"showlegend\":true,\"x\":[2015,2016,2017,2018,2019,2020],\"xaxis\":\"x\",\"y\":[1157,1228,1024,1115,1142,973],\"yaxis\":\"y\",\"type\":\"scatter\"},{\"hovertemplate\":\"County=Montgomery County<br>Year=%{x}<br>NonViolent_Offenses=%{y}<extra></extra>\",\"legendgroup\":\"Montgomery County\",\"line\":{\"color\":\"#FECB52\",\"dash\":\"solid\"},\"marker\":{\"symbol\":\"circle\"},\"mode\":\"lines\",\"name\":\"Montgomery County\",\"orientation\":\"v\",\"showlegend\":true,\"x\":[2015,2016,2017,2018,2019,2020],\"xaxis\":\"x\",\"y\":[8635,8008,6858,7725,8051,7280],\"yaxis\":\"y\",\"type\":\"scatter\"},{\"hovertemplate\":\"County=Polk County<br>Year=%{x}<br>NonViolent_Offenses=%{y}<extra></extra>\",\"legendgroup\":\"Polk County\",\"line\":{\"color\":\"#636efa\",\"dash\":\"solid\"},\"marker\":{\"symbol\":\"circle\"},\"mode\":\"lines\",\"name\":\"Polk County\",\"orientation\":\"v\",\"showlegend\":true,\"x\":[2015,2016,2017,2018,2019,2020],\"xaxis\":\"x\",\"y\":[801,897,840,831,1060,861],\"yaxis\":\"y\",\"type\":\"scatter\"},{\"hovertemplate\":\"County=San Jacinto County<br>Year=%{x}<br>NonViolent_Offenses=%{y}<extra></extra>\",\"legendgroup\":\"San Jacinto County\",\"line\":{\"color\":\"#EF553B\",\"dash\":\"solid\"},\"marker\":{\"symbol\":\"circle\"},\"mode\":\"lines\",\"name\":\"San Jacinto County\",\"orientation\":\"v\",\"showlegend\":true,\"x\":[2015,2016,2017,2018,2019,2020],\"xaxis\":\"x\",\"y\":[466,362,466,360,330,711],\"yaxis\":\"y\",\"type\":\"scatter\"},{\"hovertemplate\":\"County=Walker County<br>Year=%{x}<br>NonViolent_Offenses=%{y}<extra></extra>\",\"legendgroup\":\"Walker County\",\"line\":{\"color\":\"#00cc96\",\"dash\":\"solid\"},\"marker\":{\"symbol\":\"circle\"},\"mode\":\"lines\",\"name\":\"Walker County\",\"orientation\":\"v\",\"showlegend\":true,\"x\":[2015,2016,2017,2018,2019,2020],\"xaxis\":\"x\",\"y\":[1177,1026,886,883,910,860],\"yaxis\":\"y\",\"type\":\"scatter\"},{\"hovertemplate\":\"County=Waller County<br>Year=%{x}<br>NonViolent_Offenses=%{y}<extra></extra>\",\"legendgroup\":\"Waller County\",\"line\":{\"color\":\"#ab63fa\",\"dash\":\"solid\"},\"marker\":{\"symbol\":\"circle\"},\"mode\":\"lines\",\"name\":\"Waller County\",\"orientation\":\"v\",\"showlegend\":true,\"x\":[2015,2016,2017,2018,2019,2020],\"xaxis\":\"x\",\"y\":[727,701,667,782,695,648],\"yaxis\":\"y\",\"type\":\"scatter\"},{\"hovertemplate\":\"County=Washington County<br>Year=%{x}<br>NonViolent_Offenses=%{y}<extra></extra>\",\"legendgroup\":\"Washington County\",\"line\":{\"color\":\"#FFA15A\",\"dash\":\"solid\"},\"marker\":{\"symbol\":\"circle\"},\"mode\":\"lines\",\"name\":\"Washington County\",\"orientation\":\"v\",\"showlegend\":true,\"x\":[2015,2016,2017,2018,2019,2020],\"xaxis\":\"x\",\"y\":[534,521,439,457,501,409],\"yaxis\":\"y\",\"type\":\"scatter\"},{\"hovertemplate\":\"County=Wharton County<br>Year=%{x}<br>NonViolent_Offenses=%{y}<extra></extra>\",\"legendgroup\":\"Wharton County\",\"line\":{\"color\":\"#19d3f3\",\"dash\":\"solid\"},\"marker\":{\"symbol\":\"circle\"},\"mode\":\"lines\",\"name\":\"Wharton County\",\"orientation\":\"v\",\"showlegend\":true,\"x\":[2015,2016,2017,2018,2019,2020],\"xaxis\":\"x\",\"y\":[1082,1095,918,729,797,804],\"yaxis\":\"y\",\"type\":\"scatter\"}],                        {\"template\":{\"data\":{\"bar\":[{\"error_x\":{\"color\":\"#2a3f5f\"},\"error_y\":{\"color\":\"#2a3f5f\"},\"marker\":{\"line\":{\"color\":\"#E5ECF6\",\"width\":0.5},\"pattern\":{\"fillmode\":\"overlay\",\"size\":10,\"solidity\":0.2}},\"type\":\"bar\"}],\"barpolar\":[{\"marker\":{\"line\":{\"color\":\"#E5ECF6\",\"width\":0.5},\"pattern\":{\"fillmode\":\"overlay\",\"size\":10,\"solidity\":0.2}},\"type\":\"barpolar\"}],\"carpet\":[{\"aaxis\":{\"endlinecolor\":\"#2a3f5f\",\"gridcolor\":\"white\",\"linecolor\":\"white\",\"minorgridcolor\":\"white\",\"startlinecolor\":\"#2a3f5f\"},\"baxis\":{\"endlinecolor\":\"#2a3f5f\",\"gridcolor\":\"white\",\"linecolor\":\"white\",\"minorgridcolor\":\"white\",\"startlinecolor\":\"#2a3f5f\"},\"type\":\"carpet\"}],\"choropleth\":[{\"colorbar\":{\"outlinewidth\":0,\"ticks\":\"\"},\"type\":\"choropleth\"}],\"contour\":[{\"colorbar\":{\"outlinewidth\":0,\"ticks\":\"\"},\"colorscale\":[[0.0,\"#0d0887\"],[0.1111111111111111,\"#46039f\"],[0.2222222222222222,\"#7201a8\"],[0.3333333333333333,\"#9c179e\"],[0.4444444444444444,\"#bd3786\"],[0.5555555555555556,\"#d8576b\"],[0.6666666666666666,\"#ed7953\"],[0.7777777777777778,\"#fb9f3a\"],[0.8888888888888888,\"#fdca26\"],[1.0,\"#f0f921\"]],\"type\":\"contour\"}],\"contourcarpet\":[{\"colorbar\":{\"outlinewidth\":0,\"ticks\":\"\"},\"type\":\"contourcarpet\"}],\"heatmap\":[{\"colorbar\":{\"outlinewidth\":0,\"ticks\":\"\"},\"colorscale\":[[0.0,\"#0d0887\"],[0.1111111111111111,\"#46039f\"],[0.2222222222222222,\"#7201a8\"],[0.3333333333333333,\"#9c179e\"],[0.4444444444444444,\"#bd3786\"],[0.5555555555555556,\"#d8576b\"],[0.6666666666666666,\"#ed7953\"],[0.7777777777777778,\"#fb9f3a\"],[0.8888888888888888,\"#fdca26\"],[1.0,\"#f0f921\"]],\"type\":\"heatmap\"}],\"heatmapgl\":[{\"colorbar\":{\"outlinewidth\":0,\"ticks\":\"\"},\"colorscale\":[[0.0,\"#0d0887\"],[0.1111111111111111,\"#46039f\"],[0.2222222222222222,\"#7201a8\"],[0.3333333333333333,\"#9c179e\"],[0.4444444444444444,\"#bd3786\"],[0.5555555555555556,\"#d8576b\"],[0.6666666666666666,\"#ed7953\"],[0.7777777777777778,\"#fb9f3a\"],[0.8888888888888888,\"#fdca26\"],[1.0,\"#f0f921\"]],\"type\":\"heatmapgl\"}],\"histogram\":[{\"marker\":{\"pattern\":{\"fillmode\":\"overlay\",\"size\":10,\"solidity\":0.2}},\"type\":\"histogram\"}],\"histogram2d\":[{\"colorbar\":{\"outlinewidth\":0,\"ticks\":\"\"},\"colorscale\":[[0.0,\"#0d0887\"],[0.1111111111111111,\"#46039f\"],[0.2222222222222222,\"#7201a8\"],[0.3333333333333333,\"#9c179e\"],[0.4444444444444444,\"#bd3786\"],[0.5555555555555556,\"#d8576b\"],[0.6666666666666666,\"#ed7953\"],[0.7777777777777778,\"#fb9f3a\"],[0.8888888888888888,\"#fdca26\"],[1.0,\"#f0f921\"]],\"type\":\"histogram2d\"}],\"histogram2dcontour\":[{\"colorbar\":{\"outlinewidth\":0,\"ticks\":\"\"},\"colorscale\":[[0.0,\"#0d0887\"],[0.1111111111111111,\"#46039f\"],[0.2222222222222222,\"#7201a8\"],[0.3333333333333333,\"#9c179e\"],[0.4444444444444444,\"#bd3786\"],[0.5555555555555556,\"#d8576b\"],[0.6666666666666666,\"#ed7953\"],[0.7777777777777778,\"#fb9f3a\"],[0.8888888888888888,\"#fdca26\"],[1.0,\"#f0f921\"]],\"type\":\"histogram2dcontour\"}],\"mesh3d\":[{\"colorbar\":{\"outlinewidth\":0,\"ticks\":\"\"},\"type\":\"mesh3d\"}],\"parcoords\":[{\"line\":{\"colorbar\":{\"outlinewidth\":0,\"ticks\":\"\"}},\"type\":\"parcoords\"}],\"pie\":[{\"automargin\":true,\"type\":\"pie\"}],\"scatter\":[{\"marker\":{\"colorbar\":{\"outlinewidth\":0,\"ticks\":\"\"}},\"type\":\"scatter\"}],\"scatter3d\":[{\"line\":{\"colorbar\":{\"outlinewidth\":0,\"ticks\":\"\"}},\"marker\":{\"colorbar\":{\"outlinewidth\":0,\"ticks\":\"\"}},\"type\":\"scatter3d\"}],\"scattercarpet\":[{\"marker\":{\"colorbar\":{\"outlinewidth\":0,\"ticks\":\"\"}},\"type\":\"scattercarpet\"}],\"scattergeo\":[{\"marker\":{\"colorbar\":{\"outlinewidth\":0,\"ticks\":\"\"}},\"type\":\"scattergeo\"}],\"scattergl\":[{\"marker\":{\"colorbar\":{\"outlinewidth\":0,\"ticks\":\"\"}},\"type\":\"scattergl\"}],\"scattermapbox\":[{\"marker\":{\"colorbar\":{\"outlinewidth\":0,\"ticks\":\"\"}},\"type\":\"scattermapbox\"}],\"scatterpolar\":[{\"marker\":{\"colorbar\":{\"outlinewidth\":0,\"ticks\":\"\"}},\"type\":\"scatterpolar\"}],\"scatterpolargl\":[{\"marker\":{\"colorbar\":{\"outlinewidth\":0,\"ticks\":\"\"}},\"type\":\"scatterpolargl\"}],\"scatterternary\":[{\"marker\":{\"colorbar\":{\"outlinewidth\":0,\"ticks\":\"\"}},\"type\":\"scatterternary\"}],\"surface\":[{\"colorbar\":{\"outlinewidth\":0,\"ticks\":\"\"},\"colorscale\":[[0.0,\"#0d0887\"],[0.1111111111111111,\"#46039f\"],[0.2222222222222222,\"#7201a8\"],[0.3333333333333333,\"#9c179e\"],[0.4444444444444444,\"#bd3786\"],[0.5555555555555556,\"#d8576b\"],[0.6666666666666666,\"#ed7953\"],[0.7777777777777778,\"#fb9f3a\"],[0.8888888888888888,\"#fdca26\"],[1.0,\"#f0f921\"]],\"type\":\"surface\"}],\"table\":[{\"cells\":{\"fill\":{\"color\":\"#EBF0F8\"},\"line\":{\"color\":\"white\"}},\"header\":{\"fill\":{\"color\":\"#C8D4E3\"},\"line\":{\"color\":\"white\"}},\"type\":\"table\"}]},\"layout\":{\"annotationdefaults\":{\"arrowcolor\":\"#2a3f5f\",\"arrowhead\":0,\"arrowwidth\":1},\"autotypenumbers\":\"strict\",\"coloraxis\":{\"colorbar\":{\"outlinewidth\":0,\"ticks\":\"\"}},\"colorscale\":{\"diverging\":[[0,\"#8e0152\"],[0.1,\"#c51b7d\"],[0.2,\"#de77ae\"],[0.3,\"#f1b6da\"],[0.4,\"#fde0ef\"],[0.5,\"#f7f7f7\"],[0.6,\"#e6f5d0\"],[0.7,\"#b8e186\"],[0.8,\"#7fbc41\"],[0.9,\"#4d9221\"],[1,\"#276419\"]],\"sequential\":[[0.0,\"#0d0887\"],[0.1111111111111111,\"#46039f\"],[0.2222222222222222,\"#7201a8\"],[0.3333333333333333,\"#9c179e\"],[0.4444444444444444,\"#bd3786\"],[0.5555555555555556,\"#d8576b\"],[0.6666666666666666,\"#ed7953\"],[0.7777777777777778,\"#fb9f3a\"],[0.8888888888888888,\"#fdca26\"],[1.0,\"#f0f921\"]],\"sequentialminus\":[[0.0,\"#0d0887\"],[0.1111111111111111,\"#46039f\"],[0.2222222222222222,\"#7201a8\"],[0.3333333333333333,\"#9c179e\"],[0.4444444444444444,\"#bd3786\"],[0.5555555555555556,\"#d8576b\"],[0.6666666666666666,\"#ed7953\"],[0.7777777777777778,\"#fb9f3a\"],[0.8888888888888888,\"#fdca26\"],[1.0,\"#f0f921\"]]},\"colorway\":[\"#636efa\",\"#EF553B\",\"#00cc96\",\"#ab63fa\",\"#FFA15A\",\"#19d3f3\",\"#FF6692\",\"#B6E880\",\"#FF97FF\",\"#FECB52\"],\"font\":{\"color\":\"#2a3f5f\"},\"geo\":{\"bgcolor\":\"white\",\"lakecolor\":\"white\",\"landcolor\":\"#E5ECF6\",\"showlakes\":true,\"showland\":true,\"subunitcolor\":\"white\"},\"hoverlabel\":{\"align\":\"left\"},\"hovermode\":\"closest\",\"mapbox\":{\"style\":\"light\"},\"paper_bgcolor\":\"white\",\"plot_bgcolor\":\"#E5ECF6\",\"polar\":{\"angularaxis\":{\"gridcolor\":\"white\",\"linecolor\":\"white\",\"ticks\":\"\"},\"bgcolor\":\"#E5ECF6\",\"radialaxis\":{\"gridcolor\":\"white\",\"linecolor\":\"white\",\"ticks\":\"\"}},\"scene\":{\"xaxis\":{\"backgroundcolor\":\"#E5ECF6\",\"gridcolor\":\"white\",\"gridwidth\":2,\"linecolor\":\"white\",\"showbackground\":true,\"ticks\":\"\",\"zerolinecolor\":\"white\"},\"yaxis\":{\"backgroundcolor\":\"#E5ECF6\",\"gridcolor\":\"white\",\"gridwidth\":2,\"linecolor\":\"white\",\"showbackground\":true,\"ticks\":\"\",\"zerolinecolor\":\"white\"},\"zaxis\":{\"backgroundcolor\":\"#E5ECF6\",\"gridcolor\":\"white\",\"gridwidth\":2,\"linecolor\":\"white\",\"showbackground\":true,\"ticks\":\"\",\"zerolinecolor\":\"white\"}},\"shapedefaults\":{\"line\":{\"color\":\"#2a3f5f\"}},\"ternary\":{\"aaxis\":{\"gridcolor\":\"white\",\"linecolor\":\"white\",\"ticks\":\"\"},\"baxis\":{\"gridcolor\":\"white\",\"linecolor\":\"white\",\"ticks\":\"\"},\"bgcolor\":\"#E5ECF6\",\"caxis\":{\"gridcolor\":\"white\",\"linecolor\":\"white\",\"ticks\":\"\"}},\"title\":{\"x\":0.05},\"xaxis\":{\"automargin\":true,\"gridcolor\":\"white\",\"linecolor\":\"white\",\"ticks\":\"\",\"title\":{\"standoff\":15},\"zerolinecolor\":\"white\",\"zerolinewidth\":2},\"yaxis\":{\"automargin\":true,\"gridcolor\":\"white\",\"linecolor\":\"white\",\"ticks\":\"\",\"title\":{\"standoff\":15},\"zerolinecolor\":\"white\",\"zerolinewidth\":2}}},\"xaxis\":{\"anchor\":\"y\",\"domain\":[0.0,1.0],\"title\":{\"text\":\"Year\"}},\"yaxis\":{\"anchor\":\"x\",\"domain\":[0.0,1.0],\"title\":{\"text\":\"NonViolent_Offenses\"}},\"legend\":{\"title\":{\"text\":\"County\"},\"tracegroupgap\":0},\"margin\":{\"t\":60}},                        {\"responsive\": true}                    ).then(function(){\n",
       "                            \n",
       "var gd = document.getElementById('289f964a-cac6-4739-a968-b3e9b5f7046f');\n",
       "var x = new MutationObserver(function (mutations, observer) {{\n",
       "        var display = window.getComputedStyle(gd).display;\n",
       "        if (!display || display === 'none') {{\n",
       "            console.log([gd, 'removed!']);\n",
       "            Plotly.purge(gd);\n",
       "            observer.disconnect();\n",
       "        }}\n",
       "}});\n",
       "\n",
       "// Listen for the removal of the full notebook cells\n",
       "var notebookContainer = gd.closest('#notebook-container');\n",
       "if (notebookContainer) {{\n",
       "    x.observe(notebookContainer, {childList: true});\n",
       "}}\n",
       "\n",
       "// Listen for the clearing of the current output cell\n",
       "var outputEl = gd.closest('.output');\n",
       "if (outputEl) {{\n",
       "    x.observe(outputEl, {childList: true});\n",
       "}}\n",
       "\n",
       "                        })                };                });            </script>        </div>"
      ]
     },
     "metadata": {},
     "output_type": "display_data"
    }
   ],
   "source": [
    "# NonViolent crimes houston area over 5 years\n",
    "fig = px.line(outer_hou_df, x=\"Year\" , y=\"NonViolent_Offenses\", color=\"County\")\n",
    "fig.show()"
   ]
  },
  {
   "cell_type": "markdown",
   "id": "d3e7e776",
   "metadata": {},
   "source": [
    "## Looking at just Harris County"
   ]
  },
  {
   "cell_type": "code",
   "execution_count": 10,
   "id": "9ff23781",
   "metadata": {},
   "outputs": [
    {
     "data": {
      "application/vnd.plotly.v1+json": {
       "config": {
        "plotlyServerURL": "https://plot.ly"
       },
       "data": [
        {
         "hovertemplate": "Year=%{x}<br>Total_Crime=%{y}<extra></extra>",
         "legendgroup": "",
         "line": {
          "color": "#636efa",
          "dash": "solid"
         },
         "marker": {
          "symbol": "circle"
         },
         "mode": "lines",
         "name": "",
         "orientation": "v",
         "showlegend": false,
         "type": "scatter",
         "x": [
          2015,
          2016,
          2017,
          2018,
          2019,
          2020
         ],
         "xaxis": "x",
         "y": [
          195386,
          197686,
          191319,
          185574,
          195047,
          197590
         ],
         "yaxis": "y"
        }
       ],
       "layout": {
        "legend": {
         "tracegroupgap": 0
        },
        "margin": {
         "t": 60
        },
        "template": {
         "data": {
          "bar": [
           {
            "error_x": {
             "color": "#2a3f5f"
            },
            "error_y": {
             "color": "#2a3f5f"
            },
            "marker": {
             "line": {
              "color": "#E5ECF6",
              "width": 0.5
             },
             "pattern": {
              "fillmode": "overlay",
              "size": 10,
              "solidity": 0.2
             }
            },
            "type": "bar"
           }
          ],
          "barpolar": [
           {
            "marker": {
             "line": {
              "color": "#E5ECF6",
              "width": 0.5
             },
             "pattern": {
              "fillmode": "overlay",
              "size": 10,
              "solidity": 0.2
             }
            },
            "type": "barpolar"
           }
          ],
          "carpet": [
           {
            "aaxis": {
             "endlinecolor": "#2a3f5f",
             "gridcolor": "white",
             "linecolor": "white",
             "minorgridcolor": "white",
             "startlinecolor": "#2a3f5f"
            },
            "baxis": {
             "endlinecolor": "#2a3f5f",
             "gridcolor": "white",
             "linecolor": "white",
             "minorgridcolor": "white",
             "startlinecolor": "#2a3f5f"
            },
            "type": "carpet"
           }
          ],
          "choropleth": [
           {
            "colorbar": {
             "outlinewidth": 0,
             "ticks": ""
            },
            "type": "choropleth"
           }
          ],
          "contour": [
           {
            "colorbar": {
             "outlinewidth": 0,
             "ticks": ""
            },
            "colorscale": [
             [
              0,
              "#0d0887"
             ],
             [
              0.1111111111111111,
              "#46039f"
             ],
             [
              0.2222222222222222,
              "#7201a8"
             ],
             [
              0.3333333333333333,
              "#9c179e"
             ],
             [
              0.4444444444444444,
              "#bd3786"
             ],
             [
              0.5555555555555556,
              "#d8576b"
             ],
             [
              0.6666666666666666,
              "#ed7953"
             ],
             [
              0.7777777777777778,
              "#fb9f3a"
             ],
             [
              0.8888888888888888,
              "#fdca26"
             ],
             [
              1,
              "#f0f921"
             ]
            ],
            "type": "contour"
           }
          ],
          "contourcarpet": [
           {
            "colorbar": {
             "outlinewidth": 0,
             "ticks": ""
            },
            "type": "contourcarpet"
           }
          ],
          "heatmap": [
           {
            "colorbar": {
             "outlinewidth": 0,
             "ticks": ""
            },
            "colorscale": [
             [
              0,
              "#0d0887"
             ],
             [
              0.1111111111111111,
              "#46039f"
             ],
             [
              0.2222222222222222,
              "#7201a8"
             ],
             [
              0.3333333333333333,
              "#9c179e"
             ],
             [
              0.4444444444444444,
              "#bd3786"
             ],
             [
              0.5555555555555556,
              "#d8576b"
             ],
             [
              0.6666666666666666,
              "#ed7953"
             ],
             [
              0.7777777777777778,
              "#fb9f3a"
             ],
             [
              0.8888888888888888,
              "#fdca26"
             ],
             [
              1,
              "#f0f921"
             ]
            ],
            "type": "heatmap"
           }
          ],
          "heatmapgl": [
           {
            "colorbar": {
             "outlinewidth": 0,
             "ticks": ""
            },
            "colorscale": [
             [
              0,
              "#0d0887"
             ],
             [
              0.1111111111111111,
              "#46039f"
             ],
             [
              0.2222222222222222,
              "#7201a8"
             ],
             [
              0.3333333333333333,
              "#9c179e"
             ],
             [
              0.4444444444444444,
              "#bd3786"
             ],
             [
              0.5555555555555556,
              "#d8576b"
             ],
             [
              0.6666666666666666,
              "#ed7953"
             ],
             [
              0.7777777777777778,
              "#fb9f3a"
             ],
             [
              0.8888888888888888,
              "#fdca26"
             ],
             [
              1,
              "#f0f921"
             ]
            ],
            "type": "heatmapgl"
           }
          ],
          "histogram": [
           {
            "marker": {
             "pattern": {
              "fillmode": "overlay",
              "size": 10,
              "solidity": 0.2
             }
            },
            "type": "histogram"
           }
          ],
          "histogram2d": [
           {
            "colorbar": {
             "outlinewidth": 0,
             "ticks": ""
            },
            "colorscale": [
             [
              0,
              "#0d0887"
             ],
             [
              0.1111111111111111,
              "#46039f"
             ],
             [
              0.2222222222222222,
              "#7201a8"
             ],
             [
              0.3333333333333333,
              "#9c179e"
             ],
             [
              0.4444444444444444,
              "#bd3786"
             ],
             [
              0.5555555555555556,
              "#d8576b"
             ],
             [
              0.6666666666666666,
              "#ed7953"
             ],
             [
              0.7777777777777778,
              "#fb9f3a"
             ],
             [
              0.8888888888888888,
              "#fdca26"
             ],
             [
              1,
              "#f0f921"
             ]
            ],
            "type": "histogram2d"
           }
          ],
          "histogram2dcontour": [
           {
            "colorbar": {
             "outlinewidth": 0,
             "ticks": ""
            },
            "colorscale": [
             [
              0,
              "#0d0887"
             ],
             [
              0.1111111111111111,
              "#46039f"
             ],
             [
              0.2222222222222222,
              "#7201a8"
             ],
             [
              0.3333333333333333,
              "#9c179e"
             ],
             [
              0.4444444444444444,
              "#bd3786"
             ],
             [
              0.5555555555555556,
              "#d8576b"
             ],
             [
              0.6666666666666666,
              "#ed7953"
             ],
             [
              0.7777777777777778,
              "#fb9f3a"
             ],
             [
              0.8888888888888888,
              "#fdca26"
             ],
             [
              1,
              "#f0f921"
             ]
            ],
            "type": "histogram2dcontour"
           }
          ],
          "mesh3d": [
           {
            "colorbar": {
             "outlinewidth": 0,
             "ticks": ""
            },
            "type": "mesh3d"
           }
          ],
          "parcoords": [
           {
            "line": {
             "colorbar": {
              "outlinewidth": 0,
              "ticks": ""
             }
            },
            "type": "parcoords"
           }
          ],
          "pie": [
           {
            "automargin": true,
            "type": "pie"
           }
          ],
          "scatter": [
           {
            "marker": {
             "colorbar": {
              "outlinewidth": 0,
              "ticks": ""
             }
            },
            "type": "scatter"
           }
          ],
          "scatter3d": [
           {
            "line": {
             "colorbar": {
              "outlinewidth": 0,
              "ticks": ""
             }
            },
            "marker": {
             "colorbar": {
              "outlinewidth": 0,
              "ticks": ""
             }
            },
            "type": "scatter3d"
           }
          ],
          "scattercarpet": [
           {
            "marker": {
             "colorbar": {
              "outlinewidth": 0,
              "ticks": ""
             }
            },
            "type": "scattercarpet"
           }
          ],
          "scattergeo": [
           {
            "marker": {
             "colorbar": {
              "outlinewidth": 0,
              "ticks": ""
             }
            },
            "type": "scattergeo"
           }
          ],
          "scattergl": [
           {
            "marker": {
             "colorbar": {
              "outlinewidth": 0,
              "ticks": ""
             }
            },
            "type": "scattergl"
           }
          ],
          "scattermapbox": [
           {
            "marker": {
             "colorbar": {
              "outlinewidth": 0,
              "ticks": ""
             }
            },
            "type": "scattermapbox"
           }
          ],
          "scatterpolar": [
           {
            "marker": {
             "colorbar": {
              "outlinewidth": 0,
              "ticks": ""
             }
            },
            "type": "scatterpolar"
           }
          ],
          "scatterpolargl": [
           {
            "marker": {
             "colorbar": {
              "outlinewidth": 0,
              "ticks": ""
             }
            },
            "type": "scatterpolargl"
           }
          ],
          "scatterternary": [
           {
            "marker": {
             "colorbar": {
              "outlinewidth": 0,
              "ticks": ""
             }
            },
            "type": "scatterternary"
           }
          ],
          "surface": [
           {
            "colorbar": {
             "outlinewidth": 0,
             "ticks": ""
            },
            "colorscale": [
             [
              0,
              "#0d0887"
             ],
             [
              0.1111111111111111,
              "#46039f"
             ],
             [
              0.2222222222222222,
              "#7201a8"
             ],
             [
              0.3333333333333333,
              "#9c179e"
             ],
             [
              0.4444444444444444,
              "#bd3786"
             ],
             [
              0.5555555555555556,
              "#d8576b"
             ],
             [
              0.6666666666666666,
              "#ed7953"
             ],
             [
              0.7777777777777778,
              "#fb9f3a"
             ],
             [
              0.8888888888888888,
              "#fdca26"
             ],
             [
              1,
              "#f0f921"
             ]
            ],
            "type": "surface"
           }
          ],
          "table": [
           {
            "cells": {
             "fill": {
              "color": "#EBF0F8"
             },
             "line": {
              "color": "white"
             }
            },
            "header": {
             "fill": {
              "color": "#C8D4E3"
             },
             "line": {
              "color": "white"
             }
            },
            "type": "table"
           }
          ]
         },
         "layout": {
          "annotationdefaults": {
           "arrowcolor": "#2a3f5f",
           "arrowhead": 0,
           "arrowwidth": 1
          },
          "autotypenumbers": "strict",
          "coloraxis": {
           "colorbar": {
            "outlinewidth": 0,
            "ticks": ""
           }
          },
          "colorscale": {
           "diverging": [
            [
             0,
             "#8e0152"
            ],
            [
             0.1,
             "#c51b7d"
            ],
            [
             0.2,
             "#de77ae"
            ],
            [
             0.3,
             "#f1b6da"
            ],
            [
             0.4,
             "#fde0ef"
            ],
            [
             0.5,
             "#f7f7f7"
            ],
            [
             0.6,
             "#e6f5d0"
            ],
            [
             0.7,
             "#b8e186"
            ],
            [
             0.8,
             "#7fbc41"
            ],
            [
             0.9,
             "#4d9221"
            ],
            [
             1,
             "#276419"
            ]
           ],
           "sequential": [
            [
             0,
             "#0d0887"
            ],
            [
             0.1111111111111111,
             "#46039f"
            ],
            [
             0.2222222222222222,
             "#7201a8"
            ],
            [
             0.3333333333333333,
             "#9c179e"
            ],
            [
             0.4444444444444444,
             "#bd3786"
            ],
            [
             0.5555555555555556,
             "#d8576b"
            ],
            [
             0.6666666666666666,
             "#ed7953"
            ],
            [
             0.7777777777777778,
             "#fb9f3a"
            ],
            [
             0.8888888888888888,
             "#fdca26"
            ],
            [
             1,
             "#f0f921"
            ]
           ],
           "sequentialminus": [
            [
             0,
             "#0d0887"
            ],
            [
             0.1111111111111111,
             "#46039f"
            ],
            [
             0.2222222222222222,
             "#7201a8"
            ],
            [
             0.3333333333333333,
             "#9c179e"
            ],
            [
             0.4444444444444444,
             "#bd3786"
            ],
            [
             0.5555555555555556,
             "#d8576b"
            ],
            [
             0.6666666666666666,
             "#ed7953"
            ],
            [
             0.7777777777777778,
             "#fb9f3a"
            ],
            [
             0.8888888888888888,
             "#fdca26"
            ],
            [
             1,
             "#f0f921"
            ]
           ]
          },
          "colorway": [
           "#636efa",
           "#EF553B",
           "#00cc96",
           "#ab63fa",
           "#FFA15A",
           "#19d3f3",
           "#FF6692",
           "#B6E880",
           "#FF97FF",
           "#FECB52"
          ],
          "font": {
           "color": "#2a3f5f"
          },
          "geo": {
           "bgcolor": "white",
           "lakecolor": "white",
           "landcolor": "#E5ECF6",
           "showlakes": true,
           "showland": true,
           "subunitcolor": "white"
          },
          "hoverlabel": {
           "align": "left"
          },
          "hovermode": "closest",
          "mapbox": {
           "style": "light"
          },
          "paper_bgcolor": "white",
          "plot_bgcolor": "#E5ECF6",
          "polar": {
           "angularaxis": {
            "gridcolor": "white",
            "linecolor": "white",
            "ticks": ""
           },
           "bgcolor": "#E5ECF6",
           "radialaxis": {
            "gridcolor": "white",
            "linecolor": "white",
            "ticks": ""
           }
          },
          "scene": {
           "xaxis": {
            "backgroundcolor": "#E5ECF6",
            "gridcolor": "white",
            "gridwidth": 2,
            "linecolor": "white",
            "showbackground": true,
            "ticks": "",
            "zerolinecolor": "white"
           },
           "yaxis": {
            "backgroundcolor": "#E5ECF6",
            "gridcolor": "white",
            "gridwidth": 2,
            "linecolor": "white",
            "showbackground": true,
            "ticks": "",
            "zerolinecolor": "white"
           },
           "zaxis": {
            "backgroundcolor": "#E5ECF6",
            "gridcolor": "white",
            "gridwidth": 2,
            "linecolor": "white",
            "showbackground": true,
            "ticks": "",
            "zerolinecolor": "white"
           }
          },
          "shapedefaults": {
           "line": {
            "color": "#2a3f5f"
           }
          },
          "ternary": {
           "aaxis": {
            "gridcolor": "white",
            "linecolor": "white",
            "ticks": ""
           },
           "baxis": {
            "gridcolor": "white",
            "linecolor": "white",
            "ticks": ""
           },
           "bgcolor": "#E5ECF6",
           "caxis": {
            "gridcolor": "white",
            "linecolor": "white",
            "ticks": ""
           }
          },
          "title": {
           "x": 0.05
          },
          "xaxis": {
           "automargin": true,
           "gridcolor": "white",
           "linecolor": "white",
           "ticks": "",
           "title": {
            "standoff": 15
           },
           "zerolinecolor": "white",
           "zerolinewidth": 2
          },
          "yaxis": {
           "automargin": true,
           "gridcolor": "white",
           "linecolor": "white",
           "ticks": "",
           "title": {
            "standoff": 15
           },
           "zerolinecolor": "white",
           "zerolinewidth": 2
          }
         }
        },
        "xaxis": {
         "anchor": "y",
         "domain": [
          0,
          1
         ],
         "title": {
          "text": "Year"
         }
        },
        "yaxis": {
         "anchor": "x",
         "domain": [
          0,
          1
         ],
         "title": {
          "text": "Total_Crime"
         }
        }
       }
      },
      "text/html": [
       "<div>                            <div id=\"08516540-a894-41f2-a064-f254a0dad9eb\" class=\"plotly-graph-div\" style=\"height:525px; width:100%;\"></div>            <script type=\"text/javascript\">                require([\"plotly\"], function(Plotly) {                    window.PLOTLYENV=window.PLOTLYENV || {};                                    if (document.getElementById(\"08516540-a894-41f2-a064-f254a0dad9eb\")) {                    Plotly.newPlot(                        \"08516540-a894-41f2-a064-f254a0dad9eb\",                        [{\"hovertemplate\":\"Year=%{x}<br>Total_Crime=%{y}<extra></extra>\",\"legendgroup\":\"\",\"line\":{\"color\":\"#636efa\",\"dash\":\"solid\"},\"marker\":{\"symbol\":\"circle\"},\"mode\":\"lines\",\"name\":\"\",\"orientation\":\"v\",\"showlegend\":false,\"x\":[2015,2016,2017,2018,2019,2020],\"xaxis\":\"x\",\"y\":[195386,197686,191319,185574,195047,197590],\"yaxis\":\"y\",\"type\":\"scatter\"}],                        {\"template\":{\"data\":{\"bar\":[{\"error_x\":{\"color\":\"#2a3f5f\"},\"error_y\":{\"color\":\"#2a3f5f\"},\"marker\":{\"line\":{\"color\":\"#E5ECF6\",\"width\":0.5},\"pattern\":{\"fillmode\":\"overlay\",\"size\":10,\"solidity\":0.2}},\"type\":\"bar\"}],\"barpolar\":[{\"marker\":{\"line\":{\"color\":\"#E5ECF6\",\"width\":0.5},\"pattern\":{\"fillmode\":\"overlay\",\"size\":10,\"solidity\":0.2}},\"type\":\"barpolar\"}],\"carpet\":[{\"aaxis\":{\"endlinecolor\":\"#2a3f5f\",\"gridcolor\":\"white\",\"linecolor\":\"white\",\"minorgridcolor\":\"white\",\"startlinecolor\":\"#2a3f5f\"},\"baxis\":{\"endlinecolor\":\"#2a3f5f\",\"gridcolor\":\"white\",\"linecolor\":\"white\",\"minorgridcolor\":\"white\",\"startlinecolor\":\"#2a3f5f\"},\"type\":\"carpet\"}],\"choropleth\":[{\"colorbar\":{\"outlinewidth\":0,\"ticks\":\"\"},\"type\":\"choropleth\"}],\"contour\":[{\"colorbar\":{\"outlinewidth\":0,\"ticks\":\"\"},\"colorscale\":[[0.0,\"#0d0887\"],[0.1111111111111111,\"#46039f\"],[0.2222222222222222,\"#7201a8\"],[0.3333333333333333,\"#9c179e\"],[0.4444444444444444,\"#bd3786\"],[0.5555555555555556,\"#d8576b\"],[0.6666666666666666,\"#ed7953\"],[0.7777777777777778,\"#fb9f3a\"],[0.8888888888888888,\"#fdca26\"],[1.0,\"#f0f921\"]],\"type\":\"contour\"}],\"contourcarpet\":[{\"colorbar\":{\"outlinewidth\":0,\"ticks\":\"\"},\"type\":\"contourcarpet\"}],\"heatmap\":[{\"colorbar\":{\"outlinewidth\":0,\"ticks\":\"\"},\"colorscale\":[[0.0,\"#0d0887\"],[0.1111111111111111,\"#46039f\"],[0.2222222222222222,\"#7201a8\"],[0.3333333333333333,\"#9c179e\"],[0.4444444444444444,\"#bd3786\"],[0.5555555555555556,\"#d8576b\"],[0.6666666666666666,\"#ed7953\"],[0.7777777777777778,\"#fb9f3a\"],[0.8888888888888888,\"#fdca26\"],[1.0,\"#f0f921\"]],\"type\":\"heatmap\"}],\"heatmapgl\":[{\"colorbar\":{\"outlinewidth\":0,\"ticks\":\"\"},\"colorscale\":[[0.0,\"#0d0887\"],[0.1111111111111111,\"#46039f\"],[0.2222222222222222,\"#7201a8\"],[0.3333333333333333,\"#9c179e\"],[0.4444444444444444,\"#bd3786\"],[0.5555555555555556,\"#d8576b\"],[0.6666666666666666,\"#ed7953\"],[0.7777777777777778,\"#fb9f3a\"],[0.8888888888888888,\"#fdca26\"],[1.0,\"#f0f921\"]],\"type\":\"heatmapgl\"}],\"histogram\":[{\"marker\":{\"pattern\":{\"fillmode\":\"overlay\",\"size\":10,\"solidity\":0.2}},\"type\":\"histogram\"}],\"histogram2d\":[{\"colorbar\":{\"outlinewidth\":0,\"ticks\":\"\"},\"colorscale\":[[0.0,\"#0d0887\"],[0.1111111111111111,\"#46039f\"],[0.2222222222222222,\"#7201a8\"],[0.3333333333333333,\"#9c179e\"],[0.4444444444444444,\"#bd3786\"],[0.5555555555555556,\"#d8576b\"],[0.6666666666666666,\"#ed7953\"],[0.7777777777777778,\"#fb9f3a\"],[0.8888888888888888,\"#fdca26\"],[1.0,\"#f0f921\"]],\"type\":\"histogram2d\"}],\"histogram2dcontour\":[{\"colorbar\":{\"outlinewidth\":0,\"ticks\":\"\"},\"colorscale\":[[0.0,\"#0d0887\"],[0.1111111111111111,\"#46039f\"],[0.2222222222222222,\"#7201a8\"],[0.3333333333333333,\"#9c179e\"],[0.4444444444444444,\"#bd3786\"],[0.5555555555555556,\"#d8576b\"],[0.6666666666666666,\"#ed7953\"],[0.7777777777777778,\"#fb9f3a\"],[0.8888888888888888,\"#fdca26\"],[1.0,\"#f0f921\"]],\"type\":\"histogram2dcontour\"}],\"mesh3d\":[{\"colorbar\":{\"outlinewidth\":0,\"ticks\":\"\"},\"type\":\"mesh3d\"}],\"parcoords\":[{\"line\":{\"colorbar\":{\"outlinewidth\":0,\"ticks\":\"\"}},\"type\":\"parcoords\"}],\"pie\":[{\"automargin\":true,\"type\":\"pie\"}],\"scatter\":[{\"marker\":{\"colorbar\":{\"outlinewidth\":0,\"ticks\":\"\"}},\"type\":\"scatter\"}],\"scatter3d\":[{\"line\":{\"colorbar\":{\"outlinewidth\":0,\"ticks\":\"\"}},\"marker\":{\"colorbar\":{\"outlinewidth\":0,\"ticks\":\"\"}},\"type\":\"scatter3d\"}],\"scattercarpet\":[{\"marker\":{\"colorbar\":{\"outlinewidth\":0,\"ticks\":\"\"}},\"type\":\"scattercarpet\"}],\"scattergeo\":[{\"marker\":{\"colorbar\":{\"outlinewidth\":0,\"ticks\":\"\"}},\"type\":\"scattergeo\"}],\"scattergl\":[{\"marker\":{\"colorbar\":{\"outlinewidth\":0,\"ticks\":\"\"}},\"type\":\"scattergl\"}],\"scattermapbox\":[{\"marker\":{\"colorbar\":{\"outlinewidth\":0,\"ticks\":\"\"}},\"type\":\"scattermapbox\"}],\"scatterpolar\":[{\"marker\":{\"colorbar\":{\"outlinewidth\":0,\"ticks\":\"\"}},\"type\":\"scatterpolar\"}],\"scatterpolargl\":[{\"marker\":{\"colorbar\":{\"outlinewidth\":0,\"ticks\":\"\"}},\"type\":\"scatterpolargl\"}],\"scatterternary\":[{\"marker\":{\"colorbar\":{\"outlinewidth\":0,\"ticks\":\"\"}},\"type\":\"scatterternary\"}],\"surface\":[{\"colorbar\":{\"outlinewidth\":0,\"ticks\":\"\"},\"colorscale\":[[0.0,\"#0d0887\"],[0.1111111111111111,\"#46039f\"],[0.2222222222222222,\"#7201a8\"],[0.3333333333333333,\"#9c179e\"],[0.4444444444444444,\"#bd3786\"],[0.5555555555555556,\"#d8576b\"],[0.6666666666666666,\"#ed7953\"],[0.7777777777777778,\"#fb9f3a\"],[0.8888888888888888,\"#fdca26\"],[1.0,\"#f0f921\"]],\"type\":\"surface\"}],\"table\":[{\"cells\":{\"fill\":{\"color\":\"#EBF0F8\"},\"line\":{\"color\":\"white\"}},\"header\":{\"fill\":{\"color\":\"#C8D4E3\"},\"line\":{\"color\":\"white\"}},\"type\":\"table\"}]},\"layout\":{\"annotationdefaults\":{\"arrowcolor\":\"#2a3f5f\",\"arrowhead\":0,\"arrowwidth\":1},\"autotypenumbers\":\"strict\",\"coloraxis\":{\"colorbar\":{\"outlinewidth\":0,\"ticks\":\"\"}},\"colorscale\":{\"diverging\":[[0,\"#8e0152\"],[0.1,\"#c51b7d\"],[0.2,\"#de77ae\"],[0.3,\"#f1b6da\"],[0.4,\"#fde0ef\"],[0.5,\"#f7f7f7\"],[0.6,\"#e6f5d0\"],[0.7,\"#b8e186\"],[0.8,\"#7fbc41\"],[0.9,\"#4d9221\"],[1,\"#276419\"]],\"sequential\":[[0.0,\"#0d0887\"],[0.1111111111111111,\"#46039f\"],[0.2222222222222222,\"#7201a8\"],[0.3333333333333333,\"#9c179e\"],[0.4444444444444444,\"#bd3786\"],[0.5555555555555556,\"#d8576b\"],[0.6666666666666666,\"#ed7953\"],[0.7777777777777778,\"#fb9f3a\"],[0.8888888888888888,\"#fdca26\"],[1.0,\"#f0f921\"]],\"sequentialminus\":[[0.0,\"#0d0887\"],[0.1111111111111111,\"#46039f\"],[0.2222222222222222,\"#7201a8\"],[0.3333333333333333,\"#9c179e\"],[0.4444444444444444,\"#bd3786\"],[0.5555555555555556,\"#d8576b\"],[0.6666666666666666,\"#ed7953\"],[0.7777777777777778,\"#fb9f3a\"],[0.8888888888888888,\"#fdca26\"],[1.0,\"#f0f921\"]]},\"colorway\":[\"#636efa\",\"#EF553B\",\"#00cc96\",\"#ab63fa\",\"#FFA15A\",\"#19d3f3\",\"#FF6692\",\"#B6E880\",\"#FF97FF\",\"#FECB52\"],\"font\":{\"color\":\"#2a3f5f\"},\"geo\":{\"bgcolor\":\"white\",\"lakecolor\":\"white\",\"landcolor\":\"#E5ECF6\",\"showlakes\":true,\"showland\":true,\"subunitcolor\":\"white\"},\"hoverlabel\":{\"align\":\"left\"},\"hovermode\":\"closest\",\"mapbox\":{\"style\":\"light\"},\"paper_bgcolor\":\"white\",\"plot_bgcolor\":\"#E5ECF6\",\"polar\":{\"angularaxis\":{\"gridcolor\":\"white\",\"linecolor\":\"white\",\"ticks\":\"\"},\"bgcolor\":\"#E5ECF6\",\"radialaxis\":{\"gridcolor\":\"white\",\"linecolor\":\"white\",\"ticks\":\"\"}},\"scene\":{\"xaxis\":{\"backgroundcolor\":\"#E5ECF6\",\"gridcolor\":\"white\",\"gridwidth\":2,\"linecolor\":\"white\",\"showbackground\":true,\"ticks\":\"\",\"zerolinecolor\":\"white\"},\"yaxis\":{\"backgroundcolor\":\"#E5ECF6\",\"gridcolor\":\"white\",\"gridwidth\":2,\"linecolor\":\"white\",\"showbackground\":true,\"ticks\":\"\",\"zerolinecolor\":\"white\"},\"zaxis\":{\"backgroundcolor\":\"#E5ECF6\",\"gridcolor\":\"white\",\"gridwidth\":2,\"linecolor\":\"white\",\"showbackground\":true,\"ticks\":\"\",\"zerolinecolor\":\"white\"}},\"shapedefaults\":{\"line\":{\"color\":\"#2a3f5f\"}},\"ternary\":{\"aaxis\":{\"gridcolor\":\"white\",\"linecolor\":\"white\",\"ticks\":\"\"},\"baxis\":{\"gridcolor\":\"white\",\"linecolor\":\"white\",\"ticks\":\"\"},\"bgcolor\":\"#E5ECF6\",\"caxis\":{\"gridcolor\":\"white\",\"linecolor\":\"white\",\"ticks\":\"\"}},\"title\":{\"x\":0.05},\"xaxis\":{\"automargin\":true,\"gridcolor\":\"white\",\"linecolor\":\"white\",\"ticks\":\"\",\"title\":{\"standoff\":15},\"zerolinecolor\":\"white\",\"zerolinewidth\":2},\"yaxis\":{\"automargin\":true,\"gridcolor\":\"white\",\"linecolor\":\"white\",\"ticks\":\"\",\"title\":{\"standoff\":15},\"zerolinecolor\":\"white\",\"zerolinewidth\":2}}},\"xaxis\":{\"anchor\":\"y\",\"domain\":[0.0,1.0],\"title\":{\"text\":\"Year\"}},\"yaxis\":{\"anchor\":\"x\",\"domain\":[0.0,1.0],\"title\":{\"text\":\"Total_Crime\"}},\"legend\":{\"tracegroupgap\":0},\"margin\":{\"t\":60}},                        {\"responsive\": true}                    ).then(function(){\n",
       "                            \n",
       "var gd = document.getElementById('08516540-a894-41f2-a064-f254a0dad9eb');\n",
       "var x = new MutationObserver(function (mutations, observer) {{\n",
       "        var display = window.getComputedStyle(gd).display;\n",
       "        if (!display || display === 'none') {{\n",
       "            console.log([gd, 'removed!']);\n",
       "            Plotly.purge(gd);\n",
       "            observer.disconnect();\n",
       "        }}\n",
       "}});\n",
       "\n",
       "// Listen for the removal of the full notebook cells\n",
       "var notebookContainer = gd.closest('#notebook-container');\n",
       "if (notebookContainer) {{\n",
       "    x.observe(notebookContainer, {childList: true});\n",
       "}}\n",
       "\n",
       "// Listen for the clearing of the current output cell\n",
       "var outputEl = gd.closest('.output');\n",
       "if (outputEl) {{\n",
       "    x.observe(outputEl, {childList: true});\n",
       "}}\n",
       "\n",
       "                        })                };                });            </script>        </div>"
      ]
     },
     "metadata": {},
     "output_type": "display_data"
    }
   ],
   "source": [
    "# Total crime for harris county over 5 years\n",
    "fig = px.line(harris_df, x=\"Year\" , y=\"Total_Crime\")\n",
    "fig.show()"
   ]
  },
  {
   "cell_type": "code",
   "execution_count": 11,
   "id": "678fc269",
   "metadata": {},
   "outputs": [
    {
     "data": {
      "application/vnd.plotly.v1+json": {
       "config": {
        "plotlyServerURL": "https://plot.ly"
       },
       "data": [
        {
         "hovertemplate": "Year=%{x}<br>Violent_Offenses=%{y}<extra></extra>",
         "legendgroup": "",
         "line": {
          "color": "#636efa",
          "dash": "solid"
         },
         "marker": {
          "symbol": "circle"
         },
         "mode": "lines",
         "name": "",
         "orientation": "v",
         "showlegend": false,
         "type": "scatter",
         "x": [
          2015,
          2016,
          2017,
          2018,
          2019,
          2020
         ],
         "xaxis": "x",
         "y": [
          18684,
          21126,
          23222,
          23709,
          23021,
          29232
         ],
         "yaxis": "y"
        }
       ],
       "layout": {
        "legend": {
         "tracegroupgap": 0
        },
        "margin": {
         "t": 60
        },
        "template": {
         "data": {
          "bar": [
           {
            "error_x": {
             "color": "#2a3f5f"
            },
            "error_y": {
             "color": "#2a3f5f"
            },
            "marker": {
             "line": {
              "color": "#E5ECF6",
              "width": 0.5
             },
             "pattern": {
              "fillmode": "overlay",
              "size": 10,
              "solidity": 0.2
             }
            },
            "type": "bar"
           }
          ],
          "barpolar": [
           {
            "marker": {
             "line": {
              "color": "#E5ECF6",
              "width": 0.5
             },
             "pattern": {
              "fillmode": "overlay",
              "size": 10,
              "solidity": 0.2
             }
            },
            "type": "barpolar"
           }
          ],
          "carpet": [
           {
            "aaxis": {
             "endlinecolor": "#2a3f5f",
             "gridcolor": "white",
             "linecolor": "white",
             "minorgridcolor": "white",
             "startlinecolor": "#2a3f5f"
            },
            "baxis": {
             "endlinecolor": "#2a3f5f",
             "gridcolor": "white",
             "linecolor": "white",
             "minorgridcolor": "white",
             "startlinecolor": "#2a3f5f"
            },
            "type": "carpet"
           }
          ],
          "choropleth": [
           {
            "colorbar": {
             "outlinewidth": 0,
             "ticks": ""
            },
            "type": "choropleth"
           }
          ],
          "contour": [
           {
            "colorbar": {
             "outlinewidth": 0,
             "ticks": ""
            },
            "colorscale": [
             [
              0,
              "#0d0887"
             ],
             [
              0.1111111111111111,
              "#46039f"
             ],
             [
              0.2222222222222222,
              "#7201a8"
             ],
             [
              0.3333333333333333,
              "#9c179e"
             ],
             [
              0.4444444444444444,
              "#bd3786"
             ],
             [
              0.5555555555555556,
              "#d8576b"
             ],
             [
              0.6666666666666666,
              "#ed7953"
             ],
             [
              0.7777777777777778,
              "#fb9f3a"
             ],
             [
              0.8888888888888888,
              "#fdca26"
             ],
             [
              1,
              "#f0f921"
             ]
            ],
            "type": "contour"
           }
          ],
          "contourcarpet": [
           {
            "colorbar": {
             "outlinewidth": 0,
             "ticks": ""
            },
            "type": "contourcarpet"
           }
          ],
          "heatmap": [
           {
            "colorbar": {
             "outlinewidth": 0,
             "ticks": ""
            },
            "colorscale": [
             [
              0,
              "#0d0887"
             ],
             [
              0.1111111111111111,
              "#46039f"
             ],
             [
              0.2222222222222222,
              "#7201a8"
             ],
             [
              0.3333333333333333,
              "#9c179e"
             ],
             [
              0.4444444444444444,
              "#bd3786"
             ],
             [
              0.5555555555555556,
              "#d8576b"
             ],
             [
              0.6666666666666666,
              "#ed7953"
             ],
             [
              0.7777777777777778,
              "#fb9f3a"
             ],
             [
              0.8888888888888888,
              "#fdca26"
             ],
             [
              1,
              "#f0f921"
             ]
            ],
            "type": "heatmap"
           }
          ],
          "heatmapgl": [
           {
            "colorbar": {
             "outlinewidth": 0,
             "ticks": ""
            },
            "colorscale": [
             [
              0,
              "#0d0887"
             ],
             [
              0.1111111111111111,
              "#46039f"
             ],
             [
              0.2222222222222222,
              "#7201a8"
             ],
             [
              0.3333333333333333,
              "#9c179e"
             ],
             [
              0.4444444444444444,
              "#bd3786"
             ],
             [
              0.5555555555555556,
              "#d8576b"
             ],
             [
              0.6666666666666666,
              "#ed7953"
             ],
             [
              0.7777777777777778,
              "#fb9f3a"
             ],
             [
              0.8888888888888888,
              "#fdca26"
             ],
             [
              1,
              "#f0f921"
             ]
            ],
            "type": "heatmapgl"
           }
          ],
          "histogram": [
           {
            "marker": {
             "pattern": {
              "fillmode": "overlay",
              "size": 10,
              "solidity": 0.2
             }
            },
            "type": "histogram"
           }
          ],
          "histogram2d": [
           {
            "colorbar": {
             "outlinewidth": 0,
             "ticks": ""
            },
            "colorscale": [
             [
              0,
              "#0d0887"
             ],
             [
              0.1111111111111111,
              "#46039f"
             ],
             [
              0.2222222222222222,
              "#7201a8"
             ],
             [
              0.3333333333333333,
              "#9c179e"
             ],
             [
              0.4444444444444444,
              "#bd3786"
             ],
             [
              0.5555555555555556,
              "#d8576b"
             ],
             [
              0.6666666666666666,
              "#ed7953"
             ],
             [
              0.7777777777777778,
              "#fb9f3a"
             ],
             [
              0.8888888888888888,
              "#fdca26"
             ],
             [
              1,
              "#f0f921"
             ]
            ],
            "type": "histogram2d"
           }
          ],
          "histogram2dcontour": [
           {
            "colorbar": {
             "outlinewidth": 0,
             "ticks": ""
            },
            "colorscale": [
             [
              0,
              "#0d0887"
             ],
             [
              0.1111111111111111,
              "#46039f"
             ],
             [
              0.2222222222222222,
              "#7201a8"
             ],
             [
              0.3333333333333333,
              "#9c179e"
             ],
             [
              0.4444444444444444,
              "#bd3786"
             ],
             [
              0.5555555555555556,
              "#d8576b"
             ],
             [
              0.6666666666666666,
              "#ed7953"
             ],
             [
              0.7777777777777778,
              "#fb9f3a"
             ],
             [
              0.8888888888888888,
              "#fdca26"
             ],
             [
              1,
              "#f0f921"
             ]
            ],
            "type": "histogram2dcontour"
           }
          ],
          "mesh3d": [
           {
            "colorbar": {
             "outlinewidth": 0,
             "ticks": ""
            },
            "type": "mesh3d"
           }
          ],
          "parcoords": [
           {
            "line": {
             "colorbar": {
              "outlinewidth": 0,
              "ticks": ""
             }
            },
            "type": "parcoords"
           }
          ],
          "pie": [
           {
            "automargin": true,
            "type": "pie"
           }
          ],
          "scatter": [
           {
            "marker": {
             "colorbar": {
              "outlinewidth": 0,
              "ticks": ""
             }
            },
            "type": "scatter"
           }
          ],
          "scatter3d": [
           {
            "line": {
             "colorbar": {
              "outlinewidth": 0,
              "ticks": ""
             }
            },
            "marker": {
             "colorbar": {
              "outlinewidth": 0,
              "ticks": ""
             }
            },
            "type": "scatter3d"
           }
          ],
          "scattercarpet": [
           {
            "marker": {
             "colorbar": {
              "outlinewidth": 0,
              "ticks": ""
             }
            },
            "type": "scattercarpet"
           }
          ],
          "scattergeo": [
           {
            "marker": {
             "colorbar": {
              "outlinewidth": 0,
              "ticks": ""
             }
            },
            "type": "scattergeo"
           }
          ],
          "scattergl": [
           {
            "marker": {
             "colorbar": {
              "outlinewidth": 0,
              "ticks": ""
             }
            },
            "type": "scattergl"
           }
          ],
          "scattermapbox": [
           {
            "marker": {
             "colorbar": {
              "outlinewidth": 0,
              "ticks": ""
             }
            },
            "type": "scattermapbox"
           }
          ],
          "scatterpolar": [
           {
            "marker": {
             "colorbar": {
              "outlinewidth": 0,
              "ticks": ""
             }
            },
            "type": "scatterpolar"
           }
          ],
          "scatterpolargl": [
           {
            "marker": {
             "colorbar": {
              "outlinewidth": 0,
              "ticks": ""
             }
            },
            "type": "scatterpolargl"
           }
          ],
          "scatterternary": [
           {
            "marker": {
             "colorbar": {
              "outlinewidth": 0,
              "ticks": ""
             }
            },
            "type": "scatterternary"
           }
          ],
          "surface": [
           {
            "colorbar": {
             "outlinewidth": 0,
             "ticks": ""
            },
            "colorscale": [
             [
              0,
              "#0d0887"
             ],
             [
              0.1111111111111111,
              "#46039f"
             ],
             [
              0.2222222222222222,
              "#7201a8"
             ],
             [
              0.3333333333333333,
              "#9c179e"
             ],
             [
              0.4444444444444444,
              "#bd3786"
             ],
             [
              0.5555555555555556,
              "#d8576b"
             ],
             [
              0.6666666666666666,
              "#ed7953"
             ],
             [
              0.7777777777777778,
              "#fb9f3a"
             ],
             [
              0.8888888888888888,
              "#fdca26"
             ],
             [
              1,
              "#f0f921"
             ]
            ],
            "type": "surface"
           }
          ],
          "table": [
           {
            "cells": {
             "fill": {
              "color": "#EBF0F8"
             },
             "line": {
              "color": "white"
             }
            },
            "header": {
             "fill": {
              "color": "#C8D4E3"
             },
             "line": {
              "color": "white"
             }
            },
            "type": "table"
           }
          ]
         },
         "layout": {
          "annotationdefaults": {
           "arrowcolor": "#2a3f5f",
           "arrowhead": 0,
           "arrowwidth": 1
          },
          "autotypenumbers": "strict",
          "coloraxis": {
           "colorbar": {
            "outlinewidth": 0,
            "ticks": ""
           }
          },
          "colorscale": {
           "diverging": [
            [
             0,
             "#8e0152"
            ],
            [
             0.1,
             "#c51b7d"
            ],
            [
             0.2,
             "#de77ae"
            ],
            [
             0.3,
             "#f1b6da"
            ],
            [
             0.4,
             "#fde0ef"
            ],
            [
             0.5,
             "#f7f7f7"
            ],
            [
             0.6,
             "#e6f5d0"
            ],
            [
             0.7,
             "#b8e186"
            ],
            [
             0.8,
             "#7fbc41"
            ],
            [
             0.9,
             "#4d9221"
            ],
            [
             1,
             "#276419"
            ]
           ],
           "sequential": [
            [
             0,
             "#0d0887"
            ],
            [
             0.1111111111111111,
             "#46039f"
            ],
            [
             0.2222222222222222,
             "#7201a8"
            ],
            [
             0.3333333333333333,
             "#9c179e"
            ],
            [
             0.4444444444444444,
             "#bd3786"
            ],
            [
             0.5555555555555556,
             "#d8576b"
            ],
            [
             0.6666666666666666,
             "#ed7953"
            ],
            [
             0.7777777777777778,
             "#fb9f3a"
            ],
            [
             0.8888888888888888,
             "#fdca26"
            ],
            [
             1,
             "#f0f921"
            ]
           ],
           "sequentialminus": [
            [
             0,
             "#0d0887"
            ],
            [
             0.1111111111111111,
             "#46039f"
            ],
            [
             0.2222222222222222,
             "#7201a8"
            ],
            [
             0.3333333333333333,
             "#9c179e"
            ],
            [
             0.4444444444444444,
             "#bd3786"
            ],
            [
             0.5555555555555556,
             "#d8576b"
            ],
            [
             0.6666666666666666,
             "#ed7953"
            ],
            [
             0.7777777777777778,
             "#fb9f3a"
            ],
            [
             0.8888888888888888,
             "#fdca26"
            ],
            [
             1,
             "#f0f921"
            ]
           ]
          },
          "colorway": [
           "#636efa",
           "#EF553B",
           "#00cc96",
           "#ab63fa",
           "#FFA15A",
           "#19d3f3",
           "#FF6692",
           "#B6E880",
           "#FF97FF",
           "#FECB52"
          ],
          "font": {
           "color": "#2a3f5f"
          },
          "geo": {
           "bgcolor": "white",
           "lakecolor": "white",
           "landcolor": "#E5ECF6",
           "showlakes": true,
           "showland": true,
           "subunitcolor": "white"
          },
          "hoverlabel": {
           "align": "left"
          },
          "hovermode": "closest",
          "mapbox": {
           "style": "light"
          },
          "paper_bgcolor": "white",
          "plot_bgcolor": "#E5ECF6",
          "polar": {
           "angularaxis": {
            "gridcolor": "white",
            "linecolor": "white",
            "ticks": ""
           },
           "bgcolor": "#E5ECF6",
           "radialaxis": {
            "gridcolor": "white",
            "linecolor": "white",
            "ticks": ""
           }
          },
          "scene": {
           "xaxis": {
            "backgroundcolor": "#E5ECF6",
            "gridcolor": "white",
            "gridwidth": 2,
            "linecolor": "white",
            "showbackground": true,
            "ticks": "",
            "zerolinecolor": "white"
           },
           "yaxis": {
            "backgroundcolor": "#E5ECF6",
            "gridcolor": "white",
            "gridwidth": 2,
            "linecolor": "white",
            "showbackground": true,
            "ticks": "",
            "zerolinecolor": "white"
           },
           "zaxis": {
            "backgroundcolor": "#E5ECF6",
            "gridcolor": "white",
            "gridwidth": 2,
            "linecolor": "white",
            "showbackground": true,
            "ticks": "",
            "zerolinecolor": "white"
           }
          },
          "shapedefaults": {
           "line": {
            "color": "#2a3f5f"
           }
          },
          "ternary": {
           "aaxis": {
            "gridcolor": "white",
            "linecolor": "white",
            "ticks": ""
           },
           "baxis": {
            "gridcolor": "white",
            "linecolor": "white",
            "ticks": ""
           },
           "bgcolor": "#E5ECF6",
           "caxis": {
            "gridcolor": "white",
            "linecolor": "white",
            "ticks": ""
           }
          },
          "title": {
           "x": 0.05
          },
          "xaxis": {
           "automargin": true,
           "gridcolor": "white",
           "linecolor": "white",
           "ticks": "",
           "title": {
            "standoff": 15
           },
           "zerolinecolor": "white",
           "zerolinewidth": 2
          },
          "yaxis": {
           "automargin": true,
           "gridcolor": "white",
           "linecolor": "white",
           "ticks": "",
           "title": {
            "standoff": 15
           },
           "zerolinecolor": "white",
           "zerolinewidth": 2
          }
         }
        },
        "xaxis": {
         "anchor": "y",
         "domain": [
          0,
          1
         ],
         "title": {
          "text": "Year"
         }
        },
        "yaxis": {
         "anchor": "x",
         "domain": [
          0,
          1
         ],
         "title": {
          "text": "Violent_Offenses"
         }
        }
       }
      },
      "text/html": [
       "<div>                            <div id=\"50cc3a73-ce8f-4ead-8c41-07b148e0ffd7\" class=\"plotly-graph-div\" style=\"height:525px; width:100%;\"></div>            <script type=\"text/javascript\">                require([\"plotly\"], function(Plotly) {                    window.PLOTLYENV=window.PLOTLYENV || {};                                    if (document.getElementById(\"50cc3a73-ce8f-4ead-8c41-07b148e0ffd7\")) {                    Plotly.newPlot(                        \"50cc3a73-ce8f-4ead-8c41-07b148e0ffd7\",                        [{\"hovertemplate\":\"Year=%{x}<br>Violent_Offenses=%{y}<extra></extra>\",\"legendgroup\":\"\",\"line\":{\"color\":\"#636efa\",\"dash\":\"solid\"},\"marker\":{\"symbol\":\"circle\"},\"mode\":\"lines\",\"name\":\"\",\"orientation\":\"v\",\"showlegend\":false,\"x\":[2015,2016,2017,2018,2019,2020],\"xaxis\":\"x\",\"y\":[18684,21126,23222,23709,23021,29232],\"yaxis\":\"y\",\"type\":\"scatter\"}],                        {\"template\":{\"data\":{\"bar\":[{\"error_x\":{\"color\":\"#2a3f5f\"},\"error_y\":{\"color\":\"#2a3f5f\"},\"marker\":{\"line\":{\"color\":\"#E5ECF6\",\"width\":0.5},\"pattern\":{\"fillmode\":\"overlay\",\"size\":10,\"solidity\":0.2}},\"type\":\"bar\"}],\"barpolar\":[{\"marker\":{\"line\":{\"color\":\"#E5ECF6\",\"width\":0.5},\"pattern\":{\"fillmode\":\"overlay\",\"size\":10,\"solidity\":0.2}},\"type\":\"barpolar\"}],\"carpet\":[{\"aaxis\":{\"endlinecolor\":\"#2a3f5f\",\"gridcolor\":\"white\",\"linecolor\":\"white\",\"minorgridcolor\":\"white\",\"startlinecolor\":\"#2a3f5f\"},\"baxis\":{\"endlinecolor\":\"#2a3f5f\",\"gridcolor\":\"white\",\"linecolor\":\"white\",\"minorgridcolor\":\"white\",\"startlinecolor\":\"#2a3f5f\"},\"type\":\"carpet\"}],\"choropleth\":[{\"colorbar\":{\"outlinewidth\":0,\"ticks\":\"\"},\"type\":\"choropleth\"}],\"contour\":[{\"colorbar\":{\"outlinewidth\":0,\"ticks\":\"\"},\"colorscale\":[[0.0,\"#0d0887\"],[0.1111111111111111,\"#46039f\"],[0.2222222222222222,\"#7201a8\"],[0.3333333333333333,\"#9c179e\"],[0.4444444444444444,\"#bd3786\"],[0.5555555555555556,\"#d8576b\"],[0.6666666666666666,\"#ed7953\"],[0.7777777777777778,\"#fb9f3a\"],[0.8888888888888888,\"#fdca26\"],[1.0,\"#f0f921\"]],\"type\":\"contour\"}],\"contourcarpet\":[{\"colorbar\":{\"outlinewidth\":0,\"ticks\":\"\"},\"type\":\"contourcarpet\"}],\"heatmap\":[{\"colorbar\":{\"outlinewidth\":0,\"ticks\":\"\"},\"colorscale\":[[0.0,\"#0d0887\"],[0.1111111111111111,\"#46039f\"],[0.2222222222222222,\"#7201a8\"],[0.3333333333333333,\"#9c179e\"],[0.4444444444444444,\"#bd3786\"],[0.5555555555555556,\"#d8576b\"],[0.6666666666666666,\"#ed7953\"],[0.7777777777777778,\"#fb9f3a\"],[0.8888888888888888,\"#fdca26\"],[1.0,\"#f0f921\"]],\"type\":\"heatmap\"}],\"heatmapgl\":[{\"colorbar\":{\"outlinewidth\":0,\"ticks\":\"\"},\"colorscale\":[[0.0,\"#0d0887\"],[0.1111111111111111,\"#46039f\"],[0.2222222222222222,\"#7201a8\"],[0.3333333333333333,\"#9c179e\"],[0.4444444444444444,\"#bd3786\"],[0.5555555555555556,\"#d8576b\"],[0.6666666666666666,\"#ed7953\"],[0.7777777777777778,\"#fb9f3a\"],[0.8888888888888888,\"#fdca26\"],[1.0,\"#f0f921\"]],\"type\":\"heatmapgl\"}],\"histogram\":[{\"marker\":{\"pattern\":{\"fillmode\":\"overlay\",\"size\":10,\"solidity\":0.2}},\"type\":\"histogram\"}],\"histogram2d\":[{\"colorbar\":{\"outlinewidth\":0,\"ticks\":\"\"},\"colorscale\":[[0.0,\"#0d0887\"],[0.1111111111111111,\"#46039f\"],[0.2222222222222222,\"#7201a8\"],[0.3333333333333333,\"#9c179e\"],[0.4444444444444444,\"#bd3786\"],[0.5555555555555556,\"#d8576b\"],[0.6666666666666666,\"#ed7953\"],[0.7777777777777778,\"#fb9f3a\"],[0.8888888888888888,\"#fdca26\"],[1.0,\"#f0f921\"]],\"type\":\"histogram2d\"}],\"histogram2dcontour\":[{\"colorbar\":{\"outlinewidth\":0,\"ticks\":\"\"},\"colorscale\":[[0.0,\"#0d0887\"],[0.1111111111111111,\"#46039f\"],[0.2222222222222222,\"#7201a8\"],[0.3333333333333333,\"#9c179e\"],[0.4444444444444444,\"#bd3786\"],[0.5555555555555556,\"#d8576b\"],[0.6666666666666666,\"#ed7953\"],[0.7777777777777778,\"#fb9f3a\"],[0.8888888888888888,\"#fdca26\"],[1.0,\"#f0f921\"]],\"type\":\"histogram2dcontour\"}],\"mesh3d\":[{\"colorbar\":{\"outlinewidth\":0,\"ticks\":\"\"},\"type\":\"mesh3d\"}],\"parcoords\":[{\"line\":{\"colorbar\":{\"outlinewidth\":0,\"ticks\":\"\"}},\"type\":\"parcoords\"}],\"pie\":[{\"automargin\":true,\"type\":\"pie\"}],\"scatter\":[{\"marker\":{\"colorbar\":{\"outlinewidth\":0,\"ticks\":\"\"}},\"type\":\"scatter\"}],\"scatter3d\":[{\"line\":{\"colorbar\":{\"outlinewidth\":0,\"ticks\":\"\"}},\"marker\":{\"colorbar\":{\"outlinewidth\":0,\"ticks\":\"\"}},\"type\":\"scatter3d\"}],\"scattercarpet\":[{\"marker\":{\"colorbar\":{\"outlinewidth\":0,\"ticks\":\"\"}},\"type\":\"scattercarpet\"}],\"scattergeo\":[{\"marker\":{\"colorbar\":{\"outlinewidth\":0,\"ticks\":\"\"}},\"type\":\"scattergeo\"}],\"scattergl\":[{\"marker\":{\"colorbar\":{\"outlinewidth\":0,\"ticks\":\"\"}},\"type\":\"scattergl\"}],\"scattermapbox\":[{\"marker\":{\"colorbar\":{\"outlinewidth\":0,\"ticks\":\"\"}},\"type\":\"scattermapbox\"}],\"scatterpolar\":[{\"marker\":{\"colorbar\":{\"outlinewidth\":0,\"ticks\":\"\"}},\"type\":\"scatterpolar\"}],\"scatterpolargl\":[{\"marker\":{\"colorbar\":{\"outlinewidth\":0,\"ticks\":\"\"}},\"type\":\"scatterpolargl\"}],\"scatterternary\":[{\"marker\":{\"colorbar\":{\"outlinewidth\":0,\"ticks\":\"\"}},\"type\":\"scatterternary\"}],\"surface\":[{\"colorbar\":{\"outlinewidth\":0,\"ticks\":\"\"},\"colorscale\":[[0.0,\"#0d0887\"],[0.1111111111111111,\"#46039f\"],[0.2222222222222222,\"#7201a8\"],[0.3333333333333333,\"#9c179e\"],[0.4444444444444444,\"#bd3786\"],[0.5555555555555556,\"#d8576b\"],[0.6666666666666666,\"#ed7953\"],[0.7777777777777778,\"#fb9f3a\"],[0.8888888888888888,\"#fdca26\"],[1.0,\"#f0f921\"]],\"type\":\"surface\"}],\"table\":[{\"cells\":{\"fill\":{\"color\":\"#EBF0F8\"},\"line\":{\"color\":\"white\"}},\"header\":{\"fill\":{\"color\":\"#C8D4E3\"},\"line\":{\"color\":\"white\"}},\"type\":\"table\"}]},\"layout\":{\"annotationdefaults\":{\"arrowcolor\":\"#2a3f5f\",\"arrowhead\":0,\"arrowwidth\":1},\"autotypenumbers\":\"strict\",\"coloraxis\":{\"colorbar\":{\"outlinewidth\":0,\"ticks\":\"\"}},\"colorscale\":{\"diverging\":[[0,\"#8e0152\"],[0.1,\"#c51b7d\"],[0.2,\"#de77ae\"],[0.3,\"#f1b6da\"],[0.4,\"#fde0ef\"],[0.5,\"#f7f7f7\"],[0.6,\"#e6f5d0\"],[0.7,\"#b8e186\"],[0.8,\"#7fbc41\"],[0.9,\"#4d9221\"],[1,\"#276419\"]],\"sequential\":[[0.0,\"#0d0887\"],[0.1111111111111111,\"#46039f\"],[0.2222222222222222,\"#7201a8\"],[0.3333333333333333,\"#9c179e\"],[0.4444444444444444,\"#bd3786\"],[0.5555555555555556,\"#d8576b\"],[0.6666666666666666,\"#ed7953\"],[0.7777777777777778,\"#fb9f3a\"],[0.8888888888888888,\"#fdca26\"],[1.0,\"#f0f921\"]],\"sequentialminus\":[[0.0,\"#0d0887\"],[0.1111111111111111,\"#46039f\"],[0.2222222222222222,\"#7201a8\"],[0.3333333333333333,\"#9c179e\"],[0.4444444444444444,\"#bd3786\"],[0.5555555555555556,\"#d8576b\"],[0.6666666666666666,\"#ed7953\"],[0.7777777777777778,\"#fb9f3a\"],[0.8888888888888888,\"#fdca26\"],[1.0,\"#f0f921\"]]},\"colorway\":[\"#636efa\",\"#EF553B\",\"#00cc96\",\"#ab63fa\",\"#FFA15A\",\"#19d3f3\",\"#FF6692\",\"#B6E880\",\"#FF97FF\",\"#FECB52\"],\"font\":{\"color\":\"#2a3f5f\"},\"geo\":{\"bgcolor\":\"white\",\"lakecolor\":\"white\",\"landcolor\":\"#E5ECF6\",\"showlakes\":true,\"showland\":true,\"subunitcolor\":\"white\"},\"hoverlabel\":{\"align\":\"left\"},\"hovermode\":\"closest\",\"mapbox\":{\"style\":\"light\"},\"paper_bgcolor\":\"white\",\"plot_bgcolor\":\"#E5ECF6\",\"polar\":{\"angularaxis\":{\"gridcolor\":\"white\",\"linecolor\":\"white\",\"ticks\":\"\"},\"bgcolor\":\"#E5ECF6\",\"radialaxis\":{\"gridcolor\":\"white\",\"linecolor\":\"white\",\"ticks\":\"\"}},\"scene\":{\"xaxis\":{\"backgroundcolor\":\"#E5ECF6\",\"gridcolor\":\"white\",\"gridwidth\":2,\"linecolor\":\"white\",\"showbackground\":true,\"ticks\":\"\",\"zerolinecolor\":\"white\"},\"yaxis\":{\"backgroundcolor\":\"#E5ECF6\",\"gridcolor\":\"white\",\"gridwidth\":2,\"linecolor\":\"white\",\"showbackground\":true,\"ticks\":\"\",\"zerolinecolor\":\"white\"},\"zaxis\":{\"backgroundcolor\":\"#E5ECF6\",\"gridcolor\":\"white\",\"gridwidth\":2,\"linecolor\":\"white\",\"showbackground\":true,\"ticks\":\"\",\"zerolinecolor\":\"white\"}},\"shapedefaults\":{\"line\":{\"color\":\"#2a3f5f\"}},\"ternary\":{\"aaxis\":{\"gridcolor\":\"white\",\"linecolor\":\"white\",\"ticks\":\"\"},\"baxis\":{\"gridcolor\":\"white\",\"linecolor\":\"white\",\"ticks\":\"\"},\"bgcolor\":\"#E5ECF6\",\"caxis\":{\"gridcolor\":\"white\",\"linecolor\":\"white\",\"ticks\":\"\"}},\"title\":{\"x\":0.05},\"xaxis\":{\"automargin\":true,\"gridcolor\":\"white\",\"linecolor\":\"white\",\"ticks\":\"\",\"title\":{\"standoff\":15},\"zerolinecolor\":\"white\",\"zerolinewidth\":2},\"yaxis\":{\"automargin\":true,\"gridcolor\":\"white\",\"linecolor\":\"white\",\"ticks\":\"\",\"title\":{\"standoff\":15},\"zerolinecolor\":\"white\",\"zerolinewidth\":2}}},\"xaxis\":{\"anchor\":\"y\",\"domain\":[0.0,1.0],\"title\":{\"text\":\"Year\"}},\"yaxis\":{\"anchor\":\"x\",\"domain\":[0.0,1.0],\"title\":{\"text\":\"Violent_Offenses\"}},\"legend\":{\"tracegroupgap\":0},\"margin\":{\"t\":60}},                        {\"responsive\": true}                    ).then(function(){\n",
       "                            \n",
       "var gd = document.getElementById('50cc3a73-ce8f-4ead-8c41-07b148e0ffd7');\n",
       "var x = new MutationObserver(function (mutations, observer) {{\n",
       "        var display = window.getComputedStyle(gd).display;\n",
       "        if (!display || display === 'none') {{\n",
       "            console.log([gd, 'removed!']);\n",
       "            Plotly.purge(gd);\n",
       "            observer.disconnect();\n",
       "        }}\n",
       "}});\n",
       "\n",
       "// Listen for the removal of the full notebook cells\n",
       "var notebookContainer = gd.closest('#notebook-container');\n",
       "if (notebookContainer) {{\n",
       "    x.observe(notebookContainer, {childList: true});\n",
       "}}\n",
       "\n",
       "// Listen for the clearing of the current output cell\n",
       "var outputEl = gd.closest('.output');\n",
       "if (outputEl) {{\n",
       "    x.observe(outputEl, {childList: true});\n",
       "}}\n",
       "\n",
       "                        })                };                });            </script>        </div>"
      ]
     },
     "metadata": {},
     "output_type": "display_data"
    }
   ],
   "source": [
    "# Violent crimes harris county over 5 years\n",
    "fig = px.line(harris_df, x=\"Year\" , y=\"Violent_Offenses\")\n",
    "fig.show()"
   ]
  },
  {
   "cell_type": "code",
   "execution_count": 12,
   "id": "e7c504b6",
   "metadata": {},
   "outputs": [
    {
     "data": {
      "application/vnd.plotly.v1+json": {
       "config": {
        "plotlyServerURL": "https://plot.ly"
       },
       "data": [
        {
         "hovertemplate": "Year=%{x}<br>NonViolent_Offenses=%{y}<extra></extra>",
         "legendgroup": "",
         "line": {
          "color": "#636efa",
          "dash": "solid"
         },
         "marker": {
          "symbol": "circle"
         },
         "mode": "lines",
         "name": "",
         "orientation": "v",
         "showlegend": false,
         "type": "scatter",
         "x": [
          2015,
          2016,
          2017,
          2018,
          2019,
          2020
         ],
         "xaxis": "x",
         "y": [
          162411,
          162905,
          154812,
          150312,
          160084,
          157068
         ],
         "yaxis": "y"
        }
       ],
       "layout": {
        "legend": {
         "tracegroupgap": 0
        },
        "margin": {
         "t": 60
        },
        "template": {
         "data": {
          "bar": [
           {
            "error_x": {
             "color": "#2a3f5f"
            },
            "error_y": {
             "color": "#2a3f5f"
            },
            "marker": {
             "line": {
              "color": "#E5ECF6",
              "width": 0.5
             },
             "pattern": {
              "fillmode": "overlay",
              "size": 10,
              "solidity": 0.2
             }
            },
            "type": "bar"
           }
          ],
          "barpolar": [
           {
            "marker": {
             "line": {
              "color": "#E5ECF6",
              "width": 0.5
             },
             "pattern": {
              "fillmode": "overlay",
              "size": 10,
              "solidity": 0.2
             }
            },
            "type": "barpolar"
           }
          ],
          "carpet": [
           {
            "aaxis": {
             "endlinecolor": "#2a3f5f",
             "gridcolor": "white",
             "linecolor": "white",
             "minorgridcolor": "white",
             "startlinecolor": "#2a3f5f"
            },
            "baxis": {
             "endlinecolor": "#2a3f5f",
             "gridcolor": "white",
             "linecolor": "white",
             "minorgridcolor": "white",
             "startlinecolor": "#2a3f5f"
            },
            "type": "carpet"
           }
          ],
          "choropleth": [
           {
            "colorbar": {
             "outlinewidth": 0,
             "ticks": ""
            },
            "type": "choropleth"
           }
          ],
          "contour": [
           {
            "colorbar": {
             "outlinewidth": 0,
             "ticks": ""
            },
            "colorscale": [
             [
              0,
              "#0d0887"
             ],
             [
              0.1111111111111111,
              "#46039f"
             ],
             [
              0.2222222222222222,
              "#7201a8"
             ],
             [
              0.3333333333333333,
              "#9c179e"
             ],
             [
              0.4444444444444444,
              "#bd3786"
             ],
             [
              0.5555555555555556,
              "#d8576b"
             ],
             [
              0.6666666666666666,
              "#ed7953"
             ],
             [
              0.7777777777777778,
              "#fb9f3a"
             ],
             [
              0.8888888888888888,
              "#fdca26"
             ],
             [
              1,
              "#f0f921"
             ]
            ],
            "type": "contour"
           }
          ],
          "contourcarpet": [
           {
            "colorbar": {
             "outlinewidth": 0,
             "ticks": ""
            },
            "type": "contourcarpet"
           }
          ],
          "heatmap": [
           {
            "colorbar": {
             "outlinewidth": 0,
             "ticks": ""
            },
            "colorscale": [
             [
              0,
              "#0d0887"
             ],
             [
              0.1111111111111111,
              "#46039f"
             ],
             [
              0.2222222222222222,
              "#7201a8"
             ],
             [
              0.3333333333333333,
              "#9c179e"
             ],
             [
              0.4444444444444444,
              "#bd3786"
             ],
             [
              0.5555555555555556,
              "#d8576b"
             ],
             [
              0.6666666666666666,
              "#ed7953"
             ],
             [
              0.7777777777777778,
              "#fb9f3a"
             ],
             [
              0.8888888888888888,
              "#fdca26"
             ],
             [
              1,
              "#f0f921"
             ]
            ],
            "type": "heatmap"
           }
          ],
          "heatmapgl": [
           {
            "colorbar": {
             "outlinewidth": 0,
             "ticks": ""
            },
            "colorscale": [
             [
              0,
              "#0d0887"
             ],
             [
              0.1111111111111111,
              "#46039f"
             ],
             [
              0.2222222222222222,
              "#7201a8"
             ],
             [
              0.3333333333333333,
              "#9c179e"
             ],
             [
              0.4444444444444444,
              "#bd3786"
             ],
             [
              0.5555555555555556,
              "#d8576b"
             ],
             [
              0.6666666666666666,
              "#ed7953"
             ],
             [
              0.7777777777777778,
              "#fb9f3a"
             ],
             [
              0.8888888888888888,
              "#fdca26"
             ],
             [
              1,
              "#f0f921"
             ]
            ],
            "type": "heatmapgl"
           }
          ],
          "histogram": [
           {
            "marker": {
             "pattern": {
              "fillmode": "overlay",
              "size": 10,
              "solidity": 0.2
             }
            },
            "type": "histogram"
           }
          ],
          "histogram2d": [
           {
            "colorbar": {
             "outlinewidth": 0,
             "ticks": ""
            },
            "colorscale": [
             [
              0,
              "#0d0887"
             ],
             [
              0.1111111111111111,
              "#46039f"
             ],
             [
              0.2222222222222222,
              "#7201a8"
             ],
             [
              0.3333333333333333,
              "#9c179e"
             ],
             [
              0.4444444444444444,
              "#bd3786"
             ],
             [
              0.5555555555555556,
              "#d8576b"
             ],
             [
              0.6666666666666666,
              "#ed7953"
             ],
             [
              0.7777777777777778,
              "#fb9f3a"
             ],
             [
              0.8888888888888888,
              "#fdca26"
             ],
             [
              1,
              "#f0f921"
             ]
            ],
            "type": "histogram2d"
           }
          ],
          "histogram2dcontour": [
           {
            "colorbar": {
             "outlinewidth": 0,
             "ticks": ""
            },
            "colorscale": [
             [
              0,
              "#0d0887"
             ],
             [
              0.1111111111111111,
              "#46039f"
             ],
             [
              0.2222222222222222,
              "#7201a8"
             ],
             [
              0.3333333333333333,
              "#9c179e"
             ],
             [
              0.4444444444444444,
              "#bd3786"
             ],
             [
              0.5555555555555556,
              "#d8576b"
             ],
             [
              0.6666666666666666,
              "#ed7953"
             ],
             [
              0.7777777777777778,
              "#fb9f3a"
             ],
             [
              0.8888888888888888,
              "#fdca26"
             ],
             [
              1,
              "#f0f921"
             ]
            ],
            "type": "histogram2dcontour"
           }
          ],
          "mesh3d": [
           {
            "colorbar": {
             "outlinewidth": 0,
             "ticks": ""
            },
            "type": "mesh3d"
           }
          ],
          "parcoords": [
           {
            "line": {
             "colorbar": {
              "outlinewidth": 0,
              "ticks": ""
             }
            },
            "type": "parcoords"
           }
          ],
          "pie": [
           {
            "automargin": true,
            "type": "pie"
           }
          ],
          "scatter": [
           {
            "marker": {
             "colorbar": {
              "outlinewidth": 0,
              "ticks": ""
             }
            },
            "type": "scatter"
           }
          ],
          "scatter3d": [
           {
            "line": {
             "colorbar": {
              "outlinewidth": 0,
              "ticks": ""
             }
            },
            "marker": {
             "colorbar": {
              "outlinewidth": 0,
              "ticks": ""
             }
            },
            "type": "scatter3d"
           }
          ],
          "scattercarpet": [
           {
            "marker": {
             "colorbar": {
              "outlinewidth": 0,
              "ticks": ""
             }
            },
            "type": "scattercarpet"
           }
          ],
          "scattergeo": [
           {
            "marker": {
             "colorbar": {
              "outlinewidth": 0,
              "ticks": ""
             }
            },
            "type": "scattergeo"
           }
          ],
          "scattergl": [
           {
            "marker": {
             "colorbar": {
              "outlinewidth": 0,
              "ticks": ""
             }
            },
            "type": "scattergl"
           }
          ],
          "scattermapbox": [
           {
            "marker": {
             "colorbar": {
              "outlinewidth": 0,
              "ticks": ""
             }
            },
            "type": "scattermapbox"
           }
          ],
          "scatterpolar": [
           {
            "marker": {
             "colorbar": {
              "outlinewidth": 0,
              "ticks": ""
             }
            },
            "type": "scatterpolar"
           }
          ],
          "scatterpolargl": [
           {
            "marker": {
             "colorbar": {
              "outlinewidth": 0,
              "ticks": ""
             }
            },
            "type": "scatterpolargl"
           }
          ],
          "scatterternary": [
           {
            "marker": {
             "colorbar": {
              "outlinewidth": 0,
              "ticks": ""
             }
            },
            "type": "scatterternary"
           }
          ],
          "surface": [
           {
            "colorbar": {
             "outlinewidth": 0,
             "ticks": ""
            },
            "colorscale": [
             [
              0,
              "#0d0887"
             ],
             [
              0.1111111111111111,
              "#46039f"
             ],
             [
              0.2222222222222222,
              "#7201a8"
             ],
             [
              0.3333333333333333,
              "#9c179e"
             ],
             [
              0.4444444444444444,
              "#bd3786"
             ],
             [
              0.5555555555555556,
              "#d8576b"
             ],
             [
              0.6666666666666666,
              "#ed7953"
             ],
             [
              0.7777777777777778,
              "#fb9f3a"
             ],
             [
              0.8888888888888888,
              "#fdca26"
             ],
             [
              1,
              "#f0f921"
             ]
            ],
            "type": "surface"
           }
          ],
          "table": [
           {
            "cells": {
             "fill": {
              "color": "#EBF0F8"
             },
             "line": {
              "color": "white"
             }
            },
            "header": {
             "fill": {
              "color": "#C8D4E3"
             },
             "line": {
              "color": "white"
             }
            },
            "type": "table"
           }
          ]
         },
         "layout": {
          "annotationdefaults": {
           "arrowcolor": "#2a3f5f",
           "arrowhead": 0,
           "arrowwidth": 1
          },
          "autotypenumbers": "strict",
          "coloraxis": {
           "colorbar": {
            "outlinewidth": 0,
            "ticks": ""
           }
          },
          "colorscale": {
           "diverging": [
            [
             0,
             "#8e0152"
            ],
            [
             0.1,
             "#c51b7d"
            ],
            [
             0.2,
             "#de77ae"
            ],
            [
             0.3,
             "#f1b6da"
            ],
            [
             0.4,
             "#fde0ef"
            ],
            [
             0.5,
             "#f7f7f7"
            ],
            [
             0.6,
             "#e6f5d0"
            ],
            [
             0.7,
             "#b8e186"
            ],
            [
             0.8,
             "#7fbc41"
            ],
            [
             0.9,
             "#4d9221"
            ],
            [
             1,
             "#276419"
            ]
           ],
           "sequential": [
            [
             0,
             "#0d0887"
            ],
            [
             0.1111111111111111,
             "#46039f"
            ],
            [
             0.2222222222222222,
             "#7201a8"
            ],
            [
             0.3333333333333333,
             "#9c179e"
            ],
            [
             0.4444444444444444,
             "#bd3786"
            ],
            [
             0.5555555555555556,
             "#d8576b"
            ],
            [
             0.6666666666666666,
             "#ed7953"
            ],
            [
             0.7777777777777778,
             "#fb9f3a"
            ],
            [
             0.8888888888888888,
             "#fdca26"
            ],
            [
             1,
             "#f0f921"
            ]
           ],
           "sequentialminus": [
            [
             0,
             "#0d0887"
            ],
            [
             0.1111111111111111,
             "#46039f"
            ],
            [
             0.2222222222222222,
             "#7201a8"
            ],
            [
             0.3333333333333333,
             "#9c179e"
            ],
            [
             0.4444444444444444,
             "#bd3786"
            ],
            [
             0.5555555555555556,
             "#d8576b"
            ],
            [
             0.6666666666666666,
             "#ed7953"
            ],
            [
             0.7777777777777778,
             "#fb9f3a"
            ],
            [
             0.8888888888888888,
             "#fdca26"
            ],
            [
             1,
             "#f0f921"
            ]
           ]
          },
          "colorway": [
           "#636efa",
           "#EF553B",
           "#00cc96",
           "#ab63fa",
           "#FFA15A",
           "#19d3f3",
           "#FF6692",
           "#B6E880",
           "#FF97FF",
           "#FECB52"
          ],
          "font": {
           "color": "#2a3f5f"
          },
          "geo": {
           "bgcolor": "white",
           "lakecolor": "white",
           "landcolor": "#E5ECF6",
           "showlakes": true,
           "showland": true,
           "subunitcolor": "white"
          },
          "hoverlabel": {
           "align": "left"
          },
          "hovermode": "closest",
          "mapbox": {
           "style": "light"
          },
          "paper_bgcolor": "white",
          "plot_bgcolor": "#E5ECF6",
          "polar": {
           "angularaxis": {
            "gridcolor": "white",
            "linecolor": "white",
            "ticks": ""
           },
           "bgcolor": "#E5ECF6",
           "radialaxis": {
            "gridcolor": "white",
            "linecolor": "white",
            "ticks": ""
           }
          },
          "scene": {
           "xaxis": {
            "backgroundcolor": "#E5ECF6",
            "gridcolor": "white",
            "gridwidth": 2,
            "linecolor": "white",
            "showbackground": true,
            "ticks": "",
            "zerolinecolor": "white"
           },
           "yaxis": {
            "backgroundcolor": "#E5ECF6",
            "gridcolor": "white",
            "gridwidth": 2,
            "linecolor": "white",
            "showbackground": true,
            "ticks": "",
            "zerolinecolor": "white"
           },
           "zaxis": {
            "backgroundcolor": "#E5ECF6",
            "gridcolor": "white",
            "gridwidth": 2,
            "linecolor": "white",
            "showbackground": true,
            "ticks": "",
            "zerolinecolor": "white"
           }
          },
          "shapedefaults": {
           "line": {
            "color": "#2a3f5f"
           }
          },
          "ternary": {
           "aaxis": {
            "gridcolor": "white",
            "linecolor": "white",
            "ticks": ""
           },
           "baxis": {
            "gridcolor": "white",
            "linecolor": "white",
            "ticks": ""
           },
           "bgcolor": "#E5ECF6",
           "caxis": {
            "gridcolor": "white",
            "linecolor": "white",
            "ticks": ""
           }
          },
          "title": {
           "x": 0.05
          },
          "xaxis": {
           "automargin": true,
           "gridcolor": "white",
           "linecolor": "white",
           "ticks": "",
           "title": {
            "standoff": 15
           },
           "zerolinecolor": "white",
           "zerolinewidth": 2
          },
          "yaxis": {
           "automargin": true,
           "gridcolor": "white",
           "linecolor": "white",
           "ticks": "",
           "title": {
            "standoff": 15
           },
           "zerolinecolor": "white",
           "zerolinewidth": 2
          }
         }
        },
        "xaxis": {
         "anchor": "y",
         "domain": [
          0,
          1
         ],
         "title": {
          "text": "Year"
         }
        },
        "yaxis": {
         "anchor": "x",
         "domain": [
          0,
          1
         ],
         "title": {
          "text": "NonViolent_Offenses"
         }
        }
       }
      },
      "text/html": [
       "<div>                            <div id=\"2e5759b2-2ef1-4966-96c5-79080db3c610\" class=\"plotly-graph-div\" style=\"height:525px; width:100%;\"></div>            <script type=\"text/javascript\">                require([\"plotly\"], function(Plotly) {                    window.PLOTLYENV=window.PLOTLYENV || {};                                    if (document.getElementById(\"2e5759b2-2ef1-4966-96c5-79080db3c610\")) {                    Plotly.newPlot(                        \"2e5759b2-2ef1-4966-96c5-79080db3c610\",                        [{\"hovertemplate\":\"Year=%{x}<br>NonViolent_Offenses=%{y}<extra></extra>\",\"legendgroup\":\"\",\"line\":{\"color\":\"#636efa\",\"dash\":\"solid\"},\"marker\":{\"symbol\":\"circle\"},\"mode\":\"lines\",\"name\":\"\",\"orientation\":\"v\",\"showlegend\":false,\"x\":[2015,2016,2017,2018,2019,2020],\"xaxis\":\"x\",\"y\":[162411,162905,154812,150312,160084,157068],\"yaxis\":\"y\",\"type\":\"scatter\"}],                        {\"template\":{\"data\":{\"bar\":[{\"error_x\":{\"color\":\"#2a3f5f\"},\"error_y\":{\"color\":\"#2a3f5f\"},\"marker\":{\"line\":{\"color\":\"#E5ECF6\",\"width\":0.5},\"pattern\":{\"fillmode\":\"overlay\",\"size\":10,\"solidity\":0.2}},\"type\":\"bar\"}],\"barpolar\":[{\"marker\":{\"line\":{\"color\":\"#E5ECF6\",\"width\":0.5},\"pattern\":{\"fillmode\":\"overlay\",\"size\":10,\"solidity\":0.2}},\"type\":\"barpolar\"}],\"carpet\":[{\"aaxis\":{\"endlinecolor\":\"#2a3f5f\",\"gridcolor\":\"white\",\"linecolor\":\"white\",\"minorgridcolor\":\"white\",\"startlinecolor\":\"#2a3f5f\"},\"baxis\":{\"endlinecolor\":\"#2a3f5f\",\"gridcolor\":\"white\",\"linecolor\":\"white\",\"minorgridcolor\":\"white\",\"startlinecolor\":\"#2a3f5f\"},\"type\":\"carpet\"}],\"choropleth\":[{\"colorbar\":{\"outlinewidth\":0,\"ticks\":\"\"},\"type\":\"choropleth\"}],\"contour\":[{\"colorbar\":{\"outlinewidth\":0,\"ticks\":\"\"},\"colorscale\":[[0.0,\"#0d0887\"],[0.1111111111111111,\"#46039f\"],[0.2222222222222222,\"#7201a8\"],[0.3333333333333333,\"#9c179e\"],[0.4444444444444444,\"#bd3786\"],[0.5555555555555556,\"#d8576b\"],[0.6666666666666666,\"#ed7953\"],[0.7777777777777778,\"#fb9f3a\"],[0.8888888888888888,\"#fdca26\"],[1.0,\"#f0f921\"]],\"type\":\"contour\"}],\"contourcarpet\":[{\"colorbar\":{\"outlinewidth\":0,\"ticks\":\"\"},\"type\":\"contourcarpet\"}],\"heatmap\":[{\"colorbar\":{\"outlinewidth\":0,\"ticks\":\"\"},\"colorscale\":[[0.0,\"#0d0887\"],[0.1111111111111111,\"#46039f\"],[0.2222222222222222,\"#7201a8\"],[0.3333333333333333,\"#9c179e\"],[0.4444444444444444,\"#bd3786\"],[0.5555555555555556,\"#d8576b\"],[0.6666666666666666,\"#ed7953\"],[0.7777777777777778,\"#fb9f3a\"],[0.8888888888888888,\"#fdca26\"],[1.0,\"#f0f921\"]],\"type\":\"heatmap\"}],\"heatmapgl\":[{\"colorbar\":{\"outlinewidth\":0,\"ticks\":\"\"},\"colorscale\":[[0.0,\"#0d0887\"],[0.1111111111111111,\"#46039f\"],[0.2222222222222222,\"#7201a8\"],[0.3333333333333333,\"#9c179e\"],[0.4444444444444444,\"#bd3786\"],[0.5555555555555556,\"#d8576b\"],[0.6666666666666666,\"#ed7953\"],[0.7777777777777778,\"#fb9f3a\"],[0.8888888888888888,\"#fdca26\"],[1.0,\"#f0f921\"]],\"type\":\"heatmapgl\"}],\"histogram\":[{\"marker\":{\"pattern\":{\"fillmode\":\"overlay\",\"size\":10,\"solidity\":0.2}},\"type\":\"histogram\"}],\"histogram2d\":[{\"colorbar\":{\"outlinewidth\":0,\"ticks\":\"\"},\"colorscale\":[[0.0,\"#0d0887\"],[0.1111111111111111,\"#46039f\"],[0.2222222222222222,\"#7201a8\"],[0.3333333333333333,\"#9c179e\"],[0.4444444444444444,\"#bd3786\"],[0.5555555555555556,\"#d8576b\"],[0.6666666666666666,\"#ed7953\"],[0.7777777777777778,\"#fb9f3a\"],[0.8888888888888888,\"#fdca26\"],[1.0,\"#f0f921\"]],\"type\":\"histogram2d\"}],\"histogram2dcontour\":[{\"colorbar\":{\"outlinewidth\":0,\"ticks\":\"\"},\"colorscale\":[[0.0,\"#0d0887\"],[0.1111111111111111,\"#46039f\"],[0.2222222222222222,\"#7201a8\"],[0.3333333333333333,\"#9c179e\"],[0.4444444444444444,\"#bd3786\"],[0.5555555555555556,\"#d8576b\"],[0.6666666666666666,\"#ed7953\"],[0.7777777777777778,\"#fb9f3a\"],[0.8888888888888888,\"#fdca26\"],[1.0,\"#f0f921\"]],\"type\":\"histogram2dcontour\"}],\"mesh3d\":[{\"colorbar\":{\"outlinewidth\":0,\"ticks\":\"\"},\"type\":\"mesh3d\"}],\"parcoords\":[{\"line\":{\"colorbar\":{\"outlinewidth\":0,\"ticks\":\"\"}},\"type\":\"parcoords\"}],\"pie\":[{\"automargin\":true,\"type\":\"pie\"}],\"scatter\":[{\"marker\":{\"colorbar\":{\"outlinewidth\":0,\"ticks\":\"\"}},\"type\":\"scatter\"}],\"scatter3d\":[{\"line\":{\"colorbar\":{\"outlinewidth\":0,\"ticks\":\"\"}},\"marker\":{\"colorbar\":{\"outlinewidth\":0,\"ticks\":\"\"}},\"type\":\"scatter3d\"}],\"scattercarpet\":[{\"marker\":{\"colorbar\":{\"outlinewidth\":0,\"ticks\":\"\"}},\"type\":\"scattercarpet\"}],\"scattergeo\":[{\"marker\":{\"colorbar\":{\"outlinewidth\":0,\"ticks\":\"\"}},\"type\":\"scattergeo\"}],\"scattergl\":[{\"marker\":{\"colorbar\":{\"outlinewidth\":0,\"ticks\":\"\"}},\"type\":\"scattergl\"}],\"scattermapbox\":[{\"marker\":{\"colorbar\":{\"outlinewidth\":0,\"ticks\":\"\"}},\"type\":\"scattermapbox\"}],\"scatterpolar\":[{\"marker\":{\"colorbar\":{\"outlinewidth\":0,\"ticks\":\"\"}},\"type\":\"scatterpolar\"}],\"scatterpolargl\":[{\"marker\":{\"colorbar\":{\"outlinewidth\":0,\"ticks\":\"\"}},\"type\":\"scatterpolargl\"}],\"scatterternary\":[{\"marker\":{\"colorbar\":{\"outlinewidth\":0,\"ticks\":\"\"}},\"type\":\"scatterternary\"}],\"surface\":[{\"colorbar\":{\"outlinewidth\":0,\"ticks\":\"\"},\"colorscale\":[[0.0,\"#0d0887\"],[0.1111111111111111,\"#46039f\"],[0.2222222222222222,\"#7201a8\"],[0.3333333333333333,\"#9c179e\"],[0.4444444444444444,\"#bd3786\"],[0.5555555555555556,\"#d8576b\"],[0.6666666666666666,\"#ed7953\"],[0.7777777777777778,\"#fb9f3a\"],[0.8888888888888888,\"#fdca26\"],[1.0,\"#f0f921\"]],\"type\":\"surface\"}],\"table\":[{\"cells\":{\"fill\":{\"color\":\"#EBF0F8\"},\"line\":{\"color\":\"white\"}},\"header\":{\"fill\":{\"color\":\"#C8D4E3\"},\"line\":{\"color\":\"white\"}},\"type\":\"table\"}]},\"layout\":{\"annotationdefaults\":{\"arrowcolor\":\"#2a3f5f\",\"arrowhead\":0,\"arrowwidth\":1},\"autotypenumbers\":\"strict\",\"coloraxis\":{\"colorbar\":{\"outlinewidth\":0,\"ticks\":\"\"}},\"colorscale\":{\"diverging\":[[0,\"#8e0152\"],[0.1,\"#c51b7d\"],[0.2,\"#de77ae\"],[0.3,\"#f1b6da\"],[0.4,\"#fde0ef\"],[0.5,\"#f7f7f7\"],[0.6,\"#e6f5d0\"],[0.7,\"#b8e186\"],[0.8,\"#7fbc41\"],[0.9,\"#4d9221\"],[1,\"#276419\"]],\"sequential\":[[0.0,\"#0d0887\"],[0.1111111111111111,\"#46039f\"],[0.2222222222222222,\"#7201a8\"],[0.3333333333333333,\"#9c179e\"],[0.4444444444444444,\"#bd3786\"],[0.5555555555555556,\"#d8576b\"],[0.6666666666666666,\"#ed7953\"],[0.7777777777777778,\"#fb9f3a\"],[0.8888888888888888,\"#fdca26\"],[1.0,\"#f0f921\"]],\"sequentialminus\":[[0.0,\"#0d0887\"],[0.1111111111111111,\"#46039f\"],[0.2222222222222222,\"#7201a8\"],[0.3333333333333333,\"#9c179e\"],[0.4444444444444444,\"#bd3786\"],[0.5555555555555556,\"#d8576b\"],[0.6666666666666666,\"#ed7953\"],[0.7777777777777778,\"#fb9f3a\"],[0.8888888888888888,\"#fdca26\"],[1.0,\"#f0f921\"]]},\"colorway\":[\"#636efa\",\"#EF553B\",\"#00cc96\",\"#ab63fa\",\"#FFA15A\",\"#19d3f3\",\"#FF6692\",\"#B6E880\",\"#FF97FF\",\"#FECB52\"],\"font\":{\"color\":\"#2a3f5f\"},\"geo\":{\"bgcolor\":\"white\",\"lakecolor\":\"white\",\"landcolor\":\"#E5ECF6\",\"showlakes\":true,\"showland\":true,\"subunitcolor\":\"white\"},\"hoverlabel\":{\"align\":\"left\"},\"hovermode\":\"closest\",\"mapbox\":{\"style\":\"light\"},\"paper_bgcolor\":\"white\",\"plot_bgcolor\":\"#E5ECF6\",\"polar\":{\"angularaxis\":{\"gridcolor\":\"white\",\"linecolor\":\"white\",\"ticks\":\"\"},\"bgcolor\":\"#E5ECF6\",\"radialaxis\":{\"gridcolor\":\"white\",\"linecolor\":\"white\",\"ticks\":\"\"}},\"scene\":{\"xaxis\":{\"backgroundcolor\":\"#E5ECF6\",\"gridcolor\":\"white\",\"gridwidth\":2,\"linecolor\":\"white\",\"showbackground\":true,\"ticks\":\"\",\"zerolinecolor\":\"white\"},\"yaxis\":{\"backgroundcolor\":\"#E5ECF6\",\"gridcolor\":\"white\",\"gridwidth\":2,\"linecolor\":\"white\",\"showbackground\":true,\"ticks\":\"\",\"zerolinecolor\":\"white\"},\"zaxis\":{\"backgroundcolor\":\"#E5ECF6\",\"gridcolor\":\"white\",\"gridwidth\":2,\"linecolor\":\"white\",\"showbackground\":true,\"ticks\":\"\",\"zerolinecolor\":\"white\"}},\"shapedefaults\":{\"line\":{\"color\":\"#2a3f5f\"}},\"ternary\":{\"aaxis\":{\"gridcolor\":\"white\",\"linecolor\":\"white\",\"ticks\":\"\"},\"baxis\":{\"gridcolor\":\"white\",\"linecolor\":\"white\",\"ticks\":\"\"},\"bgcolor\":\"#E5ECF6\",\"caxis\":{\"gridcolor\":\"white\",\"linecolor\":\"white\",\"ticks\":\"\"}},\"title\":{\"x\":0.05},\"xaxis\":{\"automargin\":true,\"gridcolor\":\"white\",\"linecolor\":\"white\",\"ticks\":\"\",\"title\":{\"standoff\":15},\"zerolinecolor\":\"white\",\"zerolinewidth\":2},\"yaxis\":{\"automargin\":true,\"gridcolor\":\"white\",\"linecolor\":\"white\",\"ticks\":\"\",\"title\":{\"standoff\":15},\"zerolinecolor\":\"white\",\"zerolinewidth\":2}}},\"xaxis\":{\"anchor\":\"y\",\"domain\":[0.0,1.0],\"title\":{\"text\":\"Year\"}},\"yaxis\":{\"anchor\":\"x\",\"domain\":[0.0,1.0],\"title\":{\"text\":\"NonViolent_Offenses\"}},\"legend\":{\"tracegroupgap\":0},\"margin\":{\"t\":60}},                        {\"responsive\": true}                    ).then(function(){\n",
       "                            \n",
       "var gd = document.getElementById('2e5759b2-2ef1-4966-96c5-79080db3c610');\n",
       "var x = new MutationObserver(function (mutations, observer) {{\n",
       "        var display = window.getComputedStyle(gd).display;\n",
       "        if (!display || display === 'none') {{\n",
       "            console.log([gd, 'removed!']);\n",
       "            Plotly.purge(gd);\n",
       "            observer.disconnect();\n",
       "        }}\n",
       "}});\n",
       "\n",
       "// Listen for the removal of the full notebook cells\n",
       "var notebookContainer = gd.closest('#notebook-container');\n",
       "if (notebookContainer) {{\n",
       "    x.observe(notebookContainer, {childList: true});\n",
       "}}\n",
       "\n",
       "// Listen for the clearing of the current output cell\n",
       "var outputEl = gd.closest('.output');\n",
       "if (outputEl) {{\n",
       "    x.observe(outputEl, {childList: true});\n",
       "}}\n",
       "\n",
       "                        })                };                });            </script>        </div>"
      ]
     },
     "metadata": {},
     "output_type": "display_data"
    }
   ],
   "source": [
    "# Non-Violent crimes harris county over 5 years\n",
    "fig = px.line(harris_df, x=\"Year\" , y=\"NonViolent_Offenses\")\n",
    "fig.show()"
   ]
  },
  {
   "cell_type": "code",
   "execution_count": 13,
   "id": "a4b6a964",
   "metadata": {},
   "outputs": [
    {
     "data": {
      "application/vnd.plotly.v1+json": {
       "config": {
        "plotlyServerURL": "https://plot.ly"
       },
       "data": [
        {
         "dimensions": [
          {
           "axis": {
            "matches": true
           },
           "label": "County",
           "values": [
            "Austin County",
            "Austin County",
            "Austin County",
            "Austin County",
            "Austin County",
            "Austin County"
           ]
          },
          {
           "axis": {
            "matches": true
           },
           "label": "Year",
           "values": [
            2015,
            2016,
            2017,
            2018,
            2019,
            2020
           ]
          },
          {
           "axis": {
            "matches": true
           },
           "label": "Violent_Offenses",
           "values": [
            61,
            49,
            45,
            43,
            43,
            42
           ]
          },
          {
           "axis": {
            "matches": true
           },
           "label": "NonViolent_Offenses",
           "values": [
            417,
            406,
            326,
            249,
            256,
            236
           ]
          }
         ],
         "hovertemplate": "County=Austin County<br>%{xaxis.title.text}=%{x}<br>%{yaxis.title.text}=%{y}<extra></extra>",
         "legendgroup": "Austin County",
         "marker": {
          "color": "#636efa",
          "symbol": "circle"
         },
         "name": "Austin County",
         "showlegend": true,
         "type": "splom"
        },
        {
         "dimensions": [
          {
           "axis": {
            "matches": true
           },
           "label": "County",
           "values": [
            "Brazoria County",
            "Brazoria County",
            "Brazoria County",
            "Brazoria County",
            "Brazoria County",
            "Brazoria County"
           ]
          },
          {
           "axis": {
            "matches": true
           },
           "label": "Year",
           "values": [
            2015,
            2016,
            2017,
            2018,
            2019,
            2020
           ]
          },
          {
           "axis": {
            "matches": true
           },
           "label": "Violent_Offenses",
           "values": [
            470,
            513,
            560,
            512,
            533,
            587
           ]
          },
          {
           "axis": {
            "matches": true
           },
           "label": "NonViolent_Offenses",
           "values": [
            5983,
            5843,
            5428,
            5431,
            6233,
            5515
           ]
          }
         ],
         "hovertemplate": "County=Brazoria County<br>%{xaxis.title.text}=%{x}<br>%{yaxis.title.text}=%{y}<extra></extra>",
         "legendgroup": "Brazoria County",
         "marker": {
          "color": "#EF553B",
          "symbol": "circle"
         },
         "name": "Brazoria County",
         "showlegend": true,
         "type": "splom"
        },
        {
         "dimensions": [
          {
           "axis": {
            "matches": true
           },
           "label": "County",
           "values": [
            "Brazos County",
            "Brazos County",
            "Brazos County",
            "Brazos County",
            "Brazos County",
            "Brazos County"
           ]
          },
          {
           "axis": {
            "matches": true
           },
           "label": "Year",
           "values": [
            2015,
            2016,
            2017,
            2018,
            2019,
            2020
           ]
          },
          {
           "axis": {
            "matches": true
           },
           "label": "Violent_Offenses",
           "values": [
            587,
            608,
            529,
            549,
            555,
            661
           ]
          },
          {
           "axis": {
            "matches": true
           },
           "label": "NonViolent_Offenses",
           "values": [
            5841,
            5614,
            5030,
            5201,
            4697,
            4571
           ]
          }
         ],
         "hovertemplate": "County=Brazos County<br>%{xaxis.title.text}=%{x}<br>%{yaxis.title.text}=%{y}<extra></extra>",
         "legendgroup": "Brazos County",
         "marker": {
          "color": "#00cc96",
          "symbol": "circle"
         },
         "name": "Brazos County",
         "showlegend": true,
         "type": "splom"
        },
        {
         "dimensions": [
          {
           "axis": {
            "matches": true
           },
           "label": "County",
           "values": [
            "Chambers County",
            "Chambers County",
            "Chambers County",
            "Chambers County",
            "Chambers County",
            "Chambers County"
           ]
          },
          {
           "axis": {
            "matches": true
           },
           "label": "Year",
           "values": [
            2015,
            2016,
            2017,
            2018,
            2019,
            2020
           ]
          },
          {
           "axis": {
            "matches": true
           },
           "label": "Violent_Offenses",
           "values": [
            110,
            131,
            89,
            53,
            81,
            126
           ]
          },
          {
           "axis": {
            "matches": true
           },
           "label": "NonViolent_Offenses",
           "values": [
            847,
            846,
            715,
            724,
            779,
            724
           ]
          }
         ],
         "hovertemplate": "County=Chambers County<br>%{xaxis.title.text}=%{x}<br>%{yaxis.title.text}=%{y}<extra></extra>",
         "legendgroup": "Chambers County",
         "marker": {
          "color": "#ab63fa",
          "symbol": "circle"
         },
         "name": "Chambers County",
         "showlegend": true,
         "type": "splom"
        },
        {
         "dimensions": [
          {
           "axis": {
            "matches": true
           },
           "label": "County",
           "values": [
            "Fort Bend County",
            "Fort Bend County",
            "Fort Bend County",
            "Fort Bend County",
            "Fort Bend County",
            "Fort Bend County"
           ]
          },
          {
           "axis": {
            "matches": true
           },
           "label": "Year",
           "values": [
            2015,
            2016,
            2017,
            2018,
            2019,
            2020
           ]
          },
          {
           "axis": {
            "matches": true
           },
           "label": "Violent_Offenses",
           "values": [
            1034,
            935,
            1073,
            1152,
            1246,
            1287
           ]
          },
          {
           "axis": {
            "matches": true
           },
           "label": "NonViolent_Offenses",
           "values": [
            10264,
            9190,
            8416,
            8223,
            9007,
            8422
           ]
          }
         ],
         "hovertemplate": "County=Fort Bend County<br>%{xaxis.title.text}=%{x}<br>%{yaxis.title.text}=%{y}<extra></extra>",
         "legendgroup": "Fort Bend County",
         "marker": {
          "color": "#FFA15A",
          "symbol": "circle"
         },
         "name": "Fort Bend County",
         "showlegend": true,
         "type": "splom"
        },
        {
         "dimensions": [
          {
           "axis": {
            "matches": true
           },
           "label": "County",
           "values": [
            "Galveston County",
            "Galveston County",
            "Galveston County",
            "Galveston County",
            "Galveston County",
            "Galveston County"
           ]
          },
          {
           "axis": {
            "matches": true
           },
           "label": "Year",
           "values": [
            2015,
            2016,
            2017,
            2018,
            2019,
            2020
           ]
          },
          {
           "axis": {
            "matches": true
           },
           "label": "Violent_Offenses",
           "values": [
            610,
            764,
            732,
            768,
            715,
            927
           ]
          },
          {
           "axis": {
            "matches": true
           },
           "label": "NonViolent_Offenses",
           "values": [
            8335,
            8839,
            8380,
            7795,
            7040,
            7211
           ]
          }
         ],
         "hovertemplate": "County=Galveston County<br>%{xaxis.title.text}=%{x}<br>%{yaxis.title.text}=%{y}<extra></extra>",
         "legendgroup": "Galveston County",
         "marker": {
          "color": "#19d3f3",
          "symbol": "circle"
         },
         "name": "Galveston County",
         "showlegend": true,
         "type": "splom"
        },
        {
         "dimensions": [
          {
           "axis": {
            "matches": true
           },
           "label": "County",
           "values": [
            "Grimes County",
            "Grimes County",
            "Grimes County",
            "Grimes County",
            "Grimes County",
            "Grimes County"
           ]
          },
          {
           "axis": {
            "matches": true
           },
           "label": "Year",
           "values": [
            2015,
            2016,
            2017,
            2018,
            2019,
            2020
           ]
          },
          {
           "axis": {
            "matches": true
           },
           "label": "Violent_Offenses",
           "values": [
            85,
            70,
            48,
            39,
            33,
            69
           ]
          },
          {
           "axis": {
            "matches": true
           },
           "label": "NonViolent_Offenses",
           "values": [
            463,
            461,
            309,
            290,
            328,
            337
           ]
          }
         ],
         "hovertemplate": "County=Grimes County<br>%{xaxis.title.text}=%{x}<br>%{yaxis.title.text}=%{y}<extra></extra>",
         "legendgroup": "Grimes County",
         "marker": {
          "color": "#FF6692",
          "symbol": "circle"
         },
         "name": "Grimes County",
         "showlegend": true,
         "type": "splom"
        },
        {
         "dimensions": [
          {
           "axis": {
            "matches": true
           },
           "label": "County",
           "values": [
            "Liberty County",
            "Liberty County",
            "Liberty County",
            "Liberty County",
            "Liberty County",
            "Liberty County"
           ]
          },
          {
           "axis": {
            "matches": true
           },
           "label": "Year",
           "values": [
            2015,
            2016,
            2017,
            2018,
            2019,
            2020
           ]
          },
          {
           "axis": {
            "matches": true
           },
           "label": "Violent_Offenses",
           "values": [
            294,
            282,
            113,
            247,
            215,
            315
           ]
          },
          {
           "axis": {
            "matches": true
           },
           "label": "NonViolent_Offenses",
           "values": [
            1918,
            1699,
            688,
            1435,
            1618,
            1375
           ]
          }
         ],
         "hovertemplate": "County=Liberty County<br>%{xaxis.title.text}=%{x}<br>%{yaxis.title.text}=%{y}<extra></extra>",
         "legendgroup": "Liberty County",
         "marker": {
          "color": "#B6E880",
          "symbol": "circle"
         },
         "name": "Liberty County",
         "showlegend": true,
         "type": "splom"
        },
        {
         "dimensions": [
          {
           "axis": {
            "matches": true
           },
           "label": "County",
           "values": [
            "Matagorda County",
            "Matagorda County",
            "Matagorda County",
            "Matagorda County",
            "Matagorda County",
            "Matagorda County"
           ]
          },
          {
           "axis": {
            "matches": true
           },
           "label": "Year",
           "values": [
            2015,
            2016,
            2017,
            2018,
            2019,
            2020
           ]
          },
          {
           "axis": {
            "matches": true
           },
           "label": "Violent_Offenses",
           "values": [
            85,
            117,
            143,
            136,
            156,
            169
           ]
          },
          {
           "axis": {
            "matches": true
           },
           "label": "NonViolent_Offenses",
           "values": [
            1157,
            1228,
            1024,
            1115,
            1142,
            973
           ]
          }
         ],
         "hovertemplate": "County=Matagorda County<br>%{xaxis.title.text}=%{x}<br>%{yaxis.title.text}=%{y}<extra></extra>",
         "legendgroup": "Matagorda County",
         "marker": {
          "color": "#FF97FF",
          "symbol": "circle"
         },
         "name": "Matagorda County",
         "showlegend": true,
         "type": "splom"
        },
        {
         "dimensions": [
          {
           "axis": {
            "matches": true
           },
           "label": "County",
           "values": [
            "Montgomery County",
            "Montgomery County",
            "Montgomery County",
            "Montgomery County",
            "Montgomery County",
            "Montgomery County"
           ]
          },
          {
           "axis": {
            "matches": true
           },
           "label": "Year",
           "values": [
            2015,
            2016,
            2017,
            2018,
            2019,
            2020
           ]
          },
          {
           "axis": {
            "matches": true
           },
           "label": "Violent_Offenses",
           "values": [
            976,
            678,
            705,
            969,
            972,
            925
           ]
          },
          {
           "axis": {
            "matches": true
           },
           "label": "NonViolent_Offenses",
           "values": [
            8635,
            8008,
            6858,
            7725,
            8051,
            7280
           ]
          }
         ],
         "hovertemplate": "County=Montgomery County<br>%{xaxis.title.text}=%{x}<br>%{yaxis.title.text}=%{y}<extra></extra>",
         "legendgroup": "Montgomery County",
         "marker": {
          "color": "#FECB52",
          "symbol": "circle"
         },
         "name": "Montgomery County",
         "showlegend": true,
         "type": "splom"
        },
        {
         "dimensions": [
          {
           "axis": {
            "matches": true
           },
           "label": "County",
           "values": [
            "Polk County",
            "Polk County",
            "Polk County",
            "Polk County",
            "Polk County",
            "Polk County"
           ]
          },
          {
           "axis": {
            "matches": true
           },
           "label": "Year",
           "values": [
            2015,
            2016,
            2017,
            2018,
            2019,
            2020
           ]
          },
          {
           "axis": {
            "matches": true
           },
           "label": "Violent_Offenses",
           "values": [
            129,
            104,
            119,
            107,
            104,
            103
           ]
          },
          {
           "axis": {
            "matches": true
           },
           "label": "NonViolent_Offenses",
           "values": [
            801,
            897,
            840,
            831,
            1060,
            861
           ]
          }
         ],
         "hovertemplate": "County=Polk County<br>%{xaxis.title.text}=%{x}<br>%{yaxis.title.text}=%{y}<extra></extra>",
         "legendgroup": "Polk County",
         "marker": {
          "color": "#636efa",
          "symbol": "circle"
         },
         "name": "Polk County",
         "showlegend": true,
         "type": "splom"
        },
        {
         "dimensions": [
          {
           "axis": {
            "matches": true
           },
           "label": "County",
           "values": [
            "San Jacinto County",
            "San Jacinto County",
            "San Jacinto County",
            "San Jacinto County",
            "San Jacinto County",
            "San Jacinto County"
           ]
          },
          {
           "axis": {
            "matches": true
           },
           "label": "Year",
           "values": [
            2015,
            2016,
            2017,
            2018,
            2019,
            2020
           ]
          },
          {
           "axis": {
            "matches": true
           },
           "label": "Violent_Offenses",
           "values": [
            66,
            43,
            53,
            40,
            43,
            37
           ]
          },
          {
           "axis": {
            "matches": true
           },
           "label": "NonViolent_Offenses",
           "values": [
            466,
            362,
            466,
            360,
            330,
            711
           ]
          }
         ],
         "hovertemplate": "County=San Jacinto County<br>%{xaxis.title.text}=%{x}<br>%{yaxis.title.text}=%{y}<extra></extra>",
         "legendgroup": "San Jacinto County",
         "marker": {
          "color": "#EF553B",
          "symbol": "circle"
         },
         "name": "San Jacinto County",
         "showlegend": true,
         "type": "splom"
        },
        {
         "dimensions": [
          {
           "axis": {
            "matches": true
           },
           "label": "County",
           "values": [
            "Walker County",
            "Walker County",
            "Walker County",
            "Walker County",
            "Walker County",
            "Walker County"
           ]
          },
          {
           "axis": {
            "matches": true
           },
           "label": "Year",
           "values": [
            2015,
            2016,
            2017,
            2018,
            2019,
            2020
           ]
          },
          {
           "axis": {
            "matches": true
           },
           "label": "Violent_Offenses",
           "values": [
            226,
            231,
            204,
            185,
            223,
            196
           ]
          },
          {
           "axis": {
            "matches": true
           },
           "label": "NonViolent_Offenses",
           "values": [
            1177,
            1026,
            886,
            883,
            910,
            860
           ]
          }
         ],
         "hovertemplate": "County=Walker County<br>%{xaxis.title.text}=%{x}<br>%{yaxis.title.text}=%{y}<extra></extra>",
         "legendgroup": "Walker County",
         "marker": {
          "color": "#00cc96",
          "symbol": "circle"
         },
         "name": "Walker County",
         "showlegend": true,
         "type": "splom"
        },
        {
         "dimensions": [
          {
           "axis": {
            "matches": true
           },
           "label": "County",
           "values": [
            "Waller County",
            "Waller County",
            "Waller County",
            "Waller County",
            "Waller County",
            "Waller County"
           ]
          },
          {
           "axis": {
            "matches": true
           },
           "label": "Year",
           "values": [
            2015,
            2016,
            2017,
            2018,
            2019,
            2020
           ]
          },
          {
           "axis": {
            "matches": true
           },
           "label": "Violent_Offenses",
           "values": [
            199,
            146,
            143,
            184,
            134,
            141
           ]
          },
          {
           "axis": {
            "matches": true
           },
           "label": "NonViolent_Offenses",
           "values": [
            727,
            701,
            667,
            782,
            695,
            648
           ]
          }
         ],
         "hovertemplate": "County=Waller County<br>%{xaxis.title.text}=%{x}<br>%{yaxis.title.text}=%{y}<extra></extra>",
         "legendgroup": "Waller County",
         "marker": {
          "color": "#ab63fa",
          "symbol": "circle"
         },
         "name": "Waller County",
         "showlegend": true,
         "type": "splom"
        },
        {
         "dimensions": [
          {
           "axis": {
            "matches": true
           },
           "label": "County",
           "values": [
            "Washington County",
            "Washington County",
            "Washington County",
            "Washington County",
            "Washington County",
            "Washington County"
           ]
          },
          {
           "axis": {
            "matches": true
           },
           "label": "Year",
           "values": [
            2015,
            2016,
            2017,
            2018,
            2019,
            2020
           ]
          },
          {
           "axis": {
            "matches": true
           },
           "label": "Violent_Offenses",
           "values": [
            71,
            59,
            148,
            91,
            135,
            86
           ]
          },
          {
           "axis": {
            "matches": true
           },
           "label": "NonViolent_Offenses",
           "values": [
            534,
            521,
            439,
            457,
            501,
            409
           ]
          }
         ],
         "hovertemplate": "County=Washington County<br>%{xaxis.title.text}=%{x}<br>%{yaxis.title.text}=%{y}<extra></extra>",
         "legendgroup": "Washington County",
         "marker": {
          "color": "#FFA15A",
          "symbol": "circle"
         },
         "name": "Washington County",
         "showlegend": true,
         "type": "splom"
        },
        {
         "dimensions": [
          {
           "axis": {
            "matches": true
           },
           "label": "County",
           "values": [
            "Wharton County",
            "Wharton County",
            "Wharton County",
            "Wharton County",
            "Wharton County",
            "Wharton County"
           ]
          },
          {
           "axis": {
            "matches": true
           },
           "label": "Year",
           "values": [
            2015,
            2016,
            2017,
            2018,
            2019,
            2020
           ]
          },
          {
           "axis": {
            "matches": true
           },
           "label": "Violent_Offenses",
           "values": [
            135,
            156,
            145,
            131,
            122,
            130
           ]
          },
          {
           "axis": {
            "matches": true
           },
           "label": "NonViolent_Offenses",
           "values": [
            1082,
            1095,
            918,
            729,
            797,
            804
           ]
          }
         ],
         "hovertemplate": "County=Wharton County<br>%{xaxis.title.text}=%{x}<br>%{yaxis.title.text}=%{y}<extra></extra>",
         "legendgroup": "Wharton County",
         "marker": {
          "color": "#19d3f3",
          "symbol": "circle"
         },
         "name": "Wharton County",
         "showlegend": true,
         "type": "splom"
        }
       ],
       "layout": {
        "dragmode": "select",
        "legend": {
         "title": {
          "text": "County"
         },
         "tracegroupgap": 0
        },
        "margin": {
         "t": 60
        },
        "template": {
         "data": {
          "bar": [
           {
            "error_x": {
             "color": "#2a3f5f"
            },
            "error_y": {
             "color": "#2a3f5f"
            },
            "marker": {
             "line": {
              "color": "#E5ECF6",
              "width": 0.5
             },
             "pattern": {
              "fillmode": "overlay",
              "size": 10,
              "solidity": 0.2
             }
            },
            "type": "bar"
           }
          ],
          "barpolar": [
           {
            "marker": {
             "line": {
              "color": "#E5ECF6",
              "width": 0.5
             },
             "pattern": {
              "fillmode": "overlay",
              "size": 10,
              "solidity": 0.2
             }
            },
            "type": "barpolar"
           }
          ],
          "carpet": [
           {
            "aaxis": {
             "endlinecolor": "#2a3f5f",
             "gridcolor": "white",
             "linecolor": "white",
             "minorgridcolor": "white",
             "startlinecolor": "#2a3f5f"
            },
            "baxis": {
             "endlinecolor": "#2a3f5f",
             "gridcolor": "white",
             "linecolor": "white",
             "minorgridcolor": "white",
             "startlinecolor": "#2a3f5f"
            },
            "type": "carpet"
           }
          ],
          "choropleth": [
           {
            "colorbar": {
             "outlinewidth": 0,
             "ticks": ""
            },
            "type": "choropleth"
           }
          ],
          "contour": [
           {
            "colorbar": {
             "outlinewidth": 0,
             "ticks": ""
            },
            "colorscale": [
             [
              0,
              "#0d0887"
             ],
             [
              0.1111111111111111,
              "#46039f"
             ],
             [
              0.2222222222222222,
              "#7201a8"
             ],
             [
              0.3333333333333333,
              "#9c179e"
             ],
             [
              0.4444444444444444,
              "#bd3786"
             ],
             [
              0.5555555555555556,
              "#d8576b"
             ],
             [
              0.6666666666666666,
              "#ed7953"
             ],
             [
              0.7777777777777778,
              "#fb9f3a"
             ],
             [
              0.8888888888888888,
              "#fdca26"
             ],
             [
              1,
              "#f0f921"
             ]
            ],
            "type": "contour"
           }
          ],
          "contourcarpet": [
           {
            "colorbar": {
             "outlinewidth": 0,
             "ticks": ""
            },
            "type": "contourcarpet"
           }
          ],
          "heatmap": [
           {
            "colorbar": {
             "outlinewidth": 0,
             "ticks": ""
            },
            "colorscale": [
             [
              0,
              "#0d0887"
             ],
             [
              0.1111111111111111,
              "#46039f"
             ],
             [
              0.2222222222222222,
              "#7201a8"
             ],
             [
              0.3333333333333333,
              "#9c179e"
             ],
             [
              0.4444444444444444,
              "#bd3786"
             ],
             [
              0.5555555555555556,
              "#d8576b"
             ],
             [
              0.6666666666666666,
              "#ed7953"
             ],
             [
              0.7777777777777778,
              "#fb9f3a"
             ],
             [
              0.8888888888888888,
              "#fdca26"
             ],
             [
              1,
              "#f0f921"
             ]
            ],
            "type": "heatmap"
           }
          ],
          "heatmapgl": [
           {
            "colorbar": {
             "outlinewidth": 0,
             "ticks": ""
            },
            "colorscale": [
             [
              0,
              "#0d0887"
             ],
             [
              0.1111111111111111,
              "#46039f"
             ],
             [
              0.2222222222222222,
              "#7201a8"
             ],
             [
              0.3333333333333333,
              "#9c179e"
             ],
             [
              0.4444444444444444,
              "#bd3786"
             ],
             [
              0.5555555555555556,
              "#d8576b"
             ],
             [
              0.6666666666666666,
              "#ed7953"
             ],
             [
              0.7777777777777778,
              "#fb9f3a"
             ],
             [
              0.8888888888888888,
              "#fdca26"
             ],
             [
              1,
              "#f0f921"
             ]
            ],
            "type": "heatmapgl"
           }
          ],
          "histogram": [
           {
            "marker": {
             "pattern": {
              "fillmode": "overlay",
              "size": 10,
              "solidity": 0.2
             }
            },
            "type": "histogram"
           }
          ],
          "histogram2d": [
           {
            "colorbar": {
             "outlinewidth": 0,
             "ticks": ""
            },
            "colorscale": [
             [
              0,
              "#0d0887"
             ],
             [
              0.1111111111111111,
              "#46039f"
             ],
             [
              0.2222222222222222,
              "#7201a8"
             ],
             [
              0.3333333333333333,
              "#9c179e"
             ],
             [
              0.4444444444444444,
              "#bd3786"
             ],
             [
              0.5555555555555556,
              "#d8576b"
             ],
             [
              0.6666666666666666,
              "#ed7953"
             ],
             [
              0.7777777777777778,
              "#fb9f3a"
             ],
             [
              0.8888888888888888,
              "#fdca26"
             ],
             [
              1,
              "#f0f921"
             ]
            ],
            "type": "histogram2d"
           }
          ],
          "histogram2dcontour": [
           {
            "colorbar": {
             "outlinewidth": 0,
             "ticks": ""
            },
            "colorscale": [
             [
              0,
              "#0d0887"
             ],
             [
              0.1111111111111111,
              "#46039f"
             ],
             [
              0.2222222222222222,
              "#7201a8"
             ],
             [
              0.3333333333333333,
              "#9c179e"
             ],
             [
              0.4444444444444444,
              "#bd3786"
             ],
             [
              0.5555555555555556,
              "#d8576b"
             ],
             [
              0.6666666666666666,
              "#ed7953"
             ],
             [
              0.7777777777777778,
              "#fb9f3a"
             ],
             [
              0.8888888888888888,
              "#fdca26"
             ],
             [
              1,
              "#f0f921"
             ]
            ],
            "type": "histogram2dcontour"
           }
          ],
          "mesh3d": [
           {
            "colorbar": {
             "outlinewidth": 0,
             "ticks": ""
            },
            "type": "mesh3d"
           }
          ],
          "parcoords": [
           {
            "line": {
             "colorbar": {
              "outlinewidth": 0,
              "ticks": ""
             }
            },
            "type": "parcoords"
           }
          ],
          "pie": [
           {
            "automargin": true,
            "type": "pie"
           }
          ],
          "scatter": [
           {
            "marker": {
             "colorbar": {
              "outlinewidth": 0,
              "ticks": ""
             }
            },
            "type": "scatter"
           }
          ],
          "scatter3d": [
           {
            "line": {
             "colorbar": {
              "outlinewidth": 0,
              "ticks": ""
             }
            },
            "marker": {
             "colorbar": {
              "outlinewidth": 0,
              "ticks": ""
             }
            },
            "type": "scatter3d"
           }
          ],
          "scattercarpet": [
           {
            "marker": {
             "colorbar": {
              "outlinewidth": 0,
              "ticks": ""
             }
            },
            "type": "scattercarpet"
           }
          ],
          "scattergeo": [
           {
            "marker": {
             "colorbar": {
              "outlinewidth": 0,
              "ticks": ""
             }
            },
            "type": "scattergeo"
           }
          ],
          "scattergl": [
           {
            "marker": {
             "colorbar": {
              "outlinewidth": 0,
              "ticks": ""
             }
            },
            "type": "scattergl"
           }
          ],
          "scattermapbox": [
           {
            "marker": {
             "colorbar": {
              "outlinewidth": 0,
              "ticks": ""
             }
            },
            "type": "scattermapbox"
           }
          ],
          "scatterpolar": [
           {
            "marker": {
             "colorbar": {
              "outlinewidth": 0,
              "ticks": ""
             }
            },
            "type": "scatterpolar"
           }
          ],
          "scatterpolargl": [
           {
            "marker": {
             "colorbar": {
              "outlinewidth": 0,
              "ticks": ""
             }
            },
            "type": "scatterpolargl"
           }
          ],
          "scatterternary": [
           {
            "marker": {
             "colorbar": {
              "outlinewidth": 0,
              "ticks": ""
             }
            },
            "type": "scatterternary"
           }
          ],
          "surface": [
           {
            "colorbar": {
             "outlinewidth": 0,
             "ticks": ""
            },
            "colorscale": [
             [
              0,
              "#0d0887"
             ],
             [
              0.1111111111111111,
              "#46039f"
             ],
             [
              0.2222222222222222,
              "#7201a8"
             ],
             [
              0.3333333333333333,
              "#9c179e"
             ],
             [
              0.4444444444444444,
              "#bd3786"
             ],
             [
              0.5555555555555556,
              "#d8576b"
             ],
             [
              0.6666666666666666,
              "#ed7953"
             ],
             [
              0.7777777777777778,
              "#fb9f3a"
             ],
             [
              0.8888888888888888,
              "#fdca26"
             ],
             [
              1,
              "#f0f921"
             ]
            ],
            "type": "surface"
           }
          ],
          "table": [
           {
            "cells": {
             "fill": {
              "color": "#EBF0F8"
             },
             "line": {
              "color": "white"
             }
            },
            "header": {
             "fill": {
              "color": "#C8D4E3"
             },
             "line": {
              "color": "white"
             }
            },
            "type": "table"
           }
          ]
         },
         "layout": {
          "annotationdefaults": {
           "arrowcolor": "#2a3f5f",
           "arrowhead": 0,
           "arrowwidth": 1
          },
          "autotypenumbers": "strict",
          "coloraxis": {
           "colorbar": {
            "outlinewidth": 0,
            "ticks": ""
           }
          },
          "colorscale": {
           "diverging": [
            [
             0,
             "#8e0152"
            ],
            [
             0.1,
             "#c51b7d"
            ],
            [
             0.2,
             "#de77ae"
            ],
            [
             0.3,
             "#f1b6da"
            ],
            [
             0.4,
             "#fde0ef"
            ],
            [
             0.5,
             "#f7f7f7"
            ],
            [
             0.6,
             "#e6f5d0"
            ],
            [
             0.7,
             "#b8e186"
            ],
            [
             0.8,
             "#7fbc41"
            ],
            [
             0.9,
             "#4d9221"
            ],
            [
             1,
             "#276419"
            ]
           ],
           "sequential": [
            [
             0,
             "#0d0887"
            ],
            [
             0.1111111111111111,
             "#46039f"
            ],
            [
             0.2222222222222222,
             "#7201a8"
            ],
            [
             0.3333333333333333,
             "#9c179e"
            ],
            [
             0.4444444444444444,
             "#bd3786"
            ],
            [
             0.5555555555555556,
             "#d8576b"
            ],
            [
             0.6666666666666666,
             "#ed7953"
            ],
            [
             0.7777777777777778,
             "#fb9f3a"
            ],
            [
             0.8888888888888888,
             "#fdca26"
            ],
            [
             1,
             "#f0f921"
            ]
           ],
           "sequentialminus": [
            [
             0,
             "#0d0887"
            ],
            [
             0.1111111111111111,
             "#46039f"
            ],
            [
             0.2222222222222222,
             "#7201a8"
            ],
            [
             0.3333333333333333,
             "#9c179e"
            ],
            [
             0.4444444444444444,
             "#bd3786"
            ],
            [
             0.5555555555555556,
             "#d8576b"
            ],
            [
             0.6666666666666666,
             "#ed7953"
            ],
            [
             0.7777777777777778,
             "#fb9f3a"
            ],
            [
             0.8888888888888888,
             "#fdca26"
            ],
            [
             1,
             "#f0f921"
            ]
           ]
          },
          "colorway": [
           "#636efa",
           "#EF553B",
           "#00cc96",
           "#ab63fa",
           "#FFA15A",
           "#19d3f3",
           "#FF6692",
           "#B6E880",
           "#FF97FF",
           "#FECB52"
          ],
          "font": {
           "color": "#2a3f5f"
          },
          "geo": {
           "bgcolor": "white",
           "lakecolor": "white",
           "landcolor": "#E5ECF6",
           "showlakes": true,
           "showland": true,
           "subunitcolor": "white"
          },
          "hoverlabel": {
           "align": "left"
          },
          "hovermode": "closest",
          "mapbox": {
           "style": "light"
          },
          "paper_bgcolor": "white",
          "plot_bgcolor": "#E5ECF6",
          "polar": {
           "angularaxis": {
            "gridcolor": "white",
            "linecolor": "white",
            "ticks": ""
           },
           "bgcolor": "#E5ECF6",
           "radialaxis": {
            "gridcolor": "white",
            "linecolor": "white",
            "ticks": ""
           }
          },
          "scene": {
           "xaxis": {
            "backgroundcolor": "#E5ECF6",
            "gridcolor": "white",
            "gridwidth": 2,
            "linecolor": "white",
            "showbackground": true,
            "ticks": "",
            "zerolinecolor": "white"
           },
           "yaxis": {
            "backgroundcolor": "#E5ECF6",
            "gridcolor": "white",
            "gridwidth": 2,
            "linecolor": "white",
            "showbackground": true,
            "ticks": "",
            "zerolinecolor": "white"
           },
           "zaxis": {
            "backgroundcolor": "#E5ECF6",
            "gridcolor": "white",
            "gridwidth": 2,
            "linecolor": "white",
            "showbackground": true,
            "ticks": "",
            "zerolinecolor": "white"
           }
          },
          "shapedefaults": {
           "line": {
            "color": "#2a3f5f"
           }
          },
          "ternary": {
           "aaxis": {
            "gridcolor": "white",
            "linecolor": "white",
            "ticks": ""
           },
           "baxis": {
            "gridcolor": "white",
            "linecolor": "white",
            "ticks": ""
           },
           "bgcolor": "#E5ECF6",
           "caxis": {
            "gridcolor": "white",
            "linecolor": "white",
            "ticks": ""
           }
          },
          "title": {
           "x": 0.05
          },
          "xaxis": {
           "automargin": true,
           "gridcolor": "white",
           "linecolor": "white",
           "ticks": "",
           "title": {
            "standoff": 15
           },
           "zerolinecolor": "white",
           "zerolinewidth": 2
          },
          "yaxis": {
           "automargin": true,
           "gridcolor": "white",
           "linecolor": "white",
           "ticks": "",
           "title": {
            "standoff": 15
           },
           "zerolinecolor": "white",
           "zerolinewidth": 2
          }
         }
        }
       }
      },
      "text/html": [
       "<div>                            <div id=\"7e80069a-6975-43ec-88ff-f1fb98db5560\" class=\"plotly-graph-div\" style=\"height:525px; width:100%;\"></div>            <script type=\"text/javascript\">                require([\"plotly\"], function(Plotly) {                    window.PLOTLYENV=window.PLOTLYENV || {};                                    if (document.getElementById(\"7e80069a-6975-43ec-88ff-f1fb98db5560\")) {                    Plotly.newPlot(                        \"7e80069a-6975-43ec-88ff-f1fb98db5560\",                        [{\"dimensions\":[{\"axis\":{\"matches\":true},\"label\":\"County\",\"values\":[\"Austin County\",\"Austin County\",\"Austin County\",\"Austin County\",\"Austin County\",\"Austin County\"]},{\"axis\":{\"matches\":true},\"label\":\"Year\",\"values\":[2015,2016,2017,2018,2019,2020]},{\"axis\":{\"matches\":true},\"label\":\"Violent_Offenses\",\"values\":[61,49,45,43,43,42]},{\"axis\":{\"matches\":true},\"label\":\"NonViolent_Offenses\",\"values\":[417,406,326,249,256,236]}],\"hovertemplate\":\"County=Austin County<br>%{xaxis.title.text}=%{x}<br>%{yaxis.title.text}=%{y}<extra></extra>\",\"legendgroup\":\"Austin County\",\"marker\":{\"color\":\"#636efa\",\"symbol\":\"circle\"},\"name\":\"Austin County\",\"showlegend\":true,\"type\":\"splom\"},{\"dimensions\":[{\"axis\":{\"matches\":true},\"label\":\"County\",\"values\":[\"Brazoria County\",\"Brazoria County\",\"Brazoria County\",\"Brazoria County\",\"Brazoria County\",\"Brazoria County\"]},{\"axis\":{\"matches\":true},\"label\":\"Year\",\"values\":[2015,2016,2017,2018,2019,2020]},{\"axis\":{\"matches\":true},\"label\":\"Violent_Offenses\",\"values\":[470,513,560,512,533,587]},{\"axis\":{\"matches\":true},\"label\":\"NonViolent_Offenses\",\"values\":[5983,5843,5428,5431,6233,5515]}],\"hovertemplate\":\"County=Brazoria County<br>%{xaxis.title.text}=%{x}<br>%{yaxis.title.text}=%{y}<extra></extra>\",\"legendgroup\":\"Brazoria County\",\"marker\":{\"color\":\"#EF553B\",\"symbol\":\"circle\"},\"name\":\"Brazoria County\",\"showlegend\":true,\"type\":\"splom\"},{\"dimensions\":[{\"axis\":{\"matches\":true},\"label\":\"County\",\"values\":[\"Brazos County\",\"Brazos County\",\"Brazos County\",\"Brazos County\",\"Brazos County\",\"Brazos County\"]},{\"axis\":{\"matches\":true},\"label\":\"Year\",\"values\":[2015,2016,2017,2018,2019,2020]},{\"axis\":{\"matches\":true},\"label\":\"Violent_Offenses\",\"values\":[587,608,529,549,555,661]},{\"axis\":{\"matches\":true},\"label\":\"NonViolent_Offenses\",\"values\":[5841,5614,5030,5201,4697,4571]}],\"hovertemplate\":\"County=Brazos County<br>%{xaxis.title.text}=%{x}<br>%{yaxis.title.text}=%{y}<extra></extra>\",\"legendgroup\":\"Brazos County\",\"marker\":{\"color\":\"#00cc96\",\"symbol\":\"circle\"},\"name\":\"Brazos County\",\"showlegend\":true,\"type\":\"splom\"},{\"dimensions\":[{\"axis\":{\"matches\":true},\"label\":\"County\",\"values\":[\"Chambers County\",\"Chambers County\",\"Chambers County\",\"Chambers County\",\"Chambers County\",\"Chambers County\"]},{\"axis\":{\"matches\":true},\"label\":\"Year\",\"values\":[2015,2016,2017,2018,2019,2020]},{\"axis\":{\"matches\":true},\"label\":\"Violent_Offenses\",\"values\":[110,131,89,53,81,126]},{\"axis\":{\"matches\":true},\"label\":\"NonViolent_Offenses\",\"values\":[847,846,715,724,779,724]}],\"hovertemplate\":\"County=Chambers County<br>%{xaxis.title.text}=%{x}<br>%{yaxis.title.text}=%{y}<extra></extra>\",\"legendgroup\":\"Chambers County\",\"marker\":{\"color\":\"#ab63fa\",\"symbol\":\"circle\"},\"name\":\"Chambers County\",\"showlegend\":true,\"type\":\"splom\"},{\"dimensions\":[{\"axis\":{\"matches\":true},\"label\":\"County\",\"values\":[\"Fort Bend County\",\"Fort Bend County\",\"Fort Bend County\",\"Fort Bend County\",\"Fort Bend County\",\"Fort Bend County\"]},{\"axis\":{\"matches\":true},\"label\":\"Year\",\"values\":[2015,2016,2017,2018,2019,2020]},{\"axis\":{\"matches\":true},\"label\":\"Violent_Offenses\",\"values\":[1034,935,1073,1152,1246,1287]},{\"axis\":{\"matches\":true},\"label\":\"NonViolent_Offenses\",\"values\":[10264,9190,8416,8223,9007,8422]}],\"hovertemplate\":\"County=Fort Bend County<br>%{xaxis.title.text}=%{x}<br>%{yaxis.title.text}=%{y}<extra></extra>\",\"legendgroup\":\"Fort Bend County\",\"marker\":{\"color\":\"#FFA15A\",\"symbol\":\"circle\"},\"name\":\"Fort Bend County\",\"showlegend\":true,\"type\":\"splom\"},{\"dimensions\":[{\"axis\":{\"matches\":true},\"label\":\"County\",\"values\":[\"Galveston County\",\"Galveston County\",\"Galveston County\",\"Galveston County\",\"Galveston County\",\"Galveston County\"]},{\"axis\":{\"matches\":true},\"label\":\"Year\",\"values\":[2015,2016,2017,2018,2019,2020]},{\"axis\":{\"matches\":true},\"label\":\"Violent_Offenses\",\"values\":[610,764,732,768,715,927]},{\"axis\":{\"matches\":true},\"label\":\"NonViolent_Offenses\",\"values\":[8335,8839,8380,7795,7040,7211]}],\"hovertemplate\":\"County=Galveston County<br>%{xaxis.title.text}=%{x}<br>%{yaxis.title.text}=%{y}<extra></extra>\",\"legendgroup\":\"Galveston County\",\"marker\":{\"color\":\"#19d3f3\",\"symbol\":\"circle\"},\"name\":\"Galveston County\",\"showlegend\":true,\"type\":\"splom\"},{\"dimensions\":[{\"axis\":{\"matches\":true},\"label\":\"County\",\"values\":[\"Grimes County\",\"Grimes County\",\"Grimes County\",\"Grimes County\",\"Grimes County\",\"Grimes County\"]},{\"axis\":{\"matches\":true},\"label\":\"Year\",\"values\":[2015,2016,2017,2018,2019,2020]},{\"axis\":{\"matches\":true},\"label\":\"Violent_Offenses\",\"values\":[85,70,48,39,33,69]},{\"axis\":{\"matches\":true},\"label\":\"NonViolent_Offenses\",\"values\":[463,461,309,290,328,337]}],\"hovertemplate\":\"County=Grimes County<br>%{xaxis.title.text}=%{x}<br>%{yaxis.title.text}=%{y}<extra></extra>\",\"legendgroup\":\"Grimes County\",\"marker\":{\"color\":\"#FF6692\",\"symbol\":\"circle\"},\"name\":\"Grimes County\",\"showlegend\":true,\"type\":\"splom\"},{\"dimensions\":[{\"axis\":{\"matches\":true},\"label\":\"County\",\"values\":[\"Liberty County\",\"Liberty County\",\"Liberty County\",\"Liberty County\",\"Liberty County\",\"Liberty County\"]},{\"axis\":{\"matches\":true},\"label\":\"Year\",\"values\":[2015,2016,2017,2018,2019,2020]},{\"axis\":{\"matches\":true},\"label\":\"Violent_Offenses\",\"values\":[294,282,113,247,215,315]},{\"axis\":{\"matches\":true},\"label\":\"NonViolent_Offenses\",\"values\":[1918,1699,688,1435,1618,1375]}],\"hovertemplate\":\"County=Liberty County<br>%{xaxis.title.text}=%{x}<br>%{yaxis.title.text}=%{y}<extra></extra>\",\"legendgroup\":\"Liberty County\",\"marker\":{\"color\":\"#B6E880\",\"symbol\":\"circle\"},\"name\":\"Liberty County\",\"showlegend\":true,\"type\":\"splom\"},{\"dimensions\":[{\"axis\":{\"matches\":true},\"label\":\"County\",\"values\":[\"Matagorda County\",\"Matagorda County\",\"Matagorda County\",\"Matagorda County\",\"Matagorda County\",\"Matagorda County\"]},{\"axis\":{\"matches\":true},\"label\":\"Year\",\"values\":[2015,2016,2017,2018,2019,2020]},{\"axis\":{\"matches\":true},\"label\":\"Violent_Offenses\",\"values\":[85,117,143,136,156,169]},{\"axis\":{\"matches\":true},\"label\":\"NonViolent_Offenses\",\"values\":[1157,1228,1024,1115,1142,973]}],\"hovertemplate\":\"County=Matagorda County<br>%{xaxis.title.text}=%{x}<br>%{yaxis.title.text}=%{y}<extra></extra>\",\"legendgroup\":\"Matagorda County\",\"marker\":{\"color\":\"#FF97FF\",\"symbol\":\"circle\"},\"name\":\"Matagorda County\",\"showlegend\":true,\"type\":\"splom\"},{\"dimensions\":[{\"axis\":{\"matches\":true},\"label\":\"County\",\"values\":[\"Montgomery County\",\"Montgomery County\",\"Montgomery County\",\"Montgomery County\",\"Montgomery County\",\"Montgomery County\"]},{\"axis\":{\"matches\":true},\"label\":\"Year\",\"values\":[2015,2016,2017,2018,2019,2020]},{\"axis\":{\"matches\":true},\"label\":\"Violent_Offenses\",\"values\":[976,678,705,969,972,925]},{\"axis\":{\"matches\":true},\"label\":\"NonViolent_Offenses\",\"values\":[8635,8008,6858,7725,8051,7280]}],\"hovertemplate\":\"County=Montgomery County<br>%{xaxis.title.text}=%{x}<br>%{yaxis.title.text}=%{y}<extra></extra>\",\"legendgroup\":\"Montgomery County\",\"marker\":{\"color\":\"#FECB52\",\"symbol\":\"circle\"},\"name\":\"Montgomery County\",\"showlegend\":true,\"type\":\"splom\"},{\"dimensions\":[{\"axis\":{\"matches\":true},\"label\":\"County\",\"values\":[\"Polk County\",\"Polk County\",\"Polk County\",\"Polk County\",\"Polk County\",\"Polk County\"]},{\"axis\":{\"matches\":true},\"label\":\"Year\",\"values\":[2015,2016,2017,2018,2019,2020]},{\"axis\":{\"matches\":true},\"label\":\"Violent_Offenses\",\"values\":[129,104,119,107,104,103]},{\"axis\":{\"matches\":true},\"label\":\"NonViolent_Offenses\",\"values\":[801,897,840,831,1060,861]}],\"hovertemplate\":\"County=Polk County<br>%{xaxis.title.text}=%{x}<br>%{yaxis.title.text}=%{y}<extra></extra>\",\"legendgroup\":\"Polk County\",\"marker\":{\"color\":\"#636efa\",\"symbol\":\"circle\"},\"name\":\"Polk County\",\"showlegend\":true,\"type\":\"splom\"},{\"dimensions\":[{\"axis\":{\"matches\":true},\"label\":\"County\",\"values\":[\"San Jacinto County\",\"San Jacinto County\",\"San Jacinto County\",\"San Jacinto County\",\"San Jacinto County\",\"San Jacinto County\"]},{\"axis\":{\"matches\":true},\"label\":\"Year\",\"values\":[2015,2016,2017,2018,2019,2020]},{\"axis\":{\"matches\":true},\"label\":\"Violent_Offenses\",\"values\":[66,43,53,40,43,37]},{\"axis\":{\"matches\":true},\"label\":\"NonViolent_Offenses\",\"values\":[466,362,466,360,330,711]}],\"hovertemplate\":\"County=San Jacinto County<br>%{xaxis.title.text}=%{x}<br>%{yaxis.title.text}=%{y}<extra></extra>\",\"legendgroup\":\"San Jacinto County\",\"marker\":{\"color\":\"#EF553B\",\"symbol\":\"circle\"},\"name\":\"San Jacinto County\",\"showlegend\":true,\"type\":\"splom\"},{\"dimensions\":[{\"axis\":{\"matches\":true},\"label\":\"County\",\"values\":[\"Walker County\",\"Walker County\",\"Walker County\",\"Walker County\",\"Walker County\",\"Walker County\"]},{\"axis\":{\"matches\":true},\"label\":\"Year\",\"values\":[2015,2016,2017,2018,2019,2020]},{\"axis\":{\"matches\":true},\"label\":\"Violent_Offenses\",\"values\":[226,231,204,185,223,196]},{\"axis\":{\"matches\":true},\"label\":\"NonViolent_Offenses\",\"values\":[1177,1026,886,883,910,860]}],\"hovertemplate\":\"County=Walker County<br>%{xaxis.title.text}=%{x}<br>%{yaxis.title.text}=%{y}<extra></extra>\",\"legendgroup\":\"Walker County\",\"marker\":{\"color\":\"#00cc96\",\"symbol\":\"circle\"},\"name\":\"Walker County\",\"showlegend\":true,\"type\":\"splom\"},{\"dimensions\":[{\"axis\":{\"matches\":true},\"label\":\"County\",\"values\":[\"Waller County\",\"Waller County\",\"Waller County\",\"Waller County\",\"Waller County\",\"Waller County\"]},{\"axis\":{\"matches\":true},\"label\":\"Year\",\"values\":[2015,2016,2017,2018,2019,2020]},{\"axis\":{\"matches\":true},\"label\":\"Violent_Offenses\",\"values\":[199,146,143,184,134,141]},{\"axis\":{\"matches\":true},\"label\":\"NonViolent_Offenses\",\"values\":[727,701,667,782,695,648]}],\"hovertemplate\":\"County=Waller County<br>%{xaxis.title.text}=%{x}<br>%{yaxis.title.text}=%{y}<extra></extra>\",\"legendgroup\":\"Waller County\",\"marker\":{\"color\":\"#ab63fa\",\"symbol\":\"circle\"},\"name\":\"Waller County\",\"showlegend\":true,\"type\":\"splom\"},{\"dimensions\":[{\"axis\":{\"matches\":true},\"label\":\"County\",\"values\":[\"Washington County\",\"Washington County\",\"Washington County\",\"Washington County\",\"Washington County\",\"Washington County\"]},{\"axis\":{\"matches\":true},\"label\":\"Year\",\"values\":[2015,2016,2017,2018,2019,2020]},{\"axis\":{\"matches\":true},\"label\":\"Violent_Offenses\",\"values\":[71,59,148,91,135,86]},{\"axis\":{\"matches\":true},\"label\":\"NonViolent_Offenses\",\"values\":[534,521,439,457,501,409]}],\"hovertemplate\":\"County=Washington County<br>%{xaxis.title.text}=%{x}<br>%{yaxis.title.text}=%{y}<extra></extra>\",\"legendgroup\":\"Washington County\",\"marker\":{\"color\":\"#FFA15A\",\"symbol\":\"circle\"},\"name\":\"Washington County\",\"showlegend\":true,\"type\":\"splom\"},{\"dimensions\":[{\"axis\":{\"matches\":true},\"label\":\"County\",\"values\":[\"Wharton County\",\"Wharton County\",\"Wharton County\",\"Wharton County\",\"Wharton County\",\"Wharton County\"]},{\"axis\":{\"matches\":true},\"label\":\"Year\",\"values\":[2015,2016,2017,2018,2019,2020]},{\"axis\":{\"matches\":true},\"label\":\"Violent_Offenses\",\"values\":[135,156,145,131,122,130]},{\"axis\":{\"matches\":true},\"label\":\"NonViolent_Offenses\",\"values\":[1082,1095,918,729,797,804]}],\"hovertemplate\":\"County=Wharton County<br>%{xaxis.title.text}=%{x}<br>%{yaxis.title.text}=%{y}<extra></extra>\",\"legendgroup\":\"Wharton County\",\"marker\":{\"color\":\"#19d3f3\",\"symbol\":\"circle\"},\"name\":\"Wharton County\",\"showlegend\":true,\"type\":\"splom\"}],                        {\"template\":{\"data\":{\"bar\":[{\"error_x\":{\"color\":\"#2a3f5f\"},\"error_y\":{\"color\":\"#2a3f5f\"},\"marker\":{\"line\":{\"color\":\"#E5ECF6\",\"width\":0.5},\"pattern\":{\"fillmode\":\"overlay\",\"size\":10,\"solidity\":0.2}},\"type\":\"bar\"}],\"barpolar\":[{\"marker\":{\"line\":{\"color\":\"#E5ECF6\",\"width\":0.5},\"pattern\":{\"fillmode\":\"overlay\",\"size\":10,\"solidity\":0.2}},\"type\":\"barpolar\"}],\"carpet\":[{\"aaxis\":{\"endlinecolor\":\"#2a3f5f\",\"gridcolor\":\"white\",\"linecolor\":\"white\",\"minorgridcolor\":\"white\",\"startlinecolor\":\"#2a3f5f\"},\"baxis\":{\"endlinecolor\":\"#2a3f5f\",\"gridcolor\":\"white\",\"linecolor\":\"white\",\"minorgridcolor\":\"white\",\"startlinecolor\":\"#2a3f5f\"},\"type\":\"carpet\"}],\"choropleth\":[{\"colorbar\":{\"outlinewidth\":0,\"ticks\":\"\"},\"type\":\"choropleth\"}],\"contour\":[{\"colorbar\":{\"outlinewidth\":0,\"ticks\":\"\"},\"colorscale\":[[0.0,\"#0d0887\"],[0.1111111111111111,\"#46039f\"],[0.2222222222222222,\"#7201a8\"],[0.3333333333333333,\"#9c179e\"],[0.4444444444444444,\"#bd3786\"],[0.5555555555555556,\"#d8576b\"],[0.6666666666666666,\"#ed7953\"],[0.7777777777777778,\"#fb9f3a\"],[0.8888888888888888,\"#fdca26\"],[1.0,\"#f0f921\"]],\"type\":\"contour\"}],\"contourcarpet\":[{\"colorbar\":{\"outlinewidth\":0,\"ticks\":\"\"},\"type\":\"contourcarpet\"}],\"heatmap\":[{\"colorbar\":{\"outlinewidth\":0,\"ticks\":\"\"},\"colorscale\":[[0.0,\"#0d0887\"],[0.1111111111111111,\"#46039f\"],[0.2222222222222222,\"#7201a8\"],[0.3333333333333333,\"#9c179e\"],[0.4444444444444444,\"#bd3786\"],[0.5555555555555556,\"#d8576b\"],[0.6666666666666666,\"#ed7953\"],[0.7777777777777778,\"#fb9f3a\"],[0.8888888888888888,\"#fdca26\"],[1.0,\"#f0f921\"]],\"type\":\"heatmap\"}],\"heatmapgl\":[{\"colorbar\":{\"outlinewidth\":0,\"ticks\":\"\"},\"colorscale\":[[0.0,\"#0d0887\"],[0.1111111111111111,\"#46039f\"],[0.2222222222222222,\"#7201a8\"],[0.3333333333333333,\"#9c179e\"],[0.4444444444444444,\"#bd3786\"],[0.5555555555555556,\"#d8576b\"],[0.6666666666666666,\"#ed7953\"],[0.7777777777777778,\"#fb9f3a\"],[0.8888888888888888,\"#fdca26\"],[1.0,\"#f0f921\"]],\"type\":\"heatmapgl\"}],\"histogram\":[{\"marker\":{\"pattern\":{\"fillmode\":\"overlay\",\"size\":10,\"solidity\":0.2}},\"type\":\"histogram\"}],\"histogram2d\":[{\"colorbar\":{\"outlinewidth\":0,\"ticks\":\"\"},\"colorscale\":[[0.0,\"#0d0887\"],[0.1111111111111111,\"#46039f\"],[0.2222222222222222,\"#7201a8\"],[0.3333333333333333,\"#9c179e\"],[0.4444444444444444,\"#bd3786\"],[0.5555555555555556,\"#d8576b\"],[0.6666666666666666,\"#ed7953\"],[0.7777777777777778,\"#fb9f3a\"],[0.8888888888888888,\"#fdca26\"],[1.0,\"#f0f921\"]],\"type\":\"histogram2d\"}],\"histogram2dcontour\":[{\"colorbar\":{\"outlinewidth\":0,\"ticks\":\"\"},\"colorscale\":[[0.0,\"#0d0887\"],[0.1111111111111111,\"#46039f\"],[0.2222222222222222,\"#7201a8\"],[0.3333333333333333,\"#9c179e\"],[0.4444444444444444,\"#bd3786\"],[0.5555555555555556,\"#d8576b\"],[0.6666666666666666,\"#ed7953\"],[0.7777777777777778,\"#fb9f3a\"],[0.8888888888888888,\"#fdca26\"],[1.0,\"#f0f921\"]],\"type\":\"histogram2dcontour\"}],\"mesh3d\":[{\"colorbar\":{\"outlinewidth\":0,\"ticks\":\"\"},\"type\":\"mesh3d\"}],\"parcoords\":[{\"line\":{\"colorbar\":{\"outlinewidth\":0,\"ticks\":\"\"}},\"type\":\"parcoords\"}],\"pie\":[{\"automargin\":true,\"type\":\"pie\"}],\"scatter\":[{\"marker\":{\"colorbar\":{\"outlinewidth\":0,\"ticks\":\"\"}},\"type\":\"scatter\"}],\"scatter3d\":[{\"line\":{\"colorbar\":{\"outlinewidth\":0,\"ticks\":\"\"}},\"marker\":{\"colorbar\":{\"outlinewidth\":0,\"ticks\":\"\"}},\"type\":\"scatter3d\"}],\"scattercarpet\":[{\"marker\":{\"colorbar\":{\"outlinewidth\":0,\"ticks\":\"\"}},\"type\":\"scattercarpet\"}],\"scattergeo\":[{\"marker\":{\"colorbar\":{\"outlinewidth\":0,\"ticks\":\"\"}},\"type\":\"scattergeo\"}],\"scattergl\":[{\"marker\":{\"colorbar\":{\"outlinewidth\":0,\"ticks\":\"\"}},\"type\":\"scattergl\"}],\"scattermapbox\":[{\"marker\":{\"colorbar\":{\"outlinewidth\":0,\"ticks\":\"\"}},\"type\":\"scattermapbox\"}],\"scatterpolar\":[{\"marker\":{\"colorbar\":{\"outlinewidth\":0,\"ticks\":\"\"}},\"type\":\"scatterpolar\"}],\"scatterpolargl\":[{\"marker\":{\"colorbar\":{\"outlinewidth\":0,\"ticks\":\"\"}},\"type\":\"scatterpolargl\"}],\"scatterternary\":[{\"marker\":{\"colorbar\":{\"outlinewidth\":0,\"ticks\":\"\"}},\"type\":\"scatterternary\"}],\"surface\":[{\"colorbar\":{\"outlinewidth\":0,\"ticks\":\"\"},\"colorscale\":[[0.0,\"#0d0887\"],[0.1111111111111111,\"#46039f\"],[0.2222222222222222,\"#7201a8\"],[0.3333333333333333,\"#9c179e\"],[0.4444444444444444,\"#bd3786\"],[0.5555555555555556,\"#d8576b\"],[0.6666666666666666,\"#ed7953\"],[0.7777777777777778,\"#fb9f3a\"],[0.8888888888888888,\"#fdca26\"],[1.0,\"#f0f921\"]],\"type\":\"surface\"}],\"table\":[{\"cells\":{\"fill\":{\"color\":\"#EBF0F8\"},\"line\":{\"color\":\"white\"}},\"header\":{\"fill\":{\"color\":\"#C8D4E3\"},\"line\":{\"color\":\"white\"}},\"type\":\"table\"}]},\"layout\":{\"annotationdefaults\":{\"arrowcolor\":\"#2a3f5f\",\"arrowhead\":0,\"arrowwidth\":1},\"autotypenumbers\":\"strict\",\"coloraxis\":{\"colorbar\":{\"outlinewidth\":0,\"ticks\":\"\"}},\"colorscale\":{\"diverging\":[[0,\"#8e0152\"],[0.1,\"#c51b7d\"],[0.2,\"#de77ae\"],[0.3,\"#f1b6da\"],[0.4,\"#fde0ef\"],[0.5,\"#f7f7f7\"],[0.6,\"#e6f5d0\"],[0.7,\"#b8e186\"],[0.8,\"#7fbc41\"],[0.9,\"#4d9221\"],[1,\"#276419\"]],\"sequential\":[[0.0,\"#0d0887\"],[0.1111111111111111,\"#46039f\"],[0.2222222222222222,\"#7201a8\"],[0.3333333333333333,\"#9c179e\"],[0.4444444444444444,\"#bd3786\"],[0.5555555555555556,\"#d8576b\"],[0.6666666666666666,\"#ed7953\"],[0.7777777777777778,\"#fb9f3a\"],[0.8888888888888888,\"#fdca26\"],[1.0,\"#f0f921\"]],\"sequentialminus\":[[0.0,\"#0d0887\"],[0.1111111111111111,\"#46039f\"],[0.2222222222222222,\"#7201a8\"],[0.3333333333333333,\"#9c179e\"],[0.4444444444444444,\"#bd3786\"],[0.5555555555555556,\"#d8576b\"],[0.6666666666666666,\"#ed7953\"],[0.7777777777777778,\"#fb9f3a\"],[0.8888888888888888,\"#fdca26\"],[1.0,\"#f0f921\"]]},\"colorway\":[\"#636efa\",\"#EF553B\",\"#00cc96\",\"#ab63fa\",\"#FFA15A\",\"#19d3f3\",\"#FF6692\",\"#B6E880\",\"#FF97FF\",\"#FECB52\"],\"font\":{\"color\":\"#2a3f5f\"},\"geo\":{\"bgcolor\":\"white\",\"lakecolor\":\"white\",\"landcolor\":\"#E5ECF6\",\"showlakes\":true,\"showland\":true,\"subunitcolor\":\"white\"},\"hoverlabel\":{\"align\":\"left\"},\"hovermode\":\"closest\",\"mapbox\":{\"style\":\"light\"},\"paper_bgcolor\":\"white\",\"plot_bgcolor\":\"#E5ECF6\",\"polar\":{\"angularaxis\":{\"gridcolor\":\"white\",\"linecolor\":\"white\",\"ticks\":\"\"},\"bgcolor\":\"#E5ECF6\",\"radialaxis\":{\"gridcolor\":\"white\",\"linecolor\":\"white\",\"ticks\":\"\"}},\"scene\":{\"xaxis\":{\"backgroundcolor\":\"#E5ECF6\",\"gridcolor\":\"white\",\"gridwidth\":2,\"linecolor\":\"white\",\"showbackground\":true,\"ticks\":\"\",\"zerolinecolor\":\"white\"},\"yaxis\":{\"backgroundcolor\":\"#E5ECF6\",\"gridcolor\":\"white\",\"gridwidth\":2,\"linecolor\":\"white\",\"showbackground\":true,\"ticks\":\"\",\"zerolinecolor\":\"white\"},\"zaxis\":{\"backgroundcolor\":\"#E5ECF6\",\"gridcolor\":\"white\",\"gridwidth\":2,\"linecolor\":\"white\",\"showbackground\":true,\"ticks\":\"\",\"zerolinecolor\":\"white\"}},\"shapedefaults\":{\"line\":{\"color\":\"#2a3f5f\"}},\"ternary\":{\"aaxis\":{\"gridcolor\":\"white\",\"linecolor\":\"white\",\"ticks\":\"\"},\"baxis\":{\"gridcolor\":\"white\",\"linecolor\":\"white\",\"ticks\":\"\"},\"bgcolor\":\"#E5ECF6\",\"caxis\":{\"gridcolor\":\"white\",\"linecolor\":\"white\",\"ticks\":\"\"}},\"title\":{\"x\":0.05},\"xaxis\":{\"automargin\":true,\"gridcolor\":\"white\",\"linecolor\":\"white\",\"ticks\":\"\",\"title\":{\"standoff\":15},\"zerolinecolor\":\"white\",\"zerolinewidth\":2},\"yaxis\":{\"automargin\":true,\"gridcolor\":\"white\",\"linecolor\":\"white\",\"ticks\":\"\",\"title\":{\"standoff\":15},\"zerolinecolor\":\"white\",\"zerolinewidth\":2}}},\"legend\":{\"title\":{\"text\":\"County\"},\"tracegroupgap\":0},\"margin\":{\"t\":60},\"dragmode\":\"select\"},                        {\"responsive\": true}                    ).then(function(){\n",
       "                            \n",
       "var gd = document.getElementById('7e80069a-6975-43ec-88ff-f1fb98db5560');\n",
       "var x = new MutationObserver(function (mutations, observer) {{\n",
       "        var display = window.getComputedStyle(gd).display;\n",
       "        if (!display || display === 'none') {{\n",
       "            console.log([gd, 'removed!']);\n",
       "            Plotly.purge(gd);\n",
       "            observer.disconnect();\n",
       "        }}\n",
       "}});\n",
       "\n",
       "// Listen for the removal of the full notebook cells\n",
       "var notebookContainer = gd.closest('#notebook-container');\n",
       "if (notebookContainer) {{\n",
       "    x.observe(notebookContainer, {childList: true});\n",
       "}}\n",
       "\n",
       "// Listen for the clearing of the current output cell\n",
       "var outputEl = gd.closest('.output');\n",
       "if (outputEl) {{\n",
       "    x.observe(outputEl, {childList: true});\n",
       "}}\n",
       "\n",
       "                        })                };                });            </script>        </div>"
      ]
     },
     "metadata": {},
     "output_type": "display_data"
    }
   ],
   "source": [
    "# Outer Houston Count Scatter plot Matrix\n",
    "features = outer_hou_df[[\"County\", \"Year\", \"Violent_Offenses\", \"NonViolent_Offenses\"]]\n",
    "\n",
    "fig = px.scatter_matrix(\n",
    "    outer_hou_df,\n",
    "    dimensions=features,\n",
    "    color=\"County\"\n",
    ")\n",
    "\n",
    "fig.show()"
   ]
  },
  {
   "cell_type": "code",
   "execution_count": null,
   "id": "7e56508a",
   "metadata": {},
   "outputs": [],
   "source": []
  }
 ],
 "metadata": {
  "kernelspec": {
   "display_name": "PythonData",
   "language": "python",
   "name": "pythondata"
  },
  "language_info": {
   "codemirror_mode": {
    "name": "ipython",
    "version": 3
   },
   "file_extension": ".py",
   "mimetype": "text/x-python",
   "name": "python",
   "nbconvert_exporter": "python",
   "pygments_lexer": "ipython3",
   "version": "3.7.13"
  }
 },
 "nbformat": 4,
 "nbformat_minor": 5
}
