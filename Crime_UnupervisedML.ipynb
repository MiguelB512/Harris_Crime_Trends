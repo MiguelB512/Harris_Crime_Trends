{
 "cells": [
  {
   "cell_type": "markdown",
   "id": "a7c228c6",
   "metadata": {},
   "source": [
    "# Crime Data ML"
   ]
  },
  {
   "cell_type": "markdown",
   "id": "7ef2a821",
   "metadata": {},
   "source": [
    "## Import Dependencies"
   ]
  },
  {
   "cell_type": "code",
   "execution_count": 24,
   "id": "ce574f22",
   "metadata": {},
   "outputs": [],
   "source": [
    "# Import dependencies\n",
    "import os \n",
    "import pandas as pd\n",
    "import matplotlib as plt\n",
    "\n",
    "# Import Numpy\n",
    "import numpy as np\n",
    "\n",
    "# Import plots\n",
    "import plotly.express as px\n",
    "import matplotlib as plt\n",
    "\n",
    "# Import sklearn library\n",
    "from sklearn.preprocessing import StandardScaler\n",
    "from sklearn.decomposition import PCA\n",
    "from sklearn.cluster import AgglomerativeClustering\n",
    "from sklearn.cluster import KMeans\n",
    "import hvplot.pandas"
   ]
  },
  {
   "cell_type": "code",
   "execution_count": 7,
   "id": "5caf92f7",
   "metadata": {},
   "outputs": [],
   "source": [
    "# Importing crime data CSV\n",
    "crime_df = pd.read_csv('Resources/CSV/crime_data.csv')\n",
    "harris_df = pd.read_csv('Resources/CSV/harris_crime_data.csv')\n",
    "outter_hou_df = pd.read_csv('Resources/CSV/outter_hou_counties.csv')"
   ]
  },
  {
   "cell_type": "markdown",
   "id": "797cdc9d",
   "metadata": {},
   "source": [
    "## Viewing the data"
   ]
  },
  {
   "cell_type": "code",
   "execution_count": 8,
   "id": "ef257ba1",
   "metadata": {},
   "outputs": [
    {
     "data": {
      "text/html": [
       "<div>\n",
       "<style scoped>\n",
       "    .dataframe tbody tr th:only-of-type {\n",
       "        vertical-align: middle;\n",
       "    }\n",
       "\n",
       "    .dataframe tbody tr th {\n",
       "        vertical-align: top;\n",
       "    }\n",
       "\n",
       "    .dataframe thead th {\n",
       "        text-align: right;\n",
       "    }\n",
       "</style>\n",
       "<table border=\"1\" class=\"dataframe\">\n",
       "  <thead>\n",
       "    <tr style=\"text-align: right;\">\n",
       "      <th></th>\n",
       "      <th>County</th>\n",
       "      <th>Year</th>\n",
       "      <th>Agency_Count</th>\n",
       "      <th>Murder</th>\n",
       "      <th>Rape</th>\n",
       "      <th>Assault</th>\n",
       "      <th>Burglary</th>\n",
       "      <th>Larceny</th>\n",
       "      <th>Auto_Theft</th>\n",
       "      <th>Violent_Offenses</th>\n",
       "      <th>NonViolent_Offenses</th>\n",
       "      <th>Total_Crime</th>\n",
       "      <th>Population</th>\n",
       "    </tr>\n",
       "  </thead>\n",
       "  <tbody>\n",
       "    <tr>\n",
       "      <th>0</th>\n",
       "      <td>Austin County</td>\n",
       "      <td>2015</td>\n",
       "      <td>5</td>\n",
       "      <td>0</td>\n",
       "      <td>8</td>\n",
       "      <td>53</td>\n",
       "      <td>121</td>\n",
       "      <td>283</td>\n",
       "      <td>13</td>\n",
       "      <td>61</td>\n",
       "      <td>417</td>\n",
       "      <td>482</td>\n",
       "      <td>29354</td>\n",
       "    </tr>\n",
       "    <tr>\n",
       "      <th>1</th>\n",
       "      <td>Austin County</td>\n",
       "      <td>2016</td>\n",
       "      <td>5</td>\n",
       "      <td>0</td>\n",
       "      <td>6</td>\n",
       "      <td>43</td>\n",
       "      <td>136</td>\n",
       "      <td>239</td>\n",
       "      <td>31</td>\n",
       "      <td>49</td>\n",
       "      <td>406</td>\n",
       "      <td>466</td>\n",
       "      <td>29718</td>\n",
       "    </tr>\n",
       "    <tr>\n",
       "      <th>2</th>\n",
       "      <td>Austin County</td>\n",
       "      <td>2017</td>\n",
       "      <td>5</td>\n",
       "      <td>0</td>\n",
       "      <td>11</td>\n",
       "      <td>34</td>\n",
       "      <td>98</td>\n",
       "      <td>183</td>\n",
       "      <td>45</td>\n",
       "      <td>45</td>\n",
       "      <td>326</td>\n",
       "      <td>376</td>\n",
       "      <td>29963</td>\n",
       "    </tr>\n",
       "    <tr>\n",
       "      <th>3</th>\n",
       "      <td>Austin County</td>\n",
       "      <td>2018</td>\n",
       "      <td>5</td>\n",
       "      <td>0</td>\n",
       "      <td>11</td>\n",
       "      <td>32</td>\n",
       "      <td>82</td>\n",
       "      <td>138</td>\n",
       "      <td>29</td>\n",
       "      <td>43</td>\n",
       "      <td>249</td>\n",
       "      <td>295</td>\n",
       "      <td>29912</td>\n",
       "    </tr>\n",
       "    <tr>\n",
       "      <th>4</th>\n",
       "      <td>Austin County</td>\n",
       "      <td>2019</td>\n",
       "      <td>5</td>\n",
       "      <td>0</td>\n",
       "      <td>5</td>\n",
       "      <td>38</td>\n",
       "      <td>80</td>\n",
       "      <td>147</td>\n",
       "      <td>29</td>\n",
       "      <td>43</td>\n",
       "      <td>256</td>\n",
       "      <td>302</td>\n",
       "      <td>30009</td>\n",
       "    </tr>\n",
       "  </tbody>\n",
       "</table>\n",
       "</div>"
      ],
      "text/plain": [
       "          County  Year  Agency_Count  Murder  Rape  Assault  Burglary  \\\n",
       "0  Austin County  2015             5       0     8       53       121   \n",
       "1  Austin County  2016             5       0     6       43       136   \n",
       "2  Austin County  2017             5       0    11       34        98   \n",
       "3  Austin County  2018             5       0    11       32        82   \n",
       "4  Austin County  2019             5       0     5       38        80   \n",
       "\n",
       "   Larceny  Auto_Theft  Violent_Offenses  NonViolent_Offenses  Total_Crime  \\\n",
       "0      283          13                61                  417          482   \n",
       "1      239          31                49                  406          466   \n",
       "2      183          45                45                  326          376   \n",
       "3      138          29                43                  249          295   \n",
       "4      147          29                43                  256          302   \n",
       "\n",
       "   Population  \n",
       "0       29354  \n",
       "1       29718  \n",
       "2       29963  \n",
       "3       29912  \n",
       "4       30009  "
      ]
     },
     "execution_count": 8,
     "metadata": {},
     "output_type": "execute_result"
    }
   ],
   "source": [
    "crime_df.head()"
   ]
  },
  {
   "cell_type": "code",
   "execution_count": 9,
   "id": "7f3ba404",
   "metadata": {},
   "outputs": [
    {
     "data": {
      "text/html": [
       "<div>\n",
       "<style scoped>\n",
       "    .dataframe tbody tr th:only-of-type {\n",
       "        vertical-align: middle;\n",
       "    }\n",
       "\n",
       "    .dataframe tbody tr th {\n",
       "        vertical-align: top;\n",
       "    }\n",
       "\n",
       "    .dataframe thead th {\n",
       "        text-align: right;\n",
       "    }\n",
       "</style>\n",
       "<table border=\"1\" class=\"dataframe\">\n",
       "  <thead>\n",
       "    <tr style=\"text-align: right;\">\n",
       "      <th></th>\n",
       "      <th>County</th>\n",
       "      <th>Year</th>\n",
       "      <th>Agency_Count</th>\n",
       "      <th>Murder</th>\n",
       "      <th>Rape</th>\n",
       "      <th>Assault</th>\n",
       "      <th>Burglary</th>\n",
       "      <th>Larceny</th>\n",
       "      <th>Auto_Theft</th>\n",
       "      <th>Violent_Offenses</th>\n",
       "      <th>NonViolent_Offenses</th>\n",
       "      <th>Total_Crime</th>\n",
       "      <th>Population</th>\n",
       "    </tr>\n",
       "  </thead>\n",
       "  <tbody>\n",
       "    <tr>\n",
       "      <th>0</th>\n",
       "      <td>Harris County</td>\n",
       "      <td>2015</td>\n",
       "      <td>42</td>\n",
       "      <td>404</td>\n",
       "      <td>1681</td>\n",
       "      <td>16599</td>\n",
       "      <td>32350</td>\n",
       "      <td>108284</td>\n",
       "      <td>21777</td>\n",
       "      <td>18684</td>\n",
       "      <td>162411</td>\n",
       "      <td>195386</td>\n",
       "      <td>4564664</td>\n",
       "    </tr>\n",
       "    <tr>\n",
       "      <th>1</th>\n",
       "      <td>Harris County</td>\n",
       "      <td>2016</td>\n",
       "      <td>44</td>\n",
       "      <td>409</td>\n",
       "      <td>2011</td>\n",
       "      <td>18706</td>\n",
       "      <td>30221</td>\n",
       "      <td>112200</td>\n",
       "      <td>20484</td>\n",
       "      <td>21126</td>\n",
       "      <td>162905</td>\n",
       "      <td>197686</td>\n",
       "      <td>4646508</td>\n",
       "    </tr>\n",
       "    <tr>\n",
       "      <th>2</th>\n",
       "      <td>Harris County</td>\n",
       "      <td>2017</td>\n",
       "      <td>44</td>\n",
       "      <td>376</td>\n",
       "      <td>2186</td>\n",
       "      <td>20660</td>\n",
       "      <td>27348</td>\n",
       "      <td>108968</td>\n",
       "      <td>18496</td>\n",
       "      <td>23222</td>\n",
       "      <td>154812</td>\n",
       "      <td>191319</td>\n",
       "      <td>4702468</td>\n",
       "    </tr>\n",
       "    <tr>\n",
       "      <th>3</th>\n",
       "      <td>Harris County</td>\n",
       "      <td>2018</td>\n",
       "      <td>45</td>\n",
       "      <td>383</td>\n",
       "      <td>2294</td>\n",
       "      <td>21032</td>\n",
       "      <td>25594</td>\n",
       "      <td>105155</td>\n",
       "      <td>19563</td>\n",
       "      <td>23709</td>\n",
       "      <td>150312</td>\n",
       "      <td>185574</td>\n",
       "      <td>4753437</td>\n",
       "    </tr>\n",
       "    <tr>\n",
       "      <th>4</th>\n",
       "      <td>Harris County</td>\n",
       "      <td>2019</td>\n",
       "      <td>45</td>\n",
       "      <td>398</td>\n",
       "      <td>2618</td>\n",
       "      <td>20005</td>\n",
       "      <td>26073</td>\n",
       "      <td>113162</td>\n",
       "      <td>20849</td>\n",
       "      <td>23021</td>\n",
       "      <td>160084</td>\n",
       "      <td>195047</td>\n",
       "      <td>4776485</td>\n",
       "    </tr>\n",
       "  </tbody>\n",
       "</table>\n",
       "</div>"
      ],
      "text/plain": [
       "          County  Year  Agency_Count  Murder  Rape  Assault  Burglary  \\\n",
       "0  Harris County  2015            42     404  1681    16599     32350   \n",
       "1  Harris County  2016            44     409  2011    18706     30221   \n",
       "2  Harris County  2017            44     376  2186    20660     27348   \n",
       "3  Harris County  2018            45     383  2294    21032     25594   \n",
       "4  Harris County  2019            45     398  2618    20005     26073   \n",
       "\n",
       "   Larceny  Auto_Theft  Violent_Offenses  NonViolent_Offenses  Total_Crime  \\\n",
       "0   108284       21777             18684               162411       195386   \n",
       "1   112200       20484             21126               162905       197686   \n",
       "2   108968       18496             23222               154812       191319   \n",
       "3   105155       19563             23709               150312       185574   \n",
       "4   113162       20849             23021               160084       195047   \n",
       "\n",
       "   Population  \n",
       "0     4564664  \n",
       "1     4646508  \n",
       "2     4702468  \n",
       "3     4753437  \n",
       "4     4776485  "
      ]
     },
     "execution_count": 9,
     "metadata": {},
     "output_type": "execute_result"
    }
   ],
   "source": [
    "harris_df.head()"
   ]
  },
  {
   "cell_type": "code",
   "execution_count": 10,
   "id": "d9d5c960",
   "metadata": {},
   "outputs": [
    {
     "data": {
      "text/html": [
       "<div>\n",
       "<style scoped>\n",
       "    .dataframe tbody tr th:only-of-type {\n",
       "        vertical-align: middle;\n",
       "    }\n",
       "\n",
       "    .dataframe tbody tr th {\n",
       "        vertical-align: top;\n",
       "    }\n",
       "\n",
       "    .dataframe thead th {\n",
       "        text-align: right;\n",
       "    }\n",
       "</style>\n",
       "<table border=\"1\" class=\"dataframe\">\n",
       "  <thead>\n",
       "    <tr style=\"text-align: right;\">\n",
       "      <th></th>\n",
       "      <th>Unnamed: 0</th>\n",
       "      <th>County</th>\n",
       "      <th>Year</th>\n",
       "      <th>Agency_Count</th>\n",
       "      <th>Murder</th>\n",
       "      <th>Rape</th>\n",
       "      <th>Assault</th>\n",
       "      <th>Burglary</th>\n",
       "      <th>Larceny</th>\n",
       "      <th>Auto_Theft</th>\n",
       "      <th>Violent_Offenses</th>\n",
       "      <th>NonViolent_Offenses</th>\n",
       "      <th>Total_Crime</th>\n",
       "      <th>Population</th>\n",
       "    </tr>\n",
       "  </thead>\n",
       "  <tbody>\n",
       "    <tr>\n",
       "      <th>0</th>\n",
       "      <td>0</td>\n",
       "      <td>Austin County</td>\n",
       "      <td>2015</td>\n",
       "      <td>5</td>\n",
       "      <td>0</td>\n",
       "      <td>8</td>\n",
       "      <td>53</td>\n",
       "      <td>121</td>\n",
       "      <td>283</td>\n",
       "      <td>13</td>\n",
       "      <td>61</td>\n",
       "      <td>417</td>\n",
       "      <td>482</td>\n",
       "      <td>29354</td>\n",
       "    </tr>\n",
       "    <tr>\n",
       "      <th>1</th>\n",
       "      <td>1</td>\n",
       "      <td>Austin County</td>\n",
       "      <td>2016</td>\n",
       "      <td>5</td>\n",
       "      <td>0</td>\n",
       "      <td>6</td>\n",
       "      <td>43</td>\n",
       "      <td>136</td>\n",
       "      <td>239</td>\n",
       "      <td>31</td>\n",
       "      <td>49</td>\n",
       "      <td>406</td>\n",
       "      <td>466</td>\n",
       "      <td>29718</td>\n",
       "    </tr>\n",
       "    <tr>\n",
       "      <th>2</th>\n",
       "      <td>2</td>\n",
       "      <td>Austin County</td>\n",
       "      <td>2017</td>\n",
       "      <td>5</td>\n",
       "      <td>0</td>\n",
       "      <td>11</td>\n",
       "      <td>34</td>\n",
       "      <td>98</td>\n",
       "      <td>183</td>\n",
       "      <td>45</td>\n",
       "      <td>45</td>\n",
       "      <td>326</td>\n",
       "      <td>376</td>\n",
       "      <td>29963</td>\n",
       "    </tr>\n",
       "    <tr>\n",
       "      <th>3</th>\n",
       "      <td>3</td>\n",
       "      <td>Austin County</td>\n",
       "      <td>2018</td>\n",
       "      <td>5</td>\n",
       "      <td>0</td>\n",
       "      <td>11</td>\n",
       "      <td>32</td>\n",
       "      <td>82</td>\n",
       "      <td>138</td>\n",
       "      <td>29</td>\n",
       "      <td>43</td>\n",
       "      <td>249</td>\n",
       "      <td>295</td>\n",
       "      <td>29912</td>\n",
       "    </tr>\n",
       "    <tr>\n",
       "      <th>4</th>\n",
       "      <td>4</td>\n",
       "      <td>Austin County</td>\n",
       "      <td>2019</td>\n",
       "      <td>5</td>\n",
       "      <td>0</td>\n",
       "      <td>5</td>\n",
       "      <td>38</td>\n",
       "      <td>80</td>\n",
       "      <td>147</td>\n",
       "      <td>29</td>\n",
       "      <td>43</td>\n",
       "      <td>256</td>\n",
       "      <td>302</td>\n",
       "      <td>30009</td>\n",
       "    </tr>\n",
       "  </tbody>\n",
       "</table>\n",
       "</div>"
      ],
      "text/plain": [
       "   Unnamed: 0         County  Year  Agency_Count  Murder  Rape  Assault  \\\n",
       "0           0  Austin County  2015             5       0     8       53   \n",
       "1           1  Austin County  2016             5       0     6       43   \n",
       "2           2  Austin County  2017             5       0    11       34   \n",
       "3           3  Austin County  2018             5       0    11       32   \n",
       "4           4  Austin County  2019             5       0     5       38   \n",
       "\n",
       "   Burglary  Larceny  Auto_Theft  Violent_Offenses  NonViolent_Offenses  \\\n",
       "0       121      283          13                61                  417   \n",
       "1       136      239          31                49                  406   \n",
       "2        98      183          45                45                  326   \n",
       "3        82      138          29                43                  249   \n",
       "4        80      147          29                43                  256   \n",
       "\n",
       "   Total_Crime  Population  \n",
       "0          482       29354  \n",
       "1          466       29718  \n",
       "2          376       29963  \n",
       "3          295       29912  \n",
       "4          302       30009  "
      ]
     },
     "execution_count": 10,
     "metadata": {},
     "output_type": "execute_result"
    }
   ],
   "source": [
    "outter_hou_df.head()"
   ]
  },
  {
   "cell_type": "markdown",
   "id": "fdd0053c",
   "metadata": {},
   "source": [
    "### Unsupervised ML | PCA Visualization Houston Counties EXCLUDING Harris County"
   ]
  },
  {
   "cell_type": "code",
   "execution_count": 23,
   "id": "97cc5fef",
   "metadata": {},
   "outputs": [
    {
     "data": {
      "text/html": [
       "<div>\n",
       "<style scoped>\n",
       "    .dataframe tbody tr th:only-of-type {\n",
       "        vertical-align: middle;\n",
       "    }\n",
       "\n",
       "    .dataframe tbody tr th {\n",
       "        vertical-align: top;\n",
       "    }\n",
       "\n",
       "    .dataframe thead th {\n",
       "        text-align: right;\n",
       "    }\n",
       "</style>\n",
       "<table border=\"1\" class=\"dataframe\">\n",
       "  <thead>\n",
       "    <tr style=\"text-align: right;\">\n",
       "      <th></th>\n",
       "      <th>Year</th>\n",
       "      <th>Agency_Count</th>\n",
       "      <th>Murder</th>\n",
       "      <th>Rape</th>\n",
       "      <th>Assault</th>\n",
       "      <th>Burglary</th>\n",
       "      <th>Larceny</th>\n",
       "      <th>Auto_Theft</th>\n",
       "      <th>Violent_Offenses</th>\n",
       "      <th>NonViolent_Offenses</th>\n",
       "      <th>...</th>\n",
       "      <th>County_Grimes County</th>\n",
       "      <th>County_Liberty County</th>\n",
       "      <th>County_Matagorda County</th>\n",
       "      <th>County_Montgomery County</th>\n",
       "      <th>County_Polk County</th>\n",
       "      <th>County_San Jacinto County</th>\n",
       "      <th>County_Walker County</th>\n",
       "      <th>County_Waller County</th>\n",
       "      <th>County_Washington County</th>\n",
       "      <th>County_Wharton County</th>\n",
       "    </tr>\n",
       "  </thead>\n",
       "  <tbody>\n",
       "    <tr>\n",
       "      <th>0</th>\n",
       "      <td>2015</td>\n",
       "      <td>5</td>\n",
       "      <td>0</td>\n",
       "      <td>8</td>\n",
       "      <td>53</td>\n",
       "      <td>121</td>\n",
       "      <td>283</td>\n",
       "      <td>13</td>\n",
       "      <td>61</td>\n",
       "      <td>417</td>\n",
       "      <td>...</td>\n",
       "      <td>0</td>\n",
       "      <td>0</td>\n",
       "      <td>0</td>\n",
       "      <td>0</td>\n",
       "      <td>0</td>\n",
       "      <td>0</td>\n",
       "      <td>0</td>\n",
       "      <td>0</td>\n",
       "      <td>0</td>\n",
       "      <td>0</td>\n",
       "    </tr>\n",
       "    <tr>\n",
       "      <th>1</th>\n",
       "      <td>2016</td>\n",
       "      <td>5</td>\n",
       "      <td>0</td>\n",
       "      <td>6</td>\n",
       "      <td>43</td>\n",
       "      <td>136</td>\n",
       "      <td>239</td>\n",
       "      <td>31</td>\n",
       "      <td>49</td>\n",
       "      <td>406</td>\n",
       "      <td>...</td>\n",
       "      <td>0</td>\n",
       "      <td>0</td>\n",
       "      <td>0</td>\n",
       "      <td>0</td>\n",
       "      <td>0</td>\n",
       "      <td>0</td>\n",
       "      <td>0</td>\n",
       "      <td>0</td>\n",
       "      <td>0</td>\n",
       "      <td>0</td>\n",
       "    </tr>\n",
       "    <tr>\n",
       "      <th>2</th>\n",
       "      <td>2017</td>\n",
       "      <td>5</td>\n",
       "      <td>0</td>\n",
       "      <td>11</td>\n",
       "      <td>34</td>\n",
       "      <td>98</td>\n",
       "      <td>183</td>\n",
       "      <td>45</td>\n",
       "      <td>45</td>\n",
       "      <td>326</td>\n",
       "      <td>...</td>\n",
       "      <td>0</td>\n",
       "      <td>0</td>\n",
       "      <td>0</td>\n",
       "      <td>0</td>\n",
       "      <td>0</td>\n",
       "      <td>0</td>\n",
       "      <td>0</td>\n",
       "      <td>0</td>\n",
       "      <td>0</td>\n",
       "      <td>0</td>\n",
       "    </tr>\n",
       "    <tr>\n",
       "      <th>3</th>\n",
       "      <td>2018</td>\n",
       "      <td>5</td>\n",
       "      <td>0</td>\n",
       "      <td>11</td>\n",
       "      <td>32</td>\n",
       "      <td>82</td>\n",
       "      <td>138</td>\n",
       "      <td>29</td>\n",
       "      <td>43</td>\n",
       "      <td>249</td>\n",
       "      <td>...</td>\n",
       "      <td>0</td>\n",
       "      <td>0</td>\n",
       "      <td>0</td>\n",
       "      <td>0</td>\n",
       "      <td>0</td>\n",
       "      <td>0</td>\n",
       "      <td>0</td>\n",
       "      <td>0</td>\n",
       "      <td>0</td>\n",
       "      <td>0</td>\n",
       "    </tr>\n",
       "    <tr>\n",
       "      <th>4</th>\n",
       "      <td>2019</td>\n",
       "      <td>5</td>\n",
       "      <td>0</td>\n",
       "      <td>5</td>\n",
       "      <td>38</td>\n",
       "      <td>80</td>\n",
       "      <td>147</td>\n",
       "      <td>29</td>\n",
       "      <td>43</td>\n",
       "      <td>256</td>\n",
       "      <td>...</td>\n",
       "      <td>0</td>\n",
       "      <td>0</td>\n",
       "      <td>0</td>\n",
       "      <td>0</td>\n",
       "      <td>0</td>\n",
       "      <td>0</td>\n",
       "      <td>0</td>\n",
       "      <td>0</td>\n",
       "      <td>0</td>\n",
       "      <td>0</td>\n",
       "    </tr>\n",
       "  </tbody>\n",
       "</table>\n",
       "<p>5 rows × 28 columns</p>\n",
       "</div>"
      ],
      "text/plain": [
       "   Year  Agency_Count  Murder  Rape  Assault  Burglary  Larceny  Auto_Theft  \\\n",
       "0  2015             5       0     8       53       121      283          13   \n",
       "1  2016             5       0     6       43       136      239          31   \n",
       "2  2017             5       0    11       34        98      183          45   \n",
       "3  2018             5       0    11       32        82      138          29   \n",
       "4  2019             5       0     5       38        80      147          29   \n",
       "\n",
       "   Violent_Offenses  NonViolent_Offenses  ...  County_Grimes County  \\\n",
       "0                61                  417  ...                     0   \n",
       "1                49                  406  ...                     0   \n",
       "2                45                  326  ...                     0   \n",
       "3                43                  249  ...                     0   \n",
       "4                43                  256  ...                     0   \n",
       "\n",
       "   County_Liberty County  County_Matagorda County  County_Montgomery County  \\\n",
       "0                      0                        0                         0   \n",
       "1                      0                        0                         0   \n",
       "2                      0                        0                         0   \n",
       "3                      0                        0                         0   \n",
       "4                      0                        0                         0   \n",
       "\n",
       "   County_Polk County  County_San Jacinto County  County_Walker County  \\\n",
       "0                   0                          0                     0   \n",
       "1                   0                          0                     0   \n",
       "2                   0                          0                     0   \n",
       "3                   0                          0                     0   \n",
       "4                   0                          0                     0   \n",
       "\n",
       "   County_Waller County  County_Washington County  County_Wharton County  \n",
       "0                     0                         0                      0  \n",
       "1                     0                         0                      0  \n",
       "2                     0                         0                      0  \n",
       "3                     0                         0                      0  \n",
       "4                     0                         0                      0  \n",
       "\n",
       "[5 rows x 28 columns]"
      ]
     },
     "execution_count": 23,
     "metadata": {},
     "output_type": "execute_result"
    }
   ],
   "source": [
    "# Dropping string columns\n",
    "crime_numbers = outter_hou_df.drop(columns=\"County\")\n",
    "crime_numbers.head()"
   ]
  },
  {
   "cell_type": "code",
   "execution_count": 15,
   "id": "64fb49fe",
   "metadata": {},
   "outputs": [
    {
     "name": "stdout",
     "output_type": "stream",
     "text": [
      "[[-1.46385011 -0.24067887 -0.82236735 -0.85437534 -0.75209886 -0.7468491\n",
      "  -0.74216732 -0.82998741 -0.79382918 -0.75684686 -0.76260244 -0.6580673 ]\n",
      " [-0.87831007 -0.24067887 -0.82236735 -0.8817108  -0.7905039  -0.71744961\n",
      "  -0.76092668 -0.75703262 -0.82992656 -0.7604252  -0.76720195 -0.65637688]\n",
      " [-0.29277002 -0.24067887 -0.82236735 -0.81337216 -0.82506845 -0.79192831\n",
      "  -0.78480223 -0.70029    -0.84195903 -0.78644952 -0.7930742  -0.6552391 ]\n",
      " [ 0.29277002 -0.24067887 -0.82236735 -0.81337216 -0.83274946 -0.82328777\n",
      "  -0.80398794 -0.76513871 -0.84797526 -0.81149793 -0.81635922 -0.65547595]\n",
      " [ 0.87831007 -0.24067887 -0.82236735 -0.89537852 -0.80970643 -0.8272077\n",
      "  -0.8001508  -0.76513871 -0.84797526 -0.8092208  -0.81434694 -0.65502548]\n",
      " [ 1.46385011 -0.24067887 -0.37801126 -0.8817108  -0.82890895 -0.84288743\n",
      "  -0.80611969 -0.75703262 -0.85098337 -0.81572688 -0.82038379 -0.65450535]\n",
      " [-1.46385011  2.51814757 -0.22989256  0.59440377  0.39621208  1.26799587\n",
      "   1.0450884   0.5723658   0.43649011  1.05379519  0.98319928  0.8344426 ]\n",
      " [-0.87831007  2.69057422  0.36258223  0.53973286  0.56135378  0.96812108\n",
      "   1.03144523  0.75475278  0.56583908  1.00825263  0.97055063  0.86817657]\n",
      " [-0.29277002  2.69057422  0.65881962  0.58073605  0.72265499  0.87208275\n",
      "   0.8898973   0.61694929  0.70722052  0.87325147  0.84636384  0.91057158]\n",
      " [ 0.29277002  2.51814757 -0.22989256  0.82675514  0.4922247   0.58396776\n",
      "   0.94532269  0.69801017  0.56283097  0.87422738  0.83802723  0.94054856]\n",
      " [ 0.87831007  2.86300087  0.65881962  0.71741332  0.58055631  0.97988088\n",
      "   1.16617156  1.03035977  0.62600139  1.13512119  1.08208876  0.97928411]\n",
      " [ 1.46385011  2.69057422  1.10317571  0.64907468  0.79562458  0.4036509\n",
      "   0.97132999  1.16411022  0.78843964  0.90155292  0.88402233  1.00170531]]\n"
     ]
    }
   ],
   "source": [
    "# Standardize data with StandardScaler\n",
    "crime_scaled = StandardScaler().fit_transform(crime_numbers)\n",
    "print(crime_scaled[0:12])"
   ]
  },
  {
   "cell_type": "code",
   "execution_count": 16,
   "id": "afc64e25",
   "metadata": {},
   "outputs": [],
   "source": [
    "# Initialize PCA Model\n",
    "pca = PCA(n_components=2)"
   ]
  },
  {
   "cell_type": "code",
   "execution_count": 17,
   "id": "af8782e0",
   "metadata": {},
   "outputs": [],
   "source": [
    "# Get components from crime numbers\n",
    "crime_pca = pca.fit_transform(crime_scaled)"
   ]
  },
  {
   "cell_type": "code",
   "execution_count": 18,
   "id": "168a482a",
   "metadata": {},
   "outputs": [
    {
     "data": {
      "text/html": [
       "<div>\n",
       "<style scoped>\n",
       "    .dataframe tbody tr th:only-of-type {\n",
       "        vertical-align: middle;\n",
       "    }\n",
       "\n",
       "    .dataframe tbody tr th {\n",
       "        vertical-align: top;\n",
       "    }\n",
       "\n",
       "    .dataframe thead th {\n",
       "        text-align: right;\n",
       "    }\n",
       "</style>\n",
       "<table border=\"1\" class=\"dataframe\">\n",
       "  <thead>\n",
       "    <tr style=\"text-align: right;\">\n",
       "      <th></th>\n",
       "      <th>principal component 1</th>\n",
       "      <th>principal component 2</th>\n",
       "    </tr>\n",
       "  </thead>\n",
       "  <tbody>\n",
       "    <tr>\n",
       "      <th>0</th>\n",
       "      <td>-2.424471</td>\n",
       "      <td>-1.447818</td>\n",
       "    </tr>\n",
       "    <tr>\n",
       "      <th>1</th>\n",
       "      <td>-2.430416</td>\n",
       "      <td>-0.882138</td>\n",
       "    </tr>\n",
       "    <tr>\n",
       "      <th>2</th>\n",
       "      <td>-2.451359</td>\n",
       "      <td>-0.293079</td>\n",
       "    </tr>\n",
       "    <tr>\n",
       "      <th>3</th>\n",
       "      <td>-2.504528</td>\n",
       "      <td>0.277563</td>\n",
       "    </tr>\n",
       "    <tr>\n",
       "      <th>4</th>\n",
       "      <td>-2.518763</td>\n",
       "      <td>0.841404</td>\n",
       "    </tr>\n",
       "  </tbody>\n",
       "</table>\n",
       "</div>"
      ],
      "text/plain": [
       "   principal component 1  principal component 2\n",
       "0              -2.424471              -1.447818\n",
       "1              -2.430416              -0.882138\n",
       "2              -2.451359              -0.293079\n",
       "3              -2.504528               0.277563\n",
       "4              -2.518763               0.841404"
      ]
     },
     "execution_count": 18,
     "metadata": {},
     "output_type": "execute_result"
    }
   ],
   "source": [
    "# Transform pca to dataframe\n",
    "df_crime_pca = pd.DataFrame(\n",
    "    data=crime_pca, columns=[\"principal component 1\", \"principal component 2\"]\n",
    ")\n",
    "\n",
    "df_crime_pca.head()"
   ]
  },
  {
   "cell_type": "code",
   "execution_count": 19,
   "id": "24d135cc",
   "metadata": {},
   "outputs": [
    {
     "data": {
      "text/plain": [
       "array([0.82218786, 0.08800494])"
      ]
     },
     "execution_count": 19,
     "metadata": {},
     "output_type": "execute_result"
    }
   ],
   "source": [
    "# Explaned variance\n",
    "pca.explained_variance_ratio_"
   ]
  },
  {
   "cell_type": "code",
   "execution_count": 20,
   "id": "29f0200f",
   "metadata": {},
   "outputs": [
    {
     "name": "stderr",
     "output_type": "stream",
     "text": [
      "C:\\Users\\lizly\\anaconda3\\envs\\PythonData\\lib\\site-packages\\sklearn\\cluster\\_kmeans.py:1037: UserWarning:\n",
      "\n",
      "KMeans is known to have a memory leak on Windows with MKL, when there are less chunks than available threads. You can avoid it by setting the environment variable OMP_NUM_THREADS=1.\n",
      "\n"
     ]
    },
    {
     "data": {},
     "metadata": {},
     "output_type": "display_data"
    },
    {
     "data": {
      "application/vnd.holoviews_exec.v0+json": "",
      "text/html": [
       "<div id='1002'>\n",
       "\n",
       "\n",
       "\n",
       "\n",
       "\n",
       "  <div class=\"bk-root\" id=\"9688c1dc-fd8f-48dd-9cbb-52639782afbe\" data-root-id=\"1002\"></div>\n",
       "</div>\n",
       "<script type=\"application/javascript\">(function(root) {\n",
       "  function embed_document(root) {\n",
       "    var docs_json = {\"35e0f29d-0a78-491d-bc71-b0cd2767a483\":{\"defs\":[{\"extends\":null,\"module\":null,\"name\":\"ReactiveHTML1\",\"overrides\":[],\"properties\":[]},{\"extends\":null,\"module\":null,\"name\":\"FlexBox1\",\"overrides\":[],\"properties\":[{\"default\":\"flex-start\",\"kind\":null,\"name\":\"align_content\"},{\"default\":\"flex-start\",\"kind\":null,\"name\":\"align_items\"},{\"default\":\"row\",\"kind\":null,\"name\":\"flex_direction\"},{\"default\":\"wrap\",\"kind\":null,\"name\":\"flex_wrap\"},{\"default\":\"flex-start\",\"kind\":null,\"name\":\"justify_content\"}]},{\"extends\":null,\"module\":null,\"name\":\"GridStack1\",\"overrides\":[],\"properties\":[{\"default\":\"warn\",\"kind\":null,\"name\":\"mode\"},{\"default\":null,\"kind\":null,\"name\":\"ncols\"},{\"default\":null,\"kind\":null,\"name\":\"nrows\"},{\"default\":true,\"kind\":null,\"name\":\"allow_resize\"},{\"default\":true,\"kind\":null,\"name\":\"allow_drag\"},{\"default\":[],\"kind\":null,\"name\":\"state\"}]},{\"extends\":null,\"module\":null,\"name\":\"click1\",\"overrides\":[],\"properties\":[{\"default\":\"\",\"kind\":null,\"name\":\"terminal_output\"},{\"default\":\"\",\"kind\":null,\"name\":\"debug_name\"},{\"default\":0,\"kind\":null,\"name\":\"clears\"}]},{\"extends\":null,\"module\":null,\"name\":\"TemplateActions1\",\"overrides\":[],\"properties\":[{\"default\":0,\"kind\":null,\"name\":\"open_modal\"},{\"default\":0,\"kind\":null,\"name\":\"close_modal\"}]},{\"extends\":null,\"module\":null,\"name\":\"MaterialTemplateActions1\",\"overrides\":[],\"properties\":[{\"default\":0,\"kind\":null,\"name\":\"open_modal\"},{\"default\":0,\"kind\":null,\"name\":\"close_modal\"}]}],\"roots\":{\"references\":[{\"attributes\":{\"overlay\":{\"id\":\"1029\"}},\"id\":\"1027\",\"type\":\"BoxZoomTool\"},{\"attributes\":{\"coordinates\":null,\"group\":null,\"text\":\"Elbow Curve\",\"text_color\":\"black\",\"text_font_size\":\"12pt\"},\"id\":\"1008\",\"type\":\"Title\"},{\"attributes\":{},\"id\":\"1049\",\"type\":\"AllLabels\"},{\"attributes\":{},\"id\":\"1012\",\"type\":\"LinearScale\"},{\"attributes\":{\"line_alpha\":0.2,\"line_color\":\"#30a2da\",\"line_width\":2,\"x\":{\"field\":\"k\"},\"y\":{\"field\":\"inertia\"}},\"id\":\"1042\",\"type\":\"Line\"},{\"attributes\":{},\"id\":\"1021\",\"type\":\"BasicTicker\"},{\"attributes\":{\"axis\":{\"id\":\"1016\"},\"coordinates\":null,\"grid_line_color\":null,\"group\":null,\"ticker\":null},\"id\":\"1019\",\"type\":\"Grid\"},{\"attributes\":{\"source\":{\"id\":\"1037\"}},\"id\":\"1044\",\"type\":\"CDSView\"},{\"attributes\":{},\"id\":\"1014\",\"type\":\"LinearScale\"},{\"attributes\":{\"axis_label\":\"inertia\",\"coordinates\":null,\"formatter\":{\"id\":\"1053\"},\"group\":null,\"major_label_policy\":{\"id\":\"1054\"},\"ticker\":{\"id\":\"1021\"}},\"id\":\"1020\",\"type\":\"LinearAxis\"},{\"attributes\":{\"axis_label\":\"k\",\"coordinates\":null,\"formatter\":{\"id\":\"1048\"},\"group\":null,\"major_label_policy\":{\"id\":\"1049\"},\"ticker\":{\"id\":\"1046\"}},\"id\":\"1016\",\"type\":\"LinearAxis\"},{\"attributes\":{\"data\":{\"inertia\":{\"__ndarray__\":\"B1DnHytikEDE9A20DZNpQPRgFJPLGmBAfuJQcCX2U0BTp3SdUCVPQC+x3uMHQUpAaf9UC0o9RUA70XykzWlDQKbMgVIehUFAgqCT76QCQEA=\",\"dtype\":\"float64\",\"order\":\"little\",\"shape\":[10]},\"k\":[1,2,3,4,5,6,7,8,9,10]},\"selected\":{\"id\":\"1038\"},\"selection_policy\":{\"id\":\"1061\"}},\"id\":\"1037\",\"type\":\"ColumnDataSource\"},{\"attributes\":{\"line_color\":\"#30a2da\",\"line_width\":2,\"x\":{\"field\":\"k\"},\"y\":{\"field\":\"inertia\"}},\"id\":\"1045\",\"type\":\"Line\"},{\"attributes\":{},\"id\":\"1054\",\"type\":\"AllLabels\"},{\"attributes\":{\"end\":1150.194259434678,\"reset_end\":1150.194259434678,\"reset_start\":-69.63148710215961,\"start\":-69.63148710215961,\"tags\":[[[\"inertia\",\"inertia\",null]]]},\"id\":\"1005\",\"type\":\"Range1d\"},{\"attributes\":{\"axis\":{\"id\":\"1020\"},\"coordinates\":null,\"dimension\":1,\"grid_line_color\":null,\"group\":null,\"ticker\":null},\"id\":\"1023\",\"type\":\"Grid\"},{\"attributes\":{\"tools\":[{\"id\":\"1006\"},{\"id\":\"1024\"},{\"id\":\"1025\"},{\"id\":\"1026\"},{\"id\":\"1027\"},{\"id\":\"1028\"}]},\"id\":\"1030\",\"type\":\"Toolbar\"},{\"attributes\":{\"ticks\":[1,2,3,4,5,6,7,8,9,10]},\"id\":\"1046\",\"type\":\"FixedTicker\"},{\"attributes\":{},\"id\":\"1038\",\"type\":\"Selection\"},{\"attributes\":{\"children\":[{\"id\":\"1003\"},{\"id\":\"1007\"},{\"id\":\"1073\"}],\"margin\":[0,0,0,0],\"name\":\"Row01627\",\"tags\":[\"embedded\"]},\"id\":\"1002\",\"type\":\"Row\"},{\"attributes\":{\"coordinates\":null,\"data_source\":{\"id\":\"1037\"},\"glyph\":{\"id\":\"1040\"},\"group\":null,\"hover_glyph\":null,\"muted_glyph\":{\"id\":\"1042\"},\"nonselection_glyph\":{\"id\":\"1041\"},\"selection_glyph\":{\"id\":\"1045\"},\"view\":{\"id\":\"1044\"}},\"id\":\"1043\",\"type\":\"GlyphRenderer\"},{\"attributes\":{\"line_color\":\"#30a2da\",\"line_width\":2,\"x\":{\"field\":\"k\"},\"y\":{\"field\":\"inertia\"}},\"id\":\"1040\",\"type\":\"Line\"},{\"attributes\":{\"end\":10.0,\"reset_end\":10.0,\"reset_start\":1.0,\"start\":1.0,\"tags\":[[[\"k\",\"k\",null]]]},\"id\":\"1004\",\"type\":\"Range1d\"},{\"attributes\":{\"margin\":[5,5,5,5],\"name\":\"HSpacer01631\",\"sizing_mode\":\"stretch_width\"},\"id\":\"1003\",\"type\":\"Spacer\"},{\"attributes\":{},\"id\":\"1053\",\"type\":\"BasicTickFormatter\"},{\"attributes\":{},\"id\":\"1048\",\"type\":\"BasicTickFormatter\"},{\"attributes\":{\"below\":[{\"id\":\"1016\"}],\"center\":[{\"id\":\"1019\"},{\"id\":\"1023\"}],\"height\":300,\"left\":[{\"id\":\"1020\"}],\"margin\":[5,5,5,5],\"min_border_bottom\":10,\"min_border_left\":10,\"min_border_right\":10,\"min_border_top\":10,\"renderers\":[{\"id\":\"1043\"}],\"sizing_mode\":\"fixed\",\"title\":{\"id\":\"1008\"},\"toolbar\":{\"id\":\"1030\"},\"width\":700,\"x_range\":{\"id\":\"1004\"},\"x_scale\":{\"id\":\"1012\"},\"y_range\":{\"id\":\"1005\"},\"y_scale\":{\"id\":\"1014\"}},\"id\":\"1007\",\"subtype\":\"Figure\",\"type\":\"Plot\"},{\"attributes\":{\"bottom_units\":\"screen\",\"coordinates\":null,\"fill_alpha\":0.5,\"fill_color\":\"lightgrey\",\"group\":null,\"left_units\":\"screen\",\"level\":\"overlay\",\"line_alpha\":1.0,\"line_color\":\"black\",\"line_dash\":[4,4],\"line_width\":2,\"right_units\":\"screen\",\"syncable\":false,\"top_units\":\"screen\"},\"id\":\"1029\",\"type\":\"BoxAnnotation\"},{\"attributes\":{\"margin\":[5,5,5,5],\"name\":\"HSpacer01632\",\"sizing_mode\":\"stretch_width\"},\"id\":\"1073\",\"type\":\"Spacer\"},{\"attributes\":{},\"id\":\"1024\",\"type\":\"SaveTool\"},{\"attributes\":{\"line_alpha\":0.1,\"line_color\":\"#30a2da\",\"line_width\":2,\"x\":{\"field\":\"k\"},\"y\":{\"field\":\"inertia\"}},\"id\":\"1041\",\"type\":\"Line\"},{\"attributes\":{\"callback\":null,\"renderers\":[{\"id\":\"1043\"}],\"tags\":[\"hv_created\"],\"tooltips\":[[\"k\",\"@{k}\"],[\"inertia\",\"@{inertia}\"]]},\"id\":\"1006\",\"type\":\"HoverTool\"},{\"attributes\":{},\"id\":\"1025\",\"type\":\"PanTool\"},{\"attributes\":{},\"id\":\"1061\",\"type\":\"UnionRenderers\"},{\"attributes\":{},\"id\":\"1028\",\"type\":\"ResetTool\"},{\"attributes\":{},\"id\":\"1026\",\"type\":\"WheelZoomTool\"}],\"root_ids\":[\"1002\"]},\"title\":\"Bokeh Application\",\"version\":\"2.4.2\"}};\n",
       "    var render_items = [{\"docid\":\"35e0f29d-0a78-491d-bc71-b0cd2767a483\",\"root_ids\":[\"1002\"],\"roots\":{\"1002\":\"9688c1dc-fd8f-48dd-9cbb-52639782afbe\"}}];\n",
       "    root.Bokeh.embed.embed_items_notebook(docs_json, render_items);\n",
       "  }\n",
       "  if (root.Bokeh !== undefined && root.Bokeh.Panel !== undefined) {\n",
       "    embed_document(root);\n",
       "  } else {\n",
       "    var attempts = 0;\n",
       "    var timer = setInterval(function(root) {\n",
       "      if (root.Bokeh !== undefined && root.Bokeh.Panel !== undefined) {\n",
       "        clearInterval(timer);\n",
       "        embed_document(root);\n",
       "      } else if (document.readyState == \"complete\") {\n",
       "        attempts++;\n",
       "        if (attempts > 200) {\n",
       "          clearInterval(timer);\n",
       "          console.log(\"Bokeh: ERROR: Unable to run BokehJS code because BokehJS library is missing\");\n",
       "        }\n",
       "      }\n",
       "    }, 25, root)\n",
       "  }\n",
       "})(window);</script>"
      ],
      "text/plain": [
       ":Curve   [k]   (inertia)"
      ]
     },
     "execution_count": 20,
     "metadata": {
      "application/vnd.holoviews_exec.v0+json": {
       "id": "1002"
      }
     },
     "output_type": "execute_result"
    }
   ],
   "source": [
    "# Find the best value for K\n",
    "inertia = []\n",
    "k = list(range(1, 11))\n",
    "\n",
    "# Calculate the inertia for the range of K values\n",
    "for i in k:\n",
    "    km = KMeans(n_clusters=i, random_state=0)\n",
    "    km.fit(df_crime_pca)\n",
    "    inertia.append(km.inertia_)\n",
    "\n",
    "# Create the elbow curve\n",
    "elbow_data = {\"k\": k, \"inertia\": inertia}\n",
    "df_elbow = pd.DataFrame(elbow_data)\n",
    "df_elbow.hvplot.line(x=\"k\", y=\"inertia\", xticks=k, title=\"Elbow Curve\")"
   ]
  },
  {
   "cell_type": "code",
   "execution_count": 27,
   "id": "62824d18",
   "metadata": {},
   "outputs": [
    {
     "ename": "NameError",
     "evalue": "name 'df_crime_pca_class' is not defined",
     "output_type": "error",
     "traceback": [
      "\u001b[1;31m---------------------------------------------------------------------------\u001b[0m",
      "\u001b[1;31mNameError\u001b[0m                                 Traceback (most recent call last)",
      "\u001b[1;32m~\\AppData\\Local\\Temp\\ipykernel_1244\\947395330.py\u001b[0m in \u001b[0;36m<module>\u001b[1;34m\u001b[0m\n\u001b[0;32m      9\u001b[0m \u001b[1;33m\u001b[0m\u001b[0m\n\u001b[0;32m     10\u001b[0m \u001b[1;31m# Add the predicted class columns\u001b[0m\u001b[1;33m\u001b[0m\u001b[1;33m\u001b[0m\u001b[1;33m\u001b[0m\u001b[0m\n\u001b[1;32m---> 11\u001b[1;33m \u001b[0mdf_crime_pca_class\u001b[0m\u001b[1;33m[\u001b[0m\u001b[1;34m\"class\"\u001b[0m\u001b[1;33m]\u001b[0m \u001b[1;33m=\u001b[0m \u001b[0mmodel\u001b[0m\u001b[1;33m.\u001b[0m\u001b[0mlabels_\u001b[0m\u001b[1;33m\u001b[0m\u001b[1;33m\u001b[0m\u001b[0m\n\u001b[0m\u001b[0;32m     12\u001b[0m \u001b[0mdf_crime_pca\u001b[0m\u001b[1;33m.\u001b[0m\u001b[0mhead\u001b[0m\u001b[1;33m(\u001b[0m\u001b[1;33m)\u001b[0m\u001b[1;33m\u001b[0m\u001b[1;33m\u001b[0m\u001b[0m\n",
      "\u001b[1;31mNameError\u001b[0m: name 'df_crime_pca_class' is not defined"
     ]
    }
   ],
   "source": [
    "# Initialize the K-means model\n",
    "model = KMeans(n_clusters=3, random_state=0)\n",
    "\n",
    "# Fit the model\n",
    "model.fit(df_crime_pca)\n",
    "\n",
    "# Predict clusters\n",
    "predictions = model.predict(df_crime_pca)\n",
    "\n",
    "# Add the predicted class columns\n",
    "df_crime_pca[\"class\"] = model.labels_\n",
    "df_crime_pca.head()"
   ]
  },
  {
   "cell_type": "code",
   "execution_count": 22,
   "id": "2ccc0314",
   "metadata": {},
   "outputs": [
    {
     "data": {},
     "metadata": {},
     "output_type": "display_data"
    },
    {
     "data": {
      "application/vnd.holoviews_exec.v0+json": "",
      "text/html": [
       "<div id='1120'>\n",
       "\n",
       "\n",
       "\n",
       "\n",
       "\n",
       "  <div class=\"bk-root\" id=\"c491cbc4-e2dc-4287-bef9-55907217e7f8\" data-root-id=\"1120\"></div>\n",
       "</div>\n",
       "<script type=\"application/javascript\">(function(root) {\n",
       "  function embed_document(root) {\n",
       "    var docs_json = {\"44c66580-2e27-4815-b015-d4902f6edfef\":{\"defs\":[{\"extends\":null,\"module\":null,\"name\":\"ReactiveHTML1\",\"overrides\":[],\"properties\":[]},{\"extends\":null,\"module\":null,\"name\":\"FlexBox1\",\"overrides\":[],\"properties\":[{\"default\":\"flex-start\",\"kind\":null,\"name\":\"align_content\"},{\"default\":\"flex-start\",\"kind\":null,\"name\":\"align_items\"},{\"default\":\"row\",\"kind\":null,\"name\":\"flex_direction\"},{\"default\":\"wrap\",\"kind\":null,\"name\":\"flex_wrap\"},{\"default\":\"flex-start\",\"kind\":null,\"name\":\"justify_content\"}]},{\"extends\":null,\"module\":null,\"name\":\"GridStack1\",\"overrides\":[],\"properties\":[{\"default\":\"warn\",\"kind\":null,\"name\":\"mode\"},{\"default\":null,\"kind\":null,\"name\":\"ncols\"},{\"default\":null,\"kind\":null,\"name\":\"nrows\"},{\"default\":true,\"kind\":null,\"name\":\"allow_resize\"},{\"default\":true,\"kind\":null,\"name\":\"allow_drag\"},{\"default\":[],\"kind\":null,\"name\":\"state\"}]},{\"extends\":null,\"module\":null,\"name\":\"click1\",\"overrides\":[],\"properties\":[{\"default\":\"\",\"kind\":null,\"name\":\"terminal_output\"},{\"default\":\"\",\"kind\":null,\"name\":\"debug_name\"},{\"default\":0,\"kind\":null,\"name\":\"clears\"}]},{\"extends\":null,\"module\":null,\"name\":\"TemplateActions1\",\"overrides\":[],\"properties\":[{\"default\":0,\"kind\":null,\"name\":\"open_modal\"},{\"default\":0,\"kind\":null,\"name\":\"close_modal\"}]},{\"extends\":null,\"module\":null,\"name\":\"MaterialTemplateActions1\",\"overrides\":[],\"properties\":[{\"default\":0,\"kind\":null,\"name\":\"open_modal\"},{\"default\":0,\"kind\":null,\"name\":\"close_modal\"}]}],\"roots\":{\"references\":[{\"attributes\":{\"axis_label\":\"principal component 1\",\"coordinates\":null,\"formatter\":{\"id\":\"1158\"},\"group\":null,\"major_label_policy\":{\"id\":\"1159\"},\"ticker\":{\"id\":\"1137\"}},\"id\":\"1136\",\"type\":\"LinearAxis\"},{\"attributes\":{\"angle\":{\"value\":0.0},\"fill_alpha\":{\"value\":1.0},\"fill_color\":{\"value\":\"#30a2da\"},\"hatch_alpha\":{\"value\":1.0},\"hatch_color\":{\"value\":\"#30a2da\"},\"hatch_scale\":{\"value\":12.0},\"hatch_weight\":{\"value\":1.0},\"line_alpha\":{\"value\":1.0},\"line_cap\":{\"value\":\"butt\"},\"line_color\":{\"value\":\"#30a2da\"},\"line_dash\":{\"value\":[]},\"line_dash_offset\":{\"value\":0},\"line_join\":{\"value\":\"bevel\"},\"line_width\":{\"value\":1},\"marker\":{\"value\":\"circle\"},\"size\":{\"value\":5.477225575051661},\"x\":{\"field\":\"principal component 1\"},\"y\":{\"field\":\"principal component 2\"}},\"id\":\"1183\",\"type\":\"Scatter\"},{\"attributes\":{\"data\":{\"class\":{\"__ndarray__\":\"AgAAAAIAAAACAAAAAgAAAAIAAAACAAAAAgAAAAIAAAACAAAAAgAAAAIAAAACAAAA\",\"dtype\":\"int32\",\"order\":\"little\",\"shape\":[12]},\"principal component 1\":{\"__ndarray__\":\"0HsLHEBRBkDpZMFmWDUIQGWEGANZPwhA3iKaVdFIBUCvd0bWKM0LQO/2CSoFnQpA6N7NprHfAEBUY4+0raT/P8vouHEFUvg/rTiKJAE5+z+J8eiaybP7P7UWO+LmqABA\",\"dtype\":\"float64\",\"order\":\"little\",\"shape\":[12]},\"principal component 2\":{\"__ndarray__\":\"ISDIkw+v+7/d0XA22z7wv8BpvOwgide/jTlmefvUwD+ZkITJsnvnP2IHQCTQF/g/BVk/amX6+L+5YZuFRKfwv7/RTrFll9i/4PZMWDknxT8RtB9TZlbpPymWOZ7qhfg/\",\"dtype\":\"float64\",\"order\":\"little\",\"shape\":[12]},\"principal_component_1\":{\"__ndarray__\":\"0HsLHEBRBkDpZMFmWDUIQGWEGANZPwhA3iKaVdFIBUCvd0bWKM0LQO/2CSoFnQpA6N7NprHfAEBUY4+0raT/P8vouHEFUvg/rTiKJAE5+z+J8eiaybP7P7UWO+LmqABA\",\"dtype\":\"float64\",\"order\":\"little\",\"shape\":[12]},\"principal_component_2\":{\"__ndarray__\":\"ISDIkw+v+7/d0XA22z7wv8BpvOwgide/jTlmefvUwD+ZkITJsnvnP2IHQCTQF/g/BVk/amX6+L+5YZuFRKfwv7/RTrFll9i/4PZMWDknxT8RtB9TZlbpPymWOZ7qhfg/\",\"dtype\":\"float64\",\"order\":\"little\",\"shape\":[12]}},\"selected\":{\"id\":\"1207\"},\"selection_policy\":{\"id\":\"1225\"}},\"id\":\"1206\",\"type\":\"ColumnDataSource\"},{\"attributes\":{},\"id\":\"1144\",\"type\":\"SaveTool\"},{\"attributes\":{\"label\":{\"value\":\"0\"},\"renderers\":[{\"id\":\"1169\"}]},\"id\":\"1182\",\"type\":\"LegendItem\"},{\"attributes\":{\"axis_label\":\"principal component 2\",\"coordinates\":null,\"formatter\":{\"id\":\"1161\"},\"group\":null,\"major_label_policy\":{\"id\":\"1162\"},\"ticker\":{\"id\":\"1141\"}},\"id\":\"1140\",\"type\":\"LinearAxis\"},{\"attributes\":{},\"id\":\"1207\",\"type\":\"Selection\"},{\"attributes\":{\"children\":[{\"id\":\"1121\"},{\"id\":\"1127\"},{\"id\":\"1356\"}],\"margin\":[0,0,0,0],\"name\":\"Row01858\",\"tags\":[\"embedded\"]},\"id\":\"1120\",\"type\":\"Row\"},{\"attributes\":{},\"id\":\"1146\",\"type\":\"WheelZoomTool\"},{\"attributes\":{\"label\":{\"value\":\"1\"},\"renderers\":[{\"id\":\"1190\"}]},\"id\":\"1204\",\"type\":\"LegendItem\"},{\"attributes\":{\"end\":7.420916526866649,\"reset_end\":7.420916526866649,\"reset_start\":-3.03509482472655,\"start\":-3.03509482472655,\"tags\":[[[\"principal component 1\",\"principal component 1\",null]]]},\"id\":\"1122\",\"type\":\"Range1d\"},{\"attributes\":{\"data\":{\"class\":{\"__ndarray__\":\"AAAAAAAAAAAAAAAAAAAAAAAAAAAAAAAAAAAAAAAAAAAAAAAAAAAAAAAAAAAAAAAAAAAAAAAAAAAAAAAAAAAAAAAAAAAAAAAAAAAAAAAAAAAAAAAAAAAAAAAAAAAAAAAAAAAAAAAAAAAAAAAAAAAAAAAAAAAAAAAAAAAAAAAAAAAAAAAAAAAAAAAAAAAAAAAAAAAAAAAAAAAAAAAAAAAAAAAAAAAAAAAAAAAAAAAAAAAAAAAAAAAAAAAAAAAAAAAAAAAAAAAAAAAAAAAAAAAAAAAAAAAAAAAAAAAAAAAAAAAAAAAAAAAAAAAAAAAAAAAAAAAAAAAAAAAAAAAAAAAAAAAAAAAAAAAA\",\"dtype\":\"int32\",\"order\":\"little\",\"shape\":[66]},\"principal component 1\":{\"__ndarray__\":\"s6r1/VBlA8COxQ/zfXEDwLXgXl5inAPAT/zMA0YJBMBGEl0nbSYEwMJ4s78lOgPA3KRDHiIDAMAQDBGsg4P/vw8ZGHQhJALA7rPunU20AcAUTL4RMUYBwIAjICToc/+/+3Javv2oA8Beo9Wzak8CwKmeZ+yvUQPAOOBJlpb6BMBJ0I6x7MQEwJIQl6az4APASkJBmpYp5r+XdXbY3ansv8hhK+Zy6wHABSZhv3dk8r+kFhLKOanxv3+V7e0jsNy/AK1t5/MEAMBq0tri5039v/8qVXRedv2/CRbVDwZk+7/XpxeNvy/8vzmYHRz0ave/Qn4umXqY/r/w0a0RIob+v0F2843zM/y/bOLM+GoLAMA+CYbr3VX5v7zQEDOBTvy/RD3NA5JKA8CGASv1VWoEwOCc6vTDhwPA9B/vLI+vBMD0ak5apZ4EwNVHrYLVkwLAVXu9ize297+j4wGrTtD5v4LmnSlievm/iLbw12Vo/b/CQcoXpWb8v7762/IdL/2/neogCwpi+7/mQeI1X7X9v1U3YwsEhv2/u43tTByM+7+73sXDIqz8vxz5RdHsavy/VyafV/FyA8CQpj3mejEDwLB0MQxT1QHAvE9aTYc+A8BapGhbDzQCwCZztfleQAPAjOPiSIQG/7/UVDvDKwP+vyWKsSVFCf+/sNOC9YhJAMCOqxgDwkUAwEC8Wbeot/+/\",\"dtype\":\"float64\",\"order\":\"little\",\"shape\":[66]},\"principal component 2\":{\"__ndarray__\":\"oH4eikMq979YNiB3eDrsv7CB5KPPwdK/fFhM0JfD0T/oQXpkx+zqP3c5Uchgifc/mliK+Dj69b9VaFiTYvLpvy4daCUfUNS//QHIbOQ41D/M6qAT4kfrP/VU+f3X+Pc/Dy7+UrYX97/96r3zcvfovxOFDZkz2Mm/M5IxIfB60T959AHeWrrqP6bwHqgvwvY/STEdmGWY9b8UNnHGBELqv6FRj4tEbdK/2SHDppIF0z96WEDR+unqP8gi2K1skvs/WR0WUFVK+L/5uCjFi13tv+Y0E/GigNO/f6W6p3eC0z8KE7le9mPpP2MfxpfLJPk/WTZqB8Sc9r/icyclZhbsv6KfCREsAMy/RT9F0T5a0D+gg2RlBsztP45rrVQoHPg/F3yiIjvp9r+7XTxfnB3rv8AWhNa7TdO/JP+71XU00T/bIhL4yzTrP5n/IckNi/U/dMN6Nsg99r9K0UA4pL7qv+lEqm79Cci/fPWn/4k60z91X4ELUIvrP5cC8nuZMPc/ATgM/1Oi9b8fFjYURbnrv9WY2p1ePNG/amn1HKoT0z+IXq6xs//sP5mphsVpgvc/HcX8FMsY97+do7F0KYHrv7436y8wVM+/ArMg4+ai0j9QtPSbZ3XrP2SSUZzLLfc/7oL7+cVe97+gHQTeSCPsvxbxKURGW9K/QyHZ6a0f1D+i2Zm+RNXqP5yH8Buu8PY/\",\"dtype\":\"float64\",\"order\":\"little\",\"shape\":[66]},\"principal_component_1\":{\"__ndarray__\":\"s6r1/VBlA8COxQ/zfXEDwLXgXl5inAPAT/zMA0YJBMBGEl0nbSYEwMJ4s78lOgPA3KRDHiIDAMAQDBGsg4P/vw8ZGHQhJALA7rPunU20AcAUTL4RMUYBwIAjICToc/+/+3Javv2oA8Beo9Wzak8CwKmeZ+yvUQPAOOBJlpb6BMBJ0I6x7MQEwJIQl6az4APASkJBmpYp5r+XdXbY3ansv8hhK+Zy6wHABSZhv3dk8r+kFhLKOanxv3+V7e0jsNy/AK1t5/MEAMBq0tri5039v/8qVXRedv2/CRbVDwZk+7/XpxeNvy/8vzmYHRz0ave/Qn4umXqY/r/w0a0RIob+v0F2843zM/y/bOLM+GoLAMA+CYbr3VX5v7zQEDOBTvy/RD3NA5JKA8CGASv1VWoEwOCc6vTDhwPA9B/vLI+vBMD0ak5apZ4EwNVHrYLVkwLAVXu9ize297+j4wGrTtD5v4LmnSlievm/iLbw12Vo/b/CQcoXpWb8v7762/IdL/2/neogCwpi+7/mQeI1X7X9v1U3YwsEhv2/u43tTByM+7+73sXDIqz8vxz5RdHsavy/VyafV/FyA8CQpj3mejEDwLB0MQxT1QHAvE9aTYc+A8BapGhbDzQCwCZztfleQAPAjOPiSIQG/7/UVDvDKwP+vyWKsSVFCf+/sNOC9YhJAMCOqxgDwkUAwEC8Wbeot/+/\",\"dtype\":\"float64\",\"order\":\"little\",\"shape\":[66]},\"principal_component_2\":{\"__ndarray__\":\"oH4eikMq979YNiB3eDrsv7CB5KPPwdK/fFhM0JfD0T/oQXpkx+zqP3c5Uchgifc/mliK+Dj69b9VaFiTYvLpvy4daCUfUNS//QHIbOQ41D/M6qAT4kfrP/VU+f3X+Pc/Dy7+UrYX97/96r3zcvfovxOFDZkz2Mm/M5IxIfB60T959AHeWrrqP6bwHqgvwvY/STEdmGWY9b8UNnHGBELqv6FRj4tEbdK/2SHDppIF0z96WEDR+unqP8gi2K1skvs/WR0WUFVK+L/5uCjFi13tv+Y0E/GigNO/f6W6p3eC0z8KE7le9mPpP2MfxpfLJPk/WTZqB8Sc9r/icyclZhbsv6KfCREsAMy/RT9F0T5a0D+gg2RlBsztP45rrVQoHPg/F3yiIjvp9r+7XTxfnB3rv8AWhNa7TdO/JP+71XU00T/bIhL4yzTrP5n/IckNi/U/dMN6Nsg99r9K0UA4pL7qv+lEqm79Cci/fPWn/4k60z91X4ELUIvrP5cC8nuZMPc/ATgM/1Oi9b8fFjYURbnrv9WY2p1ePNG/amn1HKoT0z+IXq6xs//sP5mphsVpgvc/HcX8FMsY97+do7F0KYHrv7436y8wVM+/ArMg4+ai0j9QtPSbZ3XrP2SSUZzLLfc/7oL7+cVe97+gHQTeSCPsvxbxKURGW9K/QyHZ6a0f1D+i2Zm+RNXqP5yH8Buu8PY/\",\"dtype\":\"float64\",\"order\":\"little\",\"shape\":[66]}},\"selected\":{\"id\":\"1164\"},\"selection_policy\":{\"id\":\"1178\"}},\"id\":\"1163\",\"type\":\"ColumnDataSource\"},{\"attributes\":{\"tools\":[{\"id\":\"1124\"},{\"id\":\"1144\"},{\"id\":\"1145\"},{\"id\":\"1146\"},{\"id\":\"1147\"},{\"id\":\"1148\"}]},\"id\":\"1150\",\"type\":\"Toolbar\"},{\"attributes\":{\"axis\":{\"id\":\"1136\"},\"coordinates\":null,\"grid_line_color\":null,\"group\":null,\"ticker\":null},\"id\":\"1139\",\"type\":\"Grid\"},{\"attributes\":{\"fill_color\":{\"value\":\"#30a2da\"},\"hatch_color\":{\"value\":\"#30a2da\"},\"line_color\":{\"value\":\"#30a2da\"},\"size\":{\"value\":5.477225575051661},\"x\":{\"field\":\"principal component 1\"},\"y\":{\"field\":\"principal component 2\"}},\"id\":\"1166\",\"type\":\"Scatter\"},{\"attributes\":{\"source\":{\"id\":\"1184\"}},\"id\":\"1191\",\"type\":\"CDSView\"},{\"attributes\":{\"bottom_units\":\"screen\",\"coordinates\":null,\"fill_alpha\":0.5,\"fill_color\":\"lightgrey\",\"group\":null,\"left_units\":\"screen\",\"level\":\"overlay\",\"line_alpha\":1.0,\"line_color\":\"black\",\"line_dash\":[4,4],\"line_width\":2,\"right_units\":\"screen\",\"syncable\":false,\"top_units\":\"screen\"},\"id\":\"1149\",\"type\":\"BoxAnnotation\"},{\"attributes\":{\"overlay\":{\"id\":\"1149\"}},\"id\":\"1147\",\"type\":\"BoxZoomTool\"},{\"attributes\":{\"coordinates\":null,\"data_source\":{\"id\":\"1184\"},\"glyph\":{\"id\":\"1187\"},\"group\":null,\"hover_glyph\":null,\"muted_glyph\":{\"id\":\"1189\"},\"nonselection_glyph\":{\"id\":\"1188\"},\"selection_glyph\":{\"id\":\"1205\"},\"view\":{\"id\":\"1191\"}},\"id\":\"1190\",\"type\":\"GlyphRenderer\"},{\"attributes\":{\"source\":{\"id\":\"1163\"}},\"id\":\"1170\",\"type\":\"CDSView\"},{\"attributes\":{\"fill_alpha\":{\"value\":0.1},\"fill_color\":{\"value\":\"#fc4f30\"},\"hatch_alpha\":{\"value\":0.1},\"hatch_color\":{\"value\":\"#fc4f30\"},\"line_alpha\":{\"value\":0.1},\"line_color\":{\"value\":\"#fc4f30\"},\"size\":{\"value\":5.477225575051661},\"x\":{\"field\":\"principal component 1\"},\"y\":{\"field\":\"principal component 2\"}},\"id\":\"1188\",\"type\":\"Scatter\"},{\"attributes\":{},\"id\":\"1159\",\"type\":\"AllLabels\"},{\"attributes\":{\"callback\":null,\"renderers\":[{\"id\":\"1169\"},{\"id\":\"1190\"},{\"id\":\"1212\"}],\"tags\":[\"hv_created\"],\"tooltips\":[[\"class\",\"@{class}\"],[\"principal component 1\",\"@{principal_component_1}\"],[\"principal component 2\",\"@{principal_component_2}\"]]},\"id\":\"1124\",\"type\":\"HoverTool\"},{\"attributes\":{\"fill_alpha\":{\"value\":0.2},\"fill_color\":{\"value\":\"#30a2da\"},\"hatch_alpha\":{\"value\":0.2},\"hatch_color\":{\"value\":\"#30a2da\"},\"line_alpha\":{\"value\":0.2},\"line_color\":{\"value\":\"#30a2da\"},\"size\":{\"value\":5.477225575051661},\"x\":{\"field\":\"principal component 1\"},\"y\":{\"field\":\"principal component 2\"}},\"id\":\"1168\",\"type\":\"Scatter\"},{\"attributes\":{\"data\":{\"class\":{\"__ndarray__\":\"AQAAAAEAAAABAAAAAQAAAAEAAAABAAAAAQAAAAEAAAABAAAAAQAAAAEAAAABAAAAAQAAAAEAAAABAAAAAQAAAAEAAAABAAAA\",\"dtype\":\"int32\",\"order\":\"little\",\"shape\":[18]},\"principal component 1\":{\"__ndarray__\":\"f2OJbW4CGkAIm92+3LwaQO0IOIb4dBdAmr1jhELeF0Asqd3WXdkaQJQNSCNgCBxAz59ekXLkEkCdJYQJF3cWQBe0Ym7MahVALc3fRjsBFkA6MmVgc/YSQEzBa0fK1xdAl51YYOgFGEBXl6K11OgSQP4tyU2NMRNAg6DfDxYSFkDg2YLxcpQWQH6LWRANrRRA\",\"dtype\":\"float64\",\"order\":\"little\",\"shape\":[18]},\"principal component 2\":{\"__ndarray__\":\"4q7c24Vi/L+pPCRgQffrv1yuXoexYta/gRdNA2sp1D/IaF4cx47sP6C1j8Heafs/+1YdM+0q+r9Srr6/h8zuv+fBtD08Jti/Vr34LWQf3z9QvSFXLizwP0gkRWX/xf0/gY72IHqe+r8PQVjNMaXwvyjmN96jeau/pWEt6Psa0z+rt9ps2qrpP0rUUJ6v8fg/\",\"dtype\":\"float64\",\"order\":\"little\",\"shape\":[18]},\"principal_component_1\":{\"__ndarray__\":\"f2OJbW4CGkAIm92+3LwaQO0IOIb4dBdAmr1jhELeF0Asqd3WXdkaQJQNSCNgCBxAz59ekXLkEkCdJYQJF3cWQBe0Ym7MahVALc3fRjsBFkA6MmVgc/YSQEzBa0fK1xdAl51YYOgFGEBXl6K11OgSQP4tyU2NMRNAg6DfDxYSFkDg2YLxcpQWQH6LWRANrRRA\",\"dtype\":\"float64\",\"order\":\"little\",\"shape\":[18]},\"principal_component_2\":{\"__ndarray__\":\"4q7c24Vi/L+pPCRgQffrv1yuXoexYta/gRdNA2sp1D/IaF4cx47sP6C1j8Heafs/+1YdM+0q+r9Srr6/h8zuv+fBtD08Jti/Vr34LWQf3z9QvSFXLizwP0gkRWX/xf0/gY72IHqe+r8PQVjNMaXwvyjmN96jeau/pWEt6Psa0z+rt9ps2qrpP0rUUJ6v8fg/\",\"dtype\":\"float64\",\"order\":\"little\",\"shape\":[18]}},\"selected\":{\"id\":\"1185\"},\"selection_policy\":{\"id\":\"1201\"}},\"id\":\"1184\",\"type\":\"ColumnDataSource\"},{\"attributes\":{},\"id\":\"1225\",\"type\":\"UnionRenderers\"},{\"attributes\":{},\"id\":\"1134\",\"type\":\"LinearScale\"},{\"attributes\":{\"fill_alpha\":{\"value\":0.1},\"fill_color\":{\"value\":\"#e5ae38\"},\"hatch_alpha\":{\"value\":0.1},\"hatch_color\":{\"value\":\"#e5ae38\"},\"line_alpha\":{\"value\":0.1},\"line_color\":{\"value\":\"#e5ae38\"},\"size\":{\"value\":5.477225575051661},\"x\":{\"field\":\"principal component 1\"},\"y\":{\"field\":\"principal component 2\"}},\"id\":\"1210\",\"type\":\"Scatter\"},{\"attributes\":{},\"id\":\"1158\",\"type\":\"BasicTickFormatter\"},{\"attributes\":{\"fill_alpha\":{\"value\":0.2},\"fill_color\":{\"value\":\"#e5ae38\"},\"hatch_alpha\":{\"value\":0.2},\"hatch_color\":{\"value\":\"#e5ae38\"},\"line_alpha\":{\"value\":0.2},\"line_color\":{\"value\":\"#e5ae38\"},\"size\":{\"value\":5.477225575051661},\"x\":{\"field\":\"principal component 1\"},\"y\":{\"field\":\"principal component 2\"}},\"id\":\"1211\",\"type\":\"Scatter\"},{\"attributes\":{},\"id\":\"1137\",\"type\":\"BasicTicker\"},{\"attributes\":{\"end\":2.224328537968165,\"reset_end\":2.224328537968165,\"reset_start\":-2.1375427096160364,\"start\":-2.1375427096160364,\"tags\":[[[\"principal component 2\",\"principal component 2\",null]]]},\"id\":\"1123\",\"type\":\"Range1d\"},{\"attributes\":{\"label\":{\"value\":\"2\"},\"renderers\":[{\"id\":\"1212\"}]},\"id\":\"1228\",\"type\":\"LegendItem\"},{\"attributes\":{\"below\":[{\"id\":\"1136\"}],\"center\":[{\"id\":\"1139\"},{\"id\":\"1143\"}],\"height\":300,\"left\":[{\"id\":\"1140\"}],\"margin\":[5,5,5,5],\"min_border_bottom\":10,\"min_border_left\":10,\"min_border_right\":10,\"min_border_top\":10,\"renderers\":[{\"id\":\"1169\"},{\"id\":\"1190\"},{\"id\":\"1212\"}],\"right\":[{\"id\":\"1181\"}],\"sizing_mode\":\"fixed\",\"title\":{\"id\":\"1128\"},\"toolbar\":{\"id\":\"1150\"},\"width\":700,\"x_range\":{\"id\":\"1122\"},\"x_scale\":{\"id\":\"1132\"},\"y_range\":{\"id\":\"1123\"},\"y_scale\":{\"id\":\"1134\"}},\"id\":\"1127\",\"subtype\":\"Figure\",\"type\":\"Plot\"},{\"attributes\":{\"coordinates\":null,\"data_source\":{\"id\":\"1206\"},\"glyph\":{\"id\":\"1209\"},\"group\":null,\"hover_glyph\":null,\"muted_glyph\":{\"id\":\"1211\"},\"nonselection_glyph\":{\"id\":\"1210\"},\"selection_glyph\":{\"id\":\"1229\"},\"view\":{\"id\":\"1213\"}},\"id\":\"1212\",\"type\":\"GlyphRenderer\"},{\"attributes\":{},\"id\":\"1201\",\"type\":\"UnionRenderers\"},{\"attributes\":{\"margin\":[5,5,5,5],\"name\":\"HSpacer01863\",\"sizing_mode\":\"stretch_width\"},\"id\":\"1356\",\"type\":\"Spacer\"},{\"attributes\":{},\"id\":\"1148\",\"type\":\"ResetTool\"},{\"attributes\":{\"coordinates\":null,\"group\":null,\"text_color\":\"black\",\"text_font_size\":\"12pt\"},\"id\":\"1128\",\"type\":\"Title\"},{\"attributes\":{\"coordinates\":null,\"data_source\":{\"id\":\"1163\"},\"glyph\":{\"id\":\"1166\"},\"group\":null,\"hover_glyph\":null,\"muted_glyph\":{\"id\":\"1168\"},\"nonselection_glyph\":{\"id\":\"1167\"},\"selection_glyph\":{\"id\":\"1183\"},\"view\":{\"id\":\"1170\"}},\"id\":\"1169\",\"type\":\"GlyphRenderer\"},{\"attributes\":{},\"id\":\"1185\",\"type\":\"Selection\"},{\"attributes\":{},\"id\":\"1132\",\"type\":\"LinearScale\"},{\"attributes\":{\"angle\":{\"value\":0.0},\"fill_alpha\":{\"value\":1.0},\"fill_color\":{\"value\":\"#fc4f30\"},\"hatch_alpha\":{\"value\":1.0},\"hatch_color\":{\"value\":\"#fc4f30\"},\"hatch_scale\":{\"value\":12.0},\"hatch_weight\":{\"value\":1.0},\"line_alpha\":{\"value\":1.0},\"line_cap\":{\"value\":\"butt\"},\"line_color\":{\"value\":\"#fc4f30\"},\"line_dash\":{\"value\":[]},\"line_dash_offset\":{\"value\":0},\"line_join\":{\"value\":\"bevel\"},\"line_width\":{\"value\":1},\"marker\":{\"value\":\"circle\"},\"size\":{\"value\":5.477225575051661},\"x\":{\"field\":\"principal component 1\"},\"y\":{\"field\":\"principal component 2\"}},\"id\":\"1205\",\"type\":\"Scatter\"},{\"attributes\":{\"fill_color\":{\"value\":\"#fc4f30\"},\"hatch_color\":{\"value\":\"#fc4f30\"},\"line_color\":{\"value\":\"#fc4f30\"},\"size\":{\"value\":5.477225575051661},\"x\":{\"field\":\"principal component 1\"},\"y\":{\"field\":\"principal component 2\"}},\"id\":\"1187\",\"type\":\"Scatter\"},{\"attributes\":{},\"id\":\"1178\",\"type\":\"UnionRenderers\"},{\"attributes\":{\"click_policy\":\"mute\",\"coordinates\":null,\"group\":null,\"items\":[{\"id\":\"1182\"},{\"id\":\"1204\"},{\"id\":\"1228\"}],\"location\":[0,0],\"title\":\"class\"},\"id\":\"1181\",\"type\":\"Legend\"},{\"attributes\":{\"margin\":[5,5,5,5],\"name\":\"HSpacer01862\",\"sizing_mode\":\"stretch_width\"},\"id\":\"1121\",\"type\":\"Spacer\"},{\"attributes\":{},\"id\":\"1141\",\"type\":\"BasicTicker\"},{\"attributes\":{\"fill_alpha\":{\"value\":0.1},\"fill_color\":{\"value\":\"#30a2da\"},\"hatch_alpha\":{\"value\":0.1},\"hatch_color\":{\"value\":\"#30a2da\"},\"line_alpha\":{\"value\":0.1},\"line_color\":{\"value\":\"#30a2da\"},\"size\":{\"value\":5.477225575051661},\"x\":{\"field\":\"principal component 1\"},\"y\":{\"field\":\"principal component 2\"}},\"id\":\"1167\",\"type\":\"Scatter\"},{\"attributes\":{\"source\":{\"id\":\"1206\"}},\"id\":\"1213\",\"type\":\"CDSView\"},{\"attributes\":{\"angle\":{\"value\":0.0},\"fill_alpha\":{\"value\":1.0},\"fill_color\":{\"value\":\"#e5ae38\"},\"hatch_alpha\":{\"value\":1.0},\"hatch_color\":{\"value\":\"#e5ae38\"},\"hatch_scale\":{\"value\":12.0},\"hatch_weight\":{\"value\":1.0},\"line_alpha\":{\"value\":1.0},\"line_cap\":{\"value\":\"butt\"},\"line_color\":{\"value\":\"#e5ae38\"},\"line_dash\":{\"value\":[]},\"line_dash_offset\":{\"value\":0},\"line_join\":{\"value\":\"bevel\"},\"line_width\":{\"value\":1},\"marker\":{\"value\":\"circle\"},\"size\":{\"value\":5.477225575051661},\"x\":{\"field\":\"principal component 1\"},\"y\":{\"field\":\"principal component 2\"}},\"id\":\"1229\",\"type\":\"Scatter\"},{\"attributes\":{},\"id\":\"1162\",\"type\":\"AllLabels\"},{\"attributes\":{\"fill_alpha\":{\"value\":0.2},\"fill_color\":{\"value\":\"#fc4f30\"},\"hatch_alpha\":{\"value\":0.2},\"hatch_color\":{\"value\":\"#fc4f30\"},\"line_alpha\":{\"value\":0.2},\"line_color\":{\"value\":\"#fc4f30\"},\"size\":{\"value\":5.477225575051661},\"x\":{\"field\":\"principal component 1\"},\"y\":{\"field\":\"principal component 2\"}},\"id\":\"1189\",\"type\":\"Scatter\"},{\"attributes\":{},\"id\":\"1161\",\"type\":\"BasicTickFormatter\"},{\"attributes\":{\"fill_color\":{\"value\":\"#e5ae38\"},\"hatch_color\":{\"value\":\"#e5ae38\"},\"line_color\":{\"value\":\"#e5ae38\"},\"size\":{\"value\":5.477225575051661},\"x\":{\"field\":\"principal component 1\"},\"y\":{\"field\":\"principal component 2\"}},\"id\":\"1209\",\"type\":\"Scatter\"},{\"attributes\":{},\"id\":\"1145\",\"type\":\"PanTool\"},{\"attributes\":{\"axis\":{\"id\":\"1140\"},\"coordinates\":null,\"dimension\":1,\"grid_line_color\":null,\"group\":null,\"ticker\":null},\"id\":\"1143\",\"type\":\"Grid\"},{\"attributes\":{},\"id\":\"1164\",\"type\":\"Selection\"}],\"root_ids\":[\"1120\"]},\"title\":\"Bokeh Application\",\"version\":\"2.4.2\"}};\n",
       "    var render_items = [{\"docid\":\"44c66580-2e27-4815-b015-d4902f6edfef\",\"root_ids\":[\"1120\"],\"roots\":{\"1120\":\"c491cbc4-e2dc-4287-bef9-55907217e7f8\"}}];\n",
       "    root.Bokeh.embed.embed_items_notebook(docs_json, render_items);\n",
       "  }\n",
       "  if (root.Bokeh !== undefined && root.Bokeh.Panel !== undefined) {\n",
       "    embed_document(root);\n",
       "  } else {\n",
       "    var attempts = 0;\n",
       "    var timer = setInterval(function(root) {\n",
       "      if (root.Bokeh !== undefined && root.Bokeh.Panel !== undefined) {\n",
       "        clearInterval(timer);\n",
       "        embed_document(root);\n",
       "      } else if (document.readyState == \"complete\") {\n",
       "        attempts++;\n",
       "        if (attempts > 200) {\n",
       "          clearInterval(timer);\n",
       "          console.log(\"Bokeh: ERROR: Unable to run BokehJS code because BokehJS library is missing\");\n",
       "        }\n",
       "      }\n",
       "    }, 25, root)\n",
       "  }\n",
       "})(window);</script>"
      ],
      "text/plain": [
       ":NdOverlay   [class]\n",
       "   :Scatter   [principal component 1]   (principal component 2,class)"
      ]
     },
     "execution_count": 22,
     "metadata": {
      "application/vnd.holoviews_exec.v0+json": {
       "id": "1120"
      }
     },
     "output_type": "execute_result"
    }
   ],
   "source": [
    "df_crime_pca.hvplot.scatter(\n",
    "    x=\"principal component 1\",\n",
    "    y=\"principal component 2\",\n",
    "    hover_cols=[\"class\"],\n",
    "    by=\"class\",\n",
    ")"
   ]
  },
  {
   "cell_type": "markdown",
   "id": "21a49e4a",
   "metadata": {},
   "source": [
    "### Outter Houston Counties Hierarchical Clustering"
   ]
  },
  {
   "cell_type": "code",
   "execution_count": 25,
   "id": "8f63dcbb",
   "metadata": {},
   "outputs": [],
   "source": [
    "import plotly.figure_factory as ff"
   ]
  },
  {
   "cell_type": "code",
   "execution_count": 26,
   "id": "d4fd6aaf",
   "metadata": {},
   "outputs": [
    {
     "data": {
      "application/vnd.plotly.v1+json": {
       "config": {
        "plotlyServerURL": "https://plot.ly"
       },
       "data": [
        {
         "hoverinfo": "text",
         "marker": {
          "color": "rgb(0,116,217)"
         },
         "mode": "lines",
         "type": "scatter",
         "x": [
          25,
          25,
          35,
          35
         ],
         "xaxis": "x",
         "y": [
          0,
          0.02256461889558423,
          0.02256461889558423,
          0
         ],
         "yaxis": "y"
        },
        {
         "hoverinfo": "text",
         "marker": {
          "color": "rgb(0,116,217)"
         },
         "mode": "lines",
         "type": "scatter",
         "x": [
          15,
          15,
          30,
          30
         ],
         "xaxis": "x",
         "y": [
          0,
          0.09475636977605305,
          0.09475636977605305,
          0.02256461889558423
         ],
         "yaxis": "y"
        },
        {
         "hoverinfo": "text",
         "marker": {
          "color": "rgb(0,116,217)"
         },
         "mode": "lines",
         "type": "scatter",
         "x": [
          5,
          5,
          22.5,
          22.5
         ],
         "xaxis": "x",
         "y": [
          0,
          0.179407154964749,
          0.179407154964749,
          0.09475636977605305
         ],
         "yaxis": "y"
        },
        {
         "hoverinfo": "text",
         "marker": {
          "color": "rgb(0,116,217)"
         },
         "mode": "lines",
         "type": "scatter",
         "x": [
          55,
          55,
          65,
          65
         ],
         "xaxis": "x",
         "y": [
          0,
          0.02393204177691932,
          0.02393204177691932,
          0
         ],
         "yaxis": "y"
        },
        {
         "hoverinfo": "text",
         "marker": {
          "color": "rgb(0,116,217)"
         },
         "mode": "lines",
         "type": "scatter",
         "x": [
          45,
          45,
          60,
          60
         ],
         "xaxis": "x",
         "y": [
          0,
          0.07763609065770784,
          0.07763609065770784,
          0.02393204177691932
         ],
         "yaxis": "y"
        },
        {
         "hoverinfo": "text",
         "marker": {
          "color": "rgb(0,116,217)"
         },
         "mode": "lines",
         "type": "scatter",
         "x": [
          85,
          85,
          95,
          95
         ],
         "xaxis": "x",
         "y": [
          0,
          0.11627948920862344,
          0.11627948920862344,
          0
         ],
         "yaxis": "y"
        },
        {
         "hoverinfo": "text",
         "marker": {
          "color": "rgb(0,116,217)"
         },
         "mode": "lines",
         "type": "scatter",
         "x": [
          75,
          75,
          90,
          90
         ],
         "xaxis": "x",
         "y": [
          0,
          0.2421487688598456,
          0.2421487688598456,
          0.11627948920862344
         ],
         "yaxis": "y"
        },
        {
         "hoverinfo": "text",
         "marker": {
          "color": "rgb(0,116,217)"
         },
         "mode": "lines",
         "type": "scatter",
         "x": [
          52.5,
          52.5,
          82.5,
          82.5
         ],
         "xaxis": "x",
         "y": [
          0.07763609065770784,
          0.56210272833616,
          0.56210272833616,
          0.2421487688598456
         ],
         "yaxis": "y"
        },
        {
         "hoverinfo": "text",
         "marker": {
          "color": "rgb(0,116,217)"
         },
         "mode": "lines",
         "type": "scatter",
         "x": [
          13.75,
          13.75,
          67.5,
          67.5
         ],
         "xaxis": "x",
         "y": [
          0.179407154964749,
          0.7375642324766619,
          0.7375642324766619,
          0.56210272833616
         ],
         "yaxis": "y"
        },
        {
         "hoverinfo": "text",
         "marker": {
          "color": "rgb(0,116,217)"
         },
         "mode": "lines",
         "type": "scatter",
         "x": [
          125,
          125,
          135,
          135
         ],
         "xaxis": "x",
         "y": [
          0,
          0.04852040802830773,
          0.04852040802830773,
          0
         ],
         "yaxis": "y"
        },
        {
         "hoverinfo": "text",
         "marker": {
          "color": "rgb(0,116,217)"
         },
         "mode": "lines",
         "type": "scatter",
         "x": [
          115,
          115,
          130,
          130
         ],
         "xaxis": "x",
         "y": [
          0,
          0.11677885677801521,
          0.11677885677801521,
          0.04852040802830773
         ],
         "yaxis": "y"
        },
        {
         "hoverinfo": "text",
         "marker": {
          "color": "rgb(0,116,217)"
         },
         "mode": "lines",
         "type": "scatter",
         "x": [
          105,
          105,
          122.5,
          122.5
         ],
         "xaxis": "x",
         "y": [
          0,
          0.2252001249859049,
          0.2252001249859049,
          0.11677885677801521
         ],
         "yaxis": "y"
        },
        {
         "hoverinfo": "text",
         "marker": {
          "color": "rgb(0,116,217)"
         },
         "mode": "lines",
         "type": "scatter",
         "x": [
          155,
          155,
          165,
          165
         ],
         "xaxis": "x",
         "y": [
          0,
          0.06658049991371408,
          0.06658049991371408,
          0
         ],
         "yaxis": "y"
        },
        {
         "hoverinfo": "text",
         "marker": {
          "color": "rgb(0,116,217)"
         },
         "mode": "lines",
         "type": "scatter",
         "x": [
          185,
          185,
          195,
          195
         ],
         "xaxis": "x",
         "y": [
          0,
          0.03817117398266601,
          0.03817117398266601,
          0
         ],
         "yaxis": "y"
        },
        {
         "hoverinfo": "text",
         "marker": {
          "color": "rgb(0,116,217)"
         },
         "mode": "lines",
         "type": "scatter",
         "x": [
          175,
          175,
          190,
          190
         ],
         "xaxis": "x",
         "y": [
          0,
          0.07946327482513263,
          0.07946327482513263,
          0.03817117398266601
         ],
         "yaxis": "y"
        },
        {
         "hoverinfo": "text",
         "marker": {
          "color": "rgb(0,116,217)"
         },
         "mode": "lines",
         "type": "scatter",
         "x": [
          160,
          160,
          182.5,
          182.5
         ],
         "xaxis": "x",
         "y": [
          0.06658049991371408,
          0.2253624632855133,
          0.2253624632855133,
          0.07946327482513263
         ],
         "yaxis": "y"
        },
        {
         "hoverinfo": "text",
         "marker": {
          "color": "rgb(0,116,217)"
         },
         "mode": "lines",
         "type": "scatter",
         "x": [
          145,
          145,
          171.25,
          171.25
         ],
         "xaxis": "x",
         "y": [
          0,
          0.5366985823042787,
          0.5366985823042787,
          0.2253624632855133
         ],
         "yaxis": "y"
        },
        {
         "hoverinfo": "text",
         "marker": {
          "color": "rgb(0,116,217)"
         },
         "mode": "lines",
         "type": "scatter",
         "x": [
          113.75,
          113.75,
          158.125,
          158.125
         ],
         "xaxis": "x",
         "y": [
          0.2252001249859049,
          0.8331644909049889,
          0.8331644909049889,
          0.5366985823042787
         ],
         "yaxis": "y"
        },
        {
         "hoverinfo": "text",
         "marker": {
          "color": "rgb(0,116,217)"
         },
         "mode": "lines",
         "type": "scatter",
         "x": [
          40.625,
          40.625,
          135.9375,
          135.9375
         ],
         "xaxis": "x",
         "y": [
          0.7375642324766619,
          1.3508127436540531,
          1.3508127436540531,
          0.8331644909049889
         ],
         "yaxis": "y"
        },
        {
         "hoverinfo": "text",
         "marker": {
          "color": "rgb(0,116,217)"
         },
         "mode": "lines",
         "type": "scatter",
         "x": [
          215,
          215,
          225,
          225
         ],
         "xaxis": "x",
         "y": [
          0,
          0.5457646935614874,
          0.5457646935614874,
          0
         ],
         "yaxis": "y"
        },
        {
         "hoverinfo": "text",
         "marker": {
          "color": "rgb(0,116,217)"
         },
         "mode": "lines",
         "type": "scatter",
         "x": [
          205,
          205,
          220,
          220
         ],
         "xaxis": "x",
         "y": [
          0,
          1.5891382453635527,
          1.5891382453635527,
          0.5457646935614874
         ],
         "yaxis": "y"
        },
        {
         "hoverinfo": "text",
         "marker": {
          "color": "rgb(0,116,217)"
         },
         "mode": "lines",
         "type": "scatter",
         "x": [
          88.28125,
          88.28125,
          212.5,
          212.5
         ],
         "xaxis": "x",
         "y": [
          1.3508127436540531,
          2.3242277094737087,
          2.3242277094737087,
          1.5891382453635527
         ],
         "yaxis": "y"
        },
        {
         "hoverinfo": "text",
         "marker": {
          "color": "rgb(0,116,217)"
         },
         "mode": "lines",
         "type": "scatter",
         "x": [
          235,
          235,
          245,
          245
         ],
         "xaxis": "x",
         "y": [
          0,
          0.03688690834750195,
          0.03688690834750195,
          0
         ],
         "yaxis": "y"
        },
        {
         "hoverinfo": "text",
         "marker": {
          "color": "rgb(0,116,217)"
         },
         "mode": "lines",
         "type": "scatter",
         "x": [
          255,
          255,
          265,
          265
         ],
         "xaxis": "x",
         "y": [
          0,
          0.0999304208362296,
          0.0999304208362296,
          0
         ],
         "yaxis": "y"
        },
        {
         "hoverinfo": "text",
         "marker": {
          "color": "rgb(0,116,217)"
         },
         "mode": "lines",
         "type": "scatter",
         "x": [
          240,
          240,
          260,
          260
         ],
         "xaxis": "x",
         "y": [
          0.03688690834750195,
          0.2175772095504732,
          0.2175772095504732,
          0.0999304208362296
         ],
         "yaxis": "y"
        },
        {
         "hoverinfo": "text",
         "marker": {
          "color": "rgb(0,116,217)"
         },
         "mode": "lines",
         "type": "scatter",
         "x": [
          285,
          285,
          295,
          295
         ],
         "xaxis": "x",
         "y": [
          0,
          0.011896156923285259,
          0.011896156923285259,
          0
         ],
         "yaxis": "y"
        },
        {
         "hoverinfo": "text",
         "marker": {
          "color": "rgb(0,116,217)"
         },
         "mode": "lines",
         "type": "scatter",
         "x": [
          275,
          275,
          290,
          290
         ],
         "xaxis": "x",
         "y": [
          0,
          0.12614432474823017,
          0.12614432474823017,
          0.011896156923285259
         ],
         "yaxis": "y"
        },
        {
         "hoverinfo": "text",
         "marker": {
          "color": "rgb(0,116,217)"
         },
         "mode": "lines",
         "type": "scatter",
         "x": [
          315,
          315,
          325,
          325
         ],
         "xaxis": "x",
         "y": [
          0,
          0.0662733101521169,
          0.0662733101521169,
          0
         ],
         "yaxis": "y"
        },
        {
         "hoverinfo": "text",
         "marker": {
          "color": "rgb(0,116,217)"
         },
         "mode": "lines",
         "type": "scatter",
         "x": [
          305,
          305,
          320,
          320
         ],
         "xaxis": "x",
         "y": [
          0,
          0.21609500477435586,
          0.21609500477435586,
          0.0662733101521169
         ],
         "yaxis": "y"
        },
        {
         "hoverinfo": "text",
         "marker": {
          "color": "rgb(0,116,217)"
         },
         "mode": "lines",
         "type": "scatter",
         "x": [
          282.5,
          282.5,
          312.5,
          312.5
         ],
         "xaxis": "x",
         "y": [
          0.12614432474823017,
          0.5012425052852107,
          0.5012425052852107,
          0.21609500477435586
         ],
         "yaxis": "y"
        },
        {
         "hoverinfo": "text",
         "marker": {
          "color": "rgb(0,116,217)"
         },
         "mode": "lines",
         "type": "scatter",
         "x": [
          250,
          250,
          297.5,
          297.5
         ],
         "xaxis": "x",
         "y": [
          0.2175772095504732,
          0.9109897284088586,
          0.9109897284088586,
          0.5012425052852107
         ],
         "yaxis": "y"
        },
        {
         "hoverinfo": "text",
         "marker": {
          "color": "rgb(0,116,217)"
         },
         "mode": "lines",
         "type": "scatter",
         "x": [
          345,
          345,
          355,
          355
         ],
         "xaxis": "x",
         "y": [
          0,
          0.04042947633397299,
          0.04042947633397299,
          0
         ],
         "yaxis": "y"
        },
        {
         "hoverinfo": "text",
         "marker": {
          "color": "rgb(0,116,217)"
         },
         "mode": "lines",
         "type": "scatter",
         "x": [
          335,
          335,
          350,
          350
         ],
         "xaxis": "x",
         "y": [
          0,
          0.08219677258075976,
          0.08219677258075976,
          0.04042947633397299
         ],
         "yaxis": "y"
        },
        {
         "hoverinfo": "text",
         "marker": {
          "color": "rgb(0,116,217)"
         },
         "mode": "lines",
         "type": "scatter",
         "x": [
          375,
          375,
          385,
          385
         ],
         "xaxis": "x",
         "y": [
          0,
          0.013202085279685138,
          0.013202085279685138,
          0
         ],
         "yaxis": "y"
        },
        {
         "hoverinfo": "text",
         "marker": {
          "color": "rgb(0,116,217)"
         },
         "mode": "lines",
         "type": "scatter",
         "x": [
          365,
          365,
          380,
          380
         ],
         "xaxis": "x",
         "y": [
          0,
          0.10314619889965382,
          0.10314619889965382,
          0.013202085279685138
         ],
         "yaxis": "y"
        },
        {
         "hoverinfo": "text",
         "marker": {
          "color": "rgb(0,116,217)"
         },
         "mode": "lines",
         "type": "scatter",
         "x": [
          342.5,
          342.5,
          372.5,
          372.5
         ],
         "xaxis": "x",
         "y": [
          0.08219677258075976,
          0.22739099041884195,
          0.22739099041884195,
          0.10314619889965382
         ],
         "yaxis": "y"
        },
        {
         "hoverinfo": "text",
         "marker": {
          "color": "rgb(0,116,217)"
         },
         "mode": "lines",
         "type": "scatter",
         "x": [
          415,
          415,
          425,
          425
         ],
         "xaxis": "x",
         "y": [
          0,
          0.0385826568242555,
          0.0385826568242555,
          0
         ],
         "yaxis": "y"
        },
        {
         "hoverinfo": "text",
         "marker": {
          "color": "rgb(0,116,217)"
         },
         "mode": "lines",
         "type": "scatter",
         "x": [
          405,
          405,
          420,
          420
         ],
         "xaxis": "x",
         "y": [
          0,
          0.15324416548817563,
          0.15324416548817563,
          0.0385826568242555
         ],
         "yaxis": "y"
        },
        {
         "hoverinfo": "text",
         "marker": {
          "color": "rgb(0,116,217)"
         },
         "mode": "lines",
         "type": "scatter",
         "x": [
          395,
          395,
          412.5,
          412.5
         ],
         "xaxis": "x",
         "y": [
          0,
          0.27157877720361934,
          0.27157877720361934,
          0.15324416548817563
         ],
         "yaxis": "y"
        },
        {
         "hoverinfo": "text",
         "marker": {
          "color": "rgb(0,116,217)"
         },
         "mode": "lines",
         "type": "scatter",
         "x": [
          357.5,
          357.5,
          403.75,
          403.75
         ],
         "xaxis": "x",
         "y": [
          0.22739099041884195,
          0.6836007069336827,
          0.6836007069336827,
          0.27157877720361934
         ],
         "yaxis": "y"
        },
        {
         "hoverinfo": "text",
         "marker": {
          "color": "rgb(0,116,217)"
         },
         "mode": "lines",
         "type": "scatter",
         "x": [
          475,
          475,
          485,
          485
         ],
         "xaxis": "x",
         "y": [
          0,
          0.022983572322867272,
          0.022983572322867272,
          0
         ],
         "yaxis": "y"
        },
        {
         "hoverinfo": "text",
         "marker": {
          "color": "rgb(0,116,217)"
         },
         "mode": "lines",
         "type": "scatter",
         "x": [
          465,
          465,
          480,
          480
         ],
         "xaxis": "x",
         "y": [
          0,
          0.05221955376681357,
          0.05221955376681357,
          0.022983572322867272
         ],
         "yaxis": "y"
        },
        {
         "hoverinfo": "text",
         "marker": {
          "color": "rgb(0,116,217)"
         },
         "mode": "lines",
         "type": "scatter",
         "x": [
          455,
          455,
          472.5,
          472.5
         ],
         "xaxis": "x",
         "y": [
          0,
          0.08605469010872727,
          0.08605469010872727,
          0.05221955376681357
         ],
         "yaxis": "y"
        },
        {
         "hoverinfo": "text",
         "marker": {
          "color": "rgb(0,116,217)"
         },
         "mode": "lines",
         "type": "scatter",
         "x": [
          445,
          445,
          463.75,
          463.75
         ],
         "xaxis": "x",
         "y": [
          0,
          0.17458865949797064,
          0.17458865949797064,
          0.08605469010872727
         ],
         "yaxis": "y"
        },
        {
         "hoverinfo": "text",
         "marker": {
          "color": "rgb(0,116,217)"
         },
         "mode": "lines",
         "type": "scatter",
         "x": [
          435,
          435,
          454.375,
          454.375
         ],
         "xaxis": "x",
         "y": [
          0,
          0.35712319312969326,
          0.35712319312969326,
          0.17458865949797064
         ],
         "yaxis": "y"
        },
        {
         "hoverinfo": "text",
         "marker": {
          "color": "rgb(0,116,217)"
         },
         "mode": "lines",
         "type": "scatter",
         "x": [
          505,
          505,
          515,
          515
         ],
         "xaxis": "x",
         "y": [
          0,
          0.035622098211350504,
          0.035622098211350504,
          0
         ],
         "yaxis": "y"
        },
        {
         "hoverinfo": "text",
         "marker": {
          "color": "rgb(0,116,217)"
         },
         "mode": "lines",
         "type": "scatter",
         "x": [
          495,
          495,
          510,
          510
         ],
         "xaxis": "x",
         "y": [
          0,
          0.09998092502722122,
          0.09998092502722122,
          0.035622098211350504
         ],
         "yaxis": "y"
        },
        {
         "hoverinfo": "text",
         "marker": {
          "color": "rgb(0,116,217)"
         },
         "mode": "lines",
         "type": "scatter",
         "x": [
          525,
          525,
          535,
          535
         ],
         "xaxis": "x",
         "y": [
          0,
          0.17309421596559818,
          0.17309421596559818,
          0
         ],
         "yaxis": "y"
        },
        {
         "hoverinfo": "text",
         "marker": {
          "color": "rgb(0,116,217)"
         },
         "mode": "lines",
         "type": "scatter",
         "x": [
          502.5,
          502.5,
          530,
          530
         ],
         "xaxis": "x",
         "y": [
          0.09998092502722122,
          0.36122033783249796,
          0.36122033783249796,
          0.17309421596559818
         ],
         "yaxis": "y"
        },
        {
         "hoverinfo": "text",
         "marker": {
          "color": "rgb(0,116,217)"
         },
         "mode": "lines",
         "type": "scatter",
         "x": [
          444.6875,
          444.6875,
          516.25,
          516.25
         ],
         "xaxis": "x",
         "y": [
          0.35712319312969326,
          0.7680432507582611,
          0.7680432507582611,
          0.36122033783249796
         ],
         "yaxis": "y"
        },
        {
         "hoverinfo": "text",
         "marker": {
          "color": "rgb(0,116,217)"
         },
         "mode": "lines",
         "type": "scatter",
         "x": [
          380.625,
          380.625,
          480.46875,
          480.46875
         ],
         "xaxis": "x",
         "y": [
          0.6836007069336827,
          1.1643632578186878,
          1.1643632578186878,
          0.7680432507582611
         ],
         "yaxis": "y"
        },
        {
         "hoverinfo": "text",
         "marker": {
          "color": "rgb(0,116,217)"
         },
         "mode": "lines",
         "type": "scatter",
         "x": [
          273.75,
          273.75,
          430.546875,
          430.546875
         ],
         "xaxis": "x",
         "y": [
          0.9109897284088586,
          1.4992475482967917,
          1.4992475482967917,
          1.1643632578186878
         ],
         "yaxis": "y"
        },
        {
         "hoverinfo": "text",
         "marker": {
          "color": "rgb(0,116,217)"
         },
         "mode": "lines",
         "type": "scatter",
         "x": [
          545,
          545,
          555,
          555
         ],
         "xaxis": "x",
         "y": [
          0,
          0.5668072692970131,
          0.5668072692970131,
          0
         ],
         "yaxis": "y"
        },
        {
         "hoverinfo": "text",
         "marker": {
          "color": "rgb(0,116,217)"
         },
         "mode": "lines",
         "type": "scatter",
         "x": [
          585,
          585,
          595,
          595
         ],
         "xaxis": "x",
         "y": [
          0,
          0.007903263460014106,
          0.007903263460014106,
          0
         ],
         "yaxis": "y"
        },
        {
         "hoverinfo": "text",
         "marker": {
          "color": "rgb(0,116,217)"
         },
         "mode": "lines",
         "type": "scatter",
         "x": [
          575,
          575,
          590,
          590
         ],
         "xaxis": "x",
         "y": [
          0,
          0.022878836659582062,
          0.022878836659582062,
          0.007903263460014106
         ],
         "yaxis": "y"
        },
        {
         "hoverinfo": "text",
         "marker": {
          "color": "rgb(0,116,217)"
         },
         "mode": "lines",
         "type": "scatter",
         "x": [
          565,
          565,
          582.5,
          582.5
         ],
         "xaxis": "x",
         "y": [
          0,
          0.04747996260196008,
          0.04747996260196008,
          0.022878836659582062
         ],
         "yaxis": "y"
        },
        {
         "hoverinfo": "text",
         "marker": {
          "color": "rgb(0,116,217)"
         },
         "mode": "lines",
         "type": "scatter",
         "x": [
          625,
          625,
          635,
          635
         ],
         "xaxis": "x",
         "y": [
          0,
          0.054453363523674955,
          0.054453363523674955,
          0
         ],
         "yaxis": "y"
        },
        {
         "hoverinfo": "text",
         "marker": {
          "color": "rgb(0,116,217)"
         },
         "mode": "lines",
         "type": "scatter",
         "x": [
          615,
          615,
          630,
          630
         ],
         "xaxis": "x",
         "y": [
          0,
          0.10712640287520392,
          0.10712640287520392,
          0.054453363523674955
         ],
         "yaxis": "y"
        },
        {
         "hoverinfo": "text",
         "marker": {
          "color": "rgb(0,116,217)"
         },
         "mode": "lines",
         "type": "scatter",
         "x": [
          605,
          605,
          622.5,
          622.5
         ],
         "xaxis": "x",
         "y": [
          0,
          0.14456100897061394,
          0.14456100897061394,
          0.10712640287520392
         ],
         "yaxis": "y"
        },
        {
         "hoverinfo": "text",
         "marker": {
          "color": "rgb(0,116,217)"
         },
         "mode": "lines",
         "type": "scatter",
         "x": [
          645,
          645,
          655,
          655
         ],
         "xaxis": "x",
         "y": [
          0,
          0.23256644366898482,
          0.23256644366898482,
          0
         ],
         "yaxis": "y"
        },
        {
         "hoverinfo": "text",
         "marker": {
          "color": "rgb(0,116,217)"
         },
         "mode": "lines",
         "type": "scatter",
         "x": [
          613.75,
          613.75,
          650,
          650
         ],
         "xaxis": "x",
         "y": [
          0.14456100897061394,
          0.5359567875567587,
          0.5359567875567587,
          0.23256644366898482
         ],
         "yaxis": "y"
        },
        {
         "hoverinfo": "text",
         "marker": {
          "color": "rgb(0,116,217)"
         },
         "mode": "lines",
         "type": "scatter",
         "x": [
          573.75,
          573.75,
          631.875,
          631.875
         ],
         "xaxis": "x",
         "y": [
          0.04747996260196008,
          0.9769785074326315,
          0.9769785074326315,
          0.5359567875567587
         ],
         "yaxis": "y"
        },
        {
         "hoverinfo": "text",
         "marker": {
          "color": "rgb(0,116,217)"
         },
         "mode": "lines",
         "type": "scatter",
         "x": [
          550,
          550,
          602.8125,
          602.8125
         ],
         "xaxis": "x",
         "y": [
          0.5668072692970131,
          1.7674178256810742,
          1.7674178256810742,
          0.9769785074326315
         ],
         "yaxis": "y"
        },
        {
         "hoverinfo": "text",
         "marker": {
          "color": "rgb(0,116,217)"
         },
         "mode": "lines",
         "type": "scatter",
         "x": [
          352.1484375,
          352.1484375,
          576.40625,
          576.40625
         ],
         "xaxis": "x",
         "y": [
          1.4992475482967917,
          2.521437463908596,
          2.521437463908596,
          1.7674178256810742
         ],
         "yaxis": "y"
        },
        {
         "hoverinfo": "text",
         "marker": {
          "color": "rgb(0,116,217)"
         },
         "mode": "lines",
         "type": "scatter",
         "x": [
          150.390625,
          150.390625,
          464.27734375,
          464.27734375
         ],
         "xaxis": "x",
         "y": [
          2.3242277094737087,
          3.750213610104264,
          3.750213610104264,
          2.521437463908596
         ],
         "yaxis": "y"
        },
        {
         "hoverinfo": "text",
         "marker": {
          "color": "rgb(0,116,217)"
         },
         "mode": "lines",
         "type": "scatter",
         "x": [
          665,
          665,
          675,
          675
         ],
         "xaxis": "x",
         "y": [
          0,
          0.7861183465630911,
          0.7861183465630911,
          0
         ],
         "yaxis": "y"
        },
        {
         "hoverinfo": "text",
         "marker": {
          "color": "rgb(0,116,217)"
         },
         "mode": "lines",
         "type": "scatter",
         "x": [
          685,
          685,
          695,
          695
         ],
         "xaxis": "x",
         "y": [
          0,
          0.8198689941583669,
          0.8198689941583669,
          0
         ],
         "yaxis": "y"
        },
        {
         "hoverinfo": "text",
         "marker": {
          "color": "rgb(0,116,217)"
         },
         "mode": "lines",
         "type": "scatter",
         "x": [
          670,
          670,
          690,
          690
         ],
         "xaxis": "x",
         "y": [
          0.7861183465630911,
          1.7477778624361409,
          1.7477778624361409,
          0.8198689941583669
         ],
         "yaxis": "y"
        },
        {
         "hoverinfo": "text",
         "marker": {
          "color": "rgb(0,116,217)"
         },
         "mode": "lines",
         "type": "scatter",
         "x": [
          705,
          705,
          715,
          715
         ],
         "xaxis": "x",
         "y": [
          0,
          0.5366606578077933,
          0.5366606578077933,
          0
         ],
         "yaxis": "y"
        },
        {
         "hoverinfo": "text",
         "marker": {
          "color": "rgb(0,116,217)"
         },
         "mode": "lines",
         "type": "scatter",
         "x": [
          725,
          725,
          735,
          735
         ],
         "xaxis": "x",
         "y": [
          0,
          0.7529580802835305,
          0.7529580802835305,
          0
         ],
         "yaxis": "y"
        },
        {
         "hoverinfo": "text",
         "marker": {
          "color": "rgb(0,116,217)"
         },
         "mode": "lines",
         "type": "scatter",
         "x": [
          710,
          710,
          730,
          730
         ],
         "xaxis": "x",
         "y": [
          0.5366606578077933,
          1.0669793639517484,
          1.0669793639517484,
          0.7529580802835305
         ],
         "yaxis": "y"
        },
        {
         "hoverinfo": "text",
         "marker": {
          "color": "rgb(0,116,217)"
         },
         "mode": "lines",
         "type": "scatter",
         "x": [
          745,
          745,
          755,
          755
         ],
         "xaxis": "x",
         "y": [
          0,
          0.5786652999636586,
          0.5786652999636586,
          0
         ],
         "yaxis": "y"
        },
        {
         "hoverinfo": "text",
         "marker": {
          "color": "rgb(0,116,217)"
         },
         "mode": "lines",
         "type": "scatter",
         "x": [
          765,
          765,
          775,
          775
         ],
         "xaxis": "x",
         "y": [
          0,
          0.6216295542021024,
          0.6216295542021024,
          0
         ],
         "yaxis": "y"
        },
        {
         "hoverinfo": "text",
         "marker": {
          "color": "rgb(0,116,217)"
         },
         "mode": "lines",
         "type": "scatter",
         "x": [
          750,
          750,
          770,
          770
         ],
         "xaxis": "x",
         "y": [
          0.5786652999636586,
          1.5109968198907744,
          1.5109968198907744,
          0.6216295542021024
         ],
         "yaxis": "y"
        },
        {
         "hoverinfo": "text",
         "marker": {
          "color": "rgb(0,116,217)"
         },
         "mode": "lines",
         "type": "scatter",
         "x": [
          720,
          720,
          760,
          760
         ],
         "xaxis": "x",
         "y": [
          1.0669793639517484,
          2.1856846597915878,
          2.1856846597915878,
          1.5109968198907744
         ],
         "yaxis": "y"
        },
        {
         "hoverinfo": "text",
         "marker": {
          "color": "rgb(0,116,217)"
         },
         "mode": "lines",
         "type": "scatter",
         "x": [
          680,
          680,
          740,
          740
         ],
         "xaxis": "x",
         "y": [
          1.7477778624361409,
          3.338693100370846,
          3.338693100370846,
          2.1856846597915878
         ],
         "yaxis": "y"
        },
        {
         "hoverinfo": "text",
         "marker": {
          "color": "rgb(0,116,217)"
         },
         "mode": "lines",
         "type": "scatter",
         "x": [
          795,
          795,
          805,
          805
         ],
         "xaxis": "x",
         "y": [
          0,
          0.8726212740125439,
          0.8726212740125439,
          0
         ],
         "yaxis": "y"
        },
        {
         "hoverinfo": "text",
         "marker": {
          "color": "rgb(0,116,217)"
         },
         "mode": "lines",
         "type": "scatter",
         "x": [
          785,
          785,
          800,
          800
         ],
         "xaxis": "x",
         "y": [
          0,
          1.2258181538793964,
          1.2258181538793964,
          0.8726212740125439
         ],
         "yaxis": "y"
        },
        {
         "hoverinfo": "text",
         "marker": {
          "color": "rgb(0,116,217)"
         },
         "mode": "lines",
         "type": "scatter",
         "x": [
          835,
          835,
          845,
          845
         ],
         "xaxis": "x",
         "y": [
          0,
          0.1884890346927667,
          0.1884890346927667,
          0
         ],
         "yaxis": "y"
        },
        {
         "hoverinfo": "text",
         "marker": {
          "color": "rgb(0,116,217)"
         },
         "mode": "lines",
         "type": "scatter",
         "x": [
          825,
          825,
          840,
          840
         ],
         "xaxis": "x",
         "y": [
          0,
          0.49633186230568954,
          0.49633186230568954,
          0.1884890346927667
         ],
         "yaxis": "y"
        },
        {
         "hoverinfo": "text",
         "marker": {
          "color": "rgb(0,116,217)"
         },
         "mode": "lines",
         "type": "scatter",
         "x": [
          815,
          815,
          832.5,
          832.5
         ],
         "xaxis": "x",
         "y": [
          0,
          0.5839359787222499,
          0.5839359787222499,
          0.49633186230568954
         ],
         "yaxis": "y"
        },
        {
         "hoverinfo": "text",
         "marker": {
          "color": "rgb(0,116,217)"
         },
         "mode": "lines",
         "type": "scatter",
         "x": [
          855,
          855,
          865,
          865
         ],
         "xaxis": "x",
         "y": [
          0,
          0.6957029818566903,
          0.6957029818566903,
          0
         ],
         "yaxis": "y"
        },
        {
         "hoverinfo": "text",
         "marker": {
          "color": "rgb(0,116,217)"
         },
         "mode": "lines",
         "type": "scatter",
         "x": [
          823.75,
          823.75,
          860,
          860
         ],
         "xaxis": "x",
         "y": [
          0.5839359787222499,
          1.4779622292043626,
          1.4779622292043626,
          0.6957029818566903
         ],
         "yaxis": "y"
        },
        {
         "hoverinfo": "text",
         "marker": {
          "color": "rgb(0,116,217)"
         },
         "mode": "lines",
         "type": "scatter",
         "x": [
          792.5,
          792.5,
          841.875,
          841.875
         ],
         "xaxis": "x",
         "y": [
          1.2258181538793964,
          2.3738511813585776,
          2.3738511813585776,
          1.4779622292043626
         ],
         "yaxis": "y"
        },
        {
         "hoverinfo": "text",
         "marker": {
          "color": "rgb(0,116,217)"
         },
         "mode": "lines",
         "type": "scatter",
         "x": [
          885,
          885,
          895,
          895
         ],
         "xaxis": "x",
         "y": [
          0,
          0.5087205299862883,
          0.5087205299862883,
          0
         ],
         "yaxis": "y"
        },
        {
         "hoverinfo": "text",
         "marker": {
          "color": "rgb(0,116,217)"
         },
         "mode": "lines",
         "type": "scatter",
         "x": [
          875,
          875,
          890,
          890
         ],
         "xaxis": "x",
         "y": [
          0,
          1.0413002673543075,
          1.0413002673543075,
          0.5087205299862883
         ],
         "yaxis": "y"
        },
        {
         "hoverinfo": "text",
         "marker": {
          "color": "rgb(0,116,217)"
         },
         "mode": "lines",
         "type": "scatter",
         "x": [
          905,
          905,
          915,
          915
         ],
         "xaxis": "x",
         "y": [
          0,
          0.5951648134302772,
          0.5951648134302772,
          0
         ],
         "yaxis": "y"
        },
        {
         "hoverinfo": "text",
         "marker": {
          "color": "rgb(0,116,217)"
         },
         "mode": "lines",
         "type": "scatter",
         "x": [
          945,
          945,
          955,
          955
         ],
         "xaxis": "x",
         "y": [
          0,
          0.5106780368471834,
          0.5106780368471834,
          0
         ],
         "yaxis": "y"
        },
        {
         "hoverinfo": "text",
         "marker": {
          "color": "rgb(0,116,217)"
         },
         "mode": "lines",
         "type": "scatter",
         "x": [
          935,
          935,
          950,
          950
         ],
         "xaxis": "x",
         "y": [
          0,
          0.660955826499544,
          0.660955826499544,
          0.5106780368471834
         ],
         "yaxis": "y"
        },
        {
         "hoverinfo": "text",
         "marker": {
          "color": "rgb(0,116,217)"
         },
         "mode": "lines",
         "type": "scatter",
         "x": [
          925,
          925,
          942.5,
          942.5
         ],
         "xaxis": "x",
         "y": [
          0,
          1.2226609380025997,
          1.2226609380025997,
          0.660955826499544
         ],
         "yaxis": "y"
        },
        {
         "hoverinfo": "text",
         "marker": {
          "color": "rgb(0,116,217)"
         },
         "mode": "lines",
         "type": "scatter",
         "x": [
          910,
          910,
          933.75,
          933.75
         ],
         "xaxis": "x",
         "y": [
          0.5951648134302772,
          1.719078877227287,
          1.719078877227287,
          1.2226609380025997
         ],
         "yaxis": "y"
        },
        {
         "hoverinfo": "text",
         "marker": {
          "color": "rgb(0,116,217)"
         },
         "mode": "lines",
         "type": "scatter",
         "x": [
          882.5,
          882.5,
          921.875,
          921.875
         ],
         "xaxis": "x",
         "y": [
          1.0413002673543075,
          2.4214264384052973,
          2.4214264384052973,
          1.719078877227287
         ],
         "yaxis": "y"
        },
        {
         "hoverinfo": "text",
         "marker": {
          "color": "rgb(0,116,217)"
         },
         "mode": "lines",
         "type": "scatter",
         "x": [
          817.1875,
          817.1875,
          902.1875,
          902.1875
         ],
         "xaxis": "x",
         "y": [
          2.3738511813585776,
          4.054166029458404,
          4.054166029458404,
          2.4214264384052973
         ],
         "yaxis": "y"
        },
        {
         "hoverinfo": "text",
         "marker": {
          "color": "rgb(0,116,217)"
         },
         "mode": "lines",
         "type": "scatter",
         "x": [
          710,
          710,
          859.6875,
          859.6875
         ],
         "xaxis": "x",
         "y": [
          3.338693100370846,
          5.976785115797215,
          5.976785115797215,
          4.054166029458404
         ],
         "yaxis": "y"
        },
        {
         "hoverinfo": "text",
         "marker": {
          "color": "rgb(0,116,217)"
         },
         "mode": "lines",
         "type": "scatter",
         "x": [
          307.333984375,
          307.333984375,
          784.84375,
          784.84375
         ],
         "xaxis": "x",
         "y": [
          3.750213610104264,
          10.02814661396305,
          10.02814661396305,
          5.976785115797215
         ],
         "yaxis": "y"
        }
       ],
       "layout": {
        "autosize": false,
        "height": 500,
        "hovermode": "closest",
        "showlegend": false,
        "template": {
         "data": {
          "bar": [
           {
            "error_x": {
             "color": "#2a3f5f"
            },
            "error_y": {
             "color": "#2a3f5f"
            },
            "marker": {
             "line": {
              "color": "#E5ECF6",
              "width": 0.5
             },
             "pattern": {
              "fillmode": "overlay",
              "size": 10,
              "solidity": 0.2
             }
            },
            "type": "bar"
           }
          ],
          "barpolar": [
           {
            "marker": {
             "line": {
              "color": "#E5ECF6",
              "width": 0.5
             },
             "pattern": {
              "fillmode": "overlay",
              "size": 10,
              "solidity": 0.2
             }
            },
            "type": "barpolar"
           }
          ],
          "carpet": [
           {
            "aaxis": {
             "endlinecolor": "#2a3f5f",
             "gridcolor": "white",
             "linecolor": "white",
             "minorgridcolor": "white",
             "startlinecolor": "#2a3f5f"
            },
            "baxis": {
             "endlinecolor": "#2a3f5f",
             "gridcolor": "white",
             "linecolor": "white",
             "minorgridcolor": "white",
             "startlinecolor": "#2a3f5f"
            },
            "type": "carpet"
           }
          ],
          "choropleth": [
           {
            "colorbar": {
             "outlinewidth": 0,
             "ticks": ""
            },
            "type": "choropleth"
           }
          ],
          "contour": [
           {
            "colorbar": {
             "outlinewidth": 0,
             "ticks": ""
            },
            "colorscale": [
             [
              0,
              "#0d0887"
             ],
             [
              0.1111111111111111,
              "#46039f"
             ],
             [
              0.2222222222222222,
              "#7201a8"
             ],
             [
              0.3333333333333333,
              "#9c179e"
             ],
             [
              0.4444444444444444,
              "#bd3786"
             ],
             [
              0.5555555555555556,
              "#d8576b"
             ],
             [
              0.6666666666666666,
              "#ed7953"
             ],
             [
              0.7777777777777778,
              "#fb9f3a"
             ],
             [
              0.8888888888888888,
              "#fdca26"
             ],
             [
              1,
              "#f0f921"
             ]
            ],
            "type": "contour"
           }
          ],
          "contourcarpet": [
           {
            "colorbar": {
             "outlinewidth": 0,
             "ticks": ""
            },
            "type": "contourcarpet"
           }
          ],
          "heatmap": [
           {
            "colorbar": {
             "outlinewidth": 0,
             "ticks": ""
            },
            "colorscale": [
             [
              0,
              "#0d0887"
             ],
             [
              0.1111111111111111,
              "#46039f"
             ],
             [
              0.2222222222222222,
              "#7201a8"
             ],
             [
              0.3333333333333333,
              "#9c179e"
             ],
             [
              0.4444444444444444,
              "#bd3786"
             ],
             [
              0.5555555555555556,
              "#d8576b"
             ],
             [
              0.6666666666666666,
              "#ed7953"
             ],
             [
              0.7777777777777778,
              "#fb9f3a"
             ],
             [
              0.8888888888888888,
              "#fdca26"
             ],
             [
              1,
              "#f0f921"
             ]
            ],
            "type": "heatmap"
           }
          ],
          "heatmapgl": [
           {
            "colorbar": {
             "outlinewidth": 0,
             "ticks": ""
            },
            "colorscale": [
             [
              0,
              "#0d0887"
             ],
             [
              0.1111111111111111,
              "#46039f"
             ],
             [
              0.2222222222222222,
              "#7201a8"
             ],
             [
              0.3333333333333333,
              "#9c179e"
             ],
             [
              0.4444444444444444,
              "#bd3786"
             ],
             [
              0.5555555555555556,
              "#d8576b"
             ],
             [
              0.6666666666666666,
              "#ed7953"
             ],
             [
              0.7777777777777778,
              "#fb9f3a"
             ],
             [
              0.8888888888888888,
              "#fdca26"
             ],
             [
              1,
              "#f0f921"
             ]
            ],
            "type": "heatmapgl"
           }
          ],
          "histogram": [
           {
            "marker": {
             "pattern": {
              "fillmode": "overlay",
              "size": 10,
              "solidity": 0.2
             }
            },
            "type": "histogram"
           }
          ],
          "histogram2d": [
           {
            "colorbar": {
             "outlinewidth": 0,
             "ticks": ""
            },
            "colorscale": [
             [
              0,
              "#0d0887"
             ],
             [
              0.1111111111111111,
              "#46039f"
             ],
             [
              0.2222222222222222,
              "#7201a8"
             ],
             [
              0.3333333333333333,
              "#9c179e"
             ],
             [
              0.4444444444444444,
              "#bd3786"
             ],
             [
              0.5555555555555556,
              "#d8576b"
             ],
             [
              0.6666666666666666,
              "#ed7953"
             ],
             [
              0.7777777777777778,
              "#fb9f3a"
             ],
             [
              0.8888888888888888,
              "#fdca26"
             ],
             [
              1,
              "#f0f921"
             ]
            ],
            "type": "histogram2d"
           }
          ],
          "histogram2dcontour": [
           {
            "colorbar": {
             "outlinewidth": 0,
             "ticks": ""
            },
            "colorscale": [
             [
              0,
              "#0d0887"
             ],
             [
              0.1111111111111111,
              "#46039f"
             ],
             [
              0.2222222222222222,
              "#7201a8"
             ],
             [
              0.3333333333333333,
              "#9c179e"
             ],
             [
              0.4444444444444444,
              "#bd3786"
             ],
             [
              0.5555555555555556,
              "#d8576b"
             ],
             [
              0.6666666666666666,
              "#ed7953"
             ],
             [
              0.7777777777777778,
              "#fb9f3a"
             ],
             [
              0.8888888888888888,
              "#fdca26"
             ],
             [
              1,
              "#f0f921"
             ]
            ],
            "type": "histogram2dcontour"
           }
          ],
          "mesh3d": [
           {
            "colorbar": {
             "outlinewidth": 0,
             "ticks": ""
            },
            "type": "mesh3d"
           }
          ],
          "parcoords": [
           {
            "line": {
             "colorbar": {
              "outlinewidth": 0,
              "ticks": ""
             }
            },
            "type": "parcoords"
           }
          ],
          "pie": [
           {
            "automargin": true,
            "type": "pie"
           }
          ],
          "scatter": [
           {
            "marker": {
             "colorbar": {
              "outlinewidth": 0,
              "ticks": ""
             }
            },
            "type": "scatter"
           }
          ],
          "scatter3d": [
           {
            "line": {
             "colorbar": {
              "outlinewidth": 0,
              "ticks": ""
             }
            },
            "marker": {
             "colorbar": {
              "outlinewidth": 0,
              "ticks": ""
             }
            },
            "type": "scatter3d"
           }
          ],
          "scattercarpet": [
           {
            "marker": {
             "colorbar": {
              "outlinewidth": 0,
              "ticks": ""
             }
            },
            "type": "scattercarpet"
           }
          ],
          "scattergeo": [
           {
            "marker": {
             "colorbar": {
              "outlinewidth": 0,
              "ticks": ""
             }
            },
            "type": "scattergeo"
           }
          ],
          "scattergl": [
           {
            "marker": {
             "colorbar": {
              "outlinewidth": 0,
              "ticks": ""
             }
            },
            "type": "scattergl"
           }
          ],
          "scattermapbox": [
           {
            "marker": {
             "colorbar": {
              "outlinewidth": 0,
              "ticks": ""
             }
            },
            "type": "scattermapbox"
           }
          ],
          "scatterpolar": [
           {
            "marker": {
             "colorbar": {
              "outlinewidth": 0,
              "ticks": ""
             }
            },
            "type": "scatterpolar"
           }
          ],
          "scatterpolargl": [
           {
            "marker": {
             "colorbar": {
              "outlinewidth": 0,
              "ticks": ""
             }
            },
            "type": "scatterpolargl"
           }
          ],
          "scatterternary": [
           {
            "marker": {
             "colorbar": {
              "outlinewidth": 0,
              "ticks": ""
             }
            },
            "type": "scatterternary"
           }
          ],
          "surface": [
           {
            "colorbar": {
             "outlinewidth": 0,
             "ticks": ""
            },
            "colorscale": [
             [
              0,
              "#0d0887"
             ],
             [
              0.1111111111111111,
              "#46039f"
             ],
             [
              0.2222222222222222,
              "#7201a8"
             ],
             [
              0.3333333333333333,
              "#9c179e"
             ],
             [
              0.4444444444444444,
              "#bd3786"
             ],
             [
              0.5555555555555556,
              "#d8576b"
             ],
             [
              0.6666666666666666,
              "#ed7953"
             ],
             [
              0.7777777777777778,
              "#fb9f3a"
             ],
             [
              0.8888888888888888,
              "#fdca26"
             ],
             [
              1,
              "#f0f921"
             ]
            ],
            "type": "surface"
           }
          ],
          "table": [
           {
            "cells": {
             "fill": {
              "color": "#EBF0F8"
             },
             "line": {
              "color": "white"
             }
            },
            "header": {
             "fill": {
              "color": "#C8D4E3"
             },
             "line": {
              "color": "white"
             }
            },
            "type": "table"
           }
          ]
         },
         "layout": {
          "annotationdefaults": {
           "arrowcolor": "#2a3f5f",
           "arrowhead": 0,
           "arrowwidth": 1
          },
          "autotypenumbers": "strict",
          "coloraxis": {
           "colorbar": {
            "outlinewidth": 0,
            "ticks": ""
           }
          },
          "colorscale": {
           "diverging": [
            [
             0,
             "#8e0152"
            ],
            [
             0.1,
             "#c51b7d"
            ],
            [
             0.2,
             "#de77ae"
            ],
            [
             0.3,
             "#f1b6da"
            ],
            [
             0.4,
             "#fde0ef"
            ],
            [
             0.5,
             "#f7f7f7"
            ],
            [
             0.6,
             "#e6f5d0"
            ],
            [
             0.7,
             "#b8e186"
            ],
            [
             0.8,
             "#7fbc41"
            ],
            [
             0.9,
             "#4d9221"
            ],
            [
             1,
             "#276419"
            ]
           ],
           "sequential": [
            [
             0,
             "#0d0887"
            ],
            [
             0.1111111111111111,
             "#46039f"
            ],
            [
             0.2222222222222222,
             "#7201a8"
            ],
            [
             0.3333333333333333,
             "#9c179e"
            ],
            [
             0.4444444444444444,
             "#bd3786"
            ],
            [
             0.5555555555555556,
             "#d8576b"
            ],
            [
             0.6666666666666666,
             "#ed7953"
            ],
            [
             0.7777777777777778,
             "#fb9f3a"
            ],
            [
             0.8888888888888888,
             "#fdca26"
            ],
            [
             1,
             "#f0f921"
            ]
           ],
           "sequentialminus": [
            [
             0,
             "#0d0887"
            ],
            [
             0.1111111111111111,
             "#46039f"
            ],
            [
             0.2222222222222222,
             "#7201a8"
            ],
            [
             0.3333333333333333,
             "#9c179e"
            ],
            [
             0.4444444444444444,
             "#bd3786"
            ],
            [
             0.5555555555555556,
             "#d8576b"
            ],
            [
             0.6666666666666666,
             "#ed7953"
            ],
            [
             0.7777777777777778,
             "#fb9f3a"
            ],
            [
             0.8888888888888888,
             "#fdca26"
            ],
            [
             1,
             "#f0f921"
            ]
           ]
          },
          "colorway": [
           "#636efa",
           "#EF553B",
           "#00cc96",
           "#ab63fa",
           "#FFA15A",
           "#19d3f3",
           "#FF6692",
           "#B6E880",
           "#FF97FF",
           "#FECB52"
          ],
          "font": {
           "color": "#2a3f5f"
          },
          "geo": {
           "bgcolor": "white",
           "lakecolor": "white",
           "landcolor": "#E5ECF6",
           "showlakes": true,
           "showland": true,
           "subunitcolor": "white"
          },
          "hoverlabel": {
           "align": "left"
          },
          "hovermode": "closest",
          "mapbox": {
           "style": "light"
          },
          "paper_bgcolor": "white",
          "plot_bgcolor": "#E5ECF6",
          "polar": {
           "angularaxis": {
            "gridcolor": "white",
            "linecolor": "white",
            "ticks": ""
           },
           "bgcolor": "#E5ECF6",
           "radialaxis": {
            "gridcolor": "white",
            "linecolor": "white",
            "ticks": ""
           }
          },
          "scene": {
           "xaxis": {
            "backgroundcolor": "#E5ECF6",
            "gridcolor": "white",
            "gridwidth": 2,
            "linecolor": "white",
            "showbackground": true,
            "ticks": "",
            "zerolinecolor": "white"
           },
           "yaxis": {
            "backgroundcolor": "#E5ECF6",
            "gridcolor": "white",
            "gridwidth": 2,
            "linecolor": "white",
            "showbackground": true,
            "ticks": "",
            "zerolinecolor": "white"
           },
           "zaxis": {
            "backgroundcolor": "#E5ECF6",
            "gridcolor": "white",
            "gridwidth": 2,
            "linecolor": "white",
            "showbackground": true,
            "ticks": "",
            "zerolinecolor": "white"
           }
          },
          "shapedefaults": {
           "line": {
            "color": "#2a3f5f"
           }
          },
          "ternary": {
           "aaxis": {
            "gridcolor": "white",
            "linecolor": "white",
            "ticks": ""
           },
           "baxis": {
            "gridcolor": "white",
            "linecolor": "white",
            "ticks": ""
           },
           "bgcolor": "#E5ECF6",
           "caxis": {
            "gridcolor": "white",
            "linecolor": "white",
            "ticks": ""
           }
          },
          "title": {
           "x": 0.05
          },
          "xaxis": {
           "automargin": true,
           "gridcolor": "white",
           "linecolor": "white",
           "ticks": "",
           "title": {
            "standoff": 15
           },
           "zerolinecolor": "white",
           "zerolinewidth": 2
          },
          "yaxis": {
           "automargin": true,
           "gridcolor": "white",
           "linecolor": "white",
           "ticks": "",
           "title": {
            "standoff": 15
           },
           "zerolinecolor": "white",
           "zerolinewidth": 2
          }
         }
        },
        "width": 800,
        "xaxis": {
         "mirror": "allticks",
         "rangemode": "tozero",
         "showgrid": false,
         "showline": true,
         "showticklabels": true,
         "tickmode": "array",
         "ticks": "outside",
         "ticktext": [
          "71",
          "41",
          "5",
          "89",
          "4",
          "40",
          "70",
          "94",
          "22",
          "88",
          "64",
          "52",
          "76",
          "82",
          "53",
          "23",
          "95",
          "77",
          "65",
          "83",
          "47",
          "45",
          "46",
          "39",
          "69",
          "3",
          "87",
          "75",
          "51",
          "81",
          "21",
          "63",
          "93",
          "86",
          "20",
          "44",
          "38",
          "2",
          "68",
          "37",
          "67",
          "1",
          "85",
          "73",
          "19",
          "49",
          "61",
          "79",
          "91",
          "92",
          "50",
          "80",
          "62",
          "74",
          "42",
          "43",
          "36",
          "66",
          "0",
          "84",
          "48",
          "18",
          "60",
          "90",
          "72",
          "78",
          "10",
          "11",
          "16",
          "17",
          "12",
          "13",
          "6",
          "7",
          "14",
          "15",
          "8",
          "9",
          "35",
          "28",
          "29",
          "58",
          "27",
          "33",
          "57",
          "34",
          "59",
          "25",
          "24",
          "54",
          "30",
          "55",
          "56",
          "31",
          "26",
          "32"
         ],
         "tickvals": [
          5,
          15,
          25,
          35,
          45,
          55,
          65,
          75,
          85,
          95,
          105,
          115,
          125,
          135,
          145,
          155,
          165,
          175,
          185,
          195,
          205,
          215,
          225,
          235,
          245,
          255,
          265,
          275,
          285,
          295,
          305,
          315,
          325,
          335,
          345,
          355,
          365,
          375,
          385,
          395,
          405,
          415,
          425,
          435,
          445,
          455,
          465,
          475,
          485,
          495,
          505,
          515,
          525,
          535,
          545,
          555,
          565,
          575,
          585,
          595,
          605,
          615,
          625,
          635,
          645,
          655,
          665,
          675,
          685,
          695,
          705,
          715,
          725,
          735,
          745,
          755,
          765,
          775,
          785,
          795,
          805,
          815,
          825,
          835,
          845,
          855,
          865,
          875,
          885,
          895,
          905,
          915,
          925,
          935,
          945,
          955
         ],
         "type": "linear",
         "zeroline": false
        },
        "yaxis": {
         "mirror": "allticks",
         "rangemode": "tozero",
         "showgrid": false,
         "showline": true,
         "showticklabels": true,
         "ticks": "outside",
         "type": "linear",
         "zeroline": false
        }
       }
      },
      "text/html": [
       "<div>                            <div id=\"dff432d5-7f77-4e81-a10d-ae0fd943e191\" class=\"plotly-graph-div\" style=\"height:500px; width:800px;\"></div>            <script type=\"text/javascript\">                require([\"plotly\"], function(Plotly) {                    window.PLOTLYENV=window.PLOTLYENV || {};                                    if (document.getElementById(\"dff432d5-7f77-4e81-a10d-ae0fd943e191\")) {                    Plotly.newPlot(                        \"dff432d5-7f77-4e81-a10d-ae0fd943e191\",                        [{\"hoverinfo\":\"text\",\"marker\":{\"color\":\"rgb(0,116,217)\"},\"mode\":\"lines\",\"x\":[25.0,25.0,35.0,35.0],\"xaxis\":\"x\",\"y\":[0.0,0.02256461889558423,0.02256461889558423,0.0],\"yaxis\":\"y\",\"type\":\"scatter\"},{\"hoverinfo\":\"text\",\"marker\":{\"color\":\"rgb(0,116,217)\"},\"mode\":\"lines\",\"x\":[15.0,15.0,30.0,30.0],\"xaxis\":\"x\",\"y\":[0.0,0.09475636977605305,0.09475636977605305,0.02256461889558423],\"yaxis\":\"y\",\"type\":\"scatter\"},{\"hoverinfo\":\"text\",\"marker\":{\"color\":\"rgb(0,116,217)\"},\"mode\":\"lines\",\"x\":[5.0,5.0,22.5,22.5],\"xaxis\":\"x\",\"y\":[0.0,0.179407154964749,0.179407154964749,0.09475636977605305],\"yaxis\":\"y\",\"type\":\"scatter\"},{\"hoverinfo\":\"text\",\"marker\":{\"color\":\"rgb(0,116,217)\"},\"mode\":\"lines\",\"x\":[55.0,55.0,65.0,65.0],\"xaxis\":\"x\",\"y\":[0.0,0.02393204177691932,0.02393204177691932,0.0],\"yaxis\":\"y\",\"type\":\"scatter\"},{\"hoverinfo\":\"text\",\"marker\":{\"color\":\"rgb(0,116,217)\"},\"mode\":\"lines\",\"x\":[45.0,45.0,60.0,60.0],\"xaxis\":\"x\",\"y\":[0.0,0.07763609065770784,0.07763609065770784,0.02393204177691932],\"yaxis\":\"y\",\"type\":\"scatter\"},{\"hoverinfo\":\"text\",\"marker\":{\"color\":\"rgb(0,116,217)\"},\"mode\":\"lines\",\"x\":[85.0,85.0,95.0,95.0],\"xaxis\":\"x\",\"y\":[0.0,0.11627948920862344,0.11627948920862344,0.0],\"yaxis\":\"y\",\"type\":\"scatter\"},{\"hoverinfo\":\"text\",\"marker\":{\"color\":\"rgb(0,116,217)\"},\"mode\":\"lines\",\"x\":[75.0,75.0,90.0,90.0],\"xaxis\":\"x\",\"y\":[0.0,0.2421487688598456,0.2421487688598456,0.11627948920862344],\"yaxis\":\"y\",\"type\":\"scatter\"},{\"hoverinfo\":\"text\",\"marker\":{\"color\":\"rgb(0,116,217)\"},\"mode\":\"lines\",\"x\":[52.5,52.5,82.5,82.5],\"xaxis\":\"x\",\"y\":[0.07763609065770784,0.56210272833616,0.56210272833616,0.2421487688598456],\"yaxis\":\"y\",\"type\":\"scatter\"},{\"hoverinfo\":\"text\",\"marker\":{\"color\":\"rgb(0,116,217)\"},\"mode\":\"lines\",\"x\":[13.75,13.75,67.5,67.5],\"xaxis\":\"x\",\"y\":[0.179407154964749,0.7375642324766619,0.7375642324766619,0.56210272833616],\"yaxis\":\"y\",\"type\":\"scatter\"},{\"hoverinfo\":\"text\",\"marker\":{\"color\":\"rgb(0,116,217)\"},\"mode\":\"lines\",\"x\":[125.0,125.0,135.0,135.0],\"xaxis\":\"x\",\"y\":[0.0,0.04852040802830773,0.04852040802830773,0.0],\"yaxis\":\"y\",\"type\":\"scatter\"},{\"hoverinfo\":\"text\",\"marker\":{\"color\":\"rgb(0,116,217)\"},\"mode\":\"lines\",\"x\":[115.0,115.0,130.0,130.0],\"xaxis\":\"x\",\"y\":[0.0,0.11677885677801521,0.11677885677801521,0.04852040802830773],\"yaxis\":\"y\",\"type\":\"scatter\"},{\"hoverinfo\":\"text\",\"marker\":{\"color\":\"rgb(0,116,217)\"},\"mode\":\"lines\",\"x\":[105.0,105.0,122.5,122.5],\"xaxis\":\"x\",\"y\":[0.0,0.2252001249859049,0.2252001249859049,0.11677885677801521],\"yaxis\":\"y\",\"type\":\"scatter\"},{\"hoverinfo\":\"text\",\"marker\":{\"color\":\"rgb(0,116,217)\"},\"mode\":\"lines\",\"x\":[155.0,155.0,165.0,165.0],\"xaxis\":\"x\",\"y\":[0.0,0.06658049991371408,0.06658049991371408,0.0],\"yaxis\":\"y\",\"type\":\"scatter\"},{\"hoverinfo\":\"text\",\"marker\":{\"color\":\"rgb(0,116,217)\"},\"mode\":\"lines\",\"x\":[185.0,185.0,195.0,195.0],\"xaxis\":\"x\",\"y\":[0.0,0.03817117398266601,0.03817117398266601,0.0],\"yaxis\":\"y\",\"type\":\"scatter\"},{\"hoverinfo\":\"text\",\"marker\":{\"color\":\"rgb(0,116,217)\"},\"mode\":\"lines\",\"x\":[175.0,175.0,190.0,190.0],\"xaxis\":\"x\",\"y\":[0.0,0.07946327482513263,0.07946327482513263,0.03817117398266601],\"yaxis\":\"y\",\"type\":\"scatter\"},{\"hoverinfo\":\"text\",\"marker\":{\"color\":\"rgb(0,116,217)\"},\"mode\":\"lines\",\"x\":[160.0,160.0,182.5,182.5],\"xaxis\":\"x\",\"y\":[0.06658049991371408,0.2253624632855133,0.2253624632855133,0.07946327482513263],\"yaxis\":\"y\",\"type\":\"scatter\"},{\"hoverinfo\":\"text\",\"marker\":{\"color\":\"rgb(0,116,217)\"},\"mode\":\"lines\",\"x\":[145.0,145.0,171.25,171.25],\"xaxis\":\"x\",\"y\":[0.0,0.5366985823042787,0.5366985823042787,0.2253624632855133],\"yaxis\":\"y\",\"type\":\"scatter\"},{\"hoverinfo\":\"text\",\"marker\":{\"color\":\"rgb(0,116,217)\"},\"mode\":\"lines\",\"x\":[113.75,113.75,158.125,158.125],\"xaxis\":\"x\",\"y\":[0.2252001249859049,0.8331644909049889,0.8331644909049889,0.5366985823042787],\"yaxis\":\"y\",\"type\":\"scatter\"},{\"hoverinfo\":\"text\",\"marker\":{\"color\":\"rgb(0,116,217)\"},\"mode\":\"lines\",\"x\":[40.625,40.625,135.9375,135.9375],\"xaxis\":\"x\",\"y\":[0.7375642324766619,1.3508127436540531,1.3508127436540531,0.8331644909049889],\"yaxis\":\"y\",\"type\":\"scatter\"},{\"hoverinfo\":\"text\",\"marker\":{\"color\":\"rgb(0,116,217)\"},\"mode\":\"lines\",\"x\":[215.0,215.0,225.0,225.0],\"xaxis\":\"x\",\"y\":[0.0,0.5457646935614874,0.5457646935614874,0.0],\"yaxis\":\"y\",\"type\":\"scatter\"},{\"hoverinfo\":\"text\",\"marker\":{\"color\":\"rgb(0,116,217)\"},\"mode\":\"lines\",\"x\":[205.0,205.0,220.0,220.0],\"xaxis\":\"x\",\"y\":[0.0,1.5891382453635527,1.5891382453635527,0.5457646935614874],\"yaxis\":\"y\",\"type\":\"scatter\"},{\"hoverinfo\":\"text\",\"marker\":{\"color\":\"rgb(0,116,217)\"},\"mode\":\"lines\",\"x\":[88.28125,88.28125,212.5,212.5],\"xaxis\":\"x\",\"y\":[1.3508127436540531,2.3242277094737087,2.3242277094737087,1.5891382453635527],\"yaxis\":\"y\",\"type\":\"scatter\"},{\"hoverinfo\":\"text\",\"marker\":{\"color\":\"rgb(0,116,217)\"},\"mode\":\"lines\",\"x\":[235.0,235.0,245.0,245.0],\"xaxis\":\"x\",\"y\":[0.0,0.03688690834750195,0.03688690834750195,0.0],\"yaxis\":\"y\",\"type\":\"scatter\"},{\"hoverinfo\":\"text\",\"marker\":{\"color\":\"rgb(0,116,217)\"},\"mode\":\"lines\",\"x\":[255.0,255.0,265.0,265.0],\"xaxis\":\"x\",\"y\":[0.0,0.0999304208362296,0.0999304208362296,0.0],\"yaxis\":\"y\",\"type\":\"scatter\"},{\"hoverinfo\":\"text\",\"marker\":{\"color\":\"rgb(0,116,217)\"},\"mode\":\"lines\",\"x\":[240.0,240.0,260.0,260.0],\"xaxis\":\"x\",\"y\":[0.03688690834750195,0.2175772095504732,0.2175772095504732,0.0999304208362296],\"yaxis\":\"y\",\"type\":\"scatter\"},{\"hoverinfo\":\"text\",\"marker\":{\"color\":\"rgb(0,116,217)\"},\"mode\":\"lines\",\"x\":[285.0,285.0,295.0,295.0],\"xaxis\":\"x\",\"y\":[0.0,0.011896156923285259,0.011896156923285259,0.0],\"yaxis\":\"y\",\"type\":\"scatter\"},{\"hoverinfo\":\"text\",\"marker\":{\"color\":\"rgb(0,116,217)\"},\"mode\":\"lines\",\"x\":[275.0,275.0,290.0,290.0],\"xaxis\":\"x\",\"y\":[0.0,0.12614432474823017,0.12614432474823017,0.011896156923285259],\"yaxis\":\"y\",\"type\":\"scatter\"},{\"hoverinfo\":\"text\",\"marker\":{\"color\":\"rgb(0,116,217)\"},\"mode\":\"lines\",\"x\":[315.0,315.0,325.0,325.0],\"xaxis\":\"x\",\"y\":[0.0,0.0662733101521169,0.0662733101521169,0.0],\"yaxis\":\"y\",\"type\":\"scatter\"},{\"hoverinfo\":\"text\",\"marker\":{\"color\":\"rgb(0,116,217)\"},\"mode\":\"lines\",\"x\":[305.0,305.0,320.0,320.0],\"xaxis\":\"x\",\"y\":[0.0,0.21609500477435586,0.21609500477435586,0.0662733101521169],\"yaxis\":\"y\",\"type\":\"scatter\"},{\"hoverinfo\":\"text\",\"marker\":{\"color\":\"rgb(0,116,217)\"},\"mode\":\"lines\",\"x\":[282.5,282.5,312.5,312.5],\"xaxis\":\"x\",\"y\":[0.12614432474823017,0.5012425052852107,0.5012425052852107,0.21609500477435586],\"yaxis\":\"y\",\"type\":\"scatter\"},{\"hoverinfo\":\"text\",\"marker\":{\"color\":\"rgb(0,116,217)\"},\"mode\":\"lines\",\"x\":[250.0,250.0,297.5,297.5],\"xaxis\":\"x\",\"y\":[0.2175772095504732,0.9109897284088586,0.9109897284088586,0.5012425052852107],\"yaxis\":\"y\",\"type\":\"scatter\"},{\"hoverinfo\":\"text\",\"marker\":{\"color\":\"rgb(0,116,217)\"},\"mode\":\"lines\",\"x\":[345.0,345.0,355.0,355.0],\"xaxis\":\"x\",\"y\":[0.0,0.04042947633397299,0.04042947633397299,0.0],\"yaxis\":\"y\",\"type\":\"scatter\"},{\"hoverinfo\":\"text\",\"marker\":{\"color\":\"rgb(0,116,217)\"},\"mode\":\"lines\",\"x\":[335.0,335.0,350.0,350.0],\"xaxis\":\"x\",\"y\":[0.0,0.08219677258075976,0.08219677258075976,0.04042947633397299],\"yaxis\":\"y\",\"type\":\"scatter\"},{\"hoverinfo\":\"text\",\"marker\":{\"color\":\"rgb(0,116,217)\"},\"mode\":\"lines\",\"x\":[375.0,375.0,385.0,385.0],\"xaxis\":\"x\",\"y\":[0.0,0.013202085279685138,0.013202085279685138,0.0],\"yaxis\":\"y\",\"type\":\"scatter\"},{\"hoverinfo\":\"text\",\"marker\":{\"color\":\"rgb(0,116,217)\"},\"mode\":\"lines\",\"x\":[365.0,365.0,380.0,380.0],\"xaxis\":\"x\",\"y\":[0.0,0.10314619889965382,0.10314619889965382,0.013202085279685138],\"yaxis\":\"y\",\"type\":\"scatter\"},{\"hoverinfo\":\"text\",\"marker\":{\"color\":\"rgb(0,116,217)\"},\"mode\":\"lines\",\"x\":[342.5,342.5,372.5,372.5],\"xaxis\":\"x\",\"y\":[0.08219677258075976,0.22739099041884195,0.22739099041884195,0.10314619889965382],\"yaxis\":\"y\",\"type\":\"scatter\"},{\"hoverinfo\":\"text\",\"marker\":{\"color\":\"rgb(0,116,217)\"},\"mode\":\"lines\",\"x\":[415.0,415.0,425.0,425.0],\"xaxis\":\"x\",\"y\":[0.0,0.0385826568242555,0.0385826568242555,0.0],\"yaxis\":\"y\",\"type\":\"scatter\"},{\"hoverinfo\":\"text\",\"marker\":{\"color\":\"rgb(0,116,217)\"},\"mode\":\"lines\",\"x\":[405.0,405.0,420.0,420.0],\"xaxis\":\"x\",\"y\":[0.0,0.15324416548817563,0.15324416548817563,0.0385826568242555],\"yaxis\":\"y\",\"type\":\"scatter\"},{\"hoverinfo\":\"text\",\"marker\":{\"color\":\"rgb(0,116,217)\"},\"mode\":\"lines\",\"x\":[395.0,395.0,412.5,412.5],\"xaxis\":\"x\",\"y\":[0.0,0.27157877720361934,0.27157877720361934,0.15324416548817563],\"yaxis\":\"y\",\"type\":\"scatter\"},{\"hoverinfo\":\"text\",\"marker\":{\"color\":\"rgb(0,116,217)\"},\"mode\":\"lines\",\"x\":[357.5,357.5,403.75,403.75],\"xaxis\":\"x\",\"y\":[0.22739099041884195,0.6836007069336827,0.6836007069336827,0.27157877720361934],\"yaxis\":\"y\",\"type\":\"scatter\"},{\"hoverinfo\":\"text\",\"marker\":{\"color\":\"rgb(0,116,217)\"},\"mode\":\"lines\",\"x\":[475.0,475.0,485.0,485.0],\"xaxis\":\"x\",\"y\":[0.0,0.022983572322867272,0.022983572322867272,0.0],\"yaxis\":\"y\",\"type\":\"scatter\"},{\"hoverinfo\":\"text\",\"marker\":{\"color\":\"rgb(0,116,217)\"},\"mode\":\"lines\",\"x\":[465.0,465.0,480.0,480.0],\"xaxis\":\"x\",\"y\":[0.0,0.05221955376681357,0.05221955376681357,0.022983572322867272],\"yaxis\":\"y\",\"type\":\"scatter\"},{\"hoverinfo\":\"text\",\"marker\":{\"color\":\"rgb(0,116,217)\"},\"mode\":\"lines\",\"x\":[455.0,455.0,472.5,472.5],\"xaxis\":\"x\",\"y\":[0.0,0.08605469010872727,0.08605469010872727,0.05221955376681357],\"yaxis\":\"y\",\"type\":\"scatter\"},{\"hoverinfo\":\"text\",\"marker\":{\"color\":\"rgb(0,116,217)\"},\"mode\":\"lines\",\"x\":[445.0,445.0,463.75,463.75],\"xaxis\":\"x\",\"y\":[0.0,0.17458865949797064,0.17458865949797064,0.08605469010872727],\"yaxis\":\"y\",\"type\":\"scatter\"},{\"hoverinfo\":\"text\",\"marker\":{\"color\":\"rgb(0,116,217)\"},\"mode\":\"lines\",\"x\":[435.0,435.0,454.375,454.375],\"xaxis\":\"x\",\"y\":[0.0,0.35712319312969326,0.35712319312969326,0.17458865949797064],\"yaxis\":\"y\",\"type\":\"scatter\"},{\"hoverinfo\":\"text\",\"marker\":{\"color\":\"rgb(0,116,217)\"},\"mode\":\"lines\",\"x\":[505.0,505.0,515.0,515.0],\"xaxis\":\"x\",\"y\":[0.0,0.035622098211350504,0.035622098211350504,0.0],\"yaxis\":\"y\",\"type\":\"scatter\"},{\"hoverinfo\":\"text\",\"marker\":{\"color\":\"rgb(0,116,217)\"},\"mode\":\"lines\",\"x\":[495.0,495.0,510.0,510.0],\"xaxis\":\"x\",\"y\":[0.0,0.09998092502722122,0.09998092502722122,0.035622098211350504],\"yaxis\":\"y\",\"type\":\"scatter\"},{\"hoverinfo\":\"text\",\"marker\":{\"color\":\"rgb(0,116,217)\"},\"mode\":\"lines\",\"x\":[525.0,525.0,535.0,535.0],\"xaxis\":\"x\",\"y\":[0.0,0.17309421596559818,0.17309421596559818,0.0],\"yaxis\":\"y\",\"type\":\"scatter\"},{\"hoverinfo\":\"text\",\"marker\":{\"color\":\"rgb(0,116,217)\"},\"mode\":\"lines\",\"x\":[502.5,502.5,530.0,530.0],\"xaxis\":\"x\",\"y\":[0.09998092502722122,0.36122033783249796,0.36122033783249796,0.17309421596559818],\"yaxis\":\"y\",\"type\":\"scatter\"},{\"hoverinfo\":\"text\",\"marker\":{\"color\":\"rgb(0,116,217)\"},\"mode\":\"lines\",\"x\":[444.6875,444.6875,516.25,516.25],\"xaxis\":\"x\",\"y\":[0.35712319312969326,0.7680432507582611,0.7680432507582611,0.36122033783249796],\"yaxis\":\"y\",\"type\":\"scatter\"},{\"hoverinfo\":\"text\",\"marker\":{\"color\":\"rgb(0,116,217)\"},\"mode\":\"lines\",\"x\":[380.625,380.625,480.46875,480.46875],\"xaxis\":\"x\",\"y\":[0.6836007069336827,1.1643632578186878,1.1643632578186878,0.7680432507582611],\"yaxis\":\"y\",\"type\":\"scatter\"},{\"hoverinfo\":\"text\",\"marker\":{\"color\":\"rgb(0,116,217)\"},\"mode\":\"lines\",\"x\":[273.75,273.75,430.546875,430.546875],\"xaxis\":\"x\",\"y\":[0.9109897284088586,1.4992475482967917,1.4992475482967917,1.1643632578186878],\"yaxis\":\"y\",\"type\":\"scatter\"},{\"hoverinfo\":\"text\",\"marker\":{\"color\":\"rgb(0,116,217)\"},\"mode\":\"lines\",\"x\":[545.0,545.0,555.0,555.0],\"xaxis\":\"x\",\"y\":[0.0,0.5668072692970131,0.5668072692970131,0.0],\"yaxis\":\"y\",\"type\":\"scatter\"},{\"hoverinfo\":\"text\",\"marker\":{\"color\":\"rgb(0,116,217)\"},\"mode\":\"lines\",\"x\":[585.0,585.0,595.0,595.0],\"xaxis\":\"x\",\"y\":[0.0,0.007903263460014106,0.007903263460014106,0.0],\"yaxis\":\"y\",\"type\":\"scatter\"},{\"hoverinfo\":\"text\",\"marker\":{\"color\":\"rgb(0,116,217)\"},\"mode\":\"lines\",\"x\":[575.0,575.0,590.0,590.0],\"xaxis\":\"x\",\"y\":[0.0,0.022878836659582062,0.022878836659582062,0.007903263460014106],\"yaxis\":\"y\",\"type\":\"scatter\"},{\"hoverinfo\":\"text\",\"marker\":{\"color\":\"rgb(0,116,217)\"},\"mode\":\"lines\",\"x\":[565.0,565.0,582.5,582.5],\"xaxis\":\"x\",\"y\":[0.0,0.04747996260196008,0.04747996260196008,0.022878836659582062],\"yaxis\":\"y\",\"type\":\"scatter\"},{\"hoverinfo\":\"text\",\"marker\":{\"color\":\"rgb(0,116,217)\"},\"mode\":\"lines\",\"x\":[625.0,625.0,635.0,635.0],\"xaxis\":\"x\",\"y\":[0.0,0.054453363523674955,0.054453363523674955,0.0],\"yaxis\":\"y\",\"type\":\"scatter\"},{\"hoverinfo\":\"text\",\"marker\":{\"color\":\"rgb(0,116,217)\"},\"mode\":\"lines\",\"x\":[615.0,615.0,630.0,630.0],\"xaxis\":\"x\",\"y\":[0.0,0.10712640287520392,0.10712640287520392,0.054453363523674955],\"yaxis\":\"y\",\"type\":\"scatter\"},{\"hoverinfo\":\"text\",\"marker\":{\"color\":\"rgb(0,116,217)\"},\"mode\":\"lines\",\"x\":[605.0,605.0,622.5,622.5],\"xaxis\":\"x\",\"y\":[0.0,0.14456100897061394,0.14456100897061394,0.10712640287520392],\"yaxis\":\"y\",\"type\":\"scatter\"},{\"hoverinfo\":\"text\",\"marker\":{\"color\":\"rgb(0,116,217)\"},\"mode\":\"lines\",\"x\":[645.0,645.0,655.0,655.0],\"xaxis\":\"x\",\"y\":[0.0,0.23256644366898482,0.23256644366898482,0.0],\"yaxis\":\"y\",\"type\":\"scatter\"},{\"hoverinfo\":\"text\",\"marker\":{\"color\":\"rgb(0,116,217)\"},\"mode\":\"lines\",\"x\":[613.75,613.75,650.0,650.0],\"xaxis\":\"x\",\"y\":[0.14456100897061394,0.5359567875567587,0.5359567875567587,0.23256644366898482],\"yaxis\":\"y\",\"type\":\"scatter\"},{\"hoverinfo\":\"text\",\"marker\":{\"color\":\"rgb(0,116,217)\"},\"mode\":\"lines\",\"x\":[573.75,573.75,631.875,631.875],\"xaxis\":\"x\",\"y\":[0.04747996260196008,0.9769785074326315,0.9769785074326315,0.5359567875567587],\"yaxis\":\"y\",\"type\":\"scatter\"},{\"hoverinfo\":\"text\",\"marker\":{\"color\":\"rgb(0,116,217)\"},\"mode\":\"lines\",\"x\":[550.0,550.0,602.8125,602.8125],\"xaxis\":\"x\",\"y\":[0.5668072692970131,1.7674178256810742,1.7674178256810742,0.9769785074326315],\"yaxis\":\"y\",\"type\":\"scatter\"},{\"hoverinfo\":\"text\",\"marker\":{\"color\":\"rgb(0,116,217)\"},\"mode\":\"lines\",\"x\":[352.1484375,352.1484375,576.40625,576.40625],\"xaxis\":\"x\",\"y\":[1.4992475482967917,2.521437463908596,2.521437463908596,1.7674178256810742],\"yaxis\":\"y\",\"type\":\"scatter\"},{\"hoverinfo\":\"text\",\"marker\":{\"color\":\"rgb(0,116,217)\"},\"mode\":\"lines\",\"x\":[150.390625,150.390625,464.27734375,464.27734375],\"xaxis\":\"x\",\"y\":[2.3242277094737087,3.750213610104264,3.750213610104264,2.521437463908596],\"yaxis\":\"y\",\"type\":\"scatter\"},{\"hoverinfo\":\"text\",\"marker\":{\"color\":\"rgb(0,116,217)\"},\"mode\":\"lines\",\"x\":[665.0,665.0,675.0,675.0],\"xaxis\":\"x\",\"y\":[0.0,0.7861183465630911,0.7861183465630911,0.0],\"yaxis\":\"y\",\"type\":\"scatter\"},{\"hoverinfo\":\"text\",\"marker\":{\"color\":\"rgb(0,116,217)\"},\"mode\":\"lines\",\"x\":[685.0,685.0,695.0,695.0],\"xaxis\":\"x\",\"y\":[0.0,0.8198689941583669,0.8198689941583669,0.0],\"yaxis\":\"y\",\"type\":\"scatter\"},{\"hoverinfo\":\"text\",\"marker\":{\"color\":\"rgb(0,116,217)\"},\"mode\":\"lines\",\"x\":[670.0,670.0,690.0,690.0],\"xaxis\":\"x\",\"y\":[0.7861183465630911,1.7477778624361409,1.7477778624361409,0.8198689941583669],\"yaxis\":\"y\",\"type\":\"scatter\"},{\"hoverinfo\":\"text\",\"marker\":{\"color\":\"rgb(0,116,217)\"},\"mode\":\"lines\",\"x\":[705.0,705.0,715.0,715.0],\"xaxis\":\"x\",\"y\":[0.0,0.5366606578077933,0.5366606578077933,0.0],\"yaxis\":\"y\",\"type\":\"scatter\"},{\"hoverinfo\":\"text\",\"marker\":{\"color\":\"rgb(0,116,217)\"},\"mode\":\"lines\",\"x\":[725.0,725.0,735.0,735.0],\"xaxis\":\"x\",\"y\":[0.0,0.7529580802835305,0.7529580802835305,0.0],\"yaxis\":\"y\",\"type\":\"scatter\"},{\"hoverinfo\":\"text\",\"marker\":{\"color\":\"rgb(0,116,217)\"},\"mode\":\"lines\",\"x\":[710.0,710.0,730.0,730.0],\"xaxis\":\"x\",\"y\":[0.5366606578077933,1.0669793639517484,1.0669793639517484,0.7529580802835305],\"yaxis\":\"y\",\"type\":\"scatter\"},{\"hoverinfo\":\"text\",\"marker\":{\"color\":\"rgb(0,116,217)\"},\"mode\":\"lines\",\"x\":[745.0,745.0,755.0,755.0],\"xaxis\":\"x\",\"y\":[0.0,0.5786652999636586,0.5786652999636586,0.0],\"yaxis\":\"y\",\"type\":\"scatter\"},{\"hoverinfo\":\"text\",\"marker\":{\"color\":\"rgb(0,116,217)\"},\"mode\":\"lines\",\"x\":[765.0,765.0,775.0,775.0],\"xaxis\":\"x\",\"y\":[0.0,0.6216295542021024,0.6216295542021024,0.0],\"yaxis\":\"y\",\"type\":\"scatter\"},{\"hoverinfo\":\"text\",\"marker\":{\"color\":\"rgb(0,116,217)\"},\"mode\":\"lines\",\"x\":[750.0,750.0,770.0,770.0],\"xaxis\":\"x\",\"y\":[0.5786652999636586,1.5109968198907744,1.5109968198907744,0.6216295542021024],\"yaxis\":\"y\",\"type\":\"scatter\"},{\"hoverinfo\":\"text\",\"marker\":{\"color\":\"rgb(0,116,217)\"},\"mode\":\"lines\",\"x\":[720.0,720.0,760.0,760.0],\"xaxis\":\"x\",\"y\":[1.0669793639517484,2.1856846597915878,2.1856846597915878,1.5109968198907744],\"yaxis\":\"y\",\"type\":\"scatter\"},{\"hoverinfo\":\"text\",\"marker\":{\"color\":\"rgb(0,116,217)\"},\"mode\":\"lines\",\"x\":[680.0,680.0,740.0,740.0],\"xaxis\":\"x\",\"y\":[1.7477778624361409,3.338693100370846,3.338693100370846,2.1856846597915878],\"yaxis\":\"y\",\"type\":\"scatter\"},{\"hoverinfo\":\"text\",\"marker\":{\"color\":\"rgb(0,116,217)\"},\"mode\":\"lines\",\"x\":[795.0,795.0,805.0,805.0],\"xaxis\":\"x\",\"y\":[0.0,0.8726212740125439,0.8726212740125439,0.0],\"yaxis\":\"y\",\"type\":\"scatter\"},{\"hoverinfo\":\"text\",\"marker\":{\"color\":\"rgb(0,116,217)\"},\"mode\":\"lines\",\"x\":[785.0,785.0,800.0,800.0],\"xaxis\":\"x\",\"y\":[0.0,1.2258181538793964,1.2258181538793964,0.8726212740125439],\"yaxis\":\"y\",\"type\":\"scatter\"},{\"hoverinfo\":\"text\",\"marker\":{\"color\":\"rgb(0,116,217)\"},\"mode\":\"lines\",\"x\":[835.0,835.0,845.0,845.0],\"xaxis\":\"x\",\"y\":[0.0,0.1884890346927667,0.1884890346927667,0.0],\"yaxis\":\"y\",\"type\":\"scatter\"},{\"hoverinfo\":\"text\",\"marker\":{\"color\":\"rgb(0,116,217)\"},\"mode\":\"lines\",\"x\":[825.0,825.0,840.0,840.0],\"xaxis\":\"x\",\"y\":[0.0,0.49633186230568954,0.49633186230568954,0.1884890346927667],\"yaxis\":\"y\",\"type\":\"scatter\"},{\"hoverinfo\":\"text\",\"marker\":{\"color\":\"rgb(0,116,217)\"},\"mode\":\"lines\",\"x\":[815.0,815.0,832.5,832.5],\"xaxis\":\"x\",\"y\":[0.0,0.5839359787222499,0.5839359787222499,0.49633186230568954],\"yaxis\":\"y\",\"type\":\"scatter\"},{\"hoverinfo\":\"text\",\"marker\":{\"color\":\"rgb(0,116,217)\"},\"mode\":\"lines\",\"x\":[855.0,855.0,865.0,865.0],\"xaxis\":\"x\",\"y\":[0.0,0.6957029818566903,0.6957029818566903,0.0],\"yaxis\":\"y\",\"type\":\"scatter\"},{\"hoverinfo\":\"text\",\"marker\":{\"color\":\"rgb(0,116,217)\"},\"mode\":\"lines\",\"x\":[823.75,823.75,860.0,860.0],\"xaxis\":\"x\",\"y\":[0.5839359787222499,1.4779622292043626,1.4779622292043626,0.6957029818566903],\"yaxis\":\"y\",\"type\":\"scatter\"},{\"hoverinfo\":\"text\",\"marker\":{\"color\":\"rgb(0,116,217)\"},\"mode\":\"lines\",\"x\":[792.5,792.5,841.875,841.875],\"xaxis\":\"x\",\"y\":[1.2258181538793964,2.3738511813585776,2.3738511813585776,1.4779622292043626],\"yaxis\":\"y\",\"type\":\"scatter\"},{\"hoverinfo\":\"text\",\"marker\":{\"color\":\"rgb(0,116,217)\"},\"mode\":\"lines\",\"x\":[885.0,885.0,895.0,895.0],\"xaxis\":\"x\",\"y\":[0.0,0.5087205299862883,0.5087205299862883,0.0],\"yaxis\":\"y\",\"type\":\"scatter\"},{\"hoverinfo\":\"text\",\"marker\":{\"color\":\"rgb(0,116,217)\"},\"mode\":\"lines\",\"x\":[875.0,875.0,890.0,890.0],\"xaxis\":\"x\",\"y\":[0.0,1.0413002673543075,1.0413002673543075,0.5087205299862883],\"yaxis\":\"y\",\"type\":\"scatter\"},{\"hoverinfo\":\"text\",\"marker\":{\"color\":\"rgb(0,116,217)\"},\"mode\":\"lines\",\"x\":[905.0,905.0,915.0,915.0],\"xaxis\":\"x\",\"y\":[0.0,0.5951648134302772,0.5951648134302772,0.0],\"yaxis\":\"y\",\"type\":\"scatter\"},{\"hoverinfo\":\"text\",\"marker\":{\"color\":\"rgb(0,116,217)\"},\"mode\":\"lines\",\"x\":[945.0,945.0,955.0,955.0],\"xaxis\":\"x\",\"y\":[0.0,0.5106780368471834,0.5106780368471834,0.0],\"yaxis\":\"y\",\"type\":\"scatter\"},{\"hoverinfo\":\"text\",\"marker\":{\"color\":\"rgb(0,116,217)\"},\"mode\":\"lines\",\"x\":[935.0,935.0,950.0,950.0],\"xaxis\":\"x\",\"y\":[0.0,0.660955826499544,0.660955826499544,0.5106780368471834],\"yaxis\":\"y\",\"type\":\"scatter\"},{\"hoverinfo\":\"text\",\"marker\":{\"color\":\"rgb(0,116,217)\"},\"mode\":\"lines\",\"x\":[925.0,925.0,942.5,942.5],\"xaxis\":\"x\",\"y\":[0.0,1.2226609380025997,1.2226609380025997,0.660955826499544],\"yaxis\":\"y\",\"type\":\"scatter\"},{\"hoverinfo\":\"text\",\"marker\":{\"color\":\"rgb(0,116,217)\"},\"mode\":\"lines\",\"x\":[910.0,910.0,933.75,933.75],\"xaxis\":\"x\",\"y\":[0.5951648134302772,1.719078877227287,1.719078877227287,1.2226609380025997],\"yaxis\":\"y\",\"type\":\"scatter\"},{\"hoverinfo\":\"text\",\"marker\":{\"color\":\"rgb(0,116,217)\"},\"mode\":\"lines\",\"x\":[882.5,882.5,921.875,921.875],\"xaxis\":\"x\",\"y\":[1.0413002673543075,2.4214264384052973,2.4214264384052973,1.719078877227287],\"yaxis\":\"y\",\"type\":\"scatter\"},{\"hoverinfo\":\"text\",\"marker\":{\"color\":\"rgb(0,116,217)\"},\"mode\":\"lines\",\"x\":[817.1875,817.1875,902.1875,902.1875],\"xaxis\":\"x\",\"y\":[2.3738511813585776,4.054166029458404,4.054166029458404,2.4214264384052973],\"yaxis\":\"y\",\"type\":\"scatter\"},{\"hoverinfo\":\"text\",\"marker\":{\"color\":\"rgb(0,116,217)\"},\"mode\":\"lines\",\"x\":[710.0,710.0,859.6875,859.6875],\"xaxis\":\"x\",\"y\":[3.338693100370846,5.976785115797215,5.976785115797215,4.054166029458404],\"yaxis\":\"y\",\"type\":\"scatter\"},{\"hoverinfo\":\"text\",\"marker\":{\"color\":\"rgb(0,116,217)\"},\"mode\":\"lines\",\"x\":[307.333984375,307.333984375,784.84375,784.84375],\"xaxis\":\"x\",\"y\":[3.750213610104264,10.02814661396305,10.02814661396305,5.976785115797215],\"yaxis\":\"y\",\"type\":\"scatter\"}],                        {\"autosize\":false,\"height\":500,\"hovermode\":\"closest\",\"showlegend\":false,\"width\":800,\"xaxis\":{\"mirror\":\"allticks\",\"rangemode\":\"tozero\",\"showgrid\":false,\"showline\":true,\"showticklabels\":true,\"tickmode\":\"array\",\"ticks\":\"outside\",\"ticktext\":[\"71\",\"41\",\"5\",\"89\",\"4\",\"40\",\"70\",\"94\",\"22\",\"88\",\"64\",\"52\",\"76\",\"82\",\"53\",\"23\",\"95\",\"77\",\"65\",\"83\",\"47\",\"45\",\"46\",\"39\",\"69\",\"3\",\"87\",\"75\",\"51\",\"81\",\"21\",\"63\",\"93\",\"86\",\"20\",\"44\",\"38\",\"2\",\"68\",\"37\",\"67\",\"1\",\"85\",\"73\",\"19\",\"49\",\"61\",\"79\",\"91\",\"92\",\"50\",\"80\",\"62\",\"74\",\"42\",\"43\",\"36\",\"66\",\"0\",\"84\",\"48\",\"18\",\"60\",\"90\",\"72\",\"78\",\"10\",\"11\",\"16\",\"17\",\"12\",\"13\",\"6\",\"7\",\"14\",\"15\",\"8\",\"9\",\"35\",\"28\",\"29\",\"58\",\"27\",\"33\",\"57\",\"34\",\"59\",\"25\",\"24\",\"54\",\"30\",\"55\",\"56\",\"31\",\"26\",\"32\"],\"tickvals\":[5.0,15.0,25.0,35.0,45.0,55.0,65.0,75.0,85.0,95.0,105.0,115.0,125.0,135.0,145.0,155.0,165.0,175.0,185.0,195.0,205.0,215.0,225.0,235.0,245.0,255.0,265.0,275.0,285.0,295.0,305.0,315.0,325.0,335.0,345.0,355.0,365.0,375.0,385.0,395.0,405.0,415.0,425.0,435.0,445.0,455.0,465.0,475.0,485.0,495.0,505.0,515.0,525.0,535.0,545.0,555.0,565.0,575.0,585.0,595.0,605.0,615.0,625.0,635.0,645.0,655.0,665.0,675.0,685.0,695.0,705.0,715.0,725.0,735.0,745.0,755.0,765.0,775.0,785.0,795.0,805.0,815.0,825.0,835.0,845.0,855.0,865.0,875.0,885.0,895.0,905.0,915.0,925.0,935.0,945.0,955.0],\"type\":\"linear\",\"zeroline\":false},\"yaxis\":{\"mirror\":\"allticks\",\"rangemode\":\"tozero\",\"showgrid\":false,\"showline\":true,\"showticklabels\":true,\"ticks\":\"outside\",\"type\":\"linear\",\"zeroline\":false},\"template\":{\"data\":{\"bar\":[{\"error_x\":{\"color\":\"#2a3f5f\"},\"error_y\":{\"color\":\"#2a3f5f\"},\"marker\":{\"line\":{\"color\":\"#E5ECF6\",\"width\":0.5},\"pattern\":{\"fillmode\":\"overlay\",\"size\":10,\"solidity\":0.2}},\"type\":\"bar\"}],\"barpolar\":[{\"marker\":{\"line\":{\"color\":\"#E5ECF6\",\"width\":0.5},\"pattern\":{\"fillmode\":\"overlay\",\"size\":10,\"solidity\":0.2}},\"type\":\"barpolar\"}],\"carpet\":[{\"aaxis\":{\"endlinecolor\":\"#2a3f5f\",\"gridcolor\":\"white\",\"linecolor\":\"white\",\"minorgridcolor\":\"white\",\"startlinecolor\":\"#2a3f5f\"},\"baxis\":{\"endlinecolor\":\"#2a3f5f\",\"gridcolor\":\"white\",\"linecolor\":\"white\",\"minorgridcolor\":\"white\",\"startlinecolor\":\"#2a3f5f\"},\"type\":\"carpet\"}],\"choropleth\":[{\"colorbar\":{\"outlinewidth\":0,\"ticks\":\"\"},\"type\":\"choropleth\"}],\"contour\":[{\"colorbar\":{\"outlinewidth\":0,\"ticks\":\"\"},\"colorscale\":[[0.0,\"#0d0887\"],[0.1111111111111111,\"#46039f\"],[0.2222222222222222,\"#7201a8\"],[0.3333333333333333,\"#9c179e\"],[0.4444444444444444,\"#bd3786\"],[0.5555555555555556,\"#d8576b\"],[0.6666666666666666,\"#ed7953\"],[0.7777777777777778,\"#fb9f3a\"],[0.8888888888888888,\"#fdca26\"],[1.0,\"#f0f921\"]],\"type\":\"contour\"}],\"contourcarpet\":[{\"colorbar\":{\"outlinewidth\":0,\"ticks\":\"\"},\"type\":\"contourcarpet\"}],\"heatmap\":[{\"colorbar\":{\"outlinewidth\":0,\"ticks\":\"\"},\"colorscale\":[[0.0,\"#0d0887\"],[0.1111111111111111,\"#46039f\"],[0.2222222222222222,\"#7201a8\"],[0.3333333333333333,\"#9c179e\"],[0.4444444444444444,\"#bd3786\"],[0.5555555555555556,\"#d8576b\"],[0.6666666666666666,\"#ed7953\"],[0.7777777777777778,\"#fb9f3a\"],[0.8888888888888888,\"#fdca26\"],[1.0,\"#f0f921\"]],\"type\":\"heatmap\"}],\"heatmapgl\":[{\"colorbar\":{\"outlinewidth\":0,\"ticks\":\"\"},\"colorscale\":[[0.0,\"#0d0887\"],[0.1111111111111111,\"#46039f\"],[0.2222222222222222,\"#7201a8\"],[0.3333333333333333,\"#9c179e\"],[0.4444444444444444,\"#bd3786\"],[0.5555555555555556,\"#d8576b\"],[0.6666666666666666,\"#ed7953\"],[0.7777777777777778,\"#fb9f3a\"],[0.8888888888888888,\"#fdca26\"],[1.0,\"#f0f921\"]],\"type\":\"heatmapgl\"}],\"histogram\":[{\"marker\":{\"pattern\":{\"fillmode\":\"overlay\",\"size\":10,\"solidity\":0.2}},\"type\":\"histogram\"}],\"histogram2d\":[{\"colorbar\":{\"outlinewidth\":0,\"ticks\":\"\"},\"colorscale\":[[0.0,\"#0d0887\"],[0.1111111111111111,\"#46039f\"],[0.2222222222222222,\"#7201a8\"],[0.3333333333333333,\"#9c179e\"],[0.4444444444444444,\"#bd3786\"],[0.5555555555555556,\"#d8576b\"],[0.6666666666666666,\"#ed7953\"],[0.7777777777777778,\"#fb9f3a\"],[0.8888888888888888,\"#fdca26\"],[1.0,\"#f0f921\"]],\"type\":\"histogram2d\"}],\"histogram2dcontour\":[{\"colorbar\":{\"outlinewidth\":0,\"ticks\":\"\"},\"colorscale\":[[0.0,\"#0d0887\"],[0.1111111111111111,\"#46039f\"],[0.2222222222222222,\"#7201a8\"],[0.3333333333333333,\"#9c179e\"],[0.4444444444444444,\"#bd3786\"],[0.5555555555555556,\"#d8576b\"],[0.6666666666666666,\"#ed7953\"],[0.7777777777777778,\"#fb9f3a\"],[0.8888888888888888,\"#fdca26\"],[1.0,\"#f0f921\"]],\"type\":\"histogram2dcontour\"}],\"mesh3d\":[{\"colorbar\":{\"outlinewidth\":0,\"ticks\":\"\"},\"type\":\"mesh3d\"}],\"parcoords\":[{\"line\":{\"colorbar\":{\"outlinewidth\":0,\"ticks\":\"\"}},\"type\":\"parcoords\"}],\"pie\":[{\"automargin\":true,\"type\":\"pie\"}],\"scatter\":[{\"marker\":{\"colorbar\":{\"outlinewidth\":0,\"ticks\":\"\"}},\"type\":\"scatter\"}],\"scatter3d\":[{\"line\":{\"colorbar\":{\"outlinewidth\":0,\"ticks\":\"\"}},\"marker\":{\"colorbar\":{\"outlinewidth\":0,\"ticks\":\"\"}},\"type\":\"scatter3d\"}],\"scattercarpet\":[{\"marker\":{\"colorbar\":{\"outlinewidth\":0,\"ticks\":\"\"}},\"type\":\"scattercarpet\"}],\"scattergeo\":[{\"marker\":{\"colorbar\":{\"outlinewidth\":0,\"ticks\":\"\"}},\"type\":\"scattergeo\"}],\"scattergl\":[{\"marker\":{\"colorbar\":{\"outlinewidth\":0,\"ticks\":\"\"}},\"type\":\"scattergl\"}],\"scattermapbox\":[{\"marker\":{\"colorbar\":{\"outlinewidth\":0,\"ticks\":\"\"}},\"type\":\"scattermapbox\"}],\"scatterpolar\":[{\"marker\":{\"colorbar\":{\"outlinewidth\":0,\"ticks\":\"\"}},\"type\":\"scatterpolar\"}],\"scatterpolargl\":[{\"marker\":{\"colorbar\":{\"outlinewidth\":0,\"ticks\":\"\"}},\"type\":\"scatterpolargl\"}],\"scatterternary\":[{\"marker\":{\"colorbar\":{\"outlinewidth\":0,\"ticks\":\"\"}},\"type\":\"scatterternary\"}],\"surface\":[{\"colorbar\":{\"outlinewidth\":0,\"ticks\":\"\"},\"colorscale\":[[0.0,\"#0d0887\"],[0.1111111111111111,\"#46039f\"],[0.2222222222222222,\"#7201a8\"],[0.3333333333333333,\"#9c179e\"],[0.4444444444444444,\"#bd3786\"],[0.5555555555555556,\"#d8576b\"],[0.6666666666666666,\"#ed7953\"],[0.7777777777777778,\"#fb9f3a\"],[0.8888888888888888,\"#fdca26\"],[1.0,\"#f0f921\"]],\"type\":\"surface\"}],\"table\":[{\"cells\":{\"fill\":{\"color\":\"#EBF0F8\"},\"line\":{\"color\":\"white\"}},\"header\":{\"fill\":{\"color\":\"#C8D4E3\"},\"line\":{\"color\":\"white\"}},\"type\":\"table\"}]},\"layout\":{\"annotationdefaults\":{\"arrowcolor\":\"#2a3f5f\",\"arrowhead\":0,\"arrowwidth\":1},\"autotypenumbers\":\"strict\",\"coloraxis\":{\"colorbar\":{\"outlinewidth\":0,\"ticks\":\"\"}},\"colorscale\":{\"diverging\":[[0,\"#8e0152\"],[0.1,\"#c51b7d\"],[0.2,\"#de77ae\"],[0.3,\"#f1b6da\"],[0.4,\"#fde0ef\"],[0.5,\"#f7f7f7\"],[0.6,\"#e6f5d0\"],[0.7,\"#b8e186\"],[0.8,\"#7fbc41\"],[0.9,\"#4d9221\"],[1,\"#276419\"]],\"sequential\":[[0.0,\"#0d0887\"],[0.1111111111111111,\"#46039f\"],[0.2222222222222222,\"#7201a8\"],[0.3333333333333333,\"#9c179e\"],[0.4444444444444444,\"#bd3786\"],[0.5555555555555556,\"#d8576b\"],[0.6666666666666666,\"#ed7953\"],[0.7777777777777778,\"#fb9f3a\"],[0.8888888888888888,\"#fdca26\"],[1.0,\"#f0f921\"]],\"sequentialminus\":[[0.0,\"#0d0887\"],[0.1111111111111111,\"#46039f\"],[0.2222222222222222,\"#7201a8\"],[0.3333333333333333,\"#9c179e\"],[0.4444444444444444,\"#bd3786\"],[0.5555555555555556,\"#d8576b\"],[0.6666666666666666,\"#ed7953\"],[0.7777777777777778,\"#fb9f3a\"],[0.8888888888888888,\"#fdca26\"],[1.0,\"#f0f921\"]]},\"colorway\":[\"#636efa\",\"#EF553B\",\"#00cc96\",\"#ab63fa\",\"#FFA15A\",\"#19d3f3\",\"#FF6692\",\"#B6E880\",\"#FF97FF\",\"#FECB52\"],\"font\":{\"color\":\"#2a3f5f\"},\"geo\":{\"bgcolor\":\"white\",\"lakecolor\":\"white\",\"landcolor\":\"#E5ECF6\",\"showlakes\":true,\"showland\":true,\"subunitcolor\":\"white\"},\"hoverlabel\":{\"align\":\"left\"},\"hovermode\":\"closest\",\"mapbox\":{\"style\":\"light\"},\"paper_bgcolor\":\"white\",\"plot_bgcolor\":\"#E5ECF6\",\"polar\":{\"angularaxis\":{\"gridcolor\":\"white\",\"linecolor\":\"white\",\"ticks\":\"\"},\"bgcolor\":\"#E5ECF6\",\"radialaxis\":{\"gridcolor\":\"white\",\"linecolor\":\"white\",\"ticks\":\"\"}},\"scene\":{\"xaxis\":{\"backgroundcolor\":\"#E5ECF6\",\"gridcolor\":\"white\",\"gridwidth\":2,\"linecolor\":\"white\",\"showbackground\":true,\"ticks\":\"\",\"zerolinecolor\":\"white\"},\"yaxis\":{\"backgroundcolor\":\"#E5ECF6\",\"gridcolor\":\"white\",\"gridwidth\":2,\"linecolor\":\"white\",\"showbackground\":true,\"ticks\":\"\",\"zerolinecolor\":\"white\"},\"zaxis\":{\"backgroundcolor\":\"#E5ECF6\",\"gridcolor\":\"white\",\"gridwidth\":2,\"linecolor\":\"white\",\"showbackground\":true,\"ticks\":\"\",\"zerolinecolor\":\"white\"}},\"shapedefaults\":{\"line\":{\"color\":\"#2a3f5f\"}},\"ternary\":{\"aaxis\":{\"gridcolor\":\"white\",\"linecolor\":\"white\",\"ticks\":\"\"},\"baxis\":{\"gridcolor\":\"white\",\"linecolor\":\"white\",\"ticks\":\"\"},\"bgcolor\":\"#E5ECF6\",\"caxis\":{\"gridcolor\":\"white\",\"linecolor\":\"white\",\"ticks\":\"\"}},\"title\":{\"x\":0.05},\"xaxis\":{\"automargin\":true,\"gridcolor\":\"white\",\"linecolor\":\"white\",\"ticks\":\"\",\"title\":{\"standoff\":15},\"zerolinecolor\":\"white\",\"zerolinewidth\":2},\"yaxis\":{\"automargin\":true,\"gridcolor\":\"white\",\"linecolor\":\"white\",\"ticks\":\"\",\"title\":{\"standoff\":15},\"zerolinecolor\":\"white\",\"zerolinewidth\":2}}}},                        {\"responsive\": true}                    ).then(function(){\n",
       "                            \n",
       "var gd = document.getElementById('dff432d5-7f77-4e81-a10d-ae0fd943e191');\n",
       "var x = new MutationObserver(function (mutations, observer) {{\n",
       "        var display = window.getComputedStyle(gd).display;\n",
       "        if (!display || display === 'none') {{\n",
       "            console.log([gd, 'removed!']);\n",
       "            Plotly.purge(gd);\n",
       "            observer.disconnect();\n",
       "        }}\n",
       "}});\n",
       "\n",
       "// Listen for the removal of the full notebook cells\n",
       "var notebookContainer = gd.closest('#notebook-container');\n",
       "if (notebookContainer) {{\n",
       "    x.observe(notebookContainer, {childList: true});\n",
       "}}\n",
       "\n",
       "// Listen for the clearing of the current output cell\n",
       "var outputEl = gd.closest('.output');\n",
       "if (outputEl) {{\n",
       "    x.observe(outputEl, {childList: true});\n",
       "}}\n",
       "\n",
       "                        })                };                });            </script>        </div>"
      ]
     },
     "metadata": {},
     "output_type": "display_data"
    }
   ],
   "source": [
    "# Create the dendrogram\n",
    "fig = ff.create_dendrogram(df_crime_pca, color_threshold=0)\n",
    "fig.update_layout(width=800, height=500)\n",
    "fig.show()"
   ]
  },
  {
   "cell_type": "code",
   "execution_count": 28,
   "id": "979151a6",
   "metadata": {},
   "outputs": [],
   "source": [
    "agg = AgglomerativeClustering(n_clusters=3)\n",
    "model = agg.fit(df_crime_pca)"
   ]
  },
  {
   "cell_type": "code",
   "execution_count": 29,
   "id": "1d24cf17",
   "metadata": {},
   "outputs": [
    {
     "data": {},
     "metadata": {},
     "output_type": "display_data"
    },
    {
     "data": {
      "application/vnd.holoviews_exec.v0+json": "",
      "text/html": [
       "<div id='1428'>\n",
       "\n",
       "\n",
       "\n",
       "\n",
       "\n",
       "  <div class=\"bk-root\" id=\"fe98e455-a699-41ba-bfb4-0220b036b2d0\" data-root-id=\"1428\"></div>\n",
       "</div>\n",
       "<script type=\"application/javascript\">(function(root) {\n",
       "  function embed_document(root) {\n",
       "    var docs_json = {\"bdb2bba4-21bc-419e-8bd7-1b1895139009\":{\"defs\":[{\"extends\":null,\"module\":null,\"name\":\"ReactiveHTML1\",\"overrides\":[],\"properties\":[]},{\"extends\":null,\"module\":null,\"name\":\"FlexBox1\",\"overrides\":[],\"properties\":[{\"default\":\"flex-start\",\"kind\":null,\"name\":\"align_content\"},{\"default\":\"flex-start\",\"kind\":null,\"name\":\"align_items\"},{\"default\":\"row\",\"kind\":null,\"name\":\"flex_direction\"},{\"default\":\"wrap\",\"kind\":null,\"name\":\"flex_wrap\"},{\"default\":\"flex-start\",\"kind\":null,\"name\":\"justify_content\"}]},{\"extends\":null,\"module\":null,\"name\":\"GridStack1\",\"overrides\":[],\"properties\":[{\"default\":\"warn\",\"kind\":null,\"name\":\"mode\"},{\"default\":null,\"kind\":null,\"name\":\"ncols\"},{\"default\":null,\"kind\":null,\"name\":\"nrows\"},{\"default\":true,\"kind\":null,\"name\":\"allow_resize\"},{\"default\":true,\"kind\":null,\"name\":\"allow_drag\"},{\"default\":[],\"kind\":null,\"name\":\"state\"}]},{\"extends\":null,\"module\":null,\"name\":\"click1\",\"overrides\":[],\"properties\":[{\"default\":\"\",\"kind\":null,\"name\":\"terminal_output\"},{\"default\":\"\",\"kind\":null,\"name\":\"debug_name\"},{\"default\":0,\"kind\":null,\"name\":\"clears\"}]},{\"extends\":null,\"module\":null,\"name\":\"TemplateActions1\",\"overrides\":[],\"properties\":[{\"default\":0,\"kind\":null,\"name\":\"open_modal\"},{\"default\":0,\"kind\":null,\"name\":\"close_modal\"}]},{\"extends\":null,\"module\":null,\"name\":\"MaterialTemplateActions1\",\"overrides\":[],\"properties\":[{\"default\":0,\"kind\":null,\"name\":\"open_modal\"},{\"default\":0,\"kind\":null,\"name\":\"close_modal\"}]}],\"roots\":{\"references\":[{\"attributes\":{\"source\":{\"id\":\"1514\"}},\"id\":\"1521\",\"type\":\"CDSView\"},{\"attributes\":{\"overlay\":{\"id\":\"1457\"}},\"id\":\"1455\",\"type\":\"BoxZoomTool\"},{\"attributes\":{},\"id\":\"1440\",\"type\":\"LinearScale\"},{\"attributes\":{\"source\":{\"id\":\"1471\"}},\"id\":\"1478\",\"type\":\"CDSView\"},{\"attributes\":{\"coordinates\":null,\"data_source\":{\"id\":\"1514\"},\"glyph\":{\"id\":\"1517\"},\"group\":null,\"hover_glyph\":null,\"muted_glyph\":{\"id\":\"1519\"},\"nonselection_glyph\":{\"id\":\"1518\"},\"selection_glyph\":{\"id\":\"1537\"},\"view\":{\"id\":\"1521\"}},\"id\":\"1520\",\"type\":\"GlyphRenderer\"},{\"attributes\":{\"label\":{\"value\":\"2\"},\"renderers\":[{\"id\":\"1520\"}]},\"id\":\"1536\",\"type\":\"LegendItem\"},{\"attributes\":{},\"id\":\"1449\",\"type\":\"BasicTicker\"},{\"attributes\":{},\"id\":\"1493\",\"type\":\"Selection\"},{\"attributes\":{\"coordinates\":null,\"group\":null,\"text_color\":\"black\",\"text_font_size\":\"12pt\"},\"id\":\"1436\",\"type\":\"Title\"},{\"attributes\":{\"label\":{\"value\":\"0\"},\"renderers\":[{\"id\":\"1477\"}]},\"id\":\"1490\",\"type\":\"LegendItem\"},{\"attributes\":{},\"id\":\"1445\",\"type\":\"BasicTicker\"},{\"attributes\":{},\"id\":\"1533\",\"type\":\"UnionRenderers\"},{\"attributes\":{\"fill_alpha\":{\"value\":0.2},\"fill_color\":{\"value\":\"#30a2da\"},\"hatch_alpha\":{\"value\":0.2},\"hatch_color\":{\"value\":\"#30a2da\"},\"line_alpha\":{\"value\":0.2},\"line_color\":{\"value\":\"#30a2da\"},\"size\":{\"value\":5.477225575051661},\"x\":{\"field\":\"principal component 1\"},\"y\":{\"field\":\"principal component 2\"}},\"id\":\"1476\",\"type\":\"Scatter\"},{\"attributes\":{\"axis\":{\"id\":\"1444\"},\"coordinates\":null,\"grid_line_color\":null,\"group\":null,\"ticker\":null},\"id\":\"1447\",\"type\":\"Grid\"},{\"attributes\":{\"fill_alpha\":{\"value\":0.1},\"fill_color\":{\"value\":\"#fc4f30\"},\"hatch_alpha\":{\"value\":0.1},\"hatch_color\":{\"value\":\"#fc4f30\"},\"line_alpha\":{\"value\":0.1},\"line_color\":{\"value\":\"#fc4f30\"},\"size\":{\"value\":5.477225575051661},\"x\":{\"field\":\"principal component 1\"},\"y\":{\"field\":\"principal component 2\"}},\"id\":\"1496\",\"type\":\"Scatter\"},{\"attributes\":{},\"id\":\"1466\",\"type\":\"BasicTickFormatter\"},{\"attributes\":{},\"id\":\"1467\",\"type\":\"AllLabels\"},{\"attributes\":{},\"id\":\"1486\",\"type\":\"UnionRenderers\"},{\"attributes\":{\"data\":{\"class\":{\"__ndarray__\":\"AQAAAAEAAAABAAAAAQAAAAEAAAABAAAAAQAAAAEAAAABAAAAAQAAAAEAAAABAAAAAQAAAAEAAAABAAAAAQAAAAEAAAABAAAA\",\"dtype\":\"int32\",\"order\":\"little\",\"shape\":[18]},\"principal component 1\":{\"__ndarray__\":\"f2OJbW4CGkAIm92+3LwaQO0IOIb4dBdAmr1jhELeF0Asqd3WXdkaQJQNSCNgCBxAz59ekXLkEkCdJYQJF3cWQBe0Ym7MahVALc3fRjsBFkA6MmVgc/YSQEzBa0fK1xdAl51YYOgFGEBXl6K11OgSQP4tyU2NMRNAg6DfDxYSFkDg2YLxcpQWQH6LWRANrRRA\",\"dtype\":\"float64\",\"order\":\"little\",\"shape\":[18]},\"principal component 2\":{\"__ndarray__\":\"4q7c24Vi/L+pPCRgQffrv1yuXoexYta/gRdNA2sp1D/IaF4cx47sP6C1j8Heafs/+1YdM+0q+r9Srr6/h8zuv+fBtD08Jti/Vr34LWQf3z9QvSFXLizwP0gkRWX/xf0/gY72IHqe+r8PQVjNMaXwvyjmN96jeau/pWEt6Psa0z+rt9ps2qrpP0rUUJ6v8fg/\",\"dtype\":\"float64\",\"order\":\"little\",\"shape\":[18]},\"principal_component_1\":{\"__ndarray__\":\"f2OJbW4CGkAIm92+3LwaQO0IOIb4dBdAmr1jhELeF0Asqd3WXdkaQJQNSCNgCBxAz59ekXLkEkCdJYQJF3cWQBe0Ym7MahVALc3fRjsBFkA6MmVgc/YSQEzBa0fK1xdAl51YYOgFGEBXl6K11OgSQP4tyU2NMRNAg6DfDxYSFkDg2YLxcpQWQH6LWRANrRRA\",\"dtype\":\"float64\",\"order\":\"little\",\"shape\":[18]},\"principal_component_2\":{\"__ndarray__\":\"4q7c24Vi/L+pPCRgQffrv1yuXoexYta/gRdNA2sp1D/IaF4cx47sP6C1j8Heafs/+1YdM+0q+r9Srr6/h8zuv+fBtD08Jti/Vr34LWQf3z9QvSFXLizwP0gkRWX/xf0/gY72IHqe+r8PQVjNMaXwvyjmN96jeau/pWEt6Psa0z+rt9ps2qrpP0rUUJ6v8fg/\",\"dtype\":\"float64\",\"order\":\"little\",\"shape\":[18]}},\"selected\":{\"id\":\"1493\"},\"selection_policy\":{\"id\":\"1509\"}},\"id\":\"1492\",\"type\":\"ColumnDataSource\"},{\"attributes\":{},\"id\":\"1442\",\"type\":\"LinearScale\"},{\"attributes\":{\"angle\":{\"value\":0.0},\"fill_alpha\":{\"value\":1.0},\"fill_color\":{\"value\":\"#e5ae38\"},\"hatch_alpha\":{\"value\":1.0},\"hatch_color\":{\"value\":\"#e5ae38\"},\"hatch_scale\":{\"value\":12.0},\"hatch_weight\":{\"value\":1.0},\"line_alpha\":{\"value\":1.0},\"line_cap\":{\"value\":\"butt\"},\"line_color\":{\"value\":\"#e5ae38\"},\"line_dash\":{\"value\":[]},\"line_dash_offset\":{\"value\":0},\"line_join\":{\"value\":\"bevel\"},\"line_width\":{\"value\":1},\"marker\":{\"value\":\"circle\"},\"size\":{\"value\":5.477225575051661},\"x\":{\"field\":\"principal component 1\"},\"y\":{\"field\":\"principal component 2\"}},\"id\":\"1537\",\"type\":\"Scatter\"},{\"attributes\":{\"axis_label\":\"principal component 2\",\"coordinates\":null,\"formatter\":{\"id\":\"1469\"},\"group\":null,\"major_label_policy\":{\"id\":\"1470\"},\"ticker\":{\"id\":\"1449\"}},\"id\":\"1448\",\"type\":\"LinearAxis\"},{\"attributes\":{\"source\":{\"id\":\"1492\"}},\"id\":\"1499\",\"type\":\"CDSView\"},{\"attributes\":{\"coordinates\":null,\"data_source\":{\"id\":\"1471\"},\"glyph\":{\"id\":\"1474\"},\"group\":null,\"hover_glyph\":null,\"muted_glyph\":{\"id\":\"1476\"},\"nonselection_glyph\":{\"id\":\"1475\"},\"selection_glyph\":{\"id\":\"1491\"},\"view\":{\"id\":\"1478\"}},\"id\":\"1477\",\"type\":\"GlyphRenderer\"},{\"attributes\":{\"axis_label\":\"principal component 1\",\"coordinates\":null,\"formatter\":{\"id\":\"1466\"},\"group\":null,\"major_label_policy\":{\"id\":\"1467\"},\"ticker\":{\"id\":\"1445\"}},\"id\":\"1444\",\"type\":\"LinearAxis\"},{\"attributes\":{\"angle\":{\"value\":0.0},\"fill_alpha\":{\"value\":1.0},\"fill_color\":{\"value\":\"#fc4f30\"},\"hatch_alpha\":{\"value\":1.0},\"hatch_color\":{\"value\":\"#fc4f30\"},\"hatch_scale\":{\"value\":12.0},\"hatch_weight\":{\"value\":1.0},\"line_alpha\":{\"value\":1.0},\"line_cap\":{\"value\":\"butt\"},\"line_color\":{\"value\":\"#fc4f30\"},\"line_dash\":{\"value\":[]},\"line_dash_offset\":{\"value\":0},\"line_join\":{\"value\":\"bevel\"},\"line_width\":{\"value\":1},\"marker\":{\"value\":\"circle\"},\"size\":{\"value\":5.477225575051661},\"x\":{\"field\":\"principal component 1\"},\"y\":{\"field\":\"principal component 2\"}},\"id\":\"1513\",\"type\":\"Scatter\"},{\"attributes\":{},\"id\":\"1509\",\"type\":\"UnionRenderers\"},{\"attributes\":{\"children\":[{\"id\":\"1429\"},{\"id\":\"1435\"},{\"id\":\"1664\"}],\"margin\":[0,0,0,0],\"name\":\"Row02485\",\"tags\":[\"embedded\"]},\"id\":\"1428\",\"type\":\"Row\"},{\"attributes\":{\"callback\":null,\"renderers\":[{\"id\":\"1477\"},{\"id\":\"1498\"},{\"id\":\"1520\"}],\"tags\":[\"hv_created\"],\"tooltips\":[[\"class\",\"@{class}\"],[\"principal component 1\",\"@{principal_component_1}\"],[\"principal component 2\",\"@{principal_component_2}\"]]},\"id\":\"1432\",\"type\":\"HoverTool\"},{\"attributes\":{\"fill_alpha\":{\"value\":0.1},\"fill_color\":{\"value\":\"#e5ae38\"},\"hatch_alpha\":{\"value\":0.1},\"hatch_color\":{\"value\":\"#e5ae38\"},\"line_alpha\":{\"value\":0.1},\"line_color\":{\"value\":\"#e5ae38\"},\"size\":{\"value\":5.477225575051661},\"x\":{\"field\":\"principal component 1\"},\"y\":{\"field\":\"principal component 2\"}},\"id\":\"1518\",\"type\":\"Scatter\"},{\"attributes\":{},\"id\":\"1456\",\"type\":\"ResetTool\"},{\"attributes\":{\"margin\":[5,5,5,5],\"name\":\"HSpacer02489\",\"sizing_mode\":\"stretch_width\"},\"id\":\"1429\",\"type\":\"Spacer\"},{\"attributes\":{\"axis\":{\"id\":\"1448\"},\"coordinates\":null,\"dimension\":1,\"grid_line_color\":null,\"group\":null,\"ticker\":null},\"id\":\"1451\",\"type\":\"Grid\"},{\"attributes\":{\"angle\":{\"value\":0.0},\"fill_alpha\":{\"value\":1.0},\"fill_color\":{\"value\":\"#30a2da\"},\"hatch_alpha\":{\"value\":1.0},\"hatch_color\":{\"value\":\"#30a2da\"},\"hatch_scale\":{\"value\":12.0},\"hatch_weight\":{\"value\":1.0},\"line_alpha\":{\"value\":1.0},\"line_cap\":{\"value\":\"butt\"},\"line_color\":{\"value\":\"#30a2da\"},\"line_dash\":{\"value\":[]},\"line_dash_offset\":{\"value\":0},\"line_join\":{\"value\":\"bevel\"},\"line_width\":{\"value\":1},\"marker\":{\"value\":\"circle\"},\"size\":{\"value\":5.477225575051661},\"x\":{\"field\":\"principal component 1\"},\"y\":{\"field\":\"principal component 2\"}},\"id\":\"1491\",\"type\":\"Scatter\"},{\"attributes\":{\"end\":2.224328537968165,\"reset_end\":2.224328537968165,\"reset_start\":-2.1375427096160364,\"start\":-2.1375427096160364,\"tags\":[[[\"principal component 2\",\"principal component 2\",null]]]},\"id\":\"1431\",\"type\":\"Range1d\"},{\"attributes\":{\"data\":{\"class\":{\"__ndarray__\":\"AgAAAAIAAAACAAAAAgAAAAIAAAACAAAAAgAAAAIAAAACAAAAAgAAAAIAAAACAAAA\",\"dtype\":\"int32\",\"order\":\"little\",\"shape\":[12]},\"principal component 1\":{\"__ndarray__\":\"0HsLHEBRBkDpZMFmWDUIQGWEGANZPwhA3iKaVdFIBUCvd0bWKM0LQO/2CSoFnQpA6N7NprHfAEBUY4+0raT/P8vouHEFUvg/rTiKJAE5+z+J8eiaybP7P7UWO+LmqABA\",\"dtype\":\"float64\",\"order\":\"little\",\"shape\":[12]},\"principal component 2\":{\"__ndarray__\":\"ISDIkw+v+7/d0XA22z7wv8BpvOwgide/jTlmefvUwD+ZkITJsnvnP2IHQCTQF/g/BVk/amX6+L+5YZuFRKfwv7/RTrFll9i/4PZMWDknxT8RtB9TZlbpPymWOZ7qhfg/\",\"dtype\":\"float64\",\"order\":\"little\",\"shape\":[12]},\"principal_component_1\":{\"__ndarray__\":\"0HsLHEBRBkDpZMFmWDUIQGWEGANZPwhA3iKaVdFIBUCvd0bWKM0LQO/2CSoFnQpA6N7NprHfAEBUY4+0raT/P8vouHEFUvg/rTiKJAE5+z+J8eiaybP7P7UWO+LmqABA\",\"dtype\":\"float64\",\"order\":\"little\",\"shape\":[12]},\"principal_component_2\":{\"__ndarray__\":\"ISDIkw+v+7/d0XA22z7wv8BpvOwgide/jTlmefvUwD+ZkITJsnvnP2IHQCTQF/g/BVk/amX6+L+5YZuFRKfwv7/RTrFll9i/4PZMWDknxT8RtB9TZlbpPymWOZ7qhfg/\",\"dtype\":\"float64\",\"order\":\"little\",\"shape\":[12]}},\"selected\":{\"id\":\"1515\"},\"selection_policy\":{\"id\":\"1533\"}},\"id\":\"1514\",\"type\":\"ColumnDataSource\"},{\"attributes\":{\"fill_color\":{\"value\":\"#e5ae38\"},\"hatch_color\":{\"value\":\"#e5ae38\"},\"line_color\":{\"value\":\"#e5ae38\"},\"size\":{\"value\":5.477225575051661},\"x\":{\"field\":\"principal component 1\"},\"y\":{\"field\":\"principal component 2\"}},\"id\":\"1517\",\"type\":\"Scatter\"},{\"attributes\":{\"coordinates\":null,\"data_source\":{\"id\":\"1492\"},\"glyph\":{\"id\":\"1495\"},\"group\":null,\"hover_glyph\":null,\"muted_glyph\":{\"id\":\"1497\"},\"nonselection_glyph\":{\"id\":\"1496\"},\"selection_glyph\":{\"id\":\"1513\"},\"view\":{\"id\":\"1499\"}},\"id\":\"1498\",\"type\":\"GlyphRenderer\"},{\"attributes\":{},\"id\":\"1469\",\"type\":\"BasicTickFormatter\"},{\"attributes\":{\"fill_alpha\":{\"value\":0.1},\"fill_color\":{\"value\":\"#30a2da\"},\"hatch_alpha\":{\"value\":0.1},\"hatch_color\":{\"value\":\"#30a2da\"},\"line_alpha\":{\"value\":0.1},\"line_color\":{\"value\":\"#30a2da\"},\"size\":{\"value\":5.477225575051661},\"x\":{\"field\":\"principal component 1\"},\"y\":{\"field\":\"principal component 2\"}},\"id\":\"1475\",\"type\":\"Scatter\"},{\"attributes\":{},\"id\":\"1454\",\"type\":\"WheelZoomTool\"},{\"attributes\":{\"below\":[{\"id\":\"1444\"}],\"center\":[{\"id\":\"1447\"},{\"id\":\"1451\"}],\"height\":300,\"left\":[{\"id\":\"1448\"}],\"margin\":[5,5,5,5],\"min_border_bottom\":10,\"min_border_left\":10,\"min_border_right\":10,\"min_border_top\":10,\"renderers\":[{\"id\":\"1477\"},{\"id\":\"1498\"},{\"id\":\"1520\"}],\"right\":[{\"id\":\"1489\"}],\"sizing_mode\":\"fixed\",\"title\":{\"id\":\"1436\"},\"toolbar\":{\"id\":\"1458\"},\"width\":700,\"x_range\":{\"id\":\"1430\"},\"x_scale\":{\"id\":\"1440\"},\"y_range\":{\"id\":\"1431\"},\"y_scale\":{\"id\":\"1442\"}},\"id\":\"1435\",\"subtype\":\"Figure\",\"type\":\"Plot\"},{\"attributes\":{\"data\":{\"class\":{\"__ndarray__\":\"AAAAAAAAAAAAAAAAAAAAAAAAAAAAAAAAAAAAAAAAAAAAAAAAAAAAAAAAAAAAAAAAAAAAAAAAAAAAAAAAAAAAAAAAAAAAAAAAAAAAAAAAAAAAAAAAAAAAAAAAAAAAAAAAAAAAAAAAAAAAAAAAAAAAAAAAAAAAAAAAAAAAAAAAAAAAAAAAAAAAAAAAAAAAAAAAAAAAAAAAAAAAAAAAAAAAAAAAAAAAAAAAAAAAAAAAAAAAAAAAAAAAAAAAAAAAAAAAAAAAAAAAAAAAAAAAAAAAAAAAAAAAAAAAAAAAAAAAAAAAAAAAAAAAAAAAAAAAAAAAAAAAAAAAAAAAAAAAAAAAAAAAAAAAAAAA\",\"dtype\":\"int32\",\"order\":\"little\",\"shape\":[66]},\"principal component 1\":{\"__ndarray__\":\"s6r1/VBlA8COxQ/zfXEDwLXgXl5inAPAT/zMA0YJBMBGEl0nbSYEwMJ4s78lOgPA3KRDHiIDAMAQDBGsg4P/vw8ZGHQhJALA7rPunU20AcAUTL4RMUYBwIAjICToc/+/+3Javv2oA8Beo9Wzak8CwKmeZ+yvUQPAOOBJlpb6BMBJ0I6x7MQEwJIQl6az4APASkJBmpYp5r+XdXbY3ansv8hhK+Zy6wHABSZhv3dk8r+kFhLKOanxv3+V7e0jsNy/AK1t5/MEAMBq0tri5039v/8qVXRedv2/CRbVDwZk+7/XpxeNvy/8vzmYHRz0ave/Qn4umXqY/r/w0a0RIob+v0F2843zM/y/bOLM+GoLAMA+CYbr3VX5v7zQEDOBTvy/RD3NA5JKA8CGASv1VWoEwOCc6vTDhwPA9B/vLI+vBMD0ak5apZ4EwNVHrYLVkwLAVXu9ize297+j4wGrTtD5v4LmnSlievm/iLbw12Vo/b/CQcoXpWb8v7762/IdL/2/neogCwpi+7/mQeI1X7X9v1U3YwsEhv2/u43tTByM+7+73sXDIqz8vxz5RdHsavy/VyafV/FyA8CQpj3mejEDwLB0MQxT1QHAvE9aTYc+A8BapGhbDzQCwCZztfleQAPAjOPiSIQG/7/UVDvDKwP+vyWKsSVFCf+/sNOC9YhJAMCOqxgDwkUAwEC8Wbeot/+/\",\"dtype\":\"float64\",\"order\":\"little\",\"shape\":[66]},\"principal component 2\":{\"__ndarray__\":\"oH4eikMq979YNiB3eDrsv7CB5KPPwdK/fFhM0JfD0T/oQXpkx+zqP3c5Uchgifc/mliK+Dj69b9VaFiTYvLpvy4daCUfUNS//QHIbOQ41D/M6qAT4kfrP/VU+f3X+Pc/Dy7+UrYX97/96r3zcvfovxOFDZkz2Mm/M5IxIfB60T959AHeWrrqP6bwHqgvwvY/STEdmGWY9b8UNnHGBELqv6FRj4tEbdK/2SHDppIF0z96WEDR+unqP8gi2K1skvs/WR0WUFVK+L/5uCjFi13tv+Y0E/GigNO/f6W6p3eC0z8KE7le9mPpP2MfxpfLJPk/WTZqB8Sc9r/icyclZhbsv6KfCREsAMy/RT9F0T5a0D+gg2RlBsztP45rrVQoHPg/F3yiIjvp9r+7XTxfnB3rv8AWhNa7TdO/JP+71XU00T/bIhL4yzTrP5n/IckNi/U/dMN6Nsg99r9K0UA4pL7qv+lEqm79Cci/fPWn/4k60z91X4ELUIvrP5cC8nuZMPc/ATgM/1Oi9b8fFjYURbnrv9WY2p1ePNG/amn1HKoT0z+IXq6xs//sP5mphsVpgvc/HcX8FMsY97+do7F0KYHrv7436y8wVM+/ArMg4+ai0j9QtPSbZ3XrP2SSUZzLLfc/7oL7+cVe97+gHQTeSCPsvxbxKURGW9K/QyHZ6a0f1D+i2Zm+RNXqP5yH8Buu8PY/\",\"dtype\":\"float64\",\"order\":\"little\",\"shape\":[66]},\"principal_component_1\":{\"__ndarray__\":\"s6r1/VBlA8COxQ/zfXEDwLXgXl5inAPAT/zMA0YJBMBGEl0nbSYEwMJ4s78lOgPA3KRDHiIDAMAQDBGsg4P/vw8ZGHQhJALA7rPunU20AcAUTL4RMUYBwIAjICToc/+/+3Javv2oA8Beo9Wzak8CwKmeZ+yvUQPAOOBJlpb6BMBJ0I6x7MQEwJIQl6az4APASkJBmpYp5r+XdXbY3ansv8hhK+Zy6wHABSZhv3dk8r+kFhLKOanxv3+V7e0jsNy/AK1t5/MEAMBq0tri5039v/8qVXRedv2/CRbVDwZk+7/XpxeNvy/8vzmYHRz0ave/Qn4umXqY/r/w0a0RIob+v0F2843zM/y/bOLM+GoLAMA+CYbr3VX5v7zQEDOBTvy/RD3NA5JKA8CGASv1VWoEwOCc6vTDhwPA9B/vLI+vBMD0ak5apZ4EwNVHrYLVkwLAVXu9ize297+j4wGrTtD5v4LmnSlievm/iLbw12Vo/b/CQcoXpWb8v7762/IdL/2/neogCwpi+7/mQeI1X7X9v1U3YwsEhv2/u43tTByM+7+73sXDIqz8vxz5RdHsavy/VyafV/FyA8CQpj3mejEDwLB0MQxT1QHAvE9aTYc+A8BapGhbDzQCwCZztfleQAPAjOPiSIQG/7/UVDvDKwP+vyWKsSVFCf+/sNOC9YhJAMCOqxgDwkUAwEC8Wbeot/+/\",\"dtype\":\"float64\",\"order\":\"little\",\"shape\":[66]},\"principal_component_2\":{\"__ndarray__\":\"oH4eikMq979YNiB3eDrsv7CB5KPPwdK/fFhM0JfD0T/oQXpkx+zqP3c5Uchgifc/mliK+Dj69b9VaFiTYvLpvy4daCUfUNS//QHIbOQ41D/M6qAT4kfrP/VU+f3X+Pc/Dy7+UrYX97/96r3zcvfovxOFDZkz2Mm/M5IxIfB60T959AHeWrrqP6bwHqgvwvY/STEdmGWY9b8UNnHGBELqv6FRj4tEbdK/2SHDppIF0z96WEDR+unqP8gi2K1skvs/WR0WUFVK+L/5uCjFi13tv+Y0E/GigNO/f6W6p3eC0z8KE7le9mPpP2MfxpfLJPk/WTZqB8Sc9r/icyclZhbsv6KfCREsAMy/RT9F0T5a0D+gg2RlBsztP45rrVQoHPg/F3yiIjvp9r+7XTxfnB3rv8AWhNa7TdO/JP+71XU00T/bIhL4yzTrP5n/IckNi/U/dMN6Nsg99r9K0UA4pL7qv+lEqm79Cci/fPWn/4k60z91X4ELUIvrP5cC8nuZMPc/ATgM/1Oi9b8fFjYURbnrv9WY2p1ePNG/amn1HKoT0z+IXq6xs//sP5mphsVpgvc/HcX8FMsY97+do7F0KYHrv7436y8wVM+/ArMg4+ai0j9QtPSbZ3XrP2SSUZzLLfc/7oL7+cVe97+gHQTeSCPsvxbxKURGW9K/QyHZ6a0f1D+i2Zm+RNXqP5yH8Buu8PY/\",\"dtype\":\"float64\",\"order\":\"little\",\"shape\":[66]}},\"selected\":{\"id\":\"1472\"},\"selection_policy\":{\"id\":\"1486\"}},\"id\":\"1471\",\"type\":\"ColumnDataSource\"},{\"attributes\":{\"label\":{\"value\":\"1\"},\"renderers\":[{\"id\":\"1498\"}]},\"id\":\"1512\",\"type\":\"LegendItem\"},{\"attributes\":{},\"id\":\"1472\",\"type\":\"Selection\"},{\"attributes\":{\"click_policy\":\"mute\",\"coordinates\":null,\"group\":null,\"items\":[{\"id\":\"1490\"},{\"id\":\"1512\"},{\"id\":\"1536\"}],\"location\":[0,0],\"title\":\"class\"},\"id\":\"1489\",\"type\":\"Legend\"},{\"attributes\":{},\"id\":\"1470\",\"type\":\"AllLabels\"},{\"attributes\":{},\"id\":\"1515\",\"type\":\"Selection\"},{\"attributes\":{\"tools\":[{\"id\":\"1432\"},{\"id\":\"1452\"},{\"id\":\"1453\"},{\"id\":\"1454\"},{\"id\":\"1455\"},{\"id\":\"1456\"}]},\"id\":\"1458\",\"type\":\"Toolbar\"},{\"attributes\":{\"fill_color\":{\"value\":\"#30a2da\"},\"hatch_color\":{\"value\":\"#30a2da\"},\"line_color\":{\"value\":\"#30a2da\"},\"size\":{\"value\":5.477225575051661},\"x\":{\"field\":\"principal component 1\"},\"y\":{\"field\":\"principal component 2\"}},\"id\":\"1474\",\"type\":\"Scatter\"},{\"attributes\":{\"fill_alpha\":{\"value\":0.2},\"fill_color\":{\"value\":\"#fc4f30\"},\"hatch_alpha\":{\"value\":0.2},\"hatch_color\":{\"value\":\"#fc4f30\"},\"line_alpha\":{\"value\":0.2},\"line_color\":{\"value\":\"#fc4f30\"},\"size\":{\"value\":5.477225575051661},\"x\":{\"field\":\"principal component 1\"},\"y\":{\"field\":\"principal component 2\"}},\"id\":\"1497\",\"type\":\"Scatter\"},{\"attributes\":{\"fill_alpha\":{\"value\":0.2},\"fill_color\":{\"value\":\"#e5ae38\"},\"hatch_alpha\":{\"value\":0.2},\"hatch_color\":{\"value\":\"#e5ae38\"},\"line_alpha\":{\"value\":0.2},\"line_color\":{\"value\":\"#e5ae38\"},\"size\":{\"value\":5.477225575051661},\"x\":{\"field\":\"principal component 1\"},\"y\":{\"field\":\"principal component 2\"}},\"id\":\"1519\",\"type\":\"Scatter\"},{\"attributes\":{\"bottom_units\":\"screen\",\"coordinates\":null,\"fill_alpha\":0.5,\"fill_color\":\"lightgrey\",\"group\":null,\"left_units\":\"screen\",\"level\":\"overlay\",\"line_alpha\":1.0,\"line_color\":\"black\",\"line_dash\":[4,4],\"line_width\":2,\"right_units\":\"screen\",\"syncable\":false,\"top_units\":\"screen\"},\"id\":\"1457\",\"type\":\"BoxAnnotation\"},{\"attributes\":{\"margin\":[5,5,5,5],\"name\":\"HSpacer02490\",\"sizing_mode\":\"stretch_width\"},\"id\":\"1664\",\"type\":\"Spacer\"},{\"attributes\":{},\"id\":\"1452\",\"type\":\"SaveTool\"},{\"attributes\":{},\"id\":\"1453\",\"type\":\"PanTool\"},{\"attributes\":{\"end\":7.420916526866649,\"reset_end\":7.420916526866649,\"reset_start\":-3.03509482472655,\"start\":-3.03509482472655,\"tags\":[[[\"principal component 1\",\"principal component 1\",null]]]},\"id\":\"1430\",\"type\":\"Range1d\"},{\"attributes\":{\"fill_color\":{\"value\":\"#fc4f30\"},\"hatch_color\":{\"value\":\"#fc4f30\"},\"line_color\":{\"value\":\"#fc4f30\"},\"size\":{\"value\":5.477225575051661},\"x\":{\"field\":\"principal component 1\"},\"y\":{\"field\":\"principal component 2\"}},\"id\":\"1495\",\"type\":\"Scatter\"}],\"root_ids\":[\"1428\"]},\"title\":\"Bokeh Application\",\"version\":\"2.4.2\"}};\n",
       "    var render_items = [{\"docid\":\"bdb2bba4-21bc-419e-8bd7-1b1895139009\",\"root_ids\":[\"1428\"],\"roots\":{\"1428\":\"fe98e455-a699-41ba-bfb4-0220b036b2d0\"}}];\n",
       "    root.Bokeh.embed.embed_items_notebook(docs_json, render_items);\n",
       "  }\n",
       "  if (root.Bokeh !== undefined && root.Bokeh.Panel !== undefined) {\n",
       "    embed_document(root);\n",
       "  } else {\n",
       "    var attempts = 0;\n",
       "    var timer = setInterval(function(root) {\n",
       "      if (root.Bokeh !== undefined && root.Bokeh.Panel !== undefined) {\n",
       "        clearInterval(timer);\n",
       "        embed_document(root);\n",
       "      } else if (document.readyState == \"complete\") {\n",
       "        attempts++;\n",
       "        if (attempts > 200) {\n",
       "          clearInterval(timer);\n",
       "          console.log(\"Bokeh: ERROR: Unable to run BokehJS code because BokehJS library is missing\");\n",
       "        }\n",
       "      }\n",
       "    }, 25, root)\n",
       "  }\n",
       "})(window);</script>"
      ],
      "text/plain": [
       ":NdOverlay   [class]\n",
       "   :Scatter   [principal component 1]   (principal component 2,class)"
      ]
     },
     "execution_count": 29,
     "metadata": {
      "application/vnd.holoviews_exec.v0+json": {
       "id": "1428"
      }
     },
     "output_type": "execute_result"
    }
   ],
   "source": [
    "df_crime_pca.hvplot.scatter(\n",
    "    x=\"principal component 1\",\n",
    "    y=\"principal component 2\",\n",
    "    hover_cols=[\"class\"],\n",
    "    by=\"class\",\n",
    ")"
   ]
  },
  {
   "cell_type": "code",
   "execution_count": null,
   "id": "81405f30",
   "metadata": {},
   "outputs": [],
   "source": []
  }
 ],
 "metadata": {
  "kernelspec": {
   "display_name": "PythonData",
   "language": "python",
   "name": "pythondata"
  },
  "language_info": {
   "codemirror_mode": {
    "name": "ipython",
    "version": 3
   },
   "file_extension": ".py",
   "mimetype": "text/x-python",
   "name": "python",
   "nbconvert_exporter": "python",
   "pygments_lexer": "ipython3",
   "version": "3.7.13"
  }
 },
 "nbformat": 4,
 "nbformat_minor": 5
}
