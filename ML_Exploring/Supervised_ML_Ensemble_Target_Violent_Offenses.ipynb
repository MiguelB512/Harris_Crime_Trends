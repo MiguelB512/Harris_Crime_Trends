{
 "cells": [
  {
   "cell_type": "markdown",
   "id": "6e52b773",
   "metadata": {},
   "source": [
    "# Crime Statistics Resampling Techniques"
   ]
  },
  {
   "cell_type": "markdown",
   "id": "41a09d7d",
   "metadata": {},
   "source": [
    "### Import Dependencies"
   ]
  },
  {
   "cell_type": "code",
   "execution_count": 1,
   "id": "8a9e00cb",
   "metadata": {},
   "outputs": [],
   "source": [
    "import os\n",
    "import warnings\n",
    "warnings.filterwarnings('ignore')"
   ]
  },
  {
   "cell_type": "code",
   "execution_count": 2,
   "id": "c8e66ab9",
   "metadata": {},
   "outputs": [],
   "source": [
    "import numpy as np\n",
    "import pandas as pd\n",
    "from pathlib import Path\n",
    "from collections import Counter\n",
    "import matplotlib.pyplot as plt\n",
    "from sklearn.linear_model import LinearRegression"
   ]
  },
  {
   "cell_type": "markdown",
   "id": "2d1e3bb1",
   "metadata": {},
   "source": [
    "### Read the CSV and Perform Basic Data Cleaning"
   ]
  },
  {
   "cell_type": "code",
   "execution_count": 3,
   "id": "3c12742c",
   "metadata": {},
   "outputs": [],
   "source": [
    "# Load the data\n",
    "df = pd.read_csv('../Resources/CSV/crime_data.csv')"
   ]
  },
  {
   "cell_type": "code",
   "execution_count": 4,
   "id": "8512e99e",
   "metadata": {},
   "outputs": [
    {
     "data": {
      "text/html": [
       "<div>\n",
       "<style scoped>\n",
       "    .dataframe tbody tr th:only-of-type {\n",
       "        vertical-align: middle;\n",
       "    }\n",
       "\n",
       "    .dataframe tbody tr th {\n",
       "        vertical-align: top;\n",
       "    }\n",
       "\n",
       "    .dataframe thead th {\n",
       "        text-align: right;\n",
       "    }\n",
       "</style>\n",
       "<table border=\"1\" class=\"dataframe\">\n",
       "  <thead>\n",
       "    <tr style=\"text-align: right;\">\n",
       "      <th></th>\n",
       "      <th>County</th>\n",
       "      <th>Agency_Count</th>\n",
       "      <th>Murder</th>\n",
       "      <th>Rape</th>\n",
       "      <th>Assault</th>\n",
       "      <th>Burglary</th>\n",
       "      <th>Larceny</th>\n",
       "      <th>Auto_Theft</th>\n",
       "      <th>Violent_Offenses</th>\n",
       "      <th>NonViolent_Offenses</th>\n",
       "      <th>Total_Crime</th>\n",
       "      <th>Population</th>\n",
       "    </tr>\n",
       "  </thead>\n",
       "  <tbody>\n",
       "    <tr>\n",
       "      <th>0</th>\n",
       "      <td>Austin County</td>\n",
       "      <td>5</td>\n",
       "      <td>0</td>\n",
       "      <td>8</td>\n",
       "      <td>53</td>\n",
       "      <td>121</td>\n",
       "      <td>283</td>\n",
       "      <td>13</td>\n",
       "      <td>61</td>\n",
       "      <td>417</td>\n",
       "      <td>482</td>\n",
       "      <td>29354</td>\n",
       "    </tr>\n",
       "    <tr>\n",
       "      <th>1</th>\n",
       "      <td>Austin County</td>\n",
       "      <td>5</td>\n",
       "      <td>0</td>\n",
       "      <td>6</td>\n",
       "      <td>43</td>\n",
       "      <td>136</td>\n",
       "      <td>239</td>\n",
       "      <td>31</td>\n",
       "      <td>49</td>\n",
       "      <td>406</td>\n",
       "      <td>466</td>\n",
       "      <td>29718</td>\n",
       "    </tr>\n",
       "    <tr>\n",
       "      <th>2</th>\n",
       "      <td>Austin County</td>\n",
       "      <td>5</td>\n",
       "      <td>0</td>\n",
       "      <td>11</td>\n",
       "      <td>34</td>\n",
       "      <td>98</td>\n",
       "      <td>183</td>\n",
       "      <td>45</td>\n",
       "      <td>45</td>\n",
       "      <td>326</td>\n",
       "      <td>376</td>\n",
       "      <td>29963</td>\n",
       "    </tr>\n",
       "    <tr>\n",
       "      <th>3</th>\n",
       "      <td>Austin County</td>\n",
       "      <td>5</td>\n",
       "      <td>0</td>\n",
       "      <td>11</td>\n",
       "      <td>32</td>\n",
       "      <td>82</td>\n",
       "      <td>138</td>\n",
       "      <td>29</td>\n",
       "      <td>43</td>\n",
       "      <td>249</td>\n",
       "      <td>295</td>\n",
       "      <td>29912</td>\n",
       "    </tr>\n",
       "    <tr>\n",
       "      <th>4</th>\n",
       "      <td>Austin County</td>\n",
       "      <td>5</td>\n",
       "      <td>0</td>\n",
       "      <td>5</td>\n",
       "      <td>38</td>\n",
       "      <td>80</td>\n",
       "      <td>147</td>\n",
       "      <td>29</td>\n",
       "      <td>43</td>\n",
       "      <td>256</td>\n",
       "      <td>302</td>\n",
       "      <td>30009</td>\n",
       "    </tr>\n",
       "  </tbody>\n",
       "</table>\n",
       "</div>"
      ],
      "text/plain": [
       "          County  Agency_Count  Murder  Rape  Assault  Burglary  Larceny  \\\n",
       "0  Austin County             5       0     8       53       121      283   \n",
       "1  Austin County             5       0     6       43       136      239   \n",
       "2  Austin County             5       0    11       34        98      183   \n",
       "3  Austin County             5       0    11       32        82      138   \n",
       "4  Austin County             5       0     5       38        80      147   \n",
       "\n",
       "   Auto_Theft  Violent_Offenses  NonViolent_Offenses  Total_Crime  Population  \n",
       "0          13                61                  417          482       29354  \n",
       "1          31                49                  406          466       29718  \n",
       "2          45                45                  326          376       29963  \n",
       "3          29                43                  249          295       29912  \n",
       "4          29                43                  256          302       30009  "
      ]
     },
     "execution_count": 4,
     "metadata": {},
     "output_type": "execute_result"
    }
   ],
   "source": [
    "# Drop the year column to not skew data with year count and averages\n",
    "df = df.drop(columns =['Year'])\n",
    "df.head()"
   ]
  },
  {
   "cell_type": "code",
   "execution_count": 5,
   "id": "db34f7b2",
   "metadata": {},
   "outputs": [
    {
     "data": {
      "text/html": [
       "<div>\n",
       "<style scoped>\n",
       "    .dataframe tbody tr th:only-of-type {\n",
       "        vertical-align: middle;\n",
       "    }\n",
       "\n",
       "    .dataframe tbody tr th {\n",
       "        vertical-align: top;\n",
       "    }\n",
       "\n",
       "    .dataframe thead th {\n",
       "        text-align: right;\n",
       "    }\n",
       "</style>\n",
       "<table border=\"1\" class=\"dataframe\">\n",
       "  <thead>\n",
       "    <tr style=\"text-align: right;\">\n",
       "      <th></th>\n",
       "      <th>County</th>\n",
       "      <th>Agency_Count</th>\n",
       "      <th>Murder</th>\n",
       "      <th>Rape</th>\n",
       "      <th>Assault</th>\n",
       "      <th>Burglary</th>\n",
       "      <th>Larceny</th>\n",
       "      <th>Auto_Theft</th>\n",
       "      <th>Violent_Offenses</th>\n",
       "      <th>NonViolent_Offenses</th>\n",
       "      <th>Total_Crime</th>\n",
       "      <th>Population</th>\n",
       "    </tr>\n",
       "  </thead>\n",
       "  <tbody>\n",
       "    <tr>\n",
       "      <th>0</th>\n",
       "      <td>Austin County</td>\n",
       "      <td>5</td>\n",
       "      <td>0</td>\n",
       "      <td>8</td>\n",
       "      <td>53</td>\n",
       "      <td>121</td>\n",
       "      <td>283</td>\n",
       "      <td>13</td>\n",
       "      <td>61</td>\n",
       "      <td>417</td>\n",
       "      <td>482</td>\n",
       "      <td>29354</td>\n",
       "    </tr>\n",
       "    <tr>\n",
       "      <th>1</th>\n",
       "      <td>Austin County</td>\n",
       "      <td>5</td>\n",
       "      <td>0</td>\n",
       "      <td>6</td>\n",
       "      <td>43</td>\n",
       "      <td>136</td>\n",
       "      <td>239</td>\n",
       "      <td>31</td>\n",
       "      <td>49</td>\n",
       "      <td>406</td>\n",
       "      <td>466</td>\n",
       "      <td>29718</td>\n",
       "    </tr>\n",
       "    <tr>\n",
       "      <th>2</th>\n",
       "      <td>Austin County</td>\n",
       "      <td>5</td>\n",
       "      <td>0</td>\n",
       "      <td>11</td>\n",
       "      <td>34</td>\n",
       "      <td>98</td>\n",
       "      <td>183</td>\n",
       "      <td>45</td>\n",
       "      <td>45</td>\n",
       "      <td>326</td>\n",
       "      <td>376</td>\n",
       "      <td>29963</td>\n",
       "    </tr>\n",
       "    <tr>\n",
       "      <th>3</th>\n",
       "      <td>Austin County</td>\n",
       "      <td>5</td>\n",
       "      <td>0</td>\n",
       "      <td>11</td>\n",
       "      <td>32</td>\n",
       "      <td>82</td>\n",
       "      <td>138</td>\n",
       "      <td>29</td>\n",
       "      <td>43</td>\n",
       "      <td>249</td>\n",
       "      <td>295</td>\n",
       "      <td>29912</td>\n",
       "    </tr>\n",
       "    <tr>\n",
       "      <th>4</th>\n",
       "      <td>Austin County</td>\n",
       "      <td>5</td>\n",
       "      <td>0</td>\n",
       "      <td>5</td>\n",
       "      <td>38</td>\n",
       "      <td>80</td>\n",
       "      <td>147</td>\n",
       "      <td>29</td>\n",
       "      <td>43</td>\n",
       "      <td>256</td>\n",
       "      <td>302</td>\n",
       "      <td>30009</td>\n",
       "    </tr>\n",
       "  </tbody>\n",
       "</table>\n",
       "</div>"
      ],
      "text/plain": [
       "          County  Agency_Count  Murder  Rape  Assault  Burglary  Larceny  \\\n",
       "0  Austin County             5       0     8       53       121      283   \n",
       "1  Austin County             5       0     6       43       136      239   \n",
       "2  Austin County             5       0    11       34        98      183   \n",
       "3  Austin County             5       0    11       32        82      138   \n",
       "4  Austin County             5       0     5       38        80      147   \n",
       "\n",
       "   Auto_Theft  Violent_Offenses  NonViolent_Offenses  Total_Crime  Population  \n",
       "0          13                61                  417          482       29354  \n",
       "1          31                49                  406          466       29718  \n",
       "2          45                45                  326          376       29963  \n",
       "3          29                43                  249          295       29912  \n",
       "4          29                43                  256          302       30009  "
      ]
     },
     "execution_count": 5,
     "metadata": {},
     "output_type": "execute_result"
    }
   ],
   "source": [
    "# Convert the target column values to violent and nonviolent based on their crime\n",
    "x = dict.fromkeys(['Murder', 'Rape', 'Assault'], 'violent_crimes')    \n",
    "df = df.replace(x)\n",
    "\n",
    "x = dict.fromkeys(['Burglary', 'Larceny', 'Auto_Theft'], 'nonviolent_crimes')    \n",
    "df = df.replace(x)\n",
    "\n",
    "df.reset_index(inplace=True, drop=True)\n",
    "\n",
    "df.head()"
   ]
  },
  {
   "cell_type": "markdown",
   "id": "87c43a02",
   "metadata": {},
   "source": [
    "### Split the Data into Training and Testing"
   ]
  },
  {
   "cell_type": "code",
   "execution_count": 6,
   "id": "2543df28",
   "metadata": {},
   "outputs": [
    {
     "data": {
      "text/html": [
       "<div>\n",
       "<style scoped>\n",
       "    .dataframe tbody tr th:only-of-type {\n",
       "        vertical-align: middle;\n",
       "    }\n",
       "\n",
       "    .dataframe tbody tr th {\n",
       "        vertical-align: top;\n",
       "    }\n",
       "\n",
       "    .dataframe thead th {\n",
       "        text-align: right;\n",
       "    }\n",
       "</style>\n",
       "<table border=\"1\" class=\"dataframe\">\n",
       "  <thead>\n",
       "    <tr style=\"text-align: right;\">\n",
       "      <th></th>\n",
       "      <th>Agency_Count</th>\n",
       "      <th>Murder</th>\n",
       "      <th>Rape</th>\n",
       "      <th>Assault</th>\n",
       "      <th>Burglary</th>\n",
       "      <th>Larceny</th>\n",
       "      <th>Auto_Theft</th>\n",
       "      <th>Violent_Offenses</th>\n",
       "      <th>NonViolent_Offenses</th>\n",
       "      <th>Total_Crime</th>\n",
       "      <th>Population</th>\n",
       "    </tr>\n",
       "  </thead>\n",
       "  <tbody>\n",
       "    <tr>\n",
       "      <th>0</th>\n",
       "      <td>5</td>\n",
       "      <td>0</td>\n",
       "      <td>8</td>\n",
       "      <td>53</td>\n",
       "      <td>121</td>\n",
       "      <td>283</td>\n",
       "      <td>13</td>\n",
       "      <td>61</td>\n",
       "      <td>417</td>\n",
       "      <td>482</td>\n",
       "      <td>29354</td>\n",
       "    </tr>\n",
       "    <tr>\n",
       "      <th>1</th>\n",
       "      <td>5</td>\n",
       "      <td>0</td>\n",
       "      <td>6</td>\n",
       "      <td>43</td>\n",
       "      <td>136</td>\n",
       "      <td>239</td>\n",
       "      <td>31</td>\n",
       "      <td>49</td>\n",
       "      <td>406</td>\n",
       "      <td>466</td>\n",
       "      <td>29718</td>\n",
       "    </tr>\n",
       "    <tr>\n",
       "      <th>2</th>\n",
       "      <td>5</td>\n",
       "      <td>0</td>\n",
       "      <td>11</td>\n",
       "      <td>34</td>\n",
       "      <td>98</td>\n",
       "      <td>183</td>\n",
       "      <td>45</td>\n",
       "      <td>45</td>\n",
       "      <td>326</td>\n",
       "      <td>376</td>\n",
       "      <td>29963</td>\n",
       "    </tr>\n",
       "    <tr>\n",
       "      <th>3</th>\n",
       "      <td>5</td>\n",
       "      <td>0</td>\n",
       "      <td>11</td>\n",
       "      <td>32</td>\n",
       "      <td>82</td>\n",
       "      <td>138</td>\n",
       "      <td>29</td>\n",
       "      <td>43</td>\n",
       "      <td>249</td>\n",
       "      <td>295</td>\n",
       "      <td>29912</td>\n",
       "    </tr>\n",
       "    <tr>\n",
       "      <th>4</th>\n",
       "      <td>5</td>\n",
       "      <td>0</td>\n",
       "      <td>5</td>\n",
       "      <td>38</td>\n",
       "      <td>80</td>\n",
       "      <td>147</td>\n",
       "      <td>29</td>\n",
       "      <td>43</td>\n",
       "      <td>256</td>\n",
       "      <td>302</td>\n",
       "      <td>30009</td>\n",
       "    </tr>\n",
       "  </tbody>\n",
       "</table>\n",
       "</div>"
      ],
      "text/plain": [
       "   Agency_Count  Murder  Rape  Assault  Burglary  Larceny  Auto_Theft  \\\n",
       "0             5       0     8       53       121      283          13   \n",
       "1             5       0     6       43       136      239          31   \n",
       "2             5       0    11       34        98      183          45   \n",
       "3             5       0    11       32        82      138          29   \n",
       "4             5       0     5       38        80      147          29   \n",
       "\n",
       "   Violent_Offenses  NonViolent_Offenses  Total_Crime  Population  \n",
       "0                61                  417          482       29354  \n",
       "1                49                  406          466       29718  \n",
       "2                45                  326          376       29963  \n",
       "3                43                  249          295       29912  \n",
       "4                43                  256          302       30009  "
      ]
     },
     "execution_count": 6,
     "metadata": {},
     "output_type": "execute_result"
    }
   ],
   "source": [
    "# Create dummies\n",
    "df = pd.get_dummies(df.drop(columns='County'))\n",
    "df.head()"
   ]
  },
  {
   "cell_type": "code",
   "execution_count": 8,
   "id": "e91c4718",
   "metadata": {},
   "outputs": [],
   "source": [
    "# Create target\n",
    "y = pd.DataFrame(df[\"Violent_Offenses\"])\n",
    "\n",
    "# Create features\n",
    "X = pd.DataFrame(df[['Population', 'Agency_Count','Total_Crime']])"
   ]
  },
  {
   "cell_type": "code",
   "execution_count": 9,
   "id": "351a2c0b",
   "metadata": {},
   "outputs": [
    {
     "data": {
      "text/html": [
       "<div>\n",
       "<style scoped>\n",
       "    .dataframe tbody tr th:only-of-type {\n",
       "        vertical-align: middle;\n",
       "    }\n",
       "\n",
       "    .dataframe tbody tr th {\n",
       "        vertical-align: top;\n",
       "    }\n",
       "\n",
       "    .dataframe thead th {\n",
       "        text-align: right;\n",
       "    }\n",
       "</style>\n",
       "<table border=\"1\" class=\"dataframe\">\n",
       "  <thead>\n",
       "    <tr style=\"text-align: right;\">\n",
       "      <th></th>\n",
       "      <th>Population</th>\n",
       "      <th>Agency_Count</th>\n",
       "      <th>Total_Crime</th>\n",
       "    </tr>\n",
       "  </thead>\n",
       "  <tbody>\n",
       "    <tr>\n",
       "      <th>count</th>\n",
       "      <td>1.020000e+02</td>\n",
       "      <td>102.000000</td>\n",
       "      <td>102.000000</td>\n",
       "    </tr>\n",
       "    <tr>\n",
       "      <th>mean</th>\n",
       "      <td>4.378851e+05</td>\n",
       "      <td>8.617647</td>\n",
       "      <td>14348.470588</td>\n",
       "    </tr>\n",
       "    <tr>\n",
       "      <th>std</th>\n",
       "      <td>1.093114e+06</td>\n",
       "      <td>10.573687</td>\n",
       "      <td>45215.295287</td>\n",
       "    </tr>\n",
       "    <tr>\n",
       "      <th>min</th>\n",
       "      <td>2.530600e+04</td>\n",
       "      <td>1.000000</td>\n",
       "      <td>281.000000</td>\n",
       "    </tr>\n",
       "    <tr>\n",
       "      <th>25%</th>\n",
       "      <td>3.543850e+04</td>\n",
       "      <td>3.000000</td>\n",
       "      <td>820.750000</td>\n",
       "    </tr>\n",
       "    <tr>\n",
       "      <th>50%</th>\n",
       "      <td>5.080850e+04</td>\n",
       "      <td>4.000000</td>\n",
       "      <td>1166.000000</td>\n",
       "    </tr>\n",
       "    <tr>\n",
       "      <th>75%</th>\n",
       "      <td>3.503322e+05</td>\n",
       "      <td>11.000000</td>\n",
       "      <td>6549.500000</td>\n",
       "    </tr>\n",
       "    <tr>\n",
       "      <th>max</th>\n",
       "      <td>4.799254e+06</td>\n",
       "      <td>45.000000</td>\n",
       "      <td>197686.000000</td>\n",
       "    </tr>\n",
       "  </tbody>\n",
       "</table>\n",
       "</div>"
      ],
      "text/plain": [
       "         Population  Agency_Count    Total_Crime\n",
       "count  1.020000e+02    102.000000     102.000000\n",
       "mean   4.378851e+05      8.617647   14348.470588\n",
       "std    1.093114e+06     10.573687   45215.295287\n",
       "min    2.530600e+04      1.000000     281.000000\n",
       "25%    3.543850e+04      3.000000     820.750000\n",
       "50%    5.080850e+04      4.000000    1166.000000\n",
       "75%    3.503322e+05     11.000000    6549.500000\n",
       "max    4.799254e+06     45.000000  197686.000000"
      ]
     },
     "execution_count": 9,
     "metadata": {},
     "output_type": "execute_result"
    }
   ],
   "source": [
    "X.describe()"
   ]
  },
  {
   "cell_type": "code",
   "execution_count": 10,
   "id": "eb13e14c",
   "metadata": {},
   "outputs": [
    {
     "data": {
      "text/html": [
       "<div>\n",
       "<style scoped>\n",
       "    .dataframe tbody tr th:only-of-type {\n",
       "        vertical-align: middle;\n",
       "    }\n",
       "\n",
       "    .dataframe tbody tr th {\n",
       "        vertical-align: top;\n",
       "    }\n",
       "\n",
       "    .dataframe thead th {\n",
       "        text-align: right;\n",
       "    }\n",
       "</style>\n",
       "<table border=\"1\" class=\"dataframe\">\n",
       "  <thead>\n",
       "    <tr style=\"text-align: right;\">\n",
       "      <th></th>\n",
       "      <th>Violent_Offenses</th>\n",
       "    </tr>\n",
       "  </thead>\n",
       "  <tbody>\n",
       "    <tr>\n",
       "      <th>0</th>\n",
       "      <td>61</td>\n",
       "    </tr>\n",
       "    <tr>\n",
       "      <th>1</th>\n",
       "      <td>49</td>\n",
       "    </tr>\n",
       "    <tr>\n",
       "      <th>2</th>\n",
       "      <td>45</td>\n",
       "    </tr>\n",
       "    <tr>\n",
       "      <th>3</th>\n",
       "      <td>43</td>\n",
       "    </tr>\n",
       "    <tr>\n",
       "      <th>4</th>\n",
       "      <td>43</td>\n",
       "    </tr>\n",
       "  </tbody>\n",
       "</table>\n",
       "</div>"
      ],
      "text/plain": [
       "   Violent_Offenses\n",
       "0                61\n",
       "1                49\n",
       "2                45\n",
       "3                43\n",
       "4                43"
      ]
     },
     "execution_count": 10,
     "metadata": {},
     "output_type": "execute_result"
    }
   ],
   "source": [
    "y.head()"
   ]
  },
  {
   "cell_type": "code",
   "execution_count": 11,
   "id": "ab364db5",
   "metadata": {},
   "outputs": [
    {
     "data": {
      "text/plain": [
       "(76, 3)"
      ]
     },
     "execution_count": 11,
     "metadata": {},
     "output_type": "execute_result"
    }
   ],
   "source": [
    "from sklearn.model_selection import train_test_split\n",
    "\n",
    "X_train, X_test, y_train, y_test = train_test_split(X, y, random_state=1)\n",
    "X_train.shape"
   ]
  },
  {
   "cell_type": "markdown",
   "id": "1200f4db",
   "metadata": {},
   "source": [
    "## Ensemble Learners"
   ]
  },
  {
   "cell_type": "code",
   "execution_count": 12,
   "id": "eab3c0f6",
   "metadata": {},
   "outputs": [
    {
     "data": {
      "text/plain": [
       "BalancedRandomForestClassifier(random_state=1)"
      ]
     },
     "execution_count": 12,
     "metadata": {},
     "output_type": "execute_result"
    }
   ],
   "source": [
    "# Resample the training data with the BalancedRandomForestClassifier\n",
    "from imblearn.ensemble import BalancedRandomForestClassifier\n",
    "\n",
    "brfc_model = BalancedRandomForestClassifier(n_estimators=100, random_state=1)\n",
    "brfc_model.fit(X_train, y_train)"
   ]
  },
  {
   "cell_type": "code",
   "execution_count": 13,
   "id": "69379a2a",
   "metadata": {},
   "outputs": [
    {
     "data": {
      "text/plain": [
       "0.0"
      ]
     },
     "execution_count": 13,
     "metadata": {},
     "output_type": "execute_result"
    }
   ],
   "source": [
    "# Calculated the balanced accuracy score\n",
    "from sklearn.metrics import balanced_accuracy_score\n",
    "\n",
    "y_pred = brfc_model.predict(X_test)\n",
    "balanced_accuracy_score(y_test, y_pred)"
   ]
  },
  {
   "cell_type": "code",
   "execution_count": 14,
   "id": "98c28e93",
   "metadata": {},
   "outputs": [
    {
     "data": {
      "text/plain": [
       "array([[0, 0, 0, ..., 0, 0, 0],\n",
       "       [0, 0, 0, ..., 0, 0, 0],\n",
       "       [0, 0, 0, ..., 0, 0, 0],\n",
       "       ...,\n",
       "       [0, 0, 0, ..., 0, 1, 0],\n",
       "       [0, 0, 0, ..., 0, 0, 0],\n",
       "       [0, 0, 0, ..., 0, 0, 0]], dtype=int64)"
      ]
     },
     "execution_count": 14,
     "metadata": {},
     "output_type": "execute_result"
    }
   ],
   "source": [
    "# Display the confusion matrix\n",
    "from sklearn.metrics import confusion_matrix\n",
    "\n",
    "confusion_matrix(y_test, y_pred)"
   ]
  },
  {
   "cell_type": "code",
   "execution_count": 15,
   "id": "6f5aea3a",
   "metadata": {
    "scrolled": true
   },
   "outputs": [
    {
     "name": "stdout",
     "output_type": "stream",
     "text": [
      "                   pre       rec       spe        f1       geo       iba       sup\n",
      "\n",
      "         33       0.00      0.00      1.00      0.00      0.00      0.00       1.0\n",
      "         39       0.00      0.00      1.00      0.00      0.00      0.00       1.0\n",
      "         48       0.00      0.00      1.00      0.00      0.00      0.00       1.0\n",
      "         69       0.00      0.00      0.88      0.00      0.00      0.00       0.0\n",
      "         70       0.00      0.00      0.96      0.00      0.00      0.00       0.0\n",
      "         85       0.00      0.00      1.00      0.00      0.00      0.00       1.0\n",
      "         86       0.00      0.00      1.00      0.00      0.00      0.00       1.0\n",
      "         91       0.00      0.00      0.96      0.00      0.00      0.00       0.0\n",
      "        103       0.00      0.00      0.96      0.00      0.00      0.00       0.0\n",
      "        104       0.00      0.00      1.00      0.00      0.00      0.00       1.0\n",
      "        117       0.00      0.00      1.00      0.00      0.00      0.00       1.0\n",
      "        122       0.00      0.00      0.92      0.00      0.00      0.00       0.0\n",
      "        129       0.00      0.00      1.00      0.00      0.00      0.00       1.0\n",
      "        130       0.00      0.00      1.00      0.00      0.00      0.00       1.0\n",
      "        135       0.00      0.00      1.00      0.00      0.00      0.00       2.0\n",
      "        136       0.00      0.00      0.96      0.00      0.00      0.00       0.0\n",
      "        141       0.00      0.00      0.96      0.00      0.00      0.00       0.0\n",
      "        143       0.00      0.00      1.00      0.00      0.00      0.00       1.0\n",
      "        148       0.00      0.00      0.96      0.00      0.00      0.00       0.0\n",
      "        156       0.00      0.00      0.96      0.00      0.00      0.00       0.0\n",
      "        185       0.00      0.00      1.00      0.00      0.00      0.00       1.0\n",
      "        196       0.00      0.00      1.00      0.00      0.00      0.00       1.0\n",
      "        204       0.00      0.00      1.00      0.00      0.00      0.00       1.0\n",
      "        215       0.00      0.00      1.00      0.00      0.00      0.00       1.0\n",
      "        223       0.00      0.00      1.00      0.00      0.00      0.00       1.0\n",
      "        226       0.00      0.00      1.00      0.00      0.00      0.00       1.0\n",
      "        231       0.00      0.00      0.81      0.00      0.00      0.00       0.0\n",
      "        315       0.00      0.00      0.96      0.00      0.00      0.00       0.0\n",
      "        555       0.00      0.00      0.96      0.00      0.00      0.00       0.0\n",
      "        610       0.00      0.00      0.88      0.00      0.00      0.00       0.0\n",
      "        661       0.00      0.00      1.00      0.00      0.00      0.00       1.0\n",
      "        715       0.00      0.00      0.96      0.00      0.00      0.00       0.0\n",
      "        732       0.00      0.00      1.00      0.00      0.00      0.00       1.0\n",
      "        764       0.00      0.00      1.00      0.00      0.00      0.00       1.0\n",
      "        768       0.00      0.00      1.00      0.00      0.00      0.00       1.0\n",
      "        925       0.00      0.00      1.00      0.00      0.00      0.00       1.0\n",
      "        927       0.00      0.00      1.00      0.00      0.00      0.00       1.0\n",
      "        969       0.00      0.00      0.96      0.00      0.00      0.00       0.0\n",
      "      23021       0.00      0.00      1.00      0.00      0.00      0.00       1.0\n",
      "      23222       0.00      0.00      1.00      0.00      0.00      0.00       1.0\n",
      "      23709       0.00      0.00      0.96      0.00      0.00      0.00       0.0\n",
      "      29232       0.00      0.00      0.96      0.00      0.00      0.00       0.0\n",
      "\n",
      "avg / total       0.00      0.00      1.00      0.00      0.00      0.00      26.0\n",
      "\n"
     ]
    }
   ],
   "source": [
    "# Print the imbalanced classification report\n",
    "from imblearn.metrics import classification_report_imbalanced\n",
    "\n",
    "print(classification_report_imbalanced(y_test, y_pred))"
   ]
  },
  {
   "cell_type": "code",
   "execution_count": 16,
   "id": "a947d124",
   "metadata": {},
   "outputs": [
    {
     "name": "stdout",
     "output_type": "stream",
     "text": [
      "Population      0.399215\n",
      "Total_Crime     0.394549\n",
      "Agency_Count    0.206236\n",
      "dtype: float64\n"
     ]
    }
   ],
   "source": [
    "# List the features sorted in descending order by feature importance\n",
    "priority_features = pd.Series(data=brfc_model.feature_importances_,index=X.columns)\n",
    "priority_features.sort_values(ascending=False,inplace=True)\n",
    "print(priority_features)"
   ]
  },
  {
   "cell_type": "markdown",
   "id": "0495db98",
   "metadata": {},
   "source": [
    "## Easy Ensemble AdaBoost Classifier"
   ]
  },
  {
   "cell_type": "code",
   "execution_count": 17,
   "id": "4c9e6d61",
   "metadata": {},
   "outputs": [
    {
     "data": {
      "text/plain": [
       "EasyEnsembleClassifier(n_estimators=100, random_state=1)"
      ]
     },
     "execution_count": 17,
     "metadata": {},
     "output_type": "execute_result"
    }
   ],
   "source": [
    "# Train the EasyEnsembleClassifier\n",
    "from imblearn.ensemble import EasyEnsembleClassifier \n",
    "\n",
    "eec_model = EasyEnsembleClassifier(n_estimators =100, random_state=1)\n",
    "eec_model.fit(X_train, y_train)"
   ]
  },
  {
   "cell_type": "code",
   "execution_count": 18,
   "id": "8ffa1ac5",
   "metadata": {},
   "outputs": [
    {
     "data": {
      "text/plain": [
       "0.0"
      ]
     },
     "execution_count": 18,
     "metadata": {},
     "output_type": "execute_result"
    }
   ],
   "source": [
    "# Calculated the balanced accuracy score\n",
    "y_pred = eec_model.predict(X_test)\n",
    "balanced_accuracy_score(y_test, y_pred)"
   ]
  },
  {
   "cell_type": "code",
   "execution_count": 19,
   "id": "0bbacd31",
   "metadata": {},
   "outputs": [
    {
     "data": {
      "text/plain": [
       "array([[0, 0, 0, ..., 0, 0, 0],\n",
       "       [0, 0, 0, ..., 0, 0, 0],\n",
       "       [0, 0, 0, ..., 0, 0, 0],\n",
       "       ...,\n",
       "       [0, 0, 0, ..., 0, 0, 1],\n",
       "       [0, 0, 0, ..., 0, 0, 0],\n",
       "       [0, 0, 0, ..., 0, 0, 0]], dtype=int64)"
      ]
     },
     "execution_count": 19,
     "metadata": {},
     "output_type": "execute_result"
    }
   ],
   "source": [
    "# Display the confusion matrix\n",
    "confusion_matrix(y_test, y_pred)"
   ]
  },
  {
   "cell_type": "code",
   "execution_count": 20,
   "id": "528679a4",
   "metadata": {
    "scrolled": true
   },
   "outputs": [
    {
     "name": "stdout",
     "output_type": "stream",
     "text": [
      "                   pre       rec       spe        f1       geo       iba       sup\n",
      "\n",
      "         33       0.00      0.00      1.00      0.00      0.00      0.00       1.0\n",
      "         39       0.00      0.00      1.00      0.00      0.00      0.00       1.0\n",
      "         48       0.00      0.00      1.00      0.00      0.00      0.00       1.0\n",
      "         69       0.00      0.00      0.88      0.00      0.00      0.00       0.0\n",
      "         70       0.00      0.00      0.96      0.00      0.00      0.00       0.0\n",
      "         85       0.00      0.00      1.00      0.00      0.00      0.00       1.0\n",
      "         86       0.00      0.00      1.00      0.00      0.00      0.00       1.0\n",
      "         91       0.00      0.00      0.96      0.00      0.00      0.00       0.0\n",
      "        103       0.00      0.00      0.96      0.00      0.00      0.00       0.0\n",
      "        104       0.00      0.00      1.00      0.00      0.00      0.00       1.0\n",
      "        117       0.00      0.00      1.00      0.00      0.00      0.00       1.0\n",
      "        122       0.00      0.00      0.92      0.00      0.00      0.00       0.0\n",
      "        129       0.00      0.00      1.00      0.00      0.00      0.00       1.0\n",
      "        130       0.00      0.00      1.00      0.00      0.00      0.00       1.0\n",
      "        134       0.00      0.00      0.96      0.00      0.00      0.00       0.0\n",
      "        135       0.00      0.00      1.00      0.00      0.00      0.00       2.0\n",
      "        136       0.00      0.00      0.96      0.00      0.00      0.00       0.0\n",
      "        143       0.00      0.00      1.00      0.00      0.00      0.00       1.0\n",
      "        145       0.00      0.00      0.96      0.00      0.00      0.00       0.0\n",
      "        148       0.00      0.00      0.96      0.00      0.00      0.00       0.0\n",
      "        185       0.00      0.00      1.00      0.00      0.00      0.00       1.0\n",
      "        196       0.00      0.00      1.00      0.00      0.00      0.00       1.0\n",
      "        204       0.00      0.00      1.00      0.00      0.00      0.00       1.0\n",
      "        215       0.00      0.00      1.00      0.00      0.00      0.00       1.0\n",
      "        223       0.00      0.00      1.00      0.00      0.00      0.00       1.0\n",
      "        226       0.00      0.00      1.00      0.00      0.00      0.00       1.0\n",
      "        231       0.00      0.00      0.81      0.00      0.00      0.00       0.0\n",
      "        247       0.00      0.00      0.96      0.00      0.00      0.00       0.0\n",
      "        555       0.00      0.00      0.96      0.00      0.00      0.00       0.0\n",
      "        610       0.00      0.00      0.92      0.00      0.00      0.00       0.0\n",
      "        661       0.00      0.00      1.00      0.00      0.00      0.00       1.0\n",
      "        715       0.00      0.00      0.92      0.00      0.00      0.00       0.0\n",
      "        732       0.00      0.00      1.00      0.00      0.00      0.00       1.0\n",
      "        764       0.00      0.00      1.00      0.00      0.00      0.00       1.0\n",
      "        768       0.00      0.00      1.00      0.00      0.00      0.00       1.0\n",
      "        925       0.00      0.00      1.00      0.00      0.00      0.00       1.0\n",
      "        927       0.00      0.00      1.00      0.00      0.00      0.00       1.0\n",
      "        969       0.00      0.00      0.96      0.00      0.00      0.00       0.0\n",
      "      18684       0.00      0.00      0.96      0.00      0.00      0.00       0.0\n",
      "      23021       0.00      0.00      1.00      0.00      0.00      0.00       1.0\n",
      "      23222       0.00      0.00      1.00      0.00      0.00      0.00       1.0\n",
      "      23709       0.00      0.00      0.96      0.00      0.00      0.00       0.0\n",
      "\n",
      "avg / total       0.00      0.00      1.00      0.00      0.00      0.00      26.0\n",
      "\n"
     ]
    }
   ],
   "source": [
    "# Print the imbalanced classification report\n",
    "print(classification_report_imbalanced(y_test, y_pred))"
   ]
  },
  {
   "cell_type": "code",
   "execution_count": null,
   "id": "aa619044",
   "metadata": {},
   "outputs": [],
   "source": []
  }
 ],
 "metadata": {
  "kernelspec": {
   "display_name": "mlenv",
   "language": "python",
   "name": "mlenv"
  },
  "language_info": {
   "codemirror_mode": {
    "name": "ipython",
    "version": 3
   },
   "file_extension": ".py",
   "mimetype": "text/x-python",
   "name": "python",
   "nbconvert_exporter": "python",
   "pygments_lexer": "ipython3",
   "version": "3.7.13"
  }
 },
 "nbformat": 4,
 "nbformat_minor": 5
}
